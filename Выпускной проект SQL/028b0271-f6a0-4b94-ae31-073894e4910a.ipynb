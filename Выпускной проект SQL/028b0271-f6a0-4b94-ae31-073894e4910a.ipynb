{
 "cells": [
  {
   "cell_type": "markdown",
   "metadata": {},
   "source": [
    "<div class=\"alert alert-success\">\n",
    "    \n",
    "**Комментарий ревьюера**\n",
    "\n",
    "Привет. Этот проект тоже проверяю я -Сысоева Вера.\n",
    "    \n",
    "Давай перейдем к финальной точке - проекту по SQl\n",
    "</div>"
   ]
  },
  {
   "cell_type": "code",
   "execution_count": 1,
   "metadata": {},
   "outputs": [],
   "source": [
    "# импортируем библиотеки\n",
    "import pandas as pd\n",
    "from sqlalchemy import text, create_engine"
   ]
  },
  {
   "cell_type": "code",
   "execution_count": 2,
   "metadata": {},
   "outputs": [],
   "source": [
    "# устанавливаем параметры\n",
    "db_config = {'user': 'praktikum_student', # имя пользователя\n",
    "'pwd': 'Sdf4$2;d-d30pp', # пароль\n",
    "'host': 'rc1b-wcoijxj3yxfsf3fs.mdb.yandexcloud.net',\n",
    "'port': 6432, # порт подключения\n",
    "'db': 'data-analyst-final-project-db'} # название базы данных\n",
    "connection_string = 'postgresql://{user}:{pwd}@{host}:{port}/{db}'.format(**db_config)"
   ]
  },
  {
   "cell_type": "code",
   "execution_count": 3,
   "metadata": {},
   "outputs": [],
   "source": [
    "# сохраняем коннектор\n",
    "engine = create_engine(connection_string, connect_args={'sslmode':'require'})"
   ]
  },
  {
   "cell_type": "markdown",
   "metadata": {},
   "source": [
    "<div class=\"alert alert-success\">\n",
    "    \n",
    "**Комментарий ревьюера**\n",
    "\n",
    "Импорт библиотек и подключение к БД лучше делать в разных ячейках кода, это больше соответствует PEP8.\n",
    "</div>"
   ]
  },
  {
   "cell_type": "markdown",
   "metadata": {},
   "source": [
    "# Цели:\n",
    "\n",
    "- Проанализировать базу данных\n",
    "\n",
    "- Помочь стартаперы развивать приложения для чтения книг"
   ]
  },
  {
   "cell_type": "markdown",
   "metadata": {},
   "source": [
    "# Данные о книгах"
   ]
  },
  {
   "cell_type": "code",
   "execution_count": 4,
   "metadata": {},
   "outputs": [
    {
     "data": {
      "text/html": [
       "<div>\n",
       "<style scoped>\n",
       "    .dataframe tbody tr th:only-of-type {\n",
       "        vertical-align: middle;\n",
       "    }\n",
       "\n",
       "    .dataframe tbody tr th {\n",
       "        vertical-align: top;\n",
       "    }\n",
       "\n",
       "    .dataframe thead th {\n",
       "        text-align: right;\n",
       "    }\n",
       "</style>\n",
       "<table border=\"1\" class=\"dataframe\">\n",
       "  <thead>\n",
       "    <tr style=\"text-align: right;\">\n",
       "      <th></th>\n",
       "      <th>book_id</th>\n",
       "      <th>author_id</th>\n",
       "      <th>title</th>\n",
       "      <th>num_pages</th>\n",
       "      <th>publication_date</th>\n",
       "      <th>publisher_id</th>\n",
       "    </tr>\n",
       "  </thead>\n",
       "  <tbody>\n",
       "    <tr>\n",
       "      <th>0</th>\n",
       "      <td>1</td>\n",
       "      <td>546</td>\n",
       "      <td>'Salem's Lot</td>\n",
       "      <td>594</td>\n",
       "      <td>2005-11-01</td>\n",
       "      <td>93</td>\n",
       "    </tr>\n",
       "    <tr>\n",
       "      <th>1</th>\n",
       "      <td>2</td>\n",
       "      <td>465</td>\n",
       "      <td>1 000 Places to See Before You Die</td>\n",
       "      <td>992</td>\n",
       "      <td>2003-05-22</td>\n",
       "      <td>336</td>\n",
       "    </tr>\n",
       "    <tr>\n",
       "      <th>2</th>\n",
       "      <td>3</td>\n",
       "      <td>407</td>\n",
       "      <td>13 Little Blue Envelopes (Little Blue Envelope...</td>\n",
       "      <td>322</td>\n",
       "      <td>2010-12-21</td>\n",
       "      <td>135</td>\n",
       "    </tr>\n",
       "    <tr>\n",
       "      <th>3</th>\n",
       "      <td>4</td>\n",
       "      <td>82</td>\n",
       "      <td>1491: New Revelations of the Americas Before C...</td>\n",
       "      <td>541</td>\n",
       "      <td>2006-10-10</td>\n",
       "      <td>309</td>\n",
       "    </tr>\n",
       "    <tr>\n",
       "      <th>4</th>\n",
       "      <td>5</td>\n",
       "      <td>125</td>\n",
       "      <td>1776</td>\n",
       "      <td>386</td>\n",
       "      <td>2006-07-04</td>\n",
       "      <td>268</td>\n",
       "    </tr>\n",
       "    <tr>\n",
       "      <th>...</th>\n",
       "      <td>...</td>\n",
       "      <td>...</td>\n",
       "      <td>...</td>\n",
       "      <td>...</td>\n",
       "      <td>...</td>\n",
       "      <td>...</td>\n",
       "    </tr>\n",
       "    <tr>\n",
       "      <th>995</th>\n",
       "      <td>996</td>\n",
       "      <td>571</td>\n",
       "      <td>Wyrd Sisters (Discworld  #6; Witches #2)</td>\n",
       "      <td>265</td>\n",
       "      <td>2001-02-06</td>\n",
       "      <td>147</td>\n",
       "    </tr>\n",
       "    <tr>\n",
       "      <th>996</th>\n",
       "      <td>997</td>\n",
       "      <td>454</td>\n",
       "      <td>Xenocide (Ender's Saga  #3)</td>\n",
       "      <td>592</td>\n",
       "      <td>1996-07-15</td>\n",
       "      <td>297</td>\n",
       "    </tr>\n",
       "    <tr>\n",
       "      <th>997</th>\n",
       "      <td>998</td>\n",
       "      <td>201</td>\n",
       "      <td>Year of Wonders</td>\n",
       "      <td>358</td>\n",
       "      <td>2002-04-30</td>\n",
       "      <td>212</td>\n",
       "    </tr>\n",
       "    <tr>\n",
       "      <th>998</th>\n",
       "      <td>999</td>\n",
       "      <td>94</td>\n",
       "      <td>You Suck (A Love Story  #2)</td>\n",
       "      <td>328</td>\n",
       "      <td>2007-01-16</td>\n",
       "      <td>331</td>\n",
       "    </tr>\n",
       "    <tr>\n",
       "      <th>999</th>\n",
       "      <td>1000</td>\n",
       "      <td>509</td>\n",
       "      <td>Zen and the Art of Motorcycle Maintenance: An ...</td>\n",
       "      <td>540</td>\n",
       "      <td>2006-04-25</td>\n",
       "      <td>143</td>\n",
       "    </tr>\n",
       "  </tbody>\n",
       "</table>\n",
       "<p>1000 rows × 6 columns</p>\n",
       "</div>"
      ],
      "text/plain": [
       "     book_id  author_id                                              title  \\\n",
       "0          1        546                                       'Salem's Lot   \n",
       "1          2        465                 1 000 Places to See Before You Die   \n",
       "2          3        407  13 Little Blue Envelopes (Little Blue Envelope...   \n",
       "3          4         82  1491: New Revelations of the Americas Before C...   \n",
       "4          5        125                                               1776   \n",
       "..       ...        ...                                                ...   \n",
       "995      996        571           Wyrd Sisters (Discworld  #6; Witches #2)   \n",
       "996      997        454                        Xenocide (Ender's Saga  #3)   \n",
       "997      998        201                                    Year of Wonders   \n",
       "998      999         94                        You Suck (A Love Story  #2)   \n",
       "999     1000        509  Zen and the Art of Motorcycle Maintenance: An ...   \n",
       "\n",
       "     num_pages publication_date  publisher_id  \n",
       "0          594       2005-11-01            93  \n",
       "1          992       2003-05-22           336  \n",
       "2          322       2010-12-21           135  \n",
       "3          541       2006-10-10           309  \n",
       "4          386       2006-07-04           268  \n",
       "..         ...              ...           ...  \n",
       "995        265       2001-02-06           147  \n",
       "996        592       1996-07-15           297  \n",
       "997        358       2002-04-30           212  \n",
       "998        328       2007-01-16           331  \n",
       "999        540       2006-04-25           143  \n",
       "\n",
       "[1000 rows x 6 columns]"
      ]
     },
     "execution_count": 4,
     "metadata": {},
     "output_type": "execute_result"
    }
   ],
   "source": [
    "query = '''SELECT * FROM books'''\n",
    "con=engine.connect()\n",
    "pd.io.sql.read_sql(sql=text(query), con = con)\n"
   ]
  },
  {
   "cell_type": "markdown",
   "metadata": {},
   "source": [
    "**Талбица books содержит 1000 строк и 6 столбцов**\n",
    "\n",
    "**Вней хранится информация о книгах:**\n",
    "\n",
    "- book_id — идентификатор книги;\n",
    "\n",
    "- author_id — идентификатор автора;\n",
    "\n",
    "- title — название книги;\n",
    "\n",
    "- num_pages — количество страниц;\n",
    "\n",
    "- publication_date — дата публикации книги;\n",
    "\n",
    "- publisher_id — идентификатор издателя"
   ]
  },
  {
   "cell_type": "markdown",
   "metadata": {},
   "source": [
    "# Данные об авторах"
   ]
  },
  {
   "cell_type": "code",
   "execution_count": 5,
   "metadata": {},
   "outputs": [
    {
     "data": {
      "text/html": [
       "<div>\n",
       "<style scoped>\n",
       "    .dataframe tbody tr th:only-of-type {\n",
       "        vertical-align: middle;\n",
       "    }\n",
       "\n",
       "    .dataframe tbody tr th {\n",
       "        vertical-align: top;\n",
       "    }\n",
       "\n",
       "    .dataframe thead th {\n",
       "        text-align: right;\n",
       "    }\n",
       "</style>\n",
       "<table border=\"1\" class=\"dataframe\">\n",
       "  <thead>\n",
       "    <tr style=\"text-align: right;\">\n",
       "      <th></th>\n",
       "      <th>author_id</th>\n",
       "      <th>author</th>\n",
       "    </tr>\n",
       "  </thead>\n",
       "  <tbody>\n",
       "    <tr>\n",
       "      <th>0</th>\n",
       "      <td>1</td>\n",
       "      <td>A.S. Byatt</td>\n",
       "    </tr>\n",
       "    <tr>\n",
       "      <th>1</th>\n",
       "      <td>2</td>\n",
       "      <td>Aesop/Laura Harris/Laura Gibbs</td>\n",
       "    </tr>\n",
       "    <tr>\n",
       "      <th>2</th>\n",
       "      <td>3</td>\n",
       "      <td>Agatha Christie</td>\n",
       "    </tr>\n",
       "    <tr>\n",
       "      <th>3</th>\n",
       "      <td>4</td>\n",
       "      <td>Alan Brennert</td>\n",
       "    </tr>\n",
       "    <tr>\n",
       "      <th>4</th>\n",
       "      <td>5</td>\n",
       "      <td>Alan Moore/David   Lloyd</td>\n",
       "    </tr>\n",
       "    <tr>\n",
       "      <th>...</th>\n",
       "      <td>...</td>\n",
       "      <td>...</td>\n",
       "    </tr>\n",
       "    <tr>\n",
       "      <th>631</th>\n",
       "      <td>632</td>\n",
       "      <td>William Strunk Jr./E.B. White</td>\n",
       "    </tr>\n",
       "    <tr>\n",
       "      <th>632</th>\n",
       "      <td>633</td>\n",
       "      <td>Zadie Smith</td>\n",
       "    </tr>\n",
       "    <tr>\n",
       "      <th>633</th>\n",
       "      <td>634</td>\n",
       "      <td>Zilpha Keatley Snyder</td>\n",
       "    </tr>\n",
       "    <tr>\n",
       "      <th>634</th>\n",
       "      <td>635</td>\n",
       "      <td>Zora Neale Hurston</td>\n",
       "    </tr>\n",
       "    <tr>\n",
       "      <th>635</th>\n",
       "      <td>636</td>\n",
       "      <td>Åsne Seierstad/Ingrid Christopherson</td>\n",
       "    </tr>\n",
       "  </tbody>\n",
       "</table>\n",
       "<p>636 rows × 2 columns</p>\n",
       "</div>"
      ],
      "text/plain": [
       "     author_id                                author\n",
       "0            1                            A.S. Byatt\n",
       "1            2        Aesop/Laura Harris/Laura Gibbs\n",
       "2            3                       Agatha Christie\n",
       "3            4                         Alan Brennert\n",
       "4            5              Alan Moore/David   Lloyd\n",
       "..         ...                                   ...\n",
       "631        632         William Strunk Jr./E.B. White\n",
       "632        633                           Zadie Smith\n",
       "633        634                 Zilpha Keatley Snyder\n",
       "634        635                    Zora Neale Hurston\n",
       "635        636  Åsne Seierstad/Ingrid Christopherson\n",
       "\n",
       "[636 rows x 2 columns]"
      ]
     },
     "execution_count": 5,
     "metadata": {},
     "output_type": "execute_result"
    }
   ],
   "source": [
    "query = '''SELECT * \n",
    "           FROM authors \n",
    "           '''\n",
    "con=engine.connect()\n",
    "pd.io.sql.read_sql(sql=text(query), con = con)"
   ]
  },
  {
   "cell_type": "markdown",
   "metadata": {},
   "source": [
    "**Всего в таблице 636 автора чьи имена хранятся в столбце author**"
   ]
  },
  {
   "cell_type": "markdown",
   "metadata": {},
   "source": [
    "# Данные о пользовательских оценках книг"
   ]
  },
  {
   "cell_type": "code",
   "execution_count": 6,
   "metadata": {},
   "outputs": [
    {
     "data": {
      "text/html": [
       "<div>\n",
       "<style scoped>\n",
       "    .dataframe tbody tr th:only-of-type {\n",
       "        vertical-align: middle;\n",
       "    }\n",
       "\n",
       "    .dataframe tbody tr th {\n",
       "        vertical-align: top;\n",
       "    }\n",
       "\n",
       "    .dataframe thead th {\n",
       "        text-align: right;\n",
       "    }\n",
       "</style>\n",
       "<table border=\"1\" class=\"dataframe\">\n",
       "  <thead>\n",
       "    <tr style=\"text-align: right;\">\n",
       "      <th></th>\n",
       "      <th>rating_id</th>\n",
       "      <th>book_id</th>\n",
       "      <th>username</th>\n",
       "      <th>rating</th>\n",
       "    </tr>\n",
       "  </thead>\n",
       "  <tbody>\n",
       "    <tr>\n",
       "      <th>0</th>\n",
       "      <td>1</td>\n",
       "      <td>1</td>\n",
       "      <td>ryanfranco</td>\n",
       "      <td>4</td>\n",
       "    </tr>\n",
       "    <tr>\n",
       "      <th>1</th>\n",
       "      <td>2</td>\n",
       "      <td>1</td>\n",
       "      <td>grantpatricia</td>\n",
       "      <td>2</td>\n",
       "    </tr>\n",
       "    <tr>\n",
       "      <th>2</th>\n",
       "      <td>3</td>\n",
       "      <td>1</td>\n",
       "      <td>brandtandrea</td>\n",
       "      <td>5</td>\n",
       "    </tr>\n",
       "    <tr>\n",
       "      <th>3</th>\n",
       "      <td>4</td>\n",
       "      <td>2</td>\n",
       "      <td>lorichen</td>\n",
       "      <td>3</td>\n",
       "    </tr>\n",
       "    <tr>\n",
       "      <th>4</th>\n",
       "      <td>5</td>\n",
       "      <td>2</td>\n",
       "      <td>mariokeller</td>\n",
       "      <td>2</td>\n",
       "    </tr>\n",
       "    <tr>\n",
       "      <th>...</th>\n",
       "      <td>...</td>\n",
       "      <td>...</td>\n",
       "      <td>...</td>\n",
       "      <td>...</td>\n",
       "    </tr>\n",
       "    <tr>\n",
       "      <th>6451</th>\n",
       "      <td>6452</td>\n",
       "      <td>1000</td>\n",
       "      <td>carolrodriguez</td>\n",
       "      <td>4</td>\n",
       "    </tr>\n",
       "    <tr>\n",
       "      <th>6452</th>\n",
       "      <td>6453</td>\n",
       "      <td>1000</td>\n",
       "      <td>wendy18</td>\n",
       "      <td>4</td>\n",
       "    </tr>\n",
       "    <tr>\n",
       "      <th>6453</th>\n",
       "      <td>6454</td>\n",
       "      <td>1000</td>\n",
       "      <td>jarvispaul</td>\n",
       "      <td>5</td>\n",
       "    </tr>\n",
       "    <tr>\n",
       "      <th>6454</th>\n",
       "      <td>6455</td>\n",
       "      <td>1000</td>\n",
       "      <td>zross</td>\n",
       "      <td>2</td>\n",
       "    </tr>\n",
       "    <tr>\n",
       "      <th>6455</th>\n",
       "      <td>6456</td>\n",
       "      <td>1000</td>\n",
       "      <td>fharris</td>\n",
       "      <td>5</td>\n",
       "    </tr>\n",
       "  </tbody>\n",
       "</table>\n",
       "<p>6456 rows × 4 columns</p>\n",
       "</div>"
      ],
      "text/plain": [
       "      rating_id  book_id        username  rating\n",
       "0             1        1      ryanfranco       4\n",
       "1             2        1   grantpatricia       2\n",
       "2             3        1    brandtandrea       5\n",
       "3             4        2        lorichen       3\n",
       "4             5        2     mariokeller       2\n",
       "...         ...      ...             ...     ...\n",
       "6451       6452     1000  carolrodriguez       4\n",
       "6452       6453     1000         wendy18       4\n",
       "6453       6454     1000      jarvispaul       5\n",
       "6454       6455     1000           zross       2\n",
       "6455       6456     1000         fharris       5\n",
       "\n",
       "[6456 rows x 4 columns]"
      ]
     },
     "execution_count": 6,
     "metadata": {},
     "output_type": "execute_result"
    }
   ],
   "source": [
    "query = '''SELECT * \n",
    "           FROM ratings \n",
    "           '''\n",
    "con=engine.connect()\n",
    "pd.io.sql.read_sql(sql=text(query), con = con)"
   ]
  },
  {
   "cell_type": "markdown",
   "metadata": {},
   "source": [
    "**Таблица ratings состоит из 6456 строк и 4 стоблца:**\n",
    "\n",
    "- rating_id — идентификатор оценки;\n",
    "\n",
    "- book_id — идентификатор книги;\n",
    "\n",
    "- username — имя пользователя, оставившего оценку;\n",
    "\n",
    "- rating — оценка книги"
   ]
  },
  {
   "cell_type": "markdown",
   "metadata": {},
   "source": [
    "# Данные о пользовательских обзорах"
   ]
  },
  {
   "cell_type": "code",
   "execution_count": 7,
   "metadata": {},
   "outputs": [
    {
     "data": {
      "text/html": [
       "<div>\n",
       "<style scoped>\n",
       "    .dataframe tbody tr th:only-of-type {\n",
       "        vertical-align: middle;\n",
       "    }\n",
       "\n",
       "    .dataframe tbody tr th {\n",
       "        vertical-align: top;\n",
       "    }\n",
       "\n",
       "    .dataframe thead th {\n",
       "        text-align: right;\n",
       "    }\n",
       "</style>\n",
       "<table border=\"1\" class=\"dataframe\">\n",
       "  <thead>\n",
       "    <tr style=\"text-align: right;\">\n",
       "      <th></th>\n",
       "      <th>review_id</th>\n",
       "      <th>book_id</th>\n",
       "      <th>username</th>\n",
       "      <th>text</th>\n",
       "    </tr>\n",
       "  </thead>\n",
       "  <tbody>\n",
       "    <tr>\n",
       "      <th>0</th>\n",
       "      <td>1</td>\n",
       "      <td>1</td>\n",
       "      <td>brandtandrea</td>\n",
       "      <td>Mention society tell send professor analysis. ...</td>\n",
       "    </tr>\n",
       "    <tr>\n",
       "      <th>1</th>\n",
       "      <td>2</td>\n",
       "      <td>1</td>\n",
       "      <td>ryanfranco</td>\n",
       "      <td>Foot glass pretty audience hit themselves. Amo...</td>\n",
       "    </tr>\n",
       "    <tr>\n",
       "      <th>2</th>\n",
       "      <td>3</td>\n",
       "      <td>2</td>\n",
       "      <td>lorichen</td>\n",
       "      <td>Listen treat keep worry. Miss husband tax but ...</td>\n",
       "    </tr>\n",
       "    <tr>\n",
       "      <th>3</th>\n",
       "      <td>4</td>\n",
       "      <td>3</td>\n",
       "      <td>johnsonamanda</td>\n",
       "      <td>Finally month interesting blue could nature cu...</td>\n",
       "    </tr>\n",
       "    <tr>\n",
       "      <th>4</th>\n",
       "      <td>5</td>\n",
       "      <td>3</td>\n",
       "      <td>scotttamara</td>\n",
       "      <td>Nation purpose heavy give wait song will. List...</td>\n",
       "    </tr>\n",
       "    <tr>\n",
       "      <th>...</th>\n",
       "      <td>...</td>\n",
       "      <td>...</td>\n",
       "      <td>...</td>\n",
       "      <td>...</td>\n",
       "    </tr>\n",
       "    <tr>\n",
       "      <th>2788</th>\n",
       "      <td>2789</td>\n",
       "      <td>999</td>\n",
       "      <td>martinadam</td>\n",
       "      <td>Later hospital turn easy community. Fact same ...</td>\n",
       "    </tr>\n",
       "    <tr>\n",
       "      <th>2789</th>\n",
       "      <td>2790</td>\n",
       "      <td>1000</td>\n",
       "      <td>wknight</td>\n",
       "      <td>Change lose answer close pressure. Spend so now.</td>\n",
       "    </tr>\n",
       "    <tr>\n",
       "      <th>2790</th>\n",
       "      <td>2791</td>\n",
       "      <td>1000</td>\n",
       "      <td>carolrodriguez</td>\n",
       "      <td>Authority go who television entire hair guy po...</td>\n",
       "    </tr>\n",
       "    <tr>\n",
       "      <th>2791</th>\n",
       "      <td>2792</td>\n",
       "      <td>1000</td>\n",
       "      <td>wendy18</td>\n",
       "      <td>Or western offer wonder ask. More hear phone f...</td>\n",
       "    </tr>\n",
       "    <tr>\n",
       "      <th>2792</th>\n",
       "      <td>2793</td>\n",
       "      <td>1000</td>\n",
       "      <td>jarvispaul</td>\n",
       "      <td>Republican staff bit eat material measure plan...</td>\n",
       "    </tr>\n",
       "  </tbody>\n",
       "</table>\n",
       "<p>2793 rows × 4 columns</p>\n",
       "</div>"
      ],
      "text/plain": [
       "      review_id  book_id        username  \\\n",
       "0             1        1    brandtandrea   \n",
       "1             2        1      ryanfranco   \n",
       "2             3        2        lorichen   \n",
       "3             4        3   johnsonamanda   \n",
       "4             5        3     scotttamara   \n",
       "...         ...      ...             ...   \n",
       "2788       2789      999      martinadam   \n",
       "2789       2790     1000         wknight   \n",
       "2790       2791     1000  carolrodriguez   \n",
       "2791       2792     1000         wendy18   \n",
       "2792       2793     1000      jarvispaul   \n",
       "\n",
       "                                                   text  \n",
       "0     Mention society tell send professor analysis. ...  \n",
       "1     Foot glass pretty audience hit themselves. Amo...  \n",
       "2     Listen treat keep worry. Miss husband tax but ...  \n",
       "3     Finally month interesting blue could nature cu...  \n",
       "4     Nation purpose heavy give wait song will. List...  \n",
       "...                                                 ...  \n",
       "2788  Later hospital turn easy community. Fact same ...  \n",
       "2789   Change lose answer close pressure. Spend so now.  \n",
       "2790  Authority go who television entire hair guy po...  \n",
       "2791  Or western offer wonder ask. More hear phone f...  \n",
       "2792  Republican staff bit eat material measure plan...  \n",
       "\n",
       "[2793 rows x 4 columns]"
      ]
     },
     "execution_count": 7,
     "metadata": {},
     "output_type": "execute_result"
    }
   ],
   "source": [
    "query = '''SELECT * \n",
    "           FROM reviews \n",
    "           '''\n",
    "con=engine.connect()\n",
    "pd.io.sql.read_sql(sql=text(query), con = con)"
   ]
  },
  {
   "cell_type": "markdown",
   "metadata": {},
   "source": [
    "**Таблица reviews содержит информацию состоящую из следующих столбцов:**\n",
    "\n",
    "\n",
    "- review_id — идентификатор обзора;\n",
    "\n",
    "- book_id — идентификатор книги;\n",
    "\n",
    "- username — имя автора обзора;\n",
    "\n",
    "- text — текст обзора\n"
   ]
  },
  {
   "cell_type": "markdown",
   "metadata": {},
   "source": [
    "# Данные об издательствах"
   ]
  },
  {
   "cell_type": "code",
   "execution_count": 8,
   "metadata": {},
   "outputs": [
    {
     "data": {
      "text/html": [
       "<div>\n",
       "<style scoped>\n",
       "    .dataframe tbody tr th:only-of-type {\n",
       "        vertical-align: middle;\n",
       "    }\n",
       "\n",
       "    .dataframe tbody tr th {\n",
       "        vertical-align: top;\n",
       "    }\n",
       "\n",
       "    .dataframe thead th {\n",
       "        text-align: right;\n",
       "    }\n",
       "</style>\n",
       "<table border=\"1\" class=\"dataframe\">\n",
       "  <thead>\n",
       "    <tr style=\"text-align: right;\">\n",
       "      <th></th>\n",
       "      <th>publisher_id</th>\n",
       "      <th>publisher</th>\n",
       "    </tr>\n",
       "  </thead>\n",
       "  <tbody>\n",
       "    <tr>\n",
       "      <th>0</th>\n",
       "      <td>1</td>\n",
       "      <td>Ace</td>\n",
       "    </tr>\n",
       "    <tr>\n",
       "      <th>1</th>\n",
       "      <td>2</td>\n",
       "      <td>Ace Book</td>\n",
       "    </tr>\n",
       "    <tr>\n",
       "      <th>2</th>\n",
       "      <td>3</td>\n",
       "      <td>Ace Books</td>\n",
       "    </tr>\n",
       "    <tr>\n",
       "      <th>3</th>\n",
       "      <td>4</td>\n",
       "      <td>Ace Hardcover</td>\n",
       "    </tr>\n",
       "    <tr>\n",
       "      <th>4</th>\n",
       "      <td>5</td>\n",
       "      <td>Addison Wesley Publishing Company</td>\n",
       "    </tr>\n",
       "    <tr>\n",
       "      <th>...</th>\n",
       "      <td>...</td>\n",
       "      <td>...</td>\n",
       "    </tr>\n",
       "    <tr>\n",
       "      <th>335</th>\n",
       "      <td>336</td>\n",
       "      <td>Workman Publishing Company</td>\n",
       "    </tr>\n",
       "    <tr>\n",
       "      <th>336</th>\n",
       "      <td>337</td>\n",
       "      <td>Wyatt Book</td>\n",
       "    </tr>\n",
       "    <tr>\n",
       "      <th>337</th>\n",
       "      <td>338</td>\n",
       "      <td>Yale University Press</td>\n",
       "    </tr>\n",
       "    <tr>\n",
       "      <th>338</th>\n",
       "      <td>339</td>\n",
       "      <td>Yearling</td>\n",
       "    </tr>\n",
       "    <tr>\n",
       "      <th>339</th>\n",
       "      <td>340</td>\n",
       "      <td>Yearling Books</td>\n",
       "    </tr>\n",
       "  </tbody>\n",
       "</table>\n",
       "<p>340 rows × 2 columns</p>\n",
       "</div>"
      ],
      "text/plain": [
       "     publisher_id                          publisher\n",
       "0               1                                Ace\n",
       "1               2                           Ace Book\n",
       "2               3                          Ace Books\n",
       "3               4                      Ace Hardcover\n",
       "4               5  Addison Wesley Publishing Company\n",
       "..            ...                                ...\n",
       "335           336         Workman Publishing Company\n",
       "336           337                         Wyatt Book\n",
       "337           338              Yale University Press\n",
       "338           339                           Yearling\n",
       "339           340                     Yearling Books\n",
       "\n",
       "[340 rows x 2 columns]"
      ]
     },
     "execution_count": 8,
     "metadata": {},
     "output_type": "execute_result"
    }
   ],
   "source": [
    "query = '''SELECT * \n",
    "           FROM publishers \n",
    "           '''\n",
    "con=engine.connect()\n",
    "pd.io.sql.read_sql(sql=text(query), con = con)"
   ]
  },
  {
   "cell_type": "markdown",
   "metadata": {},
   "source": [
    "**Всего в таблице два столбца с publisher_id — идентификатор издательства и publisher — название издательства**"
   ]
  },
  {
   "cell_type": "markdown",
   "metadata": {},
   "source": [
    "<div class=\"alert alert-success\">\n",
    "    \n",
    "**Комментарий ревьюера**\n",
    "\n",
    "**#ок**\n",
    "\n",
    "Ты верно посмотрел содержимое таблиц. Но здесь дополнительно можно было провести стандартный анализ, проверить пропуски, дубликаты и.т.п.\n",
    "</div>"
   ]
  },
  {
   "cell_type": "markdown",
   "metadata": {},
   "source": [
    "# Книги вышедшие после 01.01.2000"
   ]
  },
  {
   "cell_type": "code",
   "execution_count": 9,
   "metadata": {},
   "outputs": [
    {
     "data": {
      "text/html": [
       "<div>\n",
       "<style scoped>\n",
       "    .dataframe tbody tr th:only-of-type {\n",
       "        vertical-align: middle;\n",
       "    }\n",
       "\n",
       "    .dataframe tbody tr th {\n",
       "        vertical-align: top;\n",
       "    }\n",
       "\n",
       "    .dataframe thead th {\n",
       "        text-align: right;\n",
       "    }\n",
       "</style>\n",
       "<table border=\"1\" class=\"dataframe\">\n",
       "  <thead>\n",
       "    <tr style=\"text-align: right;\">\n",
       "      <th></th>\n",
       "      <th>count</th>\n",
       "    </tr>\n",
       "  </thead>\n",
       "  <tbody>\n",
       "    <tr>\n",
       "      <th>0</th>\n",
       "      <td>819</td>\n",
       "    </tr>\n",
       "  </tbody>\n",
       "</table>\n",
       "</div>"
      ],
      "text/plain": [
       "   count\n",
       "0    819"
      ]
     },
     "execution_count": 9,
     "metadata": {},
     "output_type": "execute_result"
    }
   ],
   "source": [
    "query = '''SELECT count(book_id )\n",
    "           FROM books \n",
    "           WHERE publication_date > '2000-01-01'\n",
    "           '''\n",
    "con=engine.connect()\n",
    "pd.io.sql.read_sql(sql=text(query), con = con)"
   ]
  },
  {
   "cell_type": "markdown",
   "metadata": {},
   "source": [
    "**В таблице books была информация о 1000 книгах , и как мы видим из 1000 книг 819 были выпущенны после 01.01.2000**"
   ]
  },
  {
   "cell_type": "markdown",
   "metadata": {},
   "source": [
    "<div class=\"alert alert-success\">\n",
    "    \n",
    "**Комментарий ревьюера**\n",
    "\n",
    "**#ок**\n",
    "\n",
    "Верно\n",
    "</div>"
   ]
  },
  {
   "cell_type": "markdown",
   "metadata": {},
   "source": [
    "# Для каждой книги посчитайте количество обзоров и среднюю оценку"
   ]
  },
  {
   "cell_type": "code",
   "execution_count": 10,
   "metadata": {},
   "outputs": [
    {
     "data": {
      "text/html": [
       "<div>\n",
       "<style scoped>\n",
       "    .dataframe tbody tr th:only-of-type {\n",
       "        vertical-align: middle;\n",
       "    }\n",
       "\n",
       "    .dataframe tbody tr th {\n",
       "        vertical-align: top;\n",
       "    }\n",
       "\n",
       "    .dataframe thead th {\n",
       "        text-align: right;\n",
       "    }\n",
       "</style>\n",
       "<table border=\"1\" class=\"dataframe\">\n",
       "  <thead>\n",
       "    <tr style=\"text-align: right;\">\n",
       "      <th></th>\n",
       "      <th>title</th>\n",
       "      <th>book_id</th>\n",
       "      <th>count_review</th>\n",
       "      <th>avg_rating</th>\n",
       "    </tr>\n",
       "  </thead>\n",
       "  <tbody>\n",
       "    <tr>\n",
       "      <th>0</th>\n",
       "      <td>Twilight (Twilight  #1)</td>\n",
       "      <td>948</td>\n",
       "      <td>7</td>\n",
       "      <td>3.66</td>\n",
       "    </tr>\n",
       "    <tr>\n",
       "      <th>1</th>\n",
       "      <td>The Road</td>\n",
       "      <td>854</td>\n",
       "      <td>6</td>\n",
       "      <td>3.77</td>\n",
       "    </tr>\n",
       "    <tr>\n",
       "      <th>2</th>\n",
       "      <td>The Book Thief</td>\n",
       "      <td>656</td>\n",
       "      <td>6</td>\n",
       "      <td>4.26</td>\n",
       "    </tr>\n",
       "    <tr>\n",
       "      <th>3</th>\n",
       "      <td>The Glass Castle</td>\n",
       "      <td>734</td>\n",
       "      <td>6</td>\n",
       "      <td>4.21</td>\n",
       "    </tr>\n",
       "    <tr>\n",
       "      <th>4</th>\n",
       "      <td>Water for Elephants</td>\n",
       "      <td>963</td>\n",
       "      <td>6</td>\n",
       "      <td>3.98</td>\n",
       "    </tr>\n",
       "    <tr>\n",
       "      <th>...</th>\n",
       "      <td>...</td>\n",
       "      <td>...</td>\n",
       "      <td>...</td>\n",
       "      <td>...</td>\n",
       "    </tr>\n",
       "    <tr>\n",
       "      <th>989</th>\n",
       "      <td>Naked Empire (Sword of Truth  #8)</td>\n",
       "      <td>465</td>\n",
       "      <td>1</td>\n",
       "      <td>3.50</td>\n",
       "    </tr>\n",
       "    <tr>\n",
       "      <th>990</th>\n",
       "      <td>Moo  Baa  La La La!</td>\n",
       "      <td>446</td>\n",
       "      <td>1</td>\n",
       "      <td>3.00</td>\n",
       "    </tr>\n",
       "    <tr>\n",
       "      <th>991</th>\n",
       "      <td>Merrick (The Vampire Chronicles #7)</td>\n",
       "      <td>431</td>\n",
       "      <td>1</td>\n",
       "      <td>4.00</td>\n",
       "    </tr>\n",
       "    <tr>\n",
       "      <th>992</th>\n",
       "      <td>Babyville</td>\n",
       "      <td>92</td>\n",
       "      <td>1</td>\n",
       "      <td>3.50</td>\n",
       "    </tr>\n",
       "    <tr>\n",
       "      <th>993</th>\n",
       "      <td>Lysistrata</td>\n",
       "      <td>413</td>\n",
       "      <td>1</td>\n",
       "      <td>4.00</td>\n",
       "    </tr>\n",
       "  </tbody>\n",
       "</table>\n",
       "<p>994 rows × 4 columns</p>\n",
       "</div>"
      ],
      "text/plain": [
       "                                   title  book_id  count_review  avg_rating\n",
       "0                Twilight (Twilight  #1)      948             7        3.66\n",
       "1                               The Road      854             6        3.77\n",
       "2                         The Book Thief      656             6        4.26\n",
       "3                       The Glass Castle      734             6        4.21\n",
       "4                    Water for Elephants      963             6        3.98\n",
       "..                                   ...      ...           ...         ...\n",
       "989    Naked Empire (Sword of Truth  #8)      465             1        3.50\n",
       "990                  Moo  Baa  La La La!      446             1        3.00\n",
       "991  Merrick (The Vampire Chronicles #7)      431             1        4.00\n",
       "992                            Babyville       92             1        3.50\n",
       "993                           Lysistrata      413             1        4.00\n",
       "\n",
       "[994 rows x 4 columns]"
      ]
     },
     "execution_count": 10,
     "metadata": {},
     "output_type": "execute_result"
    }
   ],
   "source": [
    "query = '''SELECT b.title ,b.book_id ,\n",
    "           COUNT(distinct r.review_id) as count_review, \n",
    "           ROUND(AVG(rat.rating) ,2 )as avg_rating\n",
    "           FROM books as b\n",
    "           JOIN reviews as r on b.book_id=r.book_id\n",
    "           JOIN ratings as rat on r.book_id=rat.book_id\n",
    "           GROUP BY  b.title , b.book_id\n",
    "           ORDER BY  COUNT(distinct r.review_id) desc\n",
    "           \n",
    "           \n",
    "           '''\n",
    "con=engine.connect()\n",
    "pd.io.sql.read_sql(sql=text(query), con = con)"
   ]
  },
  {
   "cell_type": "code",
   "execution_count": 11,
   "metadata": {},
   "outputs": [
    {
     "data": {
      "text/html": [
       "<div>\n",
       "<style scoped>\n",
       "    .dataframe tbody tr th:only-of-type {\n",
       "        vertical-align: middle;\n",
       "    }\n",
       "\n",
       "    .dataframe tbody tr th {\n",
       "        vertical-align: top;\n",
       "    }\n",
       "\n",
       "    .dataframe thead th {\n",
       "        text-align: right;\n",
       "    }\n",
       "</style>\n",
       "<table border=\"1\" class=\"dataframe\">\n",
       "  <thead>\n",
       "    <tr style=\"text-align: right;\">\n",
       "      <th></th>\n",
       "      <th>title</th>\n",
       "      <th>book_id</th>\n",
       "      <th>count_review</th>\n",
       "      <th>avg_rating</th>\n",
       "    </tr>\n",
       "  </thead>\n",
       "  <tbody>\n",
       "    <tr>\n",
       "      <th>0</th>\n",
       "      <td>Anne Rice's The Vampire Lestat: A Graphic Novel</td>\n",
       "      <td>83</td>\n",
       "      <td>0</td>\n",
       "      <td>None</td>\n",
       "    </tr>\n",
       "    <tr>\n",
       "      <th>1</th>\n",
       "      <td>Disney's Beauty and the Beast (A Little Golden...</td>\n",
       "      <td>191</td>\n",
       "      <td>0</td>\n",
       "      <td>None</td>\n",
       "    </tr>\n",
       "    <tr>\n",
       "      <th>2</th>\n",
       "      <td>Essential Tales and Poems</td>\n",
       "      <td>221</td>\n",
       "      <td>0</td>\n",
       "      <td>None</td>\n",
       "    </tr>\n",
       "    <tr>\n",
       "      <th>3</th>\n",
       "      <td>Leonardo's Notebooks</td>\n",
       "      <td>387</td>\n",
       "      <td>0</td>\n",
       "      <td>None</td>\n",
       "    </tr>\n",
       "    <tr>\n",
       "      <th>4</th>\n",
       "      <td>The Cat in the Hat and Other Dr. Seuss Favorites</td>\n",
       "      <td>672</td>\n",
       "      <td>0</td>\n",
       "      <td>None</td>\n",
       "    </tr>\n",
       "    <tr>\n",
       "      <th>5</th>\n",
       "      <td>The Natural Way to Draw</td>\n",
       "      <td>808</td>\n",
       "      <td>0</td>\n",
       "      <td>None</td>\n",
       "    </tr>\n",
       "  </tbody>\n",
       "</table>\n",
       "</div>"
      ],
      "text/plain": [
       "                                               title  book_id  count_review  \\\n",
       "0    Anne Rice's The Vampire Lestat: A Graphic Novel       83             0   \n",
       "1  Disney's Beauty and the Beast (A Little Golden...      191             0   \n",
       "2                          Essential Tales and Poems      221             0   \n",
       "3                               Leonardo's Notebooks      387             0   \n",
       "4   The Cat in the Hat and Other Dr. Seuss Favorites      672             0   \n",
       "5                            The Natural Way to Draw      808             0   \n",
       "\n",
       "  avg_rating  \n",
       "0       None  \n",
       "1       None  \n",
       "2       None  \n",
       "3       None  \n",
       "4       None  \n",
       "5       None  "
      ]
     },
     "execution_count": 11,
     "metadata": {},
     "output_type": "execute_result"
    }
   ],
   "source": [
    "query = '''SELECT b.title ,b.book_id, count(distinct r.review_id) as count_review, avg(rat.rating) as avg_rating\n",
    "           FROM books as b\n",
    "           left join reviews as r on b.book_id=r.book_id\n",
    "           left join ratings as rat on r.book_id=rat.book_id\n",
    "           group by b.title ,b.book_id\n",
    "           having avg(rat.rating) is null\n",
    "           order by count(distinct r.review_id) desc\n",
    "           \n",
    "           \n",
    "           '''\n",
    "con=engine.connect()\n",
    "pd.io.sql.read_sql(sql=text(query), con = con)"
   ]
  },
  {
   "cell_type": "markdown",
   "metadata": {},
   "source": [
    "**43 книги имеют оценку 5 , но при это имеют не больше 4 обзора. Больше всего обзоров на книгу Twilight (Twilight #1) со средней оценкой 3.66. Стоит также отметить , что 6 книг не получили обзоров и оценок**"
   ]
  },
  {
   "cell_type": "raw",
   "metadata": {},
   "source": []
  },
  {
   "cell_type": "markdown",
   "metadata": {},
   "source": [
    "<div class=\"alert alert-success\">\n",
    "    \n",
    "**Комментарий ревьюера**\n",
    "\n",
    "**#ок**\n",
    "\n",
    "Хорошо, но стоило одну общую таблицу сделать, включив в том числе и книги без обзоров.\n",
    "</div>"
   ]
  },
  {
   "cell_type": "markdown",
   "metadata": {},
   "source": [
    "# Определите издательство, которое выпустило наибольшее число книг толще 50 страниц "
   ]
  },
  {
   "cell_type": "code",
   "execution_count": 12,
   "metadata": {},
   "outputs": [
    {
     "data": {
      "text/html": [
       "<div>\n",
       "<style scoped>\n",
       "    .dataframe tbody tr th:only-of-type {\n",
       "        vertical-align: middle;\n",
       "    }\n",
       "\n",
       "    .dataframe tbody tr th {\n",
       "        vertical-align: top;\n",
       "    }\n",
       "\n",
       "    .dataframe thead th {\n",
       "        text-align: right;\n",
       "    }\n",
       "</style>\n",
       "<table border=\"1\" class=\"dataframe\">\n",
       "  <thead>\n",
       "    <tr style=\"text-align: right;\">\n",
       "      <th></th>\n",
       "      <th>publisher</th>\n",
       "      <th>count</th>\n",
       "    </tr>\n",
       "  </thead>\n",
       "  <tbody>\n",
       "    <tr>\n",
       "      <th>0</th>\n",
       "      <td>Penguin Books</td>\n",
       "      <td>42</td>\n",
       "    </tr>\n",
       "  </tbody>\n",
       "</table>\n",
       "</div>"
      ],
      "text/plain": [
       "       publisher  count\n",
       "0  Penguin Books     42"
      ]
     },
     "execution_count": 12,
     "metadata": {},
     "output_type": "execute_result"
    }
   ],
   "source": [
    "query = ''' SELECT p.publisher,COUNT(b.book_id) \n",
    "            FROM books as b\n",
    "            JOIN publishers as p  on b.publisher_id=p.publisher_id\n",
    "            WHERE b.num_pages > 50\n",
    "            GROUP BY   p.publisher\n",
    "            ORDER BY count(b.book_id) desc\n",
    "            LIMIT 1\n",
    "           \n",
    "           '''\n",
    "con=engine.connect()\n",
    "pd.io.sql.read_sql(sql=text(query), con = con)"
   ]
  },
  {
   "cell_type": "markdown",
   "metadata": {},
   "source": [
    "**Больше всего книг толщиной более 50 страниц выпустило издательство Penguin Books. Таких книг было 42**"
   ]
  },
  {
   "cell_type": "markdown",
   "metadata": {},
   "source": [
    "<div class=\"alert alert-success\">\n",
    "    \n",
    "**Комментарий ревьюера**\n",
    "\n",
    "**#ок**\n",
    "\n",
    "Да, издатель получен верно\n",
    "</div>"
   ]
  },
  {
   "cell_type": "markdown",
   "metadata": {},
   "source": [
    "# Определите автора с самой высокой средней оценкой книг — учитывайте только книги с 50 и более оценками"
   ]
  },
  {
   "cell_type": "code",
   "execution_count": 15,
   "metadata": {},
   "outputs": [
    {
     "data": {
      "text/html": [
       "<div>\n",
       "<style scoped>\n",
       "    .dataframe tbody tr th:only-of-type {\n",
       "        vertical-align: middle;\n",
       "    }\n",
       "\n",
       "    .dataframe tbody tr th {\n",
       "        vertical-align: top;\n",
       "    }\n",
       "\n",
       "    .dataframe thead th {\n",
       "        text-align: right;\n",
       "    }\n",
       "</style>\n",
       "<table border=\"1\" class=\"dataframe\">\n",
       "  <thead>\n",
       "    <tr style=\"text-align: right;\">\n",
       "      <th></th>\n",
       "      <th>author</th>\n",
       "      <th>avg_rating</th>\n",
       "    </tr>\n",
       "  </thead>\n",
       "  <tbody>\n",
       "    <tr>\n",
       "      <th>0</th>\n",
       "      <td>J.K. Rowling/Mary GrandPré</td>\n",
       "      <td>4.29</td>\n",
       "    </tr>\n",
       "  </tbody>\n",
       "</table>\n",
       "</div>"
      ],
      "text/plain": [
       "                       author  avg_rating\n",
       "0  J.K. Rowling/Mary GrandPré        4.29"
      ]
     },
     "execution_count": 15,
     "metadata": {},
     "output_type": "execute_result"
    }
   ],
   "source": [
    "query = '''WITH\n",
    "            r AS ( SELECT rat.book_id\n",
    "                    FROM ratings AS rat\n",
    "                    GROUP BY rat.book_id\n",
    "                    HAVING COUNT(rating_id)>=50)\n",
    "            SELECT DISTINCT(a.author), ROUND(AVG(ra.rating),2) AS avg_rating\n",
    "            FROM authors AS a\n",
    "            JOIN books AS b on a.author_id=b.author_id\n",
    "            JOIN r on b.book_id=r.book_id\n",
    "            JOIN ratings as ra on r.book_id=ra.book_id\n",
    "            GROUP BY DISTINCT(a.author)\n",
    "            ORDER BY ROUND(AVG(ra.rating),2) desc\n",
    "            LIMIT 1\n",
    "           '''\n",
    "con=engine.connect()\n",
    "pd.io.sql.read_sql(sql=text(query), con = con)"
   ]
  },
  {
   "cell_type": "markdown",
   "metadata": {},
   "source": [
    "**J.K. Rowling/Mary GrandPré вреди всех авторов имеет наивысший средний рейтинг 4.29**"
   ]
  },
  {
   "cell_type": "markdown",
   "metadata": {},
   "source": [
    "<div class=\"alert alert-danger\">\n",
    "    \n",
    "**Комментарий ревьюера**\n",
    "\n",
    "**#ошибка**\n",
    "\n",
    "Не совсем верно. Здесь нужно более комплексный запрос составить. Сначала в подзапросе нужно получить только книги с 50 и более оценками, потом объединить этот список с авторами и посчитать для каждого автора среднюю оценку. Сейчас у тебя having работает после groupby, поэтому не верный резульат  получается, одним запросом тут не справиться.\n",
    "</div>"
   ]
  },
  {
   "cell_type": "markdown",
   "metadata": {},
   "source": [
    "# Посчитайте среднее количество обзоров от пользователей, которые поставили больше 48 оценок."
   ]
  },
  {
   "cell_type": "code",
   "execution_count": 14,
   "metadata": {},
   "outputs": [
    {
     "data": {
      "text/html": [
       "<div>\n",
       "<style scoped>\n",
       "    .dataframe tbody tr th:only-of-type {\n",
       "        vertical-align: middle;\n",
       "    }\n",
       "\n",
       "    .dataframe tbody tr th {\n",
       "        vertical-align: top;\n",
       "    }\n",
       "\n",
       "    .dataframe thead th {\n",
       "        text-align: right;\n",
       "    }\n",
       "</style>\n",
       "<table border=\"1\" class=\"dataframe\">\n",
       "  <thead>\n",
       "    <tr style=\"text-align: right;\">\n",
       "      <th></th>\n",
       "      <th>avg_reviews</th>\n",
       "    </tr>\n",
       "  </thead>\n",
       "  <tbody>\n",
       "    <tr>\n",
       "      <th>0</th>\n",
       "      <td>24.0</td>\n",
       "    </tr>\n",
       "  </tbody>\n",
       "</table>\n",
       "</div>"
      ],
      "text/plain": [
       "   avg_reviews\n",
       "0         24.0"
      ]
     },
     "execution_count": 14,
     "metadata": {},
     "output_type": "execute_result"
    }
   ],
   "source": [
    "query = ''' \n",
    "SELECT AVG(review_count) AS avg_reviews\n",
    "FROM (\n",
    "    SELECT r.username, COUNT(r.review_id) AS review_count\n",
    "    FROM reviews r\n",
    "    WHERE r.username IN (\n",
    "        SELECT username\n",
    "        FROM ratings\n",
    "        GROUP BY username\n",
    "        HAVING COUNT(rating_id) > 48\n",
    "    )\n",
    "    GROUP BY r.username\n",
    ") AS user_reviews;           '''\n",
    "\n",
    "con=engine.connect()\n",
    "pd.io.sql.read_sql(sql=text(query), con = con)"
   ]
  },
  {
   "cell_type": "markdown",
   "metadata": {},
   "source": [
    "**Пользователи которые поставили более 48 оценок , в среднем делают 24 обзора**"
   ]
  },
  {
   "cell_type": "markdown",
   "metadata": {},
   "source": [
    "<div class=\"alert alert-success\">\n",
    "    \n",
    "**Комментарий ревьюера**\n",
    "\n",
    "**#ок**\n",
    "\n",
    "Правильно\n",
    "</div>"
   ]
  },
  {
   "cell_type": "markdown",
   "metadata": {},
   "source": [
    "# Общий вывод:\n",
    "\n",
    "- Всего было дано 1000 наименований книг\n",
    "\n",
    "- 819 книг было выпущено после 01.01.2000\n",
    "\n",
    "- Есть книги которные не получили ни одного отзыва и оценки \n",
    "\n",
    "- Twilight Twilight #1) - книга с самым большим количеством обзоров - 7\n",
    "\n",
    "- 43 книги имеют наивысшую оценку - 5 \n",
    "\n",
    "- Penguin Books\t- выпустило больше всех книг , у которых более 50 страниц -  42\n",
    "\n",
    "- J.K. Rowling/Mary GrandPré автор с самой высокой оценкой - 4.29\n",
    "\n",
    "- Среднее количество обзоров от пользователей - 24\n"
   ]
  },
  {
   "cell_type": "markdown",
   "metadata": {},
   "source": [
    "<div class=\"alert alert-success\">\n",
    "    \n",
    "**Комментарий ревьюера**\n",
    "\n",
    "**#ок**\n",
    "\n",
    "Теперь мы знаем многие операции с `SQL` в использовании `python` и это отлично, потому что мы будем достаточно часто использовать в нашей практике.\n",
    "    \n",
    "Полезные ссылки по SQL:\n",
    "    \n",
    "https://habr.com/ru/post/268983/\n",
    "    \n",
    "https://habr.com/ru/post/340460/\n",
    "\n",
    "</div>"
   ]
  },
  {
   "cell_type": "markdown",
   "metadata": {},
   "source": [
    "<div class=\"alert alert-success\">\n",
    "    \n",
    "**Комментарий ревьюера - 2**\n",
    "    \n",
    "**#ок**\n",
    "\n",
    "Все отлично доработано, молодец.\n",
    "</div>"
   ]
  },
  {
   "cell_type": "code",
   "execution_count": null,
   "metadata": {},
   "outputs": [],
   "source": []
  }
 ],
 "metadata": {
  "ExecuteTimeLog": [
   {
    "duration": 9410,
    "start_time": "2025-02-03T15:33:13.145Z"
   },
   {
    "duration": 76,
    "start_time": "2025-02-03T15:35:04.689Z"
   },
   {
    "duration": 81,
    "start_time": "2025-02-03T15:35:20.338Z"
   },
   {
    "duration": 4,
    "start_time": "2025-02-03T15:35:25.842Z"
   },
   {
    "duration": 4,
    "start_time": "2025-02-03T15:35:49.602Z"
   },
   {
    "duration": 44,
    "start_time": "2025-02-03T15:36:59.420Z"
   },
   {
    "duration": 38,
    "start_time": "2025-02-03T15:41:03.468Z"
   },
   {
    "duration": 12,
    "start_time": "2025-02-03T15:41:14.688Z"
   },
   {
    "duration": 11,
    "start_time": "2025-02-03T15:41:31.667Z"
   },
   {
    "duration": 13,
    "start_time": "2025-02-03T15:42:51.066Z"
   },
   {
    "duration": 22,
    "start_time": "2025-02-03T15:43:00.496Z"
   },
   {
    "duration": 29,
    "start_time": "2025-02-03T15:43:04.647Z"
   },
   {
    "duration": 15,
    "start_time": "2025-02-03T15:43:09.117Z"
   },
   {
    "duration": 53,
    "start_time": "2025-02-03T15:43:22.745Z"
   },
   {
    "duration": 121,
    "start_time": "2025-02-03T15:45:23.369Z"
   },
   {
    "duration": 21,
    "start_time": "2025-02-03T15:45:34.650Z"
   },
   {
    "duration": 43,
    "start_time": "2025-02-03T15:45:48.754Z"
   },
   {
    "duration": 45,
    "start_time": "2025-02-03T15:54:31.432Z"
   },
   {
    "duration": 90,
    "start_time": "2025-02-03T15:54:45.996Z"
   },
   {
    "duration": 21,
    "start_time": "2025-02-03T15:55:11.936Z"
   },
   {
    "duration": 22,
    "start_time": "2025-02-03T15:57:50.679Z"
   },
   {
    "duration": 53,
    "start_time": "2025-02-03T15:58:04.685Z"
   },
   {
    "duration": 48,
    "start_time": "2025-02-03T15:58:20.305Z"
   },
   {
    "duration": 42,
    "start_time": "2025-02-03T15:58:30.239Z"
   },
   {
    "duration": 21,
    "start_time": "2025-02-03T15:59:17.812Z"
   },
   {
    "duration": 21,
    "start_time": "2025-02-03T16:00:25.150Z"
   },
   {
    "duration": 21,
    "start_time": "2025-02-03T16:02:29.746Z"
   },
   {
    "duration": 47,
    "start_time": "2025-02-03T16:02:47.741Z"
   },
   {
    "duration": 61,
    "start_time": "2025-02-03T16:03:16.752Z"
   },
   {
    "duration": 66,
    "start_time": "2025-02-03T16:03:45.418Z"
   },
   {
    "duration": 15,
    "start_time": "2025-02-03T16:04:05.710Z"
   },
   {
    "duration": 22,
    "start_time": "2025-02-03T16:04:14.269Z"
   },
   {
    "duration": 19,
    "start_time": "2025-02-03T16:04:42.441Z"
   },
   {
    "duration": 22,
    "start_time": "2025-02-03T16:05:22.235Z"
   },
   {
    "duration": 20,
    "start_time": "2025-02-03T16:08:38.731Z"
   },
   {
    "duration": 26,
    "start_time": "2025-02-03T16:09:40.994Z"
   },
   {
    "duration": 27,
    "start_time": "2025-02-03T16:10:30.008Z"
   },
   {
    "duration": 22,
    "start_time": "2025-02-03T16:11:46.927Z"
   },
   {
    "duration": 26,
    "start_time": "2025-02-03T16:11:56.968Z"
   },
   {
    "duration": 27,
    "start_time": "2025-02-03T16:12:48.084Z"
   },
   {
    "duration": 28,
    "start_time": "2025-02-03T16:13:08.823Z"
   },
   {
    "duration": 23,
    "start_time": "2025-02-03T16:13:13.767Z"
   },
   {
    "duration": 26,
    "start_time": "2025-02-03T16:13:18.637Z"
   },
   {
    "duration": 28,
    "start_time": "2025-02-03T16:13:54.014Z"
   },
   {
    "duration": 29,
    "start_time": "2025-02-03T16:14:08.141Z"
   },
   {
    "duration": 14,
    "start_time": "2025-02-03T16:19:52.312Z"
   },
   {
    "duration": 15,
    "start_time": "2025-02-03T16:20:23.108Z"
   },
   {
    "duration": 22,
    "start_time": "2025-02-03T16:21:40.981Z"
   },
   {
    "duration": 21,
    "start_time": "2025-02-03T16:22:10.476Z"
   },
   {
    "duration": 22,
    "start_time": "2025-02-03T16:23:15.599Z"
   },
   {
    "duration": 51,
    "start_time": "2025-02-03T16:29:17.306Z"
   },
   {
    "duration": 45,
    "start_time": "2025-02-03T16:29:29.598Z"
   },
   {
    "duration": 22,
    "start_time": "2025-02-03T16:30:09.223Z"
   },
   {
    "duration": 21,
    "start_time": "2025-02-03T16:30:20.107Z"
   },
   {
    "duration": 21,
    "start_time": "2025-02-03T16:30:38.016Z"
   },
   {
    "duration": 41,
    "start_time": "2025-02-03T16:30:53.987Z"
   },
   {
    "duration": 22,
    "start_time": "2025-02-03T16:31:37.751Z"
   },
   {
    "duration": 18,
    "start_time": "2025-02-03T16:32:06.733Z"
   },
   {
    "duration": 2644,
    "start_time": "2025-02-03T16:32:34.653Z"
   },
   {
    "duration": 31,
    "start_time": "2025-02-03T16:34:12.676Z"
   },
   {
    "duration": 30,
    "start_time": "2025-02-03T16:34:18.202Z"
   },
   {
    "duration": 29,
    "start_time": "2025-02-03T16:34:36.146Z"
   },
   {
    "duration": 25,
    "start_time": "2025-02-03T16:36:27.510Z"
   },
   {
    "duration": 22,
    "start_time": "2025-02-03T16:37:07.592Z"
   },
   {
    "duration": 22,
    "start_time": "2025-02-03T16:37:20.672Z"
   },
   {
    "duration": 29,
    "start_time": "2025-02-03T16:37:53.426Z"
   },
   {
    "duration": 13,
    "start_time": "2025-02-03T16:39:23.936Z"
   },
   {
    "duration": 13,
    "start_time": "2025-02-03T16:40:09.803Z"
   },
   {
    "duration": 13,
    "start_time": "2025-02-03T16:40:46.493Z"
   },
   {
    "duration": 14,
    "start_time": "2025-02-03T16:42:40.737Z"
   },
   {
    "duration": 30,
    "start_time": "2025-02-03T16:43:22.932Z"
   },
   {
    "duration": 33,
    "start_time": "2025-02-03T16:43:27.832Z"
   },
   {
    "duration": 30,
    "start_time": "2025-02-03T16:43:35.945Z"
   },
   {
    "duration": 30,
    "start_time": "2025-02-03T16:44:09.304Z"
   },
   {
    "duration": 29,
    "start_time": "2025-02-03T16:44:14.257Z"
   },
   {
    "duration": 30,
    "start_time": "2025-02-03T16:44:31.693Z"
   },
   {
    "duration": 23,
    "start_time": "2025-02-03T17:00:48.995Z"
   },
   {
    "duration": 11,
    "start_time": "2025-02-03T17:00:58.305Z"
   },
   {
    "duration": 22,
    "start_time": "2025-02-03T17:02:55.921Z"
   },
   {
    "duration": 31,
    "start_time": "2025-02-03T17:03:28.653Z"
   },
   {
    "duration": 15,
    "start_time": "2025-02-03T17:03:36.834Z"
   },
   {
    "duration": 23,
    "start_time": "2025-02-03T17:04:02.759Z"
   },
   {
    "duration": 36,
    "start_time": "2025-02-03T17:04:21.019Z"
   },
   {
    "duration": 39,
    "start_time": "2025-02-03T17:05:35.108Z"
   },
   {
    "duration": 22,
    "start_time": "2025-02-03T17:07:05.921Z"
   },
   {
    "duration": 15,
    "start_time": "2025-02-03T17:07:15.732Z"
   },
   {
    "duration": 15,
    "start_time": "2025-02-03T17:08:14.654Z"
   },
   {
    "duration": 23,
    "start_time": "2025-02-03T17:14:48.121Z"
   },
   {
    "duration": 22,
    "start_time": "2025-02-03T17:15:21.536Z"
   },
   {
    "duration": 16,
    "start_time": "2025-02-03T17:15:29.202Z"
   },
   {
    "duration": 46,
    "start_time": "2025-02-03T17:15:50.508Z"
   },
   {
    "duration": 15,
    "start_time": "2025-02-03T17:16:38.523Z"
   },
   {
    "duration": 17,
    "start_time": "2025-02-03T17:16:45.256Z"
   },
   {
    "duration": 16,
    "start_time": "2025-02-03T17:19:25.554Z"
   },
   {
    "duration": 22,
    "start_time": "2025-02-03T17:20:42.896Z"
   },
   {
    "duration": 31,
    "start_time": "2025-02-03T17:21:00.694Z"
   },
   {
    "duration": 15,
    "start_time": "2025-02-03T17:21:23.717Z"
   },
   {
    "duration": 17,
    "start_time": "2025-02-03T17:21:46.267Z"
   },
   {
    "duration": 16,
    "start_time": "2025-02-03T17:22:19.003Z"
   },
   {
    "duration": 23,
    "start_time": "2025-02-03T17:33:23.860Z"
   },
   {
    "duration": 14,
    "start_time": "2025-02-03T17:34:23.856Z"
   },
   {
    "duration": 64,
    "start_time": "2025-02-03T17:34:57.158Z"
   },
   {
    "duration": 66,
    "start_time": "2025-02-03T17:35:08.442Z"
   },
   {
    "duration": 16,
    "start_time": "2025-02-03T17:35:30.584Z"
   },
   {
    "duration": 13,
    "start_time": "2025-02-03T17:36:59.066Z"
   },
   {
    "duration": 14,
    "start_time": "2025-02-03T17:37:58.641Z"
   },
   {
    "duration": 31,
    "start_time": "2025-02-03T17:39:01.249Z"
   },
   {
    "duration": 18,
    "start_time": "2025-02-03T17:39:22.984Z"
   },
   {
    "duration": 18,
    "start_time": "2025-02-03T17:39:54.683Z"
   },
   {
    "duration": 22,
    "start_time": "2025-02-03T17:41:11.978Z"
   },
   {
    "duration": 16,
    "start_time": "2025-02-03T17:41:18.527Z"
   },
   {
    "duration": 45,
    "start_time": "2025-02-03T17:41:33.178Z"
   },
   {
    "duration": 14,
    "start_time": "2025-02-03T17:41:41.749Z"
   },
   {
    "duration": 13,
    "start_time": "2025-02-03T17:42:04.641Z"
   },
   {
    "duration": 13,
    "start_time": "2025-02-03T17:44:36.505Z"
   },
   {
    "duration": 14,
    "start_time": "2025-02-03T17:44:50.057Z"
   },
   {
    "duration": 21,
    "start_time": "2025-02-03T17:45:47.263Z"
   },
   {
    "duration": 21,
    "start_time": "2025-02-03T17:46:11.341Z"
   },
   {
    "duration": 47,
    "start_time": "2025-02-03T17:46:37.736Z"
   },
   {
    "duration": 54,
    "start_time": "2025-02-03T17:47:02.795Z"
   },
   {
    "duration": 12,
    "start_time": "2025-02-03T17:47:19.359Z"
   },
   {
    "duration": 30014,
    "start_time": "2025-02-03T17:49:16.052Z"
   },
   {
    "duration": 30013,
    "start_time": "2025-02-03T17:50:31.752Z"
   },
   {
    "duration": 0,
    "start_time": "2025-02-03T17:51:01.768Z"
   },
   {
    "duration": 14,
    "start_time": "2025-02-03T17:51:03.876Z"
   },
   {
    "duration": 14,
    "start_time": "2025-02-03T18:10:00.194Z"
   },
   {
    "duration": 19,
    "start_time": "2025-02-03T18:10:37.922Z"
   },
   {
    "duration": 20,
    "start_time": "2025-02-03T18:11:28.060Z"
   },
   {
    "duration": 21,
    "start_time": "2025-02-03T18:11:47.573Z"
   },
   {
    "duration": 13,
    "start_time": "2025-02-03T18:12:50.998Z"
   },
   {
    "duration": 22,
    "start_time": "2025-02-03T18:13:58.163Z"
   },
   {
    "duration": 15,
    "start_time": "2025-02-03T18:14:30.916Z"
   },
   {
    "duration": 22,
    "start_time": "2025-02-03T18:14:39.291Z"
   },
   {
    "duration": 21,
    "start_time": "2025-02-03T18:15:10.151Z"
   },
   {
    "duration": 14,
    "start_time": "2025-02-03T18:15:19.026Z"
   },
   {
    "duration": 30013,
    "start_time": "2025-02-03T18:15:35.818Z"
   },
   {
    "duration": 8773,
    "start_time": "2025-02-03T18:16:21.216Z"
   },
   {
    "duration": 42,
    "start_time": "2025-02-03T18:16:29.991Z"
   },
   {
    "duration": 30,
    "start_time": "2025-02-03T18:16:30.035Z"
   },
   {
    "duration": 30,
    "start_time": "2025-02-03T18:16:30.067Z"
   },
   {
    "duration": 15,
    "start_time": "2025-02-03T18:16:30.099Z"
   },
   {
    "duration": 11,
    "start_time": "2025-02-03T18:16:30.117Z"
   },
   {
    "duration": 52,
    "start_time": "2025-02-03T18:16:30.130Z"
   },
   {
    "duration": 14,
    "start_time": "2025-02-03T18:16:30.183Z"
   },
   {
    "duration": 49,
    "start_time": "2025-02-03T18:16:30.199Z"
   },
   {
    "duration": 110,
    "start_time": "2025-02-03T18:16:30.250Z"
   },
   {
    "duration": 0,
    "start_time": "2025-02-03T18:16:30.362Z"
   },
   {
    "duration": 0,
    "start_time": "2025-02-03T18:16:30.363Z"
   },
   {
    "duration": 22,
    "start_time": "2025-02-03T18:17:13.821Z"
   },
   {
    "duration": 40,
    "start_time": "2025-02-03T18:17:37.205Z"
   },
   {
    "duration": 44,
    "start_time": "2025-02-03T18:17:55.210Z"
   },
   {
    "duration": 15,
    "start_time": "2025-02-03T18:18:05.707Z"
   },
   {
    "duration": 15,
    "start_time": "2025-02-03T18:18:20.970Z"
   },
   {
    "duration": 23,
    "start_time": "2025-02-03T18:24:01.056Z"
   },
   {
    "duration": 22,
    "start_time": "2025-02-03T18:24:27.011Z"
   },
   {
    "duration": 22,
    "start_time": "2025-02-03T18:24:42.261Z"
   },
   {
    "duration": 49,
    "start_time": "2025-02-03T18:24:56.077Z"
   },
   {
    "duration": 46,
    "start_time": "2025-02-03T18:25:07.697Z"
   },
   {
    "duration": 45,
    "start_time": "2025-02-03T18:25:37.102Z"
   },
   {
    "duration": 22,
    "start_time": "2025-02-03T18:28:18.450Z"
   },
   {
    "duration": 22,
    "start_time": "2025-02-03T18:29:11.443Z"
   },
   {
    "duration": 16,
    "start_time": "2025-02-03T18:30:43.674Z"
   },
   {
    "duration": 17,
    "start_time": "2025-02-03T18:31:24.862Z"
   },
   {
    "duration": 17,
    "start_time": "2025-02-03T18:33:00.153Z"
   },
   {
    "duration": 18,
    "start_time": "2025-02-03T18:34:29.486Z"
   },
   {
    "duration": 16,
    "start_time": "2025-02-03T18:35:03.494Z"
   },
   {
    "duration": 17,
    "start_time": "2025-02-03T18:35:31.155Z"
   },
   {
    "duration": 16,
    "start_time": "2025-02-03T18:36:06.927Z"
   },
   {
    "duration": 17,
    "start_time": "2025-02-03T18:36:23.770Z"
   },
   {
    "duration": 17,
    "start_time": "2025-02-03T18:36:31.525Z"
   },
   {
    "duration": 17,
    "start_time": "2025-02-03T18:37:39.402Z"
   },
   {
    "duration": 28,
    "start_time": "2025-02-03T18:38:00.926Z"
   },
   {
    "duration": 20,
    "start_time": "2025-02-03T18:38:23.231Z"
   },
   {
    "duration": 20,
    "start_time": "2025-02-03T18:40:22.866Z"
   },
   {
    "duration": 20,
    "start_time": "2025-02-03T18:40:34.658Z"
   },
   {
    "duration": 25,
    "start_time": "2025-02-03T18:41:29.156Z"
   },
   {
    "duration": 22,
    "start_time": "2025-02-03T18:42:21.346Z"
   },
   {
    "duration": 23,
    "start_time": "2025-02-03T18:42:29.547Z"
   },
   {
    "duration": 23,
    "start_time": "2025-02-03T18:43:37.076Z"
   },
   {
    "duration": 21,
    "start_time": "2025-02-03T18:43:54.580Z"
   },
   {
    "duration": 31,
    "start_time": "2025-02-03T18:44:12.093Z"
   },
   {
    "duration": 30,
    "start_time": "2025-02-03T18:45:08.459Z"
   },
   {
    "duration": 30,
    "start_time": "2025-02-03T18:45:23.010Z"
   },
   {
    "duration": 21,
    "start_time": "2025-02-03T18:47:55.581Z"
   },
   {
    "duration": 44,
    "start_time": "2025-02-03T18:48:08.447Z"
   },
   {
    "duration": 28,
    "start_time": "2025-02-03T18:48:23.470Z"
   },
   {
    "duration": 21,
    "start_time": "2025-02-03T18:49:07.705Z"
   },
   {
    "duration": 10,
    "start_time": "2025-02-03T18:54:00.718Z"
   },
   {
    "duration": 11,
    "start_time": "2025-02-03T18:54:17.870Z"
   },
   {
    "duration": 23,
    "start_time": "2025-02-03T18:54:38.163Z"
   },
   {
    "duration": 11,
    "start_time": "2025-02-03T18:54:58.146Z"
   },
   {
    "duration": 12,
    "start_time": "2025-02-03T18:55:24.900Z"
   },
   {
    "duration": 14,
    "start_time": "2025-02-03T18:59:02.182Z"
   },
   {
    "duration": 14,
    "start_time": "2025-02-03T18:59:33.463Z"
   },
   {
    "duration": 22,
    "start_time": "2025-02-03T19:02:30.774Z"
   },
   {
    "duration": 20,
    "start_time": "2025-02-03T19:02:43.897Z"
   },
   {
    "duration": 15,
    "start_time": "2025-02-03T19:02:48.974Z"
   },
   {
    "duration": 21,
    "start_time": "2025-02-03T19:11:02.355Z"
   },
   {
    "duration": 13,
    "start_time": "2025-02-03T19:11:21.869Z"
   },
   {
    "duration": 52,
    "start_time": "2025-02-03T19:11:43.974Z"
   },
   {
    "duration": 21,
    "start_time": "2025-02-03T19:14:49.022Z"
   },
   {
    "duration": 30,
    "start_time": "2025-02-03T19:14:57.945Z"
   },
   {
    "duration": 22,
    "start_time": "2025-02-03T19:15:35.608Z"
   },
   {
    "duration": 14,
    "start_time": "2025-02-03T19:16:52.861Z"
   },
   {
    "duration": 49,
    "start_time": "2025-02-03T19:17:44.168Z"
   },
   {
    "duration": 12,
    "start_time": "2025-02-03T19:18:10.116Z"
   },
   {
    "duration": 40,
    "start_time": "2025-02-03T19:18:25.820Z"
   },
   {
    "duration": 22,
    "start_time": "2025-02-03T19:19:01.641Z"
   },
   {
    "duration": 21,
    "start_time": "2025-02-03T19:19:10.497Z"
   },
   {
    "duration": 22,
    "start_time": "2025-02-03T19:19:22.330Z"
   },
   {
    "duration": 21,
    "start_time": "2025-02-03T19:20:04.744Z"
   },
   {
    "duration": 15,
    "start_time": "2025-02-03T19:20:18.331Z"
   },
   {
    "duration": 51,
    "start_time": "2025-02-03T19:28:32.359Z"
   },
   {
    "duration": 25,
    "start_time": "2025-02-03T19:29:00.871Z"
   },
   {
    "duration": 21,
    "start_time": "2025-02-03T19:29:54.078Z"
   },
   {
    "duration": 21,
    "start_time": "2025-02-03T19:30:25.911Z"
   },
   {
    "duration": 13,
    "start_time": "2025-02-03T19:31:17.448Z"
   },
   {
    "duration": 6621,
    "start_time": "2025-02-03T19:48:29.087Z"
   },
   {
    "duration": 36,
    "start_time": "2025-02-03T19:48:35.710Z"
   },
   {
    "duration": 30,
    "start_time": "2025-02-03T19:48:35.747Z"
   },
   {
    "duration": 22,
    "start_time": "2025-02-03T19:48:35.779Z"
   },
   {
    "duration": 15,
    "start_time": "2025-02-03T19:48:35.803Z"
   },
   {
    "duration": 48,
    "start_time": "2025-02-03T19:48:35.819Z"
   },
   {
    "duration": 43,
    "start_time": "2025-02-03T19:48:35.869Z"
   },
   {
    "duration": 13,
    "start_time": "2025-02-03T19:48:35.914Z"
   },
   {
    "duration": 27,
    "start_time": "2025-02-03T19:48:35.929Z"
   },
   {
    "duration": 22,
    "start_time": "2025-02-03T19:48:35.958Z"
   },
   {
    "duration": 18,
    "start_time": "2025-02-03T19:48:35.981Z"
   },
   {
    "duration": 98,
    "start_time": "2025-02-03T19:49:14.568Z"
   },
   {
    "duration": 16,
    "start_time": "2025-02-03T19:49:55.707Z"
   },
   {
    "duration": 50,
    "start_time": "2025-02-03T19:53:23.343Z"
   },
   {
    "duration": 22,
    "start_time": "2025-02-03T19:54:13.785Z"
   },
   {
    "duration": 21,
    "start_time": "2025-02-03T19:55:14.129Z"
   },
   {
    "duration": 58,
    "start_time": "2025-02-03T19:55:25.611Z"
   },
   {
    "duration": 57,
    "start_time": "2025-02-03T19:56:13.253Z"
   },
   {
    "duration": 17,
    "start_time": "2025-02-03T19:58:54.867Z"
   },
   {
    "duration": 18,
    "start_time": "2025-02-03T19:59:10.764Z"
   },
   {
    "duration": 17,
    "start_time": "2025-02-03T20:00:45.018Z"
   },
   {
    "duration": 40,
    "start_time": "2025-02-03T20:04:17.531Z"
   },
   {
    "duration": 31,
    "start_time": "2025-02-03T20:05:12.286Z"
   },
   {
    "duration": 30,
    "start_time": "2025-02-03T20:05:43.775Z"
   },
   {
    "duration": 37,
    "start_time": "2025-02-03T20:05:50.981Z"
   },
   {
    "duration": 30,
    "start_time": "2025-02-03T20:06:05.730Z"
   },
   {
    "duration": 29,
    "start_time": "2025-02-03T20:06:33.866Z"
   },
   {
    "duration": 36,
    "start_time": "2025-02-03T20:07:37.454Z"
   },
   {
    "duration": 30,
    "start_time": "2025-02-03T20:07:49.009Z"
   },
   {
    "duration": 13,
    "start_time": "2025-02-03T20:09:37.376Z"
   },
   {
    "duration": 23,
    "start_time": "2025-02-03T20:10:15.972Z"
   },
   {
    "duration": 13,
    "start_time": "2025-02-03T20:10:34.266Z"
   },
   {
    "duration": 29,
    "start_time": "2025-02-03T20:11:34.372Z"
   },
   {
    "duration": 34,
    "start_time": "2025-02-03T20:11:40.027Z"
   },
   {
    "duration": 28,
    "start_time": "2025-02-03T20:12:24.125Z"
   },
   {
    "duration": 29,
    "start_time": "2025-02-03T20:12:46.261Z"
   },
   {
    "duration": 8173,
    "start_time": "2025-02-04T15:13:22.325Z"
   },
   {
    "duration": 39,
    "start_time": "2025-02-04T15:13:30.501Z"
   },
   {
    "duration": 45,
    "start_time": "2025-02-04T15:13:30.542Z"
   },
   {
    "duration": 25,
    "start_time": "2025-02-04T15:13:30.589Z"
   },
   {
    "duration": 33,
    "start_time": "2025-02-04T15:13:30.617Z"
   },
   {
    "duration": 82,
    "start_time": "2025-02-04T15:13:30.652Z"
   },
   {
    "duration": 41,
    "start_time": "2025-02-04T15:13:30.737Z"
   },
   {
    "duration": 32,
    "start_time": "2025-02-04T15:13:30.780Z"
   },
   {
    "duration": 60,
    "start_time": "2025-02-04T15:13:30.814Z"
   },
   {
    "duration": 17,
    "start_time": "2025-02-04T15:13:30.875Z"
   },
   {
    "duration": 14,
    "start_time": "2025-02-04T15:13:30.893Z"
   },
   {
    "duration": 92,
    "start_time": "2025-02-04T15:15:34.754Z"
   },
   {
    "duration": 22,
    "start_time": "2025-02-04T15:16:16.336Z"
   },
   {
    "duration": 51,
    "start_time": "2025-02-04T15:16:44.470Z"
   },
   {
    "duration": 22,
    "start_time": "2025-02-04T15:17:17.620Z"
   },
   {
    "duration": 52,
    "start_time": "2025-02-04T15:17:35.624Z"
   },
   {
    "duration": 56,
    "start_time": "2025-02-04T15:18:07.837Z"
   },
   {
    "duration": 58,
    "start_time": "2025-02-04T15:18:17.711Z"
   },
   {
    "duration": 48,
    "start_time": "2025-02-04T15:19:15.775Z"
   },
   {
    "duration": 22,
    "start_time": "2025-02-04T15:21:59.507Z"
   },
   {
    "duration": 23,
    "start_time": "2025-02-04T15:22:45.451Z"
   },
   {
    "duration": 15,
    "start_time": "2025-02-04T15:23:01.462Z"
   },
   {
    "duration": 24,
    "start_time": "2025-02-04T15:30:17.353Z"
   },
   {
    "duration": 15,
    "start_time": "2025-02-04T15:30:33.636Z"
   },
   {
    "duration": 69,
    "start_time": "2025-02-04T15:31:20.388Z"
   },
   {
    "duration": 24,
    "start_time": "2025-02-04T15:31:26.902Z"
   },
   {
    "duration": 16,
    "start_time": "2025-02-04T15:31:33.642Z"
   },
   {
    "duration": 18,
    "start_time": "2025-02-04T15:31:47.640Z"
   },
   {
    "duration": 16,
    "start_time": "2025-02-04T15:32:01.219Z"
   },
   {
    "duration": 22,
    "start_time": "2025-02-04T15:38:34.629Z"
   },
   {
    "duration": 22,
    "start_time": "2025-02-04T15:39:07.998Z"
   },
   {
    "duration": 14,
    "start_time": "2025-02-04T15:39:38.913Z"
   },
   {
    "duration": 46,
    "start_time": "2025-02-04T15:41:34.756Z"
   },
   {
    "duration": 16,
    "start_time": "2025-02-04T15:47:16.204Z"
   },
   {
    "duration": 20,
    "start_time": "2025-02-04T15:47:21.409Z"
   },
   {
    "duration": 18,
    "start_time": "2025-02-04T15:47:27.128Z"
   },
   {
    "duration": 5,
    "start_time": "2025-02-04T15:51:01.395Z"
   },
   {
    "duration": 51,
    "start_time": "2025-02-04T15:51:15.642Z"
   },
   {
    "duration": 65,
    "start_time": "2025-02-04T16:12:17.011Z"
   },
   {
    "duration": 23,
    "start_time": "2025-02-04T16:12:30.907Z"
   },
   {
    "duration": 33,
    "start_time": "2025-02-04T16:12:43.268Z"
   },
   {
    "duration": 58,
    "start_time": "2025-02-04T16:12:49.877Z"
   },
   {
    "duration": 21,
    "start_time": "2025-02-04T16:13:32.005Z"
   },
   {
    "duration": 29,
    "start_time": "2025-02-04T16:13:35.750Z"
   },
   {
    "duration": 87,
    "start_time": "2025-02-04T16:14:51.551Z"
   },
   {
    "duration": 23,
    "start_time": "2025-02-04T16:15:21.766Z"
   },
   {
    "duration": 35,
    "start_time": "2025-02-04T16:15:38.218Z"
   },
   {
    "duration": 22,
    "start_time": "2025-02-04T16:18:14.584Z"
   },
   {
    "duration": 23,
    "start_time": "2025-02-04T16:18:20.530Z"
   },
   {
    "duration": 56,
    "start_time": "2025-02-04T16:18:31.356Z"
   },
   {
    "duration": 62,
    "start_time": "2025-02-04T16:18:34.640Z"
   },
   {
    "duration": 31,
    "start_time": "2025-02-04T16:19:03.909Z"
   },
   {
    "duration": 29,
    "start_time": "2025-02-04T16:19:46.771Z"
   },
   {
    "duration": 31,
    "start_time": "2025-02-04T16:20:44.235Z"
   },
   {
    "duration": 31,
    "start_time": "2025-02-04T16:20:50.129Z"
   },
   {
    "duration": 24,
    "start_time": "2025-02-04T16:21:03.096Z"
   },
   {
    "duration": 26,
    "start_time": "2025-02-04T16:21:07.020Z"
   },
   {
    "duration": 27,
    "start_time": "2025-02-04T16:21:11.177Z"
   },
   {
    "duration": 29,
    "start_time": "2025-02-04T16:21:15.277Z"
   },
   {
    "duration": 32,
    "start_time": "2025-02-04T16:22:20.535Z"
   },
   {
    "duration": 24,
    "start_time": "2025-02-04T16:23:11.748Z"
   },
   {
    "duration": 22,
    "start_time": "2025-02-04T16:23:26.487Z"
   },
   {
    "duration": 24,
    "start_time": "2025-02-04T16:23:32.221Z"
   },
   {
    "duration": 29,
    "start_time": "2025-02-04T16:23:49.961Z"
   },
   {
    "duration": 13,
    "start_time": "2025-02-04T16:26:18.536Z"
   },
   {
    "duration": 15,
    "start_time": "2025-02-04T16:30:23.615Z"
   },
   {
    "duration": 14,
    "start_time": "2025-02-04T16:30:27.819Z"
   },
   {
    "duration": 15,
    "start_time": "2025-02-04T16:30:34.191Z"
   },
   {
    "duration": 49,
    "start_time": "2025-02-05T08:03:54.235Z"
   },
   {
    "duration": 7855,
    "start_time": "2025-02-05T08:04:02.641Z"
   },
   {
    "duration": 76,
    "start_time": "2025-02-05T08:04:10.498Z"
   },
   {
    "duration": 48,
    "start_time": "2025-02-05T08:04:10.576Z"
   },
   {
    "duration": 29,
    "start_time": "2025-02-05T08:04:10.625Z"
   },
   {
    "duration": 21,
    "start_time": "2025-02-05T08:04:10.656Z"
   },
   {
    "duration": 12,
    "start_time": "2025-02-05T08:04:10.679Z"
   },
   {
    "duration": 10,
    "start_time": "2025-02-05T08:04:10.693Z"
   },
   {
    "duration": 31,
    "start_time": "2025-02-05T08:04:10.704Z"
   },
   {
    "duration": 28,
    "start_time": "2025-02-05T08:04:10.737Z"
   },
   {
    "duration": 12,
    "start_time": "2025-02-05T08:04:10.767Z"
   },
   {
    "duration": 89,
    "start_time": "2025-02-05T08:04:10.780Z"
   },
   {
    "duration": 0,
    "start_time": "2025-02-05T08:04:10.875Z"
   },
   {
    "duration": 22,
    "start_time": "2025-02-05T08:04:27.240Z"
   },
   {
    "duration": 49,
    "start_time": "2025-02-05T08:05:02.081Z"
   },
   {
    "duration": 70,
    "start_time": "2025-02-05T08:06:54.962Z"
   },
   {
    "duration": 66,
    "start_time": "2025-02-05T08:07:09.451Z"
   },
   {
    "duration": 16,
    "start_time": "2025-02-05T08:07:17.234Z"
   },
   {
    "duration": 17,
    "start_time": "2025-02-05T08:07:27.489Z"
   },
   {
    "duration": 17,
    "start_time": "2025-02-05T08:07:38.755Z"
   },
   {
    "duration": 16,
    "start_time": "2025-02-05T08:07:43.562Z"
   },
   {
    "duration": 15,
    "start_time": "2025-02-05T08:07:53.443Z"
   },
   {
    "duration": 24,
    "start_time": "2025-02-05T08:08:33.691Z"
   },
   {
    "duration": 16,
    "start_time": "2025-02-05T08:08:49.683Z"
   },
   {
    "duration": 571,
    "start_time": "2025-02-05T08:10:34.552Z"
   },
   {
    "duration": 3,
    "start_time": "2025-02-05T08:10:35.125Z"
   },
   {
    "duration": 7270,
    "start_time": "2025-02-05T08:10:35.130Z"
   },
   {
    "duration": 65,
    "start_time": "2025-02-05T08:10:42.402Z"
   },
   {
    "duration": 41,
    "start_time": "2025-02-05T08:10:42.469Z"
   },
   {
    "duration": 29,
    "start_time": "2025-02-05T08:10:42.512Z"
   },
   {
    "duration": 21,
    "start_time": "2025-02-05T08:10:42.543Z"
   },
   {
    "duration": 13,
    "start_time": "2025-02-05T08:10:42.565Z"
   },
   {
    "duration": 10,
    "start_time": "2025-02-05T08:10:42.580Z"
   },
   {
    "duration": 29,
    "start_time": "2025-02-05T08:10:42.592Z"
   },
   {
    "duration": 29,
    "start_time": "2025-02-05T08:10:42.622Z"
   },
   {
    "duration": 78,
    "start_time": "2025-02-05T08:10:42.652Z"
   },
   {
    "duration": 15,
    "start_time": "2025-02-05T08:10:42.731Z"
   },
   {
    "duration": 29,
    "start_time": "2025-02-05T08:10:42.749Z"
   },
   {
    "duration": 17,
    "start_time": "2025-02-05T08:11:01.215Z"
   }
  ],
  "kernelspec": {
   "display_name": "Python 3 (ipykernel)",
   "language": "python",
   "name": "python3"
  },
  "language_info": {
   "codemirror_mode": {
    "name": "ipython",
    "version": 3
   },
   "file_extension": ".py",
   "mimetype": "text/x-python",
   "name": "python",
   "nbconvert_exporter": "python",
   "pygments_lexer": "ipython3",
   "version": "3.9.5"
  },
  "toc": {
   "base_numbering": 1,
   "nav_menu": {},
   "number_sections": true,
   "sideBar": true,
   "skip_h1_title": true,
   "title_cell": "Table of Contents",
   "title_sidebar": "Contents",
   "toc_cell": false,
   "toc_position": {},
   "toc_section_display": true,
   "toc_window_display": false
  }
 },
 "nbformat": 4,
 "nbformat_minor": 2
}
