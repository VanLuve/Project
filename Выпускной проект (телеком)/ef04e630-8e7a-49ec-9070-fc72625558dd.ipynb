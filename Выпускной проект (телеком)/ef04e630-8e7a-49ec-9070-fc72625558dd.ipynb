{
 "cells": [
  {
   "cell_type": "markdown",
   "metadata": {},
   "source": [
    "<div class=\"alert alert-success\">\n",
    "    \n",
    "**Комментарий ревьюера**\n",
    "\n",
    "Привет, Владимир! Меня зовут Сысоева Вера и я буду помогать тебе с этим проектом.\n",
    "    \n",
    "Далее в файле мои комментарии ты сможешь найти в ячейках, аналогичных данной ( если рамки комментария зелёные и отмечены **#ок** - всё сделано правильно; жёлтые и отмечены **#можно лучше** - есть замечания, но не критично; красные с пометкой **#ошибка** - нужно переделать). Не удаляй эти комментарии и постарайся учесть их в ходе выполнения проекта.\n",
    "    \n",
    "    \n",
    "Я буду поддерживать версионность комментариев, и при следующих итерациях комментарии будут выделены, как \"Комментраии ревьюера - 2 (3 и.т.д.)\"\n",
    "    \n",
    "Если у тебя есть замечания, возражения и вопросы, ты можешь писать свои комментарии, по возможности выделяй их так же цветом (например, синим), чтоб их можно было легко отделить от текста проекта. \n",
    "    \n",
    "Кстати, предлагаю сразу общаться на \"ты\".\n",
    "    \n",
    "Увидев у тебя ошибку, в первый раз я лишь укажу на ее наличие и дам тебе возможность самостоятельно найти и исправить ее. На реальной работе твой начальник будет поступать так же, а я пытаюсь подготовить тебя именно к работе аналитиком. Но если ты пока не справишься с такой задачей - при следующей проверке я дам более точную подсказку.\n",
    "    \n",
    "</div>"
   ]
  },
  {
   "cell_type": "markdown",
   "metadata": {},
   "source": [
    "# Загрузка данных"
   ]
  },
  {
   "cell_type": "code",
   "execution_count": 1,
   "metadata": {},
   "outputs": [],
   "source": [
    "import math as mt \n",
    "from scipy import stats as st\n",
    "import seaborn as sns\n",
    "import pandas as pd\n",
    "import numpy as np\n",
    "import matplotlib.pyplot as plt\n",
    "import datetime as dt\n",
    "import numpy as np\n",
    "import matplotlib.pyplot as plt\n",
    "from pandas.plotting import register_matplotlib_converters\n",
    "import warnings"
   ]
  },
  {
   "cell_type": "code",
   "execution_count": 2,
   "metadata": {},
   "outputs": [],
   "source": [
    "df_clients=pd.read_csv('https://code.s3.yandex.net/datasets/telecom_clients.csv')\n",
    "df_datasets=pd.read_csv('https://code.s3.yandex.net/datasets/telecom_dataset.csv')"
   ]
  },
  {
   "cell_type": "markdown",
   "metadata": {},
   "source": [
    "<div class=\"alert alert-success\">\n",
    "    \n",
    "**Комментарий ревьюера**\n",
    "\n",
    "**#ок**\n",
    "\n",
    "Данные верно подгружены.\n",
    "\n",
    "Дополнительно для импорта можно также использовать конструкцию try-except:\n",
    "    \n",
    "```\n",
    "try:\n",
    "      df_clients=pd.read_csv('https://code.s3.yandex.net/datasets/telecom_clients.csv')\n",
    "except:\n",
    "      print(\"Файл не найден\")\n",
    "    \n",
    "```\n",
    "    \n",
    "Это во-первых, позволит при отсутствии файла завершить выполнение ячейки штатно, без ошибки. А также аналогичный способ можно использовать в случае возможного хранения файла в нескольких местах, например, локально и на сервере.\n",
    "    \n",
    "```\n",
    "try:\n",
    "      df_clients=pd.read_csv('https://code.s3.yandex.net/datasets/telecom_clients.csv')\n",
    "except:\n",
    "      df_clients = pd.read_csv('telecom_clients.csv')\n",
    "    \n",
    "``` \n",
    "</div>"
   ]
  },
  {
   "cell_type": "markdown",
   "metadata": {},
   "source": [
    "# Цели проекта:\n",
    "\n",
    "**Найти клиентов, которые:\n",
    "а) переплачивают на текущих тарифах;\n",
    "б) сэкономят, если перейдут на более дорогой тариф.**"
   ]
  },
  {
   "cell_type": "markdown",
   "metadata": {},
   "source": [
    "# Содержание\n",
    "\n",
    "1. [Часть 1 .Предобработка данных](#1)<br/>1.1  [Создадим таблицу с данными о тарифах](#1.1)<br/>1.2 [Перевод в правильный формат](#1.2)<br/>1.3 [Поиск дубликатов](#1.3)<br/>1.4 [Вывод по первой части](#1.4)\n",
    "\n",
    "2. [Часть 2.Исследовательский анализ](#2)<br/>2.1[Создадим новую таблицу где будет вся информация о клиентах, тарифе, количестве минут , платы за тариф](#2_1)<br/>2.2[Количество операторов у каждого клиента](#2_2)<br/>2.3[Ежемесяная плата за тариф](#2_3)<br/>2.4[Оптимальный тариф](#2_4)<br/>2.5[Лучший тариф для каждого клиента](#2_5)<br/>2.6[Переплата](#2_6)<br/>2.7[Вывод по второй части](#2_7)\n",
    "\n",
    "3. [Часть 3.Активные клиенты](#3)<br/>4.1[Вывод по третьей части](#3_1)\n",
    "\n",
    "4. [Рекомендации](#4)\n",
    "\n",
    "5. [Гипотезы](#5)\n",
    "\n",
    "6. [Общий вывод](#6)"
   ]
  },
  {
   "cell_type": "markdown",
   "metadata": {},
   "source": [
    "## Часть 1. Предобработка данных\n",
    "<a id=\"1\"></a>"
   ]
  },
  {
   "cell_type": "code",
   "execution_count": 3,
   "metadata": {},
   "outputs": [
    {
     "name": "stdout",
     "output_type": "stream",
     "text": [
      "----------Первые 5 строк----------\n"
     ]
    },
    {
     "data": {
      "text/html": [
       "<div>\n",
       "<style scoped>\n",
       "    .dataframe tbody tr th:only-of-type {\n",
       "        vertical-align: middle;\n",
       "    }\n",
       "\n",
       "    .dataframe tbody tr th {\n",
       "        vertical-align: top;\n",
       "    }\n",
       "\n",
       "    .dataframe thead th {\n",
       "        text-align: right;\n",
       "    }\n",
       "</style>\n",
       "<table border=\"1\" class=\"dataframe\">\n",
       "  <thead>\n",
       "    <tr style=\"text-align: right;\">\n",
       "      <th></th>\n",
       "      <th>user_id</th>\n",
       "      <th>tariff_plan</th>\n",
       "      <th>date_start</th>\n",
       "    </tr>\n",
       "  </thead>\n",
       "  <tbody>\n",
       "    <tr>\n",
       "      <th>0</th>\n",
       "      <td>166713</td>\n",
       "      <td>A</td>\n",
       "      <td>2019-08-15</td>\n",
       "    </tr>\n",
       "    <tr>\n",
       "      <th>1</th>\n",
       "      <td>166901</td>\n",
       "      <td>A</td>\n",
       "      <td>2019-08-23</td>\n",
       "    </tr>\n",
       "    <tr>\n",
       "      <th>2</th>\n",
       "      <td>168527</td>\n",
       "      <td>A</td>\n",
       "      <td>2019-10-29</td>\n",
       "    </tr>\n",
       "    <tr>\n",
       "      <th>3</th>\n",
       "      <td>167097</td>\n",
       "      <td>A</td>\n",
       "      <td>2019-09-01</td>\n",
       "    </tr>\n",
       "    <tr>\n",
       "      <th>4</th>\n",
       "      <td>168193</td>\n",
       "      <td>A</td>\n",
       "      <td>2019-10-16</td>\n",
       "    </tr>\n",
       "  </tbody>\n",
       "</table>\n",
       "</div>"
      ],
      "text/plain": [
       "   user_id tariff_plan  date_start\n",
       "0   166713           A  2019-08-15\n",
       "1   166901           A  2019-08-23\n",
       "2   168527           A  2019-10-29\n",
       "3   167097           A  2019-09-01\n",
       "4   168193           A  2019-10-16"
      ]
     },
     "metadata": {},
     "output_type": "display_data"
    },
    {
     "name": "stdout",
     "output_type": "stream",
     "text": [
      "----------тип данных----------\n",
      "<class 'pandas.core.frame.DataFrame'>\n",
      "RangeIndex: 732 entries, 0 to 731\n",
      "Data columns (total 3 columns):\n",
      " #   Column       Non-Null Count  Dtype \n",
      "---  ------       --------------  ----- \n",
      " 0   user_id      732 non-null    int64 \n",
      " 1   tariff_plan  732 non-null    object\n",
      " 2   date_start   732 non-null    object\n",
      "dtypes: int64(1), object(2)\n",
      "memory usage: 17.3+ KB\n"
     ]
    },
    {
     "data": {
      "text/plain": [
       "None"
      ]
     },
     "metadata": {},
     "output_type": "display_data"
    },
    {
     "name": "stdout",
     "output_type": "stream",
     "text": [
      "----------дубликаты----------\n"
     ]
    },
    {
     "data": {
      "text/plain": [
       "0"
      ]
     },
     "metadata": {},
     "output_type": "display_data"
    },
    {
     "name": "stdout",
     "output_type": "stream",
     "text": [
      "----------пропуски----------\n"
     ]
    },
    {
     "data": {
      "text/plain": [
       "user_id        0\n",
       "tariff_plan    0\n",
       "date_start     0\n",
       "dtype: int64"
      ]
     },
     "metadata": {},
     "output_type": "display_data"
    }
   ],
   "source": [
    "def all_info(df):\n",
    "    print('----------Первые 5 строк----------')\n",
    "    display(df.head(5))\n",
    "    print('----------тип данных----------')\n",
    "    display(df.info())\n",
    "    print('----------дубликаты----------')\n",
    "    display(df.duplicated().sum())\n",
    "    print('----------пропуски----------')\n",
    "    display(df.isna().sum())\n",
    "all_info(df_clients)"
   ]
  },
  {
   "cell_type": "markdown",
   "metadata": {},
   "source": [
    "**В таблице df_clients представлена информация о клиентах,тарифном плане и дате регистрации на сервисе. Данный датафрейм состоит из 732 строк  , пропусков также как и дубликатов нет**"
   ]
  },
  {
   "cell_type": "code",
   "execution_count": 4,
   "metadata": {},
   "outputs": [
    {
     "name": "stdout",
     "output_type": "stream",
     "text": [
      "----------Первые 5 строк----------\n"
     ]
    },
    {
     "data": {
      "text/html": [
       "<div>\n",
       "<style scoped>\n",
       "    .dataframe tbody tr th:only-of-type {\n",
       "        vertical-align: middle;\n",
       "    }\n",
       "\n",
       "    .dataframe tbody tr th {\n",
       "        vertical-align: top;\n",
       "    }\n",
       "\n",
       "    .dataframe thead th {\n",
       "        text-align: right;\n",
       "    }\n",
       "</style>\n",
       "<table border=\"1\" class=\"dataframe\">\n",
       "  <thead>\n",
       "    <tr style=\"text-align: right;\">\n",
       "      <th></th>\n",
       "      <th>user_id</th>\n",
       "      <th>date</th>\n",
       "      <th>direction</th>\n",
       "      <th>internal</th>\n",
       "      <th>operator_id</th>\n",
       "      <th>is_missed_call</th>\n",
       "      <th>calls_count</th>\n",
       "      <th>call_duration</th>\n",
       "      <th>total_call_duration</th>\n",
       "    </tr>\n",
       "  </thead>\n",
       "  <tbody>\n",
       "    <tr>\n",
       "      <th>0</th>\n",
       "      <td>166377</td>\n",
       "      <td>2019-08-04 00:00:00+03:00</td>\n",
       "      <td>in</td>\n",
       "      <td>False</td>\n",
       "      <td>NaN</td>\n",
       "      <td>True</td>\n",
       "      <td>2</td>\n",
       "      <td>0</td>\n",
       "      <td>4</td>\n",
       "    </tr>\n",
       "    <tr>\n",
       "      <th>1</th>\n",
       "      <td>166377</td>\n",
       "      <td>2019-08-05 00:00:00+03:00</td>\n",
       "      <td>out</td>\n",
       "      <td>True</td>\n",
       "      <td>880022.0</td>\n",
       "      <td>True</td>\n",
       "      <td>3</td>\n",
       "      <td>0</td>\n",
       "      <td>5</td>\n",
       "    </tr>\n",
       "    <tr>\n",
       "      <th>2</th>\n",
       "      <td>166377</td>\n",
       "      <td>2019-08-05 00:00:00+03:00</td>\n",
       "      <td>out</td>\n",
       "      <td>True</td>\n",
       "      <td>880020.0</td>\n",
       "      <td>True</td>\n",
       "      <td>1</td>\n",
       "      <td>0</td>\n",
       "      <td>1</td>\n",
       "    </tr>\n",
       "    <tr>\n",
       "      <th>3</th>\n",
       "      <td>166377</td>\n",
       "      <td>2019-08-05 00:00:00+03:00</td>\n",
       "      <td>out</td>\n",
       "      <td>True</td>\n",
       "      <td>880020.0</td>\n",
       "      <td>False</td>\n",
       "      <td>1</td>\n",
       "      <td>10</td>\n",
       "      <td>18</td>\n",
       "    </tr>\n",
       "    <tr>\n",
       "      <th>4</th>\n",
       "      <td>166377</td>\n",
       "      <td>2019-08-05 00:00:00+03:00</td>\n",
       "      <td>out</td>\n",
       "      <td>False</td>\n",
       "      <td>880022.0</td>\n",
       "      <td>True</td>\n",
       "      <td>3</td>\n",
       "      <td>0</td>\n",
       "      <td>25</td>\n",
       "    </tr>\n",
       "  </tbody>\n",
       "</table>\n",
       "</div>"
      ],
      "text/plain": [
       "   user_id                       date direction internal  operator_id  \\\n",
       "0   166377  2019-08-04 00:00:00+03:00        in    False          NaN   \n",
       "1   166377  2019-08-05 00:00:00+03:00       out     True     880022.0   \n",
       "2   166377  2019-08-05 00:00:00+03:00       out     True     880020.0   \n",
       "3   166377  2019-08-05 00:00:00+03:00       out     True     880020.0   \n",
       "4   166377  2019-08-05 00:00:00+03:00       out    False     880022.0   \n",
       "\n",
       "   is_missed_call  calls_count  call_duration  total_call_duration  \n",
       "0            True            2              0                    4  \n",
       "1            True            3              0                    5  \n",
       "2            True            1              0                    1  \n",
       "3           False            1             10                   18  \n",
       "4            True            3              0                   25  "
      ]
     },
     "metadata": {},
     "output_type": "display_data"
    },
    {
     "name": "stdout",
     "output_type": "stream",
     "text": [
      "----------тип данных----------\n",
      "<class 'pandas.core.frame.DataFrame'>\n",
      "RangeIndex: 53902 entries, 0 to 53901\n",
      "Data columns (total 9 columns):\n",
      " #   Column               Non-Null Count  Dtype  \n",
      "---  ------               --------------  -----  \n",
      " 0   user_id              53902 non-null  int64  \n",
      " 1   date                 53902 non-null  object \n",
      " 2   direction            53902 non-null  object \n",
      " 3   internal             53785 non-null  object \n",
      " 4   operator_id          45730 non-null  float64\n",
      " 5   is_missed_call       53902 non-null  bool   \n",
      " 6   calls_count          53902 non-null  int64  \n",
      " 7   call_duration        53902 non-null  int64  \n",
      " 8   total_call_duration  53902 non-null  int64  \n",
      "dtypes: bool(1), float64(1), int64(4), object(3)\n",
      "memory usage: 3.3+ MB\n"
     ]
    },
    {
     "data": {
      "text/plain": [
       "None"
      ]
     },
     "metadata": {},
     "output_type": "display_data"
    },
    {
     "name": "stdout",
     "output_type": "stream",
     "text": [
      "----------дубликаты----------\n"
     ]
    },
    {
     "data": {
      "text/plain": [
       "4900"
      ]
     },
     "metadata": {},
     "output_type": "display_data"
    },
    {
     "name": "stdout",
     "output_type": "stream",
     "text": [
      "----------пропуски----------\n"
     ]
    },
    {
     "data": {
      "text/plain": [
       "user_id                   0\n",
       "date                      0\n",
       "direction                 0\n",
       "internal                117\n",
       "operator_id            8172\n",
       "is_missed_call            0\n",
       "calls_count               0\n",
       "call_duration             0\n",
       "total_call_duration       0\n",
       "dtype: int64"
      ]
     },
     "metadata": {},
     "output_type": "display_data"
    }
   ],
   "source": [
    "def all_info(df):\n",
    "    print('----------Первые 5 строк----------')\n",
    "    display(df.head(5))\n",
    "    print('----------тип данных----------')\n",
    "    display(df.info())\n",
    "    print('----------дубликаты----------')\n",
    "    display(df.duplicated().sum())\n",
    "    print('----------пропуски----------')\n",
    "    display(df.isna().sum())\n",
    "all_info(df_datasets)"
   ]
  },
  {
   "cell_type": "markdown",
   "metadata": {},
   "source": [
    "**df_datasets представлен в виде 53902 строк. Достаточно большое количество дубликатов которые надо удалить 4900 строк. Есть пропуски в столбцах internal и operator_id.** \n",
    "- столбец date привести к типу datetime\n",
    "- столбец internal привести к типу boolean\n",
    "- столбец operator_id привести к типу integer\n",
    "- в столбце пропуски заменить на заглушку -1\n"
   ]
  },
  {
   "cell_type": "markdown",
   "metadata": {},
   "source": [
    "<div class=\"alert alert-danger\">\n",
    "    \n",
    "**Комментарий ревьюера**\n",
    "\n",
    "**#ошибка**\n",
    "\n",
    "Отличное использование функции для получения общих сведений о сырых данных.\n",
    "\n",
    "Давай в итоге прокомментируем, что мы получили в результате.\n",
    "</div>"
   ]
  },
  {
   "cell_type": "markdown",
   "metadata": {},
   "source": [
    "<div class=\"alert alert-info\">\n",
    "<b>Комментарий студента:</b>\n",
    "<br>+\n",
    "</div>"
   ]
  },
  {
   "cell_type": "markdown",
   "metadata": {},
   "source": [
    "### **Создадим таблицу с данными о тарифах**\n",
    "<a id=\"1.1\"></a>"
   ]
  },
  {
   "cell_type": "code",
   "execution_count": 5,
   "metadata": {},
   "outputs": [
    {
     "data": {
      "text/html": [
       "<div>\n",
       "<style scoped>\n",
       "    .dataframe tbody tr th:only-of-type {\n",
       "        vertical-align: middle;\n",
       "    }\n",
       "\n",
       "    .dataframe tbody tr th {\n",
       "        vertical-align: top;\n",
       "    }\n",
       "\n",
       "    .dataframe thead th {\n",
       "        text-align: right;\n",
       "    }\n",
       "</style>\n",
       "<table border=\"1\" class=\"dataframe\">\n",
       "  <thead>\n",
       "    <tr style=\"text-align: right;\">\n",
       "      <th></th>\n",
       "      <th>Tariff</th>\n",
       "      <th>monthly fee(rub)</th>\n",
       "      <th>Incoming</th>\n",
       "      <th>Additional operator fee(rub)</th>\n",
       "      <th>Outgoing calls within(min)</th>\n",
       "      <th>Price over the limit(rub/min)</th>\n",
       "      <th>Outgoing calls,except internal(rub/min)</th>\n",
       "    </tr>\n",
       "  </thead>\n",
       "  <tbody>\n",
       "    <tr>\n",
       "      <th>0</th>\n",
       "      <td>A</td>\n",
       "      <td>4000</td>\n",
       "      <td>0</td>\n",
       "      <td>50</td>\n",
       "      <td>2000</td>\n",
       "      <td>0.10</td>\n",
       "      <td>0.3</td>\n",
       "    </tr>\n",
       "    <tr>\n",
       "      <th>1</th>\n",
       "      <td>B</td>\n",
       "      <td>2000</td>\n",
       "      <td>0</td>\n",
       "      <td>150</td>\n",
       "      <td>500</td>\n",
       "      <td>0.15</td>\n",
       "      <td>0.5</td>\n",
       "    </tr>\n",
       "    <tr>\n",
       "      <th>2</th>\n",
       "      <td>C</td>\n",
       "      <td>1000</td>\n",
       "      <td>0</td>\n",
       "      <td>300</td>\n",
       "      <td>0</td>\n",
       "      <td>0.30</td>\n",
       "      <td>0.7</td>\n",
       "    </tr>\n",
       "  </tbody>\n",
       "</table>\n",
       "</div>"
      ],
      "text/plain": [
       "  Tariff  monthly fee(rub)  Incoming   Additional operator fee(rub)  \\\n",
       "0      A              4000          0                            50   \n",
       "1      B              2000          0                           150   \n",
       "2      C              1000          0                           300   \n",
       "\n",
       "   Outgoing calls within(min)  Price over the limit(rub/min)  \\\n",
       "0                        2000                           0.10   \n",
       "1                         500                           0.15   \n",
       "2                           0                           0.30   \n",
       "\n",
       "   Outgoing calls,except internal(rub/min)  \n",
       "0                                      0.3  \n",
       "1                                      0.5  \n",
       "2                                      0.7  "
      ]
     },
     "execution_count": 5,
     "metadata": {},
     "output_type": "execute_result"
    }
   ],
   "source": [
    "df_tarif = {'Tariff': ['A', 'B', 'C'],\n",
    "        'monthly fee(rub)': [4000, 2000, 1000],\n",
    "        'Incoming ': [0,0,0],\n",
    "        'Additional operator fee(rub)':[50,150,300],\n",
    "        'Outgoing calls within(min)':[2000 ,500 ,0],\n",
    "        'Price over the limit(rub/min)':[0.1 ,0.15 ,0.3 ],\n",
    "        'Outgoing calls,except internal(rub/min)':[0.3 ,0.5 ,0.7]\n",
    "}\n",
    "df_tarif = pd.DataFrame(df_tarif)\n",
    "df_tarif"
   ]
  },
  {
   "cell_type": "markdown",
   "metadata": {},
   "source": [
    "### **Перевод в правильный формат**\n",
    "<a id=\"1.2\"></a>"
   ]
  },
  {
   "cell_type": "code",
   "execution_count": 6,
   "metadata": {},
   "outputs": [],
   "source": [
    "df_datasets['date'] = pd.to_datetime(df_datasets['date']).dt.date\n",
    "df_datasets['date'] = df_datasets['date'].astype('datetime64[ns]')\n",
    "df_datasets['internal'] = df_datasets['internal'].astype('bool')\n",
    "df_datasets['operator_id']=df_datasets['operator_id'].astype('Int64')\n",
    "df_datasets['operator_id'] = df_datasets['operator_id'].fillna(-1)"
   ]
  },
  {
   "cell_type": "markdown",
   "metadata": {},
   "source": [
    "### **Поиск дубликатов**\n",
    "<a id=\"1.3\"></a>"
   ]
  },
  {
   "cell_type": "code",
   "execution_count": 7,
   "metadata": {},
   "outputs": [
    {
     "data": {
      "text/html": [
       "<div>\n",
       "<style scoped>\n",
       "    .dataframe tbody tr th:only-of-type {\n",
       "        vertical-align: middle;\n",
       "    }\n",
       "\n",
       "    .dataframe tbody tr th {\n",
       "        vertical-align: top;\n",
       "    }\n",
       "\n",
       "    .dataframe thead th {\n",
       "        text-align: right;\n",
       "    }\n",
       "</style>\n",
       "<table border=\"1\" class=\"dataframe\">\n",
       "  <thead>\n",
       "    <tr style=\"text-align: right;\">\n",
       "      <th></th>\n",
       "      <th>user_id</th>\n",
       "      <th>date</th>\n",
       "      <th>direction</th>\n",
       "      <th>internal</th>\n",
       "      <th>operator_id</th>\n",
       "      <th>is_missed_call</th>\n",
       "      <th>calls_count</th>\n",
       "      <th>call_duration</th>\n",
       "      <th>total_call_duration</th>\n",
       "    </tr>\n",
       "  </thead>\n",
       "  <tbody>\n",
       "    <tr>\n",
       "      <th>0</th>\n",
       "      <td>166377</td>\n",
       "      <td>2019-08-04</td>\n",
       "      <td>in</td>\n",
       "      <td>False</td>\n",
       "      <td>-1</td>\n",
       "      <td>True</td>\n",
       "      <td>2</td>\n",
       "      <td>0</td>\n",
       "      <td>4</td>\n",
       "    </tr>\n",
       "    <tr>\n",
       "      <th>1</th>\n",
       "      <td>166377</td>\n",
       "      <td>2019-08-05</td>\n",
       "      <td>out</td>\n",
       "      <td>True</td>\n",
       "      <td>880022</td>\n",
       "      <td>True</td>\n",
       "      <td>3</td>\n",
       "      <td>0</td>\n",
       "      <td>5</td>\n",
       "    </tr>\n",
       "    <tr>\n",
       "      <th>2</th>\n",
       "      <td>166377</td>\n",
       "      <td>2019-08-05</td>\n",
       "      <td>out</td>\n",
       "      <td>True</td>\n",
       "      <td>880020</td>\n",
       "      <td>True</td>\n",
       "      <td>1</td>\n",
       "      <td>0</td>\n",
       "      <td>1</td>\n",
       "    </tr>\n",
       "    <tr>\n",
       "      <th>3</th>\n",
       "      <td>166377</td>\n",
       "      <td>2019-08-05</td>\n",
       "      <td>out</td>\n",
       "      <td>True</td>\n",
       "      <td>880020</td>\n",
       "      <td>False</td>\n",
       "      <td>1</td>\n",
       "      <td>10</td>\n",
       "      <td>18</td>\n",
       "    </tr>\n",
       "    <tr>\n",
       "      <th>4</th>\n",
       "      <td>166377</td>\n",
       "      <td>2019-08-05</td>\n",
       "      <td>out</td>\n",
       "      <td>False</td>\n",
       "      <td>880022</td>\n",
       "      <td>True</td>\n",
       "      <td>3</td>\n",
       "      <td>0</td>\n",
       "      <td>25</td>\n",
       "    </tr>\n",
       "    <tr>\n",
       "      <th>...</th>\n",
       "      <td>...</td>\n",
       "      <td>...</td>\n",
       "      <td>...</td>\n",
       "      <td>...</td>\n",
       "      <td>...</td>\n",
       "      <td>...</td>\n",
       "      <td>...</td>\n",
       "      <td>...</td>\n",
       "      <td>...</td>\n",
       "    </tr>\n",
       "    <tr>\n",
       "      <th>48997</th>\n",
       "      <td>168606</td>\n",
       "      <td>2019-11-10</td>\n",
       "      <td>out</td>\n",
       "      <td>True</td>\n",
       "      <td>957922</td>\n",
       "      <td>False</td>\n",
       "      <td>1</td>\n",
       "      <td>0</td>\n",
       "      <td>25</td>\n",
       "    </tr>\n",
       "    <tr>\n",
       "      <th>48998</th>\n",
       "      <td>168606</td>\n",
       "      <td>2019-11-10</td>\n",
       "      <td>out</td>\n",
       "      <td>True</td>\n",
       "      <td>957922</td>\n",
       "      <td>True</td>\n",
       "      <td>1</td>\n",
       "      <td>0</td>\n",
       "      <td>38</td>\n",
       "    </tr>\n",
       "    <tr>\n",
       "      <th>48999</th>\n",
       "      <td>168606</td>\n",
       "      <td>2019-11-11</td>\n",
       "      <td>out</td>\n",
       "      <td>True</td>\n",
       "      <td>957922</td>\n",
       "      <td>False</td>\n",
       "      <td>2</td>\n",
       "      <td>479</td>\n",
       "      <td>501</td>\n",
       "    </tr>\n",
       "    <tr>\n",
       "      <th>49000</th>\n",
       "      <td>168606</td>\n",
       "      <td>2019-11-15</td>\n",
       "      <td>out</td>\n",
       "      <td>True</td>\n",
       "      <td>957922</td>\n",
       "      <td>False</td>\n",
       "      <td>4</td>\n",
       "      <td>3130</td>\n",
       "      <td>3190</td>\n",
       "    </tr>\n",
       "    <tr>\n",
       "      <th>49001</th>\n",
       "      <td>168606</td>\n",
       "      <td>2019-11-19</td>\n",
       "      <td>in</td>\n",
       "      <td>False</td>\n",
       "      <td>-1</td>\n",
       "      <td>True</td>\n",
       "      <td>2</td>\n",
       "      <td>0</td>\n",
       "      <td>64</td>\n",
       "    </tr>\n",
       "  </tbody>\n",
       "</table>\n",
       "<p>49002 rows × 9 columns</p>\n",
       "</div>"
      ],
      "text/plain": [
       "       user_id       date direction  internal  operator_id  is_missed_call  \\\n",
       "0       166377 2019-08-04        in     False           -1            True   \n",
       "1       166377 2019-08-05       out      True       880022            True   \n",
       "2       166377 2019-08-05       out      True       880020            True   \n",
       "3       166377 2019-08-05       out      True       880020           False   \n",
       "4       166377 2019-08-05       out     False       880022            True   \n",
       "...        ...        ...       ...       ...          ...             ...   \n",
       "48997   168606 2019-11-10       out      True       957922           False   \n",
       "48998   168606 2019-11-10       out      True       957922            True   \n",
       "48999   168606 2019-11-11       out      True       957922           False   \n",
       "49000   168606 2019-11-15       out      True       957922           False   \n",
       "49001   168606 2019-11-19        in     False           -1            True   \n",
       "\n",
       "       calls_count  call_duration  total_call_duration  \n",
       "0                2              0                    4  \n",
       "1                3              0                    5  \n",
       "2                1              0                    1  \n",
       "3                1             10                   18  \n",
       "4                3              0                   25  \n",
       "...            ...            ...                  ...  \n",
       "48997            1              0                   25  \n",
       "48998            1              0                   38  \n",
       "48999            2            479                  501  \n",
       "49000            4           3130                 3190  \n",
       "49001            2              0                   64  \n",
       "\n",
       "[49002 rows x 9 columns]"
      ]
     },
     "execution_count": 7,
     "metadata": {},
     "output_type": "execute_result"
    }
   ],
   "source": [
    "df_datasets[df_datasets.duplicated(keep=False)]\n",
    "df_datasets_unique = df_datasets.drop_duplicates().reset_index(drop=True)\n",
    "df_datasets_unique"
   ]
  },
  {
   "cell_type": "markdown",
   "metadata": {},
   "source": [
    "**После удаления дубликатов в таблице стало 49002 строки**"
   ]
  },
  {
   "cell_type": "code",
   "execution_count": 8,
   "metadata": {},
   "outputs": [
    {
     "data": {
      "text/html": [
       "<div>\n",
       "<style scoped>\n",
       "    .dataframe tbody tr th:only-of-type {\n",
       "        vertical-align: middle;\n",
       "    }\n",
       "\n",
       "    .dataframe tbody tr th {\n",
       "        vertical-align: top;\n",
       "    }\n",
       "\n",
       "    .dataframe thead th {\n",
       "        text-align: right;\n",
       "    }\n",
       "</style>\n",
       "<table border=\"1\" class=\"dataframe\">\n",
       "  <thead>\n",
       "    <tr style=\"text-align: right;\">\n",
       "      <th></th>\n",
       "      <th>user_id</th>\n",
       "      <th>date</th>\n",
       "      <th>direction</th>\n",
       "      <th>internal</th>\n",
       "      <th>operator_id</th>\n",
       "      <th>is_missed_call</th>\n",
       "      <th>calls_count</th>\n",
       "      <th>call_duration</th>\n",
       "      <th>total_call_duration</th>\n",
       "      <th>tariff_plan</th>\n",
       "      <th>month</th>\n",
       "    </tr>\n",
       "  </thead>\n",
       "  <tbody>\n",
       "    <tr>\n",
       "      <th>0</th>\n",
       "      <td>166377</td>\n",
       "      <td>2019-08-04</td>\n",
       "      <td>in</td>\n",
       "      <td>False</td>\n",
       "      <td>-1</td>\n",
       "      <td>True</td>\n",
       "      <td>2</td>\n",
       "      <td>0</td>\n",
       "      <td>4</td>\n",
       "      <td>B</td>\n",
       "      <td>8</td>\n",
       "    </tr>\n",
       "    <tr>\n",
       "      <th>1</th>\n",
       "      <td>166377</td>\n",
       "      <td>2019-08-05</td>\n",
       "      <td>out</td>\n",
       "      <td>True</td>\n",
       "      <td>880022</td>\n",
       "      <td>True</td>\n",
       "      <td>3</td>\n",
       "      <td>0</td>\n",
       "      <td>5</td>\n",
       "      <td>B</td>\n",
       "      <td>8</td>\n",
       "    </tr>\n",
       "    <tr>\n",
       "      <th>2</th>\n",
       "      <td>166377</td>\n",
       "      <td>2019-08-05</td>\n",
       "      <td>out</td>\n",
       "      <td>True</td>\n",
       "      <td>880020</td>\n",
       "      <td>True</td>\n",
       "      <td>1</td>\n",
       "      <td>0</td>\n",
       "      <td>1</td>\n",
       "      <td>B</td>\n",
       "      <td>8</td>\n",
       "    </tr>\n",
       "    <tr>\n",
       "      <th>3</th>\n",
       "      <td>166377</td>\n",
       "      <td>2019-08-05</td>\n",
       "      <td>out</td>\n",
       "      <td>True</td>\n",
       "      <td>880020</td>\n",
       "      <td>False</td>\n",
       "      <td>1</td>\n",
       "      <td>10</td>\n",
       "      <td>18</td>\n",
       "      <td>B</td>\n",
       "      <td>8</td>\n",
       "    </tr>\n",
       "    <tr>\n",
       "      <th>4</th>\n",
       "      <td>166377</td>\n",
       "      <td>2019-08-05</td>\n",
       "      <td>out</td>\n",
       "      <td>False</td>\n",
       "      <td>880022</td>\n",
       "      <td>True</td>\n",
       "      <td>3</td>\n",
       "      <td>0</td>\n",
       "      <td>25</td>\n",
       "      <td>B</td>\n",
       "      <td>8</td>\n",
       "    </tr>\n",
       "    <tr>\n",
       "      <th>...</th>\n",
       "      <td>...</td>\n",
       "      <td>...</td>\n",
       "      <td>...</td>\n",
       "      <td>...</td>\n",
       "      <td>...</td>\n",
       "      <td>...</td>\n",
       "      <td>...</td>\n",
       "      <td>...</td>\n",
       "      <td>...</td>\n",
       "      <td>...</td>\n",
       "      <td>...</td>\n",
       "    </tr>\n",
       "    <tr>\n",
       "      <th>48997</th>\n",
       "      <td>168606</td>\n",
       "      <td>2019-11-10</td>\n",
       "      <td>out</td>\n",
       "      <td>True</td>\n",
       "      <td>957922</td>\n",
       "      <td>False</td>\n",
       "      <td>1</td>\n",
       "      <td>0</td>\n",
       "      <td>25</td>\n",
       "      <td>C</td>\n",
       "      <td>11</td>\n",
       "    </tr>\n",
       "    <tr>\n",
       "      <th>48998</th>\n",
       "      <td>168606</td>\n",
       "      <td>2019-11-10</td>\n",
       "      <td>out</td>\n",
       "      <td>True</td>\n",
       "      <td>957922</td>\n",
       "      <td>True</td>\n",
       "      <td>1</td>\n",
       "      <td>0</td>\n",
       "      <td>38</td>\n",
       "      <td>C</td>\n",
       "      <td>11</td>\n",
       "    </tr>\n",
       "    <tr>\n",
       "      <th>48999</th>\n",
       "      <td>168606</td>\n",
       "      <td>2019-11-11</td>\n",
       "      <td>out</td>\n",
       "      <td>True</td>\n",
       "      <td>957922</td>\n",
       "      <td>False</td>\n",
       "      <td>2</td>\n",
       "      <td>479</td>\n",
       "      <td>501</td>\n",
       "      <td>C</td>\n",
       "      <td>11</td>\n",
       "    </tr>\n",
       "    <tr>\n",
       "      <th>49000</th>\n",
       "      <td>168606</td>\n",
       "      <td>2019-11-15</td>\n",
       "      <td>out</td>\n",
       "      <td>True</td>\n",
       "      <td>957922</td>\n",
       "      <td>False</td>\n",
       "      <td>4</td>\n",
       "      <td>3130</td>\n",
       "      <td>3190</td>\n",
       "      <td>C</td>\n",
       "      <td>11</td>\n",
       "    </tr>\n",
       "    <tr>\n",
       "      <th>49001</th>\n",
       "      <td>168606</td>\n",
       "      <td>2019-11-19</td>\n",
       "      <td>in</td>\n",
       "      <td>False</td>\n",
       "      <td>-1</td>\n",
       "      <td>True</td>\n",
       "      <td>2</td>\n",
       "      <td>0</td>\n",
       "      <td>64</td>\n",
       "      <td>C</td>\n",
       "      <td>11</td>\n",
       "    </tr>\n",
       "  </tbody>\n",
       "</table>\n",
       "<p>49002 rows × 11 columns</p>\n",
       "</div>"
      ],
      "text/plain": [
       "       user_id       date direction  internal  operator_id  is_missed_call  \\\n",
       "0       166377 2019-08-04        in     False           -1            True   \n",
       "1       166377 2019-08-05       out      True       880022            True   \n",
       "2       166377 2019-08-05       out      True       880020            True   \n",
       "3       166377 2019-08-05       out      True       880020           False   \n",
       "4       166377 2019-08-05       out     False       880022            True   \n",
       "...        ...        ...       ...       ...          ...             ...   \n",
       "48997   168606 2019-11-10       out      True       957922           False   \n",
       "48998   168606 2019-11-10       out      True       957922            True   \n",
       "48999   168606 2019-11-11       out      True       957922           False   \n",
       "49000   168606 2019-11-15       out      True       957922           False   \n",
       "49001   168606 2019-11-19        in     False           -1            True   \n",
       "\n",
       "       calls_count  call_duration  total_call_duration tariff_plan  month  \n",
       "0                2              0                    4           B      8  \n",
       "1                3              0                    5           B      8  \n",
       "2                1              0                    1           B      8  \n",
       "3                1             10                   18           B      8  \n",
       "4                3              0                   25           B      8  \n",
       "...            ...            ...                  ...         ...    ...  \n",
       "48997            1              0                   25           C     11  \n",
       "48998            1              0                   38           C     11  \n",
       "48999            2            479                  501           C     11  \n",
       "49000            4           3130                 3190           C     11  \n",
       "49001            2              0                   64           C     11  \n",
       "\n",
       "[49002 rows x 11 columns]"
      ]
     },
     "execution_count": 8,
     "metadata": {},
     "output_type": "execute_result"
    }
   ],
   "source": [
    "merged_df = pd.merge(df_datasets_unique, df_clients, on='user_id', how='inner').drop('date_start', axis=1)\n",
    "merged_df['month'] = merged_df['date'].dt.month\n",
    "merged_df"
   ]
  },
  {
   "cell_type": "code",
   "execution_count": 9,
   "metadata": {},
   "outputs": [
    {
     "name": "stdout",
     "output_type": "stream",
     "text": [
      "<class 'pandas.core.frame.DataFrame'>\n",
      "Int64Index: 49002 entries, 0 to 49001\n",
      "Data columns (total 11 columns):\n",
      " #   Column               Non-Null Count  Dtype         \n",
      "---  ------               --------------  -----         \n",
      " 0   user_id              49002 non-null  int64         \n",
      " 1   date                 49002 non-null  datetime64[ns]\n",
      " 2   direction            49002 non-null  object        \n",
      " 3   internal             49002 non-null  bool          \n",
      " 4   operator_id          49002 non-null  Int64         \n",
      " 5   is_missed_call       49002 non-null  bool          \n",
      " 6   calls_count          49002 non-null  int64         \n",
      " 7   call_duration        49002 non-null  int64         \n",
      " 8   total_call_duration  49002 non-null  int64         \n",
      " 9   tariff_plan          49002 non-null  object        \n",
      " 10  month                49002 non-null  int64         \n",
      "dtypes: Int64(1), bool(2), datetime64[ns](1), int64(5), object(2)\n",
      "memory usage: 3.9+ MB\n"
     ]
    }
   ],
   "source": [
    "merged_df.info()"
   ]
  },
  {
   "cell_type": "code",
   "execution_count": 10,
   "metadata": {},
   "outputs": [
    {
     "data": {
      "text/plain": [
       "user_id                0\n",
       "date                   0\n",
       "direction              0\n",
       "internal               0\n",
       "operator_id            0\n",
       "is_missed_call         0\n",
       "calls_count            0\n",
       "call_duration          0\n",
       "total_call_duration    0\n",
       "tariff_plan            0\n",
       "month                  0\n",
       "dtype: int64"
      ]
     },
     "metadata": {},
     "output_type": "display_data"
    }
   ],
   "source": [
    "display(merged_df.isna().sum())"
   ]
  },
  {
   "cell_type": "markdown",
   "metadata": {},
   "source": [
    "**Данную таблицу вы получили в результате объединения двух датафремов , очищенного от дубликатов - df_datasets_unique, и таблицей - df_clients . В таблице появилась информация о том какой тариф используют клиенты. После обьединения все данные полные , пропусков нет.**"
   ]
  },
  {
   "cell_type": "markdown",
   "metadata": {},
   "source": [
    "<div class=\"alert alert-danger\">\n",
    "    \n",
    "**Комментарий ревьюера**\n",
    "\n",
    "**#ошибка**\n",
    "\n",
    "Здесь мы получаем основную таблицу для анализа. Нужно подробно прокомментировать, как прошло объединение таблиц, какие данные у нас сохранились, удалось ли для каждого клиента найти тариф и.т.п.\n",
    "\n",
    "\n",
    "    \n",
    "</div>"
   ]
  },
  {
   "cell_type": "markdown",
   "metadata": {},
   "source": [
    "<div class=\"alert alert-info\">\n",
    "<b>Комментарий студента:</b>\n",
    "<br>+\n",
    "</div>"
   ]
  },
  {
   "cell_type": "code",
   "execution_count": 11,
   "metadata": {},
   "outputs": [
    {
     "data": {
      "text/html": [
       "<div>\n",
       "<style scoped>\n",
       "    .dataframe tbody tr th:only-of-type {\n",
       "        vertical-align: middle;\n",
       "    }\n",
       "\n",
       "    .dataframe tbody tr th {\n",
       "        vertical-align: top;\n",
       "    }\n",
       "\n",
       "    .dataframe thead th {\n",
       "        text-align: right;\n",
       "    }\n",
       "</style>\n",
       "<table border=\"1\" class=\"dataframe\">\n",
       "  <thead>\n",
       "    <tr style=\"text-align: right;\">\n",
       "      <th></th>\n",
       "      <th>call_duration</th>\n",
       "      <th>total_call_duration</th>\n",
       "    </tr>\n",
       "  </thead>\n",
       "  <tbody>\n",
       "    <tr>\n",
       "      <th>count</th>\n",
       "      <td>49002.000000</td>\n",
       "      <td>49002.000000</td>\n",
       "    </tr>\n",
       "    <tr>\n",
       "      <th>mean</th>\n",
       "      <td>866.282091</td>\n",
       "      <td>1156.558202</td>\n",
       "    </tr>\n",
       "    <tr>\n",
       "      <th>std</th>\n",
       "      <td>3775.503352</td>\n",
       "      <td>4451.473661</td>\n",
       "    </tr>\n",
       "    <tr>\n",
       "      <th>min</th>\n",
       "      <td>0.000000</td>\n",
       "      <td>0.000000</td>\n",
       "    </tr>\n",
       "    <tr>\n",
       "      <th>25%</th>\n",
       "      <td>0.000000</td>\n",
       "      <td>46.000000</td>\n",
       "    </tr>\n",
       "    <tr>\n",
       "      <th>50%</th>\n",
       "      <td>37.000000</td>\n",
       "      <td>208.000000</td>\n",
       "    </tr>\n",
       "    <tr>\n",
       "      <th>75%</th>\n",
       "      <td>570.000000</td>\n",
       "      <td>901.000000</td>\n",
       "    </tr>\n",
       "    <tr>\n",
       "      <th>max</th>\n",
       "      <td>144395.000000</td>\n",
       "      <td>166155.000000</td>\n",
       "    </tr>\n",
       "  </tbody>\n",
       "</table>\n",
       "</div>"
      ],
      "text/plain": [
       "       call_duration  total_call_duration\n",
       "count   49002.000000         49002.000000\n",
       "mean      866.282091          1156.558202\n",
       "std      3775.503352          4451.473661\n",
       "min         0.000000             0.000000\n",
       "25%         0.000000            46.000000\n",
       "50%        37.000000           208.000000\n",
       "75%       570.000000           901.000000\n",
       "max    144395.000000        166155.000000"
      ]
     },
     "metadata": {},
     "output_type": "display_data"
    }
   ],
   "source": [
    "display(merged_df[['call_duration', 'total_call_duration']].describe())"
   ]
  },
  {
   "cell_type": "code",
   "execution_count": 12,
   "metadata": {},
   "outputs": [
    {
     "data": {
      "text/html": [
       "<div>\n",
       "<style scoped>\n",
       "    .dataframe tbody tr th:only-of-type {\n",
       "        vertical-align: middle;\n",
       "    }\n",
       "\n",
       "    .dataframe tbody tr th {\n",
       "        vertical-align: top;\n",
       "    }\n",
       "\n",
       "    .dataframe thead th {\n",
       "        text-align: right;\n",
       "    }\n",
       "</style>\n",
       "<table border=\"1\" class=\"dataframe\">\n",
       "  <thead>\n",
       "    <tr style=\"text-align: right;\">\n",
       "      <th></th>\n",
       "      <th>user_id</th>\n",
       "      <th>date</th>\n",
       "      <th>direction</th>\n",
       "      <th>internal</th>\n",
       "      <th>operator_id</th>\n",
       "      <th>is_missed_call</th>\n",
       "      <th>calls_count</th>\n",
       "      <th>call_duration</th>\n",
       "      <th>total_call_duration</th>\n",
       "      <th>tariff_plan</th>\n",
       "      <th>month</th>\n",
       "    </tr>\n",
       "  </thead>\n",
       "  <tbody>\n",
       "    <tr>\n",
       "      <th>0</th>\n",
       "      <td>166377</td>\n",
       "      <td>2019-09-02</td>\n",
       "      <td>in</td>\n",
       "      <td>False</td>\n",
       "      <td>880028</td>\n",
       "      <td>False</td>\n",
       "      <td>2</td>\n",
       "      <td>66</td>\n",
       "      <td>75</td>\n",
       "      <td>B</td>\n",
       "      <td>9</td>\n",
       "    </tr>\n",
       "    <tr>\n",
       "      <th>1</th>\n",
       "      <td>166377</td>\n",
       "      <td>2019-09-02</td>\n",
       "      <td>in</td>\n",
       "      <td>False</td>\n",
       "      <td>880026</td>\n",
       "      <td>False</td>\n",
       "      <td>1</td>\n",
       "      <td>31</td>\n",
       "      <td>34</td>\n",
       "      <td>B</td>\n",
       "      <td>9</td>\n",
       "    </tr>\n",
       "    <tr>\n",
       "      <th>2</th>\n",
       "      <td>166377</td>\n",
       "      <td>2019-09-02</td>\n",
       "      <td>out</td>\n",
       "      <td>False</td>\n",
       "      <td>880026</td>\n",
       "      <td>False</td>\n",
       "      <td>16</td>\n",
       "      <td>1853</td>\n",
       "      <td>1983</td>\n",
       "      <td>B</td>\n",
       "      <td>9</td>\n",
       "    </tr>\n",
       "    <tr>\n",
       "      <th>3</th>\n",
       "      <td>166377</td>\n",
       "      <td>2019-09-02</td>\n",
       "      <td>out</td>\n",
       "      <td>False</td>\n",
       "      <td>880026</td>\n",
       "      <td>True</td>\n",
       "      <td>6</td>\n",
       "      <td>0</td>\n",
       "      <td>168</td>\n",
       "      <td>B</td>\n",
       "      <td>9</td>\n",
       "    </tr>\n",
       "    <tr>\n",
       "      <th>4</th>\n",
       "      <td>166377</td>\n",
       "      <td>2019-09-02</td>\n",
       "      <td>out</td>\n",
       "      <td>False</td>\n",
       "      <td>880028</td>\n",
       "      <td>False</td>\n",
       "      <td>20</td>\n",
       "      <td>2529</td>\n",
       "      <td>2687</td>\n",
       "      <td>B</td>\n",
       "      <td>9</td>\n",
       "    </tr>\n",
       "    <tr>\n",
       "      <th>...</th>\n",
       "      <td>...</td>\n",
       "      <td>...</td>\n",
       "      <td>...</td>\n",
       "      <td>...</td>\n",
       "      <td>...</td>\n",
       "      <td>...</td>\n",
       "      <td>...</td>\n",
       "      <td>...</td>\n",
       "      <td>...</td>\n",
       "      <td>...</td>\n",
       "      <td>...</td>\n",
       "    </tr>\n",
       "    <tr>\n",
       "      <th>45094</th>\n",
       "      <td>168606</td>\n",
       "      <td>2019-11-10</td>\n",
       "      <td>out</td>\n",
       "      <td>True</td>\n",
       "      <td>957922</td>\n",
       "      <td>False</td>\n",
       "      <td>1</td>\n",
       "      <td>0</td>\n",
       "      <td>25</td>\n",
       "      <td>C</td>\n",
       "      <td>11</td>\n",
       "    </tr>\n",
       "    <tr>\n",
       "      <th>45095</th>\n",
       "      <td>168606</td>\n",
       "      <td>2019-11-10</td>\n",
       "      <td>out</td>\n",
       "      <td>True</td>\n",
       "      <td>957922</td>\n",
       "      <td>True</td>\n",
       "      <td>1</td>\n",
       "      <td>0</td>\n",
       "      <td>38</td>\n",
       "      <td>C</td>\n",
       "      <td>11</td>\n",
       "    </tr>\n",
       "    <tr>\n",
       "      <th>45096</th>\n",
       "      <td>168606</td>\n",
       "      <td>2019-11-11</td>\n",
       "      <td>out</td>\n",
       "      <td>True</td>\n",
       "      <td>957922</td>\n",
       "      <td>False</td>\n",
       "      <td>2</td>\n",
       "      <td>479</td>\n",
       "      <td>501</td>\n",
       "      <td>C</td>\n",
       "      <td>11</td>\n",
       "    </tr>\n",
       "    <tr>\n",
       "      <th>45097</th>\n",
       "      <td>168606</td>\n",
       "      <td>2019-11-15</td>\n",
       "      <td>out</td>\n",
       "      <td>True</td>\n",
       "      <td>957922</td>\n",
       "      <td>False</td>\n",
       "      <td>4</td>\n",
       "      <td>3130</td>\n",
       "      <td>3190</td>\n",
       "      <td>C</td>\n",
       "      <td>11</td>\n",
       "    </tr>\n",
       "    <tr>\n",
       "      <th>45098</th>\n",
       "      <td>168606</td>\n",
       "      <td>2019-11-19</td>\n",
       "      <td>in</td>\n",
       "      <td>False</td>\n",
       "      <td>-1</td>\n",
       "      <td>True</td>\n",
       "      <td>2</td>\n",
       "      <td>0</td>\n",
       "      <td>64</td>\n",
       "      <td>C</td>\n",
       "      <td>11</td>\n",
       "    </tr>\n",
       "  </tbody>\n",
       "</table>\n",
       "<p>45099 rows × 11 columns</p>\n",
       "</div>"
      ],
      "text/plain": [
       "       user_id       date direction  internal  operator_id  is_missed_call  \\\n",
       "0       166377 2019-09-02        in     False       880028           False   \n",
       "1       166377 2019-09-02        in     False       880026           False   \n",
       "2       166377 2019-09-02       out     False       880026           False   \n",
       "3       166377 2019-09-02       out     False       880026            True   \n",
       "4       166377 2019-09-02       out     False       880028           False   \n",
       "...        ...        ...       ...       ...          ...             ...   \n",
       "45094   168606 2019-11-10       out      True       957922           False   \n",
       "45095   168606 2019-11-10       out      True       957922            True   \n",
       "45096   168606 2019-11-11       out      True       957922           False   \n",
       "45097   168606 2019-11-15       out      True       957922           False   \n",
       "45098   168606 2019-11-19        in     False           -1            True   \n",
       "\n",
       "       calls_count  call_duration  total_call_duration tariff_plan  month  \n",
       "0                2             66                   75           B      9  \n",
       "1                1             31                   34           B      9  \n",
       "2               16           1853                 1983           B      9  \n",
       "3                6              0                  168           B      9  \n",
       "4               20           2529                 2687           B      9  \n",
       "...            ...            ...                  ...         ...    ...  \n",
       "45094            1              0                   25           C     11  \n",
       "45095            1              0                   38           C     11  \n",
       "45096            2            479                  501           C     11  \n",
       "45097            4           3130                 3190           C     11  \n",
       "45098            2              0                   64           C     11  \n",
       "\n",
       "[45099 rows x 11 columns]"
      ]
     },
     "execution_count": 12,
     "metadata": {},
     "output_type": "execute_result"
    }
   ],
   "source": [
    "merged_df = merged_df[~((merged_df['total_call_duration'] > 5000))]\n",
    "merged_df = merged_df[~((merged_df['month'] == 8))]\n",
    "merged_df.reset_index(drop=True)"
   ]
  },
  {
   "cell_type": "markdown",
   "metadata": {},
   "source": [
    "**В данной таблице я решил отфильтровать данные по столбцу total_call_duration , которые превышают 5000 минут.Данный порог выбран , чтобы извежать слишком большого удлаения данных , и при это не оставить выбросов. Также так как за месяц 8 слишком мало данных исключил данный месяц. 8.8% строк было удалено**"
   ]
  },
  {
   "cell_type": "markdown",
   "metadata": {},
   "source": [
    "<div class=\"alert alert-danger\">\n",
    "    \n",
    "**Комментарий ревьюера**\n",
    "\n",
    "**#ошибка**\n",
    "\n",
    "Что мы делаем в этой ячейке кода? Фильтруем данные? Почему выбран данный порог? Какой процент данных мы потеряли таким образом?\n",
    "    \n",
    "</div>"
   ]
  },
  {
   "cell_type": "markdown",
   "metadata": {},
   "source": [
    "<div class=\"alert alert-info\">\n",
    "<b>Комментарий студента:</b>\n",
    "<br>+\n",
    "</div>"
   ]
  },
  {
   "cell_type": "markdown",
   "metadata": {},
   "source": [
    "### **Вывод по первой части:**\n",
    "<a id=\"1.4\"></a>\n",
    "\n",
    "В первой части после загрузки данных , было создана таблица с информацией о тарифах. Были переведены данные в правильный формат. Было удаленно 4900 будликатов.Также были отсортированны данные . Удалены строки с аномальными значениями по столбцу total_call_duration. Из 49002 строк было оставлено 45099 , что составило 8.8% удаленых строк"
   ]
  },
  {
   "cell_type": "markdown",
   "metadata": {},
   "source": [
    "<div class=\"alert alert-success\">\n",
    "    \n",
    "**Комментарий ревьюера - 2**\n",
    "\n",
    "**#ок**\n",
    "\n",
    "Первая часть верно дополнена.\n",
    "    \n",
    "</div>"
   ]
  },
  {
   "cell_type": "markdown",
   "metadata": {},
   "source": [
    "## Часть 2.Исследовательский анализ\n",
    "<a id=\"2\"></a>"
   ]
  },
  {
   "cell_type": "code",
   "execution_count": 13,
   "metadata": {},
   "outputs": [
    {
     "name": "stdout",
     "output_type": "stream",
     "text": [
      "Всего пользователей: 732\n"
     ]
    },
    {
     "data": {
      "text/html": [
       "<div>\n",
       "<style scoped>\n",
       "    .dataframe tbody tr th:only-of-type {\n",
       "        vertical-align: middle;\n",
       "    }\n",
       "\n",
       "    .dataframe tbody tr th {\n",
       "        vertical-align: top;\n",
       "    }\n",
       "\n",
       "    .dataframe thead th {\n",
       "        text-align: right;\n",
       "    }\n",
       "</style>\n",
       "<table border=\"1\" class=\"dataframe\">\n",
       "  <thead>\n",
       "    <tr style=\"text-align: right;\">\n",
       "      <th></th>\n",
       "      <th>tariff_plan</th>\n",
       "      <th>user_id</th>\n",
       "    </tr>\n",
       "  </thead>\n",
       "  <tbody>\n",
       "    <tr>\n",
       "      <th>0</th>\n",
       "      <td>A</td>\n",
       "      <td>76</td>\n",
       "    </tr>\n",
       "    <tr>\n",
       "      <th>1</th>\n",
       "      <td>B</td>\n",
       "      <td>261</td>\n",
       "    </tr>\n",
       "    <tr>\n",
       "      <th>2</th>\n",
       "      <td>C</td>\n",
       "      <td>395</td>\n",
       "    </tr>\n",
       "  </tbody>\n",
       "</table>\n",
       "</div>"
      ],
      "text/plain": [
       "  tariff_plan  user_id\n",
       "0           A       76\n",
       "1           B      261\n",
       "2           C      395"
      ]
     },
     "metadata": {},
     "output_type": "display_data"
    },
    {
     "data": {
      "image/png": "[encoded data removed]",
      "text/plain": [
       "<Figure size 432x288 with 1 Axes>"
      ]
     },
     "metadata": {
      "needs_background": "light"
     },
     "output_type": "display_data"
    }
   ],
   "source": [
    "bar_tr_count=df_clients.groupby('tariff_plan')['user_id'].agg('count').reset_index()\n",
    "fig = bar_tr_count.plot.bar(x='tariff_plan')\n",
    "plt.title('Распределиние клиентов по тарифам',fontsize=15)\n",
    "plt.xlabel('Тариф')\n",
    "plt.ylabel('Количество клиентов')\n",
    "fig.figure.show()\n",
    "print(f'Всего пользователей:',df_clients['user_id'].nunique())\n",
    "display(bar_tr_count)"
   ]
  },
  {
   "cell_type": "markdown",
   "metadata": {},
   "source": [
    "<div class=\"alert alert-danger\">\n",
    "    \n",
    "**Комментарий ревьюера**\n",
    "\n",
    "**#ошибка**\n",
    "\n",
    "Давай оформим график: сделаем заголовок и понятные подписи осей.\n",
    "    \n",
    "</div>"
   ]
  },
  {
   "cell_type": "markdown",
   "metadata": {},
   "source": [
    "<div class=\"alert alert-info\">\n",
    "<b>Комментарий студента:</b>\n",
    "<br>+\n",
    "</div>"
   ]
  },
  {
   "cell_type": "markdown",
   "metadata": {},
   "source": [
    "<div class=\"alert alert-success\">\n",
    "    \n",
    "**Комментарий ревьюера - 2**\n",
    "\n",
    "**#ок**\n",
    "\n",
    "Отлично\n",
    "    \n",
    "</div>"
   ]
  },
  {
   "cell_type": "markdown",
   "metadata": {},
   "source": [
    "**Большинство клиентов пользуются тарифом С. Тариф А самый не популярный , возможно клиентов пугает ежемесячная плата**"
   ]
  },
  {
   "cell_type": "markdown",
   "metadata": {},
   "source": [
    "### **Создадим новую таблицу где будет вся информация о клиентах, тарифе, количестве минут , платы за тариф**\n",
    "<a id=\"2.1\"></a>"
   ]
  },
  {
   "cell_type": "code",
   "execution_count": 14,
   "metadata": {},
   "outputs": [
    {
     "data": {
      "text/html": [
       "<div>\n",
       "<style scoped>\n",
       "    .dataframe tbody tr th:only-of-type {\n",
       "        vertical-align: middle;\n",
       "    }\n",
       "\n",
       "    .dataframe tbody tr th {\n",
       "        vertical-align: top;\n",
       "    }\n",
       "\n",
       "    .dataframe thead th {\n",
       "        text-align: right;\n",
       "    }\n",
       "</style>\n",
       "<table border=\"1\" class=\"dataframe\">\n",
       "  <thead>\n",
       "    <tr style=\"text-align: right;\">\n",
       "      <th></th>\n",
       "      <th>user_id</th>\n",
       "      <th>month</th>\n",
       "    </tr>\n",
       "  </thead>\n",
       "  <tbody>\n",
       "    <tr>\n",
       "      <th>0</th>\n",
       "      <td>166377</td>\n",
       "      <td>9</td>\n",
       "    </tr>\n",
       "    <tr>\n",
       "      <th>1</th>\n",
       "      <td>166377</td>\n",
       "      <td>10</td>\n",
       "    </tr>\n",
       "    <tr>\n",
       "      <th>2</th>\n",
       "      <td>166377</td>\n",
       "      <td>11</td>\n",
       "    </tr>\n",
       "    <tr>\n",
       "      <th>3</th>\n",
       "      <td>166391</td>\n",
       "      <td>9</td>\n",
       "    </tr>\n",
       "    <tr>\n",
       "      <th>4</th>\n",
       "      <td>166391</td>\n",
       "      <td>10</td>\n",
       "    </tr>\n",
       "    <tr>\n",
       "      <th>...</th>\n",
       "      <td>...</td>\n",
       "      <td>...</td>\n",
       "    </tr>\n",
       "    <tr>\n",
       "      <th>702</th>\n",
       "      <td>168583</td>\n",
       "      <td>11</td>\n",
       "    </tr>\n",
       "    <tr>\n",
       "      <th>703</th>\n",
       "      <td>168598</td>\n",
       "      <td>11</td>\n",
       "    </tr>\n",
       "    <tr>\n",
       "      <th>704</th>\n",
       "      <td>168601</td>\n",
       "      <td>11</td>\n",
       "    </tr>\n",
       "    <tr>\n",
       "      <th>705</th>\n",
       "      <td>168603</td>\n",
       "      <td>11</td>\n",
       "    </tr>\n",
       "    <tr>\n",
       "      <th>706</th>\n",
       "      <td>168606</td>\n",
       "      <td>11</td>\n",
       "    </tr>\n",
       "  </tbody>\n",
       "</table>\n",
       "<p>707 rows × 2 columns</p>\n",
       "</div>"
      ],
      "text/plain": [
       "     user_id  month\n",
       "0     166377      9\n",
       "1     166377     10\n",
       "2     166377     11\n",
       "3     166391      9\n",
       "4     166391     10\n",
       "..       ...    ...\n",
       "702   168583     11\n",
       "703   168598     11\n",
       "704   168601     11\n",
       "705   168603     11\n",
       "706   168606     11\n",
       "\n",
       "[707 rows x 2 columns]"
      ]
     },
     "execution_count": 14,
     "metadata": {},
     "output_type": "execute_result"
    }
   ],
   "source": [
    "df_price_month = merged_df.groupby(['user_id', 'month'])['calls_count'].sum().reset_index()\n",
    "df_price_month=df_price_month.drop('calls_count',axis=1)\n",
    "df_price_month"
   ]
  },
  {
   "cell_type": "code",
   "execution_count": 15,
   "metadata": {},
   "outputs": [
    {
     "data": {
      "text/html": [
       "<div>\n",
       "<style scoped>\n",
       "    .dataframe tbody tr th:only-of-type {\n",
       "        vertical-align: middle;\n",
       "    }\n",
       "\n",
       "    .dataframe tbody tr th {\n",
       "        vertical-align: top;\n",
       "    }\n",
       "\n",
       "    .dataframe thead th {\n",
       "        text-align: right;\n",
       "    }\n",
       "</style>\n",
       "<table border=\"1\" class=\"dataframe\">\n",
       "  <thead>\n",
       "    <tr style=\"text-align: right;\">\n",
       "      <th></th>\n",
       "      <th>user_id</th>\n",
       "      <th>month</th>\n",
       "      <th>total_call_duration</th>\n",
       "    </tr>\n",
       "  </thead>\n",
       "  <tbody>\n",
       "    <tr>\n",
       "      <th>0</th>\n",
       "      <td>166377</td>\n",
       "      <td>9</td>\n",
       "      <td>9.0</td>\n",
       "    </tr>\n",
       "    <tr>\n",
       "      <th>1</th>\n",
       "      <td>166377</td>\n",
       "      <td>10</td>\n",
       "      <td>5.0</td>\n",
       "    </tr>\n",
       "    <tr>\n",
       "      <th>2</th>\n",
       "      <td>166377</td>\n",
       "      <td>11</td>\n",
       "      <td>127.0</td>\n",
       "    </tr>\n",
       "    <tr>\n",
       "      <th>3</th>\n",
       "      <td>166391</td>\n",
       "      <td>9</td>\n",
       "      <td>NaN</td>\n",
       "    </tr>\n",
       "    <tr>\n",
       "      <th>4</th>\n",
       "      <td>166391</td>\n",
       "      <td>10</td>\n",
       "      <td>NaN</td>\n",
       "    </tr>\n",
       "    <tr>\n",
       "      <th>...</th>\n",
       "      <td>...</td>\n",
       "      <td>...</td>\n",
       "      <td>...</td>\n",
       "    </tr>\n",
       "    <tr>\n",
       "      <th>702</th>\n",
       "      <td>168583</td>\n",
       "      <td>11</td>\n",
       "      <td>NaN</td>\n",
       "    </tr>\n",
       "    <tr>\n",
       "      <th>703</th>\n",
       "      <td>168598</td>\n",
       "      <td>11</td>\n",
       "      <td>NaN</td>\n",
       "    </tr>\n",
       "    <tr>\n",
       "      <th>704</th>\n",
       "      <td>168601</td>\n",
       "      <td>11</td>\n",
       "      <td>0.0</td>\n",
       "    </tr>\n",
       "    <tr>\n",
       "      <th>705</th>\n",
       "      <td>168603</td>\n",
       "      <td>11</td>\n",
       "      <td>NaN</td>\n",
       "    </tr>\n",
       "    <tr>\n",
       "      <th>706</th>\n",
       "      <td>168606</td>\n",
       "      <td>11</td>\n",
       "      <td>3754.0</td>\n",
       "    </tr>\n",
       "  </tbody>\n",
       "</table>\n",
       "<p>707 rows × 3 columns</p>\n",
       "</div>"
      ],
      "text/plain": [
       "     user_id  month  total_call_duration\n",
       "0     166377      9                  9.0\n",
       "1     166377     10                  5.0\n",
       "2     166377     11                127.0\n",
       "3     166391      9                  NaN\n",
       "4     166391     10                  NaN\n",
       "..       ...    ...                  ...\n",
       "702   168583     11                  NaN\n",
       "703   168598     11                  NaN\n",
       "704   168601     11                  0.0\n",
       "705   168603     11                  NaN\n",
       "706   168606     11               3754.0\n",
       "\n",
       "[707 rows x 3 columns]"
      ]
     },
     "execution_count": 15,
     "metadata": {},
     "output_type": "execute_result"
    }
   ],
   "source": [
    "#оператор - оператору\n",
    "op_out_call = (\n",
    "    merged_df.loc[(merged_df['direction']==\"out\")&(merged_df['internal']==True)]\n",
    "    .groupby(['user_id','month'])['total_call_duration'].sum().reset_index()\n",
    ")\n",
    "out_call = df_price_month.merge(op_out_call, on=['user_id','month'], how='outer')\n",
    "out_call = out_call.rename(columns={'total_call_duration_x':'op_out_call', 'total_call_duration_y':'cl_out_call'})\n",
    "\n",
    "out_call"
   ]
  },
  {
   "cell_type": "code",
   "execution_count": 16,
   "metadata": {},
   "outputs": [
    {
     "data": {
      "text/html": [
       "<div>\n",
       "<style scoped>\n",
       "    .dataframe tbody tr th:only-of-type {\n",
       "        vertical-align: middle;\n",
       "    }\n",
       "\n",
       "    .dataframe tbody tr th {\n",
       "        vertical-align: top;\n",
       "    }\n",
       "\n",
       "    .dataframe thead th {\n",
       "        text-align: right;\n",
       "    }\n",
       "</style>\n",
       "<table border=\"1\" class=\"dataframe\">\n",
       "  <thead>\n",
       "    <tr style=\"text-align: right;\">\n",
       "      <th></th>\n",
       "      <th>user_id</th>\n",
       "      <th>month</th>\n",
       "      <th>op_out_call</th>\n",
       "      <th>cl_out_call</th>\n",
       "    </tr>\n",
       "  </thead>\n",
       "  <tbody>\n",
       "    <tr>\n",
       "      <th>0</th>\n",
       "      <td>166377</td>\n",
       "      <td>9</td>\n",
       "      <td>9.0</td>\n",
       "      <td>105835.0</td>\n",
       "    </tr>\n",
       "    <tr>\n",
       "      <th>1</th>\n",
       "      <td>166377</td>\n",
       "      <td>10</td>\n",
       "      <td>5.0</td>\n",
       "      <td>99207.0</td>\n",
       "    </tr>\n",
       "    <tr>\n",
       "      <th>2</th>\n",
       "      <td>166377</td>\n",
       "      <td>11</td>\n",
       "      <td>127.0</td>\n",
       "      <td>95384.0</td>\n",
       "    </tr>\n",
       "    <tr>\n",
       "      <th>3</th>\n",
       "      <td>166391</td>\n",
       "      <td>9</td>\n",
       "      <td>NaN</td>\n",
       "      <td>NaN</td>\n",
       "    </tr>\n",
       "    <tr>\n",
       "      <th>4</th>\n",
       "      <td>166391</td>\n",
       "      <td>10</td>\n",
       "      <td>NaN</td>\n",
       "      <td>NaN</td>\n",
       "    </tr>\n",
       "    <tr>\n",
       "      <th>...</th>\n",
       "      <td>...</td>\n",
       "      <td>...</td>\n",
       "      <td>...</td>\n",
       "      <td>...</td>\n",
       "    </tr>\n",
       "    <tr>\n",
       "      <th>702</th>\n",
       "      <td>168583</td>\n",
       "      <td>11</td>\n",
       "      <td>NaN</td>\n",
       "      <td>NaN</td>\n",
       "    </tr>\n",
       "    <tr>\n",
       "      <th>703</th>\n",
       "      <td>168598</td>\n",
       "      <td>11</td>\n",
       "      <td>NaN</td>\n",
       "      <td>NaN</td>\n",
       "    </tr>\n",
       "    <tr>\n",
       "      <th>704</th>\n",
       "      <td>168601</td>\n",
       "      <td>11</td>\n",
       "      <td>0.0</td>\n",
       "      <td>33192.0</td>\n",
       "    </tr>\n",
       "    <tr>\n",
       "      <th>705</th>\n",
       "      <td>168603</td>\n",
       "      <td>11</td>\n",
       "      <td>NaN</td>\n",
       "      <td>1187.0</td>\n",
       "    </tr>\n",
       "    <tr>\n",
       "      <th>706</th>\n",
       "      <td>168606</td>\n",
       "      <td>11</td>\n",
       "      <td>3754.0</td>\n",
       "      <td>961.0</td>\n",
       "    </tr>\n",
       "  </tbody>\n",
       "</table>\n",
       "<p>707 rows × 4 columns</p>\n",
       "</div>"
      ],
      "text/plain": [
       "     user_id  month  op_out_call  cl_out_call\n",
       "0     166377      9          9.0     105835.0\n",
       "1     166377     10          5.0      99207.0\n",
       "2     166377     11        127.0      95384.0\n",
       "3     166391      9          NaN          NaN\n",
       "4     166391     10          NaN          NaN\n",
       "..       ...    ...          ...          ...\n",
       "702   168583     11          NaN          NaN\n",
       "703   168598     11          NaN          NaN\n",
       "704   168601     11          0.0      33192.0\n",
       "705   168603     11          NaN       1187.0\n",
       "706   168606     11       3754.0        961.0\n",
       "\n",
       "[707 rows x 4 columns]"
      ]
     },
     "execution_count": 16,
     "metadata": {},
     "output_type": "execute_result"
    }
   ],
   "source": [
    "#оператор - клиент\n",
    "cl_out_call_1 = (\n",
    "    merged_df.loc[(merged_df['direction']==\"out\")&(merged_df['internal']==False)]\n",
    "    .groupby(['user_id','month'])['total_call_duration'].sum().reset_index()\n",
    ")\n",
    "out_call = out_call.merge(cl_out_call_1, on=['user_id','month'], how='outer')\n",
    "out_call = out_call.rename(columns={'total_call_duration_x':'op_out_call', 'total_call_duration_y':'cl_out_call'})\n",
    "\n",
    "\n",
    "out_call"
   ]
  },
  {
   "cell_type": "code",
   "execution_count": 17,
   "metadata": {},
   "outputs": [
    {
     "data": {
      "text/html": [
       "<div>\n",
       "<style scoped>\n",
       "    .dataframe tbody tr th:only-of-type {\n",
       "        vertical-align: middle;\n",
       "    }\n",
       "\n",
       "    .dataframe tbody tr th {\n",
       "        vertical-align: top;\n",
       "    }\n",
       "\n",
       "    .dataframe thead th {\n",
       "        text-align: right;\n",
       "    }\n",
       "</style>\n",
       "<table border=\"1\" class=\"dataframe\">\n",
       "  <thead>\n",
       "    <tr style=\"text-align: right;\">\n",
       "      <th></th>\n",
       "      <th>user_id</th>\n",
       "      <th>month</th>\n",
       "      <th>op_out_call</th>\n",
       "      <th>cl_out_call</th>\n",
       "      <th>tariff_plan</th>\n",
       "      <th>date_start</th>\n",
       "    </tr>\n",
       "  </thead>\n",
       "  <tbody>\n",
       "    <tr>\n",
       "      <th>0</th>\n",
       "      <td>166377</td>\n",
       "      <td>9</td>\n",
       "      <td>9.0</td>\n",
       "      <td>105835.0</td>\n",
       "      <td>B</td>\n",
       "      <td>2019-08-01</td>\n",
       "    </tr>\n",
       "    <tr>\n",
       "      <th>1</th>\n",
       "      <td>166377</td>\n",
       "      <td>10</td>\n",
       "      <td>5.0</td>\n",
       "      <td>99207.0</td>\n",
       "      <td>B</td>\n",
       "      <td>2019-08-01</td>\n",
       "    </tr>\n",
       "    <tr>\n",
       "      <th>2</th>\n",
       "      <td>166377</td>\n",
       "      <td>11</td>\n",
       "      <td>127.0</td>\n",
       "      <td>95384.0</td>\n",
       "      <td>B</td>\n",
       "      <td>2019-08-01</td>\n",
       "    </tr>\n",
       "    <tr>\n",
       "      <th>3</th>\n",
       "      <td>166391</td>\n",
       "      <td>9</td>\n",
       "      <td>NaN</td>\n",
       "      <td>NaN</td>\n",
       "      <td>C</td>\n",
       "      <td>2019-08-01</td>\n",
       "    </tr>\n",
       "    <tr>\n",
       "      <th>4</th>\n",
       "      <td>166391</td>\n",
       "      <td>10</td>\n",
       "      <td>NaN</td>\n",
       "      <td>NaN</td>\n",
       "      <td>C</td>\n",
       "      <td>2019-08-01</td>\n",
       "    </tr>\n",
       "    <tr>\n",
       "      <th>...</th>\n",
       "      <td>...</td>\n",
       "      <td>...</td>\n",
       "      <td>...</td>\n",
       "      <td>...</td>\n",
       "      <td>...</td>\n",
       "      <td>...</td>\n",
       "    </tr>\n",
       "    <tr>\n",
       "      <th>702</th>\n",
       "      <td>168583</td>\n",
       "      <td>11</td>\n",
       "      <td>NaN</td>\n",
       "      <td>NaN</td>\n",
       "      <td>B</td>\n",
       "      <td>2019-10-31</td>\n",
       "    </tr>\n",
       "    <tr>\n",
       "      <th>703</th>\n",
       "      <td>168598</td>\n",
       "      <td>11</td>\n",
       "      <td>NaN</td>\n",
       "      <td>NaN</td>\n",
       "      <td>C</td>\n",
       "      <td>2019-10-31</td>\n",
       "    </tr>\n",
       "    <tr>\n",
       "      <th>704</th>\n",
       "      <td>168601</td>\n",
       "      <td>11</td>\n",
       "      <td>0.0</td>\n",
       "      <td>33192.0</td>\n",
       "      <td>C</td>\n",
       "      <td>2019-10-31</td>\n",
       "    </tr>\n",
       "    <tr>\n",
       "      <th>705</th>\n",
       "      <td>168603</td>\n",
       "      <td>11</td>\n",
       "      <td>NaN</td>\n",
       "      <td>1187.0</td>\n",
       "      <td>B</td>\n",
       "      <td>2019-10-31</td>\n",
       "    </tr>\n",
       "    <tr>\n",
       "      <th>706</th>\n",
       "      <td>168606</td>\n",
       "      <td>11</td>\n",
       "      <td>3754.0</td>\n",
       "      <td>961.0</td>\n",
       "      <td>C</td>\n",
       "      <td>2019-10-31</td>\n",
       "    </tr>\n",
       "  </tbody>\n",
       "</table>\n",
       "<p>707 rows × 6 columns</p>\n",
       "</div>"
      ],
      "text/plain": [
       "     user_id  month  op_out_call  cl_out_call tariff_plan  date_start\n",
       "0     166377      9          9.0     105835.0           B  2019-08-01\n",
       "1     166377     10          5.0      99207.0           B  2019-08-01\n",
       "2     166377     11        127.0      95384.0           B  2019-08-01\n",
       "3     166391      9          NaN          NaN           C  2019-08-01\n",
       "4     166391     10          NaN          NaN           C  2019-08-01\n",
       "..       ...    ...          ...          ...         ...         ...\n",
       "702   168583     11          NaN          NaN           B  2019-10-31\n",
       "703   168598     11          NaN          NaN           C  2019-10-31\n",
       "704   168601     11          0.0      33192.0           C  2019-10-31\n",
       "705   168603     11          NaN       1187.0           B  2019-10-31\n",
       "706   168606     11       3754.0        961.0           C  2019-10-31\n",
       "\n",
       "[707 rows x 6 columns]"
      ]
     },
     "execution_count": 17,
     "metadata": {},
     "output_type": "execute_result"
    }
   ],
   "source": [
    "out_call = out_call.merge(df_clients , on='user_id', how='left')\n",
    "out_call"
   ]
  },
  {
   "cell_type": "code",
   "execution_count": 18,
   "metadata": {},
   "outputs": [],
   "source": [
    "out_call= out_call.drop('date_start', axis=1)\n"
   ]
  },
  {
   "cell_type": "markdown",
   "metadata": {},
   "source": [
    "### **Количество операторов у каждого клиента**\n",
    "<a id=\"2.2\"></a>"
   ]
  },
  {
   "cell_type": "code",
   "execution_count": 19,
   "metadata": {},
   "outputs": [
    {
     "data": {
      "text/html": [
       "<div>\n",
       "<style scoped>\n",
       "    .dataframe tbody tr th:only-of-type {\n",
       "        vertical-align: middle;\n",
       "    }\n",
       "\n",
       "    .dataframe tbody tr th {\n",
       "        vertical-align: top;\n",
       "    }\n",
       "\n",
       "    .dataframe thead th {\n",
       "        text-align: right;\n",
       "    }\n",
       "</style>\n",
       "<table border=\"1\" class=\"dataframe\">\n",
       "  <thead>\n",
       "    <tr style=\"text-align: right;\">\n",
       "      <th></th>\n",
       "      <th>user_id</th>\n",
       "      <th>month</th>\n",
       "      <th>op_out_call</th>\n",
       "      <th>cl_out_call</th>\n",
       "      <th>tariff_plan</th>\n",
       "      <th>count_oper</th>\n",
       "    </tr>\n",
       "  </thead>\n",
       "  <tbody>\n",
       "    <tr>\n",
       "      <th>0</th>\n",
       "      <td>166377</td>\n",
       "      <td>9</td>\n",
       "      <td>9.0</td>\n",
       "      <td>105835.0</td>\n",
       "      <td>B</td>\n",
       "      <td>5</td>\n",
       "    </tr>\n",
       "    <tr>\n",
       "      <th>1</th>\n",
       "      <td>166377</td>\n",
       "      <td>10</td>\n",
       "      <td>5.0</td>\n",
       "      <td>99207.0</td>\n",
       "      <td>B</td>\n",
       "      <td>6</td>\n",
       "    </tr>\n",
       "    <tr>\n",
       "      <th>2</th>\n",
       "      <td>166377</td>\n",
       "      <td>11</td>\n",
       "      <td>127.0</td>\n",
       "      <td>95384.0</td>\n",
       "      <td>B</td>\n",
       "      <td>5</td>\n",
       "    </tr>\n",
       "    <tr>\n",
       "      <th>3</th>\n",
       "      <td>166391</td>\n",
       "      <td>9</td>\n",
       "      <td>NaN</td>\n",
       "      <td>NaN</td>\n",
       "      <td>C</td>\n",
       "      <td>2</td>\n",
       "    </tr>\n",
       "    <tr>\n",
       "      <th>4</th>\n",
       "      <td>166391</td>\n",
       "      <td>10</td>\n",
       "      <td>NaN</td>\n",
       "      <td>NaN</td>\n",
       "      <td>C</td>\n",
       "      <td>1</td>\n",
       "    </tr>\n",
       "    <tr>\n",
       "      <th>...</th>\n",
       "      <td>...</td>\n",
       "      <td>...</td>\n",
       "      <td>...</td>\n",
       "      <td>...</td>\n",
       "      <td>...</td>\n",
       "      <td>...</td>\n",
       "    </tr>\n",
       "    <tr>\n",
       "      <th>702</th>\n",
       "      <td>168583</td>\n",
       "      <td>11</td>\n",
       "      <td>NaN</td>\n",
       "      <td>NaN</td>\n",
       "      <td>B</td>\n",
       "      <td>3</td>\n",
       "    </tr>\n",
       "    <tr>\n",
       "      <th>703</th>\n",
       "      <td>168598</td>\n",
       "      <td>11</td>\n",
       "      <td>NaN</td>\n",
       "      <td>NaN</td>\n",
       "      <td>C</td>\n",
       "      <td>2</td>\n",
       "    </tr>\n",
       "    <tr>\n",
       "      <th>704</th>\n",
       "      <td>168601</td>\n",
       "      <td>11</td>\n",
       "      <td>0.0</td>\n",
       "      <td>33192.0</td>\n",
       "      <td>C</td>\n",
       "      <td>3</td>\n",
       "    </tr>\n",
       "    <tr>\n",
       "      <th>705</th>\n",
       "      <td>168603</td>\n",
       "      <td>11</td>\n",
       "      <td>NaN</td>\n",
       "      <td>1187.0</td>\n",
       "      <td>B</td>\n",
       "      <td>2</td>\n",
       "    </tr>\n",
       "    <tr>\n",
       "      <th>706</th>\n",
       "      <td>168606</td>\n",
       "      <td>11</td>\n",
       "      <td>3754.0</td>\n",
       "      <td>961.0</td>\n",
       "      <td>C</td>\n",
       "      <td>2</td>\n",
       "    </tr>\n",
       "  </tbody>\n",
       "</table>\n",
       "<p>707 rows × 6 columns</p>\n",
       "</div>"
      ],
      "text/plain": [
       "     user_id  month  op_out_call  cl_out_call tariff_plan  count_oper\n",
       "0     166377      9          9.0     105835.0           B           5\n",
       "1     166377     10          5.0      99207.0           B           6\n",
       "2     166377     11        127.0      95384.0           B           5\n",
       "3     166391      9          NaN          NaN           C           2\n",
       "4     166391     10          NaN          NaN           C           1\n",
       "..       ...    ...          ...          ...         ...         ...\n",
       "702   168583     11          NaN          NaN           B           3\n",
       "703   168598     11          NaN          NaN           C           2\n",
       "704   168601     11          0.0      33192.0           C           3\n",
       "705   168603     11          NaN       1187.0           B           2\n",
       "706   168606     11       3754.0        961.0           C           2\n",
       "\n",
       "[707 rows x 6 columns]"
      ]
     },
     "execution_count": 19,
     "metadata": {},
     "output_type": "execute_result"
    }
   ],
   "source": [
    "\n",
    "count_oper = merged_df.groupby(['user_id', 'month'])['operator_id'].nunique()\n",
    "\n",
    "out_call = out_call.merge(count_oper, on=['user_id','month'])\n",
    "out_call = out_call.rename(columns={'operator_id': 'count_oper'})\n",
    "out_call"
   ]
  },
  {
   "cell_type": "code",
   "execution_count": 20,
   "metadata": {},
   "outputs": [],
   "source": [
    "out_call['cl_out_call'] = out_call['cl_out_call'].fillna(0)"
   ]
  },
  {
   "cell_type": "markdown",
   "metadata": {},
   "source": [
    "### Ежемесяная плата за тариф\n",
    "<a id=\"2.3\"></a>"
   ]
  },
  {
   "cell_type": "code",
   "execution_count": 21,
   "metadata": {},
   "outputs": [
    {
     "data": {
      "text/html": [
       "<div>\n",
       "<style scoped>\n",
       "    .dataframe tbody tr th:only-of-type {\n",
       "        vertical-align: middle;\n",
       "    }\n",
       "\n",
       "    .dataframe tbody tr th {\n",
       "        vertical-align: top;\n",
       "    }\n",
       "\n",
       "    .dataframe thead th {\n",
       "        text-align: right;\n",
       "    }\n",
       "</style>\n",
       "<table border=\"1\" class=\"dataframe\">\n",
       "  <thead>\n",
       "    <tr style=\"text-align: right;\">\n",
       "      <th></th>\n",
       "      <th>user_id</th>\n",
       "      <th>month</th>\n",
       "      <th>op_out_call</th>\n",
       "      <th>cl_out_call</th>\n",
       "      <th>tariff_plan</th>\n",
       "      <th>count_oper</th>\n",
       "      <th>current_price</th>\n",
       "    </tr>\n",
       "  </thead>\n",
       "  <tbody>\n",
       "    <tr>\n",
       "      <th>607</th>\n",
       "      <td>168062</td>\n",
       "      <td>11</td>\n",
       "      <td>31429.0</td>\n",
       "      <td>943548.0</td>\n",
       "      <td>A</td>\n",
       "      <td>28</td>\n",
       "      <td>291407.3</td>\n",
       "    </tr>\n",
       "    <tr>\n",
       "      <th>463</th>\n",
       "      <td>167626</td>\n",
       "      <td>10</td>\n",
       "      <td>1.0</td>\n",
       "      <td>932152.0</td>\n",
       "      <td>A</td>\n",
       "      <td>49</td>\n",
       "      <td>286095.6</td>\n",
       "    </tr>\n",
       "    <tr>\n",
       "      <th>673</th>\n",
       "      <td>168361</td>\n",
       "      <td>11</td>\n",
       "      <td>37.0</td>\n",
       "      <td>767991.0</td>\n",
       "      <td>A</td>\n",
       "      <td>26</td>\n",
       "      <td>235697.3</td>\n",
       "    </tr>\n",
       "    <tr>\n",
       "      <th>292</th>\n",
       "      <td>167125</td>\n",
       "      <td>9</td>\n",
       "      <td>183.0</td>\n",
       "      <td>326416.0</td>\n",
       "      <td>C</td>\n",
       "      <td>9</td>\n",
       "      <td>232246.1</td>\n",
       "    </tr>\n",
       "    <tr>\n",
       "      <th>79</th>\n",
       "      <td>166658</td>\n",
       "      <td>10</td>\n",
       "      <td>0.0</td>\n",
       "      <td>437097.0</td>\n",
       "      <td>B</td>\n",
       "      <td>17</td>\n",
       "      <td>223098.5</td>\n",
       "    </tr>\n",
       "    <tr>\n",
       "      <th>...</th>\n",
       "      <td>...</td>\n",
       "      <td>...</td>\n",
       "      <td>...</td>\n",
       "      <td>...</td>\n",
       "      <td>...</td>\n",
       "      <td>...</td>\n",
       "      <td>...</td>\n",
       "    </tr>\n",
       "    <tr>\n",
       "      <th>128</th>\n",
       "      <td>166726</td>\n",
       "      <td>11</td>\n",
       "      <td>NaN</td>\n",
       "      <td>0.0</td>\n",
       "      <td>C</td>\n",
       "      <td>1</td>\n",
       "      <td>1300.0</td>\n",
       "    </tr>\n",
       "    <tr>\n",
       "      <th>346</th>\n",
       "      <td>167244</td>\n",
       "      <td>10</td>\n",
       "      <td>NaN</td>\n",
       "      <td>0.0</td>\n",
       "      <td>C</td>\n",
       "      <td>1</td>\n",
       "      <td>1300.0</td>\n",
       "    </tr>\n",
       "    <tr>\n",
       "      <th>130</th>\n",
       "      <td>166727</td>\n",
       "      <td>10</td>\n",
       "      <td>NaN</td>\n",
       "      <td>0.0</td>\n",
       "      <td>C</td>\n",
       "      <td>1</td>\n",
       "      <td>1300.0</td>\n",
       "    </tr>\n",
       "    <tr>\n",
       "      <th>308</th>\n",
       "      <td>167162</td>\n",
       "      <td>11</td>\n",
       "      <td>NaN</td>\n",
       "      <td>0.0</td>\n",
       "      <td>C</td>\n",
       "      <td>1</td>\n",
       "      <td>1300.0</td>\n",
       "    </tr>\n",
       "    <tr>\n",
       "      <th>77</th>\n",
       "      <td>166649</td>\n",
       "      <td>11</td>\n",
       "      <td>NaN</td>\n",
       "      <td>0.0</td>\n",
       "      <td>C</td>\n",
       "      <td>1</td>\n",
       "      <td>1300.0</td>\n",
       "    </tr>\n",
       "  </tbody>\n",
       "</table>\n",
       "<p>707 rows × 7 columns</p>\n",
       "</div>"
      ],
      "text/plain": [
       "     user_id  month  op_out_call  cl_out_call tariff_plan  count_oper  \\\n",
       "607   168062     11      31429.0     943548.0           A          28   \n",
       "463   167626     10          1.0     932152.0           A          49   \n",
       "673   168361     11         37.0     767991.0           A          26   \n",
       "292   167125      9        183.0     326416.0           C           9   \n",
       "79    166658     10          0.0     437097.0           B          17   \n",
       "..       ...    ...          ...          ...         ...         ...   \n",
       "128   166726     11          NaN          0.0           C           1   \n",
       "346   167244     10          NaN          0.0           C           1   \n",
       "130   166727     10          NaN          0.0           C           1   \n",
       "308   167162     11          NaN          0.0           C           1   \n",
       "77    166649     11          NaN          0.0           C           1   \n",
       "\n",
       "     current_price  \n",
       "607       291407.3  \n",
       "463       286095.6  \n",
       "673       235697.3  \n",
       "292       232246.1  \n",
       "79        223098.5  \n",
       "..             ...  \n",
       "128         1300.0  \n",
       "346         1300.0  \n",
       "130         1300.0  \n",
       "308         1300.0  \n",
       "77          1300.0  \n",
       "\n",
       "[707 rows x 7 columns]"
      ]
     },
     "execution_count": 21,
     "metadata": {},
     "output_type": "execute_result"
    }
   ],
   "source": [
    "def price_for_month(row):\n",
    "    # Ежемесячную плату за тариф будем расчитывать по следующей формуле :\n",
    "    #цена сверх лимита(internal_out_price)+стоимость исходяцих звонков(external_out_price)+цена за тариф(tariff_price)+количество операторов(row['count_oper'])*плата за оператора(price_1_operator)\n",
    "    \n",
    "   \n",
    "    if row['tariff_plan']=='A':\n",
    "        tariff_minutes = df_tarif['Outgoing calls within(min)'][0]-row['op_out_call']#количество бесплатных минут\n",
    "        top_limit = df_tarif['Price over the limit(rub/min)'][0]#цена сверх лимита\n",
    "        external_out_price = row['cl_out_call'] * df_tarif['Outgoing calls,except internal(rub/min)'][0]#стоимость исходяцих звонков\n",
    "        triff_price = df_tarif['monthly fee(rub)'][0]#цена за тариф\n",
    "        price_1_operator = df_tarif['Additional operator fee(rub)'][0]#плата за оператора\n",
    "        \n",
    "    elif row['tariff_plan']=='B':\n",
    "        tariff_minutes = df_tarif['Outgoing calls within(min)'][1]-row['op_out_call']\n",
    "        top_limit = df_tarif['Price over the limit(rub/min)'][1]\n",
    "        external_out_price = row['cl_out_call'] * df_tarif['Outgoing calls,except internal(rub/min)'][1]\n",
    "        triff_price = df_tarif['monthly fee(rub)'][1]\n",
    "        price_1_operator = df_tarif['Additional operator fee(rub)'][1]\n",
    "        \n",
    "    elif row['tariff_plan']=='C':\n",
    "        tariff_minutes = df_tarif['Outgoing calls within(min)'][2]-row['op_out_call']\n",
    "        top_limit = df_tarif['Price over the limit(rub/min)'][2]\n",
    "        external_out_price = row['cl_out_call'] * df_tarif['Outgoing calls,except internal(rub/min)'][2]\n",
    "        triff_price = df_tarif['monthly fee(rub)'][2]\n",
    "        price_1_operator = df_tarif['Additional operator fee(rub)'][2]\n",
    "   #цена сверх лимита     \n",
    "    if tariff_minutes < 0:\n",
    "        internal_out_price = abs(tariff_minutes) * top_limit\n",
    "    else:\n",
    "        internal_out_price = 0\n",
    "        \n",
    "    \n",
    "    return internal_out_price + external_out_price + triff_price + row['count_oper'] * price_1_operator\n",
    "out_call['current_price'] = round(out_call.apply(price_for_month, axis=1), 1)\n",
    "out_call.sort_values(by='current_price', ascending=False)"
   ]
  },
  {
   "cell_type": "markdown",
   "metadata": {},
   "source": [
    "<div class=\"alert alert-success\">\n",
    "    \n",
    "**Комментарий ревьюера**\n",
    "\n",
    "**#ок**\n",
    "\n",
    "Хорошо написана функция для расчета затрат на тарифе, правильно, что ты используешь табличные значения.\n",
    "    \n",
    "</div>"
   ]
  },
  {
   "cell_type": "markdown",
   "metadata": {},
   "source": [
    "### Оптимальный тариф\n",
    "<a id=\"2.4\"></a>"
   ]
  },
  {
   "cell_type": "code",
   "execution_count": 22,
   "metadata": {},
   "outputs": [
    {
     "data": {
      "text/html": [
       "<div>\n",
       "<style scoped>\n",
       "    .dataframe tbody tr th:only-of-type {\n",
       "        vertical-align: middle;\n",
       "    }\n",
       "\n",
       "    .dataframe tbody tr th {\n",
       "        vertical-align: top;\n",
       "    }\n",
       "\n",
       "    .dataframe thead th {\n",
       "        text-align: right;\n",
       "    }\n",
       "</style>\n",
       "<table border=\"1\" class=\"dataframe\">\n",
       "  <thead>\n",
       "    <tr style=\"text-align: right;\">\n",
       "      <th></th>\n",
       "      <th>user_id</th>\n",
       "      <th>month</th>\n",
       "      <th>op_out_call</th>\n",
       "      <th>cl_out_call</th>\n",
       "      <th>tariff_plan</th>\n",
       "      <th>count_oper</th>\n",
       "      <th>current_price</th>\n",
       "      <th>price_tariff_A</th>\n",
       "      <th>price_tariff_B</th>\n",
       "      <th>price_tariff_C</th>\n",
       "    </tr>\n",
       "  </thead>\n",
       "  <tbody>\n",
       "    <tr>\n",
       "      <th>607</th>\n",
       "      <td>168062</td>\n",
       "      <td>11</td>\n",
       "      <td>31429.0</td>\n",
       "      <td>943548.0</td>\n",
       "      <td>A</td>\n",
       "      <td>28</td>\n",
       "      <td>291407.3</td>\n",
       "      <td>291407.3</td>\n",
       "      <td>482613.4</td>\n",
       "      <td>679312.3</td>\n",
       "    </tr>\n",
       "    <tr>\n",
       "      <th>463</th>\n",
       "      <td>167626</td>\n",
       "      <td>10</td>\n",
       "      <td>1.0</td>\n",
       "      <td>932152.0</td>\n",
       "      <td>A</td>\n",
       "      <td>49</td>\n",
       "      <td>286095.6</td>\n",
       "      <td>286095.6</td>\n",
       "      <td>475426.0</td>\n",
       "      <td>668206.7</td>\n",
       "    </tr>\n",
       "    <tr>\n",
       "      <th>673</th>\n",
       "      <td>168361</td>\n",
       "      <td>11</td>\n",
       "      <td>37.0</td>\n",
       "      <td>767991.0</td>\n",
       "      <td>A</td>\n",
       "      <td>26</td>\n",
       "      <td>235697.3</td>\n",
       "      <td>235697.3</td>\n",
       "      <td>389895.5</td>\n",
       "      <td>546404.8</td>\n",
       "    </tr>\n",
       "    <tr>\n",
       "      <th>292</th>\n",
       "      <td>167125</td>\n",
       "      <td>9</td>\n",
       "      <td>183.0</td>\n",
       "      <td>326416.0</td>\n",
       "      <td>C</td>\n",
       "      <td>9</td>\n",
       "      <td>232246.1</td>\n",
       "      <td>102374.8</td>\n",
       "      <td>166558.0</td>\n",
       "      <td>232246.1</td>\n",
       "    </tr>\n",
       "    <tr>\n",
       "      <th>79</th>\n",
       "      <td>166658</td>\n",
       "      <td>10</td>\n",
       "      <td>0.0</td>\n",
       "      <td>437097.0</td>\n",
       "      <td>B</td>\n",
       "      <td>17</td>\n",
       "      <td>223098.5</td>\n",
       "      <td>135979.1</td>\n",
       "      <td>223098.5</td>\n",
       "      <td>312067.9</td>\n",
       "    </tr>\n",
       "    <tr>\n",
       "      <th>...</th>\n",
       "      <td>...</td>\n",
       "      <td>...</td>\n",
       "      <td>...</td>\n",
       "      <td>...</td>\n",
       "      <td>...</td>\n",
       "      <td>...</td>\n",
       "      <td>...</td>\n",
       "      <td>...</td>\n",
       "      <td>...</td>\n",
       "      <td>...</td>\n",
       "    </tr>\n",
       "    <tr>\n",
       "      <th>128</th>\n",
       "      <td>166726</td>\n",
       "      <td>11</td>\n",
       "      <td>NaN</td>\n",
       "      <td>0.0</td>\n",
       "      <td>C</td>\n",
       "      <td>1</td>\n",
       "      <td>1300.0</td>\n",
       "      <td>4050.0</td>\n",
       "      <td>2150.0</td>\n",
       "      <td>1300.0</td>\n",
       "    </tr>\n",
       "    <tr>\n",
       "      <th>346</th>\n",
       "      <td>167244</td>\n",
       "      <td>10</td>\n",
       "      <td>NaN</td>\n",
       "      <td>0.0</td>\n",
       "      <td>C</td>\n",
       "      <td>1</td>\n",
       "      <td>1300.0</td>\n",
       "      <td>4050.0</td>\n",
       "      <td>2150.0</td>\n",
       "      <td>1300.0</td>\n",
       "    </tr>\n",
       "    <tr>\n",
       "      <th>130</th>\n",
       "      <td>166727</td>\n",
       "      <td>10</td>\n",
       "      <td>NaN</td>\n",
       "      <td>0.0</td>\n",
       "      <td>C</td>\n",
       "      <td>1</td>\n",
       "      <td>1300.0</td>\n",
       "      <td>4050.0</td>\n",
       "      <td>2150.0</td>\n",
       "      <td>1300.0</td>\n",
       "    </tr>\n",
       "    <tr>\n",
       "      <th>308</th>\n",
       "      <td>167162</td>\n",
       "      <td>11</td>\n",
       "      <td>NaN</td>\n",
       "      <td>0.0</td>\n",
       "      <td>C</td>\n",
       "      <td>1</td>\n",
       "      <td>1300.0</td>\n",
       "      <td>4050.0</td>\n",
       "      <td>2150.0</td>\n",
       "      <td>1300.0</td>\n",
       "    </tr>\n",
       "    <tr>\n",
       "      <th>77</th>\n",
       "      <td>166649</td>\n",
       "      <td>11</td>\n",
       "      <td>NaN</td>\n",
       "      <td>0.0</td>\n",
       "      <td>C</td>\n",
       "      <td>1</td>\n",
       "      <td>1300.0</td>\n",
       "      <td>4050.0</td>\n",
       "      <td>2150.0</td>\n",
       "      <td>1300.0</td>\n",
       "    </tr>\n",
       "  </tbody>\n",
       "</table>\n",
       "<p>707 rows × 10 columns</p>\n",
       "</div>"
      ],
      "text/plain": [
       "     user_id  month  op_out_call  cl_out_call tariff_plan  count_oper  \\\n",
       "607   168062     11      31429.0     943548.0           A          28   \n",
       "463   167626     10          1.0     932152.0           A          49   \n",
       "673   168361     11         37.0     767991.0           A          26   \n",
       "292   167125      9        183.0     326416.0           C           9   \n",
       "79    166658     10          0.0     437097.0           B          17   \n",
       "..       ...    ...          ...          ...         ...         ...   \n",
       "128   166726     11          NaN          0.0           C           1   \n",
       "346   167244     10          NaN          0.0           C           1   \n",
       "130   166727     10          NaN          0.0           C           1   \n",
       "308   167162     11          NaN          0.0           C           1   \n",
       "77    166649     11          NaN          0.0           C           1   \n",
       "\n",
       "     current_price  price_tariff_A  price_tariff_B  price_tariff_C  \n",
       "607       291407.3        291407.3        482613.4        679312.3  \n",
       "463       286095.6        286095.6        475426.0        668206.7  \n",
       "673       235697.3        235697.3        389895.5        546404.8  \n",
       "292       232246.1        102374.8        166558.0        232246.1  \n",
       "79        223098.5        135979.1        223098.5        312067.9  \n",
       "..             ...             ...             ...             ...  \n",
       "128         1300.0          4050.0          2150.0          1300.0  \n",
       "346         1300.0          4050.0          2150.0          1300.0  \n",
       "130         1300.0          4050.0          2150.0          1300.0  \n",
       "308         1300.0          4050.0          2150.0          1300.0  \n",
       "77          1300.0          4050.0          2150.0          1300.0  \n",
       "\n",
       "[707 rows x 10 columns]"
      ]
     },
     "execution_count": 22,
     "metadata": {},
     "output_type": "execute_result"
    }
   ],
   "source": [
    "def price_tariff_A(row):\n",
    "   \n",
    "    tariff_minutes = df_tarif['Outgoing calls within(min)'][0]-row['op_out_call']\n",
    "    top_limit = df_tarif['Price over the limit(rub/min)'][0]\n",
    "    external_out_price = row['cl_out_call'] * df_tarif['Outgoing calls,except internal(rub/min)'][0]\n",
    "    triff_price = df_tarif['monthly fee(rub)'][0]\n",
    "    price_1_operator = df_tarif['Additional operator fee(rub)'][0]\n",
    "    if tariff_minutes < 0:\n",
    "        internal_out_price = abs(tariff_minutes) * top_limit\n",
    "    else:\n",
    "        internal_out_price = 0\n",
    "    \n",
    "    return internal_out_price+external_out_price + triff_price + row['count_oper'] * price_1_operator\n",
    "out_call['price_tariff_A'] = round(out_call.apply(price_tariff_A, axis=1), 1)\n",
    "\n",
    "def price_tariff_B(row):\n",
    "   \n",
    "    tariff_minutes = df_tarif['Outgoing calls within(min)'][1]-row['op_out_call']\n",
    "    top_limit = df_tarif['Price over the limit(rub/min)'][1]\n",
    "    external_out_price = row['cl_out_call'] * df_tarif['Outgoing calls,except internal(rub/min)'][1]\n",
    "    triff_price = df_tarif['monthly fee(rub)'][1]\n",
    "    price_1_operator = df_tarif['Additional operator fee(rub)'][1]\n",
    "\n",
    "    if tariff_minutes < 0:\n",
    "        internal_out_price = abs(tariff_minutes) * top_limit\n",
    "    else:\n",
    "        internal_out_price = 0\n",
    "    \n",
    "    return internal_out_price+external_out_price + triff_price + row['count_oper'] * price_1_operator\n",
    "out_call['price_tariff_B'] = round(out_call.apply(price_tariff_B, axis=1), 1)\n",
    "\n",
    "\n",
    "def price_tariff_C(row):\n",
    "   \n",
    "    tariff_minutes = df_tarif['Outgoing calls within(min)'][2]-row['op_out_call']\n",
    "    top_limit = df_tarif['Price over the limit(rub/min)'][2]\n",
    "    external_out_price = row['cl_out_call'] * df_tarif['Outgoing calls,except internal(rub/min)'][2]\n",
    "    triff_price = df_tarif['monthly fee(rub)'][2]\n",
    "    price_1_operator = df_tarif['Additional operator fee(rub)'][2]\n",
    "  \n",
    "    if tariff_minutes < 0:\n",
    "        internal_out_price = abs(tariff_minutes) * top_limit\n",
    "    else:\n",
    "        internal_out_price = 0\n",
    "        \n",
    "    return internal_out_price+external_out_price + triff_price + row['count_oper'] * price_1_operator\n",
    "out_call['price_tariff_C'] = round(out_call.apply(price_tariff_C, axis=1), 1)\n",
    "out_call.sort_values(by='current_price', ascending=False)"
   ]
  },
  {
   "cell_type": "markdown",
   "metadata": {},
   "source": [
    "<div class=\"alert alert-danger\">\n",
    "    \n",
    "**Комментарий ревьюера**\n",
    "\n",
    "**#ошибка**\n",
    "\n",
    "Здесь только один вопрос: почему в первой строке стоимость на тарифе А и текущая стоимость услуг расходятся?\n",
    "    \n",
    "</div>"
   ]
  },
  {
   "cell_type": "markdown",
   "metadata": {},
   "source": [
    "<div class=\"alert alert-info\">\n",
    "<b>Комментарий студента:</b>\n",
    "<br>малость самую слепой , все исправил\n",
    "</div>"
   ]
  },
  {
   "cell_type": "markdown",
   "metadata": {},
   "source": [
    "<div class=\"alert alert-success\">\n",
    "    \n",
    "**Комментарий ревьюера - 2**\n",
    "\n",
    "**#ок**\n",
    "\n",
    "Хорошо.\n",
    "    \n",
    "</div>"
   ]
  },
  {
   "cell_type": "markdown",
   "metadata": {},
   "source": [
    "### Лучший тариф для каждого клиента\n",
    "<a id=\"2.5\"></a>"
   ]
  },
  {
   "cell_type": "code",
   "execution_count": 23,
   "metadata": {},
   "outputs": [
    {
     "data": {
      "text/html": [
       "<div>\n",
       "<style scoped>\n",
       "    .dataframe tbody tr th:only-of-type {\n",
       "        vertical-align: middle;\n",
       "    }\n",
       "\n",
       "    .dataframe tbody tr th {\n",
       "        vertical-align: top;\n",
       "    }\n",
       "\n",
       "    .dataframe thead th {\n",
       "        text-align: right;\n",
       "    }\n",
       "</style>\n",
       "<table border=\"1\" class=\"dataframe\">\n",
       "  <thead>\n",
       "    <tr style=\"text-align: right;\">\n",
       "      <th></th>\n",
       "      <th>user_id</th>\n",
       "      <th>month</th>\n",
       "      <th>op_out_call</th>\n",
       "      <th>cl_out_call</th>\n",
       "      <th>tariff_plan</th>\n",
       "      <th>count_oper</th>\n",
       "      <th>current_price</th>\n",
       "      <th>price_tariff_A</th>\n",
       "      <th>price_tariff_B</th>\n",
       "      <th>price_tariff_C</th>\n",
       "      <th>best_tariff</th>\n",
       "    </tr>\n",
       "  </thead>\n",
       "  <tbody>\n",
       "    <tr>\n",
       "      <th>607</th>\n",
       "      <td>168062</td>\n",
       "      <td>11</td>\n",
       "      <td>31429.0</td>\n",
       "      <td>943548.0</td>\n",
       "      <td>A</td>\n",
       "      <td>28</td>\n",
       "      <td>291407.3</td>\n",
       "      <td>291407.3</td>\n",
       "      <td>482613.4</td>\n",
       "      <td>679312.3</td>\n",
       "      <td>291407.3</td>\n",
       "    </tr>\n",
       "    <tr>\n",
       "      <th>463</th>\n",
       "      <td>167626</td>\n",
       "      <td>10</td>\n",
       "      <td>1.0</td>\n",
       "      <td>932152.0</td>\n",
       "      <td>A</td>\n",
       "      <td>49</td>\n",
       "      <td>286095.6</td>\n",
       "      <td>286095.6</td>\n",
       "      <td>475426.0</td>\n",
       "      <td>668206.7</td>\n",
       "      <td>286095.6</td>\n",
       "    </tr>\n",
       "    <tr>\n",
       "      <th>673</th>\n",
       "      <td>168361</td>\n",
       "      <td>11</td>\n",
       "      <td>37.0</td>\n",
       "      <td>767991.0</td>\n",
       "      <td>A</td>\n",
       "      <td>26</td>\n",
       "      <td>235697.3</td>\n",
       "      <td>235697.3</td>\n",
       "      <td>389895.5</td>\n",
       "      <td>546404.8</td>\n",
       "      <td>235697.3</td>\n",
       "    </tr>\n",
       "    <tr>\n",
       "      <th>292</th>\n",
       "      <td>167125</td>\n",
       "      <td>9</td>\n",
       "      <td>183.0</td>\n",
       "      <td>326416.0</td>\n",
       "      <td>C</td>\n",
       "      <td>9</td>\n",
       "      <td>232246.1</td>\n",
       "      <td>102374.8</td>\n",
       "      <td>166558.0</td>\n",
       "      <td>232246.1</td>\n",
       "      <td>102374.8</td>\n",
       "    </tr>\n",
       "    <tr>\n",
       "      <th>79</th>\n",
       "      <td>166658</td>\n",
       "      <td>10</td>\n",
       "      <td>0.0</td>\n",
       "      <td>437097.0</td>\n",
       "      <td>B</td>\n",
       "      <td>17</td>\n",
       "      <td>223098.5</td>\n",
       "      <td>135979.1</td>\n",
       "      <td>223098.5</td>\n",
       "      <td>312067.9</td>\n",
       "      <td>135979.1</td>\n",
       "    </tr>\n",
       "    <tr>\n",
       "      <th>...</th>\n",
       "      <td>...</td>\n",
       "      <td>...</td>\n",
       "      <td>...</td>\n",
       "      <td>...</td>\n",
       "      <td>...</td>\n",
       "      <td>...</td>\n",
       "      <td>...</td>\n",
       "      <td>...</td>\n",
       "      <td>...</td>\n",
       "      <td>...</td>\n",
       "      <td>...</td>\n",
       "    </tr>\n",
       "    <tr>\n",
       "      <th>128</th>\n",
       "      <td>166726</td>\n",
       "      <td>11</td>\n",
       "      <td>NaN</td>\n",
       "      <td>0.0</td>\n",
       "      <td>C</td>\n",
       "      <td>1</td>\n",
       "      <td>1300.0</td>\n",
       "      <td>4050.0</td>\n",
       "      <td>2150.0</td>\n",
       "      <td>1300.0</td>\n",
       "      <td>1300.0</td>\n",
       "    </tr>\n",
       "    <tr>\n",
       "      <th>346</th>\n",
       "      <td>167244</td>\n",
       "      <td>10</td>\n",
       "      <td>NaN</td>\n",
       "      <td>0.0</td>\n",
       "      <td>C</td>\n",
       "      <td>1</td>\n",
       "      <td>1300.0</td>\n",
       "      <td>4050.0</td>\n",
       "      <td>2150.0</td>\n",
       "      <td>1300.0</td>\n",
       "      <td>1300.0</td>\n",
       "    </tr>\n",
       "    <tr>\n",
       "      <th>130</th>\n",
       "      <td>166727</td>\n",
       "      <td>10</td>\n",
       "      <td>NaN</td>\n",
       "      <td>0.0</td>\n",
       "      <td>C</td>\n",
       "      <td>1</td>\n",
       "      <td>1300.0</td>\n",
       "      <td>4050.0</td>\n",
       "      <td>2150.0</td>\n",
       "      <td>1300.0</td>\n",
       "      <td>1300.0</td>\n",
       "    </tr>\n",
       "    <tr>\n",
       "      <th>308</th>\n",
       "      <td>167162</td>\n",
       "      <td>11</td>\n",
       "      <td>NaN</td>\n",
       "      <td>0.0</td>\n",
       "      <td>C</td>\n",
       "      <td>1</td>\n",
       "      <td>1300.0</td>\n",
       "      <td>4050.0</td>\n",
       "      <td>2150.0</td>\n",
       "      <td>1300.0</td>\n",
       "      <td>1300.0</td>\n",
       "    </tr>\n",
       "    <tr>\n",
       "      <th>77</th>\n",
       "      <td>166649</td>\n",
       "      <td>11</td>\n",
       "      <td>NaN</td>\n",
       "      <td>0.0</td>\n",
       "      <td>C</td>\n",
       "      <td>1</td>\n",
       "      <td>1300.0</td>\n",
       "      <td>4050.0</td>\n",
       "      <td>2150.0</td>\n",
       "      <td>1300.0</td>\n",
       "      <td>1300.0</td>\n",
       "    </tr>\n",
       "  </tbody>\n",
       "</table>\n",
       "<p>707 rows × 11 columns</p>\n",
       "</div>"
      ],
      "text/plain": [
       "     user_id  month  op_out_call  cl_out_call tariff_plan  count_oper  \\\n",
       "607   168062     11      31429.0     943548.0           A          28   \n",
       "463   167626     10          1.0     932152.0           A          49   \n",
       "673   168361     11         37.0     767991.0           A          26   \n",
       "292   167125      9        183.0     326416.0           C           9   \n",
       "79    166658     10          0.0     437097.0           B          17   \n",
       "..       ...    ...          ...          ...         ...         ...   \n",
       "128   166726     11          NaN          0.0           C           1   \n",
       "346   167244     10          NaN          0.0           C           1   \n",
       "130   166727     10          NaN          0.0           C           1   \n",
       "308   167162     11          NaN          0.0           C           1   \n",
       "77    166649     11          NaN          0.0           C           1   \n",
       "\n",
       "     current_price  price_tariff_A  price_tariff_B  price_tariff_C  \\\n",
       "607       291407.3        291407.3        482613.4        679312.3   \n",
       "463       286095.6        286095.6        475426.0        668206.7   \n",
       "673       235697.3        235697.3        389895.5        546404.8   \n",
       "292       232246.1        102374.8        166558.0        232246.1   \n",
       "79        223098.5        135979.1        223098.5        312067.9   \n",
       "..             ...             ...             ...             ...   \n",
       "128         1300.0          4050.0          2150.0          1300.0   \n",
       "346         1300.0          4050.0          2150.0          1300.0   \n",
       "130         1300.0          4050.0          2150.0          1300.0   \n",
       "308         1300.0          4050.0          2150.0          1300.0   \n",
       "77          1300.0          4050.0          2150.0          1300.0   \n",
       "\n",
       "     best_tariff  \n",
       "607     291407.3  \n",
       "463     286095.6  \n",
       "673     235697.3  \n",
       "292     102374.8  \n",
       "79      135979.1  \n",
       "..           ...  \n",
       "128       1300.0  \n",
       "346       1300.0  \n",
       "130       1300.0  \n",
       "308       1300.0  \n",
       "77        1300.0  \n",
       "\n",
       "[707 rows x 11 columns]"
      ]
     },
     "execution_count": 23,
     "metadata": {},
     "output_type": "execute_result"
    }
   ],
   "source": [
    "out_call[\"best_tariff\"] = out_call[[\"price_tariff_A\", \"price_tariff_B\", \"price_tariff_C\"]].min(axis=1)\n",
    "out_call.sort_values(by='current_price', ascending=False)"
   ]
  },
  {
   "cell_type": "code",
   "execution_count": 59,
   "metadata": {},
   "outputs": [
    {
     "data": {
      "text/html": [
       "<div>\n",
       "<style scoped>\n",
       "    .dataframe tbody tr th:only-of-type {\n",
       "        vertical-align: middle;\n",
       "    }\n",
       "\n",
       "    .dataframe tbody tr th {\n",
       "        vertical-align: top;\n",
       "    }\n",
       "\n",
       "    .dataframe thead th {\n",
       "        text-align: right;\n",
       "    }\n",
       "</style>\n",
       "<table border=\"1\" class=\"dataframe\">\n",
       "  <thead>\n",
       "    <tr style=\"text-align: right;\">\n",
       "      <th></th>\n",
       "      <th>current_price</th>\n",
       "      <th>price_tariff_A</th>\n",
       "      <th>price_tariff_B</th>\n",
       "      <th>price_tariff_C</th>\n",
       "    </tr>\n",
       "    <tr>\n",
       "      <th>user_id</th>\n",
       "      <th></th>\n",
       "      <th></th>\n",
       "      <th></th>\n",
       "      <th></th>\n",
       "    </tr>\n",
       "  </thead>\n",
       "  <tbody>\n",
       "    <tr>\n",
       "      <th>166377</th>\n",
       "      <td>158613.0</td>\n",
       "      <td>102927.8</td>\n",
       "      <td>158613.0</td>\n",
       "      <td>218140.5</td>\n",
       "    </tr>\n",
       "    <tr>\n",
       "      <th>166391</th>\n",
       "      <td>4500.0</td>\n",
       "      <td>12250.0</td>\n",
       "      <td>6750.0</td>\n",
       "      <td>4500.0</td>\n",
       "    </tr>\n",
       "    <tr>\n",
       "      <th>166392</th>\n",
       "      <td>5700.0</td>\n",
       "      <td>12450.0</td>\n",
       "      <td>7350.0</td>\n",
       "      <td>5700.0</td>\n",
       "    </tr>\n",
       "    <tr>\n",
       "      <th>166399</th>\n",
       "      <td>3200.0</td>\n",
       "      <td>8200.0</td>\n",
       "      <td>4600.0</td>\n",
       "      <td>3200.0</td>\n",
       "    </tr>\n",
       "    <tr>\n",
       "      <th>166405</th>\n",
       "      <td>216060.2</td>\n",
       "      <td>137011.1</td>\n",
       "      <td>216060.2</td>\n",
       "      <td>299543.8</td>\n",
       "    </tr>\n",
       "  </tbody>\n",
       "</table>\n",
       "</div>"
      ],
      "text/plain": [
       "         current_price  price_tariff_A  price_tariff_B  price_tariff_C\n",
       "user_id                                                               \n",
       "166377        158613.0        102927.8        158613.0        218140.5\n",
       "166391          4500.0         12250.0          6750.0          4500.0\n",
       "166392          5700.0         12450.0          7350.0          5700.0\n",
       "166399          3200.0          8200.0          4600.0          3200.0\n",
       "166405        216060.2        137011.1        216060.2        299543.8"
      ]
     },
     "execution_count": 59,
     "metadata": {},
     "output_type": "execute_result"
    }
   ],
   "source": [
    "merge_sum = out_call.pivot_table(index=['user_id'],\n",
    "                                  values = ['tariff_plan','current_price', 'price_tariff_A','price_tariff_B','price_tariff_C',\n",
    "                                            'best_tariff'],\n",
    "                                  aggfunc = {'current_price': sum,\n",
    "                                             'price_tariff_A': sum, \n",
    "                                             'price_tariff_B' : sum,\n",
    "                                             'price_tariff_C' : sum\n",
    "                                             })\n",
    "        \n",
    "merge_sum.head()"
   ]
  },
  {
   "cell_type": "markdown",
   "metadata": {},
   "source": [
    "<div class=\"alert alert-success\">\n",
    "    \n",
    "**Комментарий ревьюера - 2**\n",
    "\n",
    "**#ок**\n",
    "\n",
    "Да, сумма - это один из вариантов, также можно смотреть и среднее и максимальный показатель.\n",
    "    \n",
    "</div>"
   ]
  },
  {
   "cell_type": "code",
   "execution_count": 65,
   "metadata": {},
   "outputs": [
    {
     "data": {
      "text/html": [
       "<div>\n",
       "<style scoped>\n",
       "    .dataframe tbody tr th:only-of-type {\n",
       "        vertical-align: middle;\n",
       "    }\n",
       "\n",
       "    .dataframe tbody tr th {\n",
       "        vertical-align: top;\n",
       "    }\n",
       "\n",
       "    .dataframe thead th {\n",
       "        text-align: right;\n",
       "    }\n",
       "</style>\n",
       "<table border=\"1\" class=\"dataframe\">\n",
       "  <thead>\n",
       "    <tr style=\"text-align: right;\">\n",
       "      <th></th>\n",
       "      <th>current_price</th>\n",
       "      <th>price_tariff_A</th>\n",
       "      <th>price_tariff_B</th>\n",
       "      <th>price_tariff_C</th>\n",
       "      <th>optimal_tariff</th>\n",
       "    </tr>\n",
       "    <tr>\n",
       "      <th>user_id</th>\n",
       "      <th></th>\n",
       "      <th></th>\n",
       "      <th></th>\n",
       "      <th></th>\n",
       "      <th></th>\n",
       "    </tr>\n",
       "  </thead>\n",
       "  <tbody>\n",
       "    <tr>\n",
       "      <th>166377</th>\n",
       "      <td>158613.0</td>\n",
       "      <td>102927.8</td>\n",
       "      <td>158613.0</td>\n",
       "      <td>218140.5</td>\n",
       "      <td>A</td>\n",
       "    </tr>\n",
       "    <tr>\n",
       "      <th>166391</th>\n",
       "      <td>4500.0</td>\n",
       "      <td>12250.0</td>\n",
       "      <td>6750.0</td>\n",
       "      <td>4500.0</td>\n",
       "      <td>C</td>\n",
       "    </tr>\n",
       "    <tr>\n",
       "      <th>166392</th>\n",
       "      <td>5700.0</td>\n",
       "      <td>12450.0</td>\n",
       "      <td>7350.0</td>\n",
       "      <td>5700.0</td>\n",
       "      <td>C</td>\n",
       "    </tr>\n",
       "    <tr>\n",
       "      <th>166399</th>\n",
       "      <td>3200.0</td>\n",
       "      <td>8200.0</td>\n",
       "      <td>4600.0</td>\n",
       "      <td>3200.0</td>\n",
       "      <td>C</td>\n",
       "    </tr>\n",
       "    <tr>\n",
       "      <th>166405</th>\n",
       "      <td>216060.2</td>\n",
       "      <td>137011.1</td>\n",
       "      <td>216060.2</td>\n",
       "      <td>299543.8</td>\n",
       "      <td>A</td>\n",
       "    </tr>\n",
       "  </tbody>\n",
       "</table>\n",
       "</div>"
      ],
      "text/plain": [
       "         current_price  price_tariff_A  price_tariff_B  price_tariff_C  \\\n",
       "user_id                                                                  \n",
       "166377        158613.0        102927.8        158613.0        218140.5   \n",
       "166391          4500.0         12250.0          6750.0          4500.0   \n",
       "166392          5700.0         12450.0          7350.0          5700.0   \n",
       "166399          3200.0          8200.0          4600.0          3200.0   \n",
       "166405        216060.2        137011.1        216060.2        299543.8   \n",
       "\n",
       "        optimal_tariff  \n",
       "user_id                 \n",
       "166377               A  \n",
       "166391               C  \n",
       "166392               C  \n",
       "166399               C  \n",
       "166405               A  "
      ]
     },
     "execution_count": 65,
     "metadata": {},
     "output_type": "execute_result"
    }
   ],
   "source": [
    "\n",
    "def optimal_tariff(row):\n",
    "    if row['price_tariff_A'] < row['price_tariff_B'] and row['price_tariff_A'] < row['price_tariff_C']:\n",
    "        return 'A'\n",
    "    elif row['price_tariff_B'] < row['price_tariff_A'] and row['price_tariff_B'] < row['price_tariff_C']:\n",
    "        return 'B'\n",
    "    else:\n",
    "        return 'C'\n",
    "\n",
    "# Добавляем новый столбец с оптимальным тарифом\n",
    "merge_sum['optimal_tariff'] = merge_sum.apply(optimal_tariff, axis=1)\n",
    "\n",
    "merge_sum.head()"
   ]
  },
  {
   "cell_type": "code",
   "execution_count": 54,
   "metadata": {},
   "outputs": [
    {
     "data": {
      "image/png": "[encoded data removed]",
      "text/plain": [
       "<Figure size 720x360 with 1 Axes>"
      ]
     },
     "metadata": {
      "needs_background": "light"
     },
     "output_type": "display_data"
    },
    {
     "data": {
      "text/html": [
       "<div>\n",
       "<style scoped>\n",
       "    .dataframe tbody tr th:only-of-type {\n",
       "        vertical-align: middle;\n",
       "    }\n",
       "\n",
       "    .dataframe tbody tr th {\n",
       "        vertical-align: top;\n",
       "    }\n",
       "\n",
       "    .dataframe thead tr th {\n",
       "        text-align: left;\n",
       "    }\n",
       "\n",
       "    .dataframe thead tr:last-of-type th {\n",
       "        text-align: right;\n",
       "    }\n",
       "</style>\n",
       "<table border=\"1\" class=\"dataframe\">\n",
       "  <thead>\n",
       "    <tr>\n",
       "      <th></th>\n",
       "      <th>count</th>\n",
       "    </tr>\n",
       "    <tr>\n",
       "      <th></th>\n",
       "      <th>user_id</th>\n",
       "    </tr>\n",
       "    <tr>\n",
       "      <th>optimal_tariff</th>\n",
       "      <th></th>\n",
       "    </tr>\n",
       "  </thead>\n",
       "  <tbody>\n",
       "    <tr>\n",
       "      <th>A</th>\n",
       "      <td>233</td>\n",
       "    </tr>\n",
       "    <tr>\n",
       "      <th>B</th>\n",
       "      <td>76</td>\n",
       "    </tr>\n",
       "    <tr>\n",
       "      <th>C</th>\n",
       "      <td>398</td>\n",
       "    </tr>\n",
       "  </tbody>\n",
       "</table>\n",
       "</div>"
      ],
      "text/plain": [
       "                 count\n",
       "               user_id\n",
       "optimal_tariff        \n",
       "A                  233\n",
       "B                   76\n",
       "C                  398"
      ]
     },
     "execution_count": 54,
     "metadata": {},
     "output_type": "execute_result"
    }
   ],
   "source": [
    "w3= out_call.pivot_table(index=['optimal_tariff'],values=['user_id'],aggfunc=['count'])\n",
    "w3.plot(y='count',kind='bar', figsize =(10,5),grid=True )    \n",
    "plt.title('Лучший тариф для каждого клиента',fontsize = 20)\n",
    "plt.xlabel('Тариф')\n",
    "plt.ylabel('Кол-во пользователей')\n",
    "plt.legend('')\n",
    "plt.show()\n",
    "w3"
   ]
  },
  {
   "cell_type": "markdown",
   "metadata": {},
   "source": [
    "**Если клиенты выберут оптимальный для себя тариф , то распределение будет выглядить следующим образом : Тарифом С все также будут пользоваться больше всего клиентов 398. Тарифом А 233. Тарифом В меньше всего 76.**"
   ]
  },
  {
   "cell_type": "markdown",
   "metadata": {},
   "source": [
    "def find_min_rate(row):\n",
    "    return min(row['price_tariff_A'],row['price_tariff_B'],row['price_tariff_C'])\n",
    "out_call['best_tariff_price'] =  out_call.apply(find_min_rate,axis=1)\n",
    "out_call"
   ]
  },
  {
   "cell_type": "markdown",
   "metadata": {},
   "source": [
    "### Переплата\n",
    "<a id=\"2.6\"></a>"
   ]
  },
  {
   "cell_type": "code",
   "execution_count": 25,
   "metadata": {},
   "outputs": [
    {
     "data": {
      "text/html": [
       "<div>\n",
       "<style scoped>\n",
       "    .dataframe tbody tr th:only-of-type {\n",
       "        vertical-align: middle;\n",
       "    }\n",
       "\n",
       "    .dataframe tbody tr th {\n",
       "        vertical-align: top;\n",
       "    }\n",
       "\n",
       "    .dataframe thead th {\n",
       "        text-align: right;\n",
       "    }\n",
       "</style>\n",
       "<table border=\"1\" class=\"dataframe\">\n",
       "  <thead>\n",
       "    <tr style=\"text-align: right;\">\n",
       "      <th></th>\n",
       "      <th>user_id</th>\n",
       "      <th>month</th>\n",
       "      <th>op_out_call</th>\n",
       "      <th>cl_out_call</th>\n",
       "      <th>tariff_plan</th>\n",
       "      <th>count_oper</th>\n",
       "      <th>current_price</th>\n",
       "      <th>price_tariff_A</th>\n",
       "      <th>price_tariff_B</th>\n",
       "      <th>price_tariff_C</th>\n",
       "      <th>best_tariff</th>\n",
       "      <th>optimal_tariff</th>\n",
       "      <th>overpayment</th>\n",
       "    </tr>\n",
       "  </thead>\n",
       "  <tbody>\n",
       "    <tr>\n",
       "      <th>607</th>\n",
       "      <td>168062</td>\n",
       "      <td>11</td>\n",
       "      <td>31429.0</td>\n",
       "      <td>943548.0</td>\n",
       "      <td>A</td>\n",
       "      <td>28</td>\n",
       "      <td>291407.3</td>\n",
       "      <td>291407.3</td>\n",
       "      <td>482613.4</td>\n",
       "      <td>679312.3</td>\n",
       "      <td>291407.3</td>\n",
       "      <td>A</td>\n",
       "      <td>0.0</td>\n",
       "    </tr>\n",
       "    <tr>\n",
       "      <th>463</th>\n",
       "      <td>167626</td>\n",
       "      <td>10</td>\n",
       "      <td>1.0</td>\n",
       "      <td>932152.0</td>\n",
       "      <td>A</td>\n",
       "      <td>49</td>\n",
       "      <td>286095.6</td>\n",
       "      <td>286095.6</td>\n",
       "      <td>475426.0</td>\n",
       "      <td>668206.7</td>\n",
       "      <td>286095.6</td>\n",
       "      <td>A</td>\n",
       "      <td>0.0</td>\n",
       "    </tr>\n",
       "    <tr>\n",
       "      <th>673</th>\n",
       "      <td>168361</td>\n",
       "      <td>11</td>\n",
       "      <td>37.0</td>\n",
       "      <td>767991.0</td>\n",
       "      <td>A</td>\n",
       "      <td>26</td>\n",
       "      <td>235697.3</td>\n",
       "      <td>235697.3</td>\n",
       "      <td>389895.5</td>\n",
       "      <td>546404.8</td>\n",
       "      <td>235697.3</td>\n",
       "      <td>A</td>\n",
       "      <td>0.0</td>\n",
       "    </tr>\n",
       "    <tr>\n",
       "      <th>292</th>\n",
       "      <td>167125</td>\n",
       "      <td>9</td>\n",
       "      <td>183.0</td>\n",
       "      <td>326416.0</td>\n",
       "      <td>C</td>\n",
       "      <td>9</td>\n",
       "      <td>232246.1</td>\n",
       "      <td>102374.8</td>\n",
       "      <td>166558.0</td>\n",
       "      <td>232246.1</td>\n",
       "      <td>102374.8</td>\n",
       "      <td>A</td>\n",
       "      <td>129871.3</td>\n",
       "    </tr>\n",
       "    <tr>\n",
       "      <th>79</th>\n",
       "      <td>166658</td>\n",
       "      <td>10</td>\n",
       "      <td>0.0</td>\n",
       "      <td>437097.0</td>\n",
       "      <td>B</td>\n",
       "      <td>17</td>\n",
       "      <td>223098.5</td>\n",
       "      <td>135979.1</td>\n",
       "      <td>223098.5</td>\n",
       "      <td>312067.9</td>\n",
       "      <td>135979.1</td>\n",
       "      <td>A</td>\n",
       "      <td>87119.4</td>\n",
       "    </tr>\n",
       "    <tr>\n",
       "      <th>...</th>\n",
       "      <td>...</td>\n",
       "      <td>...</td>\n",
       "      <td>...</td>\n",
       "      <td>...</td>\n",
       "      <td>...</td>\n",
       "      <td>...</td>\n",
       "      <td>...</td>\n",
       "      <td>...</td>\n",
       "      <td>...</td>\n",
       "      <td>...</td>\n",
       "      <td>...</td>\n",
       "      <td>...</td>\n",
       "      <td>...</td>\n",
       "    </tr>\n",
       "    <tr>\n",
       "      <th>128</th>\n",
       "      <td>166726</td>\n",
       "      <td>11</td>\n",
       "      <td>NaN</td>\n",
       "      <td>0.0</td>\n",
       "      <td>C</td>\n",
       "      <td>1</td>\n",
       "      <td>1300.0</td>\n",
       "      <td>4050.0</td>\n",
       "      <td>2150.0</td>\n",
       "      <td>1300.0</td>\n",
       "      <td>1300.0</td>\n",
       "      <td>C</td>\n",
       "      <td>0.0</td>\n",
       "    </tr>\n",
       "    <tr>\n",
       "      <th>346</th>\n",
       "      <td>167244</td>\n",
       "      <td>10</td>\n",
       "      <td>NaN</td>\n",
       "      <td>0.0</td>\n",
       "      <td>C</td>\n",
       "      <td>1</td>\n",
       "      <td>1300.0</td>\n",
       "      <td>4050.0</td>\n",
       "      <td>2150.0</td>\n",
       "      <td>1300.0</td>\n",
       "      <td>1300.0</td>\n",
       "      <td>C</td>\n",
       "      <td>0.0</td>\n",
       "    </tr>\n",
       "    <tr>\n",
       "      <th>130</th>\n",
       "      <td>166727</td>\n",
       "      <td>10</td>\n",
       "      <td>NaN</td>\n",
       "      <td>0.0</td>\n",
       "      <td>C</td>\n",
       "      <td>1</td>\n",
       "      <td>1300.0</td>\n",
       "      <td>4050.0</td>\n",
       "      <td>2150.0</td>\n",
       "      <td>1300.0</td>\n",
       "      <td>1300.0</td>\n",
       "      <td>C</td>\n",
       "      <td>0.0</td>\n",
       "    </tr>\n",
       "    <tr>\n",
       "      <th>308</th>\n",
       "      <td>167162</td>\n",
       "      <td>11</td>\n",
       "      <td>NaN</td>\n",
       "      <td>0.0</td>\n",
       "      <td>C</td>\n",
       "      <td>1</td>\n",
       "      <td>1300.0</td>\n",
       "      <td>4050.0</td>\n",
       "      <td>2150.0</td>\n",
       "      <td>1300.0</td>\n",
       "      <td>1300.0</td>\n",
       "      <td>C</td>\n",
       "      <td>0.0</td>\n",
       "    </tr>\n",
       "    <tr>\n",
       "      <th>77</th>\n",
       "      <td>166649</td>\n",
       "      <td>11</td>\n",
       "      <td>NaN</td>\n",
       "      <td>0.0</td>\n",
       "      <td>C</td>\n",
       "      <td>1</td>\n",
       "      <td>1300.0</td>\n",
       "      <td>4050.0</td>\n",
       "      <td>2150.0</td>\n",
       "      <td>1300.0</td>\n",
       "      <td>1300.0</td>\n",
       "      <td>C</td>\n",
       "      <td>0.0</td>\n",
       "    </tr>\n",
       "  </tbody>\n",
       "</table>\n",
       "<p>707 rows × 13 columns</p>\n",
       "</div>"
      ],
      "text/plain": [
       "     user_id  month  op_out_call  cl_out_call tariff_plan  count_oper  \\\n",
       "607   168062     11      31429.0     943548.0           A          28   \n",
       "463   167626     10          1.0     932152.0           A          49   \n",
       "673   168361     11         37.0     767991.0           A          26   \n",
       "292   167125      9        183.0     326416.0           C           9   \n",
       "79    166658     10          0.0     437097.0           B          17   \n",
       "..       ...    ...          ...          ...         ...         ...   \n",
       "128   166726     11          NaN          0.0           C           1   \n",
       "346   167244     10          NaN          0.0           C           1   \n",
       "130   166727     10          NaN          0.0           C           1   \n",
       "308   167162     11          NaN          0.0           C           1   \n",
       "77    166649     11          NaN          0.0           C           1   \n",
       "\n",
       "     current_price  price_tariff_A  price_tariff_B  price_tariff_C  \\\n",
       "607       291407.3        291407.3        482613.4        679312.3   \n",
       "463       286095.6        286095.6        475426.0        668206.7   \n",
       "673       235697.3        235697.3        389895.5        546404.8   \n",
       "292       232246.1        102374.8        166558.0        232246.1   \n",
       "79        223098.5        135979.1        223098.5        312067.9   \n",
       "..             ...             ...             ...             ...   \n",
       "128         1300.0          4050.0          2150.0          1300.0   \n",
       "346         1300.0          4050.0          2150.0          1300.0   \n",
       "130         1300.0          4050.0          2150.0          1300.0   \n",
       "308         1300.0          4050.0          2150.0          1300.0   \n",
       "77          1300.0          4050.0          2150.0          1300.0   \n",
       "\n",
       "     best_tariff optimal_tariff  overpayment  \n",
       "607     291407.3              A          0.0  \n",
       "463     286095.6              A          0.0  \n",
       "673     235697.3              A          0.0  \n",
       "292     102374.8              A     129871.3  \n",
       "79      135979.1              A      87119.4  \n",
       "..           ...            ...          ...  \n",
       "128       1300.0              C          0.0  \n",
       "346       1300.0              C          0.0  \n",
       "130       1300.0              C          0.0  \n",
       "308       1300.0              C          0.0  \n",
       "77        1300.0              C          0.0  \n",
       "\n",
       "[707 rows x 13 columns]"
      ]
     },
     "execution_count": 25,
     "metadata": {},
     "output_type": "execute_result"
    }
   ],
   "source": [
    "out_call['overpayment']= out_call['current_price'] - out_call['best_tariff']\n",
    "out_call.sort_values(by='current_price', ascending=False)"
   ]
  },
  {
   "cell_type": "code",
   "execution_count": 26,
   "metadata": {},
   "outputs": [
    {
     "data": {
      "text/plain": [
       "count       707.000000\n",
       "mean       4776.704950\n",
       "std       13041.481681\n",
       "min           0.000000\n",
       "25%           0.000000\n",
       "50%         362.000000\n",
       "75%        2259.600000\n",
       "max      129871.300000\n",
       "Name: overpayment, dtype: float64"
      ]
     },
     "execution_count": 26,
     "metadata": {},
     "output_type": "execute_result"
    }
   ],
   "source": [
    "out_call['overpayment'].describe()"
   ]
  },
  {
   "cell_type": "markdown",
   "metadata": {},
   "source": [
    "**Средняя переплата сосатвляет 4776.7 рублей . Медианная 362 рубля . В таблице много клиентов которые пользуются оптимальными тарифами . Уберем их чтоб увидеть средее и медиану без выброса.**"
   ]
  },
  {
   "cell_type": "code",
   "execution_count": 27,
   "metadata": {},
   "outputs": [],
   "source": [
    "out_call_without_0 = out_call.query('overpayment != 0')"
   ]
  },
  {
   "cell_type": "code",
   "execution_count": 28,
   "metadata": {},
   "outputs": [
    {
     "data": {
      "text/plain": [
       "count       396.000000\n",
       "mean       8528.107071\n",
       "std       16489.941578\n",
       "min           7.200000\n",
       "25%         698.100000\n",
       "50%        1909.400000\n",
       "75%        8174.850000\n",
       "max      129871.300000\n",
       "Name: overpayment, dtype: float64"
      ]
     },
     "execution_count": 28,
     "metadata": {},
     "output_type": "execute_result"
    }
   ],
   "source": [
    "out_call_without_0['overpayment'].describe()"
   ]
  },
  {
   "cell_type": "markdown",
   "metadata": {},
   "source": [
    "**После того как убрали клиентов с оптимальними тарифами показатели среднего и медианны сильно возрасли . 8528 рублей - средняя переплата . 1909 рублей - медианнаяф переплата .** "
   ]
  },
  {
   "cell_type": "code",
   "execution_count": 29,
   "metadata": {},
   "outputs": [
    {
     "data": {
      "image/png": "[encoded data removed]",
      "text/plain": [
       "<Figure size 720x360 with 1 Axes>"
      ]
     },
     "metadata": {
      "needs_background": "light"
     },
     "output_type": "display_data"
    },
    {
     "data": {
      "text/html": [
       "<div>\n",
       "<style scoped>\n",
       "    .dataframe tbody tr th:only-of-type {\n",
       "        vertical-align: middle;\n",
       "    }\n",
       "\n",
       "    .dataframe tbody tr th {\n",
       "        vertical-align: top;\n",
       "    }\n",
       "\n",
       "    .dataframe thead tr th {\n",
       "        text-align: left;\n",
       "    }\n",
       "\n",
       "    .dataframe thead tr:last-of-type th {\n",
       "        text-align: right;\n",
       "    }\n",
       "</style>\n",
       "<table border=\"1\" class=\"dataframe\">\n",
       "  <thead>\n",
       "    <tr>\n",
       "      <th></th>\n",
       "      <th>sum</th>\n",
       "    </tr>\n",
       "    <tr>\n",
       "      <th></th>\n",
       "      <th>current_price</th>\n",
       "    </tr>\n",
       "    <tr>\n",
       "      <th>month</th>\n",
       "      <th></th>\n",
       "    </tr>\n",
       "  </thead>\n",
       "  <tbody>\n",
       "    <tr>\n",
       "      <th>9</th>\n",
       "      <td>2248810.6</td>\n",
       "    </tr>\n",
       "    <tr>\n",
       "      <th>10</th>\n",
       "      <td>3873964.6</td>\n",
       "    </tr>\n",
       "    <tr>\n",
       "      <th>11</th>\n",
       "      <td>4564670.0</td>\n",
       "    </tr>\n",
       "  </tbody>\n",
       "</table>\n",
       "</div>"
      ],
      "text/plain": [
       "                sum\n",
       "      current_price\n",
       "month              \n",
       "9         2248810.6\n",
       "10        3873964.6\n",
       "11        4564670.0"
      ]
     },
     "execution_count": 29,
     "metadata": {},
     "output_type": "execute_result"
    }
   ],
   "source": [
    "w1= out_call.pivot_table(index=['month'],values=['current_price'],aggfunc=['sum'])\n",
    "w1.plot(y='sum',kind='bar', figsize =(10,5),grid=True )    \n",
    "plt.title('Выручка с не оптимальных тарифов',fontsize = 20)\n",
    "plt.xlabel('месяц')\n",
    "plt.ylabel('млн')\n",
    "plt.legend('')\n",
    "plt.show()\n",
    "w1"
   ]
  },
  {
   "cell_type": "markdown",
   "metadata": {},
   "source": [
    "<div class=\"alert alert-danger\">\n",
    "    \n",
    "**Комментарий ревьюера**\n",
    "\n",
    "**#ошибка**\n",
    "\n",
    "Из этой картины и того, что мы получили далее можно предположить, что данные за август не полные. Это нужно рассмотреть в начале исследования, посмотреть, за какой период мы будем брать для анализа.\n",
    "    \n",
    "</div>"
   ]
  },
  {
   "cell_type": "markdown",
   "metadata": {},
   "source": [
    "<div class=\"alert alert-info\">\n",
    "<b>Комментарий студента:</b>\n",
    "<br>+\n",
    "</div>"
   ]
  },
  {
   "cell_type": "markdown",
   "metadata": {},
   "source": [
    "<div class=\"alert alert-success\">\n",
    "    \n",
    "**Комментарий ревьюера - 2**\n",
    "\n",
    "**#ок**\n",
    "\n",
    "Хорошо.\n",
    "    \n",
    "</div>"
   ]
  },
  {
   "cell_type": "markdown",
   "metadata": {},
   "source": [
    "**На графике видно, что каждый месяц выручка от клиентов росла.Скорее всего связанно это с ростом количества клиентов**"
   ]
  },
  {
   "cell_type": "code",
   "execution_count": 30,
   "metadata": {},
   "outputs": [
    {
     "data": {
      "text/plain": [
       "173"
      ]
     },
     "execution_count": 30,
     "metadata": {},
     "output_type": "execute_result"
    }
   ],
   "source": [
    "out_call.query('month ==9')['user_id'].nunique()"
   ]
  },
  {
   "cell_type": "code",
   "execution_count": 31,
   "metadata": {},
   "outputs": [
    {
     "data": {
      "text/plain": [
       "261"
      ]
     },
     "execution_count": 31,
     "metadata": {},
     "output_type": "execute_result"
    }
   ],
   "source": [
    "out_call.query('month ==11')['user_id'].nunique()"
   ]
  },
  {
   "cell_type": "markdown",
   "metadata": {},
   "source": [
    "**Как и говорилось выше , клиентов стало больше**"
   ]
  },
  {
   "cell_type": "code",
   "execution_count": 32,
   "metadata": {
    "scrolled": false
   },
   "outputs": [
    {
     "data": {
      "image/png": "[encoded data removed]",
      "text/plain": [
       "<Figure size 720x360 with 1 Axes>"
      ]
     },
     "metadata": {
      "needs_background": "light"
     },
     "output_type": "display_data"
    },
    {
     "data": {
      "text/html": [
       "<div>\n",
       "<style scoped>\n",
       "    .dataframe tbody tr th:only-of-type {\n",
       "        vertical-align: middle;\n",
       "    }\n",
       "\n",
       "    .dataframe tbody tr th {\n",
       "        vertical-align: top;\n",
       "    }\n",
       "\n",
       "    .dataframe thead tr th {\n",
       "        text-align: left;\n",
       "    }\n",
       "\n",
       "    .dataframe thead tr:last-of-type th {\n",
       "        text-align: right;\n",
       "    }\n",
       "</style>\n",
       "<table border=\"1\" class=\"dataframe\">\n",
       "  <thead>\n",
       "    <tr>\n",
       "      <th></th>\n",
       "      <th>sum</th>\n",
       "    </tr>\n",
       "    <tr>\n",
       "      <th></th>\n",
       "      <th>best_tariff</th>\n",
       "    </tr>\n",
       "    <tr>\n",
       "      <th>month</th>\n",
       "      <th></th>\n",
       "    </tr>\n",
       "  </thead>\n",
       "  <tbody>\n",
       "    <tr>\n",
       "      <th>9</th>\n",
       "      <td>1454864.0</td>\n",
       "    </tr>\n",
       "    <tr>\n",
       "      <th>10</th>\n",
       "      <td>2632962.5</td>\n",
       "    </tr>\n",
       "    <tr>\n",
       "      <th>11</th>\n",
       "      <td>3222488.3</td>\n",
       "    </tr>\n",
       "  </tbody>\n",
       "</table>\n",
       "</div>"
      ],
      "text/plain": [
       "              sum\n",
       "      best_tariff\n",
       "month            \n",
       "9       1454864.0\n",
       "10      2632962.5\n",
       "11      3222488.3"
      ]
     },
     "execution_count": 32,
     "metadata": {},
     "output_type": "execute_result"
    }
   ],
   "source": [
    "w2=out_call.pivot_table(index=['month'],values=['best_tariff'],aggfunc=['sum'])\n",
    "w2.plot(y='sum',kind='bar', figsize =(10,5),grid=True)     \n",
    "\n",
    "plt.title('Выручка с оптимальных тарифов',fontsize = 20)\n",
    "plt.xlabel('месяц')\n",
    "plt.ylabel('млн')\n",
    "plt.legend('')\n",
    "plt.show()\n",
    "w2"
   ]
  },
  {
   "cell_type": "markdown",
   "metadata": {},
   "source": [
    "**Также как и с не оптимальными выручка каждый месяц растет**"
   ]
  },
  {
   "cell_type": "code",
   "execution_count": 33,
   "metadata": {},
   "outputs": [
    {
     "name": "stdout",
     "output_type": "stream",
     "text": [
      "56.01% клиентов пользуются не выгодным тарифом.\n"
     ]
    }
   ],
   "source": [
    "print(f'{round(out_call[out_call[\"overpayment\"] != 0].shape[0] / out_call.shape[0] * 100, 2)}% клиентов пользуются',\n",
    "     'не выгодным тарифом.')"
   ]
  },
  {
   "cell_type": "markdown",
   "metadata": {},
   "source": [
    "### **Вывод по второй части:**\n",
    "<a id=\"2.7\"></a>\n",
    "\n",
    "Во второй части была создана таблица с тратами каждого клиента в месяц. Была расчитана переплата на каждого клиента , в среднем клиенты переплачивают -  6446.4 рублей(если убрать из данных пользовалетей с оптимальным тарифом). Выяснили что каждый месяц количество клиентов растет , например в 9 месяц было 173 клиента , а в 11 месяце стало 261 клиент. Такж растет и выручка, в 9 месяце выручка составляла - 2248810 , в 11 месяце - 4564670"
   ]
  },
  {
   "cell_type": "markdown",
   "metadata": {},
   "source": [
    "## Часть 3.Активные клиенты\n",
    "<a id=\"3\"></a>"
   ]
  },
  {
   "cell_type": "markdown",
   "metadata": {},
   "source": [
    "**Активными клиентами будет считать тех , кто совершил хотя-бы одно действие в месяце 11.**"
   ]
  },
  {
   "cell_type": "code",
   "execution_count": 34,
   "metadata": {},
   "outputs": [],
   "source": [
    "active_cl = out_call.query('month == 11').reset_index(drop=True)"
   ]
  },
  {
   "cell_type": "markdown",
   "metadata": {},
   "source": [
    "<div class=\"alert alert-success\">\n",
    "    \n",
    "**Комментарий ревьюера**\n",
    "\n",
    "**#ок**\n",
    "\n",
    "Хорошо. Это возможный способ определения активных клиентов. Только это стоило сделать в начале, до всех расчетов, чтобы расчеты и аналз проводить только для активных клиентов.\n",
    "    \n",
    "</div>"
   ]
  },
  {
   "cell_type": "code",
   "execution_count": 35,
   "metadata": {},
   "outputs": [
    {
     "data": {
      "text/html": [
       "<div>\n",
       "<style scoped>\n",
       "    .dataframe tbody tr th:only-of-type {\n",
       "        vertical-align: middle;\n",
       "    }\n",
       "\n",
       "    .dataframe tbody tr th {\n",
       "        vertical-align: top;\n",
       "    }\n",
       "\n",
       "    .dataframe thead th {\n",
       "        text-align: right;\n",
       "    }\n",
       "</style>\n",
       "<table border=\"1\" class=\"dataframe\">\n",
       "  <thead>\n",
       "    <tr style=\"text-align: right;\">\n",
       "      <th></th>\n",
       "      <th>user_id</th>\n",
       "      <th>month</th>\n",
       "      <th>op_out_call</th>\n",
       "      <th>cl_out_call</th>\n",
       "      <th>tariff_plan</th>\n",
       "      <th>count_oper</th>\n",
       "      <th>current_price</th>\n",
       "      <th>price_tariff_A</th>\n",
       "      <th>price_tariff_B</th>\n",
       "      <th>price_tariff_C</th>\n",
       "      <th>best_tariff</th>\n",
       "      <th>optimal_tariff</th>\n",
       "      <th>overpayment</th>\n",
       "    </tr>\n",
       "  </thead>\n",
       "  <tbody>\n",
       "    <tr>\n",
       "      <th>204</th>\n",
       "      <td>168062</td>\n",
       "      <td>11</td>\n",
       "      <td>31429.0</td>\n",
       "      <td>943548.0</td>\n",
       "      <td>A</td>\n",
       "      <td>28</td>\n",
       "      <td>291407.3</td>\n",
       "      <td>291407.3</td>\n",
       "      <td>482613.4</td>\n",
       "      <td>679312.3</td>\n",
       "      <td>291407.3</td>\n",
       "      <td>A</td>\n",
       "      <td>0.0</td>\n",
       "    </tr>\n",
       "    <tr>\n",
       "      <th>238</th>\n",
       "      <td>168361</td>\n",
       "      <td>11</td>\n",
       "      <td>37.0</td>\n",
       "      <td>767991.0</td>\n",
       "      <td>A</td>\n",
       "      <td>26</td>\n",
       "      <td>235697.3</td>\n",
       "      <td>235697.3</td>\n",
       "      <td>389895.5</td>\n",
       "      <td>546404.8</td>\n",
       "      <td>235697.3</td>\n",
       "      <td>A</td>\n",
       "      <td>0.0</td>\n",
       "    </tr>\n",
       "    <tr>\n",
       "      <th>25</th>\n",
       "      <td>166658</td>\n",
       "      <td>11</td>\n",
       "      <td>0.0</td>\n",
       "      <td>401955.0</td>\n",
       "      <td>B</td>\n",
       "      <td>16</td>\n",
       "      <td>205377.5</td>\n",
       "      <td>125386.5</td>\n",
       "      <td>205377.5</td>\n",
       "      <td>287168.5</td>\n",
       "      <td>125386.5</td>\n",
       "      <td>A</td>\n",
       "      <td>79991.0</td>\n",
       "    </tr>\n",
       "    <tr>\n",
       "      <th>219</th>\n",
       "      <td>168187</td>\n",
       "      <td>11</td>\n",
       "      <td>5113.0</td>\n",
       "      <td>543789.0</td>\n",
       "      <td>A</td>\n",
       "      <td>47</td>\n",
       "      <td>169798.0</td>\n",
       "      <td>169798.0</td>\n",
       "      <td>281636.4</td>\n",
       "      <td>397286.2</td>\n",
       "      <td>169798.0</td>\n",
       "      <td>A</td>\n",
       "      <td>0.0</td>\n",
       "    </tr>\n",
       "    <tr>\n",
       "      <th>65</th>\n",
       "      <td>166983</td>\n",
       "      <td>11</td>\n",
       "      <td>2708.0</td>\n",
       "      <td>180159.0</td>\n",
       "      <td>C</td>\n",
       "      <td>5</td>\n",
       "      <td>129423.7</td>\n",
       "      <td>58368.5</td>\n",
       "      <td>93160.7</td>\n",
       "      <td>129423.7</td>\n",
       "      <td>58368.5</td>\n",
       "      <td>A</td>\n",
       "      <td>71055.2</td>\n",
       "    </tr>\n",
       "    <tr>\n",
       "      <th>...</th>\n",
       "      <td>...</td>\n",
       "      <td>...</td>\n",
       "      <td>...</td>\n",
       "      <td>...</td>\n",
       "      <td>...</td>\n",
       "      <td>...</td>\n",
       "      <td>...</td>\n",
       "      <td>...</td>\n",
       "      <td>...</td>\n",
       "      <td>...</td>\n",
       "      <td>...</td>\n",
       "      <td>...</td>\n",
       "      <td>...</td>\n",
       "    </tr>\n",
       "    <tr>\n",
       "      <th>40</th>\n",
       "      <td>166726</td>\n",
       "      <td>11</td>\n",
       "      <td>NaN</td>\n",
       "      <td>0.0</td>\n",
       "      <td>C</td>\n",
       "      <td>1</td>\n",
       "      <td>1300.0</td>\n",
       "      <td>4050.0</td>\n",
       "      <td>2150.0</td>\n",
       "      <td>1300.0</td>\n",
       "      <td>1300.0</td>\n",
       "      <td>C</td>\n",
       "      <td>0.0</td>\n",
       "    </tr>\n",
       "    <tr>\n",
       "      <th>151</th>\n",
       "      <td>167721</td>\n",
       "      <td>11</td>\n",
       "      <td>NaN</td>\n",
       "      <td>0.0</td>\n",
       "      <td>C</td>\n",
       "      <td>1</td>\n",
       "      <td>1300.0</td>\n",
       "      <td>4050.0</td>\n",
       "      <td>2150.0</td>\n",
       "      <td>1300.0</td>\n",
       "      <td>1300.0</td>\n",
       "      <td>C</td>\n",
       "      <td>0.0</td>\n",
       "    </tr>\n",
       "    <tr>\n",
       "      <th>222</th>\n",
       "      <td>168202</td>\n",
       "      <td>11</td>\n",
       "      <td>NaN</td>\n",
       "      <td>0.0</td>\n",
       "      <td>C</td>\n",
       "      <td>1</td>\n",
       "      <td>1300.0</td>\n",
       "      <td>4050.0</td>\n",
       "      <td>2150.0</td>\n",
       "      <td>1300.0</td>\n",
       "      <td>1300.0</td>\n",
       "      <td>C</td>\n",
       "      <td>0.0</td>\n",
       "    </tr>\n",
       "    <tr>\n",
       "      <th>24</th>\n",
       "      <td>166649</td>\n",
       "      <td>11</td>\n",
       "      <td>NaN</td>\n",
       "      <td>0.0</td>\n",
       "      <td>C</td>\n",
       "      <td>1</td>\n",
       "      <td>1300.0</td>\n",
       "      <td>4050.0</td>\n",
       "      <td>2150.0</td>\n",
       "      <td>1300.0</td>\n",
       "      <td>1300.0</td>\n",
       "      <td>C</td>\n",
       "      <td>0.0</td>\n",
       "    </tr>\n",
       "    <tr>\n",
       "      <th>28</th>\n",
       "      <td>166677</td>\n",
       "      <td>11</td>\n",
       "      <td>NaN</td>\n",
       "      <td>0.0</td>\n",
       "      <td>C</td>\n",
       "      <td>1</td>\n",
       "      <td>1300.0</td>\n",
       "      <td>4050.0</td>\n",
       "      <td>2150.0</td>\n",
       "      <td>1300.0</td>\n",
       "      <td>1300.0</td>\n",
       "      <td>C</td>\n",
       "      <td>0.0</td>\n",
       "    </tr>\n",
       "  </tbody>\n",
       "</table>\n",
       "<p>261 rows × 13 columns</p>\n",
       "</div>"
      ],
      "text/plain": [
       "     user_id  month  op_out_call  cl_out_call tariff_plan  count_oper  \\\n",
       "204   168062     11      31429.0     943548.0           A          28   \n",
       "238   168361     11         37.0     767991.0           A          26   \n",
       "25    166658     11          0.0     401955.0           B          16   \n",
       "219   168187     11       5113.0     543789.0           A          47   \n",
       "65    166983     11       2708.0     180159.0           C           5   \n",
       "..       ...    ...          ...          ...         ...         ...   \n",
       "40    166726     11          NaN          0.0           C           1   \n",
       "151   167721     11          NaN          0.0           C           1   \n",
       "222   168202     11          NaN          0.0           C           1   \n",
       "24    166649     11          NaN          0.0           C           1   \n",
       "28    166677     11          NaN          0.0           C           1   \n",
       "\n",
       "     current_price  price_tariff_A  price_tariff_B  price_tariff_C  \\\n",
       "204       291407.3        291407.3        482613.4        679312.3   \n",
       "238       235697.3        235697.3        389895.5        546404.8   \n",
       "25        205377.5        125386.5        205377.5        287168.5   \n",
       "219       169798.0        169798.0        281636.4        397286.2   \n",
       "65        129423.7         58368.5         93160.7        129423.7   \n",
       "..             ...             ...             ...             ...   \n",
       "40          1300.0          4050.0          2150.0          1300.0   \n",
       "151         1300.0          4050.0          2150.0          1300.0   \n",
       "222         1300.0          4050.0          2150.0          1300.0   \n",
       "24          1300.0          4050.0          2150.0          1300.0   \n",
       "28          1300.0          4050.0          2150.0          1300.0   \n",
       "\n",
       "     best_tariff optimal_tariff  overpayment  \n",
       "204     291407.3              A          0.0  \n",
       "238     235697.3              A          0.0  \n",
       "25      125386.5              A      79991.0  \n",
       "219     169798.0              A          0.0  \n",
       "65       58368.5              A      71055.2  \n",
       "..           ...            ...          ...  \n",
       "40        1300.0              C          0.0  \n",
       "151       1300.0              C          0.0  \n",
       "222       1300.0              C          0.0  \n",
       "24        1300.0              C          0.0  \n",
       "28        1300.0              C          0.0  \n",
       "\n",
       "[261 rows x 13 columns]"
      ]
     },
     "execution_count": 35,
     "metadata": {},
     "output_type": "execute_result"
    }
   ],
   "source": [
    "active_cl.sort_values(by='current_price', ascending=False)"
   ]
  },
  {
   "cell_type": "code",
   "execution_count": 36,
   "metadata": {},
   "outputs": [
    {
     "name": "stdout",
     "output_type": "stream",
     "text": [
      "Активных пользователей: 261\n"
     ]
    },
    {
     "data": {
      "text/html": [
       "<div>\n",
       "<style scoped>\n",
       "    .dataframe tbody tr th:only-of-type {\n",
       "        vertical-align: middle;\n",
       "    }\n",
       "\n",
       "    .dataframe tbody tr th {\n",
       "        vertical-align: top;\n",
       "    }\n",
       "\n",
       "    .dataframe thead th {\n",
       "        text-align: right;\n",
       "    }\n",
       "</style>\n",
       "<table border=\"1\" class=\"dataframe\">\n",
       "  <thead>\n",
       "    <tr style=\"text-align: right;\">\n",
       "      <th></th>\n",
       "      <th>tariff_plan</th>\n",
       "      <th>user_id</th>\n",
       "    </tr>\n",
       "  </thead>\n",
       "  <tbody>\n",
       "    <tr>\n",
       "      <th>0</th>\n",
       "      <td>A</td>\n",
       "      <td>30</td>\n",
       "    </tr>\n",
       "    <tr>\n",
       "      <th>1</th>\n",
       "      <td>B</td>\n",
       "      <td>96</td>\n",
       "    </tr>\n",
       "    <tr>\n",
       "      <th>2</th>\n",
       "      <td>C</td>\n",
       "      <td>135</td>\n",
       "    </tr>\n",
       "  </tbody>\n",
       "</table>\n",
       "</div>"
      ],
      "text/plain": [
       "  tariff_plan  user_id\n",
       "0           A       30\n",
       "1           B       96\n",
       "2           C      135"
      ]
     },
     "metadata": {},
     "output_type": "display_data"
    },
    {
     "data": {
      "image/png": "[encoded data removed]",
      "text/plain": [
       "<Figure size 432x288 with 1 Axes>"
      ]
     },
     "metadata": {
      "needs_background": "light"
     },
     "output_type": "display_data"
    }
   ],
   "source": [
    "# количество активных пользователей , которых совершили хотябы 1 звонок в 11 месяце\n",
    "bar_activ_cl = active_cl.groupby('tariff_plan')['user_id'].nunique().reset_index()\n",
    "fig = bar_activ_cl.plot.bar(x='tariff_plan')\n",
    "plt.title('Распределиние активных клиентов по тарифам',fontsize=15)\n",
    "plt.xlabel('Тариф')\n",
    "plt.ylabel('Количество клиентов')\n",
    "\n",
    "fig.figure.show()\n",
    "print(f'Активных пользователей:',active_cl['user_id'].nunique())\n",
    "display(bar_activ_cl)\n"
   ]
  },
  {
   "cell_type": "markdown",
   "metadata": {},
   "source": [
    "<div class=\"alert alert-danger\">\n",
    "    \n",
    "**Комментарий ревьюера**\n",
    "\n",
    "**#ошибка**\n",
    "\n",
    "Здесь опять же нужно оформить график.\n",
    "    \n",
    "</div>"
   ]
  },
  {
   "cell_type": "markdown",
   "metadata": {},
   "source": [
    "<div class=\"alert alert-info\">\n",
    "<font size=\"4\", color = \"black\"><b>+</b></font>"
   ]
  },
  {
   "cell_type": "markdown",
   "metadata": {},
   "source": [
    "<div class=\"alert alert-success\">\n",
    "    \n",
    "**Комментарий ревьюера - 2**\n",
    "\n",
    "**#ок**\n",
    "\n",
    "👍\n",
    "    \n",
    "</div>"
   ]
  },
  {
   "cell_type": "markdown",
   "metadata": {},
   "source": [
    "**Большинство активных клиентов пользуются тарифом С.**"
   ]
  },
  {
   "cell_type": "code",
   "execution_count": 37,
   "metadata": {},
   "outputs": [
    {
     "name": "stdout",
     "output_type": "stream",
     "text": [
      "Количество активных клиентов с оптимальным  тарифом : 107\n"
     ]
    }
   ],
   "source": [
    "active_optimal_tariff = active_cl.query('overpayment == 0')\n",
    "print(f'Количество активных клиентов с оптимальным  тарифом :',active_optimal_tariff['user_id'].nunique())"
   ]
  },
  {
   "cell_type": "code",
   "execution_count": 38,
   "metadata": {},
   "outputs": [
    {
     "data": {
      "text/html": [
       "<div>\n",
       "<style scoped>\n",
       "    .dataframe tbody tr th:only-of-type {\n",
       "        vertical-align: middle;\n",
       "    }\n",
       "\n",
       "    .dataframe tbody tr th {\n",
       "        vertical-align: top;\n",
       "    }\n",
       "\n",
       "    .dataframe thead th {\n",
       "        text-align: right;\n",
       "    }\n",
       "</style>\n",
       "<table border=\"1\" class=\"dataframe\">\n",
       "  <thead>\n",
       "    <tr style=\"text-align: right;\">\n",
       "      <th></th>\n",
       "      <th>user_id</th>\n",
       "      <th>month</th>\n",
       "      <th>op_out_call</th>\n",
       "      <th>cl_out_call</th>\n",
       "      <th>tariff_plan</th>\n",
       "      <th>count_oper</th>\n",
       "      <th>current_price</th>\n",
       "      <th>price_tariff_A</th>\n",
       "      <th>price_tariff_B</th>\n",
       "      <th>price_tariff_C</th>\n",
       "      <th>best_tariff</th>\n",
       "      <th>optimal_tariff</th>\n",
       "      <th>overpayment</th>\n",
       "    </tr>\n",
       "  </thead>\n",
       "  <tbody>\n",
       "    <tr>\n",
       "      <th>14</th>\n",
       "      <td>166658</td>\n",
       "      <td>11</td>\n",
       "      <td>0.0</td>\n",
       "      <td>401955.0</td>\n",
       "      <td>B</td>\n",
       "      <td>16</td>\n",
       "      <td>205377.5</td>\n",
       "      <td>125386.5</td>\n",
       "      <td>205377.5</td>\n",
       "      <td>287168.5</td>\n",
       "      <td>125386.5</td>\n",
       "      <td>A</td>\n",
       "      <td>79991.0</td>\n",
       "    </tr>\n",
       "    <tr>\n",
       "      <th>44</th>\n",
       "      <td>166983</td>\n",
       "      <td>11</td>\n",
       "      <td>2708.0</td>\n",
       "      <td>180159.0</td>\n",
       "      <td>C</td>\n",
       "      <td>5</td>\n",
       "      <td>129423.7</td>\n",
       "      <td>58368.5</td>\n",
       "      <td>93160.7</td>\n",
       "      <td>129423.7</td>\n",
       "      <td>58368.5</td>\n",
       "      <td>A</td>\n",
       "      <td>71055.2</td>\n",
       "    </tr>\n",
       "    <tr>\n",
       "      <th>62</th>\n",
       "      <td>167150</td>\n",
       "      <td>11</td>\n",
       "      <td>12935.0</td>\n",
       "      <td>145006.0</td>\n",
       "      <td>C</td>\n",
       "      <td>8</td>\n",
       "      <td>108784.7</td>\n",
       "      <td>48995.3</td>\n",
       "      <td>77568.2</td>\n",
       "      <td>108784.7</td>\n",
       "      <td>48995.3</td>\n",
       "      <td>A</td>\n",
       "      <td>59789.4</td>\n",
       "    </tr>\n",
       "    <tr>\n",
       "      <th>139</th>\n",
       "      <td>168412</td>\n",
       "      <td>11</td>\n",
       "      <td>9.0</td>\n",
       "      <td>143470.0</td>\n",
       "      <td>C</td>\n",
       "      <td>10</td>\n",
       "      <td>104431.7</td>\n",
       "      <td>47541.0</td>\n",
       "      <td>75235.0</td>\n",
       "      <td>104431.7</td>\n",
       "      <td>47541.0</td>\n",
       "      <td>A</td>\n",
       "      <td>56890.7</td>\n",
       "    </tr>\n",
       "    <tr>\n",
       "      <th>137</th>\n",
       "      <td>168336</td>\n",
       "      <td>11</td>\n",
       "      <td>2996.0</td>\n",
       "      <td>137837.0</td>\n",
       "      <td>C</td>\n",
       "      <td>14</td>\n",
       "      <td>102584.7</td>\n",
       "      <td>46150.7</td>\n",
       "      <td>73392.9</td>\n",
       "      <td>102584.7</td>\n",
       "      <td>46150.7</td>\n",
       "      <td>A</td>\n",
       "      <td>56434.0</td>\n",
       "    </tr>\n",
       "    <tr>\n",
       "      <th>...</th>\n",
       "      <td>...</td>\n",
       "      <td>...</td>\n",
       "      <td>...</td>\n",
       "      <td>...</td>\n",
       "      <td>...</td>\n",
       "      <td>...</td>\n",
       "      <td>...</td>\n",
       "      <td>...</td>\n",
       "      <td>...</td>\n",
       "      <td>...</td>\n",
       "      <td>...</td>\n",
       "      <td>...</td>\n",
       "      <td>...</td>\n",
       "    </tr>\n",
       "    <tr>\n",
       "      <th>11</th>\n",
       "      <td>166541</td>\n",
       "      <td>11</td>\n",
       "      <td>177.0</td>\n",
       "      <td>8021.0</td>\n",
       "      <td>A</td>\n",
       "      <td>3</td>\n",
       "      <td>6556.3</td>\n",
       "      <td>6556.3</td>\n",
       "      <td>6460.5</td>\n",
       "      <td>7567.8</td>\n",
       "      <td>6460.5</td>\n",
       "      <td>B</td>\n",
       "      <td>95.8</td>\n",
       "    </tr>\n",
       "    <tr>\n",
       "      <th>53</th>\n",
       "      <td>167061</td>\n",
       "      <td>11</td>\n",
       "      <td>103.0</td>\n",
       "      <td>2138.0</td>\n",
       "      <td>B</td>\n",
       "      <td>3</td>\n",
       "      <td>3519.0</td>\n",
       "      <td>4791.4</td>\n",
       "      <td>3519.0</td>\n",
       "      <td>3427.5</td>\n",
       "      <td>3427.5</td>\n",
       "      <td>C</td>\n",
       "      <td>91.5</td>\n",
       "    </tr>\n",
       "    <tr>\n",
       "      <th>74</th>\n",
       "      <td>167275</td>\n",
       "      <td>11</td>\n",
       "      <td>158.0</td>\n",
       "      <td>2150.0</td>\n",
       "      <td>B</td>\n",
       "      <td>3</td>\n",
       "      <td>3525.0</td>\n",
       "      <td>4795.0</td>\n",
       "      <td>3525.0</td>\n",
       "      <td>3452.4</td>\n",
       "      <td>3452.4</td>\n",
       "      <td>C</td>\n",
       "      <td>72.6</td>\n",
       "    </tr>\n",
       "    <tr>\n",
       "      <th>15</th>\n",
       "      <td>166660</td>\n",
       "      <td>11</td>\n",
       "      <td>NaN</td>\n",
       "      <td>2459.0</td>\n",
       "      <td>B</td>\n",
       "      <td>3</td>\n",
       "      <td>3679.5</td>\n",
       "      <td>4887.7</td>\n",
       "      <td>3679.5</td>\n",
       "      <td>3621.3</td>\n",
       "      <td>3621.3</td>\n",
       "      <td>C</td>\n",
       "      <td>58.2</td>\n",
       "    </tr>\n",
       "    <tr>\n",
       "      <th>71</th>\n",
       "      <td>167246</td>\n",
       "      <td>11</td>\n",
       "      <td>NaN</td>\n",
       "      <td>2859.0</td>\n",
       "      <td>C</td>\n",
       "      <td>3</td>\n",
       "      <td>3901.3</td>\n",
       "      <td>5007.7</td>\n",
       "      <td>3879.5</td>\n",
       "      <td>3901.3</td>\n",
       "      <td>3879.5</td>\n",
       "      <td>B</td>\n",
       "      <td>21.8</td>\n",
       "    </tr>\n",
       "  </tbody>\n",
       "</table>\n",
       "<p>154 rows × 13 columns</p>\n",
       "</div>"
      ],
      "text/plain": [
       "     user_id  month  op_out_call  cl_out_call tariff_plan  count_oper  \\\n",
       "14    166658     11          0.0     401955.0           B          16   \n",
       "44    166983     11       2708.0     180159.0           C           5   \n",
       "62    167150     11      12935.0     145006.0           C           8   \n",
       "139   168412     11          9.0     143470.0           C          10   \n",
       "137   168336     11       2996.0     137837.0           C          14   \n",
       "..       ...    ...          ...          ...         ...         ...   \n",
       "11    166541     11        177.0       8021.0           A           3   \n",
       "53    167061     11        103.0       2138.0           B           3   \n",
       "74    167275     11        158.0       2150.0           B           3   \n",
       "15    166660     11          NaN       2459.0           B           3   \n",
       "71    167246     11          NaN       2859.0           C           3   \n",
       "\n",
       "     current_price  price_tariff_A  price_tariff_B  price_tariff_C  \\\n",
       "14        205377.5        125386.5        205377.5        287168.5   \n",
       "44        129423.7         58368.5         93160.7        129423.7   \n",
       "62        108784.7         48995.3         77568.2        108784.7   \n",
       "139       104431.7         47541.0         75235.0        104431.7   \n",
       "137       102584.7         46150.7         73392.9        102584.7   \n",
       "..             ...             ...             ...             ...   \n",
       "11          6556.3          6556.3          6460.5          7567.8   \n",
       "53          3519.0          4791.4          3519.0          3427.5   \n",
       "74          3525.0          4795.0          3525.0          3452.4   \n",
       "15          3679.5          4887.7          3679.5          3621.3   \n",
       "71          3901.3          5007.7          3879.5          3901.3   \n",
       "\n",
       "     best_tariff optimal_tariff  overpayment  \n",
       "14      125386.5              A      79991.0  \n",
       "44       58368.5              A      71055.2  \n",
       "62       48995.3              A      59789.4  \n",
       "139      47541.0              A      56890.7  \n",
       "137      46150.7              A      56434.0  \n",
       "..           ...            ...          ...  \n",
       "11        6460.5              B         95.8  \n",
       "53        3427.5              C         91.5  \n",
       "74        3452.4              C         72.6  \n",
       "15        3621.3              C         58.2  \n",
       "71        3879.5              B         21.8  \n",
       "\n",
       "[154 rows x 13 columns]"
      ]
     },
     "execution_count": 38,
     "metadata": {},
     "output_type": "execute_result"
    }
   ],
   "source": [
    "active_d_optimal_tariff = active_cl.query('overpayment > 0').reset_index(drop=True)\n",
    "active_d_optimal_tariff.sort_values(by='overpayment', ascending=False)\n"
   ]
  },
  {
   "cell_type": "markdown",
   "metadata": {},
   "source": [
    "<div class=\"alert alert-danger\">\n",
    "    \n",
    "**Комментарий ревьюера**\n",
    "\n",
    "**#ошибка**\n",
    "\n",
    "Для определения активных клиентов я согласна с рассмотрением только ноября. Но вот, чтобы смотреть и анализировать только этот месяц для ответа на основной вопрос - это сомнительно. Давай посмотрим, какой процент данных мы отбросили даже для активных клиентов таким образом?\n",
    "</div>"
   ]
  },
  {
   "cell_type": "markdown",
   "metadata": {},
   "source": [
    "<div class=\"alert alert-info\">\n",
    "<font size=\"4\", color = \"black\"><b>44% данных отсеятся. Не удачная была идея, будем рассматравать полностью всех клиентов за 11 месяц </b></font>"
   ]
  },
  {
   "cell_type": "markdown",
   "metadata": {},
   "source": [
    "<div class=\"alert alert-success\">\n",
    "    \n",
    "**Комментарий ревьюера - 2**\n",
    "\n",
    "**#ок**\n",
    "\n",
    "Да, так будет правильнее.\n",
    "    \n",
    "</div>"
   ]
  },
  {
   "cell_type": "code",
   "execution_count": 39,
   "metadata": {},
   "outputs": [
    {
     "data": {
      "text/plain": [
       "count      154.000000\n",
       "mean      8715.465584\n",
       "std      14584.333908\n",
       "min         21.800000\n",
       "25%        691.050000\n",
       "50%       2008.300000\n",
       "75%      10729.500000\n",
       "max      79991.000000\n",
       "Name: overpayment, dtype: float64"
      ]
     },
     "execution_count": 39,
     "metadata": {},
     "output_type": "execute_result"
    }
   ],
   "source": [
    "active_d_optimal_tariff['overpayment'].describe()"
   ]
  },
  {
   "cell_type": "markdown",
   "metadata": {},
   "source": [
    "**Как видим 154 клиента используют не оптимальный тариф. Средняя переплата составляет - 8715 рублей , медианная - 2008 рублей. Для сравнения посмотрим сколько переплачивали пользователи , которые являются не активными.Максимальная переплата за тариф составляет 79991 рубль**"
   ]
  },
  {
   "cell_type": "code",
   "execution_count": 40,
   "metadata": {},
   "outputs": [
    {
     "data": {
      "text/plain": [
       "count       242.000000\n",
       "mean       8408.878926\n",
       "std       17623.930438\n",
       "min           7.200000\n",
       "25%         699.775000\n",
       "50%        1731.200000\n",
       "75%        6593.800000\n",
       "max      129871.300000\n",
       "Name: overpayment, dtype: float64"
      ]
     },
     "execution_count": 40,
     "metadata": {},
     "output_type": "execute_result"
    }
   ],
   "source": [
    "inactive_cl = out_call.query('month != 11 and overpayment > 0')\n",
    "inactive_cl['overpayment'].describe()"
   ]
  },
  {
   "cell_type": "markdown",
   "metadata": {},
   "source": [
    "**Как видно , пользователи которые не являются активними переплачивали за тарифы меньше.Хотя максимальная переплата составляла 129871 рублей**"
   ]
  },
  {
   "cell_type": "code",
   "execution_count": 41,
   "metadata": {},
   "outputs": [
    {
     "name": "stdout",
     "output_type": "stream",
     "text": [
      "Выручка в 11 месяце: 4564670.0 р\n",
      "Выручка в 11 месяце , если использовать оптимальный тариф: 3222488.3 р\n",
      "Разница в %: 41.7\n"
     ]
    }
   ],
   "source": [
    "\n",
    "print(f'Выручка в 11 месяце:',round(active_cl['current_price'].sum(),2),'р')\n",
    "print(f'Выручка в 11 месяце , если использовать оптимальный тариф:',round(active_cl['best_tariff'].sum(),2),'р')\n",
    "print(f'Разница в %:',round((active_cl['current_price'].sum()/active_cl['best_tariff'].sum()-1)*100,1))"
   ]
  },
  {
   "cell_type": "markdown",
   "metadata": {},
   "source": [
    "**Если поменять клиентам у которых на данный момент выбран не оптимальный тариф , то убытки компании составят 41.7%**"
   ]
  },
  {
   "cell_type": "code",
   "execution_count": 42,
   "metadata": {},
   "outputs": [
    {
     "name": "stdout",
     "output_type": "stream",
     "text": [
      "  tariff_plan  current_price\n",
      "0           A      1125264.9\n",
      "1           B      1542871.3\n",
      "2           C      1896533.8\n",
      "  tariff_plan  best_tariff\n",
      "0           A    1101742.7\n",
      "1           B    1058607.5\n",
      "2           C    1062138.1\n"
     ]
    },
    {
     "data": {
      "image/png": "[encoded data removed]",
      "text/plain": [
       "<Figure size 1080x360 with 2 Axes>"
      ]
     },
     "metadata": {
      "needs_background": "light"
     },
     "output_type": "display_data"
    }
   ],
   "source": [
    "tarif_cur = (active_cl.groupby('tariff_plan')['current_price'].sum().reset_index())\n",
    "tarif_bs = (active_cl.groupby('tariff_plan')['best_tariff'].sum().reset_index())\n",
    "\n",
    "fig, ax = plt.subplots(1, 2, figsize=(15, 5))\n",
    "fig.suptitle('Выручка по тарифу', fontsize=20)\n",
    "\n",
    "sns.barplot(y='current_price', x='tariff_plan', data=tarif_cur, ax=ax[0], palette='PuRd')\n",
    "ax[0].set_title('Не оптимальный тариф')\n",
    "ax[0].set_ylabel('млн.руб')\n",
    "ax[0].set_xlabel('тариф')\n",
    "\n",
    "sns.barplot(y='best_tariff', x='tariff_plan', data=tarif_bs, ax=ax[1], palette='PuRd')\n",
    "ax[1].set_title('Оптимальный тариф')\n",
    "ax[1].set_ylabel('млн.руб')\n",
    "ax[1].set_xlabel('тариф')\n",
    "print(tarif_cur)\n",
    "print(tarif_bs)\n",
    "plt.show()"
   ]
  },
  {
   "cell_type": "markdown",
   "metadata": {},
   "source": [
    "**На графике слева показанно, что в данный момент клиенты с тарифом С приносят больше всего денег компании. Почти на 700000 больше чем пользователи тарифа А.**\n",
    "**На графике справа видно , что если перевести всех клиентов на оптимальный тариф то распреденение выручки выровняется**"
   ]
  },
  {
   "cell_type": "code",
   "execution_count": 43,
   "metadata": {},
   "outputs": [
    {
     "data": {
      "image/png": "[encoded data removed]",
      "text/plain": [
       "<Figure size 720x504 with 1 Axes>"
      ]
     },
     "metadata": {
      "needs_background": "light"
     },
     "output_type": "display_data"
    }
   ],
   "source": [
    "o2=active_cl.pivot_table(index = 'tariff_plan', values = 'current_price', aggfunc = 'mean').sort_values(by = 'tariff_plan', ascending = False).plot(kind = 'bar', figsize=(10, 7))\n",
    "plt.title('Средняя плата за тариф у активных клиентов')\n",
    "plt.ylabel('Руб')\n",
    "plt.xlabel('Тариф')\n",
    "plt.xticks(rotation = 0)\n",
    "plt.grid()\n",
    "plt.show()\n"
   ]
  },
  {
   "cell_type": "markdown",
   "metadata": {},
   "source": [
    "**Как видно на графике , клиенты с тарифом А в среднем платят за тариф больше чем в 2 раза по сравнению с клиентами у которых тарифы С и В**"
   ]
  },
  {
   "cell_type": "code",
   "execution_count": 44,
   "metadata": {},
   "outputs": [
    {
     "data": {
      "image/png": "[encoded data removed]",
      "text/plain": [
       "<Figure size 720x504 with 1 Axes>"
      ]
     },
     "metadata": {
      "needs_background": "light"
     },
     "output_type": "display_data"
    }
   ],
   "source": [
    "active_cl.pivot_table(index = 'tariff_plan', values = 'overpayment', aggfunc = 'mean').sort_values(by = 'tariff_plan', ascending = False).plot(kind = 'bar', figsize=(10, 7))\n",
    "plt.title('Средняя переплата за тариф у активных клиентов')\n",
    "plt.ylabel('Руб')\n",
    "plt.xlabel('Тариф')\n",
    "plt.xticks(rotation = 0)\n",
    "plt.grid()\n",
    "plt.show()"
   ]
  },
  {
   "cell_type": "markdown",
   "metadata": {},
   "source": [
    "**В среднем пользоватеи с тарифом С переплачивают за тариф больше 6000 рублей. В то время как пользователои тарифа А платят меньше 1000 рублей**"
   ]
  },
  {
   "cell_type": "markdown",
   "metadata": {},
   "source": [
    "<div class=\"alert alert-success\">\n",
    "    \n",
    "**Комментарий ревьюера**\n",
    "\n",
    "**#ок**\n",
    "\n",
    "Сам анализ экономическог эффекта выполнен в достаточном объеме. Но резальтаты могут изменится, если рассмотреть более полные данные.\n",
    "    \n",
    "</div>"
   ]
  },
  {
   "cell_type": "markdown",
   "metadata": {},
   "source": [
    "### **Вывод по третьей части:**\n",
    "<a id=\"3.1\"></a>\n",
    "\n",
    "В третьей части мы работали с активными клиента , т.е те которые совершали дейстия в 11 месяце.Всего таких пользователей 261.Чаще всего клиенты выбирают тариф С(135) , немного меньше тариф В(96) , и с большим отрывом отстает тариф А(30).\n",
    "Выяснили что 107 активных клиента пользуются оптимальным для себя тарифом. Выручка от активных клиентов составила: 4564670.0 рублей .Если использовать оптимальный тариф то выраучка сотавила бы: 3222488.3 рубля. Клиенты с тарифом А(почти 35000 рублей) в среднем платят за тариф больше чем в 2 раза по сравнению с клиентами у которых тарифы С и В. Однако больше переплачивают  пользователи с тарифом С(более 6000р.) и В(более 5000р)."
   ]
  },
  {
   "cell_type": "markdown",
   "metadata": {},
   "source": [
    "<div class=\"alert alert-danger\">\n",
    "    \n",
    "**Комментарий ревьюера**\n",
    "\n",
    "**#ошибка**\n",
    "\n",
    "В итоге нам нужно получить таблицу вида\n",
    "\n",
    "    клиент - старый тариф - новый тариф (можно, чтобы для части клиентов старый и новый тариф совпадали)\n",
    "    \n",
    "чтобы понимать, каким клиентам и на какие тарифы предлагать переход.\n",
    "   \n",
    "При получении этой таблицы помни, что мы не будем переводить клиентов на новый тариф каждый месяц. Нам нужно по данным за весь предоставленный период сформировать для каждого клиента одну рекомендацию по тарифу (оставаться на старом или переходить на какой-то новый с указанием нового тарифа)\n",
    "\n",
    "</div>"
   ]
  },
  {
   "cell_type": "markdown",
   "metadata": {},
   "source": [
    "<div class=\"alert alert-info\">\n",
    "<b>Комментарий студента:</b>\n",
    "<br>Данный пункт сделал в разделе Рекомендации\n",
    "</div>"
   ]
  },
  {
   "cell_type": "markdown",
   "metadata": {},
   "source": [
    "## Рекомендации\n",
    "<a id=\"4\"></a>"
   ]
  },
  {
   "cell_type": "markdown",
   "metadata": {},
   "source": [
    "**Чтобы сократить траты клиентов на тарифы можно попробовать внедрить так называемые ночные тарифы. Т.е колл-центы(клиенты) работающие 24/7 в период с 00-00 по 06-00 , не будут платить за цену сверх лимита , исходящие звонки,\n",
    "кроме внутренних. Теперь конечно прийдется разделять сутки на две части для подстета , и компания понесет убытки , но это поможет клиентам платить меньше за тарифы**"
   ]
  },
  {
   "cell_type": "markdown",
   "metadata": {},
   "source": [
    "<div class=\"alert alert-success\">\n",
    "    \n",
    "**Комментарий ревьюера**\n",
    "\n",
    "**#ок**\n",
    "\n",
    "Это интересное нестандартное предложение, такое всегда ценится. Но все же если ты решил что-то подобное в проект добавить, стоит подробнее рассматривать результаты этого предложения, экономический эффект и.т.п.  \n",
    "</div>"
   ]
  },
  {
   "cell_type": "code",
   "execution_count": 62,
   "metadata": {},
   "outputs": [
    {
     "data": {
      "text/html": [
       "<div>\n",
       "<style scoped>\n",
       "    .dataframe tbody tr th:only-of-type {\n",
       "        vertical-align: middle;\n",
       "    }\n",
       "\n",
       "    .dataframe tbody tr th {\n",
       "        vertical-align: top;\n",
       "    }\n",
       "\n",
       "    .dataframe thead th {\n",
       "        text-align: right;\n",
       "    }\n",
       "</style>\n",
       "<table border=\"1\" class=\"dataframe\">\n",
       "  <thead>\n",
       "    <tr style=\"text-align: right;\">\n",
       "      <th></th>\n",
       "      <th>user_id</th>\n",
       "      <th>tariff_plan</th>\n",
       "      <th>optimal_tariff</th>\n",
       "    </tr>\n",
       "  </thead>\n",
       "  <tbody>\n",
       "    <tr>\n",
       "      <th>0</th>\n",
       "      <td>166377</td>\n",
       "      <td>[B]</td>\n",
       "      <td>[A]</td>\n",
       "    </tr>\n",
       "    <tr>\n",
       "      <th>1</th>\n",
       "      <td>166391</td>\n",
       "      <td>[C]</td>\n",
       "      <td>[C]</td>\n",
       "    </tr>\n",
       "    <tr>\n",
       "      <th>2</th>\n",
       "      <td>166392</td>\n",
       "      <td>[C]</td>\n",
       "      <td>[C]</td>\n",
       "    </tr>\n",
       "    <tr>\n",
       "      <th>3</th>\n",
       "      <td>166399</td>\n",
       "      <td>[C]</td>\n",
       "      <td>[C]</td>\n",
       "    </tr>\n",
       "    <tr>\n",
       "      <th>4</th>\n",
       "      <td>166405</td>\n",
       "      <td>[B]</td>\n",
       "      <td>[A]</td>\n",
       "    </tr>\n",
       "    <tr>\n",
       "      <th>...</th>\n",
       "      <td>...</td>\n",
       "      <td>...</td>\n",
       "      <td>...</td>\n",
       "    </tr>\n",
       "    <tr>\n",
       "      <th>298</th>\n",
       "      <td>168583</td>\n",
       "      <td>[B]</td>\n",
       "      <td>[C]</td>\n",
       "    </tr>\n",
       "    <tr>\n",
       "      <th>299</th>\n",
       "      <td>168598</td>\n",
       "      <td>[C]</td>\n",
       "      <td>[C]</td>\n",
       "    </tr>\n",
       "    <tr>\n",
       "      <th>300</th>\n",
       "      <td>168601</td>\n",
       "      <td>[C]</td>\n",
       "      <td>[A]</td>\n",
       "    </tr>\n",
       "    <tr>\n",
       "      <th>301</th>\n",
       "      <td>168603</td>\n",
       "      <td>[B]</td>\n",
       "      <td>[C]</td>\n",
       "    </tr>\n",
       "    <tr>\n",
       "      <th>302</th>\n",
       "      <td>168606</td>\n",
       "      <td>[C]</td>\n",
       "      <td>[B]</td>\n",
       "    </tr>\n",
       "  </tbody>\n",
       "</table>\n",
       "<p>303 rows × 3 columns</p>\n",
       "</div>"
      ],
      "text/plain": [
       "     user_id tariff_plan optimal_tariff\n",
       "0     166377         [B]            [A]\n",
       "1     166391         [C]            [C]\n",
       "2     166392         [C]            [C]\n",
       "3     166399         [C]            [C]\n",
       "4     166405         [B]            [A]\n",
       "..       ...         ...            ...\n",
       "298   168583         [B]            [C]\n",
       "299   168598         [C]            [C]\n",
       "300   168601         [C]            [A]\n",
       "301   168603         [B]            [C]\n",
       "302   168606         [C]            [B]\n",
       "\n",
       "[303 rows x 3 columns]"
      ]
     },
     "execution_count": 62,
     "metadata": {},
     "output_type": "execute_result"
    }
   ],
   "source": [
    "d1=merge_sum.groupby('user_id')['optimal_tariff'].unique()\n",
    "d1=pd.DataFrame(d1)\n",
    "rec= out_call.groupby('user_id')['tariff_plan'].unique().reset_index()\n",
    "rec=pd.DataFrame(rec)\n",
    "recom_tarif= rec.merge(d1 , on ='user_id', how='inner')\n",
    "recom_tarif"
   ]
  },
  {
   "cell_type": "markdown",
   "metadata": {},
   "source": [
    "<div class=\"alert alert-success\">\n",
    "    \n",
    "**Комментарий ревьюера - 2**\n",
    "\n",
    "**#ок**\n",
    "\n",
    "Ок, то, что нужно.\n",
    "    \n",
    "Интересно еще было посмотреть, как изменяется в общем распределение по тарифам, показать сравнительную картину.\n",
    "    \n",
    "</div>"
   ]
  },
  {
   "cell_type": "code",
   "execution_count": 67,
   "metadata": {},
   "outputs": [
    {
     "data": {
      "text/html": [
       "<div>\n",
       "<style scoped>\n",
       "    .dataframe tbody tr th:only-of-type {\n",
       "        vertical-align: middle;\n",
       "    }\n",
       "\n",
       "    .dataframe tbody tr th {\n",
       "        vertical-align: top;\n",
       "    }\n",
       "\n",
       "    .dataframe thead th {\n",
       "        text-align: right;\n",
       "    }\n",
       "</style>\n",
       "<table border=\"1\" class=\"dataframe\">\n",
       "  <thead>\n",
       "    <tr style=\"text-align: right;\">\n",
       "      <th></th>\n",
       "      <th>user_id</th>\n",
       "      <th>tariff_plan</th>\n",
       "      <th>optimal_tariff</th>\n",
       "    </tr>\n",
       "  </thead>\n",
       "  <tbody>\n",
       "    <tr>\n",
       "      <th>0</th>\n",
       "      <td>166377</td>\n",
       "      <td>[B]</td>\n",
       "      <td>[A]</td>\n",
       "    </tr>\n",
       "    <tr>\n",
       "      <th>4</th>\n",
       "      <td>166405</td>\n",
       "      <td>[B]</td>\n",
       "      <td>[A]</td>\n",
       "    </tr>\n",
       "    <tr>\n",
       "      <th>5</th>\n",
       "      <td>166406</td>\n",
       "      <td>[B]</td>\n",
       "      <td>[A]</td>\n",
       "    </tr>\n",
       "    <tr>\n",
       "      <th>7</th>\n",
       "      <td>166428</td>\n",
       "      <td>[B]</td>\n",
       "      <td>[C]</td>\n",
       "    </tr>\n",
       "    <tr>\n",
       "      <th>8</th>\n",
       "      <td>166481</td>\n",
       "      <td>[A]</td>\n",
       "      <td>[C]</td>\n",
       "    </tr>\n",
       "    <tr>\n",
       "      <th>...</th>\n",
       "      <td>...</td>\n",
       "      <td>...</td>\n",
       "      <td>...</td>\n",
       "    </tr>\n",
       "    <tr>\n",
       "      <th>297</th>\n",
       "      <td>168579</td>\n",
       "      <td>[B]</td>\n",
       "      <td>[C]</td>\n",
       "    </tr>\n",
       "    <tr>\n",
       "      <th>298</th>\n",
       "      <td>168583</td>\n",
       "      <td>[B]</td>\n",
       "      <td>[C]</td>\n",
       "    </tr>\n",
       "    <tr>\n",
       "      <th>300</th>\n",
       "      <td>168601</td>\n",
       "      <td>[C]</td>\n",
       "      <td>[A]</td>\n",
       "    </tr>\n",
       "    <tr>\n",
       "      <th>301</th>\n",
       "      <td>168603</td>\n",
       "      <td>[B]</td>\n",
       "      <td>[C]</td>\n",
       "    </tr>\n",
       "    <tr>\n",
       "      <th>302</th>\n",
       "      <td>168606</td>\n",
       "      <td>[C]</td>\n",
       "      <td>[B]</td>\n",
       "    </tr>\n",
       "  </tbody>\n",
       "</table>\n",
       "<p>168 rows × 3 columns</p>\n",
       "</div>"
      ],
      "text/plain": [
       "     user_id tariff_plan optimal_tariff\n",
       "0     166377         [B]            [A]\n",
       "4     166405         [B]            [A]\n",
       "5     166406         [B]            [A]\n",
       "7     166428         [B]            [C]\n",
       "8     166481         [A]            [C]\n",
       "..       ...         ...            ...\n",
       "297   168579         [B]            [C]\n",
       "298   168583         [B]            [C]\n",
       "300   168601         [C]            [A]\n",
       "301   168603         [B]            [C]\n",
       "302   168606         [C]            [B]\n",
       "\n",
       "[168 rows x 3 columns]"
      ]
     },
     "execution_count": 67,
     "metadata": {},
     "output_type": "execute_result"
    }
   ],
   "source": [
    "filtered_df = recom_tarif[recom_tarif['tariff_plan'] != recom_tarif['optimal_tariff']]\n",
    "\n",
    "filtered_df"
   ]
  },
  {
   "cell_type": "code",
   "execution_count": 83,
   "metadata": {},
   "outputs": [
    {
     "data": {
      "text/plain": [
       "89"
      ]
     },
     "metadata": {},
     "output_type": "display_data"
    },
    {
     "data": {
      "text/plain": [
       "17"
      ]
     },
     "metadata": {},
     "output_type": "display_data"
    },
    {
     "data": {
      "text/plain": [
       "62"
      ]
     },
     "metadata": {},
     "output_type": "display_data"
    }
   ],
   "source": [
    "display(len(filtered_df[filtered_df['optimal_tariff']==\"A\"]))\n",
    "display(len(filtered_df[filtered_df['optimal_tariff']==\"B\"]))\n",
    "display(len(filtered_df[filtered_df['optimal_tariff']==\"C\"]))"
   ]
  },
  {
   "cell_type": "markdown",
   "metadata": {},
   "source": [
    "**После досчетов можно сказать , что 168 клиентов используют не оптимальный тариф.И данных следует сделать вывод, что :**\n",
    "- 89 клиентам следует перейти на тариф А\n",
    "\n",
    "- 17 клиентам следует перейти на тариф В\n",
    "\n",
    "- 62 клиентам следует перейти на тариф С"
   ]
  },
  {
   "cell_type": "markdown",
   "metadata": {},
   "source": [
    "## Гипотезы\n",
    "<a id=\"5\"></a>"
   ]
  },
  {
   "cell_type": "markdown",
   "metadata": {},
   "source": [
    "Проверьте гипотезу о том, будет ли средняя плата у активных пользователей тарифа C больше , чем у пользователей с тарифом B . Сделайте вывод.\n",
    "\n",
    "H0- Переплата C = В\n",
    "\n",
    "H1- Переплата C != В"
   ]
  },
  {
   "cell_type": "code",
   "execution_count": 46,
   "metadata": {},
   "outputs": [
    {
     "name": "stdout",
     "output_type": "stream",
     "text": [
      "p-значение: 0.5723069916153197\n",
      "Нельзя отвергнуть нулевую гипотезу\n",
      "Среднея плата за тариф В : 16071.58\n",
      "Среднея плата за тариф С: 14048.40\n"
     ]
    }
   ],
   "source": [
    "B = active_cl.loc[active_cl['tariff_plan'] == 'B', 'current_price']\n",
    "C = active_cl.loc[active_cl['tariff_plan'] == 'C','current_price']\n",
    "results = st.ttest_ind(B,C , alternative = 'two-sided')\n",
    "alpha = 0.05\n",
    "\n",
    "print('p-значение:', results.pvalue)\n",
    "\n",
    "if (results.pvalue < alpha):\n",
    "    print('Отвергаем нулевую гипотезу')\n",
    "else:\n",
    "    print('Нельзя отвергнуть нулевую гипотезу')\n",
    "print(f'Среднея плата за тариф В : {np.mean(B):.2f}')\n",
    "print(f'Среднея плата за тариф С: {np.mean(C):.2f}')"
   ]
  },
  {
   "cell_type": "markdown",
   "metadata": {},
   "source": [
    "**Результат теста дает нам понять , статистически значимого различия в оплате нет**"
   ]
  },
  {
   "cell_type": "markdown",
   "metadata": {},
   "source": [
    "**Среднее количество звонков за весь период не имеет статистически значимых различий**"
   ]
  },
  {
   "cell_type": "code",
   "execution_count": 47,
   "metadata": {},
   "outputs": [],
   "source": [
    "x = merged_df.loc[merged_df['tariff_plan'] == 'A', 'calls_count']\n",
    "y = merged_df.loc[merged_df['tariff_plan'] == 'C','calls_count']\n",
    "z= merged_df.loc[merged_df['tariff_plan'] == 'B', 'calls_count']"
   ]
  },
  {
   "cell_type": "code",
   "execution_count": 48,
   "metadata": {},
   "outputs": [
    {
     "name": "stdout",
     "output_type": "stream",
     "text": [
      "Kruskal-Wallis statistic: 318.04446468539095\n",
      "P-value: 8.660081788140052e-70\n",
      "Есть статистически значимые различия между группами.\n"
     ]
    }
   ],
   "source": [
    "statistic, p_value = st.kruskal(x, y, z)\n",
    "\n",
    "print(\"Kruskal-Wallis statistic:\", statistic)\n",
    "print(\"P-value:\", p_value)\n",
    "\n",
    "# Интерпретация результата\n",
    "alpha = 0.05  # значимость\n",
    "if p_value < alpha:\n",
    "    print(\"Есть статистически значимые различия между группами.\")\n",
    "else:\n",
    "    print(\"Нет статистически значимых различий между группами.\")"
   ]
  },
  {
   "cell_type": "markdown",
   "metadata": {},
   "source": [
    "## Общий вывод по работе:\n",
    "<a id=\"6\"></a>\n",
    "- В первой части мы загрузили и обработали данные . Было удалено 4900 дубликата. Удалены аномальные значения .  Были переведены данные в правильный формат\n",
    "\n",
    "- Во второй части были подсчитаны расходы на каждого клиента , подобран самый выгодный тариф , расчитана переплата клиента если он останется на нынешнем тарифе ,а не выберет выгодный . Выяснили что каждый месяц количество клиентов растет . \n",
    "\n",
    "- В третьей части мы работали с данными по активным клиентам. Всего 261 активный клиент , 108 из которых пользуются оптимальным тарифом. Больше всего клиентов пользуюбтся тарифом С , этот же тариф приносит наибольшую сумму в месяц (1896533.8). Также клиенты с тарифом С больше всех переплачивают .Выручка от активных клиентов составила: 4564670 рубля .Если использовать оптимальный тариф то выраучка сотавила бы: 3222488.3 рубля , разница в 41.7%.\n",
    "\n",
    "- Были предложенны рекомендации для оптимизации тарифов и уменьшению ежемесяцной тарифной платы . Также определено какому количеству пользователей стоит сменить тариф на более оптимальный\n",
    "\n",
    "- Выдвинуты две гипотезы : О равности переплат между тарифами В и С у активных клиентов. И вторая гипотеза о том , что среднее количество свонков между всеми тарифами за весь период равны.\n",
    "\n"
   ]
  },
  {
   "cell_type": "markdown",
   "metadata": {},
   "source": [
    "<div class=\"alert alert-success\">\n",
    "    \n",
    "**Комментарий ревьюера**\n",
    "\n",
    "**#ок**\n",
    "\n",
    "Видно, что технически ты хорошо освоил материал, отлично пользуешься функциями и другими средствами python.\n",
    "    \n",
    "Но выводы и комментарии по ходу проекта очень скупые. Читатель должен ясно понимать, что ты делаешь в каждой ячейке кода и почему, что в итоге получаешь. Аналитика - это в большей степени текст, чем код.\n",
    "    \n",
    "И в целом логика проекта немного нарушена. Как мы и говорили на созвоне, сначала нужно определить активный период исследования и активных клиентов, и потом только для данных клиентов в выбранный период проводить рассчеты выручки.\n",
    "</div>"
   ]
  },
  {
   "cell_type": "markdown",
   "metadata": {},
   "source": [
    "# презентация\n",
    "https://drive.google.com/file/d/1YaV6rrfQZblZZJ2VNg9zlATLWGITePWq/view?usp=sharing - pdf\n",
    "https://docs.google.com/presentation/d/1zh9gSIGiRLE14ywCRG9qqXoFZyn49nrh/edit?usp=sharing&ouid=107249728021085218691&rtpof=true&sd=true - pptx"
   ]
  },
  {
   "cell_type": "markdown",
   "metadata": {},
   "source": [
    "<div class=\"alert alert-success\">\n",
    "    \n",
    "**Комментарий ревьюера**\n",
    "\n",
    "**#ок**\n",
    "\n",
    "Презентация зачтена, ее не нужно править.   \n",
    "</div>"
   ]
  },
  {
   "cell_type": "markdown",
   "metadata": {},
   "source": [
    "<div class=\"alert alert-success\">\n",
    "    \n",
    "**Комментарий ревьюера - 2**\n",
    "\n",
    "**#ок**\n",
    "\n",
    "Проект отлично доработан, молодец. Поздравляю с завершением основной части диплома.\n",
    "    \n",
    "</div>"
   ]
  },
  {
   "cell_type": "code",
   "execution_count": null,
   "metadata": {},
   "outputs": [],
   "source": []
  }
 ],
 "metadata": {
  "ExecuteTimeLog": [
   {
    "duration": 1328,
    "start_time": "2025-01-27T15:33:07.567Z"
   },
   {
    "duration": 258,
    "start_time": "2025-01-27T15:33:13.804Z"
   },
   {
    "duration": 24,
    "start_time": "2025-01-27T15:33:26.197Z"
   },
   {
    "duration": 58,
    "start_time": "2025-01-27T15:34:19.018Z"
   },
   {
    "duration": 20,
    "start_time": "2025-01-27T15:34:35.339Z"
   },
   {
    "duration": 3,
    "start_time": "2025-01-27T15:37:24.534Z"
   },
   {
    "duration": 1279,
    "start_time": "2025-01-27T15:38:32.279Z"
   },
   {
    "duration": 13,
    "start_time": "2025-01-27T15:38:51.570Z"
   },
   {
    "duration": 1413,
    "start_time": "2025-01-27T15:41:53.600Z"
   },
   {
    "duration": 14,
    "start_time": "2025-01-27T15:42:05.776Z"
   },
   {
    "duration": 9,
    "start_time": "2025-01-27T15:42:16.396Z"
   },
   {
    "duration": 15,
    "start_time": "2025-01-27T15:42:20.627Z"
   },
   {
    "duration": 16,
    "start_time": "2025-01-27T15:42:28.131Z"
   },
   {
    "duration": 13,
    "start_time": "2025-01-27T15:42:48.290Z"
   },
   {
    "duration": 4,
    "start_time": "2025-01-27T15:43:26.183Z"
   },
   {
    "duration": 14,
    "start_time": "2025-01-27T15:43:27.992Z"
   },
   {
    "duration": 15,
    "start_time": "2025-01-27T15:43:30.137Z"
   },
   {
    "duration": 6,
    "start_time": "2025-01-27T15:43:55.390Z"
   },
   {
    "duration": 6,
    "start_time": "2025-01-27T15:46:06.958Z"
   },
   {
    "duration": 28,
    "start_time": "2025-01-27T15:47:08.004Z"
   },
   {
    "duration": 17,
    "start_time": "2025-01-27T15:47:09.999Z"
   },
   {
    "duration": 15,
    "start_time": "2025-01-27T15:47:14.775Z"
   },
   {
    "duration": 11,
    "start_time": "2025-01-27T15:47:49.478Z"
   },
   {
    "duration": 46,
    "start_time": "2025-01-27T15:48:30.423Z"
   },
   {
    "duration": 16,
    "start_time": "2025-01-27T15:48:31.550Z"
   },
   {
    "duration": 15,
    "start_time": "2025-01-27T15:48:32.245Z"
   },
   {
    "duration": 38,
    "start_time": "2025-01-27T15:48:52.997Z"
   },
   {
    "duration": 14,
    "start_time": "2025-01-27T15:48:54.925Z"
   },
   {
    "duration": 15,
    "start_time": "2025-01-27T15:48:55.712Z"
   },
   {
    "duration": 49,
    "start_time": "2025-01-27T15:55:25.360Z"
   },
   {
    "duration": 48,
    "start_time": "2025-01-27T15:55:33.432Z"
   },
   {
    "duration": 28,
    "start_time": "2025-01-27T15:56:14.848Z"
   },
   {
    "duration": 29,
    "start_time": "2025-01-27T15:57:19.554Z"
   },
   {
    "duration": 32,
    "start_time": "2025-01-27T15:59:01.728Z"
   },
   {
    "duration": 29,
    "start_time": "2025-01-27T15:59:04.851Z"
   },
   {
    "duration": 28,
    "start_time": "2025-01-27T16:08:59.539Z"
   },
   {
    "duration": 8,
    "start_time": "2025-01-27T16:09:55.969Z"
   },
   {
    "duration": 17,
    "start_time": "2025-01-27T16:10:47.631Z"
   },
   {
    "duration": 14,
    "start_time": "2025-01-27T16:31:44.972Z"
   },
   {
    "duration": 17,
    "start_time": "2025-01-27T16:31:48.282Z"
   },
   {
    "duration": 12,
    "start_time": "2025-01-27T16:40:40.096Z"
   },
   {
    "duration": 9,
    "start_time": "2025-01-27T16:40:46.289Z"
   },
   {
    "duration": 10,
    "start_time": "2025-01-27T16:40:56.444Z"
   },
   {
    "duration": 5,
    "start_time": "2025-01-27T16:41:11.149Z"
   },
   {
    "duration": 5,
    "start_time": "2025-01-27T16:41:13.911Z"
   },
   {
    "duration": 4,
    "start_time": "2025-01-27T16:43:21.672Z"
   },
   {
    "duration": 3,
    "start_time": "2025-01-27T16:52:23.268Z"
   },
   {
    "duration": 4,
    "start_time": "2025-01-27T16:55:48.094Z"
   },
   {
    "duration": 8,
    "start_time": "2025-01-27T16:55:51.551Z"
   },
   {
    "duration": 57,
    "start_time": "2025-01-27T16:57:52.941Z"
   },
   {
    "duration": 71,
    "start_time": "2025-01-27T16:58:12.677Z"
   },
   {
    "duration": 53,
    "start_time": "2025-01-27T16:58:30.450Z"
   },
   {
    "duration": 4,
    "start_time": "2025-01-27T16:58:58.427Z"
   },
   {
    "duration": 9,
    "start_time": "2025-01-27T16:58:59.515Z"
   },
   {
    "duration": 4,
    "start_time": "2025-01-27T17:00:48.650Z"
   },
   {
    "duration": 8,
    "start_time": "2025-01-27T17:00:49.171Z"
   },
   {
    "duration": 10,
    "start_time": "2025-01-27T17:05:44.355Z"
   },
   {
    "duration": 10,
    "start_time": "2025-01-27T17:05:58.287Z"
   },
   {
    "duration": 6,
    "start_time": "2025-01-27T17:06:22.608Z"
   },
   {
    "duration": 86,
    "start_time": "2025-01-27T17:08:41.745Z"
   },
   {
    "duration": 6,
    "start_time": "2025-01-27T17:08:52.935Z"
   },
   {
    "duration": 10,
    "start_time": "2025-01-27T17:09:16.569Z"
   },
   {
    "duration": 7,
    "start_time": "2025-01-27T17:10:56.812Z"
   },
   {
    "duration": 16,
    "start_time": "2025-01-27T17:11:48.873Z"
   },
   {
    "duration": 8,
    "start_time": "2025-01-27T17:19:21.788Z"
   },
   {
    "duration": 1149,
    "start_time": "2025-01-27T17:20:35.325Z"
   },
   {
    "duration": 5,
    "start_time": "2025-01-27T17:21:08.696Z"
   },
   {
    "duration": 18,
    "start_time": "2025-01-27T17:21:13.105Z"
   },
   {
    "duration": 11,
    "start_time": "2025-01-27T17:21:43.824Z"
   },
   {
    "duration": 19,
    "start_time": "2025-01-27T17:21:45.719Z"
   },
   {
    "duration": 5,
    "start_time": "2025-01-27T17:22:29.851Z"
   },
   {
    "duration": 19,
    "start_time": "2025-01-27T17:22:31.746Z"
   },
   {
    "duration": 7,
    "start_time": "2025-01-27T17:52:40.678Z"
   },
   {
    "duration": 20,
    "start_time": "2025-01-27T17:52:43.706Z"
   },
   {
    "duration": 18,
    "start_time": "2025-01-27T17:55:03.701Z"
   },
   {
    "duration": 22,
    "start_time": "2025-01-27T17:55:16.860Z"
   },
   {
    "duration": 1080,
    "start_time": "2025-01-27T17:55:31.110Z"
   },
   {
    "duration": 252,
    "start_time": "2025-01-27T17:55:32.192Z"
   },
   {
    "duration": 26,
    "start_time": "2025-01-27T17:55:32.446Z"
   },
   {
    "duration": 81,
    "start_time": "2025-01-27T17:55:32.473Z"
   },
   {
    "duration": 37,
    "start_time": "2025-01-27T17:55:32.556Z"
   },
   {
    "duration": 14,
    "start_time": "2025-01-27T17:55:32.595Z"
   },
   {
    "duration": 44,
    "start_time": "2025-01-27T17:55:32.611Z"
   },
   {
    "duration": 30,
    "start_time": "2025-01-27T17:55:32.656Z"
   },
   {
    "duration": 6,
    "start_time": "2025-01-27T17:55:32.687Z"
   },
   {
    "duration": 37,
    "start_time": "2025-01-27T17:55:32.694Z"
   },
   {
    "duration": 21,
    "start_time": "2025-01-27T17:55:32.733Z"
   },
   {
    "duration": 32,
    "start_time": "2025-01-27T17:55:32.755Z"
   },
   {
    "duration": 3,
    "start_time": "2025-01-27T17:55:32.789Z"
   },
   {
    "duration": 29,
    "start_time": "2025-01-27T17:55:32.795Z"
   },
   {
    "duration": 11,
    "start_time": "2025-01-27T17:55:32.826Z"
   },
   {
    "duration": 17,
    "start_time": "2025-01-27T17:55:32.839Z"
   },
   {
    "duration": 11,
    "start_time": "2025-01-27T17:55:32.857Z"
   },
   {
    "duration": 17,
    "start_time": "2025-01-27T17:55:32.869Z"
   },
   {
    "duration": 107,
    "start_time": "2025-01-27T17:57:36.899Z"
   },
   {
    "duration": 13,
    "start_time": "2025-01-27T17:57:48.110Z"
   },
   {
    "duration": 18,
    "start_time": "2025-01-27T17:57:51.414Z"
   },
   {
    "duration": 13,
    "start_time": "2025-01-27T18:38:58.440Z"
   },
   {
    "duration": 514,
    "start_time": "2025-01-27T18:39:22.566Z"
   },
   {
    "duration": 512,
    "start_time": "2025-01-27T18:40:09.790Z"
   },
   {
    "duration": 4,
    "start_time": "2025-01-27T18:41:02.089Z"
   },
   {
    "duration": 4,
    "start_time": "2025-01-27T18:42:01.783Z"
   },
   {
    "duration": 4,
    "start_time": "2025-01-27T18:42:25.386Z"
   },
   {
    "duration": 4,
    "start_time": "2025-01-27T18:42:44.609Z"
   },
   {
    "duration": 4,
    "start_time": "2025-01-27T18:42:54.492Z"
   },
   {
    "duration": 4,
    "start_time": "2025-01-27T18:43:00.719Z"
   },
   {
    "duration": 6,
    "start_time": "2025-01-27T18:44:54.831Z"
   },
   {
    "duration": 6,
    "start_time": "2025-01-27T18:45:38.659Z"
   },
   {
    "duration": 3,
    "start_time": "2025-01-27T18:45:50.121Z"
   },
   {
    "duration": 7,
    "start_time": "2025-01-27T18:45:52.342Z"
   },
   {
    "duration": 47,
    "start_time": "2025-01-28T15:41:44.442Z"
   },
   {
    "duration": 1354,
    "start_time": "2025-01-28T15:41:53.309Z"
   },
   {
    "duration": 326,
    "start_time": "2025-01-28T15:41:54.665Z"
   },
   {
    "duration": 27,
    "start_time": "2025-01-28T15:41:54.994Z"
   },
   {
    "duration": 54,
    "start_time": "2025-01-28T15:41:55.033Z"
   },
   {
    "duration": 61,
    "start_time": "2025-01-28T15:41:55.089Z"
   },
   {
    "duration": 16,
    "start_time": "2025-01-28T15:41:55.151Z"
   },
   {
    "duration": 29,
    "start_time": "2025-01-28T15:41:55.168Z"
   },
   {
    "duration": 52,
    "start_time": "2025-01-28T15:41:55.198Z"
   },
   {
    "duration": 6,
    "start_time": "2025-01-28T15:41:55.251Z"
   },
   {
    "duration": 92,
    "start_time": "2025-01-28T15:41:55.258Z"
   },
   {
    "duration": 20,
    "start_time": "2025-01-28T15:41:55.352Z"
   },
   {
    "duration": 17,
    "start_time": "2025-01-28T15:41:55.373Z"
   },
   {
    "duration": 14,
    "start_time": "2025-01-28T15:41:55.391Z"
   },
   {
    "duration": 6,
    "start_time": "2025-01-28T15:41:55.408Z"
   },
   {
    "duration": 55,
    "start_time": "2025-01-28T15:41:55.415Z"
   },
   {
    "duration": 10,
    "start_time": "2025-01-28T15:41:55.472Z"
   },
   {
    "duration": 29,
    "start_time": "2025-01-28T15:41:55.484Z"
   },
   {
    "duration": 19,
    "start_time": "2025-01-28T15:41:55.514Z"
   },
   {
    "duration": 13,
    "start_time": "2025-01-28T15:41:55.534Z"
   },
   {
    "duration": 27,
    "start_time": "2025-01-28T15:41:55.548Z"
   },
   {
    "duration": 7,
    "start_time": "2025-01-28T15:41:55.577Z"
   },
   {
    "duration": 8,
    "start_time": "2025-01-28T15:41:55.586Z"
   },
   {
    "duration": 16,
    "start_time": "2025-01-28T15:41:55.595Z"
   },
   {
    "duration": 6,
    "start_time": "2025-01-28T15:41:55.613Z"
   },
   {
    "duration": 7,
    "start_time": "2025-01-28T15:42:41.602Z"
   },
   {
    "duration": 20,
    "start_time": "2025-01-28T15:42:48.477Z"
   },
   {
    "duration": 7,
    "start_time": "2025-01-28T15:50:32.512Z"
   },
   {
    "duration": 6,
    "start_time": "2025-01-28T15:50:53.945Z"
   },
   {
    "duration": 7,
    "start_time": "2025-01-28T15:50:59.227Z"
   },
   {
    "duration": 7,
    "start_time": "2025-01-28T15:51:06.070Z"
   },
   {
    "duration": 8,
    "start_time": "2025-01-28T15:51:08.304Z"
   },
   {
    "duration": 8,
    "start_time": "2025-01-28T15:51:14.248Z"
   },
   {
    "duration": 113,
    "start_time": "2025-01-28T15:51:17.724Z"
   },
   {
    "duration": 8,
    "start_time": "2025-01-28T15:51:21.421Z"
   },
   {
    "duration": 1375,
    "start_time": "2025-01-28T15:54:53.529Z"
   },
   {
    "duration": 183,
    "start_time": "2025-01-28T15:57:30.921Z"
   },
   {
    "duration": 155,
    "start_time": "2025-01-28T15:58:06.183Z"
   },
   {
    "duration": 7,
    "start_time": "2025-01-28T15:58:24.882Z"
   },
   {
    "duration": 7,
    "start_time": "2025-01-28T15:59:44.999Z"
   },
   {
    "duration": 7,
    "start_time": "2025-01-28T15:59:54.338Z"
   },
   {
    "duration": 8,
    "start_time": "2025-01-28T15:59:58.907Z"
   },
   {
    "duration": 4,
    "start_time": "2025-01-28T16:00:03.478Z"
   },
   {
    "duration": 8,
    "start_time": "2025-01-28T16:00:12.850Z"
   },
   {
    "duration": 14,
    "start_time": "2025-01-28T16:01:01.723Z"
   },
   {
    "duration": 16,
    "start_time": "2025-01-28T16:01:07.079Z"
   },
   {
    "duration": 7,
    "start_time": "2025-01-28T16:01:20.435Z"
   },
   {
    "duration": 7,
    "start_time": "2025-01-28T16:01:26.480Z"
   },
   {
    "duration": 284,
    "start_time": "2025-01-28T16:04:15.355Z"
   },
   {
    "duration": 230,
    "start_time": "2025-01-28T16:04:39.721Z"
   },
   {
    "duration": 218,
    "start_time": "2025-01-28T16:05:14.318Z"
   },
   {
    "duration": 8,
    "start_time": "2025-01-28T16:05:25.008Z"
   },
   {
    "duration": 8,
    "start_time": "2025-01-28T16:10:39.107Z"
   },
   {
    "duration": 12,
    "start_time": "2025-01-28T16:10:56.828Z"
   },
   {
    "duration": 121,
    "start_time": "2025-01-28T16:11:08.129Z"
   },
   {
    "duration": 7,
    "start_time": "2025-01-28T16:12:10.758Z"
   },
   {
    "duration": 126,
    "start_time": "2025-01-28T16:13:26.929Z"
   },
   {
    "duration": 195,
    "start_time": "2025-01-28T16:15:36.174Z"
   },
   {
    "duration": 132,
    "start_time": "2025-01-28T16:15:54.080Z"
   },
   {
    "duration": 5,
    "start_time": "2025-01-28T16:16:54.172Z"
   },
   {
    "duration": 134,
    "start_time": "2025-01-28T16:18:17.754Z"
   },
   {
    "duration": 129,
    "start_time": "2025-01-28T16:18:52.414Z"
   },
   {
    "duration": 59,
    "start_time": "2025-01-28T16:19:41.319Z"
   },
   {
    "duration": 133,
    "start_time": "2025-01-28T16:19:53.621Z"
   },
   {
    "duration": 132,
    "start_time": "2025-01-28T16:20:05.216Z"
   },
   {
    "duration": 8,
    "start_time": "2025-01-28T16:40:22.395Z"
   },
   {
    "duration": 11,
    "start_time": "2025-01-28T16:40:30.612Z"
   },
   {
    "duration": 21,
    "start_time": "2025-01-28T16:41:02.734Z"
   },
   {
    "duration": 1052,
    "start_time": "2025-01-28T16:43:23.243Z"
   },
   {
    "duration": 9,
    "start_time": "2025-01-28T16:43:34.745Z"
   },
   {
    "duration": 6,
    "start_time": "2025-01-28T16:43:39.723Z"
   },
   {
    "duration": 12,
    "start_time": "2025-01-28T16:43:43.438Z"
   },
   {
    "duration": 44,
    "start_time": "2025-01-28T16:45:50.477Z"
   },
   {
    "duration": 1124,
    "start_time": "2025-01-28T16:45:59.353Z"
   },
   {
    "duration": 304,
    "start_time": "2025-01-28T16:46:00.479Z"
   },
   {
    "duration": 49,
    "start_time": "2025-01-28T16:46:00.785Z"
   },
   {
    "duration": 63,
    "start_time": "2025-01-28T16:46:00.836Z"
   },
   {
    "duration": 44,
    "start_time": "2025-01-28T16:46:00.932Z"
   },
   {
    "duration": 18,
    "start_time": "2025-01-28T16:46:00.978Z"
   },
   {
    "duration": 45,
    "start_time": "2025-01-28T16:46:00.998Z"
   },
   {
    "duration": 31,
    "start_time": "2025-01-28T16:46:01.045Z"
   },
   {
    "duration": 5,
    "start_time": "2025-01-28T16:46:01.078Z"
   },
   {
    "duration": 40,
    "start_time": "2025-01-28T16:46:01.085Z"
   },
   {
    "duration": 21,
    "start_time": "2025-01-28T16:46:01.133Z"
   },
   {
    "duration": 16,
    "start_time": "2025-01-28T16:46:01.156Z"
   },
   {
    "duration": 28,
    "start_time": "2025-01-28T16:46:01.174Z"
   },
   {
    "duration": 17,
    "start_time": "2025-01-28T16:46:01.205Z"
   },
   {
    "duration": 15,
    "start_time": "2025-01-28T16:46:01.224Z"
   },
   {
    "duration": 179,
    "start_time": "2025-01-28T16:46:01.240Z"
   },
   {
    "duration": 16,
    "start_time": "2025-01-28T16:46:01.421Z"
   },
   {
    "duration": 46,
    "start_time": "2025-01-28T16:46:01.438Z"
   },
   {
    "duration": 80,
    "start_time": "2025-01-28T16:46:01.486Z"
   },
   {
    "duration": 29,
    "start_time": "2025-01-28T16:46:01.568Z"
   },
   {
    "duration": 169,
    "start_time": "2025-01-28T16:46:01.598Z"
   },
   {
    "duration": 11,
    "start_time": "2025-01-28T16:46:01.768Z"
   },
   {
    "duration": 54,
    "start_time": "2025-01-28T16:46:01.781Z"
   },
   {
    "duration": 109,
    "start_time": "2025-01-28T16:46:01.837Z"
   },
   {
    "duration": 0,
    "start_time": "2025-01-28T16:46:01.947Z"
   },
   {
    "duration": 0,
    "start_time": "2025-01-28T16:46:01.948Z"
   },
   {
    "duration": 0,
    "start_time": "2025-01-28T16:46:01.949Z"
   },
   {
    "duration": 12,
    "start_time": "2025-01-28T16:46:30.929Z"
   },
   {
    "duration": 11,
    "start_time": "2025-01-28T16:46:39.969Z"
   },
   {
    "duration": 13,
    "start_time": "2025-01-28T16:46:50.757Z"
   },
   {
    "duration": 20,
    "start_time": "2025-01-28T16:47:04.677Z"
   },
   {
    "duration": 61,
    "start_time": "2025-01-28T16:58:59.628Z"
   },
   {
    "duration": 17,
    "start_time": "2025-01-28T16:59:18.344Z"
   },
   {
    "duration": 21,
    "start_time": "2025-01-28T17:06:34.842Z"
   },
   {
    "duration": 22,
    "start_time": "2025-01-28T17:15:54.832Z"
   },
   {
    "duration": 21,
    "start_time": "2025-01-28T17:22:02.440Z"
   },
   {
    "duration": 21,
    "start_time": "2025-01-28T17:22:14.723Z"
   },
   {
    "duration": 20,
    "start_time": "2025-01-28T17:35:29.607Z"
   },
   {
    "duration": 18,
    "start_time": "2025-01-28T17:35:48.758Z"
   },
   {
    "duration": 19,
    "start_time": "2025-01-28T17:39:38.920Z"
   },
   {
    "duration": 132,
    "start_time": "2025-01-28T17:43:49.082Z"
   },
   {
    "duration": 201,
    "start_time": "2025-01-28T17:45:40.562Z"
   },
   {
    "duration": 149,
    "start_time": "2025-01-28T17:46:47.171Z"
   },
   {
    "duration": 145,
    "start_time": "2025-01-28T17:47:16.324Z"
   },
   {
    "duration": 150,
    "start_time": "2025-01-28T17:47:26.342Z"
   },
   {
    "duration": 152,
    "start_time": "2025-01-28T17:47:33.140Z"
   },
   {
    "duration": 305,
    "start_time": "2025-01-28T17:47:41.583Z"
   },
   {
    "duration": 126,
    "start_time": "2025-01-28T17:48:32.297Z"
   },
   {
    "duration": 1830,
    "start_time": "2025-01-28T17:48:59.702Z"
   },
   {
    "duration": 1319,
    "start_time": "2025-01-28T17:49:08.111Z"
   },
   {
    "duration": 260,
    "start_time": "2025-01-28T17:49:13.449Z"
   },
   {
    "duration": 74,
    "start_time": "2025-01-28T17:51:31.334Z"
   },
   {
    "duration": 138,
    "start_time": "2025-01-28T17:53:06.738Z"
   },
   {
    "duration": 338,
    "start_time": "2025-01-28T17:54:40.653Z"
   },
   {
    "duration": 366,
    "start_time": "2025-01-28T17:54:44.022Z"
   },
   {
    "duration": 445,
    "start_time": "2025-01-28T17:55:05.214Z"
   },
   {
    "duration": 17,
    "start_time": "2025-01-28T17:59:47.268Z"
   },
   {
    "duration": 16,
    "start_time": "2025-01-28T18:00:17.996Z"
   },
   {
    "duration": 10,
    "start_time": "2025-01-28T18:00:29.121Z"
   },
   {
    "duration": 13,
    "start_time": "2025-01-28T18:00:38.171Z"
   },
   {
    "duration": 17,
    "start_time": "2025-01-28T18:00:47.520Z"
   },
   {
    "duration": 18,
    "start_time": "2025-01-28T18:01:58.398Z"
   },
   {
    "duration": 18,
    "start_time": "2025-01-28T18:05:35.658Z"
   },
   {
    "duration": 12,
    "start_time": "2025-01-28T18:05:54.549Z"
   },
   {
    "duration": 19,
    "start_time": "2025-01-28T18:06:09.295Z"
   },
   {
    "duration": 1122,
    "start_time": "2025-01-28T18:07:33.504Z"
   },
   {
    "duration": 20,
    "start_time": "2025-01-28T18:07:44.192Z"
   },
   {
    "duration": 461,
    "start_time": "2025-01-28T18:08:42.478Z"
   },
   {
    "duration": 1314,
    "start_time": "2025-01-28T18:08:51.391Z"
   },
   {
    "duration": 1855,
    "start_time": "2025-01-28T18:09:12.610Z"
   },
   {
    "duration": 11,
    "start_time": "2025-01-28T18:10:25.989Z"
   },
   {
    "duration": 17,
    "start_time": "2025-01-28T18:10:41.234Z"
   },
   {
    "duration": 18,
    "start_time": "2025-01-28T18:11:05.543Z"
   },
   {
    "duration": 25,
    "start_time": "2025-01-28T18:11:33.854Z"
   },
   {
    "duration": 25,
    "start_time": "2025-01-28T18:12:06.000Z"
   },
   {
    "duration": 23,
    "start_time": "2025-01-28T18:12:51.352Z"
   },
   {
    "duration": 23,
    "start_time": "2025-01-28T18:12:59.272Z"
   },
   {
    "duration": 25,
    "start_time": "2025-01-28T18:15:30.351Z"
   },
   {
    "duration": 25,
    "start_time": "2025-01-28T18:15:47.585Z"
   },
   {
    "duration": 25,
    "start_time": "2025-01-28T18:16:42.992Z"
   },
   {
    "duration": 14,
    "start_time": "2025-01-28T18:19:43.640Z"
   },
   {
    "duration": 21,
    "start_time": "2025-01-28T18:19:52.755Z"
   },
   {
    "duration": 22,
    "start_time": "2025-01-28T18:20:33.986Z"
   },
   {
    "duration": 21,
    "start_time": "2025-01-28T18:21:08.635Z"
   },
   {
    "duration": 31,
    "start_time": "2025-01-28T18:22:00.542Z"
   },
   {
    "duration": 27,
    "start_time": "2025-01-28T18:22:10.305Z"
   },
   {
    "duration": 18,
    "start_time": "2025-01-28T18:22:15.482Z"
   },
   {
    "duration": 26,
    "start_time": "2025-01-28T18:22:18.032Z"
   },
   {
    "duration": 28,
    "start_time": "2025-01-28T18:22:21.148Z"
   },
   {
    "duration": 25,
    "start_time": "2025-01-28T18:22:50.634Z"
   },
   {
    "duration": 16,
    "start_time": "2025-01-28T18:23:18.700Z"
   },
   {
    "duration": 16,
    "start_time": "2025-01-28T18:23:38.286Z"
   },
   {
    "duration": 16,
    "start_time": "2025-01-28T18:23:54.596Z"
   },
   {
    "duration": 24,
    "start_time": "2025-01-28T18:23:59.132Z"
   },
   {
    "duration": 15,
    "start_time": "2025-01-28T18:24:04.562Z"
   },
   {
    "duration": 17,
    "start_time": "2025-01-28T18:24:41.682Z"
   },
   {
    "duration": 16,
    "start_time": "2025-01-28T18:25:12.409Z"
   },
   {
    "duration": 19,
    "start_time": "2025-01-28T18:25:18.608Z"
   },
   {
    "duration": 25,
    "start_time": "2025-01-28T18:25:20.910Z"
   },
   {
    "duration": 15,
    "start_time": "2025-01-28T18:25:21.412Z"
   },
   {
    "duration": 18,
    "start_time": "2025-01-28T18:25:28.105Z"
   },
   {
    "duration": 25,
    "start_time": "2025-01-28T18:25:28.585Z"
   },
   {
    "duration": 16,
    "start_time": "2025-01-28T18:25:29.132Z"
   },
   {
    "duration": 16,
    "start_time": "2025-01-28T18:25:38.034Z"
   },
   {
    "duration": 20,
    "start_time": "2025-01-28T18:25:44.219Z"
   },
   {
    "duration": 23,
    "start_time": "2025-01-28T18:25:47.414Z"
   },
   {
    "duration": 7,
    "start_time": "2025-01-28T18:25:48.435Z"
   },
   {
    "duration": 24,
    "start_time": "2025-01-28T18:25:52.567Z"
   },
   {
    "duration": 16,
    "start_time": "2025-01-28T18:25:53.488Z"
   },
   {
    "duration": 1314,
    "start_time": "2025-01-29T15:19:21.444Z"
   },
   {
    "duration": 308,
    "start_time": "2025-01-29T15:19:22.760Z"
   },
   {
    "duration": 33,
    "start_time": "2025-01-29T15:19:23.070Z"
   },
   {
    "duration": 58,
    "start_time": "2025-01-29T15:19:23.104Z"
   },
   {
    "duration": 69,
    "start_time": "2025-01-29T15:19:23.164Z"
   },
   {
    "duration": 16,
    "start_time": "2025-01-29T15:19:23.234Z"
   },
   {
    "duration": 38,
    "start_time": "2025-01-29T15:19:23.252Z"
   },
   {
    "duration": 38,
    "start_time": "2025-01-29T15:19:23.292Z"
   },
   {
    "duration": 19,
    "start_time": "2025-01-29T15:19:23.332Z"
   },
   {
    "duration": 17,
    "start_time": "2025-01-29T15:19:23.353Z"
   },
   {
    "duration": 31,
    "start_time": "2025-01-29T15:19:23.371Z"
   },
   {
    "duration": 156,
    "start_time": "2025-01-29T15:19:23.404Z"
   },
   {
    "duration": 5,
    "start_time": "2025-01-29T15:19:23.562Z"
   },
   {
    "duration": 30,
    "start_time": "2025-01-29T15:19:23.569Z"
   },
   {
    "duration": 148,
    "start_time": "2025-01-29T15:19:23.601Z"
   },
   {
    "duration": 7,
    "start_time": "2025-01-29T15:19:23.751Z"
   },
   {
    "duration": 36,
    "start_time": "2025-01-29T15:19:23.759Z"
   },
   {
    "duration": 56,
    "start_time": "2025-01-29T15:19:23.796Z"
   },
   {
    "duration": 25,
    "start_time": "2025-01-29T15:19:23.853Z"
   },
   {
    "duration": 25,
    "start_time": "2025-01-29T15:19:23.879Z"
   },
   {
    "duration": 64,
    "start_time": "2025-01-29T15:19:23.905Z"
   },
   {
    "duration": 8,
    "start_time": "2025-01-29T15:19:23.970Z"
   },
   {
    "duration": 18,
    "start_time": "2025-01-29T15:19:23.979Z"
   },
   {
    "duration": 131,
    "start_time": "2025-01-29T15:19:23.999Z"
   },
   {
    "duration": 15,
    "start_time": "2025-01-29T15:19:24.132Z"
   },
   {
    "duration": 20,
    "start_time": "2025-01-29T15:19:24.148Z"
   },
   {
    "duration": 5,
    "start_time": "2025-01-29T15:19:24.169Z"
   },
   {
    "duration": 4,
    "start_time": "2025-01-29T15:19:24.176Z"
   },
   {
    "duration": 156,
    "start_time": "2025-01-29T15:20:03.303Z"
   },
   {
    "duration": 131,
    "start_time": "2025-01-29T15:26:27.273Z"
   },
   {
    "duration": 132,
    "start_time": "2025-01-29T15:26:39.408Z"
   },
   {
    "duration": 249,
    "start_time": "2025-01-29T15:26:42.753Z"
   },
   {
    "duration": 300,
    "start_time": "2025-01-29T15:26:56.338Z"
   },
   {
    "duration": 53,
    "start_time": "2025-01-29T15:27:14.485Z"
   },
   {
    "duration": 307,
    "start_time": "2025-01-29T15:27:17.844Z"
   },
   {
    "duration": 280,
    "start_time": "2025-01-29T15:27:29.359Z"
   },
   {
    "duration": 1412,
    "start_time": "2025-01-29T15:27:37.565Z"
   },
   {
    "duration": 11,
    "start_time": "2025-01-29T15:28:00.201Z"
   },
   {
    "duration": 114,
    "start_time": "2025-01-29T15:30:03.137Z"
   },
   {
    "duration": 113,
    "start_time": "2025-01-29T15:30:14.760Z"
   },
   {
    "duration": 114,
    "start_time": "2025-01-29T15:31:13.943Z"
   },
   {
    "duration": 139,
    "start_time": "2025-01-29T15:31:18.950Z"
   },
   {
    "duration": 140,
    "start_time": "2025-01-29T15:33:04.467Z"
   },
   {
    "duration": 5,
    "start_time": "2025-01-29T15:34:16.435Z"
   },
   {
    "duration": 20,
    "start_time": "2025-01-29T15:36:33.771Z"
   },
   {
    "duration": 21,
    "start_time": "2025-01-29T15:37:22.649Z"
   },
   {
    "duration": 20,
    "start_time": "2025-01-29T15:37:29.359Z"
   },
   {
    "duration": 20,
    "start_time": "2025-01-29T15:37:38.341Z"
   },
   {
    "duration": 26,
    "start_time": "2025-01-29T15:44:15.712Z"
   },
   {
    "duration": 29,
    "start_time": "2025-01-29T15:44:42.876Z"
   },
   {
    "duration": 11,
    "start_time": "2025-01-29T15:45:29.305Z"
   },
   {
    "duration": 1193,
    "start_time": "2025-01-29T15:45:50.609Z"
   },
   {
    "duration": 210,
    "start_time": "2025-01-29T15:45:51.804Z"
   },
   {
    "duration": 28,
    "start_time": "2025-01-29T15:45:52.016Z"
   },
   {
    "duration": 140,
    "start_time": "2025-01-29T15:45:52.045Z"
   },
   {
    "duration": 12,
    "start_time": "2025-01-29T15:45:52.187Z"
   },
   {
    "duration": 90,
    "start_time": "2025-01-29T15:45:52.201Z"
   },
   {
    "duration": 19,
    "start_time": "2025-01-29T15:45:52.292Z"
   },
   {
    "duration": 39,
    "start_time": "2025-01-29T15:45:52.313Z"
   },
   {
    "duration": 34,
    "start_time": "2025-01-29T15:45:52.355Z"
   },
   {
    "duration": 43,
    "start_time": "2025-01-29T15:45:52.403Z"
   },
   {
    "duration": 4,
    "start_time": "2025-01-29T15:45:52.447Z"
   },
   {
    "duration": 167,
    "start_time": "2025-01-29T15:45:52.452Z"
   },
   {
    "duration": 913,
    "start_time": "2025-01-29T15:45:52.621Z"
   },
   {
    "duration": 0,
    "start_time": "2025-01-29T15:45:53.536Z"
   },
   {
    "duration": 0,
    "start_time": "2025-01-29T15:45:53.537Z"
   },
   {
    "duration": 0,
    "start_time": "2025-01-29T15:45:53.539Z"
   },
   {
    "duration": 0,
    "start_time": "2025-01-29T15:45:53.541Z"
   },
   {
    "duration": 0,
    "start_time": "2025-01-29T15:45:53.542Z"
   },
   {
    "duration": 0,
    "start_time": "2025-01-29T15:45:53.543Z"
   },
   {
    "duration": 0,
    "start_time": "2025-01-29T15:45:53.544Z"
   },
   {
    "duration": 0,
    "start_time": "2025-01-29T15:45:53.545Z"
   },
   {
    "duration": 0,
    "start_time": "2025-01-29T15:45:53.546Z"
   },
   {
    "duration": 0,
    "start_time": "2025-01-29T15:45:53.547Z"
   },
   {
    "duration": 0,
    "start_time": "2025-01-29T15:45:53.547Z"
   },
   {
    "duration": 0,
    "start_time": "2025-01-29T15:45:53.549Z"
   },
   {
    "duration": 0,
    "start_time": "2025-01-29T15:45:53.550Z"
   },
   {
    "duration": 6,
    "start_time": "2025-01-29T15:46:30.651Z"
   },
   {
    "duration": 5,
    "start_time": "2025-01-29T15:47:03.193Z"
   },
   {
    "duration": 1155,
    "start_time": "2025-01-29T15:47:25.352Z"
   },
   {
    "duration": 217,
    "start_time": "2025-01-29T15:47:26.510Z"
   },
   {
    "duration": 29,
    "start_time": "2025-01-29T15:47:26.728Z"
   },
   {
    "duration": 81,
    "start_time": "2025-01-29T15:47:26.759Z"
   },
   {
    "duration": 12,
    "start_time": "2025-01-29T15:47:26.842Z"
   },
   {
    "duration": 65,
    "start_time": "2025-01-29T15:47:26.855Z"
   },
   {
    "duration": 18,
    "start_time": "2025-01-29T15:47:26.921Z"
   },
   {
    "duration": 30,
    "start_time": "2025-01-29T15:47:26.941Z"
   },
   {
    "duration": 57,
    "start_time": "2025-01-29T15:47:26.972Z"
   },
   {
    "duration": 36,
    "start_time": "2025-01-29T15:47:27.030Z"
   },
   {
    "duration": 35,
    "start_time": "2025-01-29T15:47:27.068Z"
   },
   {
    "duration": 4,
    "start_time": "2025-01-29T15:47:27.104Z"
   },
   {
    "duration": 180,
    "start_time": "2025-01-29T15:47:27.109Z"
   },
   {
    "duration": 10,
    "start_time": "2025-01-29T15:47:27.292Z"
   },
   {
    "duration": 948,
    "start_time": "2025-01-29T15:47:27.304Z"
   },
   {
    "duration": 0,
    "start_time": "2025-01-29T15:47:28.254Z"
   },
   {
    "duration": 0,
    "start_time": "2025-01-29T15:47:28.255Z"
   },
   {
    "duration": 0,
    "start_time": "2025-01-29T15:47:28.256Z"
   },
   {
    "duration": 0,
    "start_time": "2025-01-29T15:47:28.257Z"
   },
   {
    "duration": 0,
    "start_time": "2025-01-29T15:47:28.258Z"
   },
   {
    "duration": 0,
    "start_time": "2025-01-29T15:47:28.259Z"
   },
   {
    "duration": 0,
    "start_time": "2025-01-29T15:47:28.260Z"
   },
   {
    "duration": 0,
    "start_time": "2025-01-29T15:47:28.261Z"
   },
   {
    "duration": 0,
    "start_time": "2025-01-29T15:47:28.262Z"
   },
   {
    "duration": 0,
    "start_time": "2025-01-29T15:47:28.263Z"
   },
   {
    "duration": 0,
    "start_time": "2025-01-29T15:47:28.264Z"
   },
   {
    "duration": 0,
    "start_time": "2025-01-29T15:47:28.265Z"
   },
   {
    "duration": 0,
    "start_time": "2025-01-29T15:47:28.266Z"
   },
   {
    "duration": 32,
    "start_time": "2025-01-29T15:48:42.687Z"
   },
   {
    "duration": 18,
    "start_time": "2025-01-29T15:48:44.965Z"
   },
   {
    "duration": 4,
    "start_time": "2025-01-29T15:48:48.215Z"
   },
   {
    "duration": 134,
    "start_time": "2025-01-29T15:48:48.958Z"
   },
   {
    "duration": 7,
    "start_time": "2025-01-29T15:48:51.856Z"
   },
   {
    "duration": 5,
    "start_time": "2025-01-29T15:49:03.844Z"
   },
   {
    "duration": 6,
    "start_time": "2025-01-29T15:49:18.188Z"
   },
   {
    "duration": 134,
    "start_time": "2025-01-29T15:49:19.181Z"
   },
   {
    "duration": 6,
    "start_time": "2025-01-29T15:49:19.731Z"
   },
   {
    "duration": 42,
    "start_time": "2025-01-29T15:50:31.827Z"
   },
   {
    "duration": 34,
    "start_time": "2025-01-29T15:50:39.921Z"
   },
   {
    "duration": 20,
    "start_time": "2025-01-29T15:50:42.178Z"
   },
   {
    "duration": 1128,
    "start_time": "2025-01-29T15:50:50.719Z"
   },
   {
    "duration": 255,
    "start_time": "2025-01-29T15:50:51.849Z"
   },
   {
    "duration": 25,
    "start_time": "2025-01-29T15:50:52.106Z"
   },
   {
    "duration": 109,
    "start_time": "2025-01-29T15:50:52.132Z"
   },
   {
    "duration": 10,
    "start_time": "2025-01-29T15:50:52.243Z"
   },
   {
    "duration": 68,
    "start_time": "2025-01-29T15:50:52.254Z"
   },
   {
    "duration": 17,
    "start_time": "2025-01-29T15:50:52.324Z"
   },
   {
    "duration": 42,
    "start_time": "2025-01-29T15:50:52.342Z"
   },
   {
    "duration": 44,
    "start_time": "2025-01-29T15:50:52.385Z"
   },
   {
    "duration": 15,
    "start_time": "2025-01-29T15:50:52.430Z"
   },
   {
    "duration": 157,
    "start_time": "2025-01-29T15:50:52.447Z"
   },
   {
    "duration": 18,
    "start_time": "2025-01-29T15:50:52.606Z"
   },
   {
    "duration": 44,
    "start_time": "2025-01-29T15:50:52.626Z"
   },
   {
    "duration": 134,
    "start_time": "2025-01-29T15:50:52.673Z"
   },
   {
    "duration": 20,
    "start_time": "2025-01-29T15:50:52.808Z"
   },
   {
    "duration": 146,
    "start_time": "2025-01-29T15:50:52.830Z"
   },
   {
    "duration": 17,
    "start_time": "2025-01-29T15:50:52.978Z"
   },
   {
    "duration": 30,
    "start_time": "2025-01-29T15:50:52.997Z"
   },
   {
    "duration": 18,
    "start_time": "2025-01-29T15:50:53.029Z"
   },
   {
    "duration": 6,
    "start_time": "2025-01-29T15:50:53.049Z"
   },
   {
    "duration": 23,
    "start_time": "2025-01-29T15:50:53.056Z"
   },
   {
    "duration": 132,
    "start_time": "2025-01-29T15:50:53.080Z"
   },
   {
    "duration": 15,
    "start_time": "2025-01-29T15:50:53.214Z"
   },
   {
    "duration": 4,
    "start_time": "2025-01-29T15:50:53.230Z"
   },
   {
    "duration": 6,
    "start_time": "2025-01-29T15:50:53.235Z"
   },
   {
    "duration": 17,
    "start_time": "2025-01-29T15:50:53.242Z"
   },
   {
    "duration": 1145,
    "start_time": "2025-01-29T15:51:24.550Z"
   },
   {
    "duration": 306,
    "start_time": "2025-01-29T15:51:25.701Z"
   },
   {
    "duration": 31,
    "start_time": "2025-01-29T15:51:26.009Z"
   },
   {
    "duration": 97,
    "start_time": "2025-01-29T15:51:26.041Z"
   },
   {
    "duration": 10,
    "start_time": "2025-01-29T15:51:26.140Z"
   },
   {
    "duration": 63,
    "start_time": "2025-01-29T15:51:26.152Z"
   },
   {
    "duration": 16,
    "start_time": "2025-01-29T15:51:26.217Z"
   },
   {
    "duration": 44,
    "start_time": "2025-01-29T15:51:26.235Z"
   },
   {
    "duration": 49,
    "start_time": "2025-01-29T15:51:26.280Z"
   },
   {
    "duration": 15,
    "start_time": "2025-01-29T15:51:26.330Z"
   },
   {
    "duration": 14,
    "start_time": "2025-01-29T15:51:26.347Z"
   },
   {
    "duration": 146,
    "start_time": "2025-01-29T15:51:26.363Z"
   },
   {
    "duration": 920,
    "start_time": "2025-01-29T15:51:26.510Z"
   },
   {
    "duration": 0,
    "start_time": "2025-01-29T15:51:27.432Z"
   },
   {
    "duration": 0,
    "start_time": "2025-01-29T15:51:27.433Z"
   },
   {
    "duration": 0,
    "start_time": "2025-01-29T15:51:27.434Z"
   },
   {
    "duration": 0,
    "start_time": "2025-01-29T15:51:27.435Z"
   },
   {
    "duration": 0,
    "start_time": "2025-01-29T15:51:27.436Z"
   },
   {
    "duration": 0,
    "start_time": "2025-01-29T15:51:27.437Z"
   },
   {
    "duration": 0,
    "start_time": "2025-01-29T15:51:27.438Z"
   },
   {
    "duration": 0,
    "start_time": "2025-01-29T15:51:27.439Z"
   },
   {
    "duration": 0,
    "start_time": "2025-01-29T15:51:27.440Z"
   },
   {
    "duration": 0,
    "start_time": "2025-01-29T15:51:27.441Z"
   },
   {
    "duration": 0,
    "start_time": "2025-01-29T15:51:27.442Z"
   },
   {
    "duration": 0,
    "start_time": "2025-01-29T15:51:27.443Z"
   },
   {
    "duration": 0,
    "start_time": "2025-01-29T15:51:27.444Z"
   },
   {
    "duration": 1163,
    "start_time": "2025-01-29T15:51:51.809Z"
   },
   {
    "duration": 169,
    "start_time": "2025-01-29T15:51:52.973Z"
   },
   {
    "duration": 25,
    "start_time": "2025-01-29T15:51:53.144Z"
   },
   {
    "duration": 79,
    "start_time": "2025-01-29T15:51:53.171Z"
   },
   {
    "duration": 12,
    "start_time": "2025-01-29T15:51:53.252Z"
   },
   {
    "duration": 71,
    "start_time": "2025-01-29T15:51:53.266Z"
   },
   {
    "duration": 18,
    "start_time": "2025-01-29T15:51:53.339Z"
   },
   {
    "duration": 59,
    "start_time": "2025-01-29T15:51:53.359Z"
   },
   {
    "duration": 33,
    "start_time": "2025-01-29T15:51:53.420Z"
   },
   {
    "duration": 47,
    "start_time": "2025-01-29T15:51:53.455Z"
   },
   {
    "duration": 153,
    "start_time": "2025-01-29T15:51:53.504Z"
   },
   {
    "duration": 22,
    "start_time": "2025-01-29T15:51:53.659Z"
   },
   {
    "duration": 150,
    "start_time": "2025-01-29T15:51:53.683Z"
   },
   {
    "duration": 18,
    "start_time": "2025-01-29T15:51:53.837Z"
   },
   {
    "duration": 32,
    "start_time": "2025-01-29T15:51:53.856Z"
   },
   {
    "duration": 17,
    "start_time": "2025-01-29T15:51:53.902Z"
   },
   {
    "duration": 31,
    "start_time": "2025-01-29T15:51:53.921Z"
   },
   {
    "duration": 13,
    "start_time": "2025-01-29T15:51:53.954Z"
   },
   {
    "duration": 7,
    "start_time": "2025-01-29T15:51:53.968Z"
   },
   {
    "duration": 41,
    "start_time": "2025-01-29T15:51:53.976Z"
   },
   {
    "duration": 138,
    "start_time": "2025-01-29T15:51:54.018Z"
   },
   {
    "duration": 15,
    "start_time": "2025-01-29T15:51:54.158Z"
   },
   {
    "duration": 4,
    "start_time": "2025-01-29T15:51:54.174Z"
   },
   {
    "duration": 31,
    "start_time": "2025-01-29T15:51:54.179Z"
   },
   {
    "duration": 5,
    "start_time": "2025-01-29T15:51:54.211Z"
   },
   {
    "duration": 162,
    "start_time": "2025-01-29T15:53:04.638Z"
   },
   {
    "duration": 43,
    "start_time": "2025-01-29T15:53:20.907Z"
   },
   {
    "duration": 16,
    "start_time": "2025-01-29T15:53:24.520Z"
   },
   {
    "duration": 1193,
    "start_time": "2025-01-29T15:53:29.606Z"
   },
   {
    "duration": 207,
    "start_time": "2025-01-29T15:53:30.801Z"
   },
   {
    "duration": 25,
    "start_time": "2025-01-29T15:53:31.010Z"
   },
   {
    "duration": 79,
    "start_time": "2025-01-29T15:53:31.037Z"
   },
   {
    "duration": 11,
    "start_time": "2025-01-29T15:53:31.119Z"
   },
   {
    "duration": 46,
    "start_time": "2025-01-29T15:53:31.132Z"
   },
   {
    "duration": 36,
    "start_time": "2025-01-29T15:53:31.180Z"
   },
   {
    "duration": 44,
    "start_time": "2025-01-29T15:53:31.218Z"
   },
   {
    "duration": 60,
    "start_time": "2025-01-29T15:53:31.264Z"
   },
   {
    "duration": 15,
    "start_time": "2025-01-29T15:53:31.325Z"
   },
   {
    "duration": 175,
    "start_time": "2025-01-29T15:53:31.342Z"
   },
   {
    "duration": 21,
    "start_time": "2025-01-29T15:53:31.519Z"
   },
   {
    "duration": 152,
    "start_time": "2025-01-29T15:53:31.542Z"
   },
   {
    "duration": 20,
    "start_time": "2025-01-29T15:53:31.696Z"
   },
   {
    "duration": 27,
    "start_time": "2025-01-29T15:53:31.717Z"
   },
   {
    "duration": 22,
    "start_time": "2025-01-29T15:53:31.746Z"
   },
   {
    "duration": 62,
    "start_time": "2025-01-29T15:53:31.769Z"
   },
   {
    "duration": 25,
    "start_time": "2025-01-29T15:53:31.832Z"
   },
   {
    "duration": 8,
    "start_time": "2025-01-29T15:53:31.859Z"
   },
   {
    "duration": 128,
    "start_time": "2025-01-29T15:53:31.869Z"
   },
   {
    "duration": 132,
    "start_time": "2025-01-29T15:53:31.999Z"
   },
   {
    "duration": 15,
    "start_time": "2025-01-29T15:53:32.132Z"
   },
   {
    "duration": 74,
    "start_time": "2025-01-29T15:53:32.148Z"
   },
   {
    "duration": 20,
    "start_time": "2025-01-29T15:53:32.224Z"
   },
   {
    "duration": 7,
    "start_time": "2025-01-29T15:53:32.246Z"
   },
   {
    "duration": 28,
    "start_time": "2025-01-29T15:54:59.418Z"
   },
   {
    "duration": 124,
    "start_time": "2025-01-29T15:59:59.362Z"
   },
   {
    "duration": 136,
    "start_time": "2025-01-29T16:00:55.875Z"
   },
   {
    "duration": 30,
    "start_time": "2025-01-29T16:01:50.977Z"
   },
   {
    "duration": 136,
    "start_time": "2025-01-29T16:01:55.240Z"
   },
   {
    "duration": 152,
    "start_time": "2025-01-29T16:02:50.629Z"
   },
   {
    "duration": 128,
    "start_time": "2025-01-29T16:04:19.604Z"
   },
   {
    "duration": 5,
    "start_time": "2025-01-29T16:05:11.810Z"
   },
   {
    "duration": 5,
    "start_time": "2025-01-29T16:05:12.469Z"
   },
   {
    "duration": 6,
    "start_time": "2025-01-29T16:05:12.985Z"
   },
   {
    "duration": 107,
    "start_time": "2025-01-29T16:08:32.380Z"
   },
   {
    "duration": 18,
    "start_time": "2025-01-29T16:08:37.468Z"
   },
   {
    "duration": 16,
    "start_time": "2025-01-29T16:08:45.737Z"
   },
   {
    "duration": 18,
    "start_time": "2025-01-29T16:08:56.308Z"
   },
   {
    "duration": 1173,
    "start_time": "2025-01-29T16:09:08.031Z"
   },
   {
    "duration": 300,
    "start_time": "2025-01-29T16:09:09.206Z"
   },
   {
    "duration": 27,
    "start_time": "2025-01-29T16:09:09.510Z"
   },
   {
    "duration": 91,
    "start_time": "2025-01-29T16:09:09.540Z"
   },
   {
    "duration": 11,
    "start_time": "2025-01-29T16:09:09.633Z"
   },
   {
    "duration": 63,
    "start_time": "2025-01-29T16:09:09.646Z"
   },
   {
    "duration": 42,
    "start_time": "2025-01-29T16:09:09.710Z"
   },
   {
    "duration": 116,
    "start_time": "2025-01-29T16:09:09.754Z"
   },
   {
    "duration": 0,
    "start_time": "2025-01-29T16:09:09.872Z"
   },
   {
    "duration": 0,
    "start_time": "2025-01-29T16:09:09.873Z"
   },
   {
    "duration": 0,
    "start_time": "2025-01-29T16:09:09.874Z"
   },
   {
    "duration": 0,
    "start_time": "2025-01-29T16:09:09.875Z"
   },
   {
    "duration": 0,
    "start_time": "2025-01-29T16:09:09.876Z"
   },
   {
    "duration": 0,
    "start_time": "2025-01-29T16:09:09.877Z"
   },
   {
    "duration": 0,
    "start_time": "2025-01-29T16:09:09.878Z"
   },
   {
    "duration": 1,
    "start_time": "2025-01-29T16:09:09.878Z"
   },
   {
    "duration": 1,
    "start_time": "2025-01-29T16:09:09.879Z"
   },
   {
    "duration": 0,
    "start_time": "2025-01-29T16:09:09.880Z"
   },
   {
    "duration": 0,
    "start_time": "2025-01-29T16:09:09.882Z"
   },
   {
    "duration": 34,
    "start_time": "2025-01-29T16:09:32.571Z"
   },
   {
    "duration": 22,
    "start_time": "2025-01-29T16:09:33.320Z"
   },
   {
    "duration": 1161,
    "start_time": "2025-01-29T16:09:38.022Z"
   },
   {
    "duration": 238,
    "start_time": "2025-01-29T16:09:39.185Z"
   },
   {
    "duration": 29,
    "start_time": "2025-01-29T16:09:39.425Z"
   },
   {
    "duration": 91,
    "start_time": "2025-01-29T16:09:39.455Z"
   },
   {
    "duration": 12,
    "start_time": "2025-01-29T16:09:39.548Z"
   },
   {
    "duration": 66,
    "start_time": "2025-01-29T16:09:39.561Z"
   },
   {
    "duration": 43,
    "start_time": "2025-01-29T16:09:39.628Z"
   },
   {
    "duration": 53,
    "start_time": "2025-01-29T16:09:39.672Z"
   },
   {
    "duration": 22,
    "start_time": "2025-01-29T16:09:39.726Z"
   },
   {
    "duration": 158,
    "start_time": "2025-01-29T16:09:39.749Z"
   },
   {
    "duration": 18,
    "start_time": "2025-01-29T16:09:39.909Z"
   },
   {
    "duration": 27,
    "start_time": "2025-01-29T16:09:39.928Z"
   },
   {
    "duration": 162,
    "start_time": "2025-01-29T16:09:39.957Z"
   },
   {
    "duration": 19,
    "start_time": "2025-01-29T16:09:40.122Z"
   },
   {
    "duration": 26,
    "start_time": "2025-01-29T16:09:40.143Z"
   },
   {
    "duration": 106,
    "start_time": "2025-01-29T16:09:40.171Z"
   },
   {
    "duration": 14,
    "start_time": "2025-01-29T16:09:40.279Z"
   },
   {
    "duration": 31,
    "start_time": "2025-01-29T16:09:40.295Z"
   },
   {
    "duration": 135,
    "start_time": "2025-01-29T16:09:40.328Z"
   },
   {
    "duration": 16,
    "start_time": "2025-01-29T16:09:40.464Z"
   },
   {
    "duration": 117,
    "start_time": "2025-01-29T16:10:15.802Z"
   },
   {
    "duration": 17,
    "start_time": "2025-01-29T16:10:24.997Z"
   },
   {
    "duration": 27,
    "start_time": "2025-01-29T16:10:31.856Z"
   },
   {
    "duration": 15,
    "start_time": "2025-01-29T16:10:32.571Z"
   },
   {
    "duration": 16,
    "start_time": "2025-01-29T16:11:32.176Z"
   },
   {
    "duration": 21,
    "start_time": "2025-01-29T16:11:42.067Z"
   },
   {
    "duration": 26,
    "start_time": "2025-01-29T16:11:44.132Z"
   },
   {
    "duration": 17,
    "start_time": "2025-01-29T16:11:44.444Z"
   },
   {
    "duration": 16,
    "start_time": "2025-01-29T16:12:42.033Z"
   },
   {
    "duration": 25,
    "start_time": "2025-01-29T16:12:49.050Z"
   },
   {
    "duration": 16,
    "start_time": "2025-01-29T16:12:50.212Z"
   },
   {
    "duration": 16,
    "start_time": "2025-01-29T16:13:05.547Z"
   },
   {
    "duration": 18,
    "start_time": "2025-01-29T16:13:20.264Z"
   },
   {
    "duration": 25,
    "start_time": "2025-01-29T16:13:22.142Z"
   },
   {
    "duration": 17,
    "start_time": "2025-01-29T16:13:22.469Z"
   },
   {
    "duration": 20,
    "start_time": "2025-01-29T16:14:44.566Z"
   },
   {
    "duration": 24,
    "start_time": "2025-01-29T16:14:52.426Z"
   },
   {
    "duration": 25,
    "start_time": "2025-01-29T16:14:55.859Z"
   },
   {
    "duration": 6,
    "start_time": "2025-01-29T16:14:57.142Z"
   },
   {
    "duration": 21,
    "start_time": "2025-01-29T16:15:00.107Z"
   },
   {
    "duration": 28,
    "start_time": "2025-01-29T16:15:00.386Z"
   },
   {
    "duration": 1221,
    "start_time": "2025-01-29T16:15:08.984Z"
   },
   {
    "duration": 185,
    "start_time": "2025-01-29T16:15:10.207Z"
   },
   {
    "duration": 31,
    "start_time": "2025-01-29T16:15:10.397Z"
   },
   {
    "duration": 98,
    "start_time": "2025-01-29T16:15:10.431Z"
   },
   {
    "duration": 12,
    "start_time": "2025-01-29T16:15:10.531Z"
   },
   {
    "duration": 70,
    "start_time": "2025-01-29T16:15:10.545Z"
   },
   {
    "duration": 43,
    "start_time": "2025-01-29T16:15:10.617Z"
   },
   {
    "duration": 49,
    "start_time": "2025-01-29T16:15:10.661Z"
   },
   {
    "duration": 24,
    "start_time": "2025-01-29T16:15:10.711Z"
   },
   {
    "duration": 170,
    "start_time": "2025-01-29T16:15:10.736Z"
   },
   {
    "duration": 19,
    "start_time": "2025-01-29T16:15:10.908Z"
   },
   {
    "duration": 30,
    "start_time": "2025-01-29T16:15:10.929Z"
   },
   {
    "duration": 249,
    "start_time": "2025-01-29T16:15:10.963Z"
   },
   {
    "duration": 21,
    "start_time": "2025-01-29T16:15:11.214Z"
   },
   {
    "duration": 35,
    "start_time": "2025-01-29T16:15:11.236Z"
   },
   {
    "duration": 39,
    "start_time": "2025-01-29T16:15:11.273Z"
   },
   {
    "duration": 27,
    "start_time": "2025-01-29T16:15:11.314Z"
   },
   {
    "duration": 23,
    "start_time": "2025-01-29T16:15:11.342Z"
   },
   {
    "duration": 20,
    "start_time": "2025-01-29T16:15:11.366Z"
   },
   {
    "duration": 172,
    "start_time": "2025-01-29T16:15:11.388Z"
   },
   {
    "duration": 18,
    "start_time": "2025-01-29T16:15:11.562Z"
   },
   {
    "duration": 22,
    "start_time": "2025-01-29T16:16:03.621Z"
   },
   {
    "duration": 1203,
    "start_time": "2025-01-29T16:16:13.199Z"
   },
   {
    "duration": 181,
    "start_time": "2025-01-29T16:16:14.405Z"
   },
   {
    "duration": 28,
    "start_time": "2025-01-29T16:16:14.587Z"
   },
   {
    "duration": 102,
    "start_time": "2025-01-29T16:16:14.617Z"
   },
   {
    "duration": 17,
    "start_time": "2025-01-29T16:16:14.723Z"
   },
   {
    "duration": 85,
    "start_time": "2025-01-29T16:16:14.742Z"
   },
   {
    "duration": 72,
    "start_time": "2025-01-29T16:16:14.830Z"
   },
   {
    "duration": 63,
    "start_time": "2025-01-29T16:16:14.904Z"
   },
   {
    "duration": 127,
    "start_time": "2025-01-29T16:16:14.968Z"
   },
   {
    "duration": 177,
    "start_time": "2025-01-29T16:16:15.096Z"
   },
   {
    "duration": 27,
    "start_time": "2025-01-29T16:16:15.276Z"
   },
   {
    "duration": 29,
    "start_time": "2025-01-29T16:16:15.305Z"
   },
   {
    "duration": 152,
    "start_time": "2025-01-29T16:16:15.335Z"
   },
   {
    "duration": 26,
    "start_time": "2025-01-29T16:16:15.489Z"
   },
   {
    "duration": 27,
    "start_time": "2025-01-29T16:16:15.517Z"
   },
   {
    "duration": 16,
    "start_time": "2025-01-29T16:16:15.546Z"
   },
   {
    "duration": 160,
    "start_time": "2025-01-29T16:16:15.563Z"
   },
   {
    "duration": 0,
    "start_time": "2025-01-29T16:16:15.725Z"
   },
   {
    "duration": 0,
    "start_time": "2025-01-29T16:16:15.726Z"
   },
   {
    "duration": 0,
    "start_time": "2025-01-29T16:16:15.727Z"
   },
   {
    "duration": 0,
    "start_time": "2025-01-29T16:16:15.729Z"
   },
   {
    "duration": 21,
    "start_time": "2025-01-29T16:16:27.521Z"
   },
   {
    "duration": 24,
    "start_time": "2025-01-29T16:17:01.381Z"
   },
   {
    "duration": 25,
    "start_time": "2025-01-29T16:17:45.151Z"
   },
   {
    "duration": 15,
    "start_time": "2025-01-29T16:18:13.892Z"
   },
   {
    "duration": 24,
    "start_time": "2025-01-29T16:18:23.543Z"
   },
   {
    "duration": 1162,
    "start_time": "2025-01-29T16:20:06.495Z"
   },
   {
    "duration": 289,
    "start_time": "2025-01-29T16:20:07.660Z"
   },
   {
    "duration": 52,
    "start_time": "2025-01-29T16:20:07.951Z"
   },
   {
    "duration": 67,
    "start_time": "2025-01-29T16:20:08.005Z"
   },
   {
    "duration": 13,
    "start_time": "2025-01-29T16:20:08.103Z"
   },
   {
    "duration": 59,
    "start_time": "2025-01-29T16:20:08.117Z"
   },
   {
    "duration": 52,
    "start_time": "2025-01-29T16:20:08.178Z"
   },
   {
    "duration": 35,
    "start_time": "2025-01-29T16:20:08.231Z"
   },
   {
    "duration": 123,
    "start_time": "2025-01-29T16:20:08.267Z"
   },
   {
    "duration": 151,
    "start_time": "2025-01-29T16:20:08.391Z"
   },
   {
    "duration": 19,
    "start_time": "2025-01-29T16:20:08.544Z"
   },
   {
    "duration": 40,
    "start_time": "2025-01-29T16:20:08.565Z"
   },
   {
    "duration": 159,
    "start_time": "2025-01-29T16:20:08.606Z"
   },
   {
    "duration": 20,
    "start_time": "2025-01-29T16:20:08.768Z"
   },
   {
    "duration": 29,
    "start_time": "2025-01-29T16:20:08.803Z"
   },
   {
    "duration": 101,
    "start_time": "2025-01-29T16:20:08.834Z"
   },
   {
    "duration": 35,
    "start_time": "2025-01-29T16:20:08.936Z"
   },
   {
    "duration": 9,
    "start_time": "2025-01-29T16:20:08.972Z"
   },
   {
    "duration": 116,
    "start_time": "2025-01-29T16:20:08.983Z"
   },
   {
    "duration": 143,
    "start_time": "2025-01-29T16:20:09.102Z"
   },
   {
    "duration": 17,
    "start_time": "2025-01-29T16:20:09.247Z"
   },
   {
    "duration": 19,
    "start_time": "2025-01-29T16:20:58.515Z"
   },
   {
    "duration": 1321,
    "start_time": "2025-01-29T16:28:57.810Z"
   },
   {
    "duration": 12,
    "start_time": "2025-01-29T16:33:08.184Z"
   },
   {
    "duration": 11,
    "start_time": "2025-01-29T16:35:05.314Z"
   },
   {
    "duration": 11,
    "start_time": "2025-01-29T16:35:11.385Z"
   },
   {
    "duration": 5,
    "start_time": "2025-01-29T16:35:22.941Z"
   },
   {
    "duration": 4,
    "start_time": "2025-01-29T16:35:28.539Z"
   },
   {
    "duration": 9,
    "start_time": "2025-01-29T17:41:46.640Z"
   },
   {
    "duration": 1194,
    "start_time": "2025-01-29T17:50:25.723Z"
   },
   {
    "duration": 33,
    "start_time": "2025-01-29T17:53:17.612Z"
   },
   {
    "duration": 3,
    "start_time": "2025-01-29T17:54:50.575Z"
   },
   {
    "duration": 30,
    "start_time": "2025-01-29T17:54:55.402Z"
   },
   {
    "duration": 29,
    "start_time": "2025-01-29T18:01:26.208Z"
   },
   {
    "duration": 4,
    "start_time": "2025-01-29T18:03:36.548Z"
   },
   {
    "duration": 29,
    "start_time": "2025-01-29T18:03:47.321Z"
   },
   {
    "duration": 6,
    "start_time": "2025-01-29T18:03:48.851Z"
   },
   {
    "duration": 1244,
    "start_time": "2025-01-29T18:04:06.409Z"
   },
   {
    "duration": 359,
    "start_time": "2025-01-29T18:04:07.655Z"
   },
   {
    "duration": 32,
    "start_time": "2025-01-29T18:04:08.016Z"
   },
   {
    "duration": 93,
    "start_time": "2025-01-29T18:04:08.050Z"
   },
   {
    "duration": 12,
    "start_time": "2025-01-29T18:04:08.145Z"
   },
   {
    "duration": 24,
    "start_time": "2025-01-29T18:04:08.158Z"
   },
   {
    "duration": 64,
    "start_time": "2025-01-29T18:04:08.183Z"
   },
   {
    "duration": 43,
    "start_time": "2025-01-29T18:04:08.249Z"
   },
   {
    "duration": 35,
    "start_time": "2025-01-29T18:04:08.302Z"
   },
   {
    "duration": 24,
    "start_time": "2025-01-29T18:04:08.339Z"
   },
   {
    "duration": 179,
    "start_time": "2025-01-29T18:04:08.365Z"
   },
   {
    "duration": 20,
    "start_time": "2025-01-29T18:04:08.545Z"
   },
   {
    "duration": 49,
    "start_time": "2025-01-29T18:04:08.566Z"
   },
   {
    "duration": 5,
    "start_time": "2025-01-29T18:04:08.617Z"
   },
   {
    "duration": 152,
    "start_time": "2025-01-29T18:04:08.623Z"
   },
   {
    "duration": 27,
    "start_time": "2025-01-29T18:04:08.777Z"
   },
   {
    "duration": 33,
    "start_time": "2025-01-29T18:04:08.805Z"
   },
   {
    "duration": 15,
    "start_time": "2025-01-29T18:04:08.840Z"
   },
   {
    "duration": 28,
    "start_time": "2025-01-29T18:04:08.856Z"
   },
   {
    "duration": 17,
    "start_time": "2025-01-29T18:04:08.886Z"
   },
   {
    "duration": 32,
    "start_time": "2025-01-29T18:04:08.904Z"
   },
   {
    "duration": 24,
    "start_time": "2025-01-29T18:04:08.938Z"
   },
   {
    "duration": 18,
    "start_time": "2025-01-29T18:04:08.964Z"
   },
   {
    "duration": 33,
    "start_time": "2025-01-29T18:04:08.983Z"
   },
   {
    "duration": 145,
    "start_time": "2025-01-29T18:04:09.017Z"
   },
   {
    "duration": 17,
    "start_time": "2025-01-29T18:04:09.164Z"
   },
   {
    "duration": 4,
    "start_time": "2025-01-29T18:04:42.715Z"
   },
   {
    "duration": 20,
    "start_time": "2025-01-29T18:05:04.173Z"
   },
   {
    "duration": 29,
    "start_time": "2025-01-29T18:05:23.174Z"
   },
   {
    "duration": 18,
    "start_time": "2025-01-29T18:05:23.991Z"
   },
   {
    "duration": 131,
    "start_time": "2025-01-29T18:05:53.446Z"
   },
   {
    "duration": 1209,
    "start_time": "2025-01-29T18:05:59.477Z"
   },
   {
    "duration": 271,
    "start_time": "2025-01-29T18:06:00.688Z"
   },
   {
    "duration": 27,
    "start_time": "2025-01-29T18:06:00.961Z"
   },
   {
    "duration": 75,
    "start_time": "2025-01-29T18:06:00.989Z"
   },
   {
    "duration": 12,
    "start_time": "2025-01-29T18:06:01.066Z"
   },
   {
    "duration": 25,
    "start_time": "2025-01-29T18:06:01.079Z"
   },
   {
    "duration": 58,
    "start_time": "2025-01-29T18:06:01.106Z"
   },
   {
    "duration": 52,
    "start_time": "2025-01-29T18:06:01.165Z"
   },
   {
    "duration": 34,
    "start_time": "2025-01-29T18:06:01.219Z"
   },
   {
    "duration": 48,
    "start_time": "2025-01-29T18:06:01.255Z"
   },
   {
    "duration": 171,
    "start_time": "2025-01-29T18:06:01.305Z"
   },
   {
    "duration": 25,
    "start_time": "2025-01-29T18:06:01.478Z"
   },
   {
    "duration": 27,
    "start_time": "2025-01-29T18:06:01.505Z"
   },
   {
    "duration": 157,
    "start_time": "2025-01-29T18:06:01.535Z"
   },
   {
    "duration": 25,
    "start_time": "2025-01-29T18:06:01.693Z"
   },
   {
    "duration": 28,
    "start_time": "2025-01-29T18:06:01.719Z"
   },
   {
    "duration": 46,
    "start_time": "2025-01-29T18:06:01.748Z"
   },
   {
    "duration": 27,
    "start_time": "2025-01-29T18:06:01.796Z"
   },
   {
    "duration": 29,
    "start_time": "2025-01-29T18:06:01.824Z"
   },
   {
    "duration": 47,
    "start_time": "2025-01-29T18:06:01.855Z"
   },
   {
    "duration": 57,
    "start_time": "2025-01-29T18:06:01.903Z"
   },
   {
    "duration": 29,
    "start_time": "2025-01-29T18:06:01.962Z"
   },
   {
    "duration": 66,
    "start_time": "2025-01-29T18:06:01.993Z"
   },
   {
    "duration": 161,
    "start_time": "2025-01-29T18:06:02.061Z"
   },
   {
    "duration": 17,
    "start_time": "2025-01-29T18:06:02.224Z"
   },
   {
    "duration": 19,
    "start_time": "2025-01-29T18:06:42.032Z"
   },
   {
    "duration": 138,
    "start_time": "2025-01-29T18:06:56.532Z"
   },
   {
    "duration": 19,
    "start_time": "2025-01-29T18:06:57.820Z"
   },
   {
    "duration": 26,
    "start_time": "2025-01-29T18:07:03.972Z"
   },
   {
    "duration": 18,
    "start_time": "2025-01-29T18:07:55.811Z"
   },
   {
    "duration": 110,
    "start_time": "2025-01-29T18:08:38.209Z"
   },
   {
    "duration": 11,
    "start_time": "2025-01-29T18:08:45.267Z"
   },
   {
    "duration": 10,
    "start_time": "2025-01-29T18:08:49.703Z"
   },
   {
    "duration": 11,
    "start_time": "2025-01-29T18:09:17.053Z"
   },
   {
    "duration": 9,
    "start_time": "2025-01-29T18:09:21.547Z"
   },
   {
    "duration": 9,
    "start_time": "2025-01-29T18:09:45.940Z"
   },
   {
    "duration": 10,
    "start_time": "2025-01-29T18:09:56.800Z"
   },
   {
    "duration": 9,
    "start_time": "2025-01-29T18:10:04.514Z"
   },
   {
    "duration": 10,
    "start_time": "2025-01-29T18:10:07.058Z"
   },
   {
    "duration": 1248,
    "start_time": "2025-01-29T18:10:13.457Z"
   },
   {
    "duration": 246,
    "start_time": "2025-01-29T18:10:14.708Z"
   },
   {
    "duration": 28,
    "start_time": "2025-01-29T18:10:14.955Z"
   },
   {
    "duration": 80,
    "start_time": "2025-01-29T18:10:14.984Z"
   },
   {
    "duration": 39,
    "start_time": "2025-01-29T18:10:15.066Z"
   },
   {
    "duration": 54,
    "start_time": "2025-01-29T18:10:15.106Z"
   },
   {
    "duration": 92,
    "start_time": "2025-01-29T18:10:15.162Z"
   },
   {
    "duration": 57,
    "start_time": "2025-01-29T18:10:15.256Z"
   },
   {
    "duration": 83,
    "start_time": "2025-01-29T18:10:15.315Z"
   },
   {
    "duration": 23,
    "start_time": "2025-01-29T18:10:15.399Z"
   },
   {
    "duration": 157,
    "start_time": "2025-01-29T18:10:15.423Z"
   },
   {
    "duration": 28,
    "start_time": "2025-01-29T18:10:15.582Z"
   },
   {
    "duration": 27,
    "start_time": "2025-01-29T18:10:15.611Z"
   },
   {
    "duration": 19,
    "start_time": "2025-01-29T18:10:15.641Z"
   },
   {
    "duration": 171,
    "start_time": "2025-01-29T18:10:15.662Z"
   },
   {
    "duration": 19,
    "start_time": "2025-01-29T18:10:15.835Z"
   },
   {
    "duration": 34,
    "start_time": "2025-01-29T18:10:15.856Z"
   },
   {
    "duration": 19,
    "start_time": "2025-01-29T18:10:15.901Z"
   },
   {
    "duration": 17,
    "start_time": "2025-01-29T18:10:15.922Z"
   },
   {
    "duration": 31,
    "start_time": "2025-01-29T18:10:15.940Z"
   },
   {
    "duration": 4,
    "start_time": "2025-01-29T18:10:15.972Z"
   },
   {
    "duration": 35,
    "start_time": "2025-01-29T18:10:16.001Z"
   },
   {
    "duration": 19,
    "start_time": "2025-01-29T18:10:16.038Z"
   },
   {
    "duration": 9,
    "start_time": "2025-01-29T18:10:16.058Z"
   },
   {
    "duration": 52,
    "start_time": "2025-01-29T18:10:16.068Z"
   },
   {
    "duration": 152,
    "start_time": "2025-01-29T18:10:16.122Z"
   },
   {
    "duration": 27,
    "start_time": "2025-01-29T18:10:16.276Z"
   },
   {
    "duration": 32,
    "start_time": "2025-01-29T18:11:06.558Z"
   },
   {
    "duration": 31,
    "start_time": "2025-01-29T18:11:10.398Z"
   },
   {
    "duration": 29,
    "start_time": "2025-01-29T18:12:52.943Z"
   },
   {
    "duration": 33,
    "start_time": "2025-01-29T18:13:30.686Z"
   },
   {
    "duration": 34,
    "start_time": "2025-01-29T18:14:12.897Z"
   },
   {
    "duration": 35,
    "start_time": "2025-01-29T18:14:25.555Z"
   },
   {
    "duration": 4,
    "start_time": "2025-01-29T18:18:59.853Z"
   },
   {
    "duration": 108,
    "start_time": "2025-01-29T18:19:06.549Z"
   },
   {
    "duration": 15,
    "start_time": "2025-01-29T18:19:13.701Z"
   },
   {
    "duration": 35,
    "start_time": "2025-01-29T18:19:23.159Z"
   },
   {
    "duration": 43,
    "start_time": "2025-01-29T18:23:12.206Z"
   },
   {
    "duration": 31,
    "start_time": "2025-01-29T18:23:25.930Z"
   },
   {
    "duration": 15,
    "start_time": "2025-01-29T18:25:59.484Z"
   },
   {
    "duration": 22,
    "start_time": "2025-01-29T18:27:13.945Z"
   },
   {
    "duration": 27,
    "start_time": "2025-01-29T18:27:26.343Z"
   },
   {
    "duration": 16,
    "start_time": "2025-01-29T18:28:12.397Z"
   },
   {
    "duration": 24,
    "start_time": "2025-01-29T18:28:21.702Z"
   },
   {
    "duration": 1227,
    "start_time": "2025-01-29T18:28:29.720Z"
   },
   {
    "duration": 301,
    "start_time": "2025-01-29T18:28:30.949Z"
   },
   {
    "duration": 30,
    "start_time": "2025-01-29T18:28:31.251Z"
   },
   {
    "duration": 75,
    "start_time": "2025-01-29T18:28:31.282Z"
   },
   {
    "duration": 12,
    "start_time": "2025-01-29T18:28:31.359Z"
   },
   {
    "duration": 32,
    "start_time": "2025-01-29T18:28:31.373Z"
   },
   {
    "duration": 72,
    "start_time": "2025-01-29T18:28:31.407Z"
   },
   {
    "duration": 52,
    "start_time": "2025-01-29T18:28:31.480Z"
   },
   {
    "duration": 36,
    "start_time": "2025-01-29T18:28:31.533Z"
   },
   {
    "duration": 47,
    "start_time": "2025-01-29T18:28:31.571Z"
   },
   {
    "duration": 231,
    "start_time": "2025-01-29T18:28:31.620Z"
   },
   {
    "duration": 19,
    "start_time": "2025-01-29T18:28:31.852Z"
   },
   {
    "duration": 44,
    "start_time": "2025-01-29T18:28:31.873Z"
   },
   {
    "duration": 22,
    "start_time": "2025-01-29T18:28:31.920Z"
   },
   {
    "duration": 167,
    "start_time": "2025-01-29T18:28:31.943Z"
   },
   {
    "duration": 16,
    "start_time": "2025-01-29T18:28:32.112Z"
   },
   {
    "duration": 21,
    "start_time": "2025-01-29T18:28:32.130Z"
   },
   {
    "duration": 18,
    "start_time": "2025-01-29T18:28:32.153Z"
   },
   {
    "duration": 135,
    "start_time": "2025-01-29T18:28:32.173Z"
   },
   {
    "duration": 0,
    "start_time": "2025-01-29T18:28:32.310Z"
   },
   {
    "duration": 0,
    "start_time": "2025-01-29T18:28:32.311Z"
   },
   {
    "duration": 0,
    "start_time": "2025-01-29T18:28:32.312Z"
   },
   {
    "duration": 0,
    "start_time": "2025-01-29T18:28:32.313Z"
   },
   {
    "duration": 0,
    "start_time": "2025-01-29T18:28:32.314Z"
   },
   {
    "duration": 0,
    "start_time": "2025-01-29T18:28:32.315Z"
   },
   {
    "duration": 0,
    "start_time": "2025-01-29T18:28:32.316Z"
   },
   {
    "duration": 0,
    "start_time": "2025-01-29T18:28:32.317Z"
   },
   {
    "duration": 20,
    "start_time": "2025-01-29T18:29:15.838Z"
   },
   {
    "duration": 24,
    "start_time": "2025-01-29T18:29:44.086Z"
   },
   {
    "duration": 1341,
    "start_time": "2025-01-29T18:29:45.815Z"
   },
   {
    "duration": 0,
    "start_time": "2025-01-29T18:29:47.158Z"
   },
   {
    "duration": 15,
    "start_time": "2025-01-29T18:30:05.693Z"
   },
   {
    "duration": 1184,
    "start_time": "2025-01-29T18:30:25.139Z"
   },
   {
    "duration": 1144,
    "start_time": "2025-01-29T18:30:51.539Z"
   },
   {
    "duration": 50,
    "start_time": "2025-01-29T18:32:56.502Z"
   },
   {
    "duration": 18,
    "start_time": "2025-01-29T18:34:23.738Z"
   },
   {
    "duration": 18,
    "start_time": "2025-01-29T18:34:30.790Z"
   },
   {
    "duration": 26,
    "start_time": "2025-01-29T18:34:57.869Z"
   },
   {
    "duration": 26,
    "start_time": "2025-01-29T18:35:52.062Z"
   },
   {
    "duration": 15,
    "start_time": "2025-01-29T18:35:58.628Z"
   },
   {
    "duration": 15,
    "start_time": "2025-01-29T18:36:16.669Z"
   },
   {
    "duration": 22,
    "start_time": "2025-01-29T18:36:45.265Z"
   },
   {
    "duration": 29,
    "start_time": "2025-01-29T18:37:34.908Z"
   },
   {
    "duration": 28,
    "start_time": "2025-01-29T18:38:09.758Z"
   },
   {
    "duration": 19,
    "start_time": "2025-01-29T18:38:11.926Z"
   },
   {
    "duration": 20,
    "start_time": "2025-01-29T18:38:13.064Z"
   },
   {
    "duration": 19,
    "start_time": "2025-01-29T18:38:16.783Z"
   },
   {
    "duration": 20,
    "start_time": "2025-01-29T18:38:18.086Z"
   },
   {
    "duration": 30,
    "start_time": "2025-01-29T18:38:19.750Z"
   },
   {
    "duration": 1357,
    "start_time": "2025-01-29T18:38:21.232Z"
   },
   {
    "duration": 1208,
    "start_time": "2025-01-29T18:38:51.206Z"
   },
   {
    "duration": 274,
    "start_time": "2025-01-29T18:38:52.416Z"
   },
   {
    "duration": 28,
    "start_time": "2025-01-29T18:38:52.692Z"
   },
   {
    "duration": 86,
    "start_time": "2025-01-29T18:38:52.721Z"
   },
   {
    "duration": 12,
    "start_time": "2025-01-29T18:38:52.809Z"
   },
   {
    "duration": 17,
    "start_time": "2025-01-29T18:38:52.822Z"
   },
   {
    "duration": 48,
    "start_time": "2025-01-29T18:38:52.840Z"
   },
   {
    "duration": 57,
    "start_time": "2025-01-29T18:38:52.890Z"
   },
   {
    "duration": 34,
    "start_time": "2025-01-29T18:38:52.949Z"
   },
   {
    "duration": 22,
    "start_time": "2025-01-29T18:38:53.001Z"
   },
   {
    "duration": 168,
    "start_time": "2025-01-29T18:38:53.025Z"
   },
   {
    "duration": 24,
    "start_time": "2025-01-29T18:38:53.194Z"
   },
   {
    "duration": 28,
    "start_time": "2025-01-29T18:38:53.219Z"
   },
   {
    "duration": 18,
    "start_time": "2025-01-29T18:38:53.250Z"
   },
   {
    "duration": 168,
    "start_time": "2025-01-29T18:38:53.269Z"
   },
   {
    "duration": 18,
    "start_time": "2025-01-29T18:38:53.438Z"
   },
   {
    "duration": 45,
    "start_time": "2025-01-29T18:38:53.458Z"
   },
   {
    "duration": 17,
    "start_time": "2025-01-29T18:38:53.505Z"
   },
   {
    "duration": 16,
    "start_time": "2025-01-29T18:38:53.524Z"
   },
   {
    "duration": 23,
    "start_time": "2025-01-29T18:38:53.541Z"
   },
   {
    "duration": 4,
    "start_time": "2025-01-29T18:38:53.565Z"
   },
   {
    "duration": 62,
    "start_time": "2025-01-29T18:38:53.570Z"
   },
   {
    "duration": 73,
    "start_time": "2025-01-29T18:38:53.633Z"
   },
   {
    "duration": 10,
    "start_time": "2025-01-29T18:38:53.708Z"
   },
   {
    "duration": 22,
    "start_time": "2025-01-29T18:38:53.719Z"
   },
   {
    "duration": 149,
    "start_time": "2025-01-29T18:38:53.743Z"
   },
   {
    "duration": 19,
    "start_time": "2025-01-29T18:38:53.894Z"
   },
   {
    "duration": 128,
    "start_time": "2025-01-29T18:40:34.414Z"
   },
   {
    "duration": 34,
    "start_time": "2025-01-29T18:40:58.559Z"
   },
   {
    "duration": 31,
    "start_time": "2025-01-29T18:41:20.462Z"
   },
   {
    "duration": 1379,
    "start_time": "2025-01-30T15:21:11.697Z"
   },
   {
    "duration": 335,
    "start_time": "2025-01-30T15:21:13.078Z"
   },
   {
    "duration": 27,
    "start_time": "2025-01-30T15:21:13.416Z"
   },
   {
    "duration": 81,
    "start_time": "2025-01-30T15:21:13.445Z"
   },
   {
    "duration": 11,
    "start_time": "2025-01-30T15:21:13.528Z"
   },
   {
    "duration": 7,
    "start_time": "2025-01-30T15:21:13.541Z"
   },
   {
    "duration": 60,
    "start_time": "2025-01-30T15:21:13.550Z"
   },
   {
    "duration": 40,
    "start_time": "2025-01-30T15:21:13.611Z"
   },
   {
    "duration": 31,
    "start_time": "2025-01-30T15:21:13.653Z"
   },
   {
    "duration": 41,
    "start_time": "2025-01-30T15:21:13.686Z"
   },
   {
    "duration": 152,
    "start_time": "2025-01-30T15:21:13.728Z"
   },
   {
    "duration": 28,
    "start_time": "2025-01-30T15:21:13.882Z"
   },
   {
    "duration": 26,
    "start_time": "2025-01-30T15:21:13.912Z"
   },
   {
    "duration": 18,
    "start_time": "2025-01-30T15:21:13.940Z"
   },
   {
    "duration": 152,
    "start_time": "2025-01-30T15:21:13.959Z"
   },
   {
    "duration": 18,
    "start_time": "2025-01-30T15:21:14.112Z"
   },
   {
    "duration": 27,
    "start_time": "2025-01-30T15:21:14.131Z"
   },
   {
    "duration": 16,
    "start_time": "2025-01-30T15:21:14.159Z"
   },
   {
    "duration": 36,
    "start_time": "2025-01-30T15:21:14.177Z"
   },
   {
    "duration": 22,
    "start_time": "2025-01-30T15:21:14.215Z"
   },
   {
    "duration": 3,
    "start_time": "2025-01-30T15:21:14.238Z"
   },
   {
    "duration": 38,
    "start_time": "2025-01-30T15:21:14.242Z"
   },
   {
    "duration": 38,
    "start_time": "2025-01-30T15:21:14.282Z"
   },
   {
    "duration": 7,
    "start_time": "2025-01-30T15:21:14.321Z"
   },
   {
    "duration": 17,
    "start_time": "2025-01-30T15:21:14.329Z"
   },
   {
    "duration": 147,
    "start_time": "2025-01-30T15:21:14.348Z"
   },
   {
    "duration": 21,
    "start_time": "2025-01-30T15:21:14.497Z"
   },
   {
    "duration": 6,
    "start_time": "2025-01-30T15:25:29.365Z"
   },
   {
    "duration": 4,
    "start_time": "2025-01-30T15:25:35.508Z"
   },
   {
    "duration": 30,
    "start_time": "2025-01-30T15:26:11.863Z"
   },
   {
    "duration": 58,
    "start_time": "2025-01-30T15:31:14.884Z"
   },
   {
    "duration": 19,
    "start_time": "2025-01-30T15:39:18.061Z"
   },
   {
    "duration": 125,
    "start_time": "2025-01-30T15:41:07.318Z"
   },
   {
    "duration": 22,
    "start_time": "2025-01-30T15:41:13.829Z"
   },
   {
    "duration": 7,
    "start_time": "2025-01-30T15:42:17.459Z"
   },
   {
    "duration": 5,
    "start_time": "2025-01-30T15:48:00.898Z"
   },
   {
    "duration": 7,
    "start_time": "2025-01-30T15:48:19.174Z"
   },
   {
    "duration": 7,
    "start_time": "2025-01-30T15:48:28.502Z"
   },
   {
    "duration": 7,
    "start_time": "2025-01-30T15:51:22.296Z"
   },
   {
    "duration": 4,
    "start_time": "2025-01-30T15:51:38.551Z"
   },
   {
    "duration": 8,
    "start_time": "2025-01-30T15:52:00.142Z"
   },
   {
    "duration": 22,
    "start_time": "2025-01-30T15:56:36.618Z"
   },
   {
    "duration": 7,
    "start_time": "2025-01-30T15:57:45.561Z"
   },
   {
    "duration": 8,
    "start_time": "2025-01-30T15:58:44.758Z"
   },
   {
    "duration": 23,
    "start_time": "2025-01-30T15:58:48.129Z"
   },
   {
    "duration": 8,
    "start_time": "2025-01-30T15:58:50.431Z"
   },
   {
    "duration": 43,
    "start_time": "2025-01-30T16:03:57.185Z"
   },
   {
    "duration": 43,
    "start_time": "2025-01-30T16:04:02.771Z"
   },
   {
    "duration": 39,
    "start_time": "2025-01-30T16:05:03.845Z"
   },
   {
    "duration": 6,
    "start_time": "2025-01-30T16:07:15.927Z"
   },
   {
    "duration": 19,
    "start_time": "2025-01-30T16:07:25.455Z"
   },
   {
    "duration": 22,
    "start_time": "2025-01-30T16:07:35.760Z"
   },
   {
    "duration": 18,
    "start_time": "2025-01-30T16:09:33.435Z"
   },
   {
    "duration": 1154,
    "start_time": "2025-01-30T16:09:39.942Z"
   },
   {
    "duration": 258,
    "start_time": "2025-01-30T16:09:41.099Z"
   },
   {
    "duration": 27,
    "start_time": "2025-01-30T16:09:41.359Z"
   },
   {
    "duration": 96,
    "start_time": "2025-01-30T16:09:41.388Z"
   },
   {
    "duration": 12,
    "start_time": "2025-01-30T16:09:41.486Z"
   },
   {
    "duration": 55,
    "start_time": "2025-01-30T16:09:41.500Z"
   },
   {
    "duration": 59,
    "start_time": "2025-01-30T16:09:41.557Z"
   },
   {
    "duration": 46,
    "start_time": "2025-01-30T16:09:41.618Z"
   },
   {
    "duration": 161,
    "start_time": "2025-01-30T16:09:41.665Z"
   },
   {
    "duration": 18,
    "start_time": "2025-01-30T16:09:41.828Z"
   },
   {
    "duration": 26,
    "start_time": "2025-01-30T16:09:41.848Z"
   },
   {
    "duration": 158,
    "start_time": "2025-01-30T16:09:41.876Z"
   },
   {
    "duration": 18,
    "start_time": "2025-01-30T16:09:42.036Z"
   },
   {
    "duration": 25,
    "start_time": "2025-01-30T16:09:42.056Z"
   },
   {
    "duration": 39,
    "start_time": "2025-01-30T16:09:42.083Z"
   },
   {
    "duration": 45,
    "start_time": "2025-01-30T16:09:42.123Z"
   },
   {
    "duration": 3,
    "start_time": "2025-01-30T16:09:42.170Z"
   },
   {
    "duration": 30,
    "start_time": "2025-01-30T16:09:42.175Z"
   },
   {
    "duration": 63,
    "start_time": "2025-01-30T16:09:42.208Z"
   },
   {
    "duration": 21,
    "start_time": "2025-01-30T16:09:42.273Z"
   },
   {
    "duration": 33,
    "start_time": "2025-01-30T16:09:42.310Z"
   },
   {
    "duration": 121,
    "start_time": "2025-01-30T16:09:42.345Z"
   },
   {
    "duration": 0,
    "start_time": "2025-01-30T16:09:42.468Z"
   },
   {
    "duration": 0,
    "start_time": "2025-01-30T16:09:42.469Z"
   },
   {
    "duration": 0,
    "start_time": "2025-01-30T16:09:42.470Z"
   },
   {
    "duration": 0,
    "start_time": "2025-01-30T16:09:42.471Z"
   },
   {
    "duration": 0,
    "start_time": "2025-01-30T16:09:42.473Z"
   },
   {
    "duration": 0,
    "start_time": "2025-01-30T16:09:42.474Z"
   },
   {
    "duration": 13,
    "start_time": "2025-01-30T16:23:16.697Z"
   },
   {
    "duration": 4,
    "start_time": "2025-01-30T16:23:26.160Z"
   },
   {
    "duration": 20,
    "start_time": "2025-01-30T16:23:35.215Z"
   },
   {
    "duration": 23,
    "start_time": "2025-01-30T16:23:45.550Z"
   },
   {
    "duration": 1171,
    "start_time": "2025-01-30T16:23:53.287Z"
   },
   {
    "duration": 252,
    "start_time": "2025-01-30T16:23:54.461Z"
   },
   {
    "duration": 29,
    "start_time": "2025-01-30T16:23:54.715Z"
   },
   {
    "duration": 84,
    "start_time": "2025-01-30T16:23:54.746Z"
   },
   {
    "duration": 10,
    "start_time": "2025-01-30T16:23:54.832Z"
   },
   {
    "duration": 54,
    "start_time": "2025-01-30T16:23:54.844Z"
   },
   {
    "duration": 45,
    "start_time": "2025-01-30T16:23:54.909Z"
   },
   {
    "duration": 54,
    "start_time": "2025-01-30T16:23:54.955Z"
   },
   {
    "duration": 150,
    "start_time": "2025-01-30T16:23:55.011Z"
   },
   {
    "duration": 18,
    "start_time": "2025-01-30T16:23:55.163Z"
   },
   {
    "duration": 44,
    "start_time": "2025-01-30T16:23:55.183Z"
   },
   {
    "duration": 145,
    "start_time": "2025-01-30T16:23:55.228Z"
   },
   {
    "duration": 18,
    "start_time": "2025-01-30T16:23:55.374Z"
   },
   {
    "duration": 56,
    "start_time": "2025-01-30T16:23:55.393Z"
   },
   {
    "duration": 48,
    "start_time": "2025-01-30T16:23:55.450Z"
   },
   {
    "duration": 22,
    "start_time": "2025-01-30T16:23:55.499Z"
   },
   {
    "duration": 4,
    "start_time": "2025-01-30T16:23:55.522Z"
   },
   {
    "duration": 39,
    "start_time": "2025-01-30T16:23:55.527Z"
   },
   {
    "duration": 66,
    "start_time": "2025-01-30T16:23:55.568Z"
   },
   {
    "duration": 19,
    "start_time": "2025-01-30T16:23:55.636Z"
   },
   {
    "duration": 26,
    "start_time": "2025-01-30T16:23:55.656Z"
   },
   {
    "duration": 42,
    "start_time": "2025-01-30T16:23:55.683Z"
   },
   {
    "duration": 6,
    "start_time": "2025-01-30T16:23:55.726Z"
   },
   {
    "duration": 25,
    "start_time": "2025-01-30T16:23:55.734Z"
   },
   {
    "duration": 6,
    "start_time": "2025-01-30T16:23:55.761Z"
   },
   {
    "duration": 29,
    "start_time": "2025-01-30T16:23:55.769Z"
   },
   {
    "duration": 22,
    "start_time": "2025-01-30T16:23:55.800Z"
   },
   {
    "duration": 131,
    "start_time": "2025-01-30T16:23:55.824Z"
   },
   {
    "duration": 21,
    "start_time": "2025-01-30T16:29:39.256Z"
   },
   {
    "duration": 38,
    "start_time": "2025-01-30T16:29:46.104Z"
   },
   {
    "duration": 1323,
    "start_time": "2025-01-30T16:30:25.500Z"
   },
   {
    "duration": 240,
    "start_time": "2025-01-30T16:30:26.825Z"
   },
   {
    "duration": 48,
    "start_time": "2025-01-30T16:30:27.067Z"
   },
   {
    "duration": 117,
    "start_time": "2025-01-30T16:30:27.117Z"
   },
   {
    "duration": 16,
    "start_time": "2025-01-30T16:30:27.237Z"
   },
   {
    "duration": 66,
    "start_time": "2025-01-30T16:30:27.255Z"
   },
   {
    "duration": 44,
    "start_time": "2025-01-30T16:30:27.323Z"
   },
   {
    "duration": 63,
    "start_time": "2025-01-30T16:30:27.369Z"
   },
   {
    "duration": 160,
    "start_time": "2025-01-30T16:30:27.434Z"
   },
   {
    "duration": 28,
    "start_time": "2025-01-30T16:30:27.595Z"
   },
   {
    "duration": 28,
    "start_time": "2025-01-30T16:30:27.625Z"
   },
   {
    "duration": 158,
    "start_time": "2025-01-30T16:30:27.654Z"
   },
   {
    "duration": 28,
    "start_time": "2025-01-30T16:30:27.815Z"
   },
   {
    "duration": 26,
    "start_time": "2025-01-30T16:30:27.846Z"
   },
   {
    "duration": 37,
    "start_time": "2025-01-30T16:30:27.874Z"
   },
   {
    "duration": 37,
    "start_time": "2025-01-30T16:30:27.913Z"
   },
   {
    "duration": 4,
    "start_time": "2025-01-30T16:30:27.952Z"
   },
   {
    "duration": 66,
    "start_time": "2025-01-30T16:30:27.958Z"
   },
   {
    "duration": 70,
    "start_time": "2025-01-30T16:30:28.026Z"
   },
   {
    "duration": 31,
    "start_time": "2025-01-30T16:30:28.110Z"
   },
   {
    "duration": 20,
    "start_time": "2025-01-30T16:30:28.143Z"
   },
   {
    "duration": 47,
    "start_time": "2025-01-30T16:30:28.164Z"
   },
   {
    "duration": 28,
    "start_time": "2025-01-30T16:30:28.213Z"
   },
   {
    "duration": 9,
    "start_time": "2025-01-30T16:30:28.244Z"
   },
   {
    "duration": 29,
    "start_time": "2025-01-30T16:30:28.255Z"
   },
   {
    "duration": 25,
    "start_time": "2025-01-30T16:30:28.286Z"
   },
   {
    "duration": 13,
    "start_time": "2025-01-30T16:30:28.312Z"
   },
   {
    "duration": 26,
    "start_time": "2025-01-30T16:30:28.326Z"
   },
   {
    "duration": 145,
    "start_time": "2025-01-30T16:30:28.354Z"
   },
   {
    "duration": 13,
    "start_time": "2025-01-30T16:31:27.422Z"
   },
   {
    "duration": 4,
    "start_time": "2025-01-30T16:42:47.162Z"
   },
   {
    "duration": 30,
    "start_time": "2025-01-30T16:42:47.795Z"
   },
   {
    "duration": 6,
    "start_time": "2025-01-30T16:43:07.670Z"
   },
   {
    "duration": 23,
    "start_time": "2025-01-30T16:43:08.358Z"
   },
   {
    "duration": 8,
    "start_time": "2025-01-30T16:43:18.868Z"
   },
   {
    "duration": 28,
    "start_time": "2025-01-30T16:43:19.711Z"
   },
   {
    "duration": 125,
    "start_time": "2025-01-30T16:43:34.058Z"
   },
   {
    "duration": 21,
    "start_time": "2025-01-30T16:44:28.254Z"
   },
   {
    "duration": 4,
    "start_time": "2025-01-30T16:46:11.524Z"
   },
   {
    "duration": 18,
    "start_time": "2025-01-30T16:46:19.345Z"
   },
   {
    "duration": 1145,
    "start_time": "2025-01-30T16:48:15.861Z"
   },
   {
    "duration": 313,
    "start_time": "2025-01-30T16:48:17.010Z"
   },
   {
    "duration": 29,
    "start_time": "2025-01-30T16:48:17.325Z"
   },
   {
    "duration": 89,
    "start_time": "2025-01-30T16:48:17.355Z"
   },
   {
    "duration": 11,
    "start_time": "2025-01-30T16:48:17.446Z"
   },
   {
    "duration": 65,
    "start_time": "2025-01-30T16:48:17.459Z"
   },
   {
    "duration": 43,
    "start_time": "2025-01-30T16:48:17.526Z"
   },
   {
    "duration": 57,
    "start_time": "2025-01-30T16:48:17.571Z"
   },
   {
    "duration": 155,
    "start_time": "2025-01-30T16:48:17.629Z"
   },
   {
    "duration": 27,
    "start_time": "2025-01-30T16:48:17.785Z"
   },
   {
    "duration": 152,
    "start_time": "2025-01-30T16:48:17.814Z"
   },
   {
    "duration": 20,
    "start_time": "2025-01-30T16:48:17.968Z"
   },
   {
    "duration": 37,
    "start_time": "2025-01-30T16:48:17.989Z"
   },
   {
    "duration": 15,
    "start_time": "2025-01-30T16:48:18.029Z"
   },
   {
    "duration": 31,
    "start_time": "2025-01-30T16:48:18.045Z"
   },
   {
    "duration": 3,
    "start_time": "2025-01-30T16:48:18.078Z"
   },
   {
    "duration": 47,
    "start_time": "2025-01-30T16:48:18.082Z"
   },
   {
    "duration": 57,
    "start_time": "2025-01-30T16:48:18.130Z"
   },
   {
    "duration": 37,
    "start_time": "2025-01-30T16:48:18.188Z"
   },
   {
    "duration": 29,
    "start_time": "2025-01-30T16:48:18.226Z"
   },
   {
    "duration": 24,
    "start_time": "2025-01-30T16:48:18.256Z"
   },
   {
    "duration": 7,
    "start_time": "2025-01-30T16:48:18.281Z"
   },
   {
    "duration": 38,
    "start_time": "2025-01-30T16:48:18.289Z"
   },
   {
    "duration": 12,
    "start_time": "2025-01-30T16:48:18.328Z"
   },
   {
    "duration": 9,
    "start_time": "2025-01-30T16:48:18.341Z"
   },
   {
    "duration": 29,
    "start_time": "2025-01-30T16:48:18.352Z"
   },
   {
    "duration": 128,
    "start_time": "2025-01-30T16:48:18.383Z"
   },
   {
    "duration": 23,
    "start_time": "2025-01-30T16:48:18.512Z"
   },
   {
    "duration": 30,
    "start_time": "2025-01-30T16:56:38.869Z"
   },
   {
    "duration": 1171,
    "start_time": "2025-01-30T16:56:51.656Z"
   },
   {
    "duration": 274,
    "start_time": "2025-01-30T16:56:52.829Z"
   },
   {
    "duration": 28,
    "start_time": "2025-01-30T16:56:53.105Z"
   },
   {
    "duration": 82,
    "start_time": "2025-01-30T16:56:53.135Z"
   },
   {
    "duration": 11,
    "start_time": "2025-01-30T16:56:53.219Z"
   },
   {
    "duration": 48,
    "start_time": "2025-01-30T16:56:53.231Z"
   },
   {
    "duration": 51,
    "start_time": "2025-01-30T16:56:53.281Z"
   },
   {
    "duration": 38,
    "start_time": "2025-01-30T16:56:53.333Z"
   },
   {
    "duration": 160,
    "start_time": "2025-01-30T16:56:53.373Z"
   },
   {
    "duration": 18,
    "start_time": "2025-01-30T16:56:53.535Z"
   },
   {
    "duration": 162,
    "start_time": "2025-01-30T16:56:53.555Z"
   },
   {
    "duration": 18,
    "start_time": "2025-01-30T16:56:53.719Z"
   },
   {
    "duration": 25,
    "start_time": "2025-01-30T16:56:53.738Z"
   },
   {
    "duration": 15,
    "start_time": "2025-01-30T16:56:53.766Z"
   },
   {
    "duration": 50,
    "start_time": "2025-01-30T16:56:53.782Z"
   },
   {
    "duration": 3,
    "start_time": "2025-01-30T16:56:53.833Z"
   },
   {
    "duration": 30,
    "start_time": "2025-01-30T16:56:53.838Z"
   },
   {
    "duration": 75,
    "start_time": "2025-01-30T16:56:53.869Z"
   },
   {
    "duration": 17,
    "start_time": "2025-01-30T16:56:53.946Z"
   },
   {
    "duration": 26,
    "start_time": "2025-01-30T16:56:53.965Z"
   },
   {
    "duration": 23,
    "start_time": "2025-01-30T16:56:54.009Z"
   },
   {
    "duration": 8,
    "start_time": "2025-01-30T16:56:54.033Z"
   },
   {
    "duration": 22,
    "start_time": "2025-01-30T16:56:54.043Z"
   },
   {
    "duration": 14,
    "start_time": "2025-01-30T16:56:54.066Z"
   },
   {
    "duration": 28,
    "start_time": "2025-01-30T16:56:54.082Z"
   },
   {
    "duration": 24,
    "start_time": "2025-01-30T16:56:54.111Z"
   },
   {
    "duration": 128,
    "start_time": "2025-01-30T16:56:54.136Z"
   },
   {
    "duration": 22,
    "start_time": "2025-01-30T16:56:54.266Z"
   },
   {
    "duration": 15,
    "start_time": "2025-01-30T16:59:51.693Z"
   },
   {
    "duration": 14,
    "start_time": "2025-01-30T17:00:26.965Z"
   },
   {
    "duration": 23,
    "start_time": "2025-01-30T17:05:13.882Z"
   },
   {
    "duration": 26,
    "start_time": "2025-01-30T17:06:55.403Z"
   },
   {
    "duration": 120,
    "start_time": "2025-01-30T17:07:05.392Z"
   },
   {
    "duration": 24,
    "start_time": "2025-01-30T17:07:15.904Z"
   },
   {
    "duration": 26,
    "start_time": "2025-01-30T17:07:29.438Z"
   },
   {
    "duration": 14,
    "start_time": "2025-01-30T17:07:53.852Z"
   },
   {
    "duration": 21,
    "start_time": "2025-01-30T17:08:11.573Z"
   },
   {
    "duration": 17,
    "start_time": "2025-01-30T17:12:32.028Z"
   },
   {
    "duration": 17,
    "start_time": "2025-01-30T17:12:43.754Z"
   },
   {
    "duration": 22,
    "start_time": "2025-01-30T17:13:01.267Z"
   },
   {
    "duration": 25,
    "start_time": "2025-01-30T17:13:11.886Z"
   },
   {
    "duration": 27,
    "start_time": "2025-01-30T17:14:50.966Z"
   },
   {
    "duration": 27,
    "start_time": "2025-01-30T17:15:04.721Z"
   },
   {
    "duration": 25,
    "start_time": "2025-01-30T17:15:11.843Z"
   },
   {
    "duration": 26,
    "start_time": "2025-01-30T17:15:45.889Z"
   },
   {
    "duration": 25,
    "start_time": "2025-01-30T17:16:30.661Z"
   },
   {
    "duration": 18,
    "start_time": "2025-01-30T17:16:52.097Z"
   },
   {
    "duration": 112,
    "start_time": "2025-01-30T17:18:58.351Z"
   },
   {
    "duration": 8,
    "start_time": "2025-01-30T17:19:35.420Z"
   },
   {
    "duration": 8,
    "start_time": "2025-01-30T17:19:51.637Z"
   },
   {
    "duration": 25,
    "start_time": "2025-01-30T17:20:59.210Z"
   },
   {
    "duration": 20,
    "start_time": "2025-01-30T17:22:23.645Z"
   },
   {
    "duration": 21,
    "start_time": "2025-01-30T17:22:58.457Z"
   },
   {
    "duration": 21,
    "start_time": "2025-01-30T17:23:06.213Z"
   },
   {
    "duration": 19,
    "start_time": "2025-01-30T17:23:35.619Z"
   },
   {
    "duration": 25,
    "start_time": "2025-01-30T17:25:57.295Z"
   },
   {
    "duration": 28,
    "start_time": "2025-01-30T17:26:16.664Z"
   },
   {
    "duration": 23,
    "start_time": "2025-01-30T17:26:21.555Z"
   },
   {
    "duration": 25,
    "start_time": "2025-01-30T17:26:31.054Z"
   },
   {
    "duration": 23,
    "start_time": "2025-01-30T17:27:39.413Z"
   },
   {
    "duration": 26,
    "start_time": "2025-01-30T17:29:03.571Z"
   },
   {
    "duration": 26,
    "start_time": "2025-01-30T17:29:26.005Z"
   },
   {
    "duration": 1204,
    "start_time": "2025-01-30T17:29:41.468Z"
   },
   {
    "duration": 286,
    "start_time": "2025-01-30T17:29:42.673Z"
   },
   {
    "duration": 27,
    "start_time": "2025-01-30T17:29:42.961Z"
   },
   {
    "duration": 61,
    "start_time": "2025-01-30T17:29:43.010Z"
   },
   {
    "duration": 35,
    "start_time": "2025-01-30T17:29:43.074Z"
   },
   {
    "duration": 46,
    "start_time": "2025-01-30T17:29:43.111Z"
   },
   {
    "duration": 58,
    "start_time": "2025-01-30T17:29:43.159Z"
   },
   {
    "duration": 43,
    "start_time": "2025-01-30T17:29:43.219Z"
   },
   {
    "duration": 169,
    "start_time": "2025-01-30T17:29:43.264Z"
   },
   {
    "duration": 18,
    "start_time": "2025-01-30T17:29:43.435Z"
   },
   {
    "duration": 157,
    "start_time": "2025-01-30T17:29:43.454Z"
   },
   {
    "duration": 15,
    "start_time": "2025-01-30T17:29:43.612Z"
   },
   {
    "duration": 31,
    "start_time": "2025-01-30T17:29:43.628Z"
   },
   {
    "duration": 49,
    "start_time": "2025-01-30T17:29:43.662Z"
   },
   {
    "duration": 32,
    "start_time": "2025-01-30T17:29:43.712Z"
   },
   {
    "duration": 26,
    "start_time": "2025-01-30T17:29:43.746Z"
   },
   {
    "duration": 1874,
    "start_time": "2025-01-30T17:29:43.774Z"
   },
   {
    "duration": 0,
    "start_time": "2025-01-30T17:29:45.651Z"
   },
   {
    "duration": 0,
    "start_time": "2025-01-30T17:29:45.653Z"
   },
   {
    "duration": 0,
    "start_time": "2025-01-30T17:29:45.654Z"
   },
   {
    "duration": 0,
    "start_time": "2025-01-30T17:29:45.656Z"
   },
   {
    "duration": 0,
    "start_time": "2025-01-30T17:29:45.659Z"
   },
   {
    "duration": 0,
    "start_time": "2025-01-30T17:29:45.660Z"
   },
   {
    "duration": 0,
    "start_time": "2025-01-30T17:29:45.661Z"
   },
   {
    "duration": 0,
    "start_time": "2025-01-30T17:29:45.663Z"
   },
   {
    "duration": 0,
    "start_time": "2025-01-30T17:29:45.664Z"
   },
   {
    "duration": 0,
    "start_time": "2025-01-30T17:29:45.665Z"
   },
   {
    "duration": 0,
    "start_time": "2025-01-30T17:29:45.666Z"
   },
   {
    "duration": 0,
    "start_time": "2025-01-30T17:29:45.667Z"
   },
   {
    "duration": 24,
    "start_time": "2025-01-30T17:30:56.860Z"
   },
   {
    "duration": 101,
    "start_time": "2025-01-30T17:31:18.981Z"
   },
   {
    "duration": 26,
    "start_time": "2025-01-30T17:31:27.070Z"
   },
   {
    "duration": 26,
    "start_time": "2025-01-30T17:31:51.520Z"
   },
   {
    "duration": 19,
    "start_time": "2025-01-30T17:32:45.639Z"
   },
   {
    "duration": 39,
    "start_time": "2025-01-30T17:33:26.506Z"
   },
   {
    "duration": 24,
    "start_time": "2025-01-30T17:34:03.743Z"
   },
   {
    "duration": 21,
    "start_time": "2025-01-30T17:35:14.086Z"
   },
   {
    "duration": 25,
    "start_time": "2025-01-30T17:35:28.569Z"
   },
   {
    "duration": 30,
    "start_time": "2025-01-30T17:35:41.203Z"
   },
   {
    "duration": 25,
    "start_time": "2025-01-30T17:36:16.158Z"
   },
   {
    "duration": 22,
    "start_time": "2025-01-30T17:36:20.717Z"
   },
   {
    "duration": 23,
    "start_time": "2025-01-30T17:36:43.409Z"
   },
   {
    "duration": 26,
    "start_time": "2025-01-30T17:37:17.461Z"
   },
   {
    "duration": 23,
    "start_time": "2025-01-30T17:37:28.812Z"
   },
   {
    "duration": 24,
    "start_time": "2025-01-30T17:38:43.637Z"
   },
   {
    "duration": 26,
    "start_time": "2025-01-30T17:38:57.815Z"
   },
   {
    "duration": 24,
    "start_time": "2025-01-30T17:39:27.522Z"
   },
   {
    "duration": 26,
    "start_time": "2025-01-30T17:40:48.586Z"
   },
   {
    "duration": 28,
    "start_time": "2025-01-30T17:42:15.176Z"
   },
   {
    "duration": 24,
    "start_time": "2025-01-30T17:43:17.792Z"
   },
   {
    "duration": 26,
    "start_time": "2025-01-30T17:43:23.159Z"
   },
   {
    "duration": 25,
    "start_time": "2025-01-30T17:43:25.333Z"
   },
   {
    "duration": 10,
    "start_time": "2025-01-30T17:44:28.845Z"
   },
   {
    "duration": 18,
    "start_time": "2025-01-30T17:44:33.018Z"
   },
   {
    "duration": 20,
    "start_time": "2025-01-30T17:45:19.962Z"
   },
   {
    "duration": 23,
    "start_time": "2025-01-30T17:45:22.899Z"
   },
   {
    "duration": 9,
    "start_time": "2025-01-30T17:45:33.064Z"
   },
   {
    "duration": 13,
    "start_time": "2025-01-30T17:45:36.787Z"
   },
   {
    "duration": 22,
    "start_time": "2025-01-30T17:45:38.757Z"
   },
   {
    "duration": 23,
    "start_time": "2025-01-30T17:45:41.113Z"
   },
   {
    "duration": 17,
    "start_time": "2025-01-30T17:45:44.436Z"
   },
   {
    "duration": 25,
    "start_time": "2025-01-30T17:46:58.580Z"
   },
   {
    "duration": 27,
    "start_time": "2025-01-30T17:47:56.722Z"
   },
   {
    "duration": 1157,
    "start_time": "2025-01-30T17:48:12.764Z"
   },
   {
    "duration": 287,
    "start_time": "2025-01-30T17:48:13.923Z"
   },
   {
    "duration": 29,
    "start_time": "2025-01-30T17:48:14.212Z"
   },
   {
    "duration": 95,
    "start_time": "2025-01-30T17:48:14.243Z"
   },
   {
    "duration": 11,
    "start_time": "2025-01-30T17:48:14.341Z"
   },
   {
    "duration": 64,
    "start_time": "2025-01-30T17:48:14.354Z"
   },
   {
    "duration": 42,
    "start_time": "2025-01-30T17:48:14.419Z"
   },
   {
    "duration": 60,
    "start_time": "2025-01-30T17:48:14.463Z"
   },
   {
    "duration": 151,
    "start_time": "2025-01-30T17:48:14.525Z"
   },
   {
    "duration": 32,
    "start_time": "2025-01-30T17:48:14.678Z"
   },
   {
    "duration": 147,
    "start_time": "2025-01-30T17:48:14.712Z"
   },
   {
    "duration": 16,
    "start_time": "2025-01-30T17:48:14.861Z"
   },
   {
    "duration": 43,
    "start_time": "2025-01-30T17:48:14.879Z"
   },
   {
    "duration": 24,
    "start_time": "2025-01-30T17:48:14.925Z"
   },
   {
    "duration": 15,
    "start_time": "2025-01-30T17:48:14.950Z"
   },
   {
    "duration": 22,
    "start_time": "2025-01-30T17:48:14.967Z"
   },
   {
    "duration": 1850,
    "start_time": "2025-01-30T17:48:14.990Z"
   },
   {
    "duration": 0,
    "start_time": "2025-01-30T17:48:16.841Z"
   },
   {
    "duration": 0,
    "start_time": "2025-01-30T17:48:16.842Z"
   },
   {
    "duration": 0,
    "start_time": "2025-01-30T17:48:16.843Z"
   },
   {
    "duration": 0,
    "start_time": "2025-01-30T17:48:16.844Z"
   },
   {
    "duration": 0,
    "start_time": "2025-01-30T17:48:16.845Z"
   },
   {
    "duration": 0,
    "start_time": "2025-01-30T17:48:16.846Z"
   },
   {
    "duration": 0,
    "start_time": "2025-01-30T17:48:16.848Z"
   },
   {
    "duration": 0,
    "start_time": "2025-01-30T17:48:16.848Z"
   },
   {
    "duration": 0,
    "start_time": "2025-01-30T17:48:16.849Z"
   },
   {
    "duration": 0,
    "start_time": "2025-01-30T17:48:16.851Z"
   },
   {
    "duration": 0,
    "start_time": "2025-01-30T17:48:16.852Z"
   },
   {
    "duration": 0,
    "start_time": "2025-01-30T17:48:16.853Z"
   },
   {
    "duration": 41,
    "start_time": "2025-01-30T17:48:47.478Z"
   },
   {
    "duration": 1176,
    "start_time": "2025-01-30T17:49:02.621Z"
   },
   {
    "duration": 253,
    "start_time": "2025-01-30T17:49:03.798Z"
   },
   {
    "duration": 28,
    "start_time": "2025-01-30T17:49:04.053Z"
   },
   {
    "duration": 76,
    "start_time": "2025-01-30T17:49:04.083Z"
   },
   {
    "duration": 13,
    "start_time": "2025-01-30T17:49:04.161Z"
   },
   {
    "duration": 70,
    "start_time": "2025-01-30T17:49:04.176Z"
   },
   {
    "duration": 41,
    "start_time": "2025-01-30T17:49:04.247Z"
   },
   {
    "duration": 57,
    "start_time": "2025-01-30T17:49:04.289Z"
   },
   {
    "duration": 152,
    "start_time": "2025-01-30T17:49:04.348Z"
   },
   {
    "duration": 22,
    "start_time": "2025-01-30T17:49:04.502Z"
   },
   {
    "duration": 145,
    "start_time": "2025-01-30T17:49:04.526Z"
   },
   {
    "duration": 15,
    "start_time": "2025-01-30T17:49:04.673Z"
   },
   {
    "duration": 37,
    "start_time": "2025-01-30T17:49:04.689Z"
   },
   {
    "duration": 32,
    "start_time": "2025-01-30T17:49:04.729Z"
   },
   {
    "duration": 15,
    "start_time": "2025-01-30T17:49:04.763Z"
   },
   {
    "duration": 40,
    "start_time": "2025-01-30T17:49:04.779Z"
   },
   {
    "duration": 4,
    "start_time": "2025-01-30T17:49:04.820Z"
   },
   {
    "duration": 94,
    "start_time": "2025-01-30T17:49:04.825Z"
   },
   {
    "duration": 110,
    "start_time": "2025-01-30T17:49:04.921Z"
   },
   {
    "duration": 25,
    "start_time": "2025-01-30T17:49:05.032Z"
   },
   {
    "duration": 23,
    "start_time": "2025-01-30T17:49:05.058Z"
   },
   {
    "duration": 43,
    "start_time": "2025-01-30T17:49:05.083Z"
   },
   {
    "duration": 9,
    "start_time": "2025-01-30T17:49:05.128Z"
   },
   {
    "duration": 29,
    "start_time": "2025-01-30T17:49:05.138Z"
   },
   {
    "duration": 12,
    "start_time": "2025-01-30T17:49:05.169Z"
   },
   {
    "duration": 15,
    "start_time": "2025-01-30T17:49:05.183Z"
   },
   {
    "duration": 26,
    "start_time": "2025-01-30T17:49:05.200Z"
   },
   {
    "duration": 139,
    "start_time": "2025-01-30T17:49:05.227Z"
   },
   {
    "duration": 23,
    "start_time": "2025-01-30T17:49:05.367Z"
   },
   {
    "duration": 1250,
    "start_time": "2025-01-30T17:50:45.393Z"
   },
   {
    "duration": 253,
    "start_time": "2025-01-30T17:50:46.645Z"
   },
   {
    "duration": 28,
    "start_time": "2025-01-30T17:50:46.899Z"
   },
   {
    "duration": 83,
    "start_time": "2025-01-30T17:50:46.928Z"
   },
   {
    "duration": 12,
    "start_time": "2025-01-30T17:50:47.013Z"
   },
   {
    "duration": 50,
    "start_time": "2025-01-30T17:50:47.027Z"
   },
   {
    "duration": 58,
    "start_time": "2025-01-30T17:50:47.079Z"
   },
   {
    "duration": 41,
    "start_time": "2025-01-30T17:50:47.138Z"
   },
   {
    "duration": 169,
    "start_time": "2025-01-30T17:50:47.181Z"
   },
   {
    "duration": 20,
    "start_time": "2025-01-30T17:50:47.352Z"
   },
   {
    "duration": 43,
    "start_time": "2025-01-30T17:50:47.373Z"
   },
   {
    "duration": 146,
    "start_time": "2025-01-30T17:50:47.418Z"
   },
   {
    "duration": 16,
    "start_time": "2025-01-30T17:50:47.566Z"
   },
   {
    "duration": 40,
    "start_time": "2025-01-30T17:50:47.585Z"
   },
   {
    "duration": 26,
    "start_time": "2025-01-30T17:50:47.627Z"
   },
   {
    "duration": 15,
    "start_time": "2025-01-30T17:50:47.654Z"
   },
   {
    "duration": 48,
    "start_time": "2025-01-30T17:50:47.671Z"
   },
   {
    "duration": 3,
    "start_time": "2025-01-30T17:50:47.721Z"
   },
   {
    "duration": 117,
    "start_time": "2025-01-30T17:50:47.726Z"
   },
   {
    "duration": 116,
    "start_time": "2025-01-30T17:50:47.844Z"
   },
   {
    "duration": 25,
    "start_time": "2025-01-30T17:50:47.961Z"
   },
   {
    "duration": 38,
    "start_time": "2025-01-30T17:50:47.987Z"
   },
   {
    "duration": 22,
    "start_time": "2025-01-30T17:50:48.026Z"
   },
   {
    "duration": 7,
    "start_time": "2025-01-30T17:50:48.050Z"
   },
   {
    "duration": 22,
    "start_time": "2025-01-30T17:50:48.058Z"
   },
   {
    "duration": 33,
    "start_time": "2025-01-30T17:50:48.082Z"
   },
   {
    "duration": 6,
    "start_time": "2025-01-30T17:50:48.117Z"
   },
   {
    "duration": 22,
    "start_time": "2025-01-30T17:50:48.124Z"
   },
   {
    "duration": 144,
    "start_time": "2025-01-30T17:50:48.148Z"
   },
   {
    "duration": 31,
    "start_time": "2025-01-30T17:50:48.294Z"
   },
   {
    "duration": 25,
    "start_time": "2025-01-30T17:54:46.458Z"
   },
   {
    "duration": 8,
    "start_time": "2025-01-30T17:55:12.445Z"
   },
   {
    "duration": 24,
    "start_time": "2025-01-30T17:55:24.667Z"
   },
   {
    "duration": 1309,
    "start_time": "2025-01-30T19:59:30.133Z"
   },
   {
    "duration": 319,
    "start_time": "2025-01-30T19:59:31.444Z"
   },
   {
    "duration": 45,
    "start_time": "2025-01-30T19:59:31.765Z"
   },
   {
    "duration": 59,
    "start_time": "2025-01-30T19:59:31.812Z"
   },
   {
    "duration": 38,
    "start_time": "2025-01-30T19:59:31.873Z"
   },
   {
    "duration": 47,
    "start_time": "2025-01-30T19:59:31.912Z"
   },
   {
    "duration": 59,
    "start_time": "2025-01-30T19:59:31.961Z"
   },
   {
    "duration": 41,
    "start_time": "2025-01-30T19:59:32.022Z"
   },
   {
    "duration": 170,
    "start_time": "2025-01-30T19:59:32.065Z"
   },
   {
    "duration": 24,
    "start_time": "2025-01-30T19:59:32.236Z"
   },
   {
    "duration": 101,
    "start_time": "2025-01-30T19:59:32.261Z"
   },
   {
    "duration": 130,
    "start_time": "2025-01-30T19:59:32.364Z"
   },
   {
    "duration": 19,
    "start_time": "2025-01-30T19:59:32.496Z"
   },
   {
    "duration": 21,
    "start_time": "2025-01-30T19:59:32.518Z"
   },
   {
    "duration": 33,
    "start_time": "2025-01-30T19:59:32.541Z"
   },
   {
    "duration": 16,
    "start_time": "2025-01-30T19:59:32.575Z"
   },
   {
    "duration": 24,
    "start_time": "2025-01-30T19:59:32.610Z"
   },
   {
    "duration": 8,
    "start_time": "2025-01-30T19:59:32.635Z"
   },
   {
    "duration": 66,
    "start_time": "2025-01-30T19:59:32.644Z"
   },
   {
    "duration": 110,
    "start_time": "2025-01-30T19:59:32.712Z"
   },
   {
    "duration": 25,
    "start_time": "2025-01-30T19:59:32.823Z"
   },
   {
    "duration": 22,
    "start_time": "2025-01-30T19:59:32.849Z"
   },
   {
    "duration": 45,
    "start_time": "2025-01-30T19:59:32.872Z"
   },
   {
    "duration": 32,
    "start_time": "2025-01-30T19:59:32.919Z"
   },
   {
    "duration": 17,
    "start_time": "2025-01-30T19:59:32.952Z"
   },
   {
    "duration": 27,
    "start_time": "2025-01-30T19:59:32.970Z"
   },
   {
    "duration": 16,
    "start_time": "2025-01-30T19:59:32.998Z"
   },
   {
    "duration": 25,
    "start_time": "2025-01-30T19:59:33.015Z"
   },
   {
    "duration": 21,
    "start_time": "2025-01-30T19:59:33.041Z"
   },
   {
    "duration": 135,
    "start_time": "2025-01-30T19:59:33.063Z"
   },
   {
    "duration": 31,
    "start_time": "2025-01-30T19:59:33.199Z"
   },
   {
    "duration": 33,
    "start_time": "2025-01-30T20:02:34.506Z"
   },
   {
    "duration": 25,
    "start_time": "2025-01-30T20:05:13.727Z"
   },
   {
    "duration": 1184,
    "start_time": "2025-01-30T20:05:30.082Z"
   },
   {
    "duration": 252,
    "start_time": "2025-01-30T20:05:31.268Z"
   },
   {
    "duration": 27,
    "start_time": "2025-01-30T20:05:31.522Z"
   },
   {
    "duration": 83,
    "start_time": "2025-01-30T20:05:31.551Z"
   },
   {
    "duration": 11,
    "start_time": "2025-01-30T20:05:31.636Z"
   },
   {
    "duration": 66,
    "start_time": "2025-01-30T20:05:31.649Z"
   },
   {
    "duration": 41,
    "start_time": "2025-01-30T20:05:31.717Z"
   },
   {
    "duration": 59,
    "start_time": "2025-01-30T20:05:31.760Z"
   },
   {
    "duration": 152,
    "start_time": "2025-01-30T20:05:31.821Z"
   },
   {
    "duration": 18,
    "start_time": "2025-01-30T20:05:31.975Z"
   },
   {
    "duration": 38,
    "start_time": "2025-01-30T20:05:31.995Z"
   },
   {
    "duration": 147,
    "start_time": "2025-01-30T20:05:32.034Z"
   },
   {
    "duration": 15,
    "start_time": "2025-01-30T20:05:32.182Z"
   },
   {
    "duration": 21,
    "start_time": "2025-01-30T20:05:32.209Z"
   },
   {
    "duration": 39,
    "start_time": "2025-01-30T20:05:32.231Z"
   },
   {
    "duration": 19,
    "start_time": "2025-01-30T20:05:32.271Z"
   },
   {
    "duration": 29,
    "start_time": "2025-01-30T20:05:32.309Z"
   },
   {
    "duration": 5,
    "start_time": "2025-01-30T20:05:32.340Z"
   },
   {
    "duration": 77,
    "start_time": "2025-01-30T20:05:32.348Z"
   },
   {
    "duration": 122,
    "start_time": "2025-01-30T20:05:32.426Z"
   },
   {
    "duration": 24,
    "start_time": "2025-01-30T20:05:32.550Z"
   },
   {
    "duration": 1915,
    "start_time": "2025-01-30T20:05:32.576Z"
   },
   {
    "duration": 0,
    "start_time": "2025-01-30T20:05:34.492Z"
   },
   {
    "duration": 0,
    "start_time": "2025-01-30T20:05:34.494Z"
   },
   {
    "duration": 0,
    "start_time": "2025-01-30T20:05:34.495Z"
   },
   {
    "duration": 0,
    "start_time": "2025-01-30T20:05:34.496Z"
   },
   {
    "duration": 0,
    "start_time": "2025-01-30T20:05:34.497Z"
   },
   {
    "duration": 0,
    "start_time": "2025-01-30T20:05:34.498Z"
   },
   {
    "duration": 0,
    "start_time": "2025-01-30T20:05:34.499Z"
   },
   {
    "duration": 0,
    "start_time": "2025-01-30T20:05:34.500Z"
   },
   {
    "duration": 0,
    "start_time": "2025-01-30T20:05:34.501Z"
   },
   {
    "duration": 24,
    "start_time": "2025-01-30T20:06:33.264Z"
   },
   {
    "duration": 23,
    "start_time": "2025-01-30T20:07:02.107Z"
   },
   {
    "duration": 1208,
    "start_time": "2025-01-30T20:08:35.741Z"
   },
   {
    "duration": 369,
    "start_time": "2025-01-30T20:08:36.950Z"
   },
   {
    "duration": 27,
    "start_time": "2025-01-30T20:08:37.320Z"
   },
   {
    "duration": 86,
    "start_time": "2025-01-30T20:08:37.349Z"
   },
   {
    "duration": 12,
    "start_time": "2025-01-30T20:08:37.438Z"
   },
   {
    "duration": 64,
    "start_time": "2025-01-30T20:08:37.451Z"
   },
   {
    "duration": 42,
    "start_time": "2025-01-30T20:08:37.517Z"
   },
   {
    "duration": 63,
    "start_time": "2025-01-30T20:08:37.561Z"
   },
   {
    "duration": 164,
    "start_time": "2025-01-30T20:08:37.625Z"
   },
   {
    "duration": 36,
    "start_time": "2025-01-30T20:08:37.791Z"
   },
   {
    "duration": 33,
    "start_time": "2025-01-30T20:08:37.830Z"
   },
   {
    "duration": 161,
    "start_time": "2025-01-30T20:08:37.865Z"
   },
   {
    "duration": 15,
    "start_time": "2025-01-30T20:08:38.028Z"
   },
   {
    "duration": 25,
    "start_time": "2025-01-30T20:08:38.045Z"
   },
   {
    "duration": 47,
    "start_time": "2025-01-30T20:08:38.072Z"
   },
   {
    "duration": 15,
    "start_time": "2025-01-30T20:08:38.121Z"
   },
   {
    "duration": 13,
    "start_time": "2025-01-30T20:08:38.138Z"
   },
   {
    "duration": 28,
    "start_time": "2025-01-30T20:08:38.152Z"
   },
   {
    "duration": 4,
    "start_time": "2025-01-30T20:08:38.210Z"
   },
   {
    "duration": 55,
    "start_time": "2025-01-30T20:08:38.216Z"
   },
   {
    "duration": 129,
    "start_time": "2025-01-30T20:08:38.273Z"
   },
   {
    "duration": 30,
    "start_time": "2025-01-30T20:08:38.404Z"
   },
   {
    "duration": 27,
    "start_time": "2025-01-30T20:08:38.436Z"
   },
   {
    "duration": 59,
    "start_time": "2025-01-30T20:08:38.465Z"
   },
   {
    "duration": 8,
    "start_time": "2025-01-30T20:08:38.526Z"
   },
   {
    "duration": 38,
    "start_time": "2025-01-30T20:08:38.536Z"
   },
   {
    "duration": 9,
    "start_time": "2025-01-30T20:08:38.576Z"
   },
   {
    "duration": 25,
    "start_time": "2025-01-30T20:08:38.586Z"
   },
   {
    "duration": 37,
    "start_time": "2025-01-30T20:08:38.613Z"
   },
   {
    "duration": 150,
    "start_time": "2025-01-30T20:08:38.653Z"
   },
   {
    "duration": 51,
    "start_time": "2025-01-30T20:08:38.806Z"
   },
   {
    "duration": 130,
    "start_time": "2025-01-30T20:08:56.041Z"
   },
   {
    "duration": 1253,
    "start_time": "2025-01-30T20:09:01.426Z"
   },
   {
    "duration": 616,
    "start_time": "2025-01-30T20:09:02.681Z"
   },
   {
    "duration": 28,
    "start_time": "2025-01-30T20:09:03.298Z"
   },
   {
    "duration": 92,
    "start_time": "2025-01-30T20:09:03.327Z"
   },
   {
    "duration": 11,
    "start_time": "2025-01-30T20:09:03.421Z"
   },
   {
    "duration": 60,
    "start_time": "2025-01-30T20:09:03.434Z"
   },
   {
    "duration": 52,
    "start_time": "2025-01-30T20:09:03.496Z"
   },
   {
    "duration": 42,
    "start_time": "2025-01-30T20:09:03.550Z"
   },
   {
    "duration": 171,
    "start_time": "2025-01-30T20:09:03.594Z"
   },
   {
    "duration": 20,
    "start_time": "2025-01-30T20:09:03.767Z"
   },
   {
    "duration": 43,
    "start_time": "2025-01-30T20:09:03.789Z"
   },
   {
    "duration": 149,
    "start_time": "2025-01-30T20:09:03.834Z"
   },
   {
    "duration": 26,
    "start_time": "2025-01-30T20:09:03.985Z"
   },
   {
    "duration": 22,
    "start_time": "2025-01-30T20:09:04.014Z"
   },
   {
    "duration": 25,
    "start_time": "2025-01-30T20:09:04.038Z"
   },
   {
    "duration": 18,
    "start_time": "2025-01-30T20:09:04.065Z"
   },
   {
    "duration": 10,
    "start_time": "2025-01-30T20:09:04.110Z"
   },
   {
    "duration": 47,
    "start_time": "2025-01-30T20:09:04.122Z"
   },
   {
    "duration": 4,
    "start_time": "2025-01-30T20:09:04.171Z"
   },
   {
    "duration": 73,
    "start_time": "2025-01-30T20:09:04.177Z"
   },
   {
    "duration": 110,
    "start_time": "2025-01-30T20:09:04.251Z"
   },
   {
    "duration": 43,
    "start_time": "2025-01-30T20:09:04.363Z"
   },
   {
    "duration": 23,
    "start_time": "2025-01-30T20:09:04.407Z"
   },
   {
    "duration": 49,
    "start_time": "2025-01-30T20:09:04.431Z"
   },
   {
    "duration": 7,
    "start_time": "2025-01-30T20:09:04.482Z"
   },
   {
    "duration": 65,
    "start_time": "2025-01-30T20:09:04.491Z"
   },
   {
    "duration": 25,
    "start_time": "2025-01-30T20:09:04.558Z"
   },
   {
    "duration": 27,
    "start_time": "2025-01-30T20:09:04.585Z"
   },
   {
    "duration": 47,
    "start_time": "2025-01-30T20:09:04.614Z"
   },
   {
    "duration": 145,
    "start_time": "2025-01-30T20:09:04.663Z"
   },
   {
    "duration": 26,
    "start_time": "2025-01-30T20:09:04.809Z"
   },
   {
    "duration": 1487,
    "start_time": "2025-01-31T15:20:06.578Z"
   },
   {
    "duration": 208,
    "start_time": "2025-01-31T15:20:08.067Z"
   },
   {
    "duration": 27,
    "start_time": "2025-01-31T15:20:08.277Z"
   },
   {
    "duration": 116,
    "start_time": "2025-01-31T15:20:08.306Z"
   },
   {
    "duration": 61,
    "start_time": "2025-01-31T15:20:08.424Z"
   },
   {
    "duration": 57,
    "start_time": "2025-01-31T15:20:08.486Z"
   },
   {
    "duration": 43,
    "start_time": "2025-01-31T15:20:08.545Z"
   },
   {
    "duration": 53,
    "start_time": "2025-01-31T15:20:08.590Z"
   },
   {
    "duration": 160,
    "start_time": "2025-01-31T15:20:08.645Z"
   },
   {
    "duration": 28,
    "start_time": "2025-01-31T15:20:08.806Z"
   },
   {
    "duration": 28,
    "start_time": "2025-01-31T15:20:08.835Z"
   },
   {
    "duration": 161,
    "start_time": "2025-01-31T15:20:08.864Z"
   },
   {
    "duration": 21,
    "start_time": "2025-01-31T15:20:09.026Z"
   },
   {
    "duration": 32,
    "start_time": "2025-01-31T15:20:09.050Z"
   },
   {
    "duration": 26,
    "start_time": "2025-01-31T15:20:09.084Z"
   },
   {
    "duration": 34,
    "start_time": "2025-01-31T15:20:09.111Z"
   },
   {
    "duration": 4,
    "start_time": "2025-01-31T15:20:09.147Z"
   },
   {
    "duration": 41,
    "start_time": "2025-01-31T15:20:09.153Z"
   },
   {
    "duration": 3,
    "start_time": "2025-01-31T15:20:09.196Z"
   },
   {
    "duration": 69,
    "start_time": "2025-01-31T15:20:09.201Z"
   },
   {
    "duration": 109,
    "start_time": "2025-01-31T15:20:09.272Z"
   },
   {
    "duration": 24,
    "start_time": "2025-01-31T15:20:09.382Z"
   },
   {
    "duration": 40,
    "start_time": "2025-01-31T15:20:09.407Z"
   },
   {
    "duration": 24,
    "start_time": "2025-01-31T15:20:09.449Z"
   },
   {
    "duration": 9,
    "start_time": "2025-01-31T15:20:09.475Z"
   },
   {
    "duration": 49,
    "start_time": "2025-01-31T15:20:09.485Z"
   },
   {
    "duration": 8,
    "start_time": "2025-01-31T15:20:09.536Z"
   },
   {
    "duration": 32,
    "start_time": "2025-01-31T15:20:09.546Z"
   },
   {
    "duration": 24,
    "start_time": "2025-01-31T15:20:09.580Z"
   },
   {
    "duration": 142,
    "start_time": "2025-01-31T15:20:09.606Z"
   },
   {
    "duration": 25,
    "start_time": "2025-01-31T15:20:09.750Z"
   },
   {
    "duration": 1608,
    "start_time": "2025-01-31T15:22:45.595Z"
   },
   {
    "duration": 239,
    "start_time": "2025-01-31T15:22:47.205Z"
   },
   {
    "duration": 31,
    "start_time": "2025-01-31T15:22:47.446Z"
   },
   {
    "duration": 88,
    "start_time": "2025-01-31T15:22:47.478Z"
   },
   {
    "duration": 11,
    "start_time": "2025-01-31T15:22:47.568Z"
   },
   {
    "duration": 88,
    "start_time": "2025-01-31T15:22:47.581Z"
   },
   {
    "duration": 50,
    "start_time": "2025-01-31T15:22:47.671Z"
   },
   {
    "duration": 60,
    "start_time": "2025-01-31T15:22:47.722Z"
   },
   {
    "duration": 169,
    "start_time": "2025-01-31T15:22:47.784Z"
   },
   {
    "duration": 19,
    "start_time": "2025-01-31T15:22:47.955Z"
   },
   {
    "duration": 25,
    "start_time": "2025-01-31T15:22:47.976Z"
   },
   {
    "duration": 169,
    "start_time": "2025-01-31T15:22:48.004Z"
   },
   {
    "duration": 15,
    "start_time": "2025-01-31T15:22:48.175Z"
   },
   {
    "duration": 21,
    "start_time": "2025-01-31T15:22:48.193Z"
   },
   {
    "duration": 24,
    "start_time": "2025-01-31T15:22:48.234Z"
   },
   {
    "duration": 16,
    "start_time": "2025-01-31T15:22:48.260Z"
   },
   {
    "duration": 4,
    "start_time": "2025-01-31T15:22:48.278Z"
   },
   {
    "duration": 83,
    "start_time": "2025-01-31T15:22:48.283Z"
   },
   {
    "duration": 3,
    "start_time": "2025-01-31T15:22:48.368Z"
   },
   {
    "duration": 51,
    "start_time": "2025-01-31T15:22:48.373Z"
   },
   {
    "duration": 144,
    "start_time": "2025-01-31T15:22:48.426Z"
   },
   {
    "duration": 22,
    "start_time": "2025-01-31T15:22:48.572Z"
   },
   {
    "duration": 25,
    "start_time": "2025-01-31T15:22:48.596Z"
   },
   {
    "duration": 32,
    "start_time": "2025-01-31T15:22:48.623Z"
   },
   {
    "duration": 8,
    "start_time": "2025-01-31T15:22:48.657Z"
   },
   {
    "duration": 24,
    "start_time": "2025-01-31T15:22:48.667Z"
   },
   {
    "duration": 60949,
    "start_time": "2025-01-31T15:22:48.693Z"
   },
   {
    "duration": 0,
    "start_time": "2025-01-31T15:23:49.644Z"
   },
   {
    "duration": 0,
    "start_time": "2025-01-31T15:23:49.645Z"
   },
   {
    "duration": 0,
    "start_time": "2025-01-31T15:23:49.646Z"
   },
   {
    "duration": 0,
    "start_time": "2025-01-31T15:23:49.647Z"
   },
   {
    "duration": 0,
    "start_time": "2025-01-31T15:23:49.648Z"
   },
   {
    "duration": 119,
    "start_time": "2025-01-31T15:25:12.787Z"
   },
   {
    "duration": 2368,
    "start_time": "2025-01-31T15:25:26.402Z"
   },
   {
    "duration": 202,
    "start_time": "2025-01-31T15:25:28.773Z"
   },
   {
    "duration": 27,
    "start_time": "2025-01-31T15:25:28.977Z"
   },
   {
    "duration": 82,
    "start_time": "2025-01-31T15:25:29.005Z"
   },
   {
    "duration": 11,
    "start_time": "2025-01-31T15:25:29.090Z"
   },
   {
    "duration": 73,
    "start_time": "2025-01-31T15:25:29.103Z"
   },
   {
    "duration": 43,
    "start_time": "2025-01-31T15:25:29.178Z"
   },
   {
    "duration": 51,
    "start_time": "2025-01-31T15:25:29.222Z"
   },
   {
    "duration": 173,
    "start_time": "2025-01-31T15:25:29.274Z"
   },
   {
    "duration": 20,
    "start_time": "2025-01-31T15:25:29.449Z"
   },
   {
    "duration": 27,
    "start_time": "2025-01-31T15:25:29.471Z"
   },
   {
    "duration": 176,
    "start_time": "2025-01-31T15:25:29.500Z"
   },
   {
    "duration": 15,
    "start_time": "2025-01-31T15:25:29.677Z"
   },
   {
    "duration": 43,
    "start_time": "2025-01-31T15:25:29.695Z"
   },
   {
    "duration": 29,
    "start_time": "2025-01-31T15:25:29.740Z"
   },
   {
    "duration": 16,
    "start_time": "2025-01-31T15:25:29.771Z"
   },
   {
    "duration": 4,
    "start_time": "2025-01-31T15:25:29.789Z"
   },
   {
    "duration": 54,
    "start_time": "2025-01-31T15:25:29.794Z"
   },
   {
    "duration": 3,
    "start_time": "2025-01-31T15:25:29.850Z"
   },
   {
    "duration": 61,
    "start_time": "2025-01-31T15:25:29.855Z"
   },
   {
    "duration": 127,
    "start_time": "2025-01-31T15:25:29.917Z"
   },
   {
    "duration": 23,
    "start_time": "2025-01-31T15:25:30.046Z"
   },
   {
    "duration": 41,
    "start_time": "2025-01-31T15:25:30.071Z"
   },
   {
    "duration": 71,
    "start_time": "2025-01-31T15:25:30.113Z"
   },
   {
    "duration": 47,
    "start_time": "2025-01-31T15:25:30.185Z"
   },
   {
    "duration": 54,
    "start_time": "2025-01-31T15:25:30.233Z"
   },
   {
    "duration": 159,
    "start_time": "2025-01-31T15:25:30.288Z"
   },
   {
    "duration": 8,
    "start_time": "2025-01-31T15:25:30.449Z"
   },
   {
    "duration": 19,
    "start_time": "2025-01-31T15:25:30.458Z"
   },
   {
    "duration": 38,
    "start_time": "2025-01-31T15:25:30.479Z"
   },
   {
    "duration": 138,
    "start_time": "2025-01-31T15:25:30.519Z"
   },
   {
    "duration": 25,
    "start_time": "2025-01-31T15:25:30.659Z"
   },
   {
    "duration": 25,
    "start_time": "2025-01-31T15:27:27.627Z"
   },
   {
    "duration": 9,
    "start_time": "2025-01-31T15:27:33.681Z"
   },
   {
    "duration": 109,
    "start_time": "2025-01-31T15:27:46.529Z"
   },
   {
    "duration": 10,
    "start_time": "2025-01-31T15:27:52.419Z"
   },
   {
    "duration": 4,
    "start_time": "2025-01-31T15:30:26.565Z"
   },
   {
    "duration": 9,
    "start_time": "2025-01-31T15:31:24.850Z"
   },
   {
    "duration": 8,
    "start_time": "2025-01-31T15:44:15.269Z"
   },
   {
    "duration": 6,
    "start_time": "2025-01-31T15:48:20.773Z"
   },
   {
    "duration": 7,
    "start_time": "2025-01-31T15:48:26.912Z"
   },
   {
    "duration": 4,
    "start_time": "2025-01-31T15:54:26.444Z"
   },
   {
    "duration": 4,
    "start_time": "2025-01-31T15:54:55.147Z"
   },
   {
    "duration": 6,
    "start_time": "2025-01-31T15:56:39.322Z"
   },
   {
    "duration": 7,
    "start_time": "2025-01-31T15:56:48.366Z"
   },
   {
    "duration": 7,
    "start_time": "2025-01-31T15:57:02.121Z"
   },
   {
    "duration": 13,
    "start_time": "2025-01-31T15:57:11.404Z"
   },
   {
    "duration": 7,
    "start_time": "2025-01-31T15:57:19.150Z"
   },
   {
    "duration": 7,
    "start_time": "2025-01-31T15:57:27.059Z"
   },
   {
    "duration": 6,
    "start_time": "2025-01-31T15:59:27.721Z"
   },
   {
    "duration": 8,
    "start_time": "2025-01-31T15:59:28.208Z"
   },
   {
    "duration": 28,
    "start_time": "2025-01-31T16:03:31.847Z"
   },
   {
    "duration": 28,
    "start_time": "2025-01-31T16:03:54.944Z"
   },
   {
    "duration": 27,
    "start_time": "2025-01-31T16:04:49.554Z"
   },
   {
    "duration": 23,
    "start_time": "2025-01-31T16:06:13.209Z"
   },
   {
    "duration": 139,
    "start_time": "2025-01-31T16:09:11.500Z"
   },
   {
    "duration": 120,
    "start_time": "2025-01-31T16:11:25.103Z"
   },
   {
    "duration": 154,
    "start_time": "2025-01-31T16:11:55.562Z"
   },
   {
    "duration": 152,
    "start_time": "2025-01-31T16:12:14.056Z"
   },
   {
    "duration": 2179,
    "start_time": "2025-01-31T16:12:44.502Z"
   },
   {
    "duration": 314,
    "start_time": "2025-01-31T16:12:46.683Z"
   },
   {
    "duration": 39,
    "start_time": "2025-01-31T16:12:46.998Z"
   },
   {
    "duration": 61,
    "start_time": "2025-01-31T16:12:47.039Z"
   },
   {
    "duration": 41,
    "start_time": "2025-01-31T16:12:47.102Z"
   },
   {
    "duration": 65,
    "start_time": "2025-01-31T16:12:47.144Z"
   },
   {
    "duration": 46,
    "start_time": "2025-01-31T16:12:47.210Z"
   },
   {
    "duration": 42,
    "start_time": "2025-01-31T16:12:47.257Z"
   },
   {
    "duration": 177,
    "start_time": "2025-01-31T16:12:47.301Z"
   },
   {
    "duration": 18,
    "start_time": "2025-01-31T16:12:47.480Z"
   },
   {
    "duration": 58,
    "start_time": "2025-01-31T16:12:47.500Z"
   },
   {
    "duration": 179,
    "start_time": "2025-01-31T16:12:47.561Z"
   },
   {
    "duration": 18,
    "start_time": "2025-01-31T16:12:47.742Z"
   },
   {
    "duration": 11,
    "start_time": "2025-01-31T16:12:47.765Z"
   },
   {
    "duration": 27,
    "start_time": "2025-01-31T16:12:47.778Z"
   },
   {
    "duration": 51,
    "start_time": "2025-01-31T16:12:47.807Z"
   },
   {
    "duration": 17,
    "start_time": "2025-01-31T16:12:47.860Z"
   },
   {
    "duration": 4,
    "start_time": "2025-01-31T16:12:47.878Z"
   },
   {
    "duration": 50,
    "start_time": "2025-01-31T16:12:47.884Z"
   },
   {
    "duration": 3,
    "start_time": "2025-01-31T16:12:47.936Z"
   },
   {
    "duration": 54,
    "start_time": "2025-01-31T16:12:47.941Z"
   },
   {
    "duration": 125,
    "start_time": "2025-01-31T16:12:47.996Z"
   },
   {
    "duration": 33,
    "start_time": "2025-01-31T16:12:48.122Z"
   },
   {
    "duration": 5,
    "start_time": "2025-01-31T16:12:48.157Z"
   },
   {
    "duration": 25,
    "start_time": "2025-01-31T16:12:48.164Z"
   },
   {
    "duration": 8,
    "start_time": "2025-01-31T16:12:48.191Z"
   },
   {
    "duration": 33,
    "start_time": "2025-01-31T16:12:48.201Z"
   },
   {
    "duration": 271,
    "start_time": "2025-01-31T16:12:48.236Z"
   },
   {
    "duration": 0,
    "start_time": "2025-01-31T16:12:48.509Z"
   },
   {
    "duration": 0,
    "start_time": "2025-01-31T16:12:48.510Z"
   },
   {
    "duration": 0,
    "start_time": "2025-01-31T16:12:48.512Z"
   },
   {
    "duration": 0,
    "start_time": "2025-01-31T16:12:48.513Z"
   },
   {
    "duration": 0,
    "start_time": "2025-01-31T16:12:48.514Z"
   },
   {
    "duration": 0,
    "start_time": "2025-01-31T16:12:48.515Z"
   },
   {
    "duration": 2722,
    "start_time": "2025-01-31T16:13:25.198Z"
   },
   {
    "duration": 230,
    "start_time": "2025-01-31T16:13:27.922Z"
   },
   {
    "duration": 30,
    "start_time": "2025-01-31T16:13:28.154Z"
   },
   {
    "duration": 89,
    "start_time": "2025-01-31T16:13:28.185Z"
   },
   {
    "duration": 12,
    "start_time": "2025-01-31T16:13:28.276Z"
   },
   {
    "duration": 70,
    "start_time": "2025-01-31T16:13:28.290Z"
   },
   {
    "duration": 43,
    "start_time": "2025-01-31T16:13:28.362Z"
   },
   {
    "duration": 53,
    "start_time": "2025-01-31T16:13:28.407Z"
   },
   {
    "duration": 176,
    "start_time": "2025-01-31T16:13:28.462Z"
   },
   {
    "duration": 21,
    "start_time": "2025-01-31T16:13:28.640Z"
   },
   {
    "duration": 43,
    "start_time": "2025-01-31T16:13:28.663Z"
   },
   {
    "duration": 172,
    "start_time": "2025-01-31T16:13:28.707Z"
   },
   {
    "duration": 17,
    "start_time": "2025-01-31T16:13:28.881Z"
   },
   {
    "duration": 5,
    "start_time": "2025-01-31T16:13:28.901Z"
   },
   {
    "duration": 43,
    "start_time": "2025-01-31T16:13:28.908Z"
   },
   {
    "duration": 37,
    "start_time": "2025-01-31T16:13:28.953Z"
   },
   {
    "duration": 17,
    "start_time": "2025-01-31T16:13:28.991Z"
   },
   {
    "duration": 23,
    "start_time": "2025-01-31T16:13:29.010Z"
   },
   {
    "duration": 25,
    "start_time": "2025-01-31T16:13:29.035Z"
   },
   {
    "duration": 4,
    "start_time": "2025-01-31T16:13:29.062Z"
   },
   {
    "duration": 77,
    "start_time": "2025-01-31T16:13:29.068Z"
   },
   {
    "duration": 139,
    "start_time": "2025-01-31T16:13:29.147Z"
   },
   {
    "duration": 23,
    "start_time": "2025-01-31T16:13:29.288Z"
   },
   {
    "duration": 4,
    "start_time": "2025-01-31T16:13:29.313Z"
   },
   {
    "duration": 42,
    "start_time": "2025-01-31T16:13:29.319Z"
   },
   {
    "duration": 19,
    "start_time": "2025-01-31T16:13:29.363Z"
   },
   {
    "duration": 20,
    "start_time": "2025-01-31T16:13:29.384Z"
   },
   {
    "duration": 9,
    "start_time": "2025-01-31T16:13:29.405Z"
   },
   {
    "duration": 9,
    "start_time": "2025-01-31T16:13:29.415Z"
   },
   {
    "duration": 5,
    "start_time": "2025-01-31T16:13:29.433Z"
   },
   {
    "duration": 31,
    "start_time": "2025-01-31T16:13:29.440Z"
   },
   {
    "duration": 161,
    "start_time": "2025-01-31T16:13:29.473Z"
   },
   {
    "duration": 25,
    "start_time": "2025-01-31T16:13:29.636Z"
   },
   {
    "duration": 7,
    "start_time": "2025-01-31T16:17:55.723Z"
   },
   {
    "duration": 7,
    "start_time": "2025-01-31T16:18:05.688Z"
   },
   {
    "duration": 6,
    "start_time": "2025-01-31T16:19:30.618Z"
   },
   {
    "duration": 7,
    "start_time": "2025-01-31T16:19:35.349Z"
   },
   {
    "duration": 4,
    "start_time": "2025-01-31T16:21:59.504Z"
   },
   {
    "duration": 5,
    "start_time": "2025-01-31T16:22:42.169Z"
   },
   {
    "duration": 7,
    "start_time": "2025-01-31T16:24:02.798Z"
   },
   {
    "duration": 4,
    "start_time": "2025-01-31T16:28:44.378Z"
   },
   {
    "duration": 25,
    "start_time": "2025-01-31T16:28:51.031Z"
   },
   {
    "duration": 24,
    "start_time": "2025-01-31T16:30:25.875Z"
   },
   {
    "duration": 25,
    "start_time": "2025-01-31T16:30:41.633Z"
   },
   {
    "duration": 26,
    "start_time": "2025-01-31T16:34:21.368Z"
   },
   {
    "duration": 5,
    "start_time": "2025-01-31T16:41:21.388Z"
   },
   {
    "duration": 7,
    "start_time": "2025-01-31T16:46:48.704Z"
   },
   {
    "duration": 11,
    "start_time": "2025-01-31T16:50:31.864Z"
   },
   {
    "duration": 9,
    "start_time": "2025-01-31T16:56:26.635Z"
   },
   {
    "duration": 6,
    "start_time": "2025-01-31T16:58:43.486Z"
   },
   {
    "duration": 6,
    "start_time": "2025-01-31T16:58:52.584Z"
   },
   {
    "duration": 7,
    "start_time": "2025-01-31T17:00:12.115Z"
   },
   {
    "duration": 4219,
    "start_time": "2025-01-31T17:01:11.205Z"
   },
   {
    "duration": 2393,
    "start_time": "2025-01-31T17:01:29.587Z"
   },
   {
    "duration": 7,
    "start_time": "2025-01-31T17:01:54.376Z"
   },
   {
    "duration": 8,
    "start_time": "2025-01-31T17:02:23.195Z"
   },
   {
    "duration": 8,
    "start_time": "2025-01-31T17:02:55.034Z"
   },
   {
    "duration": 8,
    "start_time": "2025-01-31T17:02:59.144Z"
   },
   {
    "duration": 7,
    "start_time": "2025-01-31T17:05:14.279Z"
   },
   {
    "duration": 137,
    "start_time": "2025-01-31T17:06:52.550Z"
   },
   {
    "duration": 6,
    "start_time": "2025-01-31T17:07:04.771Z"
   },
   {
    "duration": 164,
    "start_time": "2025-01-31T17:09:00.834Z"
   },
   {
    "duration": 151,
    "start_time": "2025-01-31T17:15:01.437Z"
   },
   {
    "duration": 108,
    "start_time": "2025-01-31T17:15:52.350Z"
   },
   {
    "duration": 167,
    "start_time": "2025-01-31T17:15:58.849Z"
   },
   {
    "duration": 156,
    "start_time": "2025-01-31T17:16:00.925Z"
   },
   {
    "duration": 248,
    "start_time": "2025-01-31T17:16:02.814Z"
   },
   {
    "duration": 170,
    "start_time": "2025-01-31T17:16:49.185Z"
   },
   {
    "duration": 137,
    "start_time": "2025-01-31T17:18:30.462Z"
   },
   {
    "duration": 4,
    "start_time": "2025-01-31T17:21:44.927Z"
   },
   {
    "duration": 4,
    "start_time": "2025-01-31T17:21:47.812Z"
   },
   {
    "duration": 5,
    "start_time": "2025-01-31T17:21:48.265Z"
   },
   {
    "duration": 245,
    "start_time": "2025-01-31T17:22:02.809Z"
   },
   {
    "duration": 252,
    "start_time": "2025-01-31T17:22:08.216Z"
   },
   {
    "duration": 9,
    "start_time": "2025-01-31T17:23:16.797Z"
   },
   {
    "duration": 11,
    "start_time": "2025-01-31T17:23:40.858Z"
   },
   {
    "duration": 142,
    "start_time": "2025-01-31T17:23:58.552Z"
   },
   {
    "duration": 4,
    "start_time": "2025-01-31T17:27:21.959Z"
   },
   {
    "duration": 4,
    "start_time": "2025-01-31T17:27:22.434Z"
   },
   {
    "duration": 7,
    "start_time": "2025-01-31T17:27:28.155Z"
   },
   {
    "duration": 6,
    "start_time": "2025-01-31T17:27:32.861Z"
   },
   {
    "duration": 12,
    "start_time": "2025-01-31T17:28:12.645Z"
   },
   {
    "duration": 5,
    "start_time": "2025-01-31T17:28:41.805Z"
   },
   {
    "duration": 4,
    "start_time": "2025-01-31T17:28:56.596Z"
   },
   {
    "duration": 7,
    "start_time": "2025-01-31T17:28:58.810Z"
   },
   {
    "duration": 748,
    "start_time": "2025-01-31T17:30:14.274Z"
   },
   {
    "duration": 9,
    "start_time": "2025-01-31T17:30:28.724Z"
   },
   {
    "duration": 670,
    "start_time": "2025-01-31T17:30:35.538Z"
   },
   {
    "duration": 51,
    "start_time": "2025-01-31T17:31:05.491Z"
   },
   {
    "duration": 2561,
    "start_time": "2025-01-31T17:31:56.725Z"
   },
   {
    "duration": 330,
    "start_time": "2025-01-31T17:31:59.288Z"
   },
   {
    "duration": 31,
    "start_time": "2025-01-31T17:31:59.620Z"
   },
   {
    "duration": 90,
    "start_time": "2025-01-31T17:31:59.653Z"
   },
   {
    "duration": 12,
    "start_time": "2025-01-31T17:31:59.746Z"
   },
   {
    "duration": 53,
    "start_time": "2025-01-31T17:31:59.759Z"
   },
   {
    "duration": 56,
    "start_time": "2025-01-31T17:31:59.813Z"
   },
   {
    "duration": 41,
    "start_time": "2025-01-31T17:31:59.870Z"
   },
   {
    "duration": 170,
    "start_time": "2025-01-31T17:31:59.913Z"
   },
   {
    "duration": 18,
    "start_time": "2025-01-31T17:32:00.085Z"
   },
   {
    "duration": 41,
    "start_time": "2025-01-31T17:32:00.105Z"
   },
   {
    "duration": 144,
    "start_time": "2025-01-31T17:32:00.148Z"
   },
   {
    "duration": 15,
    "start_time": "2025-01-31T17:32:00.294Z"
   },
   {
    "duration": 27,
    "start_time": "2025-01-31T17:32:00.312Z"
   },
   {
    "duration": 70,
    "start_time": "2025-01-31T17:32:00.340Z"
   },
   {
    "duration": 37,
    "start_time": "2025-01-31T17:32:00.412Z"
   },
   {
    "duration": 16,
    "start_time": "2025-01-31T17:32:00.451Z"
   },
   {
    "duration": 4,
    "start_time": "2025-01-31T17:32:00.469Z"
   },
   {
    "duration": 74,
    "start_time": "2025-01-31T17:32:00.474Z"
   },
   {
    "duration": 8,
    "start_time": "2025-01-31T17:32:00.549Z"
   },
   {
    "duration": 59,
    "start_time": "2025-01-31T17:32:00.559Z"
   },
   {
    "duration": 116,
    "start_time": "2025-01-31T17:32:00.620Z"
   },
   {
    "duration": 21,
    "start_time": "2025-01-31T17:32:00.738Z"
   },
   {
    "duration": 25,
    "start_time": "2025-01-31T17:32:00.761Z"
   },
   {
    "duration": 24,
    "start_time": "2025-01-31T17:32:00.788Z"
   },
   {
    "duration": 22,
    "start_time": "2025-01-31T17:32:00.814Z"
   },
   {
    "duration": 38,
    "start_time": "2025-01-31T17:32:00.838Z"
   },
   {
    "duration": 250,
    "start_time": "2025-01-31T17:32:00.878Z"
   },
   {
    "duration": 152,
    "start_time": "2025-01-31T17:32:01.132Z"
   },
   {
    "duration": 5,
    "start_time": "2025-01-31T17:32:01.286Z"
   },
   {
    "duration": 10,
    "start_time": "2025-01-31T17:32:01.292Z"
   },
   {
    "duration": 51,
    "start_time": "2025-01-31T17:35:02.598Z"
   },
   {
    "duration": 2267,
    "start_time": "2025-01-31T17:35:19.648Z"
   },
   {
    "duration": 267,
    "start_time": "2025-01-31T17:35:21.917Z"
   },
   {
    "duration": 28,
    "start_time": "2025-01-31T17:35:22.185Z"
   },
   {
    "duration": 59,
    "start_time": "2025-01-31T17:35:22.233Z"
   },
   {
    "duration": 11,
    "start_time": "2025-01-31T17:35:22.294Z"
   },
   {
    "duration": 71,
    "start_time": "2025-01-31T17:35:22.306Z"
   },
   {
    "duration": 59,
    "start_time": "2025-01-31T17:35:22.379Z"
   },
   {
    "duration": 39,
    "start_time": "2025-01-31T17:35:22.440Z"
   },
   {
    "duration": 166,
    "start_time": "2025-01-31T17:35:22.481Z"
   },
   {
    "duration": 20,
    "start_time": "2025-01-31T17:35:22.649Z"
   },
   {
    "duration": 27,
    "start_time": "2025-01-31T17:35:22.671Z"
   },
   {
    "duration": 174,
    "start_time": "2025-01-31T17:35:22.700Z"
   },
   {
    "duration": 17,
    "start_time": "2025-01-31T17:35:22.877Z"
   },
   {
    "duration": 23,
    "start_time": "2025-01-31T17:35:22.898Z"
   },
   {
    "duration": 30,
    "start_time": "2025-01-31T17:35:22.923Z"
   },
   {
    "duration": 27,
    "start_time": "2025-01-31T17:35:22.956Z"
   },
   {
    "duration": 17,
    "start_time": "2025-01-31T17:35:22.985Z"
   },
   {
    "duration": 31,
    "start_time": "2025-01-31T17:35:23.004Z"
   },
   {
    "duration": 24,
    "start_time": "2025-01-31T17:35:23.036Z"
   },
   {
    "duration": 3,
    "start_time": "2025-01-31T17:35:23.062Z"
   },
   {
    "duration": 69,
    "start_time": "2025-01-31T17:35:23.066Z"
   },
   {
    "duration": 112,
    "start_time": "2025-01-31T17:35:23.137Z"
   },
   {
    "duration": 21,
    "start_time": "2025-01-31T17:35:23.250Z"
   },
   {
    "duration": 27,
    "start_time": "2025-01-31T17:35:23.273Z"
   },
   {
    "duration": 7,
    "start_time": "2025-01-31T17:35:23.302Z"
   },
   {
    "duration": 6,
    "start_time": "2025-01-31T17:35:23.332Z"
   },
   {
    "duration": 7,
    "start_time": "2025-01-31T17:35:23.340Z"
   },
   {
    "duration": 170,
    "start_time": "2025-01-31T17:35:23.349Z"
   },
   {
    "duration": 157,
    "start_time": "2025-01-31T17:35:23.521Z"
   },
   {
    "duration": 219,
    "start_time": "2025-01-31T17:35:23.680Z"
   },
   {
    "duration": 0,
    "start_time": "2025-01-31T17:35:23.902Z"
   },
   {
    "duration": 0,
    "start_time": "2025-01-31T17:35:23.903Z"
   },
   {
    "duration": 0,
    "start_time": "2025-01-31T17:35:23.905Z"
   },
   {
    "duration": 0,
    "start_time": "2025-01-31T17:35:23.906Z"
   },
   {
    "duration": 0,
    "start_time": "2025-01-31T17:35:23.908Z"
   },
   {
    "duration": 0,
    "start_time": "2025-01-31T17:35:23.933Z"
   },
   {
    "duration": 0,
    "start_time": "2025-01-31T17:35:23.935Z"
   },
   {
    "duration": 0,
    "start_time": "2025-01-31T17:35:23.937Z"
   },
   {
    "duration": 0,
    "start_time": "2025-01-31T17:35:23.938Z"
   },
   {
    "duration": 0,
    "start_time": "2025-01-31T17:35:23.940Z"
   },
   {
    "duration": 4,
    "start_time": "2025-01-31T17:35:39.386Z"
   },
   {
    "duration": 6,
    "start_time": "2025-01-31T17:36:38.160Z"
   },
   {
    "duration": 7,
    "start_time": "2025-01-31T17:36:54.251Z"
   },
   {
    "duration": 7,
    "start_time": "2025-01-31T17:37:46.230Z"
   },
   {
    "duration": 116,
    "start_time": "2025-01-31T17:38:07.855Z"
   },
   {
    "duration": 193,
    "start_time": "2025-01-31T17:39:31.998Z"
   },
   {
    "duration": 10,
    "start_time": "2025-01-31T17:42:01.666Z"
   },
   {
    "duration": 16,
    "start_time": "2025-01-31T17:42:05.985Z"
   },
   {
    "duration": 163,
    "start_time": "2025-01-31T17:42:34.317Z"
   },
   {
    "duration": 2372,
    "start_time": "2025-01-31T17:44:13.485Z"
   },
   {
    "duration": 226,
    "start_time": "2025-01-31T17:44:38.543Z"
   },
   {
    "duration": 153,
    "start_time": "2025-01-31T17:45:56.119Z"
   },
   {
    "duration": 200,
    "start_time": "2025-01-31T17:47:07.629Z"
   },
   {
    "duration": 181,
    "start_time": "2025-01-31T17:47:13.496Z"
   },
   {
    "duration": 170,
    "start_time": "2025-01-31T17:47:21.045Z"
   },
   {
    "duration": 183,
    "start_time": "2025-01-31T17:49:12.571Z"
   },
   {
    "duration": 174,
    "start_time": "2025-01-31T17:49:39.661Z"
   },
   {
    "duration": 161,
    "start_time": "2025-01-31T17:53:44.536Z"
   },
   {
    "duration": 153,
    "start_time": "2025-01-31T17:54:00.699Z"
   },
   {
    "duration": 148,
    "start_time": "2025-01-31T17:54:14.335Z"
   },
   {
    "duration": 8,
    "start_time": "2025-01-31T17:55:49.041Z"
   },
   {
    "duration": 8,
    "start_time": "2025-01-31T17:55:58.668Z"
   },
   {
    "duration": 2047,
    "start_time": "2025-01-31T17:56:47.380Z"
   },
   {
    "duration": 267,
    "start_time": "2025-01-31T17:56:49.432Z"
   },
   {
    "duration": 27,
    "start_time": "2025-01-31T17:56:49.701Z"
   },
   {
    "duration": 87,
    "start_time": "2025-01-31T17:56:49.733Z"
   },
   {
    "duration": 16,
    "start_time": "2025-01-31T17:56:49.822Z"
   },
   {
    "duration": 52,
    "start_time": "2025-01-31T17:56:49.839Z"
   },
   {
    "duration": 53,
    "start_time": "2025-01-31T17:56:49.893Z"
   },
   {
    "duration": 39,
    "start_time": "2025-01-31T17:56:49.948Z"
   },
   {
    "duration": 164,
    "start_time": "2025-01-31T17:56:49.989Z"
   },
   {
    "duration": 19,
    "start_time": "2025-01-31T17:56:50.155Z"
   },
   {
    "duration": 26,
    "start_time": "2025-01-31T17:56:50.175Z"
   },
   {
    "duration": 166,
    "start_time": "2025-01-31T17:56:50.202Z"
   },
   {
    "duration": 17,
    "start_time": "2025-01-31T17:56:50.369Z"
   },
   {
    "duration": 4,
    "start_time": "2025-01-31T17:56:50.390Z"
   },
   {
    "duration": 48,
    "start_time": "2025-01-31T17:56:50.395Z"
   },
   {
    "duration": 25,
    "start_time": "2025-01-31T17:56:50.445Z"
   },
   {
    "duration": 16,
    "start_time": "2025-01-31T17:56:50.472Z"
   },
   {
    "duration": 4,
    "start_time": "2025-01-31T17:56:50.489Z"
   },
   {
    "duration": 52,
    "start_time": "2025-01-31T17:56:50.495Z"
   },
   {
    "duration": 4,
    "start_time": "2025-01-31T17:56:50.549Z"
   },
   {
    "duration": 55,
    "start_time": "2025-01-31T17:56:50.555Z"
   },
   {
    "duration": 129,
    "start_time": "2025-01-31T17:56:50.613Z"
   },
   {
    "duration": 24,
    "start_time": "2025-01-31T17:56:50.744Z"
   },
   {
    "duration": 83,
    "start_time": "2025-01-31T17:56:50.770Z"
   },
   {
    "duration": 32,
    "start_time": "2025-01-31T17:56:50.855Z"
   },
   {
    "duration": 10,
    "start_time": "2025-01-31T17:56:50.888Z"
   },
   {
    "duration": 18,
    "start_time": "2025-01-31T17:56:50.899Z"
   },
   {
    "duration": 193,
    "start_time": "2025-01-31T17:56:50.918Z"
   },
   {
    "duration": 161,
    "start_time": "2025-01-31T17:56:51.112Z"
   },
   {
    "duration": 8,
    "start_time": "2025-01-31T17:56:51.274Z"
   },
   {
    "duration": 7,
    "start_time": "2025-01-31T17:56:51.284Z"
   },
   {
    "duration": 40,
    "start_time": "2025-01-31T17:56:51.293Z"
   },
   {
    "duration": 158,
    "start_time": "2025-01-31T17:56:51.335Z"
   },
   {
    "duration": 7,
    "start_time": "2025-01-31T17:56:51.495Z"
   },
   {
    "duration": 44,
    "start_time": "2025-01-31T17:56:51.504Z"
   },
   {
    "duration": 25,
    "start_time": "2025-01-31T17:56:51.550Z"
   },
   {
    "duration": 27,
    "start_time": "2025-01-31T17:56:51.577Z"
   },
   {
    "duration": 18,
    "start_time": "2025-01-31T17:56:51.605Z"
   },
   {
    "duration": 8,
    "start_time": "2025-01-31T17:59:07.249Z"
   },
   {
    "duration": 8,
    "start_time": "2025-01-31T17:59:27.009Z"
   },
   {
    "duration": 9,
    "start_time": "2025-01-31T17:59:30.500Z"
   },
   {
    "duration": 8,
    "start_time": "2025-01-31T17:59:36.741Z"
   },
   {
    "duration": 8,
    "start_time": "2025-01-31T17:59:56.057Z"
   },
   {
    "duration": 8,
    "start_time": "2025-01-31T17:59:59.720Z"
   },
   {
    "duration": 9,
    "start_time": "2025-01-31T18:00:07.063Z"
   },
   {
    "duration": 4,
    "start_time": "2025-01-31T18:00:25.357Z"
   },
   {
    "duration": 5,
    "start_time": "2025-01-31T18:00:40.240Z"
   },
   {
    "duration": 4,
    "start_time": "2025-01-31T18:00:47.354Z"
   },
   {
    "duration": 5,
    "start_time": "2025-01-31T18:01:23.275Z"
   },
   {
    "duration": 5,
    "start_time": "2025-01-31T18:01:27.655Z"
   },
   {
    "duration": 5,
    "start_time": "2025-01-31T18:01:31.484Z"
   },
   {
    "duration": 5,
    "start_time": "2025-01-31T18:02:44.360Z"
   },
   {
    "duration": 10,
    "start_time": "2025-01-31T18:03:07.734Z"
   },
   {
    "duration": 2445,
    "start_time": "2025-02-01T11:22:35.387Z"
   },
   {
    "duration": 284,
    "start_time": "2025-02-01T11:22:37.835Z"
   },
   {
    "duration": 28,
    "start_time": "2025-02-01T11:22:38.121Z"
   },
   {
    "duration": 87,
    "start_time": "2025-02-01T11:22:38.151Z"
   },
   {
    "duration": 11,
    "start_time": "2025-02-01T11:22:38.240Z"
   },
   {
    "duration": 68,
    "start_time": "2025-02-01T11:22:38.253Z"
   },
   {
    "duration": 45,
    "start_time": "2025-02-01T11:22:38.323Z"
   },
   {
    "duration": 44,
    "start_time": "2025-02-01T11:22:38.369Z"
   },
   {
    "duration": 176,
    "start_time": "2025-02-01T11:22:38.415Z"
   },
   {
    "duration": 19,
    "start_time": "2025-02-01T11:22:38.593Z"
   },
   {
    "duration": 38,
    "start_time": "2025-02-01T11:22:38.613Z"
   },
   {
    "duration": 154,
    "start_time": "2025-02-01T11:22:38.653Z"
   },
   {
    "duration": 28,
    "start_time": "2025-02-01T11:22:38.809Z"
   },
   {
    "duration": 42,
    "start_time": "2025-02-01T11:22:38.841Z"
   },
   {
    "duration": 65,
    "start_time": "2025-02-01T11:22:38.884Z"
   },
   {
    "duration": 27,
    "start_time": "2025-02-01T11:22:38.950Z"
   },
   {
    "duration": 18,
    "start_time": "2025-02-01T11:22:38.979Z"
   },
   {
    "duration": 13,
    "start_time": "2025-02-01T11:22:38.999Z"
   },
   {
    "duration": 58,
    "start_time": "2025-02-01T11:22:39.014Z"
   },
   {
    "duration": 10,
    "start_time": "2025-02-01T11:22:39.074Z"
   },
   {
    "duration": 75,
    "start_time": "2025-02-01T11:22:39.086Z"
   },
   {
    "duration": 120,
    "start_time": "2025-02-01T11:22:39.164Z"
   },
   {
    "duration": 24,
    "start_time": "2025-02-01T11:22:39.286Z"
   },
   {
    "duration": 37,
    "start_time": "2025-02-01T11:22:39.312Z"
   },
   {
    "duration": 44,
    "start_time": "2025-02-01T11:22:39.351Z"
   },
   {
    "duration": 33,
    "start_time": "2025-02-01T11:22:39.397Z"
   },
   {
    "duration": 50,
    "start_time": "2025-02-01T11:22:39.432Z"
   },
   {
    "duration": 195,
    "start_time": "2025-02-01T11:22:39.483Z"
   },
   {
    "duration": 178,
    "start_time": "2025-02-01T11:22:39.680Z"
   },
   {
    "duration": 8,
    "start_time": "2025-02-01T11:22:39.860Z"
   },
   {
    "duration": 20,
    "start_time": "2025-02-01T11:22:39.870Z"
   },
   {
    "duration": 40,
    "start_time": "2025-02-01T11:22:39.892Z"
   },
   {
    "duration": 168,
    "start_time": "2025-02-01T11:22:39.934Z"
   },
   {
    "duration": 7,
    "start_time": "2025-02-01T11:22:40.105Z"
   },
   {
    "duration": 61,
    "start_time": "2025-02-01T11:22:40.114Z"
   },
   {
    "duration": 17,
    "start_time": "2025-02-01T11:22:40.177Z"
   },
   {
    "duration": 31,
    "start_time": "2025-02-01T11:22:40.196Z"
   },
   {
    "duration": 18,
    "start_time": "2025-02-01T11:22:40.229Z"
   },
   {
    "duration": 5,
    "start_time": "2025-02-01T11:26:53.741Z"
   },
   {
    "duration": 5,
    "start_time": "2025-02-01T11:30:07.199Z"
   },
   {
    "duration": 5,
    "start_time": "2025-02-01T11:30:10.424Z"
   },
   {
    "duration": 53,
    "start_time": "2025-02-01T11:37:18.606Z"
   },
   {
    "duration": 40,
    "start_time": "2025-02-01T11:49:31.582Z"
   },
   {
    "duration": 36,
    "start_time": "2025-02-01T11:50:25.237Z"
   },
   {
    "duration": 637,
    "start_time": "2025-02-01T12:01:05.829Z"
   },
   {
    "duration": 1849,
    "start_time": "2025-02-01T12:01:57.246Z"
   },
   {
    "duration": 312,
    "start_time": "2025-02-01T12:01:59.097Z"
   },
   {
    "duration": 34,
    "start_time": "2025-02-01T12:01:59.410Z"
   },
   {
    "duration": 94,
    "start_time": "2025-02-01T12:01:59.446Z"
   },
   {
    "duration": 17,
    "start_time": "2025-02-01T12:01:59.544Z"
   },
   {
    "duration": 52,
    "start_time": "2025-02-01T12:01:59.562Z"
   },
   {
    "duration": 56,
    "start_time": "2025-02-01T12:01:59.634Z"
   },
   {
    "duration": 73,
    "start_time": "2025-02-01T12:01:59.692Z"
   },
   {
    "duration": 20,
    "start_time": "2025-02-01T12:01:59.767Z"
   },
   {
    "duration": 46,
    "start_time": "2025-02-01T12:01:59.789Z"
   },
   {
    "duration": 189,
    "start_time": "2025-02-01T12:01:59.838Z"
   },
   {
    "duration": 29,
    "start_time": "2025-02-01T12:02:00.029Z"
   },
   {
    "duration": 45,
    "start_time": "2025-02-01T12:02:00.060Z"
   },
   {
    "duration": 45,
    "start_time": "2025-02-01T12:02:00.109Z"
   },
   {
    "duration": 59,
    "start_time": "2025-02-01T12:02:00.157Z"
   },
   {
    "duration": 56,
    "start_time": "2025-02-01T12:02:00.218Z"
   },
   {
    "duration": 64,
    "start_time": "2025-02-01T12:02:00.276Z"
   },
   {
    "duration": 57,
    "start_time": "2025-02-01T12:02:00.342Z"
   },
   {
    "duration": 83,
    "start_time": "2025-02-01T12:02:00.401Z"
   },
   {
    "duration": 112,
    "start_time": "2025-02-01T12:02:00.486Z"
   },
   {
    "duration": 35,
    "start_time": "2025-02-01T12:02:00.601Z"
   },
   {
    "duration": 34,
    "start_time": "2025-02-01T12:02:00.638Z"
   },
   {
    "duration": 8,
    "start_time": "2025-02-01T12:02:00.674Z"
   },
   {
    "duration": 27,
    "start_time": "2025-02-01T12:02:00.684Z"
   },
   {
    "duration": 12,
    "start_time": "2025-02-01T12:02:00.713Z"
   },
   {
    "duration": 197,
    "start_time": "2025-02-01T12:02:00.727Z"
   },
   {
    "duration": 188,
    "start_time": "2025-02-01T12:02:00.926Z"
   },
   {
    "duration": 4,
    "start_time": "2025-02-01T12:02:01.116Z"
   },
   {
    "duration": 28,
    "start_time": "2025-02-01T12:02:01.134Z"
   },
   {
    "duration": 21,
    "start_time": "2025-02-01T12:02:01.165Z"
   },
   {
    "duration": 32,
    "start_time": "2025-02-01T12:02:01.187Z"
   },
   {
    "duration": 170,
    "start_time": "2025-02-01T12:02:01.221Z"
   },
   {
    "duration": 8,
    "start_time": "2025-02-01T12:02:01.393Z"
   },
   {
    "duration": 56,
    "start_time": "2025-02-01T12:02:01.403Z"
   },
   {
    "duration": 15,
    "start_time": "2025-02-01T12:02:01.461Z"
   },
   {
    "duration": 25,
    "start_time": "2025-02-01T12:02:01.478Z"
   },
   {
    "duration": 9,
    "start_time": "2025-02-01T12:02:01.504Z"
   },
   {
    "duration": 2599,
    "start_time": "2025-02-01T12:03:05.040Z"
   },
   {
    "duration": 263,
    "start_time": "2025-02-01T12:03:07.642Z"
   },
   {
    "duration": 46,
    "start_time": "2025-02-01T12:03:07.907Z"
   },
   {
    "duration": 94,
    "start_time": "2025-02-01T12:03:07.956Z"
   },
   {
    "duration": 19,
    "start_time": "2025-02-01T12:03:08.053Z"
   },
   {
    "duration": 74,
    "start_time": "2025-02-01T12:03:08.073Z"
   },
   {
    "duration": 46,
    "start_time": "2025-02-01T12:03:08.149Z"
   },
   {
    "duration": 69,
    "start_time": "2025-02-01T12:03:08.196Z"
   },
   {
    "duration": 21,
    "start_time": "2025-02-01T12:03:08.266Z"
   },
   {
    "duration": 46,
    "start_time": "2025-02-01T12:03:08.288Z"
   },
   {
    "duration": 196,
    "start_time": "2025-02-01T12:03:08.337Z"
   },
   {
    "duration": 24,
    "start_time": "2025-02-01T12:03:08.536Z"
   },
   {
    "duration": 25,
    "start_time": "2025-02-01T12:03:08.562Z"
   },
   {
    "duration": 64,
    "start_time": "2025-02-01T12:03:08.590Z"
   },
   {
    "duration": 21,
    "start_time": "2025-02-01T12:03:08.656Z"
   },
   {
    "duration": 5,
    "start_time": "2025-02-01T12:03:08.678Z"
   },
   {
    "duration": 47,
    "start_time": "2025-02-01T12:03:08.686Z"
   },
   {
    "duration": 5,
    "start_time": "2025-02-01T12:03:08.736Z"
   },
   {
    "duration": 60,
    "start_time": "2025-02-01T12:03:08.743Z"
   },
   {
    "duration": 151,
    "start_time": "2025-02-01T12:03:08.804Z"
   },
   {
    "duration": 25,
    "start_time": "2025-02-01T12:03:08.957Z"
   },
   {
    "duration": 173,
    "start_time": "2025-02-01T12:03:08.984Z"
   },
   {
    "duration": 9,
    "start_time": "2025-02-01T12:03:09.159Z"
   },
   {
    "duration": 8,
    "start_time": "2025-02-01T12:03:09.169Z"
   },
   {
    "duration": 11,
    "start_time": "2025-02-01T12:03:09.179Z"
   },
   {
    "duration": 217,
    "start_time": "2025-02-01T12:03:09.192Z"
   },
   {
    "duration": 185,
    "start_time": "2025-02-01T12:03:09.411Z"
   },
   {
    "duration": 5,
    "start_time": "2025-02-01T12:03:09.598Z"
   },
   {
    "duration": 15,
    "start_time": "2025-02-01T12:03:09.604Z"
   },
   {
    "duration": 20,
    "start_time": "2025-02-01T12:03:09.621Z"
   },
   {
    "duration": 27,
    "start_time": "2025-02-01T12:03:09.644Z"
   },
   {
    "duration": 184,
    "start_time": "2025-02-01T12:03:09.673Z"
   },
   {
    "duration": 7,
    "start_time": "2025-02-01T12:03:09.859Z"
   },
   {
    "duration": 39,
    "start_time": "2025-02-01T12:03:09.867Z"
   },
   {
    "duration": 61,
    "start_time": "2025-02-01T12:03:09.908Z"
   },
   {
    "duration": 10,
    "start_time": "2025-02-01T12:03:09.972Z"
   },
   {
    "duration": 11,
    "start_time": "2025-02-01T12:03:09.984Z"
   },
   {
    "duration": 144,
    "start_time": "2025-02-01T12:07:41.427Z"
   },
   {
    "duration": 1361,
    "start_time": "2025-02-01T12:08:07.532Z"
   },
   {
    "duration": 215,
    "start_time": "2025-02-01T12:08:08.894Z"
   },
   {
    "duration": 42,
    "start_time": "2025-02-01T12:08:09.111Z"
   },
   {
    "duration": 106,
    "start_time": "2025-02-01T12:08:09.155Z"
   },
   {
    "duration": 11,
    "start_time": "2025-02-01T12:08:09.263Z"
   },
   {
    "duration": 64,
    "start_time": "2025-02-01T12:08:09.276Z"
   },
   {
    "duration": 51,
    "start_time": "2025-02-01T12:08:09.343Z"
   },
   {
    "duration": 72,
    "start_time": "2025-02-01T12:08:09.395Z"
   },
   {
    "duration": 20,
    "start_time": "2025-02-01T12:08:09.469Z"
   },
   {
    "duration": 46,
    "start_time": "2025-02-01T12:08:09.491Z"
   },
   {
    "duration": 188,
    "start_time": "2025-02-01T12:08:09.540Z"
   },
   {
    "duration": 16,
    "start_time": "2025-02-01T12:08:09.732Z"
   },
   {
    "duration": 28,
    "start_time": "2025-02-01T12:08:09.750Z"
   },
   {
    "duration": 26,
    "start_time": "2025-02-01T12:08:09.781Z"
   },
   {
    "duration": 22,
    "start_time": "2025-02-01T12:08:09.838Z"
   },
   {
    "duration": 5,
    "start_time": "2025-02-01T12:08:09.861Z"
   },
   {
    "duration": 29,
    "start_time": "2025-02-01T12:08:09.867Z"
   },
   {
    "duration": 3,
    "start_time": "2025-02-01T12:08:09.898Z"
   },
   {
    "duration": 150,
    "start_time": "2025-02-01T12:08:09.903Z"
   },
   {
    "duration": 0,
    "start_time": "2025-02-01T12:08:10.055Z"
   },
   {
    "duration": 0,
    "start_time": "2025-02-01T12:08:10.056Z"
   },
   {
    "duration": 0,
    "start_time": "2025-02-01T12:08:10.058Z"
   },
   {
    "duration": 0,
    "start_time": "2025-02-01T12:08:10.059Z"
   },
   {
    "duration": 0,
    "start_time": "2025-02-01T12:08:10.061Z"
   },
   {
    "duration": 0,
    "start_time": "2025-02-01T12:08:10.062Z"
   },
   {
    "duration": 0,
    "start_time": "2025-02-01T12:08:10.064Z"
   },
   {
    "duration": 0,
    "start_time": "2025-02-01T12:08:10.065Z"
   },
   {
    "duration": 0,
    "start_time": "2025-02-01T12:08:10.067Z"
   },
   {
    "duration": 0,
    "start_time": "2025-02-01T12:08:10.069Z"
   },
   {
    "duration": 0,
    "start_time": "2025-02-01T12:08:10.070Z"
   },
   {
    "duration": 0,
    "start_time": "2025-02-01T12:08:10.072Z"
   },
   {
    "duration": 0,
    "start_time": "2025-02-01T12:08:10.074Z"
   },
   {
    "duration": 0,
    "start_time": "2025-02-01T12:08:10.075Z"
   },
   {
    "duration": 0,
    "start_time": "2025-02-01T12:08:10.077Z"
   },
   {
    "duration": 0,
    "start_time": "2025-02-01T12:08:10.078Z"
   },
   {
    "duration": 0,
    "start_time": "2025-02-01T12:08:10.080Z"
   },
   {
    "duration": 0,
    "start_time": "2025-02-01T12:08:10.081Z"
   },
   {
    "duration": 54,
    "start_time": "2025-02-01T12:08:41.165Z"
   },
   {
    "duration": 65,
    "start_time": "2025-02-01T12:11:28.954Z"
   },
   {
    "duration": 1375,
    "start_time": "2025-02-01T12:12:17.442Z"
   },
   {
    "duration": 202,
    "start_time": "2025-02-01T12:12:18.819Z"
   },
   {
    "duration": 36,
    "start_time": "2025-02-01T12:12:19.023Z"
   },
   {
    "duration": 92,
    "start_time": "2025-02-01T12:12:19.062Z"
   },
   {
    "duration": 14,
    "start_time": "2025-02-01T12:12:19.157Z"
   },
   {
    "duration": 76,
    "start_time": "2025-02-01T12:12:19.173Z"
   },
   {
    "duration": 44,
    "start_time": "2025-02-01T12:12:19.251Z"
   },
   {
    "duration": 63,
    "start_time": "2025-02-01T12:12:19.297Z"
   },
   {
    "duration": 19,
    "start_time": "2025-02-01T12:12:19.362Z"
   },
   {
    "duration": 59,
    "start_time": "2025-02-01T12:12:19.384Z"
   },
   {
    "duration": 173,
    "start_time": "2025-02-01T12:12:19.445Z"
   },
   {
    "duration": 29,
    "start_time": "2025-02-01T12:12:19.620Z"
   },
   {
    "duration": 23,
    "start_time": "2025-02-01T12:12:19.652Z"
   },
   {
    "duration": 39,
    "start_time": "2025-02-01T12:12:19.677Z"
   },
   {
    "duration": 30,
    "start_time": "2025-02-01T12:12:19.718Z"
   },
   {
    "duration": 4,
    "start_time": "2025-02-01T12:12:19.751Z"
   },
   {
    "duration": 37,
    "start_time": "2025-02-01T12:12:19.757Z"
   },
   {
    "duration": 3,
    "start_time": "2025-02-01T12:12:19.796Z"
   },
   {
    "duration": 85,
    "start_time": "2025-02-01T12:12:19.801Z"
   },
   {
    "duration": 116,
    "start_time": "2025-02-01T12:12:19.888Z"
   },
   {
    "duration": 33,
    "start_time": "2025-02-01T12:12:20.006Z"
   },
   {
    "duration": 62,
    "start_time": "2025-02-01T12:12:20.040Z"
   },
   {
    "duration": 10,
    "start_time": "2025-02-01T12:12:20.104Z"
   },
   {
    "duration": 20,
    "start_time": "2025-02-01T12:12:20.116Z"
   },
   {
    "duration": 17,
    "start_time": "2025-02-01T12:12:20.139Z"
   },
   {
    "duration": 214,
    "start_time": "2025-02-01T12:12:20.158Z"
   },
   {
    "duration": 190,
    "start_time": "2025-02-01T12:12:20.374Z"
   },
   {
    "duration": 4,
    "start_time": "2025-02-01T12:12:20.566Z"
   },
   {
    "duration": 14,
    "start_time": "2025-02-01T12:12:20.573Z"
   },
   {
    "duration": 24,
    "start_time": "2025-02-01T12:12:20.588Z"
   },
   {
    "duration": 54,
    "start_time": "2025-02-01T12:12:20.613Z"
   },
   {
    "duration": 152,
    "start_time": "2025-02-01T12:12:20.669Z"
   },
   {
    "duration": 13,
    "start_time": "2025-02-01T12:12:20.823Z"
   },
   {
    "duration": 35,
    "start_time": "2025-02-01T12:12:20.839Z"
   },
   {
    "duration": 22,
    "start_time": "2025-02-01T12:12:20.876Z"
   },
   {
    "duration": 10,
    "start_time": "2025-02-01T12:12:20.902Z"
   },
   {
    "duration": 29,
    "start_time": "2025-02-01T12:12:20.914Z"
   },
   {
    "duration": 8,
    "start_time": "2025-02-01T12:15:30.586Z"
   },
   {
    "duration": 531,
    "start_time": "2025-02-01T12:23:33.327Z"
   },
   {
    "duration": 14,
    "start_time": "2025-02-01T12:24:45.752Z"
   },
   {
    "duration": 160,
    "start_time": "2025-02-01T12:24:55.974Z"
   },
   {
    "duration": 231,
    "start_time": "2025-02-01T12:25:09.411Z"
   },
   {
    "duration": 167,
    "start_time": "2025-02-01T12:25:26.443Z"
   },
   {
    "duration": 10,
    "start_time": "2025-02-01T12:26:16.162Z"
   },
   {
    "duration": 163,
    "start_time": "2025-02-01T12:26:27.578Z"
   },
   {
    "duration": 141,
    "start_time": "2025-02-01T12:27:26.734Z"
   },
   {
    "duration": 171,
    "start_time": "2025-02-01T12:30:05.318Z"
   },
   {
    "duration": 166,
    "start_time": "2025-02-01T12:30:31.384Z"
   },
   {
    "duration": 165,
    "start_time": "2025-02-01T12:30:38.893Z"
   },
   {
    "duration": 165,
    "start_time": "2025-02-01T12:30:45.063Z"
   },
   {
    "duration": 161,
    "start_time": "2025-02-01T12:30:49.456Z"
   },
   {
    "duration": 158,
    "start_time": "2025-02-01T12:31:45.253Z"
   },
   {
    "duration": 5367,
    "start_time": "2025-02-01T12:34:30.710Z"
   },
   {
    "duration": 105,
    "start_time": "2025-02-01T12:34:51.259Z"
   },
   {
    "duration": 109,
    "start_time": "2025-02-01T12:35:24.799Z"
   },
   {
    "duration": 18,
    "start_time": "2025-02-01T12:41:12.833Z"
   },
   {
    "duration": 246,
    "start_time": "2025-02-01T12:41:46.661Z"
   },
   {
    "duration": 231,
    "start_time": "2025-02-01T12:42:13.415Z"
   },
   {
    "duration": 7,
    "start_time": "2025-02-01T12:43:50.722Z"
   },
   {
    "duration": 351,
    "start_time": "2025-02-01T12:44:10.294Z"
   },
   {
    "duration": 219,
    "start_time": "2025-02-01T12:47:30.703Z"
   },
   {
    "duration": 232,
    "start_time": "2025-02-01T12:47:58.305Z"
   },
   {
    "duration": 8,
    "start_time": "2025-02-01T12:51:50.185Z"
   },
   {
    "duration": 238,
    "start_time": "2025-02-01T12:52:20.294Z"
   },
   {
    "duration": 33,
    "start_time": "2025-02-01T13:03:59.046Z"
   },
   {
    "duration": 4,
    "start_time": "2025-02-01T13:06:39.267Z"
   },
   {
    "duration": 148,
    "start_time": "2025-02-01T13:07:28.680Z"
   },
   {
    "duration": 9,
    "start_time": "2025-02-01T13:07:32.560Z"
   },
   {
    "duration": 150,
    "start_time": "2025-02-01T13:07:45.070Z"
   },
   {
    "duration": 169,
    "start_time": "2025-02-01T13:09:10.484Z"
   },
   {
    "duration": 2423,
    "start_time": "2025-02-01T13:09:43.513Z"
   },
   {
    "duration": 162,
    "start_time": "2025-02-01T13:10:01.026Z"
   },
   {
    "duration": 171,
    "start_time": "2025-02-01T13:10:05.912Z"
   },
   {
    "duration": 14,
    "start_time": "2025-02-01T13:16:55.329Z"
   },
   {
    "duration": 12,
    "start_time": "2025-02-01T13:17:09.005Z"
   },
   {
    "duration": 8,
    "start_time": "2025-02-01T13:17:44.842Z"
   },
   {
    "duration": 8,
    "start_time": "2025-02-01T13:17:59.238Z"
   },
   {
    "duration": 1335,
    "start_time": "2025-02-01T13:24:22.135Z"
   },
   {
    "duration": 2170,
    "start_time": "2025-02-01T13:24:54.616Z"
   },
   {
    "duration": 291,
    "start_time": "2025-02-01T13:24:56.788Z"
   },
   {
    "duration": 29,
    "start_time": "2025-02-01T13:24:57.080Z"
   },
   {
    "duration": 80,
    "start_time": "2025-02-01T13:24:57.111Z"
   },
   {
    "duration": 40,
    "start_time": "2025-02-01T13:24:57.193Z"
   },
   {
    "duration": 47,
    "start_time": "2025-02-01T13:24:57.234Z"
   },
   {
    "duration": 60,
    "start_time": "2025-02-01T13:24:57.282Z"
   },
   {
    "duration": 39,
    "start_time": "2025-02-01T13:24:57.344Z"
   },
   {
    "duration": 19,
    "start_time": "2025-02-01T13:24:57.385Z"
   },
   {
    "duration": 52,
    "start_time": "2025-02-01T13:24:57.405Z"
   },
   {
    "duration": 181,
    "start_time": "2025-02-01T13:24:57.458Z"
   },
   {
    "duration": 15,
    "start_time": "2025-02-01T13:24:57.641Z"
   },
   {
    "duration": 21,
    "start_time": "2025-02-01T13:24:57.658Z"
   },
   {
    "duration": 56,
    "start_time": "2025-02-01T13:24:57.682Z"
   },
   {
    "duration": 25,
    "start_time": "2025-02-01T13:24:57.740Z"
   },
   {
    "duration": 5,
    "start_time": "2025-02-01T13:24:57.767Z"
   },
   {
    "duration": 44,
    "start_time": "2025-02-01T13:24:57.774Z"
   },
   {
    "duration": 12,
    "start_time": "2025-02-01T13:24:57.820Z"
   },
   {
    "duration": 52,
    "start_time": "2025-02-01T13:24:57.834Z"
   },
   {
    "duration": 123,
    "start_time": "2025-02-01T13:24:57.888Z"
   },
   {
    "duration": 38,
    "start_time": "2025-02-01T13:24:58.013Z"
   },
   {
    "duration": 23,
    "start_time": "2025-02-01T13:24:58.052Z"
   },
   {
    "duration": 7,
    "start_time": "2025-02-01T13:24:58.077Z"
   },
   {
    "duration": 7,
    "start_time": "2025-02-01T13:24:58.086Z"
   },
   {
    "duration": 12,
    "start_time": "2025-02-01T13:24:58.095Z"
   },
   {
    "duration": 199,
    "start_time": "2025-02-01T13:24:58.108Z"
   },
   {
    "duration": 10,
    "start_time": "2025-02-01T13:24:58.309Z"
   },
   {
    "duration": 24,
    "start_time": "2025-02-01T13:24:58.320Z"
   },
   {
    "duration": 171,
    "start_time": "2025-02-01T13:24:58.346Z"
   },
   {
    "duration": 4,
    "start_time": "2025-02-01T13:24:58.519Z"
   },
   {
    "duration": 6,
    "start_time": "2025-02-01T13:24:58.533Z"
   },
   {
    "duration": 24,
    "start_time": "2025-02-01T13:24:58.540Z"
   },
   {
    "duration": 152,
    "start_time": "2025-02-01T13:24:58.566Z"
   },
   {
    "duration": 16,
    "start_time": "2025-02-01T13:24:58.719Z"
   },
   {
    "duration": 39,
    "start_time": "2025-02-01T13:24:58.737Z"
   },
   {
    "duration": 8,
    "start_time": "2025-02-01T13:24:58.777Z"
   },
   {
    "duration": 12,
    "start_time": "2025-02-01T13:24:58.786Z"
   },
   {
    "duration": 17,
    "start_time": "2025-02-01T13:24:58.800Z"
   },
   {
    "duration": 164,
    "start_time": "2025-02-01T13:24:58.818Z"
   },
   {
    "duration": 242,
    "start_time": "2025-02-01T13:24:58.983Z"
   },
   {
    "duration": 2130,
    "start_time": "2025-02-01T13:26:30.215Z"
   },
   {
    "duration": 202,
    "start_time": "2025-02-01T13:26:32.347Z"
   },
   {
    "duration": 29,
    "start_time": "2025-02-01T13:26:32.551Z"
   },
   {
    "duration": 92,
    "start_time": "2025-02-01T13:26:32.581Z"
   },
   {
    "duration": 12,
    "start_time": "2025-02-01T13:26:32.675Z"
   },
   {
    "duration": 67,
    "start_time": "2025-02-01T13:26:32.689Z"
   },
   {
    "duration": 43,
    "start_time": "2025-02-01T13:26:32.758Z"
   },
   {
    "duration": 54,
    "start_time": "2025-02-01T13:26:32.803Z"
   },
   {
    "duration": 19,
    "start_time": "2025-02-01T13:26:32.858Z"
   },
   {
    "duration": 34,
    "start_time": "2025-02-01T13:26:32.879Z"
   },
   {
    "duration": 186,
    "start_time": "2025-02-01T13:26:32.914Z"
   },
   {
    "duration": 16,
    "start_time": "2025-02-01T13:26:33.102Z"
   },
   {
    "duration": 38,
    "start_time": "2025-02-01T13:26:33.119Z"
   },
   {
    "duration": 30,
    "start_time": "2025-02-01T13:26:33.160Z"
   },
   {
    "duration": 15,
    "start_time": "2025-02-01T13:26:33.191Z"
   },
   {
    "duration": 7,
    "start_time": "2025-02-01T13:26:33.208Z"
   },
   {
    "duration": 40,
    "start_time": "2025-02-01T13:26:33.217Z"
   },
   {
    "duration": 27,
    "start_time": "2025-02-01T13:26:33.259Z"
   },
   {
    "duration": 54,
    "start_time": "2025-02-01T13:26:33.288Z"
   },
   {
    "duration": 113,
    "start_time": "2025-02-01T13:26:33.344Z"
   },
   {
    "duration": 22,
    "start_time": "2025-02-01T13:26:33.459Z"
   },
   {
    "duration": 47,
    "start_time": "2025-02-01T13:26:33.483Z"
   },
   {
    "duration": 7,
    "start_time": "2025-02-01T13:26:33.532Z"
   },
   {
    "duration": 19,
    "start_time": "2025-02-01T13:26:33.541Z"
   },
   {
    "duration": 12,
    "start_time": "2025-02-01T13:26:33.561Z"
   },
   {
    "duration": 172,
    "start_time": "2025-02-01T13:26:33.575Z"
   },
   {
    "duration": 6,
    "start_time": "2025-02-01T13:26:33.748Z"
   },
   {
    "duration": 11,
    "start_time": "2025-02-01T13:26:33.756Z"
   },
   {
    "duration": 176,
    "start_time": "2025-02-01T13:26:33.768Z"
   },
   {
    "duration": 4,
    "start_time": "2025-02-01T13:26:33.946Z"
   },
   {
    "duration": 39,
    "start_time": "2025-02-01T13:26:33.951Z"
   },
   {
    "duration": 35,
    "start_time": "2025-02-01T13:26:33.991Z"
   },
   {
    "duration": 136,
    "start_time": "2025-02-01T13:26:34.028Z"
   },
   {
    "duration": 7,
    "start_time": "2025-02-01T13:26:34.166Z"
   },
   {
    "duration": 50,
    "start_time": "2025-02-01T13:26:34.174Z"
   },
   {
    "duration": 36,
    "start_time": "2025-02-01T13:26:34.226Z"
   },
   {
    "duration": 25,
    "start_time": "2025-02-01T13:26:34.264Z"
   },
   {
    "duration": 34,
    "start_time": "2025-02-01T13:26:34.291Z"
   },
   {
    "duration": 186,
    "start_time": "2025-02-01T13:26:34.327Z"
   },
   {
    "duration": 244,
    "start_time": "2025-02-01T13:26:34.515Z"
   },
   {
    "duration": 29,
    "start_time": "2025-02-01T13:27:17.509Z"
   },
   {
    "duration": 60,
    "start_time": "2025-02-01T13:27:58.514Z"
   },
   {
    "duration": 156,
    "start_time": "2025-02-01T13:44:16.444Z"
   },
   {
    "duration": 8,
    "start_time": "2025-02-01T13:49:35.979Z"
   },
   {
    "duration": 241,
    "start_time": "2025-02-01T13:49:54.682Z"
   },
   {
    "duration": 234,
    "start_time": "2025-02-01T13:50:14.389Z"
   },
   {
    "duration": 178,
    "start_time": "2025-02-01T13:50:16.436Z"
   },
   {
    "duration": 77,
    "start_time": "2025-02-01T13:52:26.027Z"
   },
   {
    "duration": 6,
    "start_time": "2025-02-01T13:52:31.702Z"
   },
   {
    "duration": 6,
    "start_time": "2025-02-01T13:52:42.992Z"
   },
   {
    "duration": 66,
    "start_time": "2025-02-01T14:12:08.880Z"
   },
   {
    "duration": 28,
    "start_time": "2025-02-01T14:24:19.962Z"
   },
   {
    "duration": 24,
    "start_time": "2025-02-01T14:24:26.611Z"
   },
   {
    "duration": 31,
    "start_time": "2025-02-01T14:25:00.881Z"
   },
   {
    "duration": 24,
    "start_time": "2025-02-01T14:25:04.684Z"
   },
   {
    "duration": 25,
    "start_time": "2025-02-01T14:26:11.948Z"
   },
   {
    "duration": 24,
    "start_time": "2025-02-01T14:26:13.701Z"
   },
   {
    "duration": 27,
    "start_time": "2025-02-01T14:26:34.698Z"
   },
   {
    "duration": 22,
    "start_time": "2025-02-01T14:26:35.045Z"
   },
   {
    "duration": 26,
    "start_time": "2025-02-01T14:28:37.985Z"
   },
   {
    "duration": 23,
    "start_time": "2025-02-01T14:28:40.706Z"
   },
   {
    "duration": 107,
    "start_time": "2025-02-01T14:36:44.802Z"
   },
   {
    "duration": 12,
    "start_time": "2025-02-01T14:37:23.022Z"
   },
   {
    "duration": 29,
    "start_time": "2025-02-01T14:37:36.980Z"
   },
   {
    "duration": 11,
    "start_time": "2025-02-01T14:38:00.816Z"
   },
   {
    "duration": 26,
    "start_time": "2025-02-01T14:38:04.445Z"
   },
   {
    "duration": 10,
    "start_time": "2025-02-01T14:39:32.943Z"
   },
   {
    "duration": 10,
    "start_time": "2025-02-01T14:40:51.396Z"
   },
   {
    "duration": 11,
    "start_time": "2025-02-01T14:41:05.186Z"
   },
   {
    "duration": 11,
    "start_time": "2025-02-01T14:41:31.911Z"
   },
   {
    "duration": 10,
    "start_time": "2025-02-01T14:41:39.681Z"
   },
   {
    "duration": 11,
    "start_time": "2025-02-01T14:41:44.867Z"
   },
   {
    "duration": 6,
    "start_time": "2025-02-01T14:43:06.351Z"
   },
   {
    "duration": 16,
    "start_time": "2025-02-01T14:43:19.906Z"
   },
   {
    "duration": 14,
    "start_time": "2025-02-01T14:43:22.861Z"
   },
   {
    "duration": 7,
    "start_time": "2025-02-01T14:43:30.443Z"
   },
   {
    "duration": 7,
    "start_time": "2025-02-01T14:47:09.442Z"
   },
   {
    "duration": 8,
    "start_time": "2025-02-01T14:53:01.122Z"
   },
   {
    "duration": 8,
    "start_time": "2025-02-01T14:53:30.113Z"
   },
   {
    "duration": 8,
    "start_time": "2025-02-01T14:55:13.538Z"
   },
   {
    "duration": 8,
    "start_time": "2025-02-01T14:57:13.089Z"
   },
   {
    "duration": 8,
    "start_time": "2025-02-01T15:02:31.566Z"
   },
   {
    "duration": 7,
    "start_time": "2025-02-01T15:02:38.112Z"
   },
   {
    "duration": 8,
    "start_time": "2025-02-01T15:02:47.028Z"
   },
   {
    "duration": 8,
    "start_time": "2025-02-01T15:02:54.576Z"
   },
   {
    "duration": 8,
    "start_time": "2025-02-01T15:08:19.990Z"
   },
   {
    "duration": 8,
    "start_time": "2025-02-01T15:08:41.816Z"
   },
   {
    "duration": 19,
    "start_time": "2025-02-01T15:25:21.715Z"
   },
   {
    "duration": 22,
    "start_time": "2025-02-01T15:25:26.335Z"
   },
   {
    "duration": 7,
    "start_time": "2025-02-01T15:28:07.588Z"
   },
   {
    "duration": 11,
    "start_time": "2025-02-01T15:31:33.222Z"
   },
   {
    "duration": 4,
    "start_time": "2025-02-01T15:33:36.149Z"
   },
   {
    "duration": 13,
    "start_time": "2025-02-01T15:35:35.412Z"
   },
   {
    "duration": 12,
    "start_time": "2025-02-01T15:35:49.482Z"
   },
   {
    "duration": 5,
    "start_time": "2025-02-01T15:41:33.144Z"
   },
   {
    "duration": 13,
    "start_time": "2025-02-01T15:42:52.092Z"
   },
   {
    "duration": 12,
    "start_time": "2025-02-01T15:55:01.405Z"
   },
   {
    "duration": 11,
    "start_time": "2025-02-01T15:56:09.664Z"
   },
   {
    "duration": 10,
    "start_time": "2025-02-01T15:56:41.599Z"
   },
   {
    "duration": 11,
    "start_time": "2025-02-01T16:04:44.847Z"
   },
   {
    "duration": 2095,
    "start_time": "2025-02-01T16:36:11.038Z"
   },
   {
    "duration": 207,
    "start_time": "2025-02-01T16:36:13.134Z"
   },
   {
    "duration": 29,
    "start_time": "2025-02-01T16:36:13.343Z"
   },
   {
    "duration": 88,
    "start_time": "2025-02-01T16:36:13.375Z"
   },
   {
    "duration": 12,
    "start_time": "2025-02-01T16:36:13.465Z"
   },
   {
    "duration": 73,
    "start_time": "2025-02-01T16:36:13.478Z"
   },
   {
    "duration": 43,
    "start_time": "2025-02-01T16:36:13.553Z"
   },
   {
    "duration": 55,
    "start_time": "2025-02-01T16:36:13.598Z"
   },
   {
    "duration": 19,
    "start_time": "2025-02-01T16:36:13.654Z"
   },
   {
    "duration": 26,
    "start_time": "2025-02-01T16:36:13.674Z"
   },
   {
    "duration": 177,
    "start_time": "2025-02-01T16:36:13.702Z"
   },
   {
    "duration": 15,
    "start_time": "2025-02-01T16:36:13.880Z"
   },
   {
    "duration": 40,
    "start_time": "2025-02-01T16:36:13.898Z"
   },
   {
    "duration": 25,
    "start_time": "2025-02-01T16:36:13.939Z"
   },
   {
    "duration": 16,
    "start_time": "2025-02-01T16:36:13.966Z"
   },
   {
    "duration": 4,
    "start_time": "2025-02-01T16:36:13.984Z"
   },
   {
    "duration": 52,
    "start_time": "2025-02-01T16:36:13.990Z"
   },
   {
    "duration": 3,
    "start_time": "2025-02-01T16:36:14.043Z"
   },
   {
    "duration": 58,
    "start_time": "2025-02-01T16:36:14.048Z"
   },
   {
    "duration": 127,
    "start_time": "2025-02-01T16:36:14.107Z"
   },
   {
    "duration": 24,
    "start_time": "2025-02-01T16:36:14.235Z"
   },
   {
    "duration": 23,
    "start_time": "2025-02-01T16:36:14.260Z"
   },
   {
    "duration": 16,
    "start_time": "2025-02-01T16:36:14.285Z"
   },
   {
    "duration": 7,
    "start_time": "2025-02-01T16:36:14.303Z"
   },
   {
    "duration": 10,
    "start_time": "2025-02-01T16:36:14.332Z"
   },
   {
    "duration": 188,
    "start_time": "2025-02-01T16:36:14.344Z"
   },
   {
    "duration": 8,
    "start_time": "2025-02-01T16:36:14.534Z"
   },
   {
    "duration": 21,
    "start_time": "2025-02-01T16:36:14.543Z"
   },
   {
    "duration": 168,
    "start_time": "2025-02-01T16:36:14.566Z"
   },
   {
    "duration": 4,
    "start_time": "2025-02-01T16:36:14.736Z"
   },
   {
    "duration": 5,
    "start_time": "2025-02-01T16:36:14.742Z"
   },
   {
    "duration": 23,
    "start_time": "2025-02-01T16:36:14.749Z"
   },
   {
    "duration": 169,
    "start_time": "2025-02-01T16:36:14.774Z"
   },
   {
    "duration": 6,
    "start_time": "2025-02-01T16:36:14.945Z"
   },
   {
    "duration": 29,
    "start_time": "2025-02-01T16:36:14.953Z"
   },
   {
    "duration": 8,
    "start_time": "2025-02-01T16:36:14.984Z"
   },
   {
    "duration": 49,
    "start_time": "2025-02-01T16:36:14.993Z"
   },
   {
    "duration": 80,
    "start_time": "2025-02-01T16:36:15.044Z"
   },
   {
    "duration": 266,
    "start_time": "2025-02-01T16:36:15.126Z"
   },
   {
    "duration": 168,
    "start_time": "2025-02-01T16:36:15.395Z"
   },
   {
    "duration": 159,
    "start_time": "2025-02-01T16:36:15.564Z"
   },
   {
    "duration": 32,
    "start_time": "2025-02-01T16:36:15.724Z"
   },
   {
    "duration": 25,
    "start_time": "2025-02-01T16:36:15.758Z"
   },
   {
    "duration": 121,
    "start_time": "2025-02-01T16:36:15.785Z"
   },
   {
    "duration": 0,
    "start_time": "2025-02-01T16:36:15.907Z"
   },
   {
    "duration": 0,
    "start_time": "2025-02-01T16:36:15.909Z"
   },
   {
    "duration": 7,
    "start_time": "2025-02-01T16:36:45.911Z"
   },
   {
    "duration": 2257,
    "start_time": "2025-02-01T16:37:03.873Z"
   },
   {
    "duration": 267,
    "start_time": "2025-02-01T16:37:06.132Z"
   },
   {
    "duration": 38,
    "start_time": "2025-02-01T16:37:06.401Z"
   },
   {
    "duration": 61,
    "start_time": "2025-02-01T16:37:06.441Z"
   },
   {
    "duration": 38,
    "start_time": "2025-02-01T16:37:06.504Z"
   },
   {
    "duration": 62,
    "start_time": "2025-02-01T16:37:06.543Z"
   },
   {
    "duration": 42,
    "start_time": "2025-02-01T16:37:06.607Z"
   },
   {
    "duration": 40,
    "start_time": "2025-02-01T16:37:06.651Z"
   },
   {
    "duration": 19,
    "start_time": "2025-02-01T16:37:06.693Z"
   },
   {
    "duration": 44,
    "start_time": "2025-02-01T16:37:06.714Z"
   },
   {
    "duration": 165,
    "start_time": "2025-02-01T16:37:06.759Z"
   },
   {
    "duration": 17,
    "start_time": "2025-02-01T16:37:06.932Z"
   },
   {
    "duration": 24,
    "start_time": "2025-02-01T16:37:06.950Z"
   },
   {
    "duration": 40,
    "start_time": "2025-02-01T16:37:06.977Z"
   },
   {
    "duration": 29,
    "start_time": "2025-02-01T16:37:07.019Z"
   },
   {
    "duration": 31,
    "start_time": "2025-02-01T16:37:07.050Z"
   },
   {
    "duration": 53,
    "start_time": "2025-02-01T16:37:07.082Z"
   },
   {
    "duration": 38,
    "start_time": "2025-02-01T16:37:07.138Z"
   },
   {
    "duration": 99,
    "start_time": "2025-02-01T16:37:07.178Z"
   },
   {
    "duration": 120,
    "start_time": "2025-02-01T16:37:07.280Z"
   },
   {
    "duration": 37,
    "start_time": "2025-02-01T16:37:07.402Z"
   },
   {
    "duration": 26,
    "start_time": "2025-02-01T16:37:07.441Z"
   },
   {
    "duration": 26,
    "start_time": "2025-02-01T16:37:07.469Z"
   },
   {
    "duration": 20,
    "start_time": "2025-02-01T16:37:07.497Z"
   },
   {
    "duration": 21,
    "start_time": "2025-02-01T16:37:07.518Z"
   },
   {
    "duration": 218,
    "start_time": "2025-02-01T16:37:07.541Z"
   },
   {
    "duration": 9,
    "start_time": "2025-02-01T16:37:07.761Z"
   },
   {
    "duration": 20,
    "start_time": "2025-02-01T16:37:07.773Z"
   },
   {
    "duration": 170,
    "start_time": "2025-02-01T16:37:07.795Z"
   },
   {
    "duration": 5,
    "start_time": "2025-02-01T16:37:07.967Z"
   },
   {
    "duration": 23,
    "start_time": "2025-02-01T16:37:07.974Z"
   },
   {
    "duration": 30,
    "start_time": "2025-02-01T16:37:07.999Z"
   },
   {
    "duration": 144,
    "start_time": "2025-02-01T16:37:08.032Z"
   },
   {
    "duration": 6,
    "start_time": "2025-02-01T16:37:08.178Z"
   },
   {
    "duration": 41,
    "start_time": "2025-02-01T16:37:08.186Z"
   },
   {
    "duration": 21,
    "start_time": "2025-02-01T16:37:08.229Z"
   },
   {
    "duration": 13,
    "start_time": "2025-02-01T16:37:08.252Z"
   },
   {
    "duration": 17,
    "start_time": "2025-02-01T16:37:08.267Z"
   },
   {
    "duration": 240,
    "start_time": "2025-02-01T16:37:08.286Z"
   },
   {
    "duration": 176,
    "start_time": "2025-02-01T16:37:08.528Z"
   },
   {
    "duration": 164,
    "start_time": "2025-02-01T16:37:08.709Z"
   },
   {
    "duration": 29,
    "start_time": "2025-02-01T16:37:08.875Z"
   },
   {
    "duration": 38,
    "start_time": "2025-02-01T16:37:08.906Z"
   },
   {
    "duration": 7,
    "start_time": "2025-02-01T16:37:08.946Z"
   },
   {
    "duration": 26,
    "start_time": "2025-02-01T16:37:08.955Z"
   },
   {
    "duration": 13,
    "start_time": "2025-02-01T16:37:08.983Z"
   },
   {
    "duration": 159,
    "start_time": "2025-02-01T17:38:02.916Z"
   },
   {
    "duration": 5,
    "start_time": "2025-02-01T17:38:05.816Z"
   },
   {
    "duration": 10,
    "start_time": "2025-02-01T17:38:19.723Z"
   },
   {
    "duration": 13,
    "start_time": "2025-02-01T17:38:25.896Z"
   },
   {
    "duration": 12,
    "start_time": "2025-02-01T17:41:25.334Z"
   },
   {
    "duration": 5,
    "start_time": "2025-02-01T17:59:01.233Z"
   },
   {
    "duration": 48,
    "start_time": "2025-02-02T09:36:22.736Z"
   },
   {
    "duration": 1350,
    "start_time": "2025-02-02T09:36:29.643Z"
   },
   {
    "duration": 311,
    "start_time": "2025-02-02T09:36:30.995Z"
   },
   {
    "duration": 27,
    "start_time": "2025-02-02T09:36:31.310Z"
   },
   {
    "duration": 57,
    "start_time": "2025-02-02T09:36:31.359Z"
   },
   {
    "duration": 12,
    "start_time": "2025-02-02T09:36:31.417Z"
   },
   {
    "duration": 44,
    "start_time": "2025-02-02T09:36:31.458Z"
   },
   {
    "duration": 57,
    "start_time": "2025-02-02T09:36:31.504Z"
   },
   {
    "duration": 52,
    "start_time": "2025-02-02T09:36:31.563Z"
   },
   {
    "duration": 9,
    "start_time": "2025-02-02T09:36:31.616Z"
   },
   {
    "duration": 40,
    "start_time": "2025-02-02T09:36:31.626Z"
   },
   {
    "duration": 24,
    "start_time": "2025-02-02T09:36:31.669Z"
   },
   {
    "duration": 169,
    "start_time": "2025-02-02T09:36:31.695Z"
   },
   {
    "duration": 15,
    "start_time": "2025-02-02T09:36:31.867Z"
   },
   {
    "duration": 21,
    "start_time": "2025-02-02T09:36:31.883Z"
   },
   {
    "duration": 22,
    "start_time": "2025-02-02T09:36:31.905Z"
   },
   {
    "duration": 41,
    "start_time": "2025-02-02T09:36:31.929Z"
   },
   {
    "duration": 3,
    "start_time": "2025-02-02T09:36:31.972Z"
   },
   {
    "duration": 24,
    "start_time": "2025-02-02T09:36:31.976Z"
   },
   {
    "duration": 2,
    "start_time": "2025-02-02T09:36:32.002Z"
   },
   {
    "duration": 79,
    "start_time": "2025-02-02T09:36:32.006Z"
   },
   {
    "duration": 195,
    "start_time": "2025-02-02T09:36:32.087Z"
   },
   {
    "duration": 75,
    "start_time": "2025-02-02T09:36:32.284Z"
   },
   {
    "duration": 22,
    "start_time": "2025-02-02T09:36:32.360Z"
   },
   {
    "duration": 8,
    "start_time": "2025-02-02T09:36:32.383Z"
   },
   {
    "duration": 4,
    "start_time": "2025-02-02T09:36:32.393Z"
   },
   {
    "duration": 63,
    "start_time": "2025-02-02T09:36:32.399Z"
   },
   {
    "duration": 317,
    "start_time": "2025-02-02T09:36:32.464Z"
   },
   {
    "duration": 5,
    "start_time": "2025-02-02T09:36:32.783Z"
   },
   {
    "duration": 10,
    "start_time": "2025-02-02T09:36:32.790Z"
   },
   {
    "duration": 364,
    "start_time": "2025-02-02T09:36:32.801Z"
   },
   {
    "duration": 4,
    "start_time": "2025-02-02T09:36:33.167Z"
   },
   {
    "duration": 8,
    "start_time": "2025-02-02T09:36:33.173Z"
   },
   {
    "duration": 21,
    "start_time": "2025-02-02T09:36:33.182Z"
   },
   {
    "duration": 234,
    "start_time": "2025-02-02T09:36:33.258Z"
   },
   {
    "duration": 6,
    "start_time": "2025-02-02T09:36:33.494Z"
   },
   {
    "duration": 67,
    "start_time": "2025-02-02T09:36:33.501Z"
   },
   {
    "duration": 7,
    "start_time": "2025-02-02T09:36:33.570Z"
   },
   {
    "duration": 9,
    "start_time": "2025-02-02T09:36:33.579Z"
   },
   {
    "duration": 6,
    "start_time": "2025-02-02T09:36:33.590Z"
   },
   {
    "duration": 259,
    "start_time": "2025-02-02T09:36:33.599Z"
   },
   {
    "duration": 162,
    "start_time": "2025-02-02T09:36:33.860Z"
   },
   {
    "duration": 153,
    "start_time": "2025-02-02T09:36:34.024Z"
   },
   {
    "duration": 26,
    "start_time": "2025-02-02T09:36:34.178Z"
   },
   {
    "duration": 23,
    "start_time": "2025-02-02T09:36:34.206Z"
   },
   {
    "duration": 7,
    "start_time": "2025-02-02T09:36:34.231Z"
   },
   {
    "duration": 12,
    "start_time": "2025-02-02T09:36:34.258Z"
   },
   {
    "duration": 12,
    "start_time": "2025-02-02T09:36:34.272Z"
   },
   {
    "duration": 6,
    "start_time": "2025-02-02T09:36:48.349Z"
   },
   {
    "duration": 23,
    "start_time": "2025-02-02T09:38:44.809Z"
   },
   {
    "duration": 13,
    "start_time": "2025-02-02T09:43:11.336Z"
   },
   {
    "duration": 16,
    "start_time": "2025-02-02T09:43:16.303Z"
   },
   {
    "duration": 15,
    "start_time": "2025-02-02T09:43:20.104Z"
   },
   {
    "duration": 15,
    "start_time": "2025-02-02T09:43:23.116Z"
   },
   {
    "duration": 15,
    "start_time": "2025-02-02T09:43:24.752Z"
   },
   {
    "duration": 15,
    "start_time": "2025-02-02T09:43:27.077Z"
   },
   {
    "duration": 15,
    "start_time": "2025-02-02T09:43:30.263Z"
   },
   {
    "duration": 15,
    "start_time": "2025-02-02T09:43:32.159Z"
   },
   {
    "duration": 15,
    "start_time": "2025-02-02T09:43:34.576Z"
   },
   {
    "duration": 15,
    "start_time": "2025-02-02T09:43:37.735Z"
   },
   {
    "duration": 16,
    "start_time": "2025-02-02T09:43:39.144Z"
   },
   {
    "duration": 15,
    "start_time": "2025-02-02T09:43:41.047Z"
   },
   {
    "duration": 15,
    "start_time": "2025-02-02T09:43:42.889Z"
   },
   {
    "duration": 15,
    "start_time": "2025-02-02T09:43:44.307Z"
   },
   {
    "duration": 22,
    "start_time": "2025-02-02T09:43:46.931Z"
   },
   {
    "duration": 15,
    "start_time": "2025-02-02T09:43:48.595Z"
   },
   {
    "duration": 15,
    "start_time": "2025-02-02T09:43:50.803Z"
   },
   {
    "duration": 15,
    "start_time": "2025-02-02T09:43:58.092Z"
   },
   {
    "duration": 15,
    "start_time": "2025-02-02T09:43:59.266Z"
   },
   {
    "duration": 14,
    "start_time": "2025-02-02T09:44:13.249Z"
   },
   {
    "duration": 15,
    "start_time": "2025-02-02T09:44:14.733Z"
   },
   {
    "duration": 11,
    "start_time": "2025-02-02T09:44:23.247Z"
   },
   {
    "duration": 22,
    "start_time": "2025-02-02T09:44:38.553Z"
   },
   {
    "duration": 18,
    "start_time": "2025-02-02T09:45:01.681Z"
   },
   {
    "duration": 17,
    "start_time": "2025-02-02T09:45:10.489Z"
   },
   {
    "duration": 18,
    "start_time": "2025-02-02T09:45:13.728Z"
   },
   {
    "duration": 16,
    "start_time": "2025-02-02T09:46:14.720Z"
   },
   {
    "duration": 17,
    "start_time": "2025-02-02T09:46:20.429Z"
   },
   {
    "duration": 16,
    "start_time": "2025-02-02T09:46:21.938Z"
   },
   {
    "duration": 25,
    "start_time": "2025-02-02T09:46:25.164Z"
   },
   {
    "duration": 6,
    "start_time": "2025-02-02T09:46:54.020Z"
   },
   {
    "duration": 9,
    "start_time": "2025-02-02T09:47:04.002Z"
   },
   {
    "duration": 6,
    "start_time": "2025-02-02T09:47:13.789Z"
   },
   {
    "duration": 5,
    "start_time": "2025-02-02T09:47:31.373Z"
   },
   {
    "duration": 39,
    "start_time": "2025-02-02T09:47:40.006Z"
   },
   {
    "duration": 5,
    "start_time": "2025-02-02T09:47:58.760Z"
   },
   {
    "duration": 5,
    "start_time": "2025-02-02T09:48:17.139Z"
   },
   {
    "duration": 6,
    "start_time": "2025-02-02T09:48:21.674Z"
   },
   {
    "duration": 12,
    "start_time": "2025-02-02T09:54:18.331Z"
   },
   {
    "duration": 1181,
    "start_time": "2025-02-02T09:54:24.733Z"
   },
   {
    "duration": 200,
    "start_time": "2025-02-02T09:54:25.916Z"
   },
   {
    "duration": 25,
    "start_time": "2025-02-02T09:54:26.118Z"
   },
   {
    "duration": 82,
    "start_time": "2025-02-02T09:54:26.145Z"
   },
   {
    "duration": 41,
    "start_time": "2025-02-02T09:54:26.230Z"
   },
   {
    "duration": 49,
    "start_time": "2025-02-02T09:54:26.273Z"
   },
   {
    "duration": 57,
    "start_time": "2025-02-02T09:54:26.324Z"
   },
   {
    "duration": 38,
    "start_time": "2025-02-02T09:54:26.382Z"
   },
   {
    "duration": 12,
    "start_time": "2025-02-02T09:54:26.422Z"
   },
   {
    "duration": 36,
    "start_time": "2025-02-02T09:54:26.436Z"
   },
   {
    "duration": 24,
    "start_time": "2025-02-02T09:54:26.473Z"
   },
   {
    "duration": 161,
    "start_time": "2025-02-02T09:54:26.498Z"
   },
   {
    "duration": 14,
    "start_time": "2025-02-02T09:54:26.661Z"
   },
   {
    "duration": 20,
    "start_time": "2025-02-02T09:54:26.678Z"
   },
   {
    "duration": 24,
    "start_time": "2025-02-02T09:54:26.700Z"
   },
   {
    "duration": 44,
    "start_time": "2025-02-02T09:54:26.725Z"
   },
   {
    "duration": 4,
    "start_time": "2025-02-02T09:54:26.770Z"
   },
   {
    "duration": 20,
    "start_time": "2025-02-02T09:54:26.776Z"
   },
   {
    "duration": 3,
    "start_time": "2025-02-02T09:54:26.798Z"
   },
   {
    "duration": 80,
    "start_time": "2025-02-02T09:54:26.802Z"
   },
   {
    "duration": 111,
    "start_time": "2025-02-02T09:54:26.884Z"
   },
   {
    "duration": 23,
    "start_time": "2025-02-02T09:54:26.996Z"
   },
   {
    "duration": 39,
    "start_time": "2025-02-02T09:54:27.020Z"
   },
   {
    "duration": 8,
    "start_time": "2025-02-02T09:54:27.060Z"
   },
   {
    "duration": 5,
    "start_time": "2025-02-02T09:54:27.069Z"
   },
   {
    "duration": 10,
    "start_time": "2025-02-02T09:54:27.075Z"
   },
   {
    "duration": 179,
    "start_time": "2025-02-02T09:54:27.086Z"
   },
   {
    "duration": 6,
    "start_time": "2025-02-02T09:54:27.267Z"
   },
   {
    "duration": 6,
    "start_time": "2025-02-02T09:54:27.274Z"
   },
   {
    "duration": 167,
    "start_time": "2025-02-02T09:54:27.282Z"
   },
   {
    "duration": 8,
    "start_time": "2025-02-02T09:54:27.451Z"
   },
   {
    "duration": 6,
    "start_time": "2025-02-02T09:54:27.460Z"
   },
   {
    "duration": 22,
    "start_time": "2025-02-02T09:54:27.467Z"
   },
   {
    "duration": 147,
    "start_time": "2025-02-02T09:54:27.490Z"
   },
   {
    "duration": 7,
    "start_time": "2025-02-02T09:54:27.638Z"
   },
   {
    "duration": 24,
    "start_time": "2025-02-02T09:54:27.658Z"
   },
   {
    "duration": 13,
    "start_time": "2025-02-02T09:54:27.684Z"
   },
   {
    "duration": 10,
    "start_time": "2025-02-02T09:54:27.698Z"
   },
   {
    "duration": 5,
    "start_time": "2025-02-02T09:54:27.710Z"
   },
   {
    "duration": 261,
    "start_time": "2025-02-02T09:54:27.716Z"
   },
   {
    "duration": 165,
    "start_time": "2025-02-02T09:54:27.980Z"
   },
   {
    "duration": 155,
    "start_time": "2025-02-02T09:54:28.147Z"
   },
   {
    "duration": 26,
    "start_time": "2025-02-02T09:54:28.304Z"
   },
   {
    "duration": 36,
    "start_time": "2025-02-02T09:54:28.331Z"
   },
   {
    "duration": 7,
    "start_time": "2025-02-02T09:54:28.369Z"
   },
   {
    "duration": 12,
    "start_time": "2025-02-02T09:54:28.377Z"
   },
   {
    "duration": 11,
    "start_time": "2025-02-02T09:54:28.390Z"
   },
   {
    "duration": 26,
    "start_time": "2025-02-02T09:55:04.136Z"
   },
   {
    "duration": 106,
    "start_time": "2025-02-02T09:57:25.866Z"
   },
   {
    "duration": 41,
    "start_time": "2025-02-02T09:57:36.840Z"
   },
   {
    "duration": 23,
    "start_time": "2025-02-02T09:57:40.366Z"
   },
   {
    "duration": 1175,
    "start_time": "2025-02-02T09:57:58.701Z"
   },
   {
    "duration": 186,
    "start_time": "2025-02-02T09:57:59.878Z"
   },
   {
    "duration": 28,
    "start_time": "2025-02-02T09:58:00.066Z"
   },
   {
    "duration": 83,
    "start_time": "2025-02-02T09:58:00.096Z"
   },
   {
    "duration": 11,
    "start_time": "2025-02-02T09:58:00.181Z"
   },
   {
    "duration": 70,
    "start_time": "2025-02-02T09:58:00.194Z"
   },
   {
    "duration": 40,
    "start_time": "2025-02-02T09:58:00.265Z"
   },
   {
    "duration": 57,
    "start_time": "2025-02-02T09:58:00.307Z"
   },
   {
    "duration": 24,
    "start_time": "2025-02-02T09:58:00.365Z"
   },
   {
    "duration": 17,
    "start_time": "2025-02-02T09:58:00.391Z"
   },
   {
    "duration": 26,
    "start_time": "2025-02-02T09:58:00.409Z"
   },
   {
    "duration": 177,
    "start_time": "2025-02-02T09:58:00.436Z"
   },
   {
    "duration": 15,
    "start_time": "2025-02-02T09:58:00.614Z"
   },
   {
    "duration": 31,
    "start_time": "2025-02-02T09:58:00.632Z"
   },
   {
    "duration": 24,
    "start_time": "2025-02-02T09:58:00.664Z"
   },
   {
    "duration": 15,
    "start_time": "2025-02-02T09:58:00.690Z"
   },
   {
    "duration": 4,
    "start_time": "2025-02-02T09:58:00.706Z"
   },
   {
    "duration": 48,
    "start_time": "2025-02-02T09:58:00.711Z"
   },
   {
    "duration": 3,
    "start_time": "2025-02-02T09:58:00.761Z"
   },
   {
    "duration": 58,
    "start_time": "2025-02-02T09:58:00.766Z"
   },
   {
    "duration": 117,
    "start_time": "2025-02-02T09:58:00.825Z"
   },
   {
    "duration": 34,
    "start_time": "2025-02-02T09:58:00.943Z"
   },
   {
    "duration": 21,
    "start_time": "2025-02-02T09:58:00.979Z"
   },
   {
    "duration": 7,
    "start_time": "2025-02-02T09:58:01.002Z"
   },
   {
    "duration": 6,
    "start_time": "2025-02-02T09:58:01.011Z"
   },
   {
    "duration": 10,
    "start_time": "2025-02-02T09:58:01.018Z"
   },
   {
    "duration": 196,
    "start_time": "2025-02-02T09:58:01.030Z"
   },
   {
    "duration": 7,
    "start_time": "2025-02-02T09:58:01.227Z"
   },
   {
    "duration": 23,
    "start_time": "2025-02-02T09:58:01.235Z"
   },
   {
    "duration": 159,
    "start_time": "2025-02-02T09:58:01.260Z"
   },
   {
    "duration": 4,
    "start_time": "2025-02-02T09:58:01.420Z"
   },
   {
    "duration": 7,
    "start_time": "2025-02-02T09:58:01.426Z"
   },
   {
    "duration": 33,
    "start_time": "2025-02-02T09:58:01.435Z"
   },
   {
    "duration": 155,
    "start_time": "2025-02-02T09:58:01.470Z"
   },
   {
    "duration": 7,
    "start_time": "2025-02-02T09:58:01.626Z"
   },
   {
    "duration": 35,
    "start_time": "2025-02-02T09:58:01.634Z"
   },
   {
    "duration": 8,
    "start_time": "2025-02-02T09:58:01.670Z"
   },
   {
    "duration": 11,
    "start_time": "2025-02-02T09:58:01.679Z"
   },
   {
    "duration": 9,
    "start_time": "2025-02-02T09:58:01.691Z"
   },
   {
    "duration": 241,
    "start_time": "2025-02-02T09:58:01.702Z"
   },
   {
    "duration": 171,
    "start_time": "2025-02-02T09:58:01.946Z"
   },
   {
    "duration": 156,
    "start_time": "2025-02-02T09:58:02.118Z"
   },
   {
    "duration": 82,
    "start_time": "2025-02-02T09:58:02.276Z"
   },
   {
    "duration": 39,
    "start_time": "2025-02-02T09:58:02.360Z"
   },
   {
    "duration": 7,
    "start_time": "2025-02-02T09:58:02.400Z"
   },
   {
    "duration": 59,
    "start_time": "2025-02-02T09:58:02.409Z"
   },
   {
    "duration": 28,
    "start_time": "2025-02-02T09:58:02.470Z"
   },
   {
    "duration": 11,
    "start_time": "2025-02-02T09:58:17.708Z"
   },
   {
    "duration": 22,
    "start_time": "2025-02-02T09:58:22.155Z"
   },
   {
    "duration": 1129,
    "start_time": "2025-02-02T09:58:30.148Z"
   },
   {
    "duration": 442,
    "start_time": "2025-02-02T09:58:31.278Z"
   },
   {
    "duration": 25,
    "start_time": "2025-02-02T09:58:31.721Z"
   },
   {
    "duration": 57,
    "start_time": "2025-02-02T09:58:31.758Z"
   },
   {
    "duration": 10,
    "start_time": "2025-02-02T09:58:31.817Z"
   },
   {
    "duration": 68,
    "start_time": "2025-02-02T09:58:31.829Z"
   },
   {
    "duration": 39,
    "start_time": "2025-02-02T09:58:31.899Z"
   },
   {
    "duration": 52,
    "start_time": "2025-02-02T09:58:31.940Z"
   },
   {
    "duration": 23,
    "start_time": "2025-02-02T09:58:31.994Z"
   },
   {
    "duration": 17,
    "start_time": "2025-02-02T09:58:32.019Z"
   },
   {
    "duration": 27,
    "start_time": "2025-02-02T09:58:32.058Z"
   },
   {
    "duration": 165,
    "start_time": "2025-02-02T09:58:32.087Z"
   },
   {
    "duration": 15,
    "start_time": "2025-02-02T09:58:32.257Z"
   },
   {
    "duration": 21,
    "start_time": "2025-02-02T09:58:32.275Z"
   },
   {
    "duration": 25,
    "start_time": "2025-02-02T09:58:32.297Z"
   },
   {
    "duration": 44,
    "start_time": "2025-02-02T09:58:32.323Z"
   },
   {
    "duration": 4,
    "start_time": "2025-02-02T09:58:32.369Z"
   },
   {
    "duration": 28,
    "start_time": "2025-02-02T09:58:32.375Z"
   },
   {
    "duration": 4,
    "start_time": "2025-02-02T09:58:32.404Z"
   },
   {
    "duration": 69,
    "start_time": "2025-02-02T09:58:32.409Z"
   },
   {
    "duration": 113,
    "start_time": "2025-02-02T09:58:32.479Z"
   },
   {
    "duration": 20,
    "start_time": "2025-02-02T09:58:32.593Z"
   },
   {
    "duration": 23,
    "start_time": "2025-02-02T09:58:32.614Z"
   },
   {
    "duration": 20,
    "start_time": "2025-02-02T09:58:32.639Z"
   },
   {
    "duration": 21,
    "start_time": "2025-02-02T09:58:32.660Z"
   },
   {
    "duration": 8,
    "start_time": "2025-02-02T09:58:32.682Z"
   },
   {
    "duration": 167,
    "start_time": "2025-02-02T09:58:32.691Z"
   },
   {
    "duration": 7,
    "start_time": "2025-02-02T09:58:32.859Z"
   },
   {
    "duration": 10,
    "start_time": "2025-02-02T09:58:32.867Z"
   },
   {
    "duration": 165,
    "start_time": "2025-02-02T09:58:32.878Z"
   },
   {
    "duration": 4,
    "start_time": "2025-02-02T09:58:33.045Z"
   },
   {
    "duration": 4,
    "start_time": "2025-02-02T09:58:33.058Z"
   },
   {
    "duration": 23,
    "start_time": "2025-02-02T09:58:33.064Z"
   },
   {
    "duration": 145,
    "start_time": "2025-02-02T09:58:33.088Z"
   },
   {
    "duration": 6,
    "start_time": "2025-02-02T09:58:33.235Z"
   },
   {
    "duration": 32,
    "start_time": "2025-02-02T09:58:33.243Z"
   },
   {
    "duration": 7,
    "start_time": "2025-02-02T09:58:33.276Z"
   },
   {
    "duration": 14,
    "start_time": "2025-02-02T09:58:33.284Z"
   },
   {
    "duration": 6,
    "start_time": "2025-02-02T09:58:33.300Z"
   },
   {
    "duration": 258,
    "start_time": "2025-02-02T09:58:33.307Z"
   },
   {
    "duration": 169,
    "start_time": "2025-02-02T09:58:33.569Z"
   },
   {
    "duration": 158,
    "start_time": "2025-02-02T09:58:33.739Z"
   },
   {
    "duration": 27,
    "start_time": "2025-02-02T09:58:33.899Z"
   },
   {
    "duration": 35,
    "start_time": "2025-02-02T09:58:33.928Z"
   },
   {
    "duration": 7,
    "start_time": "2025-02-02T09:58:33.965Z"
   },
   {
    "duration": 15,
    "start_time": "2025-02-02T09:58:33.973Z"
   },
   {
    "duration": 11,
    "start_time": "2025-02-02T09:58:33.989Z"
   },
   {
    "duration": 38,
    "start_time": "2025-02-02T09:59:28.412Z"
   },
   {
    "duration": 24,
    "start_time": "2025-02-02T09:59:29.293Z"
   },
   {
    "duration": 1122,
    "start_time": "2025-02-02T09:59:36.645Z"
   },
   {
    "duration": 162,
    "start_time": "2025-02-02T09:59:37.769Z"
   },
   {
    "duration": 33,
    "start_time": "2025-02-02T09:59:37.932Z"
   },
   {
    "duration": 61,
    "start_time": "2025-02-02T09:59:37.967Z"
   },
   {
    "duration": 36,
    "start_time": "2025-02-02T09:59:38.030Z"
   },
   {
    "duration": 45,
    "start_time": "2025-02-02T09:59:38.067Z"
   },
   {
    "duration": 56,
    "start_time": "2025-02-02T09:59:38.114Z"
   },
   {
    "duration": 39,
    "start_time": "2025-02-02T09:59:38.172Z"
   },
   {
    "duration": 23,
    "start_time": "2025-02-02T09:59:38.212Z"
   },
   {
    "duration": 33,
    "start_time": "2025-02-02T09:59:38.237Z"
   },
   {
    "duration": 22,
    "start_time": "2025-02-02T09:59:38.272Z"
   },
   {
    "duration": 152,
    "start_time": "2025-02-02T09:59:38.296Z"
   },
   {
    "duration": 14,
    "start_time": "2025-02-02T09:59:38.457Z"
   },
   {
    "duration": 21,
    "start_time": "2025-02-02T09:59:38.474Z"
   },
   {
    "duration": 24,
    "start_time": "2025-02-02T09:59:38.496Z"
   },
   {
    "duration": 41,
    "start_time": "2025-02-02T09:59:38.522Z"
   },
   {
    "duration": 4,
    "start_time": "2025-02-02T09:59:38.564Z"
   },
   {
    "duration": 22,
    "start_time": "2025-02-02T09:59:38.569Z"
   },
   {
    "duration": 4,
    "start_time": "2025-02-02T09:59:38.593Z"
   },
   {
    "duration": 83,
    "start_time": "2025-02-02T09:59:38.599Z"
   },
   {
    "duration": 108,
    "start_time": "2025-02-02T09:59:38.684Z"
   },
   {
    "duration": 22,
    "start_time": "2025-02-02T09:59:38.794Z"
   },
   {
    "duration": 22,
    "start_time": "2025-02-02T09:59:38.818Z"
   },
   {
    "duration": 9,
    "start_time": "2025-02-02T09:59:38.859Z"
   },
   {
    "duration": 6,
    "start_time": "2025-02-02T09:59:38.870Z"
   },
   {
    "duration": 9,
    "start_time": "2025-02-02T09:59:38.877Z"
   },
   {
    "duration": 185,
    "start_time": "2025-02-02T09:59:38.887Z"
   },
   {
    "duration": 5,
    "start_time": "2025-02-02T09:59:39.073Z"
   },
   {
    "duration": 12,
    "start_time": "2025-02-02T09:59:39.080Z"
   },
   {
    "duration": 155,
    "start_time": "2025-02-02T09:59:39.094Z"
   },
   {
    "duration": 4,
    "start_time": "2025-02-02T09:59:39.258Z"
   },
   {
    "duration": 5,
    "start_time": "2025-02-02T09:59:39.263Z"
   },
   {
    "duration": 21,
    "start_time": "2025-02-02T09:59:39.269Z"
   },
   {
    "duration": 147,
    "start_time": "2025-02-02T09:59:39.292Z"
   },
   {
    "duration": 7,
    "start_time": "2025-02-02T09:59:39.440Z"
   },
   {
    "duration": 30,
    "start_time": "2025-02-02T09:59:39.448Z"
   },
   {
    "duration": 7,
    "start_time": "2025-02-02T09:59:39.479Z"
   },
   {
    "duration": 9,
    "start_time": "2025-02-02T09:59:39.487Z"
   },
   {
    "duration": 6,
    "start_time": "2025-02-02T09:59:39.497Z"
   },
   {
    "duration": 259,
    "start_time": "2025-02-02T09:59:39.504Z"
   },
   {
    "duration": 168,
    "start_time": "2025-02-02T09:59:39.766Z"
   },
   {
    "duration": 148,
    "start_time": "2025-02-02T09:59:39.936Z"
   },
   {
    "duration": 26,
    "start_time": "2025-02-02T09:59:40.085Z"
   },
   {
    "duration": 22,
    "start_time": "2025-02-02T09:59:40.112Z"
   },
   {
    "duration": 25,
    "start_time": "2025-02-02T09:59:40.135Z"
   },
   {
    "duration": 12,
    "start_time": "2025-02-02T09:59:40.161Z"
   },
   {
    "duration": 11,
    "start_time": "2025-02-02T09:59:40.174Z"
   },
   {
    "duration": 14,
    "start_time": "2025-02-02T10:00:22.422Z"
   },
   {
    "duration": 1143,
    "start_time": "2025-02-02T10:00:31.322Z"
   },
   {
    "duration": 173,
    "start_time": "2025-02-02T10:00:32.467Z"
   },
   {
    "duration": 28,
    "start_time": "2025-02-02T10:00:32.642Z"
   },
   {
    "duration": 55,
    "start_time": "2025-02-02T10:00:32.671Z"
   },
   {
    "duration": 37,
    "start_time": "2025-02-02T10:00:32.728Z"
   },
   {
    "duration": 48,
    "start_time": "2025-02-02T10:00:32.766Z"
   },
   {
    "duration": 53,
    "start_time": "2025-02-02T10:00:32.815Z"
   },
   {
    "duration": 38,
    "start_time": "2025-02-02T10:00:32.870Z"
   },
   {
    "duration": 15,
    "start_time": "2025-02-02T10:00:32.909Z"
   },
   {
    "duration": 43,
    "start_time": "2025-02-02T10:00:32.925Z"
   },
   {
    "duration": 17,
    "start_time": "2025-02-02T10:00:32.970Z"
   },
   {
    "duration": 25,
    "start_time": "2025-02-02T10:00:32.989Z"
   },
   {
    "duration": 169,
    "start_time": "2025-02-02T10:00:33.016Z"
   },
   {
    "duration": 15,
    "start_time": "2025-02-02T10:00:33.189Z"
   },
   {
    "duration": 22,
    "start_time": "2025-02-02T10:00:33.206Z"
   },
   {
    "duration": 50,
    "start_time": "2025-02-02T10:00:33.230Z"
   },
   {
    "duration": 15,
    "start_time": "2025-02-02T10:00:33.281Z"
   },
   {
    "duration": 3,
    "start_time": "2025-02-02T10:00:33.297Z"
   },
   {
    "duration": 19,
    "start_time": "2025-02-02T10:00:33.302Z"
   },
   {
    "duration": 3,
    "start_time": "2025-02-02T10:00:33.323Z"
   },
   {
    "duration": 80,
    "start_time": "2025-02-02T10:00:33.327Z"
   },
   {
    "duration": 115,
    "start_time": "2025-02-02T10:00:33.408Z"
   },
   {
    "duration": 21,
    "start_time": "2025-02-02T10:00:33.525Z"
   },
   {
    "duration": 22,
    "start_time": "2025-02-02T10:00:33.557Z"
   },
   {
    "duration": 7,
    "start_time": "2025-02-02T10:00:33.580Z"
   },
   {
    "duration": 11,
    "start_time": "2025-02-02T10:00:33.589Z"
   },
   {
    "duration": 7,
    "start_time": "2025-02-02T10:00:33.601Z"
   },
   {
    "duration": 184,
    "start_time": "2025-02-02T10:00:33.610Z"
   },
   {
    "duration": 6,
    "start_time": "2025-02-02T10:00:33.796Z"
   },
   {
    "duration": 7,
    "start_time": "2025-02-02T10:00:33.803Z"
   },
   {
    "duration": 165,
    "start_time": "2025-02-02T10:00:33.811Z"
   },
   {
    "duration": 5,
    "start_time": "2025-02-02T10:00:33.978Z"
   },
   {
    "duration": 6,
    "start_time": "2025-02-02T10:00:33.984Z"
   },
   {
    "duration": 24,
    "start_time": "2025-02-02T10:00:33.992Z"
   },
   {
    "duration": 156,
    "start_time": "2025-02-02T10:00:34.018Z"
   },
   {
    "duration": 6,
    "start_time": "2025-02-02T10:00:34.176Z"
   },
   {
    "duration": 76,
    "start_time": "2025-02-02T10:00:34.183Z"
   },
   {
    "duration": 8,
    "start_time": "2025-02-02T10:00:34.260Z"
   },
   {
    "duration": 9,
    "start_time": "2025-02-02T10:00:34.269Z"
   },
   {
    "duration": 6,
    "start_time": "2025-02-02T10:00:34.279Z"
   },
   {
    "duration": 482,
    "start_time": "2025-02-02T10:00:34.288Z"
   },
   {
    "duration": 312,
    "start_time": "2025-02-02T10:00:34.771Z"
   },
   {
    "duration": 314,
    "start_time": "2025-02-02T10:00:35.084Z"
   },
   {
    "duration": 80,
    "start_time": "2025-02-02T10:00:35.400Z"
   },
   {
    "duration": 77,
    "start_time": "2025-02-02T10:00:35.482Z"
   },
   {
    "duration": 7,
    "start_time": "2025-02-02T10:00:35.561Z"
   },
   {
    "duration": 48,
    "start_time": "2025-02-02T10:00:35.570Z"
   },
   {
    "duration": 48,
    "start_time": "2025-02-02T10:00:35.620Z"
   },
   {
    "duration": 11,
    "start_time": "2025-02-02T10:02:37.237Z"
   },
   {
    "duration": 1211,
    "start_time": "2025-02-02T10:02:42.258Z"
   },
   {
    "duration": 199,
    "start_time": "2025-02-02T10:02:43.470Z"
   },
   {
    "duration": 27,
    "start_time": "2025-02-02T10:02:43.671Z"
   },
   {
    "duration": 85,
    "start_time": "2025-02-02T10:02:43.700Z"
   },
   {
    "duration": 12,
    "start_time": "2025-02-02T10:02:43.787Z"
   },
   {
    "duration": 63,
    "start_time": "2025-02-02T10:02:43.801Z"
   },
   {
    "duration": 42,
    "start_time": "2025-02-02T10:02:43.866Z"
   },
   {
    "duration": 56,
    "start_time": "2025-02-02T10:02:43.909Z"
   },
   {
    "duration": 15,
    "start_time": "2025-02-02T10:02:43.966Z"
   },
   {
    "duration": 10,
    "start_time": "2025-02-02T10:02:43.983Z"
   },
   {
    "duration": 18,
    "start_time": "2025-02-02T10:02:43.995Z"
   },
   {
    "duration": 47,
    "start_time": "2025-02-02T10:02:44.015Z"
   },
   {
    "duration": 151,
    "start_time": "2025-02-02T10:02:44.063Z"
   },
   {
    "duration": 14,
    "start_time": "2025-02-02T10:02:44.217Z"
   },
   {
    "duration": 33,
    "start_time": "2025-02-02T10:02:44.232Z"
   },
   {
    "duration": 23,
    "start_time": "2025-02-02T10:02:44.267Z"
   },
   {
    "duration": 15,
    "start_time": "2025-02-02T10:02:44.291Z"
   },
   {
    "duration": 4,
    "start_time": "2025-02-02T10:02:44.307Z"
   },
   {
    "duration": 50,
    "start_time": "2025-02-02T10:02:44.313Z"
   },
   {
    "duration": 3,
    "start_time": "2025-02-02T10:02:44.365Z"
   },
   {
    "duration": 57,
    "start_time": "2025-02-02T10:02:44.370Z"
   },
   {
    "duration": 118,
    "start_time": "2025-02-02T10:02:44.429Z"
   },
   {
    "duration": 29,
    "start_time": "2025-02-02T10:02:44.548Z"
   },
   {
    "duration": 21,
    "start_time": "2025-02-02T10:02:44.579Z"
   },
   {
    "duration": 7,
    "start_time": "2025-02-02T10:02:44.602Z"
   },
   {
    "duration": 5,
    "start_time": "2025-02-02T10:02:44.610Z"
   },
   {
    "duration": 45,
    "start_time": "2025-02-02T10:02:44.617Z"
   },
   {
    "duration": 313,
    "start_time": "2025-02-02T10:02:44.664Z"
   },
   {
    "duration": 6,
    "start_time": "2025-02-02T10:02:44.979Z"
   },
   {
    "duration": 6,
    "start_time": "2025-02-02T10:02:44.987Z"
   },
   {
    "duration": 369,
    "start_time": "2025-02-02T10:02:44.994Z"
   },
   {
    "duration": 4,
    "start_time": "2025-02-02T10:02:45.364Z"
   },
   {
    "duration": 16,
    "start_time": "2025-02-02T10:02:45.370Z"
   },
   {
    "duration": 72,
    "start_time": "2025-02-02T10:02:45.387Z"
   },
   {
    "duration": 230,
    "start_time": "2025-02-02T10:02:45.461Z"
   },
   {
    "duration": 6,
    "start_time": "2025-02-02T10:02:45.693Z"
   },
   {
    "duration": 78,
    "start_time": "2025-02-02T10:02:45.700Z"
   },
   {
    "duration": 9,
    "start_time": "2025-02-02T10:02:45.779Z"
   },
   {
    "duration": 9,
    "start_time": "2025-02-02T10:02:45.790Z"
   },
   {
    "duration": 5,
    "start_time": "2025-02-02T10:02:45.858Z"
   },
   {
    "duration": 400,
    "start_time": "2025-02-02T10:02:45.867Z"
   },
   {
    "duration": 162,
    "start_time": "2025-02-02T10:02:46.269Z"
   },
   {
    "duration": 156,
    "start_time": "2025-02-02T10:02:46.433Z"
   },
   {
    "duration": 27,
    "start_time": "2025-02-02T10:02:46.591Z"
   },
   {
    "duration": 38,
    "start_time": "2025-02-02T10:02:46.620Z"
   },
   {
    "duration": 8,
    "start_time": "2025-02-02T10:02:46.659Z"
   },
   {
    "duration": 12,
    "start_time": "2025-02-02T10:02:46.668Z"
   },
   {
    "duration": 11,
    "start_time": "2025-02-02T10:02:46.682Z"
   },
   {
    "duration": 138,
    "start_time": "2025-02-02T10:09:42.275Z"
   },
   {
    "duration": 140,
    "start_time": "2025-02-02T10:09:46.582Z"
   },
   {
    "duration": 229,
    "start_time": "2025-02-02T10:10:06.480Z"
   },
   {
    "duration": 139,
    "start_time": "2025-02-02T10:10:29.790Z"
   },
   {
    "duration": 139,
    "start_time": "2025-02-02T10:10:40.406Z"
   },
   {
    "duration": 119,
    "start_time": "2025-02-02T10:11:53.596Z"
   },
   {
    "duration": 1168,
    "start_time": "2025-02-02T10:12:02.282Z"
   },
   {
    "duration": 247,
    "start_time": "2025-02-02T10:12:03.452Z"
   },
   {
    "duration": 26,
    "start_time": "2025-02-02T10:12:03.701Z"
   },
   {
    "duration": 78,
    "start_time": "2025-02-02T10:12:03.729Z"
   },
   {
    "duration": 11,
    "start_time": "2025-02-02T10:12:03.809Z"
   },
   {
    "duration": 68,
    "start_time": "2025-02-02T10:12:03.822Z"
   },
   {
    "duration": 41,
    "start_time": "2025-02-02T10:12:03.891Z"
   },
   {
    "duration": 58,
    "start_time": "2025-02-02T10:12:03.934Z"
   },
   {
    "duration": 15,
    "start_time": "2025-02-02T10:12:03.994Z"
   },
   {
    "duration": 10,
    "start_time": "2025-02-02T10:12:04.011Z"
   },
   {
    "duration": 42,
    "start_time": "2025-02-02T10:12:04.023Z"
   },
   {
    "duration": 25,
    "start_time": "2025-02-02T10:12:04.067Z"
   },
   {
    "duration": 176,
    "start_time": "2025-02-02T10:12:04.093Z"
   },
   {
    "duration": 15,
    "start_time": "2025-02-02T10:12:04.272Z"
   },
   {
    "duration": 22,
    "start_time": "2025-02-02T10:12:04.288Z"
   },
   {
    "duration": 23,
    "start_time": "2025-02-02T10:12:04.311Z"
   },
   {
    "duration": 15,
    "start_time": "2025-02-02T10:12:04.358Z"
   },
   {
    "duration": 4,
    "start_time": "2025-02-02T10:12:04.375Z"
   },
   {
    "duration": 23,
    "start_time": "2025-02-02T10:12:04.380Z"
   },
   {
    "duration": 4,
    "start_time": "2025-02-02T10:12:04.404Z"
   },
   {
    "duration": 86,
    "start_time": "2025-02-02T10:12:04.409Z"
   },
   {
    "duration": 124,
    "start_time": "2025-02-02T10:12:04.497Z"
   },
   {
    "duration": 35,
    "start_time": "2025-02-02T10:12:04.623Z"
   },
   {
    "duration": 22,
    "start_time": "2025-02-02T10:12:04.659Z"
   },
   {
    "duration": 7,
    "start_time": "2025-02-02T10:12:04.682Z"
   },
   {
    "duration": 7,
    "start_time": "2025-02-02T10:12:04.690Z"
   },
   {
    "duration": 7,
    "start_time": "2025-02-02T10:12:04.698Z"
   },
   {
    "duration": 184,
    "start_time": "2025-02-02T10:12:04.707Z"
   },
   {
    "duration": 5,
    "start_time": "2025-02-02T10:12:04.893Z"
   },
   {
    "duration": 6,
    "start_time": "2025-02-02T10:12:04.900Z"
   },
   {
    "duration": 166,
    "start_time": "2025-02-02T10:12:04.907Z"
   },
   {
    "duration": 4,
    "start_time": "2025-02-02T10:12:05.074Z"
   },
   {
    "duration": 9,
    "start_time": "2025-02-02T10:12:05.080Z"
   },
   {
    "duration": 34,
    "start_time": "2025-02-02T10:12:05.090Z"
   },
   {
    "duration": 164,
    "start_time": "2025-02-02T10:12:05.126Z"
   },
   {
    "duration": 7,
    "start_time": "2025-02-02T10:12:05.292Z"
   },
   {
    "duration": 32,
    "start_time": "2025-02-02T10:12:05.301Z"
   },
   {
    "duration": 23,
    "start_time": "2025-02-02T10:12:05.335Z"
   },
   {
    "duration": 11,
    "start_time": "2025-02-02T10:12:05.360Z"
   },
   {
    "duration": 6,
    "start_time": "2025-02-02T10:12:05.373Z"
   },
   {
    "duration": 248,
    "start_time": "2025-02-02T10:12:05.384Z"
   },
   {
    "duration": 251,
    "start_time": "2025-02-02T10:12:05.634Z"
   },
   {
    "duration": 300,
    "start_time": "2025-02-02T10:12:05.887Z"
   },
   {
    "duration": 86,
    "start_time": "2025-02-02T10:12:06.188Z"
   },
   {
    "duration": 31,
    "start_time": "2025-02-02T10:12:06.276Z"
   },
   {
    "duration": 8,
    "start_time": "2025-02-02T10:12:06.357Z"
   },
   {
    "duration": 14,
    "start_time": "2025-02-02T10:12:06.366Z"
   },
   {
    "duration": 11,
    "start_time": "2025-02-02T10:12:06.381Z"
   },
   {
    "duration": 116,
    "start_time": "2025-02-02T10:12:59.452Z"
   },
   {
    "duration": 1150,
    "start_time": "2025-02-02T10:13:05.783Z"
   },
   {
    "duration": 207,
    "start_time": "2025-02-02T10:13:06.935Z"
   },
   {
    "duration": 26,
    "start_time": "2025-02-02T10:13:07.144Z"
   },
   {
    "duration": 56,
    "start_time": "2025-02-02T10:13:07.172Z"
   },
   {
    "duration": 36,
    "start_time": "2025-02-02T10:13:07.230Z"
   },
   {
    "duration": 44,
    "start_time": "2025-02-02T10:13:07.268Z"
   },
   {
    "duration": 56,
    "start_time": "2025-02-02T10:13:07.314Z"
   },
   {
    "duration": 38,
    "start_time": "2025-02-02T10:13:07.371Z"
   },
   {
    "duration": 15,
    "start_time": "2025-02-02T10:13:07.410Z"
   },
   {
    "duration": 10,
    "start_time": "2025-02-02T10:13:07.426Z"
   },
   {
    "duration": 18,
    "start_time": "2025-02-02T10:13:07.458Z"
   },
   {
    "duration": 23,
    "start_time": "2025-02-02T10:13:07.478Z"
   },
   {
    "duration": 183,
    "start_time": "2025-02-02T10:13:07.503Z"
   },
   {
    "duration": 15,
    "start_time": "2025-02-02T10:13:07.690Z"
   },
   {
    "duration": 21,
    "start_time": "2025-02-02T10:13:07.707Z"
   },
   {
    "duration": 48,
    "start_time": "2025-02-02T10:13:07.730Z"
   },
   {
    "duration": 17,
    "start_time": "2025-02-02T10:13:07.780Z"
   },
   {
    "duration": 5,
    "start_time": "2025-02-02T10:13:07.799Z"
   },
   {
    "duration": 57,
    "start_time": "2025-02-02T10:13:07.806Z"
   },
   {
    "duration": 4,
    "start_time": "2025-02-02T10:13:07.864Z"
   },
   {
    "duration": 57,
    "start_time": "2025-02-02T10:13:07.869Z"
   },
   {
    "duration": 131,
    "start_time": "2025-02-02T10:13:07.928Z"
   },
   {
    "duration": 21,
    "start_time": "2025-02-02T10:13:08.060Z"
   },
   {
    "duration": 21,
    "start_time": "2025-02-02T10:13:08.083Z"
   },
   {
    "duration": 8,
    "start_time": "2025-02-02T10:13:08.106Z"
   },
   {
    "duration": 5,
    "start_time": "2025-02-02T10:13:08.116Z"
   },
   {
    "duration": 42,
    "start_time": "2025-02-02T10:13:08.122Z"
   },
   {
    "duration": 168,
    "start_time": "2025-02-02T10:13:08.166Z"
   },
   {
    "duration": 7,
    "start_time": "2025-02-02T10:13:08.335Z"
   },
   {
    "duration": 19,
    "start_time": "2025-02-02T10:13:08.343Z"
   },
   {
    "duration": 154,
    "start_time": "2025-02-02T10:13:08.364Z"
   },
   {
    "duration": 4,
    "start_time": "2025-02-02T10:13:08.519Z"
   },
   {
    "duration": 4,
    "start_time": "2025-02-02T10:13:08.525Z"
   },
   {
    "duration": 43,
    "start_time": "2025-02-02T10:13:08.530Z"
   },
   {
    "duration": 285,
    "start_time": "2025-02-02T10:13:08.575Z"
   },
   {
    "duration": 7,
    "start_time": "2025-02-02T10:13:08.861Z"
   },
   {
    "duration": 25,
    "start_time": "2025-02-02T10:13:08.869Z"
   },
   {
    "duration": 7,
    "start_time": "2025-02-02T10:13:08.896Z"
   },
   {
    "duration": 11,
    "start_time": "2025-02-02T10:13:08.958Z"
   },
   {
    "duration": 5,
    "start_time": "2025-02-02T10:13:08.971Z"
   },
   {
    "duration": 487,
    "start_time": "2025-02-02T10:13:08.979Z"
   },
   {
    "duration": 308,
    "start_time": "2025-02-02T10:13:09.468Z"
   },
   {
    "duration": 305,
    "start_time": "2025-02-02T10:13:09.778Z"
   },
   {
    "duration": 80,
    "start_time": "2025-02-02T10:13:10.084Z"
   },
   {
    "duration": 24,
    "start_time": "2025-02-02T10:13:10.166Z"
   },
   {
    "duration": 9,
    "start_time": "2025-02-02T10:13:10.191Z"
   },
   {
    "duration": 12,
    "start_time": "2025-02-02T10:13:10.258Z"
   },
   {
    "duration": 11,
    "start_time": "2025-02-02T10:13:10.272Z"
   },
   {
    "duration": 119,
    "start_time": "2025-02-02T10:16:50.174Z"
   },
   {
    "duration": 1119,
    "start_time": "2025-02-02T10:16:57.615Z"
   },
   {
    "duration": 226,
    "start_time": "2025-02-02T10:16:58.736Z"
   },
   {
    "duration": 29,
    "start_time": "2025-02-02T10:16:58.966Z"
   },
   {
    "duration": 100,
    "start_time": "2025-02-02T10:16:58.997Z"
   },
   {
    "duration": 12,
    "start_time": "2025-02-02T10:16:59.098Z"
   },
   {
    "duration": 86,
    "start_time": "2025-02-02T10:16:59.112Z"
   },
   {
    "duration": 39,
    "start_time": "2025-02-02T10:16:59.200Z"
   },
   {
    "duration": 52,
    "start_time": "2025-02-02T10:16:59.241Z"
   },
   {
    "duration": 16,
    "start_time": "2025-02-02T10:16:59.294Z"
   },
   {
    "duration": 12,
    "start_time": "2025-02-02T10:16:59.312Z"
   },
   {
    "duration": 45,
    "start_time": "2025-02-02T10:16:59.325Z"
   },
   {
    "duration": 26,
    "start_time": "2025-02-02T10:16:59.371Z"
   },
   {
    "duration": 176,
    "start_time": "2025-02-02T10:16:59.400Z"
   },
   {
    "duration": 17,
    "start_time": "2025-02-02T10:16:59.578Z"
   },
   {
    "duration": 23,
    "start_time": "2025-02-02T10:16:59.596Z"
   },
   {
    "duration": 50,
    "start_time": "2025-02-02T10:16:59.621Z"
   },
   {
    "duration": 17,
    "start_time": "2025-02-02T10:16:59.673Z"
   },
   {
    "duration": 4,
    "start_time": "2025-02-02T10:16:59.691Z"
   },
   {
    "duration": 22,
    "start_time": "2025-02-02T10:16:59.696Z"
   },
   {
    "duration": 3,
    "start_time": "2025-02-02T10:16:59.720Z"
   },
   {
    "duration": 89,
    "start_time": "2025-02-02T10:16:59.725Z"
   },
   {
    "duration": 152,
    "start_time": "2025-02-02T10:16:59.816Z"
   },
   {
    "duration": 23,
    "start_time": "2025-02-02T10:16:59.970Z"
   },
   {
    "duration": 23,
    "start_time": "2025-02-02T10:16:59.994Z"
   },
   {
    "duration": 30,
    "start_time": "2025-02-02T10:17:00.019Z"
   },
   {
    "duration": 61,
    "start_time": "2025-02-02T10:17:00.050Z"
   },
   {
    "duration": 14,
    "start_time": "2025-02-02T10:17:00.113Z"
   },
   {
    "duration": 171,
    "start_time": "2025-02-02T10:17:00.129Z"
   },
   {
    "duration": 7,
    "start_time": "2025-02-02T10:17:00.302Z"
   },
   {
    "duration": 9,
    "start_time": "2025-02-02T10:17:00.310Z"
   },
   {
    "duration": 176,
    "start_time": "2025-02-02T10:17:00.321Z"
   },
   {
    "duration": 4,
    "start_time": "2025-02-02T10:17:00.499Z"
   },
   {
    "duration": 8,
    "start_time": "2025-02-02T10:17:00.505Z"
   },
   {
    "duration": 23,
    "start_time": "2025-02-02T10:17:00.514Z"
   },
   {
    "duration": 178,
    "start_time": "2025-02-02T10:17:00.539Z"
   },
   {
    "duration": 7,
    "start_time": "2025-02-02T10:17:00.719Z"
   },
   {
    "duration": 34,
    "start_time": "2025-02-02T10:17:00.728Z"
   },
   {
    "duration": 8,
    "start_time": "2025-02-02T10:17:00.764Z"
   },
   {
    "duration": 13,
    "start_time": "2025-02-02T10:17:00.774Z"
   },
   {
    "duration": 6,
    "start_time": "2025-02-02T10:17:00.792Z"
   },
   {
    "duration": 270,
    "start_time": "2025-02-02T10:17:00.800Z"
   },
   {
    "duration": 178,
    "start_time": "2025-02-02T10:17:01.072Z"
   },
   {
    "duration": 163,
    "start_time": "2025-02-02T10:17:01.252Z"
   },
   {
    "duration": 28,
    "start_time": "2025-02-02T10:17:01.416Z"
   },
   {
    "duration": 37,
    "start_time": "2025-02-02T10:17:01.446Z"
   },
   {
    "duration": 8,
    "start_time": "2025-02-02T10:17:01.485Z"
   },
   {
    "duration": 14,
    "start_time": "2025-02-02T10:17:01.496Z"
   },
   {
    "duration": 17,
    "start_time": "2025-02-02T10:17:01.513Z"
   },
   {
    "duration": 24,
    "start_time": "2025-02-02T10:21:37.168Z"
   },
   {
    "duration": 6,
    "start_time": "2025-02-02T10:26:07.462Z"
   },
   {
    "duration": 18,
    "start_time": "2025-02-02T10:26:52.752Z"
   },
   {
    "duration": 7,
    "start_time": "2025-02-02T10:27:10.051Z"
   },
   {
    "duration": 8,
    "start_time": "2025-02-02T10:27:18.887Z"
   },
   {
    "duration": 20,
    "start_time": "2025-02-02T10:28:02.948Z"
   },
   {
    "duration": 19,
    "start_time": "2025-02-02T10:28:29.908Z"
   },
   {
    "duration": 15,
    "start_time": "2025-02-02T10:28:37.803Z"
   },
   {
    "duration": 18,
    "start_time": "2025-02-02T10:28:41.071Z"
   },
   {
    "duration": 19,
    "start_time": "2025-02-02T10:28:50.477Z"
   },
   {
    "duration": 20,
    "start_time": "2025-02-02T10:28:59.352Z"
   },
   {
    "duration": 6,
    "start_time": "2025-02-02T10:30:30.497Z"
   },
   {
    "duration": 8,
    "start_time": "2025-02-02T10:30:39.354Z"
   },
   {
    "duration": 7,
    "start_time": "2025-02-02T10:30:43.582Z"
   },
   {
    "duration": 6,
    "start_time": "2025-02-02T10:30:49.413Z"
   },
   {
    "duration": 7,
    "start_time": "2025-02-02T10:30:53.922Z"
   },
   {
    "duration": 7,
    "start_time": "2025-02-02T10:30:57.969Z"
   },
   {
    "duration": 8,
    "start_time": "2025-02-02T10:31:02.750Z"
   },
   {
    "duration": 8,
    "start_time": "2025-02-02T10:31:06.592Z"
   },
   {
    "duration": 7,
    "start_time": "2025-02-02T10:31:11.040Z"
   },
   {
    "duration": 19,
    "start_time": "2025-02-02T10:31:57.999Z"
   },
   {
    "duration": 6,
    "start_time": "2025-02-02T10:32:15.510Z"
   },
   {
    "duration": 18,
    "start_time": "2025-02-02T10:32:25.616Z"
   },
   {
    "duration": 19,
    "start_time": "2025-02-02T10:32:58.912Z"
   },
   {
    "duration": 13,
    "start_time": "2025-02-02T10:42:41.707Z"
   },
   {
    "duration": 19,
    "start_time": "2025-02-02T10:42:51.282Z"
   },
   {
    "duration": 27,
    "start_time": "2025-02-02T10:43:39.897Z"
   },
   {
    "duration": 1325,
    "start_time": "2025-02-02T10:44:03.968Z"
   },
   {
    "duration": 365,
    "start_time": "2025-02-02T10:44:05.295Z"
   },
   {
    "duration": 34,
    "start_time": "2025-02-02T10:44:05.663Z"
   },
   {
    "duration": 105,
    "start_time": "2025-02-02T10:44:05.699Z"
   },
   {
    "duration": 12,
    "start_time": "2025-02-02T10:44:05.807Z"
   },
   {
    "duration": 70,
    "start_time": "2025-02-02T10:44:05.821Z"
   },
   {
    "duration": 40,
    "start_time": "2025-02-02T10:44:05.893Z"
   },
   {
    "duration": 58,
    "start_time": "2025-02-02T10:44:05.935Z"
   },
   {
    "duration": 16,
    "start_time": "2025-02-02T10:44:05.995Z"
   },
   {
    "duration": 11,
    "start_time": "2025-02-02T10:44:06.012Z"
   },
   {
    "duration": 39,
    "start_time": "2025-02-02T10:44:06.024Z"
   },
   {
    "duration": 32,
    "start_time": "2025-02-02T10:44:06.065Z"
   },
   {
    "duration": 19,
    "start_time": "2025-02-02T10:44:06.099Z"
   },
   {
    "duration": 221,
    "start_time": "2025-02-02T10:44:06.121Z"
   },
   {
    "duration": 34,
    "start_time": "2025-02-02T10:44:06.344Z"
   },
   {
    "duration": 25,
    "start_time": "2025-02-02T10:44:06.380Z"
   },
   {
    "duration": 27,
    "start_time": "2025-02-02T10:44:06.406Z"
   },
   {
    "duration": 47,
    "start_time": "2025-02-02T10:44:06.435Z"
   },
   {
    "duration": 4,
    "start_time": "2025-02-02T10:44:06.483Z"
   },
   {
    "duration": 27,
    "start_time": "2025-02-02T10:44:06.489Z"
   },
   {
    "duration": 12,
    "start_time": "2025-02-02T10:44:06.518Z"
   },
   {
    "duration": 93,
    "start_time": "2025-02-02T10:44:06.532Z"
   },
   {
    "duration": 175,
    "start_time": "2025-02-02T10:44:06.627Z"
   },
   {
    "duration": 20,
    "start_time": "2025-02-02T10:44:06.804Z"
   },
   {
    "duration": 34,
    "start_time": "2025-02-02T10:44:06.826Z"
   },
   {
    "duration": 13,
    "start_time": "2025-02-02T10:44:06.864Z"
   },
   {
    "duration": 6,
    "start_time": "2025-02-02T10:44:06.879Z"
   },
   {
    "duration": 9,
    "start_time": "2025-02-02T10:44:06.887Z"
   },
   {
    "duration": 224,
    "start_time": "2025-02-02T10:44:06.898Z"
   },
   {
    "duration": 6,
    "start_time": "2025-02-02T10:44:07.124Z"
   },
   {
    "duration": 8,
    "start_time": "2025-02-02T10:44:07.131Z"
   },
   {
    "duration": 203,
    "start_time": "2025-02-02T10:44:07.141Z"
   },
   {
    "duration": 21,
    "start_time": "2025-02-02T10:44:07.346Z"
   },
   {
    "duration": 7,
    "start_time": "2025-02-02T10:44:07.369Z"
   },
   {
    "duration": 22,
    "start_time": "2025-02-02T10:44:07.378Z"
   },
   {
    "duration": 161,
    "start_time": "2025-02-02T10:44:07.402Z"
   },
   {
    "duration": 13,
    "start_time": "2025-02-02T10:44:07.566Z"
   },
   {
    "duration": 25,
    "start_time": "2025-02-02T10:44:07.580Z"
   },
   {
    "duration": 8,
    "start_time": "2025-02-02T10:44:07.607Z"
   },
   {
    "duration": 43,
    "start_time": "2025-02-02T10:44:07.617Z"
   },
   {
    "duration": 7,
    "start_time": "2025-02-02T10:44:07.664Z"
   },
   {
    "duration": 280,
    "start_time": "2025-02-02T10:44:07.673Z"
   },
   {
    "duration": 194,
    "start_time": "2025-02-02T10:44:07.955Z"
   },
   {
    "duration": 344,
    "start_time": "2025-02-02T10:44:08.151Z"
   },
   {
    "duration": 95,
    "start_time": "2025-02-02T10:44:08.497Z"
   },
   {
    "duration": 81,
    "start_time": "2025-02-02T10:44:08.594Z"
   },
   {
    "duration": 9,
    "start_time": "2025-02-02T10:44:08.677Z"
   },
   {
    "duration": 70,
    "start_time": "2025-02-02T10:44:08.688Z"
   },
   {
    "duration": 16,
    "start_time": "2025-02-02T10:44:08.760Z"
   },
   {
    "duration": 32,
    "start_time": "2025-02-02T10:44:30.159Z"
   },
   {
    "duration": 32,
    "start_time": "2025-02-02T10:44:47.534Z"
   },
   {
    "duration": 28,
    "start_time": "2025-02-02T10:44:51.502Z"
   },
   {
    "duration": 26,
    "start_time": "2025-02-02T10:44:56.813Z"
   },
   {
    "duration": 21,
    "start_time": "2025-02-02T10:46:01.837Z"
   },
   {
    "duration": 12,
    "start_time": "2025-02-02T10:46:10.768Z"
   },
   {
    "duration": 6,
    "start_time": "2025-02-02T10:46:27.894Z"
   },
   {
    "duration": 11,
    "start_time": "2025-02-02T10:46:33.572Z"
   },
   {
    "duration": 10,
    "start_time": "2025-02-02T10:46:38.849Z"
   },
   {
    "duration": 1166,
    "start_time": "2025-02-02T10:46:51.831Z"
   },
   {
    "duration": 218,
    "start_time": "2025-02-02T10:46:52.998Z"
   },
   {
    "duration": 29,
    "start_time": "2025-02-02T10:46:53.218Z"
   },
   {
    "duration": 58,
    "start_time": "2025-02-02T10:46:53.258Z"
   },
   {
    "duration": 11,
    "start_time": "2025-02-02T10:46:53.317Z"
   },
   {
    "duration": 72,
    "start_time": "2025-02-02T10:46:53.329Z"
   },
   {
    "duration": 38,
    "start_time": "2025-02-02T10:46:53.402Z"
   },
   {
    "duration": 52,
    "start_time": "2025-02-02T10:46:53.442Z"
   },
   {
    "duration": 15,
    "start_time": "2025-02-02T10:46:53.496Z"
   },
   {
    "duration": 10,
    "start_time": "2025-02-02T10:46:53.513Z"
   },
   {
    "duration": 39,
    "start_time": "2025-02-02T10:46:53.524Z"
   },
   {
    "duration": 21,
    "start_time": "2025-02-02T10:46:53.564Z"
   },
   {
    "duration": 19,
    "start_time": "2025-02-02T10:46:53.587Z"
   },
   {
    "duration": 188,
    "start_time": "2025-02-02T10:46:53.608Z"
   },
   {
    "duration": 13,
    "start_time": "2025-02-02T10:46:53.798Z"
   },
   {
    "duration": 19,
    "start_time": "2025-02-02T10:46:53.813Z"
   },
   {
    "duration": 44,
    "start_time": "2025-02-02T10:46:53.834Z"
   },
   {
    "duration": 22,
    "start_time": "2025-02-02T10:46:53.881Z"
   },
   {
    "duration": 4,
    "start_time": "2025-02-02T10:46:53.905Z"
   },
   {
    "duration": 19,
    "start_time": "2025-02-02T10:46:53.958Z"
   },
   {
    "duration": 3,
    "start_time": "2025-02-02T10:46:53.978Z"
   },
   {
    "duration": 83,
    "start_time": "2025-02-02T10:46:53.983Z"
   },
   {
    "duration": 103,
    "start_time": "2025-02-02T10:46:54.067Z"
   },
   {
    "duration": 20,
    "start_time": "2025-02-02T10:46:54.172Z"
   },
   {
    "duration": 80,
    "start_time": "2025-02-02T10:46:54.193Z"
   },
   {
    "duration": 7,
    "start_time": "2025-02-02T10:46:54.274Z"
   },
   {
    "duration": 18,
    "start_time": "2025-02-02T10:46:54.284Z"
   },
   {
    "duration": 56,
    "start_time": "2025-02-02T10:46:54.303Z"
   },
   {
    "duration": 244,
    "start_time": "2025-02-02T10:46:54.360Z"
   },
   {
    "duration": 6,
    "start_time": "2025-02-02T10:46:54.658Z"
   },
   {
    "duration": 11,
    "start_time": "2025-02-02T10:46:54.666Z"
   },
   {
    "duration": 308,
    "start_time": "2025-02-02T10:46:54.678Z"
   },
   {
    "duration": 3,
    "start_time": "2025-02-02T10:46:54.988Z"
   },
   {
    "duration": 7,
    "start_time": "2025-02-02T10:46:54.993Z"
   },
   {
    "duration": 92,
    "start_time": "2025-02-02T10:46:55.001Z"
   },
   {
    "duration": 302,
    "start_time": "2025-02-02T10:46:55.094Z"
   },
   {
    "duration": 6,
    "start_time": "2025-02-02T10:46:55.398Z"
   },
   {
    "duration": 35,
    "start_time": "2025-02-02T10:46:55.458Z"
   },
   {
    "duration": 14,
    "start_time": "2025-02-02T10:46:55.494Z"
   },
   {
    "duration": 9,
    "start_time": "2025-02-02T10:46:55.509Z"
   },
   {
    "duration": 38,
    "start_time": "2025-02-02T10:46:55.520Z"
   },
   {
    "duration": 244,
    "start_time": "2025-02-02T10:46:55.560Z"
   },
   {
    "duration": 154,
    "start_time": "2025-02-02T10:46:55.805Z"
   },
   {
    "duration": 168,
    "start_time": "2025-02-02T10:46:55.961Z"
   },
   {
    "duration": 10,
    "start_time": "2025-02-02T10:46:56.130Z"
   },
   {
    "duration": 22,
    "start_time": "2025-02-02T10:46:56.158Z"
   },
   {
    "duration": 7,
    "start_time": "2025-02-02T10:46:56.182Z"
   },
   {
    "duration": 4,
    "start_time": "2025-02-02T10:46:56.191Z"
   },
   {
    "duration": 7,
    "start_time": "2025-02-02T10:46:56.197Z"
   },
   {
    "duration": 1138,
    "start_time": "2025-02-02T10:49:37.858Z"
   },
   {
    "duration": 275,
    "start_time": "2025-02-02T10:49:38.998Z"
   },
   {
    "duration": 27,
    "start_time": "2025-02-02T10:49:39.275Z"
   },
   {
    "duration": 75,
    "start_time": "2025-02-02T10:49:39.303Z"
   },
   {
    "duration": 11,
    "start_time": "2025-02-02T10:49:39.380Z"
   },
   {
    "duration": 66,
    "start_time": "2025-02-02T10:49:39.392Z"
   },
   {
    "duration": 39,
    "start_time": "2025-02-02T10:49:39.460Z"
   },
   {
    "duration": 39,
    "start_time": "2025-02-02T10:49:39.501Z"
   },
   {
    "duration": 29,
    "start_time": "2025-02-02T10:49:39.541Z"
   },
   {
    "duration": 10,
    "start_time": "2025-02-02T10:49:39.572Z"
   },
   {
    "duration": 17,
    "start_time": "2025-02-02T10:49:39.583Z"
   },
   {
    "duration": 24,
    "start_time": "2025-02-02T10:49:39.601Z"
   },
   {
    "duration": 49,
    "start_time": "2025-02-02T10:49:39.626Z"
   },
   {
    "duration": 172,
    "start_time": "2025-02-02T10:49:39.678Z"
   },
   {
    "duration": 17,
    "start_time": "2025-02-02T10:49:39.852Z"
   },
   {
    "duration": 21,
    "start_time": "2025-02-02T10:49:39.870Z"
   },
   {
    "duration": 24,
    "start_time": "2025-02-02T10:49:39.893Z"
   },
   {
    "duration": 41,
    "start_time": "2025-02-02T10:49:39.918Z"
   },
   {
    "duration": 4,
    "start_time": "2025-02-02T10:49:39.960Z"
   },
   {
    "duration": 22,
    "start_time": "2025-02-02T10:49:39.966Z"
   },
   {
    "duration": 3,
    "start_time": "2025-02-02T10:49:39.989Z"
   },
   {
    "duration": 78,
    "start_time": "2025-02-02T10:49:39.994Z"
   },
   {
    "duration": 124,
    "start_time": "2025-02-02T10:49:40.074Z"
   },
   {
    "duration": 21,
    "start_time": "2025-02-02T10:49:40.200Z"
   },
   {
    "duration": 37,
    "start_time": "2025-02-02T10:49:40.223Z"
   },
   {
    "duration": 7,
    "start_time": "2025-02-02T10:49:40.262Z"
   },
   {
    "duration": 5,
    "start_time": "2025-02-02T10:49:40.271Z"
   },
   {
    "duration": 19,
    "start_time": "2025-02-02T10:49:40.277Z"
   },
   {
    "duration": 173,
    "start_time": "2025-02-02T10:49:40.298Z"
   },
   {
    "duration": 7,
    "start_time": "2025-02-02T10:49:40.472Z"
   },
   {
    "duration": 6,
    "start_time": "2025-02-02T10:49:40.481Z"
   },
   {
    "duration": 173,
    "start_time": "2025-02-02T10:49:40.489Z"
   },
   {
    "duration": 4,
    "start_time": "2025-02-02T10:49:40.664Z"
   },
   {
    "duration": 6,
    "start_time": "2025-02-02T10:49:40.670Z"
   },
   {
    "duration": 22,
    "start_time": "2025-02-02T10:49:40.677Z"
   },
   {
    "duration": 162,
    "start_time": "2025-02-02T10:49:40.701Z"
   },
   {
    "duration": 7,
    "start_time": "2025-02-02T10:49:40.865Z"
   },
   {
    "duration": 22,
    "start_time": "2025-02-02T10:49:40.874Z"
   },
   {
    "duration": 8,
    "start_time": "2025-02-02T10:49:40.898Z"
   },
   {
    "duration": 11,
    "start_time": "2025-02-02T10:49:40.907Z"
   },
   {
    "duration": 6,
    "start_time": "2025-02-02T10:49:40.957Z"
   },
   {
    "duration": 242,
    "start_time": "2025-02-02T10:49:40.965Z"
   },
   {
    "duration": 162,
    "start_time": "2025-02-02T10:49:41.209Z"
   },
   {
    "duration": 165,
    "start_time": "2025-02-02T10:49:41.373Z"
   },
   {
    "duration": 37,
    "start_time": "2025-02-02T10:49:41.540Z"
   },
   {
    "duration": 27,
    "start_time": "2025-02-02T10:49:41.578Z"
   },
   {
    "duration": 8,
    "start_time": "2025-02-02T10:49:41.607Z"
   },
   {
    "duration": 12,
    "start_time": "2025-02-02T10:49:41.617Z"
   },
   {
    "duration": 37,
    "start_time": "2025-02-02T10:49:41.630Z"
   },
   {
    "duration": 1180,
    "start_time": "2025-02-02T10:50:20.558Z"
   },
   {
    "duration": 180,
    "start_time": "2025-02-02T10:50:21.740Z"
   },
   {
    "duration": 37,
    "start_time": "2025-02-02T10:50:21.922Z"
   },
   {
    "duration": 62,
    "start_time": "2025-02-02T10:50:21.961Z"
   },
   {
    "duration": 34,
    "start_time": "2025-02-02T10:50:22.025Z"
   },
   {
    "duration": 45,
    "start_time": "2025-02-02T10:50:22.061Z"
   },
   {
    "duration": 57,
    "start_time": "2025-02-02T10:50:22.108Z"
   },
   {
    "duration": 40,
    "start_time": "2025-02-02T10:50:22.166Z"
   },
   {
    "duration": 15,
    "start_time": "2025-02-02T10:50:22.208Z"
   },
   {
    "duration": 35,
    "start_time": "2025-02-02T10:50:22.224Z"
   },
   {
    "duration": 18,
    "start_time": "2025-02-02T10:50:22.261Z"
   },
   {
    "duration": 21,
    "start_time": "2025-02-02T10:50:22.281Z"
   },
   {
    "duration": 18,
    "start_time": "2025-02-02T10:50:22.304Z"
   },
   {
    "duration": 186,
    "start_time": "2025-02-02T10:50:22.325Z"
   },
   {
    "duration": 15,
    "start_time": "2025-02-02T10:50:22.513Z"
   },
   {
    "duration": 34,
    "start_time": "2025-02-02T10:50:22.529Z"
   },
   {
    "duration": 27,
    "start_time": "2025-02-02T10:50:22.565Z"
   },
   {
    "duration": 15,
    "start_time": "2025-02-02T10:50:22.594Z"
   },
   {
    "duration": 4,
    "start_time": "2025-02-02T10:50:22.610Z"
   },
   {
    "duration": 51,
    "start_time": "2025-02-02T10:50:22.616Z"
   },
   {
    "duration": 3,
    "start_time": "2025-02-02T10:50:22.669Z"
   },
   {
    "duration": 56,
    "start_time": "2025-02-02T10:50:22.675Z"
   },
   {
    "duration": 141,
    "start_time": "2025-02-02T10:50:22.734Z"
   },
   {
    "duration": 21,
    "start_time": "2025-02-02T10:50:22.877Z"
   },
   {
    "duration": 21,
    "start_time": "2025-02-02T10:50:22.900Z"
   },
   {
    "duration": 8,
    "start_time": "2025-02-02T10:50:22.922Z"
   },
   {
    "duration": 6,
    "start_time": "2025-02-02T10:50:22.958Z"
   },
   {
    "duration": 7,
    "start_time": "2025-02-02T10:50:22.966Z"
   },
   {
    "duration": 182,
    "start_time": "2025-02-02T10:50:22.974Z"
   },
   {
    "duration": 6,
    "start_time": "2025-02-02T10:50:23.158Z"
   },
   {
    "duration": 28,
    "start_time": "2025-02-02T10:50:23.165Z"
   },
   {
    "duration": 141,
    "start_time": "2025-02-02T10:50:23.195Z"
   },
   {
    "duration": 4,
    "start_time": "2025-02-02T10:50:23.337Z"
   },
   {
    "duration": 16,
    "start_time": "2025-02-02T10:50:23.343Z"
   },
   {
    "duration": 21,
    "start_time": "2025-02-02T10:50:23.360Z"
   },
   {
    "duration": 144,
    "start_time": "2025-02-02T10:50:23.382Z"
   },
   {
    "duration": 6,
    "start_time": "2025-02-02T10:50:23.527Z"
   },
   {
    "duration": 37,
    "start_time": "2025-02-02T10:50:23.535Z"
   },
   {
    "duration": 11,
    "start_time": "2025-02-02T10:50:23.573Z"
   },
   {
    "duration": 10,
    "start_time": "2025-02-02T10:50:23.586Z"
   },
   {
    "duration": 6,
    "start_time": "2025-02-02T10:50:23.599Z"
   },
   {
    "duration": 244,
    "start_time": "2025-02-02T10:50:23.606Z"
   },
   {
    "duration": 177,
    "start_time": "2025-02-02T10:50:23.852Z"
   },
   {
    "duration": 158,
    "start_time": "2025-02-02T10:50:24.031Z"
   },
   {
    "duration": 26,
    "start_time": "2025-02-02T10:50:24.191Z"
   },
   {
    "duration": 25,
    "start_time": "2025-02-02T10:50:24.219Z"
   },
   {
    "duration": 17,
    "start_time": "2025-02-02T10:50:24.245Z"
   },
   {
    "duration": 18,
    "start_time": "2025-02-02T10:50:24.263Z"
   },
   {
    "duration": 11,
    "start_time": "2025-02-02T10:50:24.283Z"
   },
   {
    "duration": 3,
    "start_time": "2025-02-02T10:55:10.546Z"
   },
   {
    "duration": 21,
    "start_time": "2025-02-02T10:55:16.930Z"
   },
   {
    "duration": 33,
    "start_time": "2025-02-02T10:56:01.545Z"
   },
   {
    "duration": 28,
    "start_time": "2025-02-02T10:56:28.483Z"
   },
   {
    "duration": 1139,
    "start_time": "2025-02-02T10:57:18.259Z"
   },
   {
    "duration": 227,
    "start_time": "2025-02-02T10:57:19.400Z"
   },
   {
    "duration": 30,
    "start_time": "2025-02-02T10:57:19.629Z"
   },
   {
    "duration": 59,
    "start_time": "2025-02-02T10:57:19.661Z"
   },
   {
    "duration": 40,
    "start_time": "2025-02-02T10:57:19.723Z"
   },
   {
    "duration": 45,
    "start_time": "2025-02-02T10:57:19.765Z"
   },
   {
    "duration": 57,
    "start_time": "2025-02-02T10:57:19.812Z"
   },
   {
    "duration": 37,
    "start_time": "2025-02-02T10:57:19.871Z"
   },
   {
    "duration": 14,
    "start_time": "2025-02-02T10:57:19.910Z"
   },
   {
    "duration": 33,
    "start_time": "2025-02-02T10:57:19.926Z"
   },
   {
    "duration": 18,
    "start_time": "2025-02-02T10:57:19.960Z"
   },
   {
    "duration": 24,
    "start_time": "2025-02-02T10:57:19.979Z"
   },
   {
    "duration": 9,
    "start_time": "2025-02-02T10:57:20.005Z"
   },
   {
    "duration": 188,
    "start_time": "2025-02-02T10:57:20.018Z"
   },
   {
    "duration": 15,
    "start_time": "2025-02-02T10:57:20.208Z"
   },
   {
    "duration": 35,
    "start_time": "2025-02-02T10:57:20.224Z"
   },
   {
    "duration": 26,
    "start_time": "2025-02-02T10:57:20.260Z"
   },
   {
    "duration": 16,
    "start_time": "2025-02-02T10:57:20.287Z"
   },
   {
    "duration": 4,
    "start_time": "2025-02-02T10:57:20.304Z"
   },
   {
    "duration": 24,
    "start_time": "2025-02-02T10:57:20.309Z"
   },
   {
    "duration": 3,
    "start_time": "2025-02-02T10:57:20.358Z"
   },
   {
    "duration": 54,
    "start_time": "2025-02-02T10:57:20.363Z"
   },
   {
    "duration": 118,
    "start_time": "2025-02-02T10:57:20.419Z"
   },
   {
    "duration": 33,
    "start_time": "2025-02-02T10:57:20.539Z"
   },
   {
    "duration": 22,
    "start_time": "2025-02-02T10:57:20.574Z"
   },
   {
    "duration": 8,
    "start_time": "2025-02-02T10:57:20.597Z"
   },
   {
    "duration": 11,
    "start_time": "2025-02-02T10:57:20.606Z"
   },
   {
    "duration": 7,
    "start_time": "2025-02-02T10:57:20.618Z"
   },
   {
    "duration": 174,
    "start_time": "2025-02-02T10:57:20.627Z"
   },
   {
    "duration": 6,
    "start_time": "2025-02-02T10:57:20.802Z"
   },
   {
    "duration": 6,
    "start_time": "2025-02-02T10:57:20.810Z"
   },
   {
    "duration": 169,
    "start_time": "2025-02-02T10:57:20.817Z"
   },
   {
    "duration": 5,
    "start_time": "2025-02-02T10:57:20.987Z"
   },
   {
    "duration": 7,
    "start_time": "2025-02-02T10:57:20.993Z"
   },
   {
    "duration": 23,
    "start_time": "2025-02-02T10:57:21.001Z"
   },
   {
    "duration": 157,
    "start_time": "2025-02-02T10:57:21.026Z"
   },
   {
    "duration": 7,
    "start_time": "2025-02-02T10:57:21.185Z"
   },
   {
    "duration": 25,
    "start_time": "2025-02-02T10:57:21.194Z"
   },
   {
    "duration": 9,
    "start_time": "2025-02-02T10:57:21.221Z"
   },
   {
    "duration": 37,
    "start_time": "2025-02-02T10:57:21.231Z"
   },
   {
    "duration": 7,
    "start_time": "2025-02-02T10:57:21.272Z"
   },
   {
    "duration": 254,
    "start_time": "2025-02-02T10:57:21.280Z"
   },
   {
    "duration": 187,
    "start_time": "2025-02-02T10:57:21.536Z"
   },
   {
    "duration": 153,
    "start_time": "2025-02-02T10:57:21.724Z"
   },
   {
    "duration": 24,
    "start_time": "2025-02-02T10:57:21.879Z"
   },
   {
    "duration": 23,
    "start_time": "2025-02-02T10:57:21.905Z"
   },
   {
    "duration": 7,
    "start_time": "2025-02-02T10:57:21.929Z"
   },
   {
    "duration": 29,
    "start_time": "2025-02-02T10:57:21.938Z"
   },
   {
    "duration": 11,
    "start_time": "2025-02-02T10:57:21.969Z"
   },
   {
    "duration": 25,
    "start_time": "2025-02-02T11:00:39.218Z"
   },
   {
    "duration": 26,
    "start_time": "2025-02-02T11:01:09.911Z"
   },
   {
    "duration": 25,
    "start_time": "2025-02-02T11:01:18.259Z"
   },
   {
    "duration": 27,
    "start_time": "2025-02-02T11:01:25.774Z"
   },
   {
    "duration": 1298,
    "start_time": "2025-02-02T11:01:31.044Z"
   },
   {
    "duration": 858,
    "start_time": "2025-02-02T11:01:32.345Z"
   },
   {
    "duration": 61,
    "start_time": "2025-02-02T11:01:33.205Z"
   },
   {
    "duration": 111,
    "start_time": "2025-02-02T11:01:33.267Z"
   },
   {
    "duration": 11,
    "start_time": "2025-02-02T11:01:33.380Z"
   },
   {
    "duration": 102,
    "start_time": "2025-02-02T11:01:33.392Z"
   },
   {
    "duration": 99,
    "start_time": "2025-02-02T11:01:33.496Z"
   },
   {
    "duration": 93,
    "start_time": "2025-02-02T11:01:33.596Z"
   },
   {
    "duration": 68,
    "start_time": "2025-02-02T11:01:33.691Z"
   },
   {
    "duration": 11,
    "start_time": "2025-02-02T11:01:33.761Z"
   },
   {
    "duration": 20,
    "start_time": "2025-02-02T11:01:33.774Z"
   },
   {
    "duration": 84,
    "start_time": "2025-02-02T11:01:33.795Z"
   },
   {
    "duration": 377,
    "start_time": "2025-02-02T11:01:33.881Z"
   },
   {
    "duration": 15,
    "start_time": "2025-02-02T11:01:34.261Z"
   },
   {
    "duration": 20,
    "start_time": "2025-02-02T11:01:34.278Z"
   },
   {
    "duration": 76,
    "start_time": "2025-02-02T11:01:34.300Z"
   },
   {
    "duration": 15,
    "start_time": "2025-02-02T11:01:34.378Z"
   },
   {
    "duration": 6,
    "start_time": "2025-02-02T11:01:34.394Z"
   },
   {
    "duration": 75,
    "start_time": "2025-02-02T11:01:34.402Z"
   },
   {
    "duration": 3,
    "start_time": "2025-02-02T11:01:34.478Z"
   },
   {
    "duration": 111,
    "start_time": "2025-02-02T11:01:34.483Z"
   },
   {
    "duration": 213,
    "start_time": "2025-02-02T11:01:34.595Z"
   },
   {
    "duration": 21,
    "start_time": "2025-02-02T11:01:34.809Z"
   },
   {
    "duration": 48,
    "start_time": "2025-02-02T11:01:34.831Z"
   },
   {
    "duration": 9,
    "start_time": "2025-02-02T11:01:34.881Z"
   },
   {
    "duration": 15,
    "start_time": "2025-02-02T11:01:34.891Z"
   },
   {
    "duration": 8,
    "start_time": "2025-02-02T11:01:34.907Z"
   },
   {
    "duration": 163,
    "start_time": "2025-02-02T11:01:34.916Z"
   },
   {
    "duration": 6,
    "start_time": "2025-02-02T11:01:35.081Z"
   },
   {
    "duration": 16,
    "start_time": "2025-02-02T11:01:35.090Z"
   },
   {
    "duration": 189,
    "start_time": "2025-02-02T11:01:35.108Z"
   },
   {
    "duration": 4,
    "start_time": "2025-02-02T11:01:35.299Z"
   },
   {
    "duration": 8,
    "start_time": "2025-02-02T11:01:35.304Z"
   },
   {
    "duration": 23,
    "start_time": "2025-02-02T11:01:35.314Z"
   },
   {
    "duration": 138,
    "start_time": "2025-02-02T11:01:35.357Z"
   },
   {
    "duration": 6,
    "start_time": "2025-02-02T11:01:35.497Z"
   },
   {
    "duration": 37,
    "start_time": "2025-02-02T11:01:35.504Z"
   },
   {
    "duration": 16,
    "start_time": "2025-02-02T11:01:35.543Z"
   },
   {
    "duration": 11,
    "start_time": "2025-02-02T11:01:35.560Z"
   },
   {
    "duration": 25,
    "start_time": "2025-02-02T11:01:35.573Z"
   },
   {
    "duration": 274,
    "start_time": "2025-02-02T11:01:35.602Z"
   },
   {
    "duration": 167,
    "start_time": "2025-02-02T11:01:35.878Z"
   },
   {
    "duration": 163,
    "start_time": "2025-02-02T11:01:36.047Z"
   },
   {
    "duration": 25,
    "start_time": "2025-02-02T11:01:36.212Z"
   },
   {
    "duration": 36,
    "start_time": "2025-02-02T11:01:36.238Z"
   },
   {
    "duration": 7,
    "start_time": "2025-02-02T11:01:36.276Z"
   },
   {
    "duration": 14,
    "start_time": "2025-02-02T11:01:36.285Z"
   },
   {
    "duration": 12,
    "start_time": "2025-02-02T11:01:36.301Z"
   },
   {
    "duration": 26,
    "start_time": "2025-02-02T11:01:56.647Z"
   },
   {
    "duration": 1155,
    "start_time": "2025-02-02T11:02:02.958Z"
   },
   {
    "duration": 268,
    "start_time": "2025-02-02T11:02:04.115Z"
   },
   {
    "duration": 29,
    "start_time": "2025-02-02T11:02:04.384Z"
   },
   {
    "duration": 82,
    "start_time": "2025-02-02T11:02:04.415Z"
   },
   {
    "duration": 11,
    "start_time": "2025-02-02T11:02:04.499Z"
   },
   {
    "duration": 64,
    "start_time": "2025-02-02T11:02:04.511Z"
   },
   {
    "duration": 42,
    "start_time": "2025-02-02T11:02:04.577Z"
   },
   {
    "duration": 55,
    "start_time": "2025-02-02T11:02:04.621Z"
   },
   {
    "duration": 15,
    "start_time": "2025-02-02T11:02:04.678Z"
   },
   {
    "duration": 10,
    "start_time": "2025-02-02T11:02:04.694Z"
   },
   {
    "duration": 17,
    "start_time": "2025-02-02T11:02:04.706Z"
   },
   {
    "duration": 50,
    "start_time": "2025-02-02T11:02:04.724Z"
   },
   {
    "duration": 225,
    "start_time": "2025-02-02T11:02:04.776Z"
   },
   {
    "duration": 17,
    "start_time": "2025-02-02T11:02:05.057Z"
   },
   {
    "duration": 21,
    "start_time": "2025-02-02T11:02:05.075Z"
   },
   {
    "duration": 90,
    "start_time": "2025-02-02T11:02:05.098Z"
   },
   {
    "duration": 73,
    "start_time": "2025-02-02T11:02:05.190Z"
   },
   {
    "duration": 4,
    "start_time": "2025-02-02T11:02:05.266Z"
   },
   {
    "duration": 25,
    "start_time": "2025-02-02T11:02:05.272Z"
   },
   {
    "duration": 60,
    "start_time": "2025-02-02T11:02:05.298Z"
   },
   {
    "duration": 104,
    "start_time": "2025-02-02T11:02:05.360Z"
   },
   {
    "duration": 212,
    "start_time": "2025-02-02T11:02:05.466Z"
   },
   {
    "duration": 22,
    "start_time": "2025-02-02T11:02:05.679Z"
   },
   {
    "duration": 73,
    "start_time": "2025-02-02T11:02:05.703Z"
   },
   {
    "duration": 12,
    "start_time": "2025-02-02T11:02:05.778Z"
   },
   {
    "duration": 5,
    "start_time": "2025-02-02T11:02:05.791Z"
   },
   {
    "duration": 9,
    "start_time": "2025-02-02T11:02:05.798Z"
   },
   {
    "duration": 363,
    "start_time": "2025-02-02T11:02:05.809Z"
   },
   {
    "duration": 6,
    "start_time": "2025-02-02T11:02:06.174Z"
   },
   {
    "duration": 7,
    "start_time": "2025-02-02T11:02:06.181Z"
   },
   {
    "duration": 307,
    "start_time": "2025-02-02T11:02:06.189Z"
   },
   {
    "duration": 5,
    "start_time": "2025-02-02T11:02:06.498Z"
   },
   {
    "duration": 6,
    "start_time": "2025-02-02T11:02:06.504Z"
   },
   {
    "duration": 24,
    "start_time": "2025-02-02T11:02:06.512Z"
   },
   {
    "duration": 156,
    "start_time": "2025-02-02T11:02:06.537Z"
   },
   {
    "duration": 7,
    "start_time": "2025-02-02T11:02:06.694Z"
   },
   {
    "duration": 24,
    "start_time": "2025-02-02T11:02:06.702Z"
   },
   {
    "duration": 7,
    "start_time": "2025-02-02T11:02:06.727Z"
   },
   {
    "duration": 11,
    "start_time": "2025-02-02T11:02:06.758Z"
   },
   {
    "duration": 6,
    "start_time": "2025-02-02T11:02:06.771Z"
   },
   {
    "duration": 252,
    "start_time": "2025-02-02T11:02:06.781Z"
   },
   {
    "duration": 159,
    "start_time": "2025-02-02T11:02:07.034Z"
   },
   {
    "duration": 166,
    "start_time": "2025-02-02T11:02:07.195Z"
   },
   {
    "duration": 25,
    "start_time": "2025-02-02T11:02:07.362Z"
   },
   {
    "duration": 25,
    "start_time": "2025-02-02T11:02:07.388Z"
   },
   {
    "duration": 7,
    "start_time": "2025-02-02T11:02:07.414Z"
   },
   {
    "duration": 36,
    "start_time": "2025-02-02T11:02:07.422Z"
   },
   {
    "duration": 11,
    "start_time": "2025-02-02T11:02:07.460Z"
   },
   {
    "duration": 26,
    "start_time": "2025-02-02T11:02:53.718Z"
   },
   {
    "duration": 1377,
    "start_time": "2025-02-02T11:02:59.703Z"
   },
   {
    "duration": 291,
    "start_time": "2025-02-02T11:03:01.082Z"
   },
   {
    "duration": 28,
    "start_time": "2025-02-02T11:03:01.375Z"
   },
   {
    "duration": 168,
    "start_time": "2025-02-02T11:03:01.405Z"
   },
   {
    "duration": 14,
    "start_time": "2025-02-02T11:03:01.575Z"
   },
   {
    "duration": 105,
    "start_time": "2025-02-02T11:03:01.591Z"
   },
   {
    "duration": 95,
    "start_time": "2025-02-02T11:03:01.698Z"
   },
   {
    "duration": 93,
    "start_time": "2025-02-02T11:03:01.794Z"
   },
   {
    "duration": 69,
    "start_time": "2025-02-02T11:03:01.889Z"
   },
   {
    "duration": 11,
    "start_time": "2025-02-02T11:03:01.960Z"
   },
   {
    "duration": 23,
    "start_time": "2025-02-02T11:03:01.973Z"
   },
   {
    "duration": 81,
    "start_time": "2025-02-02T11:03:01.998Z"
   },
   {
    "duration": 239,
    "start_time": "2025-02-02T11:03:02.080Z"
   },
   {
    "duration": 15,
    "start_time": "2025-02-02T11:03:02.322Z"
   },
   {
    "duration": 35,
    "start_time": "2025-02-02T11:03:02.338Z"
   },
   {
    "duration": 24,
    "start_time": "2025-02-02T11:03:02.375Z"
   },
   {
    "duration": 15,
    "start_time": "2025-02-02T11:03:02.401Z"
   },
   {
    "duration": 4,
    "start_time": "2025-02-02T11:03:02.417Z"
   },
   {
    "duration": 47,
    "start_time": "2025-02-02T11:03:02.422Z"
   },
   {
    "duration": 4,
    "start_time": "2025-02-02T11:03:02.470Z"
   },
   {
    "duration": 82,
    "start_time": "2025-02-02T11:03:02.476Z"
   },
   {
    "duration": 117,
    "start_time": "2025-02-02T11:03:02.559Z"
   },
   {
    "duration": 20,
    "start_time": "2025-02-02T11:03:02.678Z"
   },
   {
    "duration": 22,
    "start_time": "2025-02-02T11:03:02.700Z"
   },
   {
    "duration": 7,
    "start_time": "2025-02-02T11:03:02.724Z"
   },
   {
    "duration": 7,
    "start_time": "2025-02-02T11:03:02.757Z"
   },
   {
    "duration": 21,
    "start_time": "2025-02-02T11:03:02.767Z"
   },
   {
    "duration": 167,
    "start_time": "2025-02-02T11:03:02.789Z"
   },
   {
    "duration": 6,
    "start_time": "2025-02-02T11:03:02.958Z"
   },
   {
    "duration": 20,
    "start_time": "2025-02-02T11:03:02.966Z"
   },
   {
    "duration": 153,
    "start_time": "2025-02-02T11:03:02.987Z"
   },
   {
    "duration": 4,
    "start_time": "2025-02-02T11:03:03.142Z"
   },
   {
    "duration": 11,
    "start_time": "2025-02-02T11:03:03.147Z"
   },
   {
    "duration": 22,
    "start_time": "2025-02-02T11:03:03.160Z"
   },
   {
    "duration": 144,
    "start_time": "2025-02-02T11:03:03.183Z"
   },
   {
    "duration": 7,
    "start_time": "2025-02-02T11:03:03.329Z"
   },
   {
    "duration": 40,
    "start_time": "2025-02-02T11:03:03.337Z"
   },
   {
    "duration": 19,
    "start_time": "2025-02-02T11:03:03.379Z"
   },
   {
    "duration": 10,
    "start_time": "2025-02-02T11:03:03.399Z"
   },
   {
    "duration": 6,
    "start_time": "2025-02-02T11:03:03.411Z"
   },
   {
    "duration": 243,
    "start_time": "2025-02-02T11:03:03.420Z"
   },
   {
    "duration": 170,
    "start_time": "2025-02-02T11:03:03.665Z"
   },
   {
    "duration": 158,
    "start_time": "2025-02-02T11:03:03.837Z"
   },
   {
    "duration": 24,
    "start_time": "2025-02-02T11:03:03.997Z"
   },
   {
    "duration": 36,
    "start_time": "2025-02-02T11:03:04.022Z"
   },
   {
    "duration": 7,
    "start_time": "2025-02-02T11:03:04.059Z"
   },
   {
    "duration": 16,
    "start_time": "2025-02-02T11:03:04.068Z"
   },
   {
    "duration": 10,
    "start_time": "2025-02-02T11:03:04.086Z"
   },
   {
    "duration": 24,
    "start_time": "2025-02-02T11:03:37.982Z"
   },
   {
    "duration": 1079,
    "start_time": "2025-02-02T11:03:42.496Z"
   },
   {
    "duration": 211,
    "start_time": "2025-02-02T11:03:43.577Z"
   },
   {
    "duration": 30,
    "start_time": "2025-02-02T11:03:43.789Z"
   },
   {
    "duration": 81,
    "start_time": "2025-02-02T11:03:43.821Z"
   },
   {
    "duration": 11,
    "start_time": "2025-02-02T11:03:43.904Z"
   },
   {
    "duration": 67,
    "start_time": "2025-02-02T11:03:43.916Z"
   },
   {
    "duration": 41,
    "start_time": "2025-02-02T11:03:43.984Z"
   },
   {
    "duration": 51,
    "start_time": "2025-02-02T11:03:44.027Z"
   },
   {
    "duration": 15,
    "start_time": "2025-02-02T11:03:44.080Z"
   },
   {
    "duration": 10,
    "start_time": "2025-02-02T11:03:44.097Z"
   },
   {
    "duration": 17,
    "start_time": "2025-02-02T11:03:44.108Z"
   },
   {
    "duration": 49,
    "start_time": "2025-02-02T11:03:44.126Z"
   },
   {
    "duration": 169,
    "start_time": "2025-02-02T11:03:44.177Z"
   },
   {
    "duration": 23,
    "start_time": "2025-02-02T11:03:44.349Z"
   },
   {
    "duration": 22,
    "start_time": "2025-02-02T11:03:44.374Z"
   },
   {
    "duration": 24,
    "start_time": "2025-02-02T11:03:44.397Z"
   },
   {
    "duration": 40,
    "start_time": "2025-02-02T11:03:44.422Z"
   },
   {
    "duration": 4,
    "start_time": "2025-02-02T11:03:44.463Z"
   },
   {
    "duration": 23,
    "start_time": "2025-02-02T11:03:44.469Z"
   },
   {
    "duration": 3,
    "start_time": "2025-02-02T11:03:44.494Z"
   },
   {
    "duration": 69,
    "start_time": "2025-02-02T11:03:44.499Z"
   },
   {
    "duration": 116,
    "start_time": "2025-02-02T11:03:44.569Z"
   },
   {
    "duration": 22,
    "start_time": "2025-02-02T11:03:44.686Z"
   },
   {
    "duration": 20,
    "start_time": "2025-02-02T11:03:44.710Z"
   },
   {
    "duration": 27,
    "start_time": "2025-02-02T11:03:44.732Z"
   },
   {
    "duration": 6,
    "start_time": "2025-02-02T11:03:44.760Z"
   },
   {
    "duration": 8,
    "start_time": "2025-02-02T11:03:44.767Z"
   },
   {
    "duration": 161,
    "start_time": "2025-02-02T11:03:44.777Z"
   },
   {
    "duration": 5,
    "start_time": "2025-02-02T11:03:44.940Z"
   },
   {
    "duration": 15,
    "start_time": "2025-02-02T11:03:44.947Z"
   },
   {
    "duration": 157,
    "start_time": "2025-02-02T11:03:44.963Z"
   },
   {
    "duration": 5,
    "start_time": "2025-02-02T11:03:45.122Z"
   },
   {
    "duration": 15,
    "start_time": "2025-02-02T11:03:45.129Z"
   },
   {
    "duration": 44,
    "start_time": "2025-02-02T11:03:45.145Z"
   },
   {
    "duration": 150,
    "start_time": "2025-02-02T11:03:45.194Z"
   },
   {
    "duration": 6,
    "start_time": "2025-02-02T11:03:45.358Z"
   },
   {
    "duration": 25,
    "start_time": "2025-02-02T11:03:45.366Z"
   },
   {
    "duration": 8,
    "start_time": "2025-02-02T11:03:45.393Z"
   },
   {
    "duration": 10,
    "start_time": "2025-02-02T11:03:45.403Z"
   },
   {
    "duration": 6,
    "start_time": "2025-02-02T11:03:45.415Z"
   },
   {
    "duration": 499,
    "start_time": "2025-02-02T11:03:45.461Z"
   },
   {
    "duration": 302,
    "start_time": "2025-02-02T11:03:45.962Z"
   },
   {
    "duration": 317,
    "start_time": "2025-02-02T11:03:46.266Z"
   },
   {
    "duration": 76,
    "start_time": "2025-02-02T11:03:46.584Z"
   },
   {
    "duration": 27,
    "start_time": "2025-02-02T11:03:46.662Z"
   },
   {
    "duration": 11,
    "start_time": "2025-02-02T11:03:46.690Z"
   },
   {
    "duration": 61,
    "start_time": "2025-02-02T11:03:46.703Z"
   },
   {
    "duration": 12,
    "start_time": "2025-02-02T11:03:46.766Z"
   },
   {
    "duration": 25,
    "start_time": "2025-02-02T11:04:04.516Z"
   },
   {
    "duration": 1204,
    "start_time": "2025-02-02T11:04:11.651Z"
   },
   {
    "duration": 177,
    "start_time": "2025-02-02T11:04:12.856Z"
   },
   {
    "duration": 29,
    "start_time": "2025-02-02T11:04:13.034Z"
   },
   {
    "duration": 59,
    "start_time": "2025-02-02T11:04:13.065Z"
   },
   {
    "duration": 39,
    "start_time": "2025-02-02T11:04:13.125Z"
   },
   {
    "duration": 46,
    "start_time": "2025-02-02T11:04:13.166Z"
   },
   {
    "duration": 55,
    "start_time": "2025-02-02T11:04:13.213Z"
   },
   {
    "duration": 39,
    "start_time": "2025-02-02T11:04:13.270Z"
   },
   {
    "duration": 15,
    "start_time": "2025-02-02T11:04:13.310Z"
   },
   {
    "duration": 32,
    "start_time": "2025-02-02T11:04:13.327Z"
   },
   {
    "duration": 18,
    "start_time": "2025-02-02T11:04:13.360Z"
   },
   {
    "duration": 23,
    "start_time": "2025-02-02T11:04:13.380Z"
   },
   {
    "duration": 184,
    "start_time": "2025-02-02T11:04:13.404Z"
   },
   {
    "duration": 14,
    "start_time": "2025-02-02T11:04:13.590Z"
   },
   {
    "duration": 21,
    "start_time": "2025-02-02T11:04:13.605Z"
   },
   {
    "duration": 45,
    "start_time": "2025-02-02T11:04:13.627Z"
   },
   {
    "duration": 16,
    "start_time": "2025-02-02T11:04:13.673Z"
   },
   {
    "duration": 3,
    "start_time": "2025-02-02T11:04:13.691Z"
   },
   {
    "duration": 23,
    "start_time": "2025-02-02T11:04:13.695Z"
   },
   {
    "duration": 3,
    "start_time": "2025-02-02T11:04:13.719Z"
   },
   {
    "duration": 80,
    "start_time": "2025-02-02T11:04:13.724Z"
   },
   {
    "duration": 118,
    "start_time": "2025-02-02T11:04:13.805Z"
   },
   {
    "duration": 34,
    "start_time": "2025-02-02T11:04:13.925Z"
   },
   {
    "duration": 23,
    "start_time": "2025-02-02T11:04:13.960Z"
   },
   {
    "duration": 8,
    "start_time": "2025-02-02T11:04:13.984Z"
   },
   {
    "duration": 6,
    "start_time": "2025-02-02T11:04:13.993Z"
   },
   {
    "duration": 12,
    "start_time": "2025-02-02T11:04:14.000Z"
   },
   {
    "duration": 170,
    "start_time": "2025-02-02T11:04:14.015Z"
   },
   {
    "duration": 7,
    "start_time": "2025-02-02T11:04:14.186Z"
   },
   {
    "duration": 10,
    "start_time": "2025-02-02T11:04:14.195Z"
   },
   {
    "duration": 169,
    "start_time": "2025-02-02T11:04:14.206Z"
   },
   {
    "duration": 4,
    "start_time": "2025-02-02T11:04:14.377Z"
   },
   {
    "duration": 6,
    "start_time": "2025-02-02T11:04:14.382Z"
   },
   {
    "duration": 20,
    "start_time": "2025-02-02T11:04:14.390Z"
   },
   {
    "duration": 156,
    "start_time": "2025-02-02T11:04:14.412Z"
   },
   {
    "duration": 7,
    "start_time": "2025-02-02T11:04:14.569Z"
   },
   {
    "duration": 23,
    "start_time": "2025-02-02T11:04:14.577Z"
   },
   {
    "duration": 8,
    "start_time": "2025-02-02T11:04:14.601Z"
   },
   {
    "duration": 9,
    "start_time": "2025-02-02T11:04:14.611Z"
   },
   {
    "duration": 6,
    "start_time": "2025-02-02T11:04:14.621Z"
   },
   {
    "duration": 239,
    "start_time": "2025-02-02T11:04:14.658Z"
   },
   {
    "duration": 149,
    "start_time": "2025-02-02T11:04:14.899Z"
   },
   {
    "duration": 181,
    "start_time": "2025-02-02T11:04:15.049Z"
   },
   {
    "duration": 29,
    "start_time": "2025-02-02T11:04:15.231Z"
   },
   {
    "duration": 30,
    "start_time": "2025-02-02T11:04:15.262Z"
   },
   {
    "duration": 9,
    "start_time": "2025-02-02T11:04:15.294Z"
   },
   {
    "duration": 16,
    "start_time": "2025-02-02T11:04:15.304Z"
   },
   {
    "duration": 10,
    "start_time": "2025-02-02T11:04:15.322Z"
   },
   {
    "duration": 21,
    "start_time": "2025-02-02T11:18:32.573Z"
   },
   {
    "duration": 1189,
    "start_time": "2025-02-02T11:18:38.329Z"
   },
   {
    "duration": 207,
    "start_time": "2025-02-02T11:18:39.520Z"
   },
   {
    "duration": 28,
    "start_time": "2025-02-02T11:18:39.730Z"
   },
   {
    "duration": 61,
    "start_time": "2025-02-02T11:18:39.760Z"
   },
   {
    "duration": 41,
    "start_time": "2025-02-02T11:18:39.822Z"
   },
   {
    "duration": 45,
    "start_time": "2025-02-02T11:18:39.864Z"
   },
   {
    "duration": 52,
    "start_time": "2025-02-02T11:18:39.911Z"
   },
   {
    "duration": 39,
    "start_time": "2025-02-02T11:18:39.964Z"
   },
   {
    "duration": 14,
    "start_time": "2025-02-02T11:18:40.005Z"
   },
   {
    "duration": 10,
    "start_time": "2025-02-02T11:18:40.021Z"
   },
   {
    "duration": 19,
    "start_time": "2025-02-02T11:18:40.057Z"
   },
   {
    "duration": 21,
    "start_time": "2025-02-02T11:18:40.077Z"
   },
   {
    "duration": 179,
    "start_time": "2025-02-02T11:18:40.101Z"
   },
   {
    "duration": 15,
    "start_time": "2025-02-02T11:18:40.282Z"
   },
   {
    "duration": 21,
    "start_time": "2025-02-02T11:18:40.298Z"
   },
   {
    "duration": 44,
    "start_time": "2025-02-02T11:18:40.321Z"
   },
   {
    "duration": 16,
    "start_time": "2025-02-02T11:18:40.366Z"
   },
   {
    "duration": 4,
    "start_time": "2025-02-02T11:18:40.383Z"
   },
   {
    "duration": 23,
    "start_time": "2025-02-02T11:18:40.388Z"
   },
   {
    "duration": 3,
    "start_time": "2025-02-02T11:18:40.413Z"
   },
   {
    "duration": 81,
    "start_time": "2025-02-02T11:18:40.417Z"
   },
   {
    "duration": 121,
    "start_time": "2025-02-02T11:18:40.499Z"
   },
   {
    "duration": 21,
    "start_time": "2025-02-02T11:18:40.622Z"
   },
   {
    "duration": 35,
    "start_time": "2025-02-02T11:18:40.644Z"
   },
   {
    "duration": 7,
    "start_time": "2025-02-02T11:18:40.681Z"
   },
   {
    "duration": 5,
    "start_time": "2025-02-02T11:18:40.690Z"
   },
   {
    "duration": 11,
    "start_time": "2025-02-02T11:18:40.696Z"
   },
   {
    "duration": 170,
    "start_time": "2025-02-02T11:18:40.708Z"
   },
   {
    "duration": 7,
    "start_time": "2025-02-02T11:18:40.879Z"
   },
   {
    "duration": 6,
    "start_time": "2025-02-02T11:18:40.888Z"
   },
   {
    "duration": 189,
    "start_time": "2025-02-02T11:18:40.895Z"
   },
   {
    "duration": 5,
    "start_time": "2025-02-02T11:18:41.085Z"
   },
   {
    "duration": 5,
    "start_time": "2025-02-02T11:18:41.092Z"
   },
   {
    "duration": 22,
    "start_time": "2025-02-02T11:18:41.099Z"
   },
   {
    "duration": 163,
    "start_time": "2025-02-02T11:18:41.123Z"
   },
   {
    "duration": 7,
    "start_time": "2025-02-02T11:18:41.288Z"
   },
   {
    "duration": 24,
    "start_time": "2025-02-02T11:18:41.296Z"
   },
   {
    "duration": 8,
    "start_time": "2025-02-02T11:18:41.322Z"
   },
   {
    "duration": 35,
    "start_time": "2025-02-02T11:18:41.331Z"
   },
   {
    "duration": 5,
    "start_time": "2025-02-02T11:18:41.370Z"
   },
   {
    "duration": 273,
    "start_time": "2025-02-02T11:18:41.376Z"
   },
   {
    "duration": 150,
    "start_time": "2025-02-02T11:18:41.650Z"
   },
   {
    "duration": 158,
    "start_time": "2025-02-02T11:18:41.802Z"
   },
   {
    "duration": 28,
    "start_time": "2025-02-02T11:18:41.962Z"
   },
   {
    "duration": 23,
    "start_time": "2025-02-02T11:18:41.991Z"
   },
   {
    "duration": 7,
    "start_time": "2025-02-02T11:18:42.015Z"
   },
   {
    "duration": 36,
    "start_time": "2025-02-02T11:18:42.023Z"
   },
   {
    "duration": 12,
    "start_time": "2025-02-02T11:18:42.060Z"
   },
   {
    "duration": 22,
    "start_time": "2025-02-02T11:19:00.704Z"
   },
   {
    "duration": 1199,
    "start_time": "2025-02-02T11:19:06.084Z"
   },
   {
    "duration": 269,
    "start_time": "2025-02-02T11:19:07.285Z"
   },
   {
    "duration": 31,
    "start_time": "2025-02-02T11:19:07.555Z"
   },
   {
    "duration": 94,
    "start_time": "2025-02-02T11:19:07.588Z"
   },
   {
    "duration": 11,
    "start_time": "2025-02-02T11:19:07.685Z"
   },
   {
    "duration": 62,
    "start_time": "2025-02-02T11:19:07.697Z"
   },
   {
    "duration": 41,
    "start_time": "2025-02-02T11:19:07.760Z"
   },
   {
    "duration": 37,
    "start_time": "2025-02-02T11:19:07.803Z"
   },
   {
    "duration": 17,
    "start_time": "2025-02-02T11:19:07.858Z"
   },
   {
    "duration": 10,
    "start_time": "2025-02-02T11:19:07.877Z"
   },
   {
    "duration": 18,
    "start_time": "2025-02-02T11:19:07.889Z"
   },
   {
    "duration": 51,
    "start_time": "2025-02-02T11:19:07.908Z"
   },
   {
    "duration": 170,
    "start_time": "2025-02-02T11:19:07.961Z"
   },
   {
    "duration": 25,
    "start_time": "2025-02-02T11:19:08.134Z"
   },
   {
    "duration": 22,
    "start_time": "2025-02-02T11:19:08.160Z"
   },
   {
    "duration": 25,
    "start_time": "2025-02-02T11:19:08.184Z"
   },
   {
    "duration": 17,
    "start_time": "2025-02-02T11:19:08.211Z"
   },
   {
    "duration": 31,
    "start_time": "2025-02-02T11:19:08.229Z"
   },
   {
    "duration": 24,
    "start_time": "2025-02-02T11:19:08.262Z"
   },
   {
    "duration": 3,
    "start_time": "2025-02-02T11:19:08.288Z"
   },
   {
    "duration": 83,
    "start_time": "2025-02-02T11:19:08.292Z"
   },
   {
    "duration": 142,
    "start_time": "2025-02-02T11:19:08.376Z"
   },
   {
    "duration": 23,
    "start_time": "2025-02-02T11:19:08.519Z"
   },
   {
    "duration": 36,
    "start_time": "2025-02-02T11:19:08.543Z"
   },
   {
    "duration": 8,
    "start_time": "2025-02-02T11:19:08.580Z"
   },
   {
    "duration": 7,
    "start_time": "2025-02-02T11:19:08.590Z"
   },
   {
    "duration": 8,
    "start_time": "2025-02-02T11:19:08.598Z"
   },
   {
    "duration": 181,
    "start_time": "2025-02-02T11:19:08.607Z"
   },
   {
    "duration": 7,
    "start_time": "2025-02-02T11:19:08.790Z"
   },
   {
    "duration": 13,
    "start_time": "2025-02-02T11:19:08.799Z"
   },
   {
    "duration": 188,
    "start_time": "2025-02-02T11:19:08.814Z"
   },
   {
    "duration": 5,
    "start_time": "2025-02-02T11:19:09.003Z"
   },
   {
    "duration": 7,
    "start_time": "2025-02-02T11:19:09.009Z"
   },
   {
    "duration": 41,
    "start_time": "2025-02-02T11:19:09.017Z"
   },
   {
    "duration": 201,
    "start_time": "2025-02-02T11:19:09.059Z"
   },
   {
    "duration": 6,
    "start_time": "2025-02-02T11:19:09.261Z"
   },
   {
    "duration": 23,
    "start_time": "2025-02-02T11:19:09.269Z"
   },
   {
    "duration": 8,
    "start_time": "2025-02-02T11:19:09.294Z"
   },
   {
    "duration": 14,
    "start_time": "2025-02-02T11:19:09.358Z"
   },
   {
    "duration": 7,
    "start_time": "2025-02-02T11:19:09.374Z"
   },
   {
    "duration": 484,
    "start_time": "2025-02-02T11:19:09.386Z"
   },
   {
    "duration": 388,
    "start_time": "2025-02-02T11:19:09.872Z"
   },
   {
    "duration": 343,
    "start_time": "2025-02-02T11:19:10.262Z"
   },
   {
    "duration": 31,
    "start_time": "2025-02-02T11:19:10.658Z"
   },
   {
    "duration": 84,
    "start_time": "2025-02-02T11:19:10.690Z"
   },
   {
    "duration": 7,
    "start_time": "2025-02-02T11:19:10.775Z"
   },
   {
    "duration": 12,
    "start_time": "2025-02-02T11:19:10.784Z"
   },
   {
    "duration": 64,
    "start_time": "2025-02-02T11:19:10.798Z"
   },
   {
    "duration": 25,
    "start_time": "2025-02-02T11:19:43.992Z"
   },
   {
    "duration": 1154,
    "start_time": "2025-02-02T11:19:51.196Z"
   },
   {
    "duration": 201,
    "start_time": "2025-02-02T11:19:52.352Z"
   },
   {
    "duration": 28,
    "start_time": "2025-02-02T11:19:52.555Z"
   },
   {
    "duration": 86,
    "start_time": "2025-02-02T11:19:52.585Z"
   },
   {
    "duration": 12,
    "start_time": "2025-02-02T11:19:52.673Z"
   },
   {
    "duration": 72,
    "start_time": "2025-02-02T11:19:52.686Z"
   },
   {
    "duration": 40,
    "start_time": "2025-02-02T11:19:52.759Z"
   },
   {
    "duration": 37,
    "start_time": "2025-02-02T11:19:52.800Z"
   },
   {
    "duration": 35,
    "start_time": "2025-02-02T11:19:52.838Z"
   },
   {
    "duration": 15,
    "start_time": "2025-02-02T11:19:52.875Z"
   },
   {
    "duration": 17,
    "start_time": "2025-02-02T11:19:52.892Z"
   },
   {
    "duration": 24,
    "start_time": "2025-02-02T11:19:52.911Z"
   },
   {
    "duration": 199,
    "start_time": "2025-02-02T11:19:52.937Z"
   },
   {
    "duration": 28,
    "start_time": "2025-02-02T11:19:53.140Z"
   },
   {
    "duration": 24,
    "start_time": "2025-02-02T11:19:53.170Z"
   },
   {
    "duration": 25,
    "start_time": "2025-02-02T11:19:53.195Z"
   },
   {
    "duration": 41,
    "start_time": "2025-02-02T11:19:53.221Z"
   },
   {
    "duration": 4,
    "start_time": "2025-02-02T11:19:53.264Z"
   },
   {
    "duration": 30,
    "start_time": "2025-02-02T11:19:53.269Z"
   },
   {
    "duration": 4,
    "start_time": "2025-02-02T11:19:53.301Z"
   },
   {
    "duration": 89,
    "start_time": "2025-02-02T11:19:53.306Z"
   },
   {
    "duration": 112,
    "start_time": "2025-02-02T11:19:53.396Z"
   },
   {
    "duration": 22,
    "start_time": "2025-02-02T11:19:53.509Z"
   },
   {
    "duration": 42,
    "start_time": "2025-02-02T11:19:53.532Z"
   },
   {
    "duration": 8,
    "start_time": "2025-02-02T11:19:53.576Z"
   },
   {
    "duration": 7,
    "start_time": "2025-02-02T11:19:53.585Z"
   },
   {
    "duration": 8,
    "start_time": "2025-02-02T11:19:53.593Z"
   },
   {
    "duration": 177,
    "start_time": "2025-02-02T11:19:53.603Z"
   },
   {
    "duration": 7,
    "start_time": "2025-02-02T11:19:53.782Z"
   },
   {
    "duration": 32,
    "start_time": "2025-02-02T11:19:53.791Z"
   },
   {
    "duration": 153,
    "start_time": "2025-02-02T11:19:53.825Z"
   },
   {
    "duration": 4,
    "start_time": "2025-02-02T11:19:53.979Z"
   },
   {
    "duration": 5,
    "start_time": "2025-02-02T11:19:53.985Z"
   },
   {
    "duration": 23,
    "start_time": "2025-02-02T11:19:53.991Z"
   },
   {
    "duration": 164,
    "start_time": "2025-02-02T11:19:54.015Z"
   },
   {
    "duration": 6,
    "start_time": "2025-02-02T11:19:54.181Z"
   },
   {
    "duration": 58,
    "start_time": "2025-02-02T11:19:54.189Z"
   },
   {
    "duration": 9,
    "start_time": "2025-02-02T11:19:54.249Z"
   },
   {
    "duration": 9,
    "start_time": "2025-02-02T11:19:54.260Z"
   },
   {
    "duration": 7,
    "start_time": "2025-02-02T11:19:54.270Z"
   },
   {
    "duration": 480,
    "start_time": "2025-02-02T11:19:54.280Z"
   },
   {
    "duration": 313,
    "start_time": "2025-02-02T11:19:54.762Z"
   },
   {
    "duration": 315,
    "start_time": "2025-02-02T11:19:55.076Z"
   },
   {
    "duration": 77,
    "start_time": "2025-02-02T11:19:55.392Z"
   },
   {
    "duration": 31,
    "start_time": "2025-02-02T11:19:55.471Z"
   },
   {
    "duration": 57,
    "start_time": "2025-02-02T11:19:55.504Z"
   },
   {
    "duration": 13,
    "start_time": "2025-02-02T11:19:55.562Z"
   },
   {
    "duration": 12,
    "start_time": "2025-02-02T11:19:55.577Z"
   },
   {
    "duration": 24,
    "start_time": "2025-02-02T11:20:34.903Z"
   },
   {
    "duration": 1212,
    "start_time": "2025-02-02T11:20:39.315Z"
   },
   {
    "duration": 270,
    "start_time": "2025-02-02T11:20:40.529Z"
   },
   {
    "duration": 28,
    "start_time": "2025-02-02T11:20:40.801Z"
   },
   {
    "duration": 77,
    "start_time": "2025-02-02T11:20:40.831Z"
   },
   {
    "duration": 11,
    "start_time": "2025-02-02T11:20:40.910Z"
   },
   {
    "duration": 74,
    "start_time": "2025-02-02T11:20:40.923Z"
   },
   {
    "duration": 42,
    "start_time": "2025-02-02T11:20:40.998Z"
   },
   {
    "duration": 52,
    "start_time": "2025-02-02T11:20:41.041Z"
   },
   {
    "duration": 17,
    "start_time": "2025-02-02T11:20:41.095Z"
   },
   {
    "duration": 12,
    "start_time": "2025-02-02T11:20:41.114Z"
   },
   {
    "duration": 43,
    "start_time": "2025-02-02T11:20:41.128Z"
   },
   {
    "duration": 26,
    "start_time": "2025-02-02T11:20:41.173Z"
   },
   {
    "duration": 195,
    "start_time": "2025-02-02T11:20:41.201Z"
   },
   {
    "duration": 15,
    "start_time": "2025-02-02T11:20:41.399Z"
   },
   {
    "duration": 20,
    "start_time": "2025-02-02T11:20:41.416Z"
   },
   {
    "duration": 41,
    "start_time": "2025-02-02T11:20:41.438Z"
   },
   {
    "duration": 15,
    "start_time": "2025-02-02T11:20:41.481Z"
   },
   {
    "duration": 4,
    "start_time": "2025-02-02T11:20:41.497Z"
   },
   {
    "duration": 29,
    "start_time": "2025-02-02T11:20:41.502Z"
   },
   {
    "duration": 29,
    "start_time": "2025-02-02T11:20:41.532Z"
   },
   {
    "duration": 70,
    "start_time": "2025-02-02T11:20:41.563Z"
   },
   {
    "duration": 125,
    "start_time": "2025-02-02T11:20:41.635Z"
   },
   {
    "duration": 21,
    "start_time": "2025-02-02T11:20:41.761Z"
   },
   {
    "duration": 24,
    "start_time": "2025-02-02T11:20:41.783Z"
   },
   {
    "duration": 7,
    "start_time": "2025-02-02T11:20:41.808Z"
   },
   {
    "duration": 6,
    "start_time": "2025-02-02T11:20:41.817Z"
   },
   {
    "duration": 38,
    "start_time": "2025-02-02T11:20:41.824Z"
   },
   {
    "duration": 142,
    "start_time": "2025-02-02T11:20:41.863Z"
   },
   {
    "duration": 6,
    "start_time": "2025-02-02T11:20:42.006Z"
   },
   {
    "duration": 5,
    "start_time": "2025-02-02T11:20:42.014Z"
   },
   {
    "duration": 167,
    "start_time": "2025-02-02T11:20:42.021Z"
   },
   {
    "duration": 4,
    "start_time": "2025-02-02T11:20:42.190Z"
   },
   {
    "duration": 6,
    "start_time": "2025-02-02T11:20:42.195Z"
   },
   {
    "duration": 22,
    "start_time": "2025-02-02T11:20:42.202Z"
   },
   {
    "duration": 165,
    "start_time": "2025-02-02T11:20:42.225Z"
   },
   {
    "duration": 5,
    "start_time": "2025-02-02T11:20:42.392Z"
   },
   {
    "duration": 40,
    "start_time": "2025-02-02T11:20:42.399Z"
   },
   {
    "duration": 13,
    "start_time": "2025-02-02T11:20:42.441Z"
   },
   {
    "duration": 9,
    "start_time": "2025-02-02T11:20:42.455Z"
   },
   {
    "duration": 6,
    "start_time": "2025-02-02T11:20:42.466Z"
   },
   {
    "duration": 251,
    "start_time": "2025-02-02T11:20:42.475Z"
   },
   {
    "duration": 171,
    "start_time": "2025-02-02T11:20:42.728Z"
   },
   {
    "duration": 163,
    "start_time": "2025-02-02T11:20:42.901Z"
   },
   {
    "duration": 25,
    "start_time": "2025-02-02T11:20:43.066Z"
   },
   {
    "duration": 22,
    "start_time": "2025-02-02T11:20:43.093Z"
   },
   {
    "duration": 7,
    "start_time": "2025-02-02T11:20:43.117Z"
   },
   {
    "duration": 38,
    "start_time": "2025-02-02T11:20:43.126Z"
   },
   {
    "duration": 11,
    "start_time": "2025-02-02T11:20:43.166Z"
   },
   {
    "duration": 7,
    "start_time": "2025-02-02T11:28:50.809Z"
   },
   {
    "duration": 144,
    "start_time": "2025-02-02T11:32:01.821Z"
   },
   {
    "duration": 24,
    "start_time": "2025-02-02T11:37:25.510Z"
   },
   {
    "duration": 162,
    "start_time": "2025-02-02T11:43:03.955Z"
   },
   {
    "duration": 306,
    "start_time": "2025-02-02T11:43:42.992Z"
   },
   {
    "duration": 148,
    "start_time": "2025-02-02T11:43:56.612Z"
   },
   {
    "duration": 157,
    "start_time": "2025-02-02T11:44:30.427Z"
   },
   {
    "duration": 4,
    "start_time": "2025-02-02T11:56:36.540Z"
   },
   {
    "duration": 11,
    "start_time": "2025-02-02T11:56:43.385Z"
   },
   {
    "duration": 11,
    "start_time": "2025-02-02T11:58:48.660Z"
   },
   {
    "duration": 4,
    "start_time": "2025-02-02T12:23:51.726Z"
   },
   {
    "duration": 11,
    "start_time": "2025-02-02T12:23:51.806Z"
   },
   {
    "duration": 4,
    "start_time": "2025-02-02T12:23:54.785Z"
   },
   {
    "duration": 29,
    "start_time": "2025-02-02T12:24:06.470Z"
   },
   {
    "duration": 32,
    "start_time": "2025-02-02T12:24:23.397Z"
   },
   {
    "duration": 4,
    "start_time": "2025-02-02T12:29:57.170Z"
   },
   {
    "duration": 10,
    "start_time": "2025-02-02T12:30:02.166Z"
   },
   {
    "duration": 22,
    "start_time": "2025-02-02T12:31:19.257Z"
   },
   {
    "duration": 1404,
    "start_time": "2025-02-02T12:31:52.601Z"
   },
   {
    "duration": 1144,
    "start_time": "2025-02-02T12:32:02.307Z"
   },
   {
    "duration": 287,
    "start_time": "2025-02-02T12:32:03.453Z"
   },
   {
    "duration": 32,
    "start_time": "2025-02-02T12:32:03.743Z"
   },
   {
    "duration": 91,
    "start_time": "2025-02-02T12:32:03.777Z"
   },
   {
    "duration": 11,
    "start_time": "2025-02-02T12:32:03.870Z"
   },
   {
    "duration": 53,
    "start_time": "2025-02-02T12:32:03.883Z"
   },
   {
    "duration": 59,
    "start_time": "2025-02-02T12:32:03.938Z"
   },
   {
    "duration": 40,
    "start_time": "2025-02-02T12:32:03.999Z"
   },
   {
    "duration": 31,
    "start_time": "2025-02-02T12:32:04.041Z"
   },
   {
    "duration": 11,
    "start_time": "2025-02-02T12:32:04.073Z"
   },
   {
    "duration": 21,
    "start_time": "2025-02-02T12:32:04.086Z"
   },
   {
    "duration": 50,
    "start_time": "2025-02-02T12:32:04.108Z"
   },
   {
    "duration": 172,
    "start_time": "2025-02-02T12:32:04.159Z"
   },
   {
    "duration": 24,
    "start_time": "2025-02-02T12:32:04.335Z"
   },
   {
    "duration": 23,
    "start_time": "2025-02-02T12:32:04.361Z"
   },
   {
    "duration": 25,
    "start_time": "2025-02-02T12:32:04.386Z"
   },
   {
    "duration": 16,
    "start_time": "2025-02-02T12:32:04.413Z"
   },
   {
    "duration": 29,
    "start_time": "2025-02-02T12:32:04.431Z"
   },
   {
    "duration": 22,
    "start_time": "2025-02-02T12:32:04.462Z"
   },
   {
    "duration": 3,
    "start_time": "2025-02-02T12:32:04.486Z"
   },
   {
    "duration": 72,
    "start_time": "2025-02-02T12:32:04.490Z"
   },
   {
    "duration": 117,
    "start_time": "2025-02-02T12:32:04.564Z"
   },
   {
    "duration": 21,
    "start_time": "2025-02-02T12:32:04.683Z"
   },
   {
    "duration": 116,
    "start_time": "2025-02-02T12:32:04.706Z"
   },
   {
    "duration": 0,
    "start_time": "2025-02-02T12:32:04.824Z"
   },
   {
    "duration": 0,
    "start_time": "2025-02-02T12:32:04.825Z"
   },
   {
    "duration": 0,
    "start_time": "2025-02-02T12:32:04.826Z"
   },
   {
    "duration": 0,
    "start_time": "2025-02-02T12:32:04.828Z"
   },
   {
    "duration": 0,
    "start_time": "2025-02-02T12:32:04.829Z"
   },
   {
    "duration": 0,
    "start_time": "2025-02-02T12:32:04.830Z"
   },
   {
    "duration": 0,
    "start_time": "2025-02-02T12:32:04.831Z"
   },
   {
    "duration": 0,
    "start_time": "2025-02-02T12:32:04.832Z"
   },
   {
    "duration": 0,
    "start_time": "2025-02-02T12:32:04.833Z"
   },
   {
    "duration": 0,
    "start_time": "2025-02-02T12:32:04.834Z"
   },
   {
    "duration": 0,
    "start_time": "2025-02-02T12:32:04.835Z"
   },
   {
    "duration": 0,
    "start_time": "2025-02-02T12:32:04.836Z"
   },
   {
    "duration": 0,
    "start_time": "2025-02-02T12:32:04.837Z"
   },
   {
    "duration": 0,
    "start_time": "2025-02-02T12:32:04.859Z"
   },
   {
    "duration": 0,
    "start_time": "2025-02-02T12:32:04.860Z"
   },
   {
    "duration": 0,
    "start_time": "2025-02-02T12:32:04.862Z"
   },
   {
    "duration": 0,
    "start_time": "2025-02-02T12:32:04.863Z"
   },
   {
    "duration": 0,
    "start_time": "2025-02-02T12:32:04.864Z"
   },
   {
    "duration": 0,
    "start_time": "2025-02-02T12:32:04.866Z"
   },
   {
    "duration": 0,
    "start_time": "2025-02-02T12:32:04.867Z"
   },
   {
    "duration": 0,
    "start_time": "2025-02-02T12:32:04.869Z"
   },
   {
    "duration": 0,
    "start_time": "2025-02-02T12:32:04.870Z"
   },
   {
    "duration": 0,
    "start_time": "2025-02-02T12:32:04.871Z"
   },
   {
    "duration": 0,
    "start_time": "2025-02-02T12:32:04.873Z"
   },
   {
    "duration": 0,
    "start_time": "2025-02-02T12:32:04.875Z"
   },
   {
    "duration": 0,
    "start_time": "2025-02-02T12:32:04.877Z"
   },
   {
    "duration": 0,
    "start_time": "2025-02-02T12:32:04.878Z"
   },
   {
    "duration": 28,
    "start_time": "2025-02-02T12:32:22.923Z"
   },
   {
    "duration": 79,
    "start_time": "2025-02-02T12:39:08.345Z"
   },
   {
    "duration": 20,
    "start_time": "2025-02-02T12:39:12.391Z"
   },
   {
    "duration": 1202,
    "start_time": "2025-02-02T12:43:24.962Z"
   },
   {
    "duration": 27,
    "start_time": "2025-02-02T12:43:44.599Z"
   },
   {
    "duration": 38,
    "start_time": "2025-02-02T12:43:50.834Z"
   },
   {
    "duration": 30,
    "start_time": "2025-02-02T12:45:49.133Z"
   },
   {
    "duration": 1164,
    "start_time": "2025-02-02T12:46:56.888Z"
   },
   {
    "duration": 313,
    "start_time": "2025-02-02T12:46:58.054Z"
   },
   {
    "duration": 28,
    "start_time": "2025-02-02T12:46:58.368Z"
   },
   {
    "duration": 85,
    "start_time": "2025-02-02T12:46:58.398Z"
   },
   {
    "duration": 11,
    "start_time": "2025-02-02T12:46:58.486Z"
   },
   {
    "duration": 71,
    "start_time": "2025-02-02T12:46:58.499Z"
   },
   {
    "duration": 43,
    "start_time": "2025-02-02T12:46:58.572Z"
   },
   {
    "duration": 57,
    "start_time": "2025-02-02T12:46:58.617Z"
   },
   {
    "duration": 16,
    "start_time": "2025-02-02T12:46:58.676Z"
   },
   {
    "duration": 10,
    "start_time": "2025-02-02T12:46:58.694Z"
   },
   {
    "duration": 18,
    "start_time": "2025-02-02T12:46:58.706Z"
   },
   {
    "duration": 56,
    "start_time": "2025-02-02T12:46:58.726Z"
   },
   {
    "duration": 178,
    "start_time": "2025-02-02T12:46:58.784Z"
   },
   {
    "duration": 16,
    "start_time": "2025-02-02T12:46:58.965Z"
   },
   {
    "duration": 23,
    "start_time": "2025-02-02T12:46:58.983Z"
   },
   {
    "duration": 51,
    "start_time": "2025-02-02T12:46:59.008Z"
   },
   {
    "duration": 17,
    "start_time": "2025-02-02T12:46:59.060Z"
   },
   {
    "duration": 4,
    "start_time": "2025-02-02T12:46:59.079Z"
   },
   {
    "duration": 23,
    "start_time": "2025-02-02T12:46:59.085Z"
   },
   {
    "duration": 3,
    "start_time": "2025-02-02T12:46:59.110Z"
   },
   {
    "duration": 87,
    "start_time": "2025-02-02T12:46:59.115Z"
   },
   {
    "duration": 115,
    "start_time": "2025-02-02T12:46:59.204Z"
   },
   {
    "duration": 22,
    "start_time": "2025-02-02T12:46:59.320Z"
   },
   {
    "duration": 44,
    "start_time": "2025-02-02T12:46:59.344Z"
   },
   {
    "duration": 36,
    "start_time": "2025-02-02T12:46:59.389Z"
   },
   {
    "duration": 57,
    "start_time": "2025-02-02T12:46:59.427Z"
   },
   {
    "duration": 11,
    "start_time": "2025-02-02T12:46:59.486Z"
   },
   {
    "duration": 25,
    "start_time": "2025-02-02T12:46:59.499Z"
   },
   {
    "duration": 7,
    "start_time": "2025-02-02T12:46:59.525Z"
   },
   {
    "duration": 7,
    "start_time": "2025-02-02T12:46:59.558Z"
   },
   {
    "duration": 14,
    "start_time": "2025-02-02T12:46:59.566Z"
   },
   {
    "duration": 147,
    "start_time": "2025-02-02T12:46:59.581Z"
   },
   {
    "duration": 6,
    "start_time": "2025-02-02T12:46:59.730Z"
   },
   {
    "duration": 20,
    "start_time": "2025-02-02T12:46:59.738Z"
   },
   {
    "duration": 161,
    "start_time": "2025-02-02T12:46:59.760Z"
   },
   {
    "duration": 4,
    "start_time": "2025-02-02T12:46:59.923Z"
   },
   {
    "duration": 5,
    "start_time": "2025-02-02T12:46:59.929Z"
   },
   {
    "duration": 43,
    "start_time": "2025-02-02T12:46:59.935Z"
   },
   {
    "duration": 158,
    "start_time": "2025-02-02T12:46:59.979Z"
   },
   {
    "duration": 19,
    "start_time": "2025-02-02T12:47:00.139Z"
   },
   {
    "duration": 28,
    "start_time": "2025-02-02T12:47:00.162Z"
   },
   {
    "duration": 8,
    "start_time": "2025-02-02T12:47:00.191Z"
   },
   {
    "duration": 21,
    "start_time": "2025-02-02T12:47:00.201Z"
   },
   {
    "duration": 19,
    "start_time": "2025-02-02T12:47:00.223Z"
   },
   {
    "duration": 251,
    "start_time": "2025-02-02T12:47:00.244Z"
   },
   {
    "duration": 173,
    "start_time": "2025-02-02T12:47:00.497Z"
   },
   {
    "duration": 168,
    "start_time": "2025-02-02T12:47:00.671Z"
   },
   {
    "duration": 30,
    "start_time": "2025-02-02T12:47:00.841Z"
   },
   {
    "duration": 27,
    "start_time": "2025-02-02T12:47:00.872Z"
   },
   {
    "duration": 7,
    "start_time": "2025-02-02T12:47:00.900Z"
   },
   {
    "duration": 12,
    "start_time": "2025-02-02T12:47:00.909Z"
   },
   {
    "duration": 16,
    "start_time": "2025-02-02T12:47:00.922Z"
   },
   {
    "duration": 5,
    "start_time": "2025-02-02T12:48:00.247Z"
   },
   {
    "duration": 103,
    "start_time": "2025-02-02T12:48:16.608Z"
   },
   {
    "duration": 11,
    "start_time": "2025-02-02T12:48:28.717Z"
   },
   {
    "duration": 12,
    "start_time": "2025-02-02T12:48:37.771Z"
   },
   {
    "duration": 4,
    "start_time": "2025-02-02T12:48:41.712Z"
   },
   {
    "duration": 5,
    "start_time": "2025-02-02T12:49:08.143Z"
   },
   {
    "duration": 51,
    "start_time": "2025-02-02T12:49:17.130Z"
   },
   {
    "duration": 4,
    "start_time": "2025-02-02T12:49:19.831Z"
   },
   {
    "duration": 29,
    "start_time": "2025-02-02T12:49:26.424Z"
   },
   {
    "duration": 31,
    "start_time": "2025-02-02T12:50:13.246Z"
   },
   {
    "duration": 21,
    "start_time": "2025-02-02T12:51:02.382Z"
   },
   {
    "duration": 42,
    "start_time": "2025-02-02T12:51:06.282Z"
   },
   {
    "duration": 27,
    "start_time": "2025-02-02T12:51:09.406Z"
   },
   {
    "duration": 40,
    "start_time": "2025-02-02T12:51:12.896Z"
   },
   {
    "duration": 31,
    "start_time": "2025-02-02T12:51:17.103Z"
   },
   {
    "duration": 12,
    "start_time": "2025-02-02T12:52:15.477Z"
   },
   {
    "duration": 15,
    "start_time": "2025-02-02T12:52:18.111Z"
   },
   {
    "duration": 11,
    "start_time": "2025-02-02T13:00:04.869Z"
   },
   {
    "duration": 4,
    "start_time": "2025-02-02T13:00:14.057Z"
   },
   {
    "duration": 7,
    "start_time": "2025-02-02T13:00:26.240Z"
   },
   {
    "duration": 7,
    "start_time": "2025-02-02T13:00:38.487Z"
   },
   {
    "duration": 14,
    "start_time": "2025-02-02T13:00:41.248Z"
   },
   {
    "duration": 7,
    "start_time": "2025-02-02T13:00:59.065Z"
   },
   {
    "duration": 10,
    "start_time": "2025-02-02T13:01:15.954Z"
   },
   {
    "duration": 5,
    "start_time": "2025-02-02T13:01:19.643Z"
   },
   {
    "duration": 3,
    "start_time": "2025-02-02T13:01:22.590Z"
   },
   {
    "duration": 9,
    "start_time": "2025-02-02T13:01:26.223Z"
   },
   {
    "duration": 4,
    "start_time": "2025-02-02T13:01:29.578Z"
   },
   {
    "duration": 5,
    "start_time": "2025-02-02T13:03:50.803Z"
   },
   {
    "duration": 18,
    "start_time": "2025-02-02T13:03:55.165Z"
   },
   {
    "duration": 15,
    "start_time": "2025-02-02T13:05:46.167Z"
   },
   {
    "duration": 58,
    "start_time": "2025-02-02T13:07:49.850Z"
   },
   {
    "duration": 47,
    "start_time": "2025-02-02T13:09:12.475Z"
   },
   {
    "duration": 448,
    "start_time": "2025-02-02T13:09:18.180Z"
   },
   {
    "duration": 54,
    "start_time": "2025-02-02T13:09:25.248Z"
   },
   {
    "duration": 56,
    "start_time": "2025-02-02T13:10:24.709Z"
   },
   {
    "duration": 41,
    "start_time": "2025-02-02T13:12:07.798Z"
   },
   {
    "duration": 44,
    "start_time": "2025-02-02T13:12:19.556Z"
   },
   {
    "duration": 1175,
    "start_time": "2025-02-02T13:12:26.929Z"
   },
   {
    "duration": 248,
    "start_time": "2025-02-02T13:12:28.106Z"
   },
   {
    "duration": 27,
    "start_time": "2025-02-02T13:12:28.356Z"
   },
   {
    "duration": 80,
    "start_time": "2025-02-02T13:12:28.385Z"
   },
   {
    "duration": 12,
    "start_time": "2025-02-02T13:12:28.466Z"
   },
   {
    "duration": 44,
    "start_time": "2025-02-02T13:12:28.480Z"
   },
   {
    "duration": 69,
    "start_time": "2025-02-02T13:12:28.526Z"
   },
   {
    "duration": 39,
    "start_time": "2025-02-02T13:12:28.597Z"
   },
   {
    "duration": 29,
    "start_time": "2025-02-02T13:12:28.638Z"
   },
   {
    "duration": 10,
    "start_time": "2025-02-02T13:12:28.671Z"
   },
   {
    "duration": 19,
    "start_time": "2025-02-02T13:12:28.683Z"
   },
   {
    "duration": 56,
    "start_time": "2025-02-02T13:12:28.704Z"
   },
   {
    "duration": 182,
    "start_time": "2025-02-02T13:12:28.762Z"
   },
   {
    "duration": 21,
    "start_time": "2025-02-02T13:12:28.946Z"
   },
   {
    "duration": 24,
    "start_time": "2025-02-02T13:12:28.969Z"
   },
   {
    "duration": 25,
    "start_time": "2025-02-02T13:12:28.995Z"
   },
   {
    "duration": 49,
    "start_time": "2025-02-02T13:12:29.022Z"
   },
   {
    "duration": 4,
    "start_time": "2025-02-02T13:12:29.074Z"
   },
   {
    "duration": 22,
    "start_time": "2025-02-02T13:12:29.079Z"
   },
   {
    "duration": 4,
    "start_time": "2025-02-02T13:12:29.103Z"
   },
   {
    "duration": 85,
    "start_time": "2025-02-02T13:12:29.109Z"
   },
   {
    "duration": 115,
    "start_time": "2025-02-02T13:12:29.196Z"
   },
   {
    "duration": 22,
    "start_time": "2025-02-02T13:12:29.313Z"
   },
   {
    "duration": 56,
    "start_time": "2025-02-02T13:12:29.337Z"
   },
   {
    "duration": 24,
    "start_time": "2025-02-02T13:12:29.396Z"
   },
   {
    "duration": 9,
    "start_time": "2025-02-02T13:12:29.421Z"
   },
   {
    "duration": 30,
    "start_time": "2025-02-02T13:12:29.432Z"
   },
   {
    "duration": 7,
    "start_time": "2025-02-02T13:12:29.465Z"
   },
   {
    "duration": 144,
    "start_time": "2025-02-02T13:12:29.474Z"
   },
   {
    "duration": 6,
    "start_time": "2025-02-02T13:12:29.620Z"
   },
   {
    "duration": 6,
    "start_time": "2025-02-02T13:12:29.627Z"
   },
   {
    "duration": 162,
    "start_time": "2025-02-02T13:12:29.634Z"
   },
   {
    "duration": 4,
    "start_time": "2025-02-02T13:12:29.798Z"
   },
   {
    "duration": 17,
    "start_time": "2025-02-02T13:12:29.803Z"
   },
   {
    "duration": 24,
    "start_time": "2025-02-02T13:12:29.821Z"
   },
   {
    "duration": 156,
    "start_time": "2025-02-02T13:12:29.847Z"
   },
   {
    "duration": 6,
    "start_time": "2025-02-02T13:12:30.005Z"
   },
   {
    "duration": 51,
    "start_time": "2025-02-02T13:12:30.013Z"
   },
   {
    "duration": 12,
    "start_time": "2025-02-02T13:12:30.066Z"
   },
   {
    "duration": 19,
    "start_time": "2025-02-02T13:12:30.080Z"
   },
   {
    "duration": 15,
    "start_time": "2025-02-02T13:12:30.101Z"
   },
   {
    "duration": 234,
    "start_time": "2025-02-02T13:12:30.117Z"
   },
   {
    "duration": 164,
    "start_time": "2025-02-02T13:12:30.353Z"
   },
   {
    "duration": 155,
    "start_time": "2025-02-02T13:12:30.519Z"
   },
   {
    "duration": 83,
    "start_time": "2025-02-02T13:12:30.676Z"
   },
   {
    "duration": 7,
    "start_time": "2025-02-02T13:12:30.760Z"
   },
   {
    "duration": 14,
    "start_time": "2025-02-02T13:12:30.768Z"
   },
   {
    "duration": 11,
    "start_time": "2025-02-02T13:12:30.783Z"
   },
   {
    "duration": 66,
    "start_time": "2025-02-02T13:13:42.133Z"
   },
   {
    "duration": 59,
    "start_time": "2025-02-02T13:13:48.515Z"
   },
   {
    "duration": 145,
    "start_time": "2025-02-02T13:15:44.800Z"
   },
   {
    "duration": 4175,
    "start_time": "2025-02-02T13:15:53.615Z"
   },
   {
    "duration": 147,
    "start_time": "2025-02-02T13:16:23.901Z"
   },
   {
    "duration": 172,
    "start_time": "2025-02-02T13:18:26.917Z"
   },
   {
    "duration": 61,
    "start_time": "2025-02-02T13:29:54.894Z"
   },
   {
    "duration": 83,
    "start_time": "2025-02-02T13:29:58.595Z"
   },
   {
    "duration": 64,
    "start_time": "2025-02-02T13:31:31.283Z"
   },
   {
    "duration": 20,
    "start_time": "2025-02-02T13:38:29.493Z"
   },
   {
    "duration": 19,
    "start_time": "2025-02-02T13:39:04.010Z"
   },
   {
    "duration": 25,
    "start_time": "2025-02-02T13:39:52.780Z"
   },
   {
    "duration": 68,
    "start_time": "2025-02-02T13:40:25.504Z"
   },
   {
    "duration": 58,
    "start_time": "2025-02-02T13:41:15.313Z"
   },
   {
    "duration": 4,
    "start_time": "2025-02-02T13:41:54.632Z"
   },
   {
    "duration": 16,
    "start_time": "2025-02-02T13:41:59.913Z"
   },
   {
    "duration": 19,
    "start_time": "2025-02-02T13:42:25.537Z"
   },
   {
    "duration": 20,
    "start_time": "2025-02-02T13:43:03.916Z"
   },
   {
    "duration": 15,
    "start_time": "2025-02-02T13:43:10.315Z"
   },
   {
    "duration": 15,
    "start_time": "2025-02-02T13:45:26.587Z"
   },
   {
    "duration": 9,
    "start_time": "2025-02-02T13:45:37.904Z"
   },
   {
    "duration": 646,
    "start_time": "2025-02-02T13:45:45.818Z"
   },
   {
    "duration": 9,
    "start_time": "2025-02-02T13:45:57.367Z"
   },
   {
    "duration": 1190,
    "start_time": "2025-02-02T13:48:00.274Z"
   },
   {
    "duration": 1094,
    "start_time": "2025-02-02T13:48:06.166Z"
   },
   {
    "duration": 1114,
    "start_time": "2025-02-02T13:48:41.556Z"
   },
   {
    "duration": 8,
    "start_time": "2025-02-02T13:49:13.522Z"
   },
   {
    "duration": 13,
    "start_time": "2025-02-02T13:49:21.629Z"
   },
   {
    "duration": 642,
    "start_time": "2025-02-02T13:49:24.977Z"
   },
   {
    "duration": 5,
    "start_time": "2025-02-02T13:51:35.452Z"
   },
   {
    "duration": 9,
    "start_time": "2025-02-02T13:51:58.875Z"
   },
   {
    "duration": 5,
    "start_time": "2025-02-02T13:52:02.670Z"
   },
   {
    "duration": 7,
    "start_time": "2025-02-02T13:52:29.601Z"
   },
   {
    "duration": 9,
    "start_time": "2025-02-02T13:53:01.880Z"
   },
   {
    "duration": 13,
    "start_time": "2025-02-02T13:53:20.354Z"
   }
  ],
  "kernelspec": {
   "display_name": "Python 3 (ipykernel)",
   "language": "python",
   "name": "python3"
  },
  "language_info": {
   "codemirror_mode": {
    "name": "ipython",
    "version": 3
   },
   "file_extension": ".py",
   "mimetype": "text/x-python",
   "name": "python",
   "nbconvert_exporter": "python",
   "pygments_lexer": "ipython3",
   "version": "3.9.5"
  },
  "toc": {
   "base_numbering": 1,
   "nav_menu": {},
   "number_sections": true,
   "sideBar": true,
   "skip_h1_title": true,
   "title_cell": "Table of Contents",
   "title_sidebar": "Contents",
   "toc_cell": false,
   "toc_position": {
    "height": "calc(100% - 180px)",
    "left": "10px",
    "top": "150px",
    "width": "201.58px"
   },
   "toc_section_display": true,
   "toc_window_display": true
  }
 },
 "nbformat": 4,
 "nbformat_minor": 2
}
