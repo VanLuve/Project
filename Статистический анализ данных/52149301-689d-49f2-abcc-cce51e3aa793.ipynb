{
 "cells": [
  {
   "cell_type": "markdown",
   "id": "403911a8",
   "metadata": {},
   "source": [
    "<div style=\"border:solid green 2px; padding: 20px\">\n",
    "\n",
    "<b>Привет, Владимир! Поздравляю с выполнением очередного проекта!!</b>\n",
    "\n",
    "Меня зовут Петр Раздобреев и я буду проверять твою работу. Попробую помочь сделать тебе её еще лучше! В Практикуме принято общени на ты, но если это дискомфортно, то сообщи об этом)\n",
    "\n",
    "Ниже ты найдешь мои комментарии - пожалуйста, не перемещай, не изменяй и не удаляй их. Я буду использовать цветовую разметку:\n",
    "\n",
    "<div class=\"alert alert-danger\">\n",
    "<b>Комментарий ревьюера:</b>☁️Так выделены самые важные замечания. Без их отработки проект не будет принят. </div>\n",
    "\n",
    "<div class=\"alert alert-warning\">\n",
    "<b>Комментарий ревьюера:</b>⛅️ Так выделены небольшие замечания.Такие замечания в проекте допустимы, это пространство для улучшений в будущем.\n",
    "</div>\n",
    "\n",
    "<div class=\"alert alert-success\">\n",
    "<b>Комментарий ревьюера:</b>☀️Так я выделяю успешные идеи.</div>\n",
    "\n",
    "Давай работать над проектом в диалоге: если ты что-то меняешь в проекте или отвечаешь на мои комменатри — пиши об этом. Мне будет легче отследить изменения, если ты выделишь свои комментарии:\n",
    "<div class=\"alert alert-info\"> <b>Комментарий студента:</b> Например, вот так.</div>\n",
    "\n",
    "Всё это поможет выполнить повторную проверку твоего проекта оперативнее. \n",
    "    "
   ]
  },
  {
   "cell_type": "markdown",
   "id": "73711ed7",
   "metadata": {},
   "source": [
    "# Содержание\n",
    "\n",
    "\n"
   ]
  },
  {
   "cell_type": "markdown",
   "id": "d54a3735",
   "metadata": {},
   "source": [
    "**1 Изучение данных из файла**\n",
    "\n",
    "    1.1 Информация о таблице data_user\n",
    "    1.2 Информация о таблице data_rides\n",
    "    1.3 Информация о таблице data_subscriptions\n",
    "    1.4 Вывод\n",
    "\n",
    "**2 Предобработка данных**\n",
    "\n",
    "    2.1  Изменим тип данных в датафрейте для столбца 'date' , в датафреме 'data_rides'\n",
    "    2.2  Создадим новый столбец в датафрейме 'data_rides'\n",
    "    2.3  В пункте выше , мы получили информацию , что в датафрейме 'data_user' есть пропуски , удалим дубликаты.\n",
    "    2.4  Вывод\n",
    "    \n",
    "**3 Исследовательский анализ данных**\n",
    "    \n",
    "    3.1 Постороим график какие города чаще всего встречаются в датафрейме 'data_user'\n",
    "    3.2 Построим график в котором знаем соотношение пользователей с подпиской и без подписки\n",
    "    3.3 Построим график , чтобы визуально увидеть возрат пользователей\n",
    "    3.4 Построим график , чтобы визуализировать столбец 'distance' в датафрейме 'data_rides'\n",
    "    3.5 Гисторамма продолжительности поездок в минутах\n",
    "    3.6 Вывод\n",
    "    \n",
    "**4 Объединение данных**\n",
    "\n",
    "    4.1 Объеденим два датафрейма 'data_user' и 'data_rides'\n",
    "    4.2 Создадим новый датафрейм пользователи с подпиской\n",
    "    4.3 Создадим новый датафрейм пользователи без подписки\n",
    "    4.4 Постороим гистограмму(расстояние поездки пользователей без подписки)\n",
    "    4.5 Постоим гистограмму(продолжительность поезди пользователей без подписки)\n",
    "    4.6 Постороим гистограмму(расстояние поездок пользователей с подпиской)\n",
    "    4.7 Постоим гистограмму(продолжительность поезди пользователей с подпиской)\n",
    "    4.8 Вывод\n",
    "    \n",
    "**5 Подсчёт выручки**\n",
    "\n",
    "    5.1 Округлим значения до целоги числа в столбце 'duration'\n",
    "    5.2 Создадим датафрейм с агрегированными данными о поездках на основе датафрейма с объединёнными данными\n",
    "    5.3 Добавим в таблицу столбец с данными о месячной выручке для каждого пользователя по месяцам\n",
    "    5.4 Вывод\n",
    "    \n",
    "**6 Проверка гипотез**\n",
    "\n",
    "    6.1 Важно понять, тратят ли пользователи с подпиской больше времени на поездки? Если да, то пользователи с подпиской могут быть «выгоднее» для компании. Проверьте гипотезу.\n",
    "    6.2 Расстояние одной поездки в 3130 метров — оптимальное с точки зрения износа самоката. Можно ли сказать, что среднее расстояние, которое проезжают пользователи с подпиской за одну поездку, не превышает 3130 метров?\n",
    "    6.3 Проверьте гипотезу о том, будет ли помесячная выручка от пользователей с подпиской по месяцам выше, чем выручка от пользователей без подписки. Сделайте вывод.\n",
    "    6.4 Представьте такую ситуацию: техническая команда сервиса обновила сервера, с которыми взаимодействует мобильное приложение. Она надеется, что из-за этого количество обращений в техподдержку значимо снизилось. Некоторый файл содержит для каждого пользователя данные о количестве обращений до обновления и после него. Какой тест вам понадобился бы для проверки этой гипотезы?\n",
    "    6.5 Вывод\n",
    "    \n",
    "**7 Общий вывод**"
   ]
  },
  {
   "cell_type": "code",
   "execution_count": 1,
   "id": "d674032e",
   "metadata": {},
   "outputs": [],
   "source": [
    "from math import sqrt\n",
    "from scipy import stats as st\n",
    "import seaborn as sns\n",
    "import pandas as pd\n",
    "import numpy as np\n",
    "import matplotlib.pyplot as plt"
   ]
  },
  {
   "cell_type": "markdown",
   "id": "c42cbe00",
   "metadata": {},
   "source": [
    "### Шаг 1. Загрузка данных"
   ]
  },
  {
   "cell_type": "code",
   "execution_count": 2,
   "id": "eff9f206",
   "metadata": {},
   "outputs": [],
   "source": [
    "data_user = pd.read_csv('/datasets/users_go.csv')\n",
    "data_rides = pd.read_csv('/datasets/rides_go.csv', parse_dates=['date'])\n",
    "data_subscriptions = pd.read_csv('/datasets/subscriptions_go.csv')"
   ]
  },
  {
   "cell_type": "markdown",
   "id": "6abe209f",
   "metadata": {},
   "source": [
    "<div class=\"alert alert-info\"> <b>Перевел формат даты в параметре read_csv</b> "
   ]
  },
  {
   "cell_type": "markdown",
   "id": "3111cf26",
   "metadata": {},
   "source": [
    "<div class=\"alert alert-success\">\n",
    "<b>Комментарий ревьюера v2:</b>☀️\n",
    "   \n",
    "\n",
    "Спасибо за параметр!\n",
    "</div>"
   ]
  },
  {
   "cell_type": "markdown",
   "id": "5860ff52",
   "metadata": {},
   "source": [
    "#### Информация о таблице data_user"
   ]
  },
  {
   "cell_type": "code",
   "execution_count": 3,
   "id": "765423aa",
   "metadata": {},
   "outputs": [
    {
     "data": {
      "text/html": [
       "<div>\n",
       "<style scoped>\n",
       "    .dataframe tbody tr th:only-of-type {\n",
       "        vertical-align: middle;\n",
       "    }\n",
       "\n",
       "    .dataframe tbody tr th {\n",
       "        vertical-align: top;\n",
       "    }\n",
       "\n",
       "    .dataframe thead th {\n",
       "        text-align: right;\n",
       "    }\n",
       "</style>\n",
       "<table border=\"1\" class=\"dataframe\">\n",
       "  <thead>\n",
       "    <tr style=\"text-align: right;\">\n",
       "      <th></th>\n",
       "      <th>user_id</th>\n",
       "      <th>name</th>\n",
       "      <th>age</th>\n",
       "      <th>city</th>\n",
       "      <th>subscription_type</th>\n",
       "    </tr>\n",
       "  </thead>\n",
       "  <tbody>\n",
       "    <tr>\n",
       "      <th>0</th>\n",
       "      <td>1</td>\n",
       "      <td>Кира</td>\n",
       "      <td>22</td>\n",
       "      <td>Тюмень</td>\n",
       "      <td>ultra</td>\n",
       "    </tr>\n",
       "    <tr>\n",
       "      <th>1</th>\n",
       "      <td>2</td>\n",
       "      <td>Станислав</td>\n",
       "      <td>31</td>\n",
       "      <td>Омск</td>\n",
       "      <td>ultra</td>\n",
       "    </tr>\n",
       "    <tr>\n",
       "      <th>2</th>\n",
       "      <td>3</td>\n",
       "      <td>Алексей</td>\n",
       "      <td>20</td>\n",
       "      <td>Москва</td>\n",
       "      <td>ultra</td>\n",
       "    </tr>\n",
       "    <tr>\n",
       "      <th>3</th>\n",
       "      <td>4</td>\n",
       "      <td>Константин</td>\n",
       "      <td>26</td>\n",
       "      <td>Ростов-на-Дону</td>\n",
       "      <td>ultra</td>\n",
       "    </tr>\n",
       "    <tr>\n",
       "      <th>4</th>\n",
       "      <td>5</td>\n",
       "      <td>Адель</td>\n",
       "      <td>28</td>\n",
       "      <td>Омск</td>\n",
       "      <td>ultra</td>\n",
       "    </tr>\n",
       "    <tr>\n",
       "      <th>...</th>\n",
       "      <td>...</td>\n",
       "      <td>...</td>\n",
       "      <td>...</td>\n",
       "      <td>...</td>\n",
       "      <td>...</td>\n",
       "    </tr>\n",
       "    <tr>\n",
       "      <th>1560</th>\n",
       "      <td>829</td>\n",
       "      <td>Федор</td>\n",
       "      <td>29</td>\n",
       "      <td>Пятигорск</td>\n",
       "      <td>free</td>\n",
       "    </tr>\n",
       "    <tr>\n",
       "      <th>1561</th>\n",
       "      <td>809</td>\n",
       "      <td>Юрий</td>\n",
       "      <td>26</td>\n",
       "      <td>Сочи</td>\n",
       "      <td>free</td>\n",
       "    </tr>\n",
       "    <tr>\n",
       "      <th>1562</th>\n",
       "      <td>307</td>\n",
       "      <td>Ясмина</td>\n",
       "      <td>19</td>\n",
       "      <td>Краснодар</td>\n",
       "      <td>ultra</td>\n",
       "    </tr>\n",
       "    <tr>\n",
       "      <th>1563</th>\n",
       "      <td>47</td>\n",
       "      <td>Юрий</td>\n",
       "      <td>28</td>\n",
       "      <td>Тюмень</td>\n",
       "      <td>ultra</td>\n",
       "    </tr>\n",
       "    <tr>\n",
       "      <th>1564</th>\n",
       "      <td>1045</td>\n",
       "      <td>Артемий</td>\n",
       "      <td>28</td>\n",
       "      <td>Ростов-на-Дону</td>\n",
       "      <td>free</td>\n",
       "    </tr>\n",
       "  </tbody>\n",
       "</table>\n",
       "<p>1565 rows × 5 columns</p>\n",
       "</div>"
      ],
      "text/plain": [
       "      user_id        name  age            city subscription_type\n",
       "0           1        Кира   22          Тюмень             ultra\n",
       "1           2   Станислав   31            Омск             ultra\n",
       "2           3     Алексей   20          Москва             ultra\n",
       "3           4  Константин   26  Ростов-на-Дону             ultra\n",
       "4           5       Адель   28            Омск             ultra\n",
       "...       ...         ...  ...             ...               ...\n",
       "1560      829       Федор   29       Пятигорск              free\n",
       "1561      809        Юрий   26            Сочи              free\n",
       "1562      307      Ясмина   19       Краснодар             ultra\n",
       "1563       47        Юрий   28          Тюмень             ultra\n",
       "1564     1045     Артемий   28  Ростов-на-Дону              free\n",
       "\n",
       "[1565 rows x 5 columns]"
      ]
     },
     "execution_count": 3,
     "metadata": {},
     "output_type": "execute_result"
    }
   ],
   "source": [
    "data_user"
   ]
  },
  {
   "cell_type": "code",
   "execution_count": 4,
   "id": "0ad9d3a4",
   "metadata": {},
   "outputs": [
    {
     "data": {
      "text/html": [
       "<div>\n",
       "<style scoped>\n",
       "    .dataframe tbody tr th:only-of-type {\n",
       "        vertical-align: middle;\n",
       "    }\n",
       "\n",
       "    .dataframe tbody tr th {\n",
       "        vertical-align: top;\n",
       "    }\n",
       "\n",
       "    .dataframe thead th {\n",
       "        text-align: right;\n",
       "    }\n",
       "</style>\n",
       "<table border=\"1\" class=\"dataframe\">\n",
       "  <thead>\n",
       "    <tr style=\"text-align: right;\">\n",
       "      <th></th>\n",
       "      <th>user_id</th>\n",
       "      <th>name</th>\n",
       "      <th>age</th>\n",
       "      <th>city</th>\n",
       "      <th>subscription_type</th>\n",
       "    </tr>\n",
       "  </thead>\n",
       "  <tbody>\n",
       "    <tr>\n",
       "      <th>0</th>\n",
       "      <td>1</td>\n",
       "      <td>Кира</td>\n",
       "      <td>22</td>\n",
       "      <td>Тюмень</td>\n",
       "      <td>ultra</td>\n",
       "    </tr>\n",
       "    <tr>\n",
       "      <th>1</th>\n",
       "      <td>2</td>\n",
       "      <td>Станислав</td>\n",
       "      <td>31</td>\n",
       "      <td>Омск</td>\n",
       "      <td>ultra</td>\n",
       "    </tr>\n",
       "    <tr>\n",
       "      <th>2</th>\n",
       "      <td>3</td>\n",
       "      <td>Алексей</td>\n",
       "      <td>20</td>\n",
       "      <td>Москва</td>\n",
       "      <td>ultra</td>\n",
       "    </tr>\n",
       "    <tr>\n",
       "      <th>3</th>\n",
       "      <td>4</td>\n",
       "      <td>Константин</td>\n",
       "      <td>26</td>\n",
       "      <td>Ростов-на-Дону</td>\n",
       "      <td>ultra</td>\n",
       "    </tr>\n",
       "    <tr>\n",
       "      <th>4</th>\n",
       "      <td>5</td>\n",
       "      <td>Адель</td>\n",
       "      <td>28</td>\n",
       "      <td>Омск</td>\n",
       "      <td>ultra</td>\n",
       "    </tr>\n",
       "  </tbody>\n",
       "</table>\n",
       "</div>"
      ],
      "text/plain": [
       "   user_id        name  age            city subscription_type\n",
       "0        1        Кира   22          Тюмень             ultra\n",
       "1        2   Станислав   31            Омск             ultra\n",
       "2        3     Алексей   20          Москва             ultra\n",
       "3        4  Константин   26  Ростов-на-Дону             ultra\n",
       "4        5       Адель   28            Омск             ultra"
      ]
     },
     "execution_count": 4,
     "metadata": {},
     "output_type": "execute_result"
    }
   ],
   "source": [
    "data_user.head()"
   ]
  },
  {
   "cell_type": "code",
   "execution_count": 5,
   "id": "e68747f8",
   "metadata": {},
   "outputs": [
    {
     "name": "stdout",
     "output_type": "stream",
     "text": [
      "<class 'pandas.core.frame.DataFrame'>\n",
      "RangeIndex: 1565 entries, 0 to 1564\n",
      "Data columns (total 5 columns):\n",
      " #   Column             Non-Null Count  Dtype \n",
      "---  ------             --------------  ----- \n",
      " 0   user_id            1565 non-null   int64 \n",
      " 1   name               1565 non-null   object\n",
      " 2   age                1565 non-null   int64 \n",
      " 3   city               1565 non-null   object\n",
      " 4   subscription_type  1565 non-null   object\n",
      "dtypes: int64(2), object(3)\n",
      "memory usage: 61.3+ KB\n"
     ]
    }
   ],
   "source": [
    "data_user.info()"
   ]
  },
  {
   "cell_type": "code",
   "execution_count": 6,
   "id": "f4d69eda",
   "metadata": {},
   "outputs": [
    {
     "data": {
      "text/plain": [
       "user_id              0\n",
       "name                 0\n",
       "age                  0\n",
       "city                 0\n",
       "subscription_type    0\n",
       "dtype: int64"
      ]
     },
     "execution_count": 6,
     "metadata": {},
     "output_type": "execute_result"
    }
   ],
   "source": [
    "data_user.isna().sum()"
   ]
  },
  {
   "cell_type": "code",
   "execution_count": 7,
   "id": "530b8fed",
   "metadata": {},
   "outputs": [
    {
     "data": {
      "text/plain": [
       "31"
      ]
     },
     "execution_count": 7,
     "metadata": {},
     "output_type": "execute_result"
    }
   ],
   "source": [
    "data_user.duplicated().sum()"
   ]
  },
  {
   "cell_type": "code",
   "execution_count": 8,
   "id": "ba511f75",
   "metadata": {
    "scrolled": true
   },
   "outputs": [
    {
     "data": {
      "text/html": [
       "<div>\n",
       "<style scoped>\n",
       "    .dataframe tbody tr th:only-of-type {\n",
       "        vertical-align: middle;\n",
       "    }\n",
       "\n",
       "    .dataframe tbody tr th {\n",
       "        vertical-align: top;\n",
       "    }\n",
       "\n",
       "    .dataframe thead th {\n",
       "        text-align: right;\n",
       "    }\n",
       "</style>\n",
       "<table border=\"1\" class=\"dataframe\">\n",
       "  <thead>\n",
       "    <tr style=\"text-align: right;\">\n",
       "      <th></th>\n",
       "      <th>user_id</th>\n",
       "      <th>name</th>\n",
       "      <th>age</th>\n",
       "      <th>city</th>\n",
       "      <th>subscription_type</th>\n",
       "    </tr>\n",
       "  </thead>\n",
       "  <tbody>\n",
       "    <tr>\n",
       "      <th>1534</th>\n",
       "      <td>293</td>\n",
       "      <td>Агата</td>\n",
       "      <td>26</td>\n",
       "      <td>Краснодар</td>\n",
       "      <td>ultra</td>\n",
       "    </tr>\n",
       "    <tr>\n",
       "      <th>1535</th>\n",
       "      <td>16</td>\n",
       "      <td>Амалия</td>\n",
       "      <td>27</td>\n",
       "      <td>Краснодар</td>\n",
       "      <td>ultra</td>\n",
       "    </tr>\n",
       "    <tr>\n",
       "      <th>1536</th>\n",
       "      <td>909</td>\n",
       "      <td>Константин</td>\n",
       "      <td>20</td>\n",
       "      <td>Екатеринбург</td>\n",
       "      <td>free</td>\n",
       "    </tr>\n",
       "    <tr>\n",
       "      <th>1537</th>\n",
       "      <td>403</td>\n",
       "      <td>Полина</td>\n",
       "      <td>19</td>\n",
       "      <td>Сочи</td>\n",
       "      <td>ultra</td>\n",
       "    </tr>\n",
       "    <tr>\n",
       "      <th>1538</th>\n",
       "      <td>908</td>\n",
       "      <td>Рустам</td>\n",
       "      <td>30</td>\n",
       "      <td>Тюмень</td>\n",
       "      <td>free</td>\n",
       "    </tr>\n",
       "    <tr>\n",
       "      <th>1539</th>\n",
       "      <td>43</td>\n",
       "      <td>Стефания</td>\n",
       "      <td>22</td>\n",
       "      <td>Омск</td>\n",
       "      <td>ultra</td>\n",
       "    </tr>\n",
       "    <tr>\n",
       "      <th>1540</th>\n",
       "      <td>127</td>\n",
       "      <td>Павел</td>\n",
       "      <td>25</td>\n",
       "      <td>Пятигорск</td>\n",
       "      <td>ultra</td>\n",
       "    </tr>\n",
       "    <tr>\n",
       "      <th>1541</th>\n",
       "      <td>659</td>\n",
       "      <td>Злата</td>\n",
       "      <td>27</td>\n",
       "      <td>Ростов-на-Дону</td>\n",
       "      <td>ultra</td>\n",
       "    </tr>\n",
       "    <tr>\n",
       "      <th>1542</th>\n",
       "      <td>204</td>\n",
       "      <td>Руслан</td>\n",
       "      <td>30</td>\n",
       "      <td>Пятигорск</td>\n",
       "      <td>ultra</td>\n",
       "    </tr>\n",
       "    <tr>\n",
       "      <th>1543</th>\n",
       "      <td>153</td>\n",
       "      <td>Герман</td>\n",
       "      <td>23</td>\n",
       "      <td>Москва</td>\n",
       "      <td>ultra</td>\n",
       "    </tr>\n",
       "    <tr>\n",
       "      <th>1544</th>\n",
       "      <td>1245</td>\n",
       "      <td>Регина</td>\n",
       "      <td>27</td>\n",
       "      <td>Пятигорск</td>\n",
       "      <td>free</td>\n",
       "    </tr>\n",
       "    <tr>\n",
       "      <th>1545</th>\n",
       "      <td>807</td>\n",
       "      <td>Александр</td>\n",
       "      <td>28</td>\n",
       "      <td>Екатеринбург</td>\n",
       "      <td>free</td>\n",
       "    </tr>\n",
       "    <tr>\n",
       "      <th>1546</th>\n",
       "      <td>924</td>\n",
       "      <td>Мария</td>\n",
       "      <td>23</td>\n",
       "      <td>Пятигорск</td>\n",
       "      <td>free</td>\n",
       "    </tr>\n",
       "    <tr>\n",
       "      <th>1547</th>\n",
       "      <td>635</td>\n",
       "      <td>Герман</td>\n",
       "      <td>21</td>\n",
       "      <td>Москва</td>\n",
       "      <td>ultra</td>\n",
       "    </tr>\n",
       "    <tr>\n",
       "      <th>1548</th>\n",
       "      <td>136</td>\n",
       "      <td>Марсель</td>\n",
       "      <td>25</td>\n",
       "      <td>Тюмень</td>\n",
       "      <td>ultra</td>\n",
       "    </tr>\n",
       "    <tr>\n",
       "      <th>1549</th>\n",
       "      <td>108</td>\n",
       "      <td>Влада</td>\n",
       "      <td>29</td>\n",
       "      <td>Тюмень</td>\n",
       "      <td>ultra</td>\n",
       "    </tr>\n",
       "    <tr>\n",
       "      <th>1550</th>\n",
       "      <td>737</td>\n",
       "      <td>Мелания</td>\n",
       "      <td>27</td>\n",
       "      <td>Ростов-на-Дону</td>\n",
       "      <td>free</td>\n",
       "    </tr>\n",
       "    <tr>\n",
       "      <th>1551</th>\n",
       "      <td>666</td>\n",
       "      <td>Зарина</td>\n",
       "      <td>29</td>\n",
       "      <td>Москва</td>\n",
       "      <td>ultra</td>\n",
       "    </tr>\n",
       "    <tr>\n",
       "      <th>1552</th>\n",
       "      <td>297</td>\n",
       "      <td>Егор</td>\n",
       "      <td>33</td>\n",
       "      <td>Пятигорск</td>\n",
       "      <td>ultra</td>\n",
       "    </tr>\n",
       "    <tr>\n",
       "      <th>1553</th>\n",
       "      <td>121</td>\n",
       "      <td>Алина</td>\n",
       "      <td>25</td>\n",
       "      <td>Пятигорск</td>\n",
       "      <td>ultra</td>\n",
       "    </tr>\n",
       "    <tr>\n",
       "      <th>1554</th>\n",
       "      <td>1198</td>\n",
       "      <td>Демид</td>\n",
       "      <td>29</td>\n",
       "      <td>Ростов-на-Дону</td>\n",
       "      <td>free</td>\n",
       "    </tr>\n",
       "    <tr>\n",
       "      <th>1555</th>\n",
       "      <td>72</td>\n",
       "      <td>Никита</td>\n",
       "      <td>25</td>\n",
       "      <td>Москва</td>\n",
       "      <td>ultra</td>\n",
       "    </tr>\n",
       "    <tr>\n",
       "      <th>1556</th>\n",
       "      <td>422</td>\n",
       "      <td>Кирилл</td>\n",
       "      <td>27</td>\n",
       "      <td>Сочи</td>\n",
       "      <td>ultra</td>\n",
       "    </tr>\n",
       "    <tr>\n",
       "      <th>1557</th>\n",
       "      <td>611</td>\n",
       "      <td>Владимир</td>\n",
       "      <td>28</td>\n",
       "      <td>Омск</td>\n",
       "      <td>ultra</td>\n",
       "    </tr>\n",
       "    <tr>\n",
       "      <th>1558</th>\n",
       "      <td>1237</td>\n",
       "      <td>Евгения</td>\n",
       "      <td>23</td>\n",
       "      <td>Тюмень</td>\n",
       "      <td>free</td>\n",
       "    </tr>\n",
       "    <tr>\n",
       "      <th>1559</th>\n",
       "      <td>209</td>\n",
       "      <td>Андрей</td>\n",
       "      <td>23</td>\n",
       "      <td>Омск</td>\n",
       "      <td>ultra</td>\n",
       "    </tr>\n",
       "    <tr>\n",
       "      <th>1560</th>\n",
       "      <td>829</td>\n",
       "      <td>Федор</td>\n",
       "      <td>29</td>\n",
       "      <td>Пятигорск</td>\n",
       "      <td>free</td>\n",
       "    </tr>\n",
       "    <tr>\n",
       "      <th>1561</th>\n",
       "      <td>809</td>\n",
       "      <td>Юрий</td>\n",
       "      <td>26</td>\n",
       "      <td>Сочи</td>\n",
       "      <td>free</td>\n",
       "    </tr>\n",
       "    <tr>\n",
       "      <th>1562</th>\n",
       "      <td>307</td>\n",
       "      <td>Ясмина</td>\n",
       "      <td>19</td>\n",
       "      <td>Краснодар</td>\n",
       "      <td>ultra</td>\n",
       "    </tr>\n",
       "    <tr>\n",
       "      <th>1563</th>\n",
       "      <td>47</td>\n",
       "      <td>Юрий</td>\n",
       "      <td>28</td>\n",
       "      <td>Тюмень</td>\n",
       "      <td>ultra</td>\n",
       "    </tr>\n",
       "    <tr>\n",
       "      <th>1564</th>\n",
       "      <td>1045</td>\n",
       "      <td>Артемий</td>\n",
       "      <td>28</td>\n",
       "      <td>Ростов-на-Дону</td>\n",
       "      <td>free</td>\n",
       "    </tr>\n",
       "  </tbody>\n",
       "</table>\n",
       "</div>"
      ],
      "text/plain": [
       "      user_id        name  age            city subscription_type\n",
       "1534      293       Агата   26       Краснодар             ultra\n",
       "1535       16      Амалия   27       Краснодар             ultra\n",
       "1536      909  Константин   20    Екатеринбург              free\n",
       "1537      403      Полина   19            Сочи             ultra\n",
       "1538      908      Рустам   30          Тюмень              free\n",
       "1539       43    Стефания   22            Омск             ultra\n",
       "1540      127       Павел   25       Пятигорск             ultra\n",
       "1541      659       Злата   27  Ростов-на-Дону             ultra\n",
       "1542      204      Руслан   30       Пятигорск             ultra\n",
       "1543      153      Герман   23          Москва             ultra\n",
       "1544     1245      Регина   27       Пятигорск              free\n",
       "1545      807   Александр   28    Екатеринбург              free\n",
       "1546      924       Мария   23       Пятигорск              free\n",
       "1547      635      Герман   21          Москва             ultra\n",
       "1548      136     Марсель   25          Тюмень             ultra\n",
       "1549      108       Влада   29          Тюмень             ultra\n",
       "1550      737     Мелания   27  Ростов-на-Дону              free\n",
       "1551      666      Зарина   29          Москва             ultra\n",
       "1552      297        Егор   33       Пятигорск             ultra\n",
       "1553      121       Алина   25       Пятигорск             ultra\n",
       "1554     1198       Демид   29  Ростов-на-Дону              free\n",
       "1555       72      Никита   25          Москва             ultra\n",
       "1556      422      Кирилл   27            Сочи             ultra\n",
       "1557      611    Владимир   28            Омск             ultra\n",
       "1558     1237     Евгения   23          Тюмень              free\n",
       "1559      209      Андрей   23            Омск             ultra\n",
       "1560      829       Федор   29       Пятигорск              free\n",
       "1561      809        Юрий   26            Сочи              free\n",
       "1562      307      Ясмина   19       Краснодар             ultra\n",
       "1563       47        Юрий   28          Тюмень             ultra\n",
       "1564     1045     Артемий   28  Ростов-на-Дону              free"
      ]
     },
     "execution_count": 8,
     "metadata": {},
     "output_type": "execute_result"
    }
   ],
   "source": [
    "duplicated_df = data_user[data_user.duplicated()]\n",
    "duplicated_df"
   ]
  },
  {
   "cell_type": "markdown",
   "id": "a383d213",
   "metadata": {},
   "source": [
    "<div class=\"alert alert-success\">\n",
    "<b>Комментарий ревьюера:</b>☀️\n",
    "    \n",
    "И про дубликаты не забываешь, замечательно. Но действия по первичному анализу датафреймов схожи, можно было бы функцию написать "
   ]
  },
  {
   "cell_type": "markdown",
   "id": "b1aa9058",
   "metadata": {},
   "source": [
    "##### В датафрейме 'data_user' есть в пропуски в количестве 31 строки . "
   ]
  },
  {
   "cell_type": "markdown",
   "id": "ec56f671",
   "metadata": {},
   "source": [
    "#### Информация о таблице data_rides"
   ]
  },
  {
   "cell_type": "code",
   "execution_count": 9,
   "id": "bc4a1bd3",
   "metadata": {},
   "outputs": [
    {
     "data": {
      "text/html": [
       "<div>\n",
       "<style scoped>\n",
       "    .dataframe tbody tr th:only-of-type {\n",
       "        vertical-align: middle;\n",
       "    }\n",
       "\n",
       "    .dataframe tbody tr th {\n",
       "        vertical-align: top;\n",
       "    }\n",
       "\n",
       "    .dataframe thead th {\n",
       "        text-align: right;\n",
       "    }\n",
       "</style>\n",
       "<table border=\"1\" class=\"dataframe\">\n",
       "  <thead>\n",
       "    <tr style=\"text-align: right;\">\n",
       "      <th></th>\n",
       "      <th>user_id</th>\n",
       "      <th>distance</th>\n",
       "      <th>duration</th>\n",
       "      <th>date</th>\n",
       "    </tr>\n",
       "  </thead>\n",
       "  <tbody>\n",
       "    <tr>\n",
       "      <th>0</th>\n",
       "      <td>1</td>\n",
       "      <td>4409.919140</td>\n",
       "      <td>25.599769</td>\n",
       "      <td>2021-01-01</td>\n",
       "    </tr>\n",
       "    <tr>\n",
       "      <th>1</th>\n",
       "      <td>1</td>\n",
       "      <td>2617.592153</td>\n",
       "      <td>15.816871</td>\n",
       "      <td>2021-01-18</td>\n",
       "    </tr>\n",
       "    <tr>\n",
       "      <th>2</th>\n",
       "      <td>1</td>\n",
       "      <td>754.159807</td>\n",
       "      <td>6.232113</td>\n",
       "      <td>2021-04-20</td>\n",
       "    </tr>\n",
       "    <tr>\n",
       "      <th>3</th>\n",
       "      <td>1</td>\n",
       "      <td>2694.783254</td>\n",
       "      <td>18.511000</td>\n",
       "      <td>2021-08-11</td>\n",
       "    </tr>\n",
       "    <tr>\n",
       "      <th>4</th>\n",
       "      <td>1</td>\n",
       "      <td>4028.687306</td>\n",
       "      <td>26.265803</td>\n",
       "      <td>2021-08-28</td>\n",
       "    </tr>\n",
       "    <tr>\n",
       "      <th>...</th>\n",
       "      <td>...</td>\n",
       "      <td>...</td>\n",
       "      <td>...</td>\n",
       "      <td>...</td>\n",
       "    </tr>\n",
       "    <tr>\n",
       "      <th>18063</th>\n",
       "      <td>1534</td>\n",
       "      <td>3781.098080</td>\n",
       "      <td>19.822962</td>\n",
       "      <td>2021-11-04</td>\n",
       "    </tr>\n",
       "    <tr>\n",
       "      <th>18064</th>\n",
       "      <td>1534</td>\n",
       "      <td>2840.423057</td>\n",
       "      <td>21.409799</td>\n",
       "      <td>2021-11-16</td>\n",
       "    </tr>\n",
       "    <tr>\n",
       "      <th>18065</th>\n",
       "      <td>1534</td>\n",
       "      <td>3826.185507</td>\n",
       "      <td>18.435051</td>\n",
       "      <td>2021-11-18</td>\n",
       "    </tr>\n",
       "    <tr>\n",
       "      <th>18066</th>\n",
       "      <td>1534</td>\n",
       "      <td>2902.308661</td>\n",
       "      <td>16.674362</td>\n",
       "      <td>2021-11-27</td>\n",
       "    </tr>\n",
       "    <tr>\n",
       "      <th>18067</th>\n",
       "      <td>1534</td>\n",
       "      <td>2371.711192</td>\n",
       "      <td>15.893917</td>\n",
       "      <td>2021-12-29</td>\n",
       "    </tr>\n",
       "  </tbody>\n",
       "</table>\n",
       "<p>18068 rows × 4 columns</p>\n",
       "</div>"
      ],
      "text/plain": [
       "       user_id     distance   duration       date\n",
       "0            1  4409.919140  25.599769 2021-01-01\n",
       "1            1  2617.592153  15.816871 2021-01-18\n",
       "2            1   754.159807   6.232113 2021-04-20\n",
       "3            1  2694.783254  18.511000 2021-08-11\n",
       "4            1  4028.687306  26.265803 2021-08-28\n",
       "...        ...          ...        ...        ...\n",
       "18063     1534  3781.098080  19.822962 2021-11-04\n",
       "18064     1534  2840.423057  21.409799 2021-11-16\n",
       "18065     1534  3826.185507  18.435051 2021-11-18\n",
       "18066     1534  2902.308661  16.674362 2021-11-27\n",
       "18067     1534  2371.711192  15.893917 2021-12-29\n",
       "\n",
       "[18068 rows x 4 columns]"
      ]
     },
     "execution_count": 9,
     "metadata": {},
     "output_type": "execute_result"
    }
   ],
   "source": [
    "data_rides"
   ]
  },
  {
   "cell_type": "code",
   "execution_count": 10,
   "id": "8514cf4a",
   "metadata": {},
   "outputs": [
    {
     "data": {
      "text/html": [
       "<div>\n",
       "<style scoped>\n",
       "    .dataframe tbody tr th:only-of-type {\n",
       "        vertical-align: middle;\n",
       "    }\n",
       "\n",
       "    .dataframe tbody tr th {\n",
       "        vertical-align: top;\n",
       "    }\n",
       "\n",
       "    .dataframe thead th {\n",
       "        text-align: right;\n",
       "    }\n",
       "</style>\n",
       "<table border=\"1\" class=\"dataframe\">\n",
       "  <thead>\n",
       "    <tr style=\"text-align: right;\">\n",
       "      <th></th>\n",
       "      <th>user_id</th>\n",
       "      <th>distance</th>\n",
       "      <th>duration</th>\n",
       "      <th>date</th>\n",
       "    </tr>\n",
       "  </thead>\n",
       "  <tbody>\n",
       "    <tr>\n",
       "      <th>0</th>\n",
       "      <td>1</td>\n",
       "      <td>4409.919140</td>\n",
       "      <td>25.599769</td>\n",
       "      <td>2021-01-01</td>\n",
       "    </tr>\n",
       "    <tr>\n",
       "      <th>1</th>\n",
       "      <td>1</td>\n",
       "      <td>2617.592153</td>\n",
       "      <td>15.816871</td>\n",
       "      <td>2021-01-18</td>\n",
       "    </tr>\n",
       "    <tr>\n",
       "      <th>2</th>\n",
       "      <td>1</td>\n",
       "      <td>754.159807</td>\n",
       "      <td>6.232113</td>\n",
       "      <td>2021-04-20</td>\n",
       "    </tr>\n",
       "    <tr>\n",
       "      <th>3</th>\n",
       "      <td>1</td>\n",
       "      <td>2694.783254</td>\n",
       "      <td>18.511000</td>\n",
       "      <td>2021-08-11</td>\n",
       "    </tr>\n",
       "    <tr>\n",
       "      <th>4</th>\n",
       "      <td>1</td>\n",
       "      <td>4028.687306</td>\n",
       "      <td>26.265803</td>\n",
       "      <td>2021-08-28</td>\n",
       "    </tr>\n",
       "  </tbody>\n",
       "</table>\n",
       "</div>"
      ],
      "text/plain": [
       "   user_id     distance   duration       date\n",
       "0        1  4409.919140  25.599769 2021-01-01\n",
       "1        1  2617.592153  15.816871 2021-01-18\n",
       "2        1   754.159807   6.232113 2021-04-20\n",
       "3        1  2694.783254  18.511000 2021-08-11\n",
       "4        1  4028.687306  26.265803 2021-08-28"
      ]
     },
     "execution_count": 10,
     "metadata": {},
     "output_type": "execute_result"
    }
   ],
   "source": [
    "data_rides.head()"
   ]
  },
  {
   "cell_type": "code",
   "execution_count": 11,
   "id": "5da0dfe3",
   "metadata": {},
   "outputs": [
    {
     "name": "stdout",
     "output_type": "stream",
     "text": [
      "<class 'pandas.core.frame.DataFrame'>\n",
      "RangeIndex: 18068 entries, 0 to 18067\n",
      "Data columns (total 4 columns):\n",
      " #   Column    Non-Null Count  Dtype         \n",
      "---  ------    --------------  -----         \n",
      " 0   user_id   18068 non-null  int64         \n",
      " 1   distance  18068 non-null  float64       \n",
      " 2   duration  18068 non-null  float64       \n",
      " 3   date      18068 non-null  datetime64[ns]\n",
      "dtypes: datetime64[ns](1), float64(2), int64(1)\n",
      "memory usage: 564.8 KB\n"
     ]
    }
   ],
   "source": [
    "data_rides.info()"
   ]
  },
  {
   "cell_type": "code",
   "execution_count": 12,
   "id": "e252912a",
   "metadata": {},
   "outputs": [],
   "source": [
    "#data_rides.isna().sum()"
   ]
  },
  {
   "cell_type": "markdown",
   "id": "deee8ab5",
   "metadata": {},
   "source": [
    "<div class=\"alert alert-success\">\n",
    "<b>Комментарий ревьюера:</b>☀️\n",
    "    \n",
    "`isnа` частично дублирует информацию `info`, поэтому в принципе его можно опустить\n",
    "\n",
    "</div>"
   ]
  },
  {
   "cell_type": "code",
   "execution_count": 13,
   "id": "eebc198a",
   "metadata": {},
   "outputs": [
    {
     "data": {
      "text/plain": [
       "array([False])"
      ]
     },
     "execution_count": 13,
     "metadata": {},
     "output_type": "execute_result"
    }
   ],
   "source": [
    "data_rides.duplicated().unique()"
   ]
  },
  {
   "cell_type": "markdown",
   "id": "61d3292f",
   "metadata": {},
   "source": [
    "#### Информация о таблице data_subscriptions"
   ]
  },
  {
   "cell_type": "code",
   "execution_count": 14,
   "id": "37415ece",
   "metadata": {},
   "outputs": [
    {
     "data": {
      "text/html": [
       "<div>\n",
       "<style scoped>\n",
       "    .dataframe tbody tr th:only-of-type {\n",
       "        vertical-align: middle;\n",
       "    }\n",
       "\n",
       "    .dataframe tbody tr th {\n",
       "        vertical-align: top;\n",
       "    }\n",
       "\n",
       "    .dataframe thead th {\n",
       "        text-align: right;\n",
       "    }\n",
       "</style>\n",
       "<table border=\"1\" class=\"dataframe\">\n",
       "  <thead>\n",
       "    <tr style=\"text-align: right;\">\n",
       "      <th></th>\n",
       "      <th>subscription_type</th>\n",
       "      <th>minute_price</th>\n",
       "      <th>start_ride_price</th>\n",
       "      <th>subscription_fee</th>\n",
       "    </tr>\n",
       "  </thead>\n",
       "  <tbody>\n",
       "    <tr>\n",
       "      <th>0</th>\n",
       "      <td>free</td>\n",
       "      <td>8</td>\n",
       "      <td>50</td>\n",
       "      <td>0</td>\n",
       "    </tr>\n",
       "    <tr>\n",
       "      <th>1</th>\n",
       "      <td>ultra</td>\n",
       "      <td>6</td>\n",
       "      <td>0</td>\n",
       "      <td>199</td>\n",
       "    </tr>\n",
       "  </tbody>\n",
       "</table>\n",
       "</div>"
      ],
      "text/plain": [
       "  subscription_type  minute_price  start_ride_price  subscription_fee\n",
       "0              free             8                50                 0\n",
       "1             ultra             6                 0               199"
      ]
     },
     "execution_count": 14,
     "metadata": {},
     "output_type": "execute_result"
    }
   ],
   "source": [
    "data_subscriptions"
   ]
  },
  {
   "cell_type": "code",
   "execution_count": 15,
   "id": "ac5a6d55",
   "metadata": {},
   "outputs": [
    {
     "name": "stdout",
     "output_type": "stream",
     "text": [
      "<class 'pandas.core.frame.DataFrame'>\n",
      "RangeIndex: 2 entries, 0 to 1\n",
      "Data columns (total 4 columns):\n",
      " #   Column             Non-Null Count  Dtype \n",
      "---  ------             --------------  ----- \n",
      " 0   subscription_type  2 non-null      object\n",
      " 1   minute_price       2 non-null      int64 \n",
      " 2   start_ride_price   2 non-null      int64 \n",
      " 3   subscription_fee   2 non-null      int64 \n",
      "dtypes: int64(3), object(1)\n",
      "memory usage: 192.0+ bytes\n"
     ]
    }
   ],
   "source": [
    "data_subscriptions.info()"
   ]
  },
  {
   "cell_type": "code",
   "execution_count": 16,
   "id": "ae9588dd",
   "metadata": {},
   "outputs": [
    {
     "data": {
      "text/plain": [
       "subscription_type    0\n",
       "minute_price         0\n",
       "start_ride_price     0\n",
       "subscription_fee     0\n",
       "dtype: int64"
      ]
     },
     "execution_count": 16,
     "metadata": {},
     "output_type": "execute_result"
    }
   ],
   "source": [
    "data_subscriptions.isna().sum()"
   ]
  },
  {
   "cell_type": "code",
   "execution_count": 17,
   "id": "0db59646",
   "metadata": {},
   "outputs": [
    {
     "data": {
      "text/plain": [
       "array([False])"
      ]
     },
     "execution_count": 17,
     "metadata": {},
     "output_type": "execute_result"
    }
   ],
   "source": [
    "data_subscriptions.duplicated().unique()"
   ]
  },
  {
   "cell_type": "markdown",
   "id": "6c300c3c",
   "metadata": {},
   "source": [
    "#### Вывод :<br/> В данном пункте , мы прочитали три датафрейма. Получили информацию по всем трем таблицам. В датафрейме 'data_user' оказались пропуски в количестве 31й строки . В предобработке данных удалим дубликаты."
   ]
  },
  {
   "cell_type": "markdown",
   "id": "e95ebca7",
   "metadata": {},
   "source": [
    "### Шаг 2. Предобработка данных"
   ]
  },
  {
   "cell_type": "markdown",
   "id": "6ba0bb4c",
   "metadata": {},
   "source": [
    "#### Изменим тип данных в датафрейте для столбца 'date' , в датафреме 'data_rides'"
   ]
  },
  {
   "cell_type": "markdown",
   "id": "81eceb5a",
   "metadata": {},
   "source": [
    "data_rides['date'] = pd.to_datetime(data_rides['date'], format='%Y-%m-%d')\n",
    "data_rides.info()"
   ]
  },
  {
   "cell_type": "markdown",
   "id": "e46c7ce2",
   "metadata": {},
   "source": [
    "<div class=\"alert alert-success\">\n",
    "<b>Комментарий ревьюера:</b>☀️\n",
    "    \n",
    "У `read_csv` есть параметр, который позволяет даты сразу в нужный формат переводить, рекомендую к использованию  </div>"
   ]
  },
  {
   "cell_type": "markdown",
   "id": "af202cae",
   "metadata": {},
   "source": [
    "#### Создадим новый столбец в датафрейме 'data_rides' "
   ]
  },
  {
   "cell_type": "code",
   "execution_count": 18,
   "id": "72ec1bc3",
   "metadata": {},
   "outputs": [
    {
     "data": {
      "text/html": [
       "<div>\n",
       "<style scoped>\n",
       "    .dataframe tbody tr th:only-of-type {\n",
       "        vertical-align: middle;\n",
       "    }\n",
       "\n",
       "    .dataframe tbody tr th {\n",
       "        vertical-align: top;\n",
       "    }\n",
       "\n",
       "    .dataframe thead th {\n",
       "        text-align: right;\n",
       "    }\n",
       "</style>\n",
       "<table border=\"1\" class=\"dataframe\">\n",
       "  <thead>\n",
       "    <tr style=\"text-align: right;\">\n",
       "      <th></th>\n",
       "      <th>user_id</th>\n",
       "      <th>distance</th>\n",
       "      <th>duration</th>\n",
       "      <th>date</th>\n",
       "      <th>month</th>\n",
       "    </tr>\n",
       "  </thead>\n",
       "  <tbody>\n",
       "    <tr>\n",
       "      <th>0</th>\n",
       "      <td>1</td>\n",
       "      <td>4409.919140</td>\n",
       "      <td>25.599769</td>\n",
       "      <td>2021-01-01</td>\n",
       "      <td>1</td>\n",
       "    </tr>\n",
       "    <tr>\n",
       "      <th>1</th>\n",
       "      <td>1</td>\n",
       "      <td>2617.592153</td>\n",
       "      <td>15.816871</td>\n",
       "      <td>2021-01-18</td>\n",
       "      <td>1</td>\n",
       "    </tr>\n",
       "    <tr>\n",
       "      <th>2</th>\n",
       "      <td>1</td>\n",
       "      <td>754.159807</td>\n",
       "      <td>6.232113</td>\n",
       "      <td>2021-04-20</td>\n",
       "      <td>4</td>\n",
       "    </tr>\n",
       "    <tr>\n",
       "      <th>3</th>\n",
       "      <td>1</td>\n",
       "      <td>2694.783254</td>\n",
       "      <td>18.511000</td>\n",
       "      <td>2021-08-11</td>\n",
       "      <td>8</td>\n",
       "    </tr>\n",
       "    <tr>\n",
       "      <th>4</th>\n",
       "      <td>1</td>\n",
       "      <td>4028.687306</td>\n",
       "      <td>26.265803</td>\n",
       "      <td>2021-08-28</td>\n",
       "      <td>8</td>\n",
       "    </tr>\n",
       "  </tbody>\n",
       "</table>\n",
       "</div>"
      ],
      "text/plain": [
       "   user_id     distance   duration       date  month\n",
       "0        1  4409.919140  25.599769 2021-01-01      1\n",
       "1        1  2617.592153  15.816871 2021-01-18      1\n",
       "2        1   754.159807   6.232113 2021-04-20      4\n",
       "3        1  2694.783254  18.511000 2021-08-11      8\n",
       "4        1  4028.687306  26.265803 2021-08-28      8"
      ]
     },
     "execution_count": 18,
     "metadata": {},
     "output_type": "execute_result"
    }
   ],
   "source": [
    "data_rides['month'] = data_rides['date'].dt.month\n",
    "data_rides.head()"
   ]
  },
  {
   "cell_type": "markdown",
   "id": "40e26b91",
   "metadata": {},
   "source": [
    "#### В пункте выше , мы получили информацию , что в датафрейме 'data_user' есть пропуски , удалим дубликаты."
   ]
  },
  {
   "cell_type": "code",
   "execution_count": 19,
   "id": "9b3a037d",
   "metadata": {},
   "outputs": [
    {
     "data": {
      "text/plain": [
       "0"
      ]
     },
     "execution_count": 19,
     "metadata": {},
     "output_type": "execute_result"
    }
   ],
   "source": [
    "data_user = data_user.drop_duplicates()\n",
    "data_user.duplicated().sum()\n"
   ]
  },
  {
   "cell_type": "markdown",
   "id": "5e6c53d0",
   "metadata": {},
   "source": [
    "#### Вывод:<br/> Дубликаты удалены. Т.к дубликаты были с 1533 по 1564 строку по порядку , можно не сбрасывать индексы. Был создан столбец в датафрейме 'data_rides'. В этом же датафрейме столбец 'date' был переведен в формат 'datetime64'."
   ]
  },
  {
   "cell_type": "markdown",
   "id": "4025dbc6",
   "metadata": {},
   "source": [
    "### Шаг 3. Исследовательский анализ данных"
   ]
  },
  {
   "cell_type": "markdown",
   "id": "a21bd5c1",
   "metadata": {},
   "source": [
    "#### Постороим график какие города чаще всего встречаются в датафрейме 'data_user' "
   ]
  },
  {
   "cell_type": "code",
   "execution_count": 20,
   "id": "e3a4274c",
   "metadata": {},
   "outputs": [
    {
     "data": {
      "text/plain": [
       "Пятигорск         219\n",
       "Екатеринбург      204\n",
       "Ростов-на-Дону    198\n",
       "Краснодар         193\n",
       "Сочи              189\n",
       "Омск              183\n",
       "Тюмень            180\n",
       "Москва            168\n",
       "Name: city, dtype: int64"
      ]
     },
     "execution_count": 20,
     "metadata": {},
     "output_type": "execute_result"
    }
   ],
   "source": [
    "data_user['city'].value_counts()"
   ]
  },
  {
   "cell_type": "code",
   "execution_count": 21,
   "id": "05680ab8",
   "metadata": {},
   "outputs": [
    {
     "data": {
      "image/png": "[encoded data removed]",
      "text/plain": [
       "<Figure size 432x288 with 1 Axes>"
      ]
     },
     "metadata": {
      "needs_background": "light"
     },
     "output_type": "display_data"
    }
   ],
   "source": [
    "data_user['city'].value_counts().plot(kind='bar', grid=True)\n",
    "plt.title('Частота встречаемости городов')\n",
    "plt.xlabel('Города')\n",
    "plt.ylabel('Количество пользователей')\n",
    "plt.show()"
   ]
  },
  {
   "cell_type": "markdown",
   "id": "60d62481",
   "metadata": {},
   "source": [
    "<div class=\"alert alert-success\">\n",
    "<b>Комментарий ревьюера v2:</b>☀️\n",
    "   \n",
    "Отлично!\n",
    "\n",
    "</div>"
   ]
  },
  {
   "cell_type": "markdown",
   "id": "66c259f7",
   "metadata": {},
   "source": [
    "<div class=\"alert alert-info\"> <b>Вывел абсолютрое число. Дополнительно постоил график. Исправил вывод</b>"
   ]
  },
  {
   "cell_type": "markdown",
   "id": "067d7bc6",
   "metadata": {},
   "source": [
    "<div class=\"alert alert-danger\">\n",
    "<b>Комментарий ревьюера:</b>☁️\n",
    "\n",
    "Здесь хотелось видеть абсолютное число пользователей по городам численно, просто вывод `value_counts`\n",
    "\n",
    "</div>"
   ]
  },
  {
   "cell_type": "markdown",
   "id": "f782643c",
   "metadata": {},
   "source": [
    "##### В данном графике мы видим , что больше всего пользователей сервиса аренды самокатов GoFast находится в городе Пятигорск ( 219 аренд), следом идут Екатеринбург и Ростов-на-Дону (204 и 198 соответственно). Меньше всего берут самокаты в аренду в городах Тюмень и Москва ( 180 и 168 аренд соответственно)"
   ]
  },
  {
   "cell_type": "markdown",
   "id": "05d30416",
   "metadata": {},
   "source": [
    "####  Построим график в котором знаем соотношение пользователей с подпиской и без подписки"
   ]
  },
  {
   "cell_type": "code",
   "execution_count": 22,
   "id": "e9a43332",
   "metadata": {},
   "outputs": [
    {
     "data": {
      "image/png": "[encoded data removed]",
      "text/plain": [
       "<Figure size 432x288 with 1 Axes>"
      ]
     },
     "metadata": {},
     "output_type": "display_data"
    }
   ],
   "source": [
    "data_user['subscription_type'].value_counts().plot(kind='pie', grid=True)\n",
    "plt.title('Cоотношение пользователей с подпиской и без подписки')\n",
    "plt.xlabel('Тип подписки')\n",
    "plt.ylabel('Количество пользователей')\n",
    "plt.show()"
   ]
  },
  {
   "cell_type": "markdown",
   "id": "8ae55078",
   "metadata": {},
   "source": [
    "<div class=\"alert alert-success\">\n",
    "<b>Комментарий ревьюера:</b>☀️\n",
    "    \n",
    "Для разнообразия можно было бы строить круговую диаграмму"
   ]
  },
  {
   "cell_type": "markdown",
   "id": "6d5804d3",
   "metadata": {},
   "source": [
    "##### На графике видно что большинство пользователей пользуються сервисом без подписки"
   ]
  },
  {
   "cell_type": "markdown",
   "id": "dbfb5d7f",
   "metadata": {},
   "source": [
    "#### Построим график , чтобы визуально увидеть возрат пользователей"
   ]
  },
  {
   "cell_type": "code",
   "execution_count": 23,
   "id": "2d3b4da5",
   "metadata": {},
   "outputs": [
    {
     "data": {
      "image/png": "[encoded data removed]",
      "text/plain": [
       "<Figure size 432x288 with 1 Axes>"
      ]
     },
     "metadata": {
      "needs_background": "light"
     },
     "output_type": "display_data"
    }
   ],
   "source": [
    "data_user['age'].hist(bins=20, range=(10, 40))\n",
    "plt.title('Возраст пользователей')\n",
    "plt.xlabel('Возраст')\n",
    "plt.ylabel('Количество пользователей')\n",
    "plt.show()"
   ]
  },
  {
   "cell_type": "markdown",
   "id": "43b5fd58",
   "metadata": {},
   "source": [
    "##### Большиство арендаторов самокатов в возрасте от 22 до 30 лет "
   ]
  },
  {
   "cell_type": "markdown",
   "id": "a8318c8e",
   "metadata": {},
   "source": [
    "#### Построим график , чтобы визуализировать столбец  'distance'  в датафрейме 'data_rides'"
   ]
  },
  {
   "cell_type": "code",
   "execution_count": 24,
   "id": "6918edfb",
   "metadata": {},
   "outputs": [
    {
     "data": {
      "image/png": "[encoded data removed]",
      "text/plain": [
       "<Figure size 432x288 with 1 Axes>"
      ]
     },
     "metadata": {
      "needs_background": "light"
     },
     "output_type": "display_data"
    }
   ],
   "source": [
    "data_rides['distance'].hist(bins=100)\n",
    "plt.title('Расстояние, которое пользователь преодолел за одну поездку')\n",
    "plt.xlabel('Метров')\n",
    "plt.ylabel('Количество пользователей')\n",
    "plt.show()"
   ]
  },
  {
   "cell_type": "markdown",
   "id": "306f533e",
   "metadata": {},
   "source": [
    "<div class=\"alert alert-success\">\n",
    "<b>Комментарий ревьюера:</b>☀️\n",
    "    \n",
    "Наличие пары пиков дистанций наталкивает на мысль, что может быть несколько сценариев пользования приложением и с этими категориями стоит отдельно работать"
   ]
  },
  {
   "cell_type": "markdown",
   "id": "205b16d6",
   "metadata": {},
   "source": [
    "##### В гистограмме видно , что большее количество пользователей проезжают расстояние от 2000 до 4500 метров. "
   ]
  },
  {
   "cell_type": "markdown",
   "id": "adcd728a",
   "metadata": {},
   "source": [
    "#### Гисторамма продолжительности поездок в минутах"
   ]
  },
  {
   "cell_type": "code",
   "execution_count": 25,
   "id": "f13ae400",
   "metadata": {},
   "outputs": [
    {
     "data": {
      "image/png": "[encoded data removed]",
      "text/plain": [
       "<Figure size 432x288 with 1 Axes>"
      ]
     },
     "metadata": {
      "needs_background": "light"
     },
     "output_type": "display_data"
    }
   ],
   "source": [
    "data_rides['duration'].hist(bins=100 , range=(1,40))\n",
    "plt.title('Продолжительность поездок')\n",
    "plt.xlabel('Минут')\n",
    "plt.ylabel('Количество пользователей')\n",
    "plt.show()"
   ]
  },
  {
   "cell_type": "code",
   "execution_count": null,
   "id": "b96f8c8d",
   "metadata": {},
   "outputs": [],
   "source": []
  },
  {
   "cell_type": "markdown",
   "id": "7adcb9f2",
   "metadata": {},
   "source": [
    "##### От 10 до 25 минут самые часто встречаемое время поездок. Также обратим внимание на минимальное значение . "
   ]
  },
  {
   "cell_type": "markdown",
   "id": "dbc60c33",
   "metadata": {},
   "source": [
    "<div class=\"alert alert-info\"> <b>Убрал строки с минимальными значениями. Исправил вывод</b>"
   ]
  },
  {
   "cell_type": "markdown",
   "id": "84791ed3",
   "metadata": {},
   "source": [
    "<div class=\"alert alert-success\">\n",
    "<b>Комментарий ревьюера v2:</b>☀️\n",
    "   \n",
    "Было бы хорошо посмотреть на дистанцию сверх коротких по времени поездок, там есть кое-что интересное\n",
    "</div>"
   ]
  },
  {
   "cell_type": "markdown",
   "id": "fe1054e5",
   "metadata": {},
   "source": [
    "<div class=\"alert alert-danger\">\n",
    "<b>Комментарий ревьюера:</b>☁️\n",
    "\n",
    "Красным, так как критически хочу обратить внимание на этот аспект.\n",
    "    \n",
    "Генерировать гипотезы, которые объясняют закономерности, аномалии - отличное стремление. Но если то, что ты предполагаешь можно проверить по имеющимся данным, то лучше сначала проверять, а потом утверждать, чтобы не подталкивать к неверным выводам.\n",
    "\n",
    "\n",
    "Здесь это про расстояние крайне коротких по времени поездок\n",
    "</div>"
   ]
  },
  {
   "cell_type": "markdown",
   "id": "5de4ba89",
   "metadata": {},
   "source": [
    "#### Вывод :<br/>Мы построили графики для пяти столбцов двух датайфеймов:<br/>data_rides(duration , distance)data_user(age , subscription_type, city)<br/>В текущем разделе мы узнали в каких городах арендуют самокаты чаще всего (Пятигорск , Екатеринбург и Ростов-на-Дону).<br/> Узнали , что пользователей без подписки больше чем с подпиской(~830 и 700). Большиство арендаторов самокатов в возрасте от 22 до 30 лет . Большее количество пользователей проезжают расстояние от 2000 до 4500 метров. От 10 до 25 минут самые часто встречаемое время поездок ."
   ]
  },
  {
   "cell_type": "markdown",
   "id": "4ef51331",
   "metadata": {},
   "source": [
    "### Шаг 4. Объединение данных"
   ]
  },
  {
   "cell_type": "markdown",
   "id": "0001e642",
   "metadata": {},
   "source": [
    "#### Объеденим два датафрейма 'data_user' и 'data_rides'"
   ]
  },
  {
   "cell_type": "code",
   "execution_count": 26,
   "id": "6bf288b5",
   "metadata": {},
   "outputs": [
    {
     "data": {
      "text/html": [
       "<div>\n",
       "<style scoped>\n",
       "    .dataframe tbody tr th:only-of-type {\n",
       "        vertical-align: middle;\n",
       "    }\n",
       "\n",
       "    .dataframe tbody tr th {\n",
       "        vertical-align: top;\n",
       "    }\n",
       "\n",
       "    .dataframe thead th {\n",
       "        text-align: right;\n",
       "    }\n",
       "</style>\n",
       "<table border=\"1\" class=\"dataframe\">\n",
       "  <thead>\n",
       "    <tr style=\"text-align: right;\">\n",
       "      <th></th>\n",
       "      <th>user_id</th>\n",
       "      <th>name</th>\n",
       "      <th>age</th>\n",
       "      <th>city</th>\n",
       "      <th>subscription_type</th>\n",
       "      <th>distance</th>\n",
       "      <th>duration</th>\n",
       "      <th>date</th>\n",
       "      <th>month</th>\n",
       "      <th>minute_price</th>\n",
       "      <th>start_ride_price</th>\n",
       "      <th>subscription_fee</th>\n",
       "    </tr>\n",
       "  </thead>\n",
       "  <tbody>\n",
       "    <tr>\n",
       "      <th>0</th>\n",
       "      <td>1</td>\n",
       "      <td>Кира</td>\n",
       "      <td>22</td>\n",
       "      <td>Тюмень</td>\n",
       "      <td>ultra</td>\n",
       "      <td>4409.919140</td>\n",
       "      <td>25.599769</td>\n",
       "      <td>2021-01-01</td>\n",
       "      <td>1</td>\n",
       "      <td>6</td>\n",
       "      <td>0</td>\n",
       "      <td>199</td>\n",
       "    </tr>\n",
       "    <tr>\n",
       "      <th>1</th>\n",
       "      <td>1</td>\n",
       "      <td>Кира</td>\n",
       "      <td>22</td>\n",
       "      <td>Тюмень</td>\n",
       "      <td>ultra</td>\n",
       "      <td>2617.592153</td>\n",
       "      <td>15.816871</td>\n",
       "      <td>2021-01-18</td>\n",
       "      <td>1</td>\n",
       "      <td>6</td>\n",
       "      <td>0</td>\n",
       "      <td>199</td>\n",
       "    </tr>\n",
       "    <tr>\n",
       "      <th>2</th>\n",
       "      <td>1</td>\n",
       "      <td>Кира</td>\n",
       "      <td>22</td>\n",
       "      <td>Тюмень</td>\n",
       "      <td>ultra</td>\n",
       "      <td>754.159807</td>\n",
       "      <td>6.232113</td>\n",
       "      <td>2021-04-20</td>\n",
       "      <td>4</td>\n",
       "      <td>6</td>\n",
       "      <td>0</td>\n",
       "      <td>199</td>\n",
       "    </tr>\n",
       "    <tr>\n",
       "      <th>3</th>\n",
       "      <td>1</td>\n",
       "      <td>Кира</td>\n",
       "      <td>22</td>\n",
       "      <td>Тюмень</td>\n",
       "      <td>ultra</td>\n",
       "      <td>2694.783254</td>\n",
       "      <td>18.511000</td>\n",
       "      <td>2021-08-11</td>\n",
       "      <td>8</td>\n",
       "      <td>6</td>\n",
       "      <td>0</td>\n",
       "      <td>199</td>\n",
       "    </tr>\n",
       "    <tr>\n",
       "      <th>4</th>\n",
       "      <td>1</td>\n",
       "      <td>Кира</td>\n",
       "      <td>22</td>\n",
       "      <td>Тюмень</td>\n",
       "      <td>ultra</td>\n",
       "      <td>4028.687306</td>\n",
       "      <td>26.265803</td>\n",
       "      <td>2021-08-28</td>\n",
       "      <td>8</td>\n",
       "      <td>6</td>\n",
       "      <td>0</td>\n",
       "      <td>199</td>\n",
       "    </tr>\n",
       "    <tr>\n",
       "      <th>...</th>\n",
       "      <td>...</td>\n",
       "      <td>...</td>\n",
       "      <td>...</td>\n",
       "      <td>...</td>\n",
       "      <td>...</td>\n",
       "      <td>...</td>\n",
       "      <td>...</td>\n",
       "      <td>...</td>\n",
       "      <td>...</td>\n",
       "      <td>...</td>\n",
       "      <td>...</td>\n",
       "      <td>...</td>\n",
       "    </tr>\n",
       "    <tr>\n",
       "      <th>18063</th>\n",
       "      <td>1534</td>\n",
       "      <td>Альберт</td>\n",
       "      <td>25</td>\n",
       "      <td>Краснодар</td>\n",
       "      <td>free</td>\n",
       "      <td>3781.098080</td>\n",
       "      <td>19.822962</td>\n",
       "      <td>2021-11-04</td>\n",
       "      <td>11</td>\n",
       "      <td>8</td>\n",
       "      <td>50</td>\n",
       "      <td>0</td>\n",
       "    </tr>\n",
       "    <tr>\n",
       "      <th>18064</th>\n",
       "      <td>1534</td>\n",
       "      <td>Альберт</td>\n",
       "      <td>25</td>\n",
       "      <td>Краснодар</td>\n",
       "      <td>free</td>\n",
       "      <td>2840.423057</td>\n",
       "      <td>21.409799</td>\n",
       "      <td>2021-11-16</td>\n",
       "      <td>11</td>\n",
       "      <td>8</td>\n",
       "      <td>50</td>\n",
       "      <td>0</td>\n",
       "    </tr>\n",
       "    <tr>\n",
       "      <th>18065</th>\n",
       "      <td>1534</td>\n",
       "      <td>Альберт</td>\n",
       "      <td>25</td>\n",
       "      <td>Краснодар</td>\n",
       "      <td>free</td>\n",
       "      <td>3826.185507</td>\n",
       "      <td>18.435051</td>\n",
       "      <td>2021-11-18</td>\n",
       "      <td>11</td>\n",
       "      <td>8</td>\n",
       "      <td>50</td>\n",
       "      <td>0</td>\n",
       "    </tr>\n",
       "    <tr>\n",
       "      <th>18066</th>\n",
       "      <td>1534</td>\n",
       "      <td>Альберт</td>\n",
       "      <td>25</td>\n",
       "      <td>Краснодар</td>\n",
       "      <td>free</td>\n",
       "      <td>2902.308661</td>\n",
       "      <td>16.674362</td>\n",
       "      <td>2021-11-27</td>\n",
       "      <td>11</td>\n",
       "      <td>8</td>\n",
       "      <td>50</td>\n",
       "      <td>0</td>\n",
       "    </tr>\n",
       "    <tr>\n",
       "      <th>18067</th>\n",
       "      <td>1534</td>\n",
       "      <td>Альберт</td>\n",
       "      <td>25</td>\n",
       "      <td>Краснодар</td>\n",
       "      <td>free</td>\n",
       "      <td>2371.711192</td>\n",
       "      <td>15.893917</td>\n",
       "      <td>2021-12-29</td>\n",
       "      <td>12</td>\n",
       "      <td>8</td>\n",
       "      <td>50</td>\n",
       "      <td>0</td>\n",
       "    </tr>\n",
       "  </tbody>\n",
       "</table>\n",
       "<p>18068 rows × 12 columns</p>\n",
       "</div>"
      ],
      "text/plain": [
       "       user_id     name  age       city subscription_type     distance  \\\n",
       "0            1     Кира   22     Тюмень             ultra  4409.919140   \n",
       "1            1     Кира   22     Тюмень             ultra  2617.592153   \n",
       "2            1     Кира   22     Тюмень             ultra   754.159807   \n",
       "3            1     Кира   22     Тюмень             ultra  2694.783254   \n",
       "4            1     Кира   22     Тюмень             ultra  4028.687306   \n",
       "...        ...      ...  ...        ...               ...          ...   \n",
       "18063     1534  Альберт   25  Краснодар              free  3781.098080   \n",
       "18064     1534  Альберт   25  Краснодар              free  2840.423057   \n",
       "18065     1534  Альберт   25  Краснодар              free  3826.185507   \n",
       "18066     1534  Альберт   25  Краснодар              free  2902.308661   \n",
       "18067     1534  Альберт   25  Краснодар              free  2371.711192   \n",
       "\n",
       "        duration       date  month  minute_price  start_ride_price  \\\n",
       "0      25.599769 2021-01-01      1             6                 0   \n",
       "1      15.816871 2021-01-18      1             6                 0   \n",
       "2       6.232113 2021-04-20      4             6                 0   \n",
       "3      18.511000 2021-08-11      8             6                 0   \n",
       "4      26.265803 2021-08-28      8             6                 0   \n",
       "...          ...        ...    ...           ...               ...   \n",
       "18063  19.822962 2021-11-04     11             8                50   \n",
       "18064  21.409799 2021-11-16     11             8                50   \n",
       "18065  18.435051 2021-11-18     11             8                50   \n",
       "18066  16.674362 2021-11-27     11             8                50   \n",
       "18067  15.893917 2021-12-29     12             8                50   \n",
       "\n",
       "       subscription_fee  \n",
       "0                   199  \n",
       "1                   199  \n",
       "2                   199  \n",
       "3                   199  \n",
       "4                   199  \n",
       "...                 ...  \n",
       "18063                 0  \n",
       "18064                 0  \n",
       "18065                 0  \n",
       "18066                 0  \n",
       "18067                 0  \n",
       "\n",
       "[18068 rows x 12 columns]"
      ]
     },
     "execution_count": 26,
     "metadata": {},
     "output_type": "execute_result"
    }
   ],
   "source": [
    "data_data = data_user.merge(data_rides, on='user_id', how='left').merge(data_subscriptions, on ='subscription_type' , how='left')\n",
    "data_data"
   ]
  },
  {
   "cell_type": "code",
   "execution_count": 27,
   "id": "dc5b395f",
   "metadata": {},
   "outputs": [
    {
     "data": {
      "text/plain": [
       "user_id              0\n",
       "name                 0\n",
       "age                  0\n",
       "city                 0\n",
       "subscription_type    0\n",
       "distance             0\n",
       "duration             0\n",
       "date                 0\n",
       "month                0\n",
       "minute_price         0\n",
       "start_ride_price     0\n",
       "subscription_fee     0\n",
       "dtype: int64"
      ]
     },
     "execution_count": 27,
     "metadata": {},
     "output_type": "execute_result"
    }
   ],
   "source": [
    "data_data.isna().sum()"
   ]
  },
  {
   "cell_type": "markdown",
   "id": "73bafaea",
   "metadata": {},
   "source": [
    "<div class=\"alert alert-info\"> <b>+</b>"
   ]
  },
  {
   "cell_type": "markdown",
   "id": "88078d94",
   "metadata": {},
   "source": [
    "<div class=\"alert alert-danger\">\n",
    "<b>Комментарий ревьюера:</b>☁️\n",
    "\n",
    "Прошу ещё добавить проверку, что после соединения таблиц не возникли пропуски, что размер объъединенной таблице соответствует ожиданиям\n",
    "\n",
    "</div>"
   ]
  },
  {
   "cell_type": "markdown",
   "id": "5a1d3413",
   "metadata": {},
   "source": [
    "##### Произвел объединение  датафреймов методом merge по столбцу 'user_id'  и 'subscription_type'"
   ]
  },
  {
   "cell_type": "markdown",
   "id": "ee5d514f",
   "metadata": {},
   "source": [
    "#### Создадим новый датафрейм пользователи с подпиской"
   ]
  },
  {
   "cell_type": "code",
   "execution_count": 28,
   "id": "f97dc6cf",
   "metadata": {},
   "outputs": [
    {
     "data": {
      "text/html": [
       "<div>\n",
       "<style scoped>\n",
       "    .dataframe tbody tr th:only-of-type {\n",
       "        vertical-align: middle;\n",
       "    }\n",
       "\n",
       "    .dataframe tbody tr th {\n",
       "        vertical-align: top;\n",
       "    }\n",
       "\n",
       "    .dataframe thead th {\n",
       "        text-align: right;\n",
       "    }\n",
       "</style>\n",
       "<table border=\"1\" class=\"dataframe\">\n",
       "  <thead>\n",
       "    <tr style=\"text-align: right;\">\n",
       "      <th></th>\n",
       "      <th>user_id</th>\n",
       "      <th>name</th>\n",
       "      <th>age</th>\n",
       "      <th>city</th>\n",
       "      <th>subscription_type</th>\n",
       "      <th>distance</th>\n",
       "      <th>duration</th>\n",
       "      <th>date</th>\n",
       "      <th>month</th>\n",
       "      <th>minute_price</th>\n",
       "      <th>start_ride_price</th>\n",
       "      <th>subscription_fee</th>\n",
       "    </tr>\n",
       "  </thead>\n",
       "  <tbody>\n",
       "    <tr>\n",
       "      <th>0</th>\n",
       "      <td>1</td>\n",
       "      <td>Кира</td>\n",
       "      <td>22</td>\n",
       "      <td>Тюмень</td>\n",
       "      <td>ultra</td>\n",
       "      <td>4409.919140</td>\n",
       "      <td>25.599769</td>\n",
       "      <td>2021-01-01</td>\n",
       "      <td>1</td>\n",
       "      <td>6</td>\n",
       "      <td>0</td>\n",
       "      <td>199</td>\n",
       "    </tr>\n",
       "    <tr>\n",
       "      <th>1</th>\n",
       "      <td>1</td>\n",
       "      <td>Кира</td>\n",
       "      <td>22</td>\n",
       "      <td>Тюмень</td>\n",
       "      <td>ultra</td>\n",
       "      <td>2617.592153</td>\n",
       "      <td>15.816871</td>\n",
       "      <td>2021-01-18</td>\n",
       "      <td>1</td>\n",
       "      <td>6</td>\n",
       "      <td>0</td>\n",
       "      <td>199</td>\n",
       "    </tr>\n",
       "    <tr>\n",
       "      <th>2</th>\n",
       "      <td>1</td>\n",
       "      <td>Кира</td>\n",
       "      <td>22</td>\n",
       "      <td>Тюмень</td>\n",
       "      <td>ultra</td>\n",
       "      <td>754.159807</td>\n",
       "      <td>6.232113</td>\n",
       "      <td>2021-04-20</td>\n",
       "      <td>4</td>\n",
       "      <td>6</td>\n",
       "      <td>0</td>\n",
       "      <td>199</td>\n",
       "    </tr>\n",
       "    <tr>\n",
       "      <th>3</th>\n",
       "      <td>1</td>\n",
       "      <td>Кира</td>\n",
       "      <td>22</td>\n",
       "      <td>Тюмень</td>\n",
       "      <td>ultra</td>\n",
       "      <td>2694.783254</td>\n",
       "      <td>18.511000</td>\n",
       "      <td>2021-08-11</td>\n",
       "      <td>8</td>\n",
       "      <td>6</td>\n",
       "      <td>0</td>\n",
       "      <td>199</td>\n",
       "    </tr>\n",
       "    <tr>\n",
       "      <th>4</th>\n",
       "      <td>1</td>\n",
       "      <td>Кира</td>\n",
       "      <td>22</td>\n",
       "      <td>Тюмень</td>\n",
       "      <td>ultra</td>\n",
       "      <td>4028.687306</td>\n",
       "      <td>26.265803</td>\n",
       "      <td>2021-08-28</td>\n",
       "      <td>8</td>\n",
       "      <td>6</td>\n",
       "      <td>0</td>\n",
       "      <td>199</td>\n",
       "    </tr>\n",
       "    <tr>\n",
       "      <th>...</th>\n",
       "      <td>...</td>\n",
       "      <td>...</td>\n",
       "      <td>...</td>\n",
       "      <td>...</td>\n",
       "      <td>...</td>\n",
       "      <td>...</td>\n",
       "      <td>...</td>\n",
       "      <td>...</td>\n",
       "      <td>...</td>\n",
       "      <td>...</td>\n",
       "      <td>...</td>\n",
       "      <td>...</td>\n",
       "    </tr>\n",
       "    <tr>\n",
       "      <th>6495</th>\n",
       "      <td>699</td>\n",
       "      <td>Оксана</td>\n",
       "      <td>22</td>\n",
       "      <td>Москва</td>\n",
       "      <td>ultra</td>\n",
       "      <td>3973.046497</td>\n",
       "      <td>24.671163</td>\n",
       "      <td>2021-08-29</td>\n",
       "      <td>8</td>\n",
       "      <td>6</td>\n",
       "      <td>0</td>\n",
       "      <td>199</td>\n",
       "    </tr>\n",
       "    <tr>\n",
       "      <th>6496</th>\n",
       "      <td>699</td>\n",
       "      <td>Оксана</td>\n",
       "      <td>22</td>\n",
       "      <td>Москва</td>\n",
       "      <td>ultra</td>\n",
       "      <td>3288.702563</td>\n",
       "      <td>15.892886</td>\n",
       "      <td>2021-09-12</td>\n",
       "      <td>9</td>\n",
       "      <td>6</td>\n",
       "      <td>0</td>\n",
       "      <td>199</td>\n",
       "    </tr>\n",
       "    <tr>\n",
       "      <th>6497</th>\n",
       "      <td>699</td>\n",
       "      <td>Оксана</td>\n",
       "      <td>22</td>\n",
       "      <td>Москва</td>\n",
       "      <td>ultra</td>\n",
       "      <td>3076.159348</td>\n",
       "      <td>14.389525</td>\n",
       "      <td>2021-09-26</td>\n",
       "      <td>9</td>\n",
       "      <td>6</td>\n",
       "      <td>0</td>\n",
       "      <td>199</td>\n",
       "    </tr>\n",
       "    <tr>\n",
       "      <th>6498</th>\n",
       "      <td>699</td>\n",
       "      <td>Оксана</td>\n",
       "      <td>22</td>\n",
       "      <td>Москва</td>\n",
       "      <td>ultra</td>\n",
       "      <td>4707.845501</td>\n",
       "      <td>15.839579</td>\n",
       "      <td>2021-10-17</td>\n",
       "      <td>10</td>\n",
       "      <td>6</td>\n",
       "      <td>0</td>\n",
       "      <td>199</td>\n",
       "    </tr>\n",
       "    <tr>\n",
       "      <th>6499</th>\n",
       "      <td>699</td>\n",
       "      <td>Оксана</td>\n",
       "      <td>22</td>\n",
       "      <td>Москва</td>\n",
       "      <td>ultra</td>\n",
       "      <td>3202.890770</td>\n",
       "      <td>25.217345</td>\n",
       "      <td>2021-12-03</td>\n",
       "      <td>12</td>\n",
       "      <td>6</td>\n",
       "      <td>0</td>\n",
       "      <td>199</td>\n",
       "    </tr>\n",
       "  </tbody>\n",
       "</table>\n",
       "<p>6500 rows × 12 columns</p>\n",
       "</div>"
      ],
      "text/plain": [
       "      user_id    name  age    city subscription_type     distance   duration  \\\n",
       "0           1    Кира   22  Тюмень             ultra  4409.919140  25.599769   \n",
       "1           1    Кира   22  Тюмень             ultra  2617.592153  15.816871   \n",
       "2           1    Кира   22  Тюмень             ultra   754.159807   6.232113   \n",
       "3           1    Кира   22  Тюмень             ultra  2694.783254  18.511000   \n",
       "4           1    Кира   22  Тюмень             ultra  4028.687306  26.265803   \n",
       "...       ...     ...  ...     ...               ...          ...        ...   \n",
       "6495      699  Оксана   22  Москва             ultra  3973.046497  24.671163   \n",
       "6496      699  Оксана   22  Москва             ultra  3288.702563  15.892886   \n",
       "6497      699  Оксана   22  Москва             ultra  3076.159348  14.389525   \n",
       "6498      699  Оксана   22  Москва             ultra  4707.845501  15.839579   \n",
       "6499      699  Оксана   22  Москва             ultra  3202.890770  25.217345   \n",
       "\n",
       "           date  month  minute_price  start_ride_price  subscription_fee  \n",
       "0    2021-01-01      1             6                 0               199  \n",
       "1    2021-01-18      1             6                 0               199  \n",
       "2    2021-04-20      4             6                 0               199  \n",
       "3    2021-08-11      8             6                 0               199  \n",
       "4    2021-08-28      8             6                 0               199  \n",
       "...         ...    ...           ...               ...               ...  \n",
       "6495 2021-08-29      8             6                 0               199  \n",
       "6496 2021-09-12      9             6                 0               199  \n",
       "6497 2021-09-26      9             6                 0               199  \n",
       "6498 2021-10-17     10             6                 0               199  \n",
       "6499 2021-12-03     12             6                 0               199  \n",
       "\n",
       "[6500 rows x 12 columns]"
      ]
     },
     "execution_count": 28,
     "metadata": {},
     "output_type": "execute_result"
    }
   ],
   "source": [
    "data_with_sub = data_data[(data_data['subscription_type'] == 'ultra')]\n",
    "data_with_sub"
   ]
  },
  {
   "cell_type": "markdown",
   "id": "b5ba49e0",
   "metadata": {},
   "source": [
    "##### Создал датафрейм с информацией о пользователях с подпиской "
   ]
  },
  {
   "cell_type": "markdown",
   "id": "16569d32",
   "metadata": {},
   "source": [
    "#### Создадим новый датафрейм пользователи без подписки"
   ]
  },
  {
   "cell_type": "code",
   "execution_count": 29,
   "id": "7c8eb82d",
   "metadata": {},
   "outputs": [
    {
     "data": {
      "text/html": [
       "<div>\n",
       "<style scoped>\n",
       "    .dataframe tbody tr th:only-of-type {\n",
       "        vertical-align: middle;\n",
       "    }\n",
       "\n",
       "    .dataframe tbody tr th {\n",
       "        vertical-align: top;\n",
       "    }\n",
       "\n",
       "    .dataframe thead th {\n",
       "        text-align: right;\n",
       "    }\n",
       "</style>\n",
       "<table border=\"1\" class=\"dataframe\">\n",
       "  <thead>\n",
       "    <tr style=\"text-align: right;\">\n",
       "      <th></th>\n",
       "      <th>user_id</th>\n",
       "      <th>name</th>\n",
       "      <th>age</th>\n",
       "      <th>city</th>\n",
       "      <th>subscription_type</th>\n",
       "      <th>distance</th>\n",
       "      <th>duration</th>\n",
       "      <th>date</th>\n",
       "      <th>month</th>\n",
       "      <th>minute_price</th>\n",
       "      <th>start_ride_price</th>\n",
       "      <th>subscription_fee</th>\n",
       "    </tr>\n",
       "  </thead>\n",
       "  <tbody>\n",
       "    <tr>\n",
       "      <th>6500</th>\n",
       "      <td>700</td>\n",
       "      <td>Айдар</td>\n",
       "      <td>22</td>\n",
       "      <td>Омск</td>\n",
       "      <td>free</td>\n",
       "      <td>2515.690719</td>\n",
       "      <td>14.944286</td>\n",
       "      <td>2021-01-02</td>\n",
       "      <td>1</td>\n",
       "      <td>8</td>\n",
       "      <td>50</td>\n",
       "      <td>0</td>\n",
       "    </tr>\n",
       "    <tr>\n",
       "      <th>6501</th>\n",
       "      <td>700</td>\n",
       "      <td>Айдар</td>\n",
       "      <td>22</td>\n",
       "      <td>Омск</td>\n",
       "      <td>free</td>\n",
       "      <td>846.932642</td>\n",
       "      <td>16.234663</td>\n",
       "      <td>2021-02-01</td>\n",
       "      <td>2</td>\n",
       "      <td>8</td>\n",
       "      <td>50</td>\n",
       "      <td>0</td>\n",
       "    </tr>\n",
       "    <tr>\n",
       "      <th>6502</th>\n",
       "      <td>700</td>\n",
       "      <td>Айдар</td>\n",
       "      <td>22</td>\n",
       "      <td>Омск</td>\n",
       "      <td>free</td>\n",
       "      <td>4004.434142</td>\n",
       "      <td>20.016628</td>\n",
       "      <td>2021-02-04</td>\n",
       "      <td>2</td>\n",
       "      <td>8</td>\n",
       "      <td>50</td>\n",
       "      <td>0</td>\n",
       "    </tr>\n",
       "    <tr>\n",
       "      <th>6503</th>\n",
       "      <td>700</td>\n",
       "      <td>Айдар</td>\n",
       "      <td>22</td>\n",
       "      <td>Омск</td>\n",
       "      <td>free</td>\n",
       "      <td>1205.911290</td>\n",
       "      <td>9.782872</td>\n",
       "      <td>2021-02-10</td>\n",
       "      <td>2</td>\n",
       "      <td>8</td>\n",
       "      <td>50</td>\n",
       "      <td>0</td>\n",
       "    </tr>\n",
       "    <tr>\n",
       "      <th>6504</th>\n",
       "      <td>700</td>\n",
       "      <td>Айдар</td>\n",
       "      <td>22</td>\n",
       "      <td>Омск</td>\n",
       "      <td>free</td>\n",
       "      <td>3047.379435</td>\n",
       "      <td>17.427673</td>\n",
       "      <td>2021-02-14</td>\n",
       "      <td>2</td>\n",
       "      <td>8</td>\n",
       "      <td>50</td>\n",
       "      <td>0</td>\n",
       "    </tr>\n",
       "    <tr>\n",
       "      <th>...</th>\n",
       "      <td>...</td>\n",
       "      <td>...</td>\n",
       "      <td>...</td>\n",
       "      <td>...</td>\n",
       "      <td>...</td>\n",
       "      <td>...</td>\n",
       "      <td>...</td>\n",
       "      <td>...</td>\n",
       "      <td>...</td>\n",
       "      <td>...</td>\n",
       "      <td>...</td>\n",
       "      <td>...</td>\n",
       "    </tr>\n",
       "    <tr>\n",
       "      <th>18063</th>\n",
       "      <td>1534</td>\n",
       "      <td>Альберт</td>\n",
       "      <td>25</td>\n",
       "      <td>Краснодар</td>\n",
       "      <td>free</td>\n",
       "      <td>3781.098080</td>\n",
       "      <td>19.822962</td>\n",
       "      <td>2021-11-04</td>\n",
       "      <td>11</td>\n",
       "      <td>8</td>\n",
       "      <td>50</td>\n",
       "      <td>0</td>\n",
       "    </tr>\n",
       "    <tr>\n",
       "      <th>18064</th>\n",
       "      <td>1534</td>\n",
       "      <td>Альберт</td>\n",
       "      <td>25</td>\n",
       "      <td>Краснодар</td>\n",
       "      <td>free</td>\n",
       "      <td>2840.423057</td>\n",
       "      <td>21.409799</td>\n",
       "      <td>2021-11-16</td>\n",
       "      <td>11</td>\n",
       "      <td>8</td>\n",
       "      <td>50</td>\n",
       "      <td>0</td>\n",
       "    </tr>\n",
       "    <tr>\n",
       "      <th>18065</th>\n",
       "      <td>1534</td>\n",
       "      <td>Альберт</td>\n",
       "      <td>25</td>\n",
       "      <td>Краснодар</td>\n",
       "      <td>free</td>\n",
       "      <td>3826.185507</td>\n",
       "      <td>18.435051</td>\n",
       "      <td>2021-11-18</td>\n",
       "      <td>11</td>\n",
       "      <td>8</td>\n",
       "      <td>50</td>\n",
       "      <td>0</td>\n",
       "    </tr>\n",
       "    <tr>\n",
       "      <th>18066</th>\n",
       "      <td>1534</td>\n",
       "      <td>Альберт</td>\n",
       "      <td>25</td>\n",
       "      <td>Краснодар</td>\n",
       "      <td>free</td>\n",
       "      <td>2902.308661</td>\n",
       "      <td>16.674362</td>\n",
       "      <td>2021-11-27</td>\n",
       "      <td>11</td>\n",
       "      <td>8</td>\n",
       "      <td>50</td>\n",
       "      <td>0</td>\n",
       "    </tr>\n",
       "    <tr>\n",
       "      <th>18067</th>\n",
       "      <td>1534</td>\n",
       "      <td>Альберт</td>\n",
       "      <td>25</td>\n",
       "      <td>Краснодар</td>\n",
       "      <td>free</td>\n",
       "      <td>2371.711192</td>\n",
       "      <td>15.893917</td>\n",
       "      <td>2021-12-29</td>\n",
       "      <td>12</td>\n",
       "      <td>8</td>\n",
       "      <td>50</td>\n",
       "      <td>0</td>\n",
       "    </tr>\n",
       "  </tbody>\n",
       "</table>\n",
       "<p>11568 rows × 12 columns</p>\n",
       "</div>"
      ],
      "text/plain": [
       "       user_id     name  age       city subscription_type     distance  \\\n",
       "6500       700    Айдар   22       Омск              free  2515.690719   \n",
       "6501       700    Айдар   22       Омск              free   846.932642   \n",
       "6502       700    Айдар   22       Омск              free  4004.434142   \n",
       "6503       700    Айдар   22       Омск              free  1205.911290   \n",
       "6504       700    Айдар   22       Омск              free  3047.379435   \n",
       "...        ...      ...  ...        ...               ...          ...   \n",
       "18063     1534  Альберт   25  Краснодар              free  3781.098080   \n",
       "18064     1534  Альберт   25  Краснодар              free  2840.423057   \n",
       "18065     1534  Альберт   25  Краснодар              free  3826.185507   \n",
       "18066     1534  Альберт   25  Краснодар              free  2902.308661   \n",
       "18067     1534  Альберт   25  Краснодар              free  2371.711192   \n",
       "\n",
       "        duration       date  month  minute_price  start_ride_price  \\\n",
       "6500   14.944286 2021-01-02      1             8                50   \n",
       "6501   16.234663 2021-02-01      2             8                50   \n",
       "6502   20.016628 2021-02-04      2             8                50   \n",
       "6503    9.782872 2021-02-10      2             8                50   \n",
       "6504   17.427673 2021-02-14      2             8                50   \n",
       "...          ...        ...    ...           ...               ...   \n",
       "18063  19.822962 2021-11-04     11             8                50   \n",
       "18064  21.409799 2021-11-16     11             8                50   \n",
       "18065  18.435051 2021-11-18     11             8                50   \n",
       "18066  16.674362 2021-11-27     11             8                50   \n",
       "18067  15.893917 2021-12-29     12             8                50   \n",
       "\n",
       "       subscription_fee  \n",
       "6500                  0  \n",
       "6501                  0  \n",
       "6502                  0  \n",
       "6503                  0  \n",
       "6504                  0  \n",
       "...                 ...  \n",
       "18063                 0  \n",
       "18064                 0  \n",
       "18065                 0  \n",
       "18066                 0  \n",
       "18067                 0  \n",
       "\n",
       "[11568 rows x 12 columns]"
      ]
     },
     "execution_count": 29,
     "metadata": {},
     "output_type": "execute_result"
    }
   ],
   "source": [
    "data_without_sub = data_data[(data_data['subscription_type'] == 'free')]\n",
    "data_without_sub"
   ]
  },
  {
   "cell_type": "markdown",
   "id": "64538ff6",
   "metadata": {},
   "source": [
    "##### Создал датафрейм с информацией о пользователях без подписки "
   ]
  },
  {
   "cell_type": "markdown",
   "id": "cc5c34e7",
   "metadata": {},
   "source": [
    "#### Постоим совместную гистограмму(продолжительность поезди пользователей с подпиской и без)"
   ]
  },
  {
   "cell_type": "code",
   "execution_count": 30,
   "id": "70d30934",
   "metadata": {},
   "outputs": [
    {
     "data": {
      "image/png": "[encoded data removed]",
      "text/plain": [
       "<Figure size 1080x504 with 1 Axes>"
      ]
     },
     "metadata": {},
     "output_type": "display_data"
    }
   ],
   "source": [
    "data_wo = data_without_sub['duration']\n",
    "data_w = data_with_sub['duration']\n",
    "sns.set(style=\"whitegrid\")\n",
    "plt.figure(figsize=(15, 7))\n",
    "plt.hist(data_wo, bins = 50, alpha=0.7, label='продолжительность поезди пользователей без подписки')\n",
    "plt.hist(data_w, bins = 50,alpha=0.7, label='продолжительность поезди пользователей с подпиской')\n",
    "plt.axvline(np.mean(data_wo), color='blue', linestyle='dashed', linewidth=2, label=f'Среднее без подписки: {np.mean(data_wo):.2f}')\n",
    "plt.axvline(np.mean(data_w), color='red', linestyle='dashed', linewidth=2, label=f'Среднее с подпиской: {np.mean(data_w):.2f}')\n",
    "plt.title('продолжительность поездки пользователей с подпиской и без')\n",
    "plt.xlabel('Минут')\n",
    "plt.ylabel('Количество пользователей')\n",
    "#plt.legend()\n",
    "plt.show()"
   ]
  },
  {
   "cell_type": "markdown",
   "id": "fad67e95",
   "metadata": {},
   "source": [
    "<div class=\"alert alert-success\">\n",
    "<b>Комментарий ревьюера v2:</b>☀️\n",
    "   \n",
    "\n",
    "Подписи и на легенду добавлены и конкретные значения подписаны - восторг \n",
    "</div>"
   ]
  },
  {
   "cell_type": "markdown",
   "id": "673e1e73",
   "metadata": {},
   "source": [
    "#### Постоим совместную гистограмму(расстояние поезди пользователей с подпиской и без)"
   ]
  },
  {
   "cell_type": "code",
   "execution_count": 31,
   "id": "f8b1cff9",
   "metadata": {},
   "outputs": [
    {
     "data": {
      "image/png": "[encoded data removed]",
      "text/plain": [
       "<Figure size 1080x504 with 1 Axes>"
      ]
     },
     "metadata": {},
     "output_type": "display_data"
    }
   ],
   "source": [
    "data_wos = data_without_sub['distance']\n",
    "data_ws = data_with_sub['distance']\n",
    "sns.set(style=\"whitegrid\")\n",
    "plt.figure(figsize=(15, 7))\n",
    "plt.hist(data_wos, bins = 50, alpha=0.7, label='расстояние поездки пользователей без подписки')\n",
    "plt.hist(data_ws, bins = 50,alpha=0.7, label='расстояние поездки пользователей c подпиской')\n",
    "plt.axvline(np.mean(data_wos), color='blue', linestyle='dashed', linewidth=2, label=f'Среднее без подписки: {np.mean(data_wos):.2f}')\n",
    "plt.axvline(np.mean(data_ws), color='red', linestyle='dashed', linewidth=2, label=f'Среднее с подпиской: {np.mean(data_ws):.2f}')\n",
    "plt.title('расстояние поездки пользователей с подпиской и без')\n",
    "plt.xlabel('Метров')\n",
    "plt.ylabel('Количество пользователей')\n",
    "plt.legend()\n",
    "plt.show()"
   ]
  },
  {
   "cell_type": "markdown",
   "id": "0408bcbf",
   "metadata": {},
   "source": [
    "<div class=\"alert alert-success\">\n",
    "<b>Комментарий ревьюера:</b>☀️\n",
    "    \n",
    "* Проще сравнивать распределения на одном графике, поэтому рекомендовал бы продолжительность двух категорий расположить на одном графике, аналогично с расстоянием\n",
    "* На графиках отлично смотрится среднее или медиана, как дополнительное опорной значение, вот [тут](https://stackoverflow.com/questions/16930328/vertical-horizontal-lines-in-matplotlib) можно посмотреть, как добавить такую визуализацию"
   ]
  },
  {
   "cell_type": "markdown",
   "id": "f8e06b68",
   "metadata": {},
   "source": [
    "<div class=\"alert alert-info\"> <b>+</b>"
   ]
  },
  {
   "cell_type": "markdown",
   "id": "cbb071e2",
   "metadata": {},
   "source": [
    "#### Вывод:<br/> Глядя на гистораммы , можно сделать вывод , что разница во времени поездок и расстояниий которые проехали  пользователи сервиса с подпиской и без подписки не большая . Но т.к пользователей без подписки в два раза больше , значения могум сильно отличаться."
   ]
  },
  {
   "cell_type": "markdown",
   "id": "402d620f",
   "metadata": {},
   "source": [
    "### Шаг 5. Подсчёт выручки"
   ]
  },
  {
   "cell_type": "markdown",
   "id": "ae7b97c0",
   "metadata": {},
   "source": [
    "#### Округлим  значения до целоги числа в столбце 'duration'"
   ]
  },
  {
   "cell_type": "code",
   "execution_count": 32,
   "id": "60feb593",
   "metadata": {},
   "outputs": [],
   "source": [
    "data_data['duration'] = np.ceil(data_data['duration']).astype(int)"
   ]
  },
  {
   "cell_type": "markdown",
   "id": "906fc439",
   "metadata": {},
   "source": [
    "#### Создадим датафрейм с агрегированными данными о поездках на основе датафрейма с объединёнными данными"
   ]
  },
  {
   "cell_type": "code",
   "execution_count": 33,
   "id": "6a557af9",
   "metadata": {},
   "outputs": [
    {
     "data": {
      "text/html": [
       "<div>\n",
       "<style scoped>\n",
       "    .dataframe tbody tr th:only-of-type {\n",
       "        vertical-align: middle;\n",
       "    }\n",
       "\n",
       "    .dataframe tbody tr th {\n",
       "        vertical-align: top;\n",
       "    }\n",
       "\n",
       "    .dataframe thead th {\n",
       "        text-align: right;\n",
       "    }\n",
       "</style>\n",
       "<table border=\"1\" class=\"dataframe\">\n",
       "  <thead>\n",
       "    <tr style=\"text-align: right;\">\n",
       "      <th></th>\n",
       "      <th></th>\n",
       "      <th>distance</th>\n",
       "      <th>duration</th>\n",
       "      <th>minute_price</th>\n",
       "      <th>name</th>\n",
       "      <th>start_ride_price</th>\n",
       "      <th>subscription_fee</th>\n",
       "      <th>subscription_type</th>\n",
       "    </tr>\n",
       "    <tr>\n",
       "      <th>user_id</th>\n",
       "      <th>month</th>\n",
       "      <th></th>\n",
       "      <th></th>\n",
       "      <th></th>\n",
       "      <th></th>\n",
       "      <th></th>\n",
       "      <th></th>\n",
       "      <th></th>\n",
       "    </tr>\n",
       "  </thead>\n",
       "  <tbody>\n",
       "    <tr>\n",
       "      <th rowspan=\"5\" valign=\"top\">1</th>\n",
       "      <th>1</th>\n",
       "      <td>7027.511294</td>\n",
       "      <td>42</td>\n",
       "      <td>6</td>\n",
       "      <td>2</td>\n",
       "      <td>0</td>\n",
       "      <td>199</td>\n",
       "      <td>ultra</td>\n",
       "    </tr>\n",
       "    <tr>\n",
       "      <th>4</th>\n",
       "      <td>754.159807</td>\n",
       "      <td>7</td>\n",
       "      <td>6</td>\n",
       "      <td>1</td>\n",
       "      <td>0</td>\n",
       "      <td>199</td>\n",
       "      <td>ultra</td>\n",
       "    </tr>\n",
       "    <tr>\n",
       "      <th>8</th>\n",
       "      <td>6723.470560</td>\n",
       "      <td>46</td>\n",
       "      <td>6</td>\n",
       "      <td>2</td>\n",
       "      <td>0</td>\n",
       "      <td>199</td>\n",
       "      <td>ultra</td>\n",
       "    </tr>\n",
       "    <tr>\n",
       "      <th>10</th>\n",
       "      <td>5809.911100</td>\n",
       "      <td>32</td>\n",
       "      <td>6</td>\n",
       "      <td>2</td>\n",
       "      <td>0</td>\n",
       "      <td>199</td>\n",
       "      <td>ultra</td>\n",
       "    </tr>\n",
       "    <tr>\n",
       "      <th>11</th>\n",
       "      <td>7003.499363</td>\n",
       "      <td>56</td>\n",
       "      <td>6</td>\n",
       "      <td>3</td>\n",
       "      <td>0</td>\n",
       "      <td>199</td>\n",
       "      <td>ultra</td>\n",
       "    </tr>\n",
       "  </tbody>\n",
       "</table>\n",
       "</div>"
      ],
      "text/plain": [
       "                  distance  duration  minute_price  name  start_ride_price  \\\n",
       "user_id month                                                                \n",
       "1       1      7027.511294        42             6     2                 0   \n",
       "        4       754.159807         7             6     1                 0   \n",
       "        8      6723.470560        46             6     2                 0   \n",
       "        10     5809.911100        32             6     2                 0   \n",
       "        11     7003.499363        56             6     3                 0   \n",
       "\n",
       "               subscription_fee subscription_type  \n",
       "user_id month                                      \n",
       "1       1                   199             ultra  \n",
       "        4                   199             ultra  \n",
       "        8                   199             ultra  \n",
       "        10                  199             ultra  \n",
       "        11                  199             ultra  "
      ]
     },
     "execution_count": 33,
     "metadata": {},
     "output_type": "execute_result"
    }
   ],
   "source": [
    "data_agg = data_data.pivot_table(index=['user_id','month'],\n",
    "                                  values = ['name','distance', 'duration','subscription_type','subscription_fee',\n",
    "                                            'minute_price', 'start_ride_price'],\n",
    "                                  aggfunc = {'duration': sum,\n",
    "                                             'distance': sum, \n",
    "                                             'name' : len,\n",
    "                                             'minute_price' : max,\n",
    "                                             'subscription_type' : max,\n",
    "                                             'start_ride_price' : max,\n",
    "                                             'subscription_fee' : max})\n",
    "        \n",
    "data_agg.head()"
   ]
  },
  {
   "cell_type": "markdown",
   "id": "4f9b374d",
   "metadata": {},
   "source": [
    "##### В данной таблице объеденились данные 'distance'  и 'duration' по месяцам"
   ]
  },
  {
   "cell_type": "markdown",
   "id": "20e9ffd7",
   "metadata": {},
   "source": [
    "#### Добавим в таблицу столбец с данными о  месячной выручке для каждого пользователя по месяцам"
   ]
  },
  {
   "cell_type": "code",
   "execution_count": 34,
   "id": "579437b8",
   "metadata": {
    "scrolled": true
   },
   "outputs": [
    {
     "data": {
      "text/html": [
       "<div>\n",
       "<style scoped>\n",
       "    .dataframe tbody tr th:only-of-type {\n",
       "        vertical-align: middle;\n",
       "    }\n",
       "\n",
       "    .dataframe tbody tr th {\n",
       "        vertical-align: top;\n",
       "    }\n",
       "\n",
       "    .dataframe thead th {\n",
       "        text-align: right;\n",
       "    }\n",
       "</style>\n",
       "<table border=\"1\" class=\"dataframe\">\n",
       "  <thead>\n",
       "    <tr style=\"text-align: right;\">\n",
       "      <th></th>\n",
       "      <th></th>\n",
       "      <th>distance</th>\n",
       "      <th>duration</th>\n",
       "      <th>minute_price</th>\n",
       "      <th>name</th>\n",
       "      <th>start_ride_price</th>\n",
       "      <th>subscription_fee</th>\n",
       "      <th>subscription_type</th>\n",
       "      <th>cash_month</th>\n",
       "    </tr>\n",
       "    <tr>\n",
       "      <th>user_id</th>\n",
       "      <th>month</th>\n",
       "      <th></th>\n",
       "      <th></th>\n",
       "      <th></th>\n",
       "      <th></th>\n",
       "      <th></th>\n",
       "      <th></th>\n",
       "      <th></th>\n",
       "      <th></th>\n",
       "    </tr>\n",
       "  </thead>\n",
       "  <tbody>\n",
       "    <tr>\n",
       "      <th rowspan=\"6\" valign=\"top\">1</th>\n",
       "      <th>1</th>\n",
       "      <td>7027.511294</td>\n",
       "      <td>42</td>\n",
       "      <td>6</td>\n",
       "      <td>2</td>\n",
       "      <td>0</td>\n",
       "      <td>199</td>\n",
       "      <td>ultra</td>\n",
       "      <td>451</td>\n",
       "    </tr>\n",
       "    <tr>\n",
       "      <th>4</th>\n",
       "      <td>754.159807</td>\n",
       "      <td>7</td>\n",
       "      <td>6</td>\n",
       "      <td>1</td>\n",
       "      <td>0</td>\n",
       "      <td>199</td>\n",
       "      <td>ultra</td>\n",
       "      <td>241</td>\n",
       "    </tr>\n",
       "    <tr>\n",
       "      <th>8</th>\n",
       "      <td>6723.470560</td>\n",
       "      <td>46</td>\n",
       "      <td>6</td>\n",
       "      <td>2</td>\n",
       "      <td>0</td>\n",
       "      <td>199</td>\n",
       "      <td>ultra</td>\n",
       "      <td>475</td>\n",
       "    </tr>\n",
       "    <tr>\n",
       "      <th>10</th>\n",
       "      <td>5809.911100</td>\n",
       "      <td>32</td>\n",
       "      <td>6</td>\n",
       "      <td>2</td>\n",
       "      <td>0</td>\n",
       "      <td>199</td>\n",
       "      <td>ultra</td>\n",
       "      <td>391</td>\n",
       "    </tr>\n",
       "    <tr>\n",
       "      <th>11</th>\n",
       "      <td>7003.499363</td>\n",
       "      <td>56</td>\n",
       "      <td>6</td>\n",
       "      <td>3</td>\n",
       "      <td>0</td>\n",
       "      <td>199</td>\n",
       "      <td>ultra</td>\n",
       "      <td>535</td>\n",
       "    </tr>\n",
       "    <tr>\n",
       "      <th>12</th>\n",
       "      <td>6751.629942</td>\n",
       "      <td>28</td>\n",
       "      <td>6</td>\n",
       "      <td>2</td>\n",
       "      <td>0</td>\n",
       "      <td>199</td>\n",
       "      <td>ultra</td>\n",
       "      <td>367</td>\n",
       "    </tr>\n",
       "    <tr>\n",
       "      <th rowspan=\"7\" valign=\"top\">2</th>\n",
       "      <th>3</th>\n",
       "      <td>10187.723006</td>\n",
       "      <td>63</td>\n",
       "      <td>6</td>\n",
       "      <td>3</td>\n",
       "      <td>0</td>\n",
       "      <td>199</td>\n",
       "      <td>ultra</td>\n",
       "      <td>577</td>\n",
       "    </tr>\n",
       "    <tr>\n",
       "      <th>4</th>\n",
       "      <td>6164.381824</td>\n",
       "      <td>40</td>\n",
       "      <td>6</td>\n",
       "      <td>2</td>\n",
       "      <td>0</td>\n",
       "      <td>199</td>\n",
       "      <td>ultra</td>\n",
       "      <td>439</td>\n",
       "    </tr>\n",
       "    <tr>\n",
       "      <th>6</th>\n",
       "      <td>3255.338202</td>\n",
       "      <td>14</td>\n",
       "      <td>6</td>\n",
       "      <td>1</td>\n",
       "      <td>0</td>\n",
       "      <td>199</td>\n",
       "      <td>ultra</td>\n",
       "      <td>283</td>\n",
       "    </tr>\n",
       "    <tr>\n",
       "      <th>7</th>\n",
       "      <td>6780.722964</td>\n",
       "      <td>48</td>\n",
       "      <td>6</td>\n",
       "      <td>2</td>\n",
       "      <td>0</td>\n",
       "      <td>199</td>\n",
       "      <td>ultra</td>\n",
       "      <td>487</td>\n",
       "    </tr>\n",
       "    <tr>\n",
       "      <th>8</th>\n",
       "      <td>923.007439</td>\n",
       "      <td>7</td>\n",
       "      <td>6</td>\n",
       "      <td>1</td>\n",
       "      <td>0</td>\n",
       "      <td>199</td>\n",
       "      <td>ultra</td>\n",
       "      <td>241</td>\n",
       "    </tr>\n",
       "    <tr>\n",
       "      <th>10</th>\n",
       "      <td>2824.636598</td>\n",
       "      <td>19</td>\n",
       "      <td>6</td>\n",
       "      <td>1</td>\n",
       "      <td>0</td>\n",
       "      <td>199</td>\n",
       "      <td>ultra</td>\n",
       "      <td>313</td>\n",
       "    </tr>\n",
       "    <tr>\n",
       "      <th>12</th>\n",
       "      <td>3828.248580</td>\n",
       "      <td>12</td>\n",
       "      <td>6</td>\n",
       "      <td>1</td>\n",
       "      <td>0</td>\n",
       "      <td>199</td>\n",
       "      <td>ultra</td>\n",
       "      <td>271</td>\n",
       "    </tr>\n",
       "    <tr>\n",
       "      <th rowspan=\"7\" valign=\"top\">3</th>\n",
       "      <th>1</th>\n",
       "      <td>3061.777147</td>\n",
       "      <td>13</td>\n",
       "      <td>6</td>\n",
       "      <td>1</td>\n",
       "      <td>0</td>\n",
       "      <td>199</td>\n",
       "      <td>ultra</td>\n",
       "      <td>277</td>\n",
       "    </tr>\n",
       "    <tr>\n",
       "      <th>2</th>\n",
       "      <td>5421.152016</td>\n",
       "      <td>39</td>\n",
       "      <td>6</td>\n",
       "      <td>2</td>\n",
       "      <td>0</td>\n",
       "      <td>199</td>\n",
       "      <td>ultra</td>\n",
       "      <td>433</td>\n",
       "    </tr>\n",
       "    <tr>\n",
       "      <th>4</th>\n",
       "      <td>2956.651632</td>\n",
       "      <td>21</td>\n",
       "      <td>6</td>\n",
       "      <td>1</td>\n",
       "      <td>0</td>\n",
       "      <td>199</td>\n",
       "      <td>ultra</td>\n",
       "      <td>325</td>\n",
       "    </tr>\n",
       "    <tr>\n",
       "      <th>5</th>\n",
       "      <td>9064.026918</td>\n",
       "      <td>63</td>\n",
       "      <td>6</td>\n",
       "      <td>3</td>\n",
       "      <td>0</td>\n",
       "      <td>199</td>\n",
       "      <td>ultra</td>\n",
       "      <td>577</td>\n",
       "    </tr>\n",
       "    <tr>\n",
       "      <th>7</th>\n",
       "      <td>10919.595403</td>\n",
       "      <td>67</td>\n",
       "      <td>6</td>\n",
       "      <td>3</td>\n",
       "      <td>0</td>\n",
       "      <td>199</td>\n",
       "      <td>ultra</td>\n",
       "      <td>601</td>\n",
       "    </tr>\n",
       "    <tr>\n",
       "      <th>9</th>\n",
       "      <td>2891.012822</td>\n",
       "      <td>23</td>\n",
       "      <td>6</td>\n",
       "      <td>1</td>\n",
       "      <td>0</td>\n",
       "      <td>199</td>\n",
       "      <td>ultra</td>\n",
       "      <td>337</td>\n",
       "    </tr>\n",
       "    <tr>\n",
       "      <th>12</th>\n",
       "      <td>2593.381928</td>\n",
       "      <td>13</td>\n",
       "      <td>6</td>\n",
       "      <td>1</td>\n",
       "      <td>0</td>\n",
       "      <td>199</td>\n",
       "      <td>ultra</td>\n",
       "      <td>277</td>\n",
       "    </tr>\n",
       "  </tbody>\n",
       "</table>\n",
       "</div>"
      ],
      "text/plain": [
       "                   distance  duration  minute_price  name  start_ride_price  \\\n",
       "user_id month                                                                 \n",
       "1       1       7027.511294        42             6     2                 0   \n",
       "        4        754.159807         7             6     1                 0   \n",
       "        8       6723.470560        46             6     2                 0   \n",
       "        10      5809.911100        32             6     2                 0   \n",
       "        11      7003.499363        56             6     3                 0   \n",
       "        12      6751.629942        28             6     2                 0   \n",
       "2       3      10187.723006        63             6     3                 0   \n",
       "        4       6164.381824        40             6     2                 0   \n",
       "        6       3255.338202        14             6     1                 0   \n",
       "        7       6780.722964        48             6     2                 0   \n",
       "        8        923.007439         7             6     1                 0   \n",
       "        10      2824.636598        19             6     1                 0   \n",
       "        12      3828.248580        12             6     1                 0   \n",
       "3       1       3061.777147        13             6     1                 0   \n",
       "        2       5421.152016        39             6     2                 0   \n",
       "        4       2956.651632        21             6     1                 0   \n",
       "        5       9064.026918        63             6     3                 0   \n",
       "        7      10919.595403        67             6     3                 0   \n",
       "        9       2891.012822        23             6     1                 0   \n",
       "        12      2593.381928        13             6     1                 0   \n",
       "\n",
       "               subscription_fee subscription_type  cash_month  \n",
       "user_id month                                                  \n",
       "1       1                   199             ultra         451  \n",
       "        4                   199             ultra         241  \n",
       "        8                   199             ultra         475  \n",
       "        10                  199             ultra         391  \n",
       "        11                  199             ultra         535  \n",
       "        12                  199             ultra         367  \n",
       "2       3                   199             ultra         577  \n",
       "        4                   199             ultra         439  \n",
       "        6                   199             ultra         283  \n",
       "        7                   199             ultra         487  \n",
       "        8                   199             ultra         241  \n",
       "        10                  199             ultra         313  \n",
       "        12                  199             ultra         271  \n",
       "3       1                   199             ultra         277  \n",
       "        2                   199             ultra         433  \n",
       "        4                   199             ultra         325  \n",
       "        5                   199             ultra         577  \n",
       "        7                   199             ultra         601  \n",
       "        9                   199             ultra         337  \n",
       "        12                  199             ultra         277  "
      ]
     },
     "execution_count": 34,
     "metadata": {},
     "output_type": "execute_result"
    }
   ],
   "source": [
    "data_agg['cash_month'] = (data_agg['start_ride_price']*data_agg['name']+data_agg['minute_price']* \\\n",
    "                          data_agg['duration']+data_agg['subscription_fee'])\n",
    "data_agg.head(20)\n",
    "                        "
   ]
  },
  {
   "cell_type": "markdown",
   "id": "b1cad1b5",
   "metadata": {},
   "source": [
    "<div class=\"alert alert-success\">\n",
    "<b>Комментарий ревьюера:</b>☀️\n",
    "    \n",
    "Абсолютно верный расчёт доходов, можно двигаться к проверке гипотез"
   ]
  },
  {
   "cell_type": "code",
   "execution_count": 35,
   "id": "ac70fece",
   "metadata": {},
   "outputs": [
    {
     "data": {
      "text/plain": [
       "3878641"
      ]
     },
     "execution_count": 35,
     "metadata": {},
     "output_type": "execute_result"
    }
   ],
   "source": [
    "data_agg['cash_month'].sum()"
   ]
  },
  {
   "cell_type": "markdown",
   "id": "dd656416",
   "metadata": {},
   "source": [
    "#### Вывод:<br/> Добавили в таблицу данные о выручке . Также вывел на экран суммарный заработок с пользователей. Округлили значения до целого числа в столбце 'duration' . Создал сводную таблицу , состоящую из :distance,\tduration,\tminute_price,\tname,\tstart_ride_price,\tsubscription_fee,\tsubscription_type"
   ]
  },
  {
   "cell_type": "markdown",
   "id": "41545ac0",
   "metadata": {},
   "source": [
    "### Шаг 6. Проверка гипотез"
   ]
  },
  {
   "cell_type": "markdown",
   "id": "fa07a952",
   "metadata": {},
   "source": [
    "#### Важно понять, тратят ли пользователи с подпиской больше времени на поездки? Если да, то пользователи с подпиской могут быть «выгоднее» для компании. Проверьте гипотезу.\n",
    "\n",
    "H0 - пользователи с подпиской , тратят столько же времени на поездки , сколько и пользователи без подписки\n",
    "\n",
    "H1 - пользователи с подпиской тратят больше времени"
   ]
  },
  {
   "cell_type": "code",
   "execution_count": 36,
   "id": "23ea867b",
   "metadata": {},
   "outputs": [
    {
     "name": "stdout",
     "output_type": "stream",
     "text": [
      "p-значение: 1.2804098316645618e-34\n",
      "Отвергаем нулевую гипотезу\n",
      "Среднее без рекламы: 17.39\n",
      "Среднее с рекламой: 18.54\n"
     ]
    }
   ],
   "source": [
    "dur_ws = data_with_sub['duration']\n",
    "dur_wos = data_without_sub['duration']\n",
    "\n",
    "alpha = 0.05\n",
    "results = st.ttest_ind(dur_ws,\n",
    "                       dur_wos,\n",
    "                       alternative='greater')\n",
    "\n",
    "print('p-значение:', results.pvalue)\n",
    "\n",
    "if results.pvalue < alpha:\n",
    "    print('Отвергаем нулевую гипотезу')\n",
    "else:\n",
    "    print('Не получилось отвергнуть нулевую гипотезу')\n",
    "    \n",
    "print(f'Среднее без рекламы: {np.mean(dur_wos):.2f}')\n",
    "print(f'Среднее с рекламой: {np.mean(dur_ws):.2f}')"
   ]
  },
  {
   "cell_type": "markdown",
   "id": "0c3bdfcc",
   "metadata": {},
   "source": [
    "<div class=\"alert alert-success\">\n",
    "<b>Комментарий ревьюера:</b>☀️\n",
    "    \n",
    "Отлично, что формулируешь нулевую, альтернативную гипотезу, это важно, выводы верны, ещё могу порекомендовать дополнительно проверять себя и выводить среднее проверяемых переменных или распределения"
   ]
  },
  {
   "cell_type": "markdown",
   "id": "92123571",
   "metadata": {},
   "source": [
    "<div class=\"alert alert-info\"> <b>+</b>"
   ]
  },
  {
   "cell_type": "markdown",
   "id": "4a38c51a",
   "metadata": {},
   "source": [
    "#####  Пользователи с подпиской тратят больше времени на поездки . Н1 верна"
   ]
  },
  {
   "cell_type": "markdown",
   "id": "bde891f0",
   "metadata": {},
   "source": [
    "#### Расстояние одной поездки в 3130 метров — оптимальное с точки зрения износа самоката. Можно ли сказать, что среднее расстояние, которое проезжают пользователи с подпиской за одну поездку, не превышает 3130 метров? \n",
    "\n",
    "Н0 - Среднее расстояние равно 3130 метров\n",
    "\n",
    "Н1 - Среднее расстояние больше 3130 метров"
   ]
  },
  {
   "cell_type": "code",
   "execution_count": 37,
   "id": "ab560b72",
   "metadata": {},
   "outputs": [
    {
     "name": "stdout",
     "output_type": "stream",
     "text": [
      "p-значение: 0.9195368847849785\n",
      "Не отвергаем нулевую гипотезу\n"
     ]
    }
   ],
   "source": [
    "mean_dist = 3130\n",
    "alpha = 0.05 \n",
    "results = st.ttest_1samp(\n",
    "    data_with_sub['distance'],\n",
    "    mean_dist,\n",
    "    alternative='greater')\n",
    "print('p-значение:', results.pvalue)\n",
    "if results.pvalue < alpha:\n",
    "    print('Отвергаем нулевую гипотезу')\n",
    "else:\n",
    "    print('Не отвергаем нулевую гипотезу')"
   ]
  },
  {
   "cell_type": "code",
   "execution_count": 38,
   "id": "19204a91",
   "metadata": {},
   "outputs": [
    {
     "data": {
      "text/plain": [
       "3115.4453880370247"
      ]
     },
     "execution_count": 38,
     "metadata": {},
     "output_type": "execute_result"
    }
   ],
   "source": [
    "data_with_sub['distance'].mean()"
   ]
  },
  {
   "cell_type": "markdown",
   "id": "1f4b283a",
   "metadata": {},
   "source": [
    "<div class=\"alert alert-success\">\n",
    "<b>Комментарий ревьюера:</b>☀️\n",
    "    \n",
    "Бизнес может спать спокойно, с износом всё в порядке"
   ]
  },
  {
   "cell_type": "markdown",
   "id": "aab4f18f",
   "metadata": {},
   "source": [
    "##### Судя по результату ttest'a , можно считать , что среднее расстояние равно 3130 метров"
   ]
  },
  {
   "cell_type": "markdown",
   "id": "999c42fb",
   "metadata": {},
   "source": [
    "#### Проверьте гипотезу о том, будет ли помесячная выручка от пользователей с подпиской по месяцам выше, чем выручка от пользователей без подписки. Сделайте вывод.\n",
    "\n",
    "Н0 - выручка пользователей с подпиской и без подписки равна\n",
    "\n",
    "Н1 - выручка поользователей с подпиской больше выручки пользователей без подписки"
   ]
  },
  {
   "cell_type": "code",
   "execution_count": 39,
   "id": "9bac8bd0",
   "metadata": {},
   "outputs": [
    {
     "name": "stdout",
     "output_type": "stream",
     "text": [
      "p-значение: 1.8850394384715216e-31\n",
      "Отвергаем нулевую гипотезу\n",
      "Среднее без подписки: 328.64\n",
      "Среднее с подпиской: 362.79\n"
     ]
    }
   ],
   "source": [
    "ultra = data_agg.loc[data_agg['subscription_type'] == 'ultra', 'cash_month']\n",
    "free = data_agg.loc[data_agg['subscription_type'] == 'free','cash_month']\n",
    "\n",
    "alpha = 0.05\n",
    "results = st.ttest_ind(\n",
    "    ultra,\n",
    "    free,\n",
    "    alternative='greater')\n",
    "\n",
    "print('p-значение:', results.pvalue)\n",
    "\n",
    "if results.pvalue < alpha:\n",
    "    print('Отвергаем нулевую гипотезу')\n",
    "else:\n",
    "    print('Не получилось отвергнуть нулевую гипотезу')\n",
    "    \n",
    "print(f'Среднее без подписки: {np.mean(free):.2f}')\n",
    "print(f'Среднее с подпиской: {np.mean(ultra):.2f}')"
   ]
  },
  {
   "cell_type": "markdown",
   "id": "fe57d93d",
   "metadata": {},
   "source": [
    "##### Результат теста дает нам  понять , что пользователи с подпиской приносят больше денег"
   ]
  },
  {
   "cell_type": "markdown",
   "id": "a3136056",
   "metadata": {},
   "source": [
    "####  Представьте такую ситуацию: техническая команда сервиса обновила сервера, с которыми взаимодействует мобильное приложение. Она надеется, что из-за этого количество обращений в техподдержку значимо снизилось. Некоторый файл содержит для каждого пользователя данные о количестве обращений до обновления и после него. Какой тест вам понадобился бы для проверки этой гипотезы?\n",
    "\n",
    "Для данной задачи , я бы использовал ttest_rel(Гипотеза о равенстве средних для зависимых (парных) выборок). В случае с данной задачей до и после обновления\n",
    "\n",
    "Гипотезы в таком случае будут сформулированы так: \n",
    "\n",
    "H0 - before = after\n",
    "\n",
    "H1 - before > after"
   ]
  },
  {
   "cell_type": "markdown",
   "id": "dec368a7",
   "metadata": {},
   "source": [
    "<div class=\"alert alert-success\">\n",
    "<b>Комментарий ревьюера v2:</b>☀️\n",
    "   \n",
    "\n",
    "Отлично, удачи в дальнейшем обучении!)\n",
    "</div>"
   ]
  },
  {
   "attachments": {
    "image.png": {
     "image/png": "[encoded data removed]"
    }
   },
   "cell_type": "markdown",
   "id": "e0994141",
   "metadata": {},
   "source": [
    "<div class=\"alert alert-warning\">\n",
    "<b>Комментарий ревьюера:</b>⛅️ \n",
    "\n",
    "Как выделенные слова влияют на формулировку гипотез? ![image.png](attachment:image.png)\n",
    "</div>"
   ]
  },
  {
   "cell_type": "markdown",
   "id": "a6fd79f5",
   "metadata": {},
   "source": [
    "#### Вывод:<br/> В данном разделе провели 3 теста , для 3х разных ситуаций. Дважды воспользовались ttest_ind(О равенстве средних двух генеральных совокупностей) и ttest_1samp(О равенстве среднего генеральной совокупности числу) . <br/> В итоге получили , что в первой в третьей задаче , где использовался ttest_ind пришлось отвергнуть нулевую гипотезу . Во второй задаче с методом ttest_1samp не пришлось отвергать нулевую гипотезу.<br/> В четвертой задаче нам надо было определись какой лучше тест истользовать . Для данной задачи , я бы использовал ttest_rel(Гипотеза о равенстве средних для зависимых (парных) выборок)"
   ]
  },
  {
   "cell_type": "markdown",
   "id": "85e6dc00",
   "metadata": {},
   "source": [
    "### Общий вывод:<br/><br/> В данном проекте по статистическому анализу данных , были выполнены следующие работы:<br/><br/>- была изучена информация по трем датафреймам(data_user, data_rides, data_subscriptions)<br/><br/>- Приведен столбец date к типу даты pandas(datetime64)<br/><br/>-Создан новый столбец с номером месяца на основе столбца date.<br/><br/>-Проверены датайреймы на наличие дубликатов . В последствии удалены<br/><br/>-Описаны и визуализированы :<br/><br/>Частота встречаемости городов(3.1).Пятигорск чаще остальных встречается<br/><br/>Соотношение пользователей с подпиской и без подписки(3.2).Пользователей без подписки оказалось больше.<br/><br/>Возраст пользователей(3.3).Большиство арендаторов самокатов в возрасте от 22 до 30 лет<br/><br/>Расстояние, которое пользователь преодолел за одну поездку(3.4).Большее количество пользователей проезжают расстояние от 2000 до 4500 метров<br/><br/>Продолжительность поездок(3.5).От 10 до 25 минут самые часто встречаемое время поездок.<br/><br/>-Были объеденены 3 датафрема методом *merge*<br/><br/>-Созданы отдельные датафреймы для пользователей без подписки(data_without_sub) и с  подпиской(data_with_sub)<br/><br/>-Созданы объединенные диаграммы(расстояние поезди пользователей с подпиской и без (4.5))(продолжительность поезди пользователей с подпиской и без (4.4))<br/><br/>-Создан датайрейм с агрегированными данными о поездках на основе датафрейма с объединёнными данными в data_agg содержащий следующие столбцы(user_id, month, distance, duration,\tminute_price, name,\tstart_ride_price, subscription_fee,\tsubscription_type)<br/><br/>-Округлил данный столбца (duration) до целоги числа(22.6->23)<br/><br/>-В этот же датафрейм добавьте столбец с помесячной выручкой, которую принёс каждый пользователь(cash_month)<br/><br/>-Также узнали общую выручку , которая составила - 3878641р.<br/><br/>- В 6 разделе предстояло определись каким тестом стоило воспользоваться в задчах. В двух задачах использовали ttest_ind ,  по одному разу пришлось использовать ttest_rel и ttest_1samp.<br/><br/>-Для каждого раздела сыли сделаны выводы"
   ]
  },
  {
   "cell_type": "markdown",
   "id": "61213c5e",
   "metadata": {},
   "source": [
    "### Шаг 7. Распределения"
   ]
  },
  {
   "cell_type": "code",
   "execution_count": null,
   "id": "95cd1d51",
   "metadata": {},
   "outputs": [],
   "source": []
  }
 ],
 "metadata": {
  "ExecuteTimeLog": [
   {
    "duration": 50,
    "start_time": "2024-08-05T09:17:30.072Z"
   },
   {
    "duration": 1298,
    "start_time": "2024-08-05T09:17:36.688Z"
   },
   {
    "duration": 157,
    "start_time": "2024-08-05T09:17:39.248Z"
   },
   {
    "duration": 1178,
    "start_time": "2024-08-05T09:18:35.226Z"
   },
   {
    "duration": 362,
    "start_time": "2024-08-05T09:18:36.406Z"
   },
   {
    "duration": 17,
    "start_time": "2024-08-05T09:19:03.265Z"
   },
   {
    "duration": 17,
    "start_time": "2024-08-05T09:19:16.497Z"
   },
   {
    "duration": 13,
    "start_time": "2024-08-05T09:19:32.490Z"
   },
   {
    "duration": 9,
    "start_time": "2024-08-05T09:20:14.362Z"
   },
   {
    "duration": 9,
    "start_time": "2024-08-05T09:22:43.483Z"
   },
   {
    "duration": 8,
    "start_time": "2024-08-05T09:22:49.046Z"
   },
   {
    "duration": 7,
    "start_time": "2024-08-05T09:22:54.918Z"
   },
   {
    "duration": 7,
    "start_time": "2024-08-05T09:23:03.318Z"
   },
   {
    "duration": 33,
    "start_time": "2024-08-05T09:23:50.047Z"
   },
   {
    "duration": 9,
    "start_time": "2024-08-05T09:23:56.750Z"
   },
   {
    "duration": 13,
    "start_time": "2024-08-05T09:24:06.984Z"
   },
   {
    "duration": 114,
    "start_time": "2024-08-05T09:24:29.454Z"
   },
   {
    "duration": 9,
    "start_time": "2024-08-05T09:25:04.416Z"
   },
   {
    "duration": 9,
    "start_time": "2024-08-05T09:28:50.059Z"
   },
   {
    "duration": 14,
    "start_time": "2024-08-05T09:28:52.898Z"
   },
   {
    "duration": 9,
    "start_time": "2024-08-05T09:28:53.339Z"
   },
   {
    "duration": 12,
    "start_time": "2024-08-05T09:28:53.547Z"
   },
   {
    "duration": 7,
    "start_time": "2024-08-05T09:28:54.811Z"
   },
   {
    "duration": 7,
    "start_time": "2024-08-05T09:29:35.284Z"
   },
   {
    "duration": 13,
    "start_time": "2024-08-05T09:29:37.483Z"
   },
   {
    "duration": 86,
    "start_time": "2024-08-05T09:36:21.075Z"
   },
   {
    "duration": 624,
    "start_time": "2024-08-05T09:36:31.235Z"
   },
   {
    "duration": 549,
    "start_time": "2024-08-05T09:36:56.395Z"
   },
   {
    "duration": 8,
    "start_time": "2024-08-05T09:37:30.900Z"
   },
   {
    "duration": 21,
    "start_time": "2024-08-05T09:37:54.548Z"
   },
   {
    "duration": 21,
    "start_time": "2024-08-05T09:38:13.436Z"
   },
   {
    "duration": 9,
    "start_time": "2024-08-05T09:41:54.544Z"
   },
   {
    "duration": 5,
    "start_time": "2024-08-05T09:42:03.648Z"
   },
   {
    "duration": 11,
    "start_time": "2024-08-05T09:42:22.024Z"
   },
   {
    "duration": 10,
    "start_time": "2024-08-05T09:44:40.179Z"
   },
   {
    "duration": 10,
    "start_time": "2024-08-05T09:44:43.922Z"
   },
   {
    "duration": 7,
    "start_time": "2024-08-05T09:44:53.595Z"
   },
   {
    "duration": 5,
    "start_time": "2024-08-05T09:45:56.932Z"
   },
   {
    "duration": 6,
    "start_time": "2024-08-05T09:45:59.188Z"
   },
   {
    "duration": 10,
    "start_time": "2024-08-05T09:46:07.731Z"
   },
   {
    "duration": 6,
    "start_time": "2024-08-05T09:46:26.164Z"
   },
   {
    "duration": 7,
    "start_time": "2024-08-05T09:51:12.033Z"
   },
   {
    "duration": 6,
    "start_time": "2024-08-05T09:51:48.951Z"
   },
   {
    "duration": 12,
    "start_time": "2024-08-05T09:52:02.161Z"
   },
   {
    "duration": 7,
    "start_time": "2024-08-05T09:53:47.298Z"
   },
   {
    "duration": 5,
    "start_time": "2024-08-05T09:55:05.932Z"
   },
   {
    "duration": 1122,
    "start_time": "2024-08-05T09:55:14.842Z"
   },
   {
    "duration": 128,
    "start_time": "2024-08-05T09:55:15.966Z"
   },
   {
    "duration": 18,
    "start_time": "2024-08-05T09:55:16.095Z"
   },
   {
    "duration": 15,
    "start_time": "2024-08-05T09:55:16.115Z"
   },
   {
    "duration": 11,
    "start_time": "2024-08-05T09:55:16.132Z"
   },
   {
    "duration": 12,
    "start_time": "2024-08-05T09:55:16.145Z"
   },
   {
    "duration": 6,
    "start_time": "2024-08-05T09:55:16.159Z"
   },
   {
    "duration": 5,
    "start_time": "2024-08-05T09:55:16.166Z"
   },
   {
    "duration": 31,
    "start_time": "2024-08-05T09:55:16.173Z"
   },
   {
    "duration": 8,
    "start_time": "2024-08-05T09:55:16.206Z"
   },
   {
    "duration": 13,
    "start_time": "2024-08-05T09:55:16.216Z"
   },
   {
    "duration": 25,
    "start_time": "2024-08-05T09:55:16.231Z"
   },
   {
    "duration": 9,
    "start_time": "2024-08-05T09:55:16.258Z"
   },
   {
    "duration": 7,
    "start_time": "2024-08-05T09:55:16.270Z"
   },
   {
    "duration": 18,
    "start_time": "2024-08-05T09:55:16.280Z"
   },
   {
    "duration": 9,
    "start_time": "2024-08-05T09:55:16.300Z"
   },
   {
    "duration": 36,
    "start_time": "2024-08-05T09:55:16.311Z"
   },
   {
    "duration": 30,
    "start_time": "2024-08-05T09:55:16.349Z"
   },
   {
    "duration": 13,
    "start_time": "2024-08-05T09:55:16.381Z"
   },
   {
    "duration": 11,
    "start_time": "2024-08-05T09:55:37.028Z"
   },
   {
    "duration": 106,
    "start_time": "2024-08-05T09:59:19.095Z"
   },
   {
    "duration": 10,
    "start_time": "2024-08-05T09:59:26.047Z"
   },
   {
    "duration": 13,
    "start_time": "2024-08-05T09:59:31.296Z"
   },
   {
    "duration": 8,
    "start_time": "2024-08-05T10:00:24.017Z"
   },
   {
    "duration": 12,
    "start_time": "2024-08-05T10:00:39.424Z"
   },
   {
    "duration": 13,
    "start_time": "2024-08-05T10:00:50.945Z"
   },
   {
    "duration": 46,
    "start_time": "2024-08-06T15:24:34.862Z"
   },
   {
    "duration": 1165,
    "start_time": "2024-08-06T15:24:39.758Z"
   },
   {
    "duration": 418,
    "start_time": "2024-08-06T15:24:40.926Z"
   },
   {
    "duration": 15,
    "start_time": "2024-08-06T15:24:41.345Z"
   },
   {
    "duration": 7,
    "start_time": "2024-08-06T15:24:41.362Z"
   },
   {
    "duration": 11,
    "start_time": "2024-08-06T15:24:41.372Z"
   },
   {
    "duration": 7,
    "start_time": "2024-08-06T15:24:41.384Z"
   },
   {
    "duration": 6,
    "start_time": "2024-08-06T15:24:41.392Z"
   },
   {
    "duration": 8,
    "start_time": "2024-08-06T15:24:41.399Z"
   },
   {
    "duration": 11,
    "start_time": "2024-08-06T15:24:41.408Z"
   },
   {
    "duration": 7,
    "start_time": "2024-08-06T15:24:41.421Z"
   },
   {
    "duration": 12,
    "start_time": "2024-08-06T15:24:41.430Z"
   },
   {
    "duration": 8,
    "start_time": "2024-08-06T15:24:41.481Z"
   },
   {
    "duration": 9,
    "start_time": "2024-08-06T15:24:41.490Z"
   },
   {
    "duration": 14,
    "start_time": "2024-08-06T15:24:41.502Z"
   },
   {
    "duration": 18,
    "start_time": "2024-08-06T15:24:41.517Z"
   },
   {
    "duration": 7,
    "start_time": "2024-08-06T15:24:41.536Z"
   },
   {
    "duration": 5,
    "start_time": "2024-08-06T15:24:41.544Z"
   },
   {
    "duration": 37,
    "start_time": "2024-08-06T15:24:41.551Z"
   },
   {
    "duration": 10,
    "start_time": "2024-08-06T15:24:41.590Z"
   },
   {
    "duration": 11,
    "start_time": "2024-08-06T15:25:09.501Z"
   },
   {
    "duration": 13,
    "start_time": "2024-08-06T15:25:41.992Z"
   },
   {
    "duration": 4,
    "start_time": "2024-08-06T15:41:00.792Z"
   },
   {
    "duration": 13,
    "start_time": "2024-08-06T15:41:26.670Z"
   },
   {
    "duration": 8,
    "start_time": "2024-08-06T15:42:00.483Z"
   },
   {
    "duration": 7,
    "start_time": "2024-08-06T15:43:29.997Z"
   },
   {
    "duration": 12,
    "start_time": "2024-08-06T15:43:43.779Z"
   },
   {
    "duration": 211,
    "start_time": "2024-08-06T15:55:42.782Z"
   },
   {
    "duration": 4,
    "start_time": "2024-08-06T15:55:57.109Z"
   },
   {
    "duration": 221,
    "start_time": "2024-08-06T15:56:00.393Z"
   },
   {
    "duration": 336,
    "start_time": "2024-08-06T15:56:11.963Z"
   },
   {
    "duration": 624,
    "start_time": "2024-08-06T15:57:02.200Z"
   },
   {
    "duration": 88,
    "start_time": "2024-08-06T16:00:04.133Z"
   },
   {
    "duration": 935,
    "start_time": "2024-08-06T16:00:13.708Z"
   },
   {
    "duration": 169,
    "start_time": "2024-08-06T16:02:44.716Z"
   },
   {
    "duration": 117,
    "start_time": "2024-08-06T16:08:01.404Z"
   },
   {
    "duration": 13,
    "start_time": "2024-08-06T16:08:10.887Z"
   },
   {
    "duration": 10,
    "start_time": "2024-08-06T16:08:27.359Z"
   },
   {
    "duration": 115,
    "start_time": "2024-08-06T16:08:30.920Z"
   },
   {
    "duration": 131,
    "start_time": "2024-08-06T16:09:54.378Z"
   },
   {
    "duration": 118,
    "start_time": "2024-08-06T16:09:59.492Z"
   },
   {
    "duration": 122,
    "start_time": "2024-08-06T16:10:04.708Z"
   },
   {
    "duration": 126,
    "start_time": "2024-08-06T16:10:08.182Z"
   },
   {
    "duration": 128,
    "start_time": "2024-08-06T16:10:11.898Z"
   },
   {
    "duration": 213,
    "start_time": "2024-08-06T16:39:18.663Z"
   },
   {
    "duration": 185,
    "start_time": "2024-08-06T16:40:07.147Z"
   },
   {
    "duration": 99,
    "start_time": "2024-08-06T16:40:20.626Z"
   },
   {
    "duration": 79,
    "start_time": "2024-08-06T16:40:25.481Z"
   },
   {
    "duration": 82,
    "start_time": "2024-08-06T16:40:29.289Z"
   },
   {
    "duration": 93,
    "start_time": "2024-08-06T16:40:52.890Z"
   },
   {
    "duration": 160,
    "start_time": "2024-08-06T16:44:40.076Z"
   },
   {
    "duration": 130,
    "start_time": "2024-08-06T16:44:52.434Z"
   },
   {
    "duration": 104,
    "start_time": "2024-08-06T16:47:38.592Z"
   },
   {
    "duration": 97,
    "start_time": "2024-08-06T16:47:53.777Z"
   },
   {
    "duration": 201,
    "start_time": "2024-08-06T16:47:57.244Z"
   },
   {
    "duration": 86,
    "start_time": "2024-08-06T16:48:30.678Z"
   },
   {
    "duration": 100,
    "start_time": "2024-08-06T16:49:20.497Z"
   },
   {
    "duration": 109,
    "start_time": "2024-08-06T16:49:41.791Z"
   },
   {
    "duration": 132,
    "start_time": "2024-08-06T16:52:48.690Z"
   },
   {
    "duration": 69,
    "start_time": "2024-08-06T16:53:19.094Z"
   },
   {
    "duration": 68,
    "start_time": "2024-08-06T16:53:34.847Z"
   },
   {
    "duration": 12,
    "start_time": "2024-08-06T16:55:11.007Z"
   },
   {
    "duration": 100,
    "start_time": "2024-08-06T16:55:21.871Z"
   },
   {
    "duration": 103,
    "start_time": "2024-08-06T16:55:41.202Z"
   },
   {
    "duration": 100,
    "start_time": "2024-08-06T16:56:04.963Z"
   },
   {
    "duration": 9,
    "start_time": "2024-08-06T16:57:59.613Z"
   },
   {
    "duration": 113,
    "start_time": "2024-08-06T16:59:54.670Z"
   },
   {
    "duration": 110,
    "start_time": "2024-08-06T17:01:33.514Z"
   },
   {
    "duration": 129,
    "start_time": "2024-08-06T17:01:40.943Z"
   },
   {
    "duration": 294,
    "start_time": "2024-08-06T17:12:53.613Z"
   },
   {
    "duration": 118,
    "start_time": "2024-08-06T17:13:05.792Z"
   },
   {
    "duration": 127,
    "start_time": "2024-08-06T17:14:04.606Z"
   },
   {
    "duration": 144,
    "start_time": "2024-08-06T17:14:35.207Z"
   },
   {
    "duration": 120,
    "start_time": "2024-08-06T17:14:41.456Z"
   },
   {
    "duration": 173,
    "start_time": "2024-08-06T17:14:47.025Z"
   },
   {
    "duration": 126,
    "start_time": "2024-08-06T17:14:59.218Z"
   },
   {
    "duration": 148,
    "start_time": "2024-08-06T17:15:42.179Z"
   },
   {
    "duration": 131,
    "start_time": "2024-08-06T17:15:49.108Z"
   },
   {
    "duration": 136,
    "start_time": "2024-08-06T17:15:55.571Z"
   },
   {
    "duration": 226,
    "start_time": "2024-08-06T17:16:02.314Z"
   },
   {
    "duration": 136,
    "start_time": "2024-08-06T17:16:06.923Z"
   },
   {
    "duration": 146,
    "start_time": "2024-08-06T17:20:39.565Z"
   },
   {
    "duration": 5,
    "start_time": "2024-08-06T17:21:15.745Z"
   },
   {
    "duration": 229,
    "start_time": "2024-08-06T17:23:18.291Z"
   },
   {
    "duration": 257,
    "start_time": "2024-08-06T17:23:48.578Z"
   },
   {
    "duration": 241,
    "start_time": "2024-08-06T17:26:31.985Z"
   },
   {
    "duration": 229,
    "start_time": "2024-08-06T17:31:34.405Z"
   },
   {
    "duration": 347,
    "start_time": "2024-08-06T17:32:20.181Z"
   },
   {
    "duration": 1027,
    "start_time": "2024-08-06T17:32:43.008Z"
   },
   {
    "duration": 123,
    "start_time": "2024-08-06T17:32:44.036Z"
   },
   {
    "duration": 15,
    "start_time": "2024-08-06T17:32:44.160Z"
   },
   {
    "duration": 7,
    "start_time": "2024-08-06T17:32:44.176Z"
   },
   {
    "duration": 9,
    "start_time": "2024-08-06T17:32:44.184Z"
   },
   {
    "duration": 6,
    "start_time": "2024-08-06T17:32:44.194Z"
   },
   {
    "duration": 4,
    "start_time": "2024-08-06T17:32:44.201Z"
   },
   {
    "duration": 10,
    "start_time": "2024-08-06T17:32:44.207Z"
   },
   {
    "duration": 9,
    "start_time": "2024-08-06T17:32:44.218Z"
   },
   {
    "duration": 7,
    "start_time": "2024-08-06T17:32:44.228Z"
   },
   {
    "duration": 10,
    "start_time": "2024-08-06T17:32:44.236Z"
   },
   {
    "duration": 39,
    "start_time": "2024-08-06T17:32:44.247Z"
   },
   {
    "duration": 9,
    "start_time": "2024-08-06T17:32:44.288Z"
   },
   {
    "duration": 5,
    "start_time": "2024-08-06T17:32:44.299Z"
   },
   {
    "duration": 12,
    "start_time": "2024-08-06T17:32:44.306Z"
   },
   {
    "duration": 6,
    "start_time": "2024-08-06T17:32:44.319Z"
   },
   {
    "duration": 5,
    "start_time": "2024-08-06T17:32:44.326Z"
   },
   {
    "duration": 15,
    "start_time": "2024-08-06T17:32:44.332Z"
   },
   {
    "duration": 35,
    "start_time": "2024-08-06T17:32:44.348Z"
   },
   {
    "duration": 16,
    "start_time": "2024-08-06T17:32:44.384Z"
   },
   {
    "duration": 143,
    "start_time": "2024-08-06T17:32:44.401Z"
   },
   {
    "duration": 125,
    "start_time": "2024-08-06T17:32:44.546Z"
   },
   {
    "duration": 148,
    "start_time": "2024-08-06T17:32:44.673Z"
   },
   {
    "duration": 239,
    "start_time": "2024-08-06T17:32:44.823Z"
   },
   {
    "duration": 5,
    "start_time": "2024-08-06T17:32:45.063Z"
   },
   {
    "duration": 296,
    "start_time": "2024-08-06T17:32:45.069Z"
   },
   {
    "duration": 234,
    "start_time": "2024-08-06T17:33:31.483Z"
   },
   {
    "duration": 4,
    "start_time": "2024-08-06T17:34:04.000Z"
   },
   {
    "duration": 10,
    "start_time": "2024-08-06T18:37:55.448Z"
   },
   {
    "duration": 22,
    "start_time": "2024-08-06T18:38:05.722Z"
   },
   {
    "duration": 12,
    "start_time": "2024-08-06T18:41:09.516Z"
   },
   {
    "duration": 12,
    "start_time": "2024-08-06T18:41:16.584Z"
   },
   {
    "duration": 1328,
    "start_time": "2024-08-07T09:05:17.134Z"
   },
   {
    "duration": 315,
    "start_time": "2024-08-07T09:05:18.465Z"
   },
   {
    "duration": 17,
    "start_time": "2024-08-07T09:05:18.782Z"
   },
   {
    "duration": 9,
    "start_time": "2024-08-07T09:05:18.800Z"
   },
   {
    "duration": 14,
    "start_time": "2024-08-07T09:05:18.811Z"
   },
   {
    "duration": 9,
    "start_time": "2024-08-07T09:05:18.826Z"
   },
   {
    "duration": 10,
    "start_time": "2024-08-07T09:05:18.836Z"
   },
   {
    "duration": 19,
    "start_time": "2024-08-07T09:05:18.848Z"
   },
   {
    "duration": 11,
    "start_time": "2024-08-07T09:05:18.869Z"
   },
   {
    "duration": 9,
    "start_time": "2024-08-07T09:05:18.881Z"
   },
   {
    "duration": 29,
    "start_time": "2024-08-07T09:05:18.892Z"
   },
   {
    "duration": 6,
    "start_time": "2024-08-07T09:05:18.923Z"
   },
   {
    "duration": 9,
    "start_time": "2024-08-07T09:05:18.930Z"
   },
   {
    "duration": 6,
    "start_time": "2024-08-07T09:05:18.942Z"
   },
   {
    "duration": 10,
    "start_time": "2024-08-07T09:05:18.949Z"
   },
   {
    "duration": 6,
    "start_time": "2024-08-07T09:05:18.960Z"
   },
   {
    "duration": 7,
    "start_time": "2024-08-07T09:05:18.967Z"
   },
   {
    "duration": 51,
    "start_time": "2024-08-07T09:05:18.976Z"
   },
   {
    "duration": 11,
    "start_time": "2024-08-07T09:05:19.028Z"
   },
   {
    "duration": 7,
    "start_time": "2024-08-07T09:05:19.040Z"
   },
   {
    "duration": 179,
    "start_time": "2024-08-07T09:05:19.049Z"
   },
   {
    "duration": 141,
    "start_time": "2024-08-07T09:05:19.229Z"
   },
   {
    "duration": 178,
    "start_time": "2024-08-07T09:05:19.372Z"
   },
   {
    "duration": 308,
    "start_time": "2024-08-07T09:05:19.552Z"
   },
   {
    "duration": 4,
    "start_time": "2024-08-07T09:05:19.862Z"
   },
   {
    "duration": 271,
    "start_time": "2024-08-07T09:05:19.868Z"
   },
   {
    "duration": 4,
    "start_time": "2024-08-07T09:05:20.140Z"
   },
   {
    "duration": 23,
    "start_time": "2024-08-07T09:05:20.146Z"
   },
   {
    "duration": 13,
    "start_time": "2024-08-07T09:13:21.067Z"
   },
   {
    "duration": 17,
    "start_time": "2024-08-07T09:13:37.450Z"
   },
   {
    "duration": 15,
    "start_time": "2024-08-07T09:15:08.692Z"
   },
   {
    "duration": 110,
    "start_time": "2024-08-07T09:15:24.622Z"
   },
   {
    "duration": 14,
    "start_time": "2024-08-07T09:15:55.712Z"
   },
   {
    "duration": 22,
    "start_time": "2024-08-07T09:16:27.616Z"
   },
   {
    "duration": 18,
    "start_time": "2024-08-07T09:16:38.063Z"
   },
   {
    "duration": 10,
    "start_time": "2024-08-07T09:20:24.651Z"
   },
   {
    "duration": 63,
    "start_time": "2024-08-07T09:20:59.835Z"
   },
   {
    "duration": 8,
    "start_time": "2024-08-07T09:21:04.883Z"
   },
   {
    "duration": 12,
    "start_time": "2024-08-07T09:21:11.356Z"
   },
   {
    "duration": 10,
    "start_time": "2024-08-07T09:21:28.036Z"
   },
   {
    "duration": 487,
    "start_time": "2024-08-07T09:25:04.383Z"
   },
   {
    "duration": 1050,
    "start_time": "2024-08-07T09:25:18.807Z"
   },
   {
    "duration": 514,
    "start_time": "2024-08-07T09:27:19.321Z"
   },
   {
    "duration": 8,
    "start_time": "2024-08-07T09:27:51.211Z"
   },
   {
    "duration": 18,
    "start_time": "2024-08-07T09:30:45.364Z"
   },
   {
    "duration": 20,
    "start_time": "2024-08-07T09:31:14.901Z"
   },
   {
    "duration": 6,
    "start_time": "2024-08-07T09:31:49.047Z"
   },
   {
    "duration": 18,
    "start_time": "2024-08-07T09:31:56.917Z"
   },
   {
    "duration": 87,
    "start_time": "2024-08-07T09:32:12.838Z"
   },
   {
    "duration": 15,
    "start_time": "2024-08-07T09:32:22.638Z"
   },
   {
    "duration": 19,
    "start_time": "2024-08-07T09:32:51.871Z"
   },
   {
    "duration": 14,
    "start_time": "2024-08-07T09:45:43.619Z"
   },
   {
    "duration": 22,
    "start_time": "2024-08-07T09:45:51.202Z"
   },
   {
    "duration": 8,
    "start_time": "2024-08-07T09:46:36.940Z"
   },
   {
    "duration": 4,
    "start_time": "2024-08-07T09:46:46.339Z"
   },
   {
    "duration": 274,
    "start_time": "2024-08-07T09:49:08.310Z"
   },
   {
    "duration": 327,
    "start_time": "2024-08-07T09:49:16.534Z"
   },
   {
    "duration": 17,
    "start_time": "2024-08-07T09:51:39.200Z"
   },
   {
    "duration": 15,
    "start_time": "2024-08-07T09:51:47.518Z"
   },
   {
    "duration": 1044,
    "start_time": "2024-08-07T09:51:55.981Z"
   },
   {
    "duration": 116,
    "start_time": "2024-08-07T09:51:57.027Z"
   },
   {
    "duration": 17,
    "start_time": "2024-08-07T09:51:57.145Z"
   },
   {
    "duration": 17,
    "start_time": "2024-08-07T09:51:57.163Z"
   },
   {
    "duration": 13,
    "start_time": "2024-08-07T09:51:57.181Z"
   },
   {
    "duration": 8,
    "start_time": "2024-08-07T09:51:57.195Z"
   },
   {
    "duration": 13,
    "start_time": "2024-08-07T09:51:57.205Z"
   },
   {
    "duration": 12,
    "start_time": "2024-08-07T09:51:57.220Z"
   },
   {
    "duration": 10,
    "start_time": "2024-08-07T09:51:57.234Z"
   },
   {
    "duration": 15,
    "start_time": "2024-08-07T09:51:57.246Z"
   },
   {
    "duration": 11,
    "start_time": "2024-08-07T09:51:57.263Z"
   },
   {
    "duration": 28,
    "start_time": "2024-08-07T09:51:57.276Z"
   },
   {
    "duration": 17,
    "start_time": "2024-08-07T09:51:57.306Z"
   },
   {
    "duration": 7,
    "start_time": "2024-08-07T09:51:57.325Z"
   },
   {
    "duration": 10,
    "start_time": "2024-08-07T09:51:57.333Z"
   },
   {
    "duration": 16,
    "start_time": "2024-08-07T09:51:57.344Z"
   },
   {
    "duration": 5,
    "start_time": "2024-08-07T09:51:57.362Z"
   },
   {
    "duration": 28,
    "start_time": "2024-08-07T09:51:57.369Z"
   },
   {
    "duration": 23,
    "start_time": "2024-08-07T09:51:57.398Z"
   },
   {
    "duration": 8,
    "start_time": "2024-08-07T09:51:57.423Z"
   },
   {
    "duration": 29,
    "start_time": "2024-08-07T09:51:57.432Z"
   },
   {
    "duration": 184,
    "start_time": "2024-08-07T09:51:57.462Z"
   },
   {
    "duration": 146,
    "start_time": "2024-08-07T09:51:57.648Z"
   },
   {
    "duration": 160,
    "start_time": "2024-08-07T09:51:57.796Z"
   },
   {
    "duration": 288,
    "start_time": "2024-08-07T09:51:57.958Z"
   },
   {
    "duration": 4,
    "start_time": "2024-08-07T09:51:58.249Z"
   },
   {
    "duration": 277,
    "start_time": "2024-08-07T09:51:58.255Z"
   },
   {
    "duration": 4,
    "start_time": "2024-08-07T09:51:58.536Z"
   },
   {
    "duration": 46,
    "start_time": "2024-08-07T09:51:58.542Z"
   },
   {
    "duration": 20,
    "start_time": "2024-08-07T09:51:58.590Z"
   },
   {
    "duration": 23,
    "start_time": "2024-08-07T09:51:58.612Z"
   },
   {
    "duration": 277,
    "start_time": "2024-08-07T09:51:58.637Z"
   },
   {
    "duration": 1171,
    "start_time": "2024-08-07T09:51:58.918Z"
   },
   {
    "duration": 17,
    "start_time": "2024-08-07T09:56:48.055Z"
   },
   {
    "duration": 14,
    "start_time": "2024-08-07T09:56:57.212Z"
   },
   {
    "duration": 14,
    "start_time": "2024-08-07T09:57:00.374Z"
   },
   {
    "duration": 20,
    "start_time": "2024-08-07T09:57:22.398Z"
   },
   {
    "duration": 1049,
    "start_time": "2024-08-07T09:57:31.787Z"
   },
   {
    "duration": 103,
    "start_time": "2024-08-07T09:57:32.838Z"
   },
   {
    "duration": 17,
    "start_time": "2024-08-07T09:57:32.943Z"
   },
   {
    "duration": 9,
    "start_time": "2024-08-07T09:57:32.962Z"
   },
   {
    "duration": 17,
    "start_time": "2024-08-07T09:57:32.973Z"
   },
   {
    "duration": 24,
    "start_time": "2024-08-07T09:57:32.991Z"
   },
   {
    "duration": 16,
    "start_time": "2024-08-07T09:57:33.017Z"
   },
   {
    "duration": 19,
    "start_time": "2024-08-07T09:57:33.035Z"
   },
   {
    "duration": 14,
    "start_time": "2024-08-07T09:57:33.055Z"
   },
   {
    "duration": 11,
    "start_time": "2024-08-07T09:57:33.071Z"
   },
   {
    "duration": 37,
    "start_time": "2024-08-07T09:57:33.083Z"
   },
   {
    "duration": 7,
    "start_time": "2024-08-07T09:57:33.121Z"
   },
   {
    "duration": 19,
    "start_time": "2024-08-07T09:57:33.130Z"
   },
   {
    "duration": 8,
    "start_time": "2024-08-07T09:57:33.153Z"
   },
   {
    "duration": 19,
    "start_time": "2024-08-07T09:57:33.163Z"
   },
   {
    "duration": 14,
    "start_time": "2024-08-07T09:57:33.184Z"
   },
   {
    "duration": 19,
    "start_time": "2024-08-07T09:57:33.200Z"
   },
   {
    "duration": 17,
    "start_time": "2024-08-07T09:57:33.220Z"
   },
   {
    "duration": 13,
    "start_time": "2024-08-07T09:57:33.240Z"
   },
   {
    "duration": 7,
    "start_time": "2024-08-07T09:57:33.255Z"
   },
   {
    "duration": 14,
    "start_time": "2024-08-07T09:57:33.264Z"
   },
   {
    "duration": 205,
    "start_time": "2024-08-07T09:57:33.280Z"
   },
   {
    "duration": 142,
    "start_time": "2024-08-07T09:57:33.487Z"
   },
   {
    "duration": 158,
    "start_time": "2024-08-07T09:57:33.630Z"
   },
   {
    "duration": 271,
    "start_time": "2024-08-07T09:57:33.790Z"
   },
   {
    "duration": 4,
    "start_time": "2024-08-07T09:57:34.063Z"
   },
   {
    "duration": 264,
    "start_time": "2024-08-07T09:57:34.068Z"
   },
   {
    "duration": 4,
    "start_time": "2024-08-07T09:57:34.333Z"
   },
   {
    "duration": 44,
    "start_time": "2024-08-07T09:57:34.338Z"
   },
   {
    "duration": 33,
    "start_time": "2024-08-07T09:57:34.383Z"
   },
   {
    "duration": 21,
    "start_time": "2024-08-07T09:57:34.417Z"
   },
   {
    "duration": 272,
    "start_time": "2024-08-07T09:57:34.440Z"
   },
   {
    "duration": 1232,
    "start_time": "2024-08-07T09:57:34.713Z"
   },
   {
    "duration": 14,
    "start_time": "2024-08-07T09:58:50.476Z"
   },
   {
    "duration": 15,
    "start_time": "2024-08-07T09:59:02.724Z"
   },
   {
    "duration": 19,
    "start_time": "2024-08-07T09:59:17.676Z"
   },
   {
    "duration": 15,
    "start_time": "2024-08-07T09:59:24.341Z"
   },
   {
    "duration": 1121,
    "start_time": "2024-08-07T09:59:30.578Z"
   },
   {
    "duration": 112,
    "start_time": "2024-08-07T09:59:31.702Z"
   },
   {
    "duration": 18,
    "start_time": "2024-08-07T09:59:31.816Z"
   },
   {
    "duration": 51,
    "start_time": "2024-08-07T09:59:31.836Z"
   },
   {
    "duration": 48,
    "start_time": "2024-08-07T09:59:31.889Z"
   },
   {
    "duration": 14,
    "start_time": "2024-08-07T09:59:31.939Z"
   },
   {
    "duration": 10,
    "start_time": "2024-08-07T09:59:31.955Z"
   },
   {
    "duration": 32,
    "start_time": "2024-08-07T09:59:31.967Z"
   },
   {
    "duration": 12,
    "start_time": "2024-08-07T09:59:32.001Z"
   },
   {
    "duration": 26,
    "start_time": "2024-08-07T09:59:32.015Z"
   },
   {
    "duration": 49,
    "start_time": "2024-08-07T09:59:32.042Z"
   },
   {
    "duration": 7,
    "start_time": "2024-08-07T09:59:32.093Z"
   },
   {
    "duration": 36,
    "start_time": "2024-08-07T09:59:32.102Z"
   },
   {
    "duration": 17,
    "start_time": "2024-08-07T09:59:32.140Z"
   },
   {
    "duration": 42,
    "start_time": "2024-08-07T09:59:32.159Z"
   },
   {
    "duration": 7,
    "start_time": "2024-08-07T09:59:32.203Z"
   },
   {
    "duration": 7,
    "start_time": "2024-08-07T09:59:32.211Z"
   },
   {
    "duration": 17,
    "start_time": "2024-08-07T09:59:32.220Z"
   },
   {
    "duration": 10,
    "start_time": "2024-08-07T09:59:32.239Z"
   },
   {
    "duration": 11,
    "start_time": "2024-08-07T09:59:32.251Z"
   },
   {
    "duration": 13,
    "start_time": "2024-08-07T09:59:32.264Z"
   },
   {
    "duration": 184,
    "start_time": "2024-08-07T09:59:32.279Z"
   },
   {
    "duration": 150,
    "start_time": "2024-08-07T09:59:32.465Z"
   },
   {
    "duration": 173,
    "start_time": "2024-08-07T09:59:32.618Z"
   },
   {
    "duration": 321,
    "start_time": "2024-08-07T09:59:32.793Z"
   },
   {
    "duration": 4,
    "start_time": "2024-08-07T09:59:33.117Z"
   },
   {
    "duration": 273,
    "start_time": "2024-08-07T09:59:33.123Z"
   },
   {
    "duration": 4,
    "start_time": "2024-08-07T09:59:33.397Z"
   },
   {
    "duration": 38,
    "start_time": "2024-08-07T09:59:33.402Z"
   },
   {
    "duration": 20,
    "start_time": "2024-08-07T09:59:33.442Z"
   },
   {
    "duration": 21,
    "start_time": "2024-08-07T09:59:33.463Z"
   },
   {
    "duration": 284,
    "start_time": "2024-08-07T09:59:33.486Z"
   },
   {
    "duration": 1470,
    "start_time": "2024-08-07T09:59:33.771Z"
   },
   {
    "duration": 15,
    "start_time": "2024-08-07T09:59:48.593Z"
   },
   {
    "duration": 1064,
    "start_time": "2024-08-07T09:59:52.924Z"
   },
   {
    "duration": 127,
    "start_time": "2024-08-07T09:59:53.990Z"
   },
   {
    "duration": 22,
    "start_time": "2024-08-07T09:59:54.119Z"
   },
   {
    "duration": 26,
    "start_time": "2024-08-07T09:59:54.143Z"
   },
   {
    "duration": 24,
    "start_time": "2024-08-07T09:59:54.171Z"
   },
   {
    "duration": 13,
    "start_time": "2024-08-07T09:59:54.197Z"
   },
   {
    "duration": 14,
    "start_time": "2024-08-07T09:59:54.211Z"
   },
   {
    "duration": 17,
    "start_time": "2024-08-07T09:59:54.227Z"
   },
   {
    "duration": 13,
    "start_time": "2024-08-07T09:59:54.245Z"
   },
   {
    "duration": 23,
    "start_time": "2024-08-07T09:59:54.261Z"
   },
   {
    "duration": 16,
    "start_time": "2024-08-07T09:59:54.285Z"
   },
   {
    "duration": 16,
    "start_time": "2024-08-07T09:59:54.303Z"
   },
   {
    "duration": 18,
    "start_time": "2024-08-07T09:59:54.321Z"
   },
   {
    "duration": 6,
    "start_time": "2024-08-07T09:59:54.341Z"
   },
   {
    "duration": 26,
    "start_time": "2024-08-07T09:59:54.349Z"
   },
   {
    "duration": 29,
    "start_time": "2024-08-07T09:59:54.376Z"
   },
   {
    "duration": 17,
    "start_time": "2024-08-07T09:59:54.407Z"
   },
   {
    "duration": 52,
    "start_time": "2024-08-07T09:59:54.425Z"
   },
   {
    "duration": 10,
    "start_time": "2024-08-07T09:59:54.479Z"
   },
   {
    "duration": 19,
    "start_time": "2024-08-07T09:59:54.491Z"
   },
   {
    "duration": 17,
    "start_time": "2024-08-07T09:59:54.512Z"
   },
   {
    "duration": 175,
    "start_time": "2024-08-07T09:59:54.531Z"
   },
   {
    "duration": 147,
    "start_time": "2024-08-07T09:59:54.708Z"
   },
   {
    "duration": 163,
    "start_time": "2024-08-07T09:59:54.856Z"
   },
   {
    "duration": 284,
    "start_time": "2024-08-07T09:59:55.021Z"
   },
   {
    "duration": 10,
    "start_time": "2024-08-07T09:59:55.307Z"
   },
   {
    "duration": 283,
    "start_time": "2024-08-07T09:59:55.319Z"
   },
   {
    "duration": 13,
    "start_time": "2024-08-07T09:59:55.606Z"
   },
   {
    "duration": 37,
    "start_time": "2024-08-07T09:59:55.620Z"
   },
   {
    "duration": 24,
    "start_time": "2024-08-07T09:59:55.659Z"
   },
   {
    "duration": 47,
    "start_time": "2024-08-07T09:59:55.684Z"
   },
   {
    "duration": 259,
    "start_time": "2024-08-07T09:59:55.733Z"
   },
   {
    "duration": 1201,
    "start_time": "2024-08-07T09:59:55.994Z"
   },
   {
    "duration": 1091,
    "start_time": "2024-08-07T10:01:41.073Z"
   },
   {
    "duration": 103,
    "start_time": "2024-08-07T10:01:42.165Z"
   },
   {
    "duration": 15,
    "start_time": "2024-08-07T10:01:42.269Z"
   },
   {
    "duration": 7,
    "start_time": "2024-08-07T10:01:42.286Z"
   },
   {
    "duration": 18,
    "start_time": "2024-08-07T10:01:42.295Z"
   },
   {
    "duration": 6,
    "start_time": "2024-08-07T10:01:42.315Z"
   },
   {
    "duration": 16,
    "start_time": "2024-08-07T10:01:42.322Z"
   },
   {
    "duration": 29,
    "start_time": "2024-08-07T10:01:42.340Z"
   },
   {
    "duration": 12,
    "start_time": "2024-08-07T10:01:42.371Z"
   },
   {
    "duration": 10,
    "start_time": "2024-08-07T10:01:42.384Z"
   },
   {
    "duration": 29,
    "start_time": "2024-08-07T10:01:42.395Z"
   },
   {
    "duration": 6,
    "start_time": "2024-08-07T10:01:42.426Z"
   },
   {
    "duration": 8,
    "start_time": "2024-08-07T10:01:42.434Z"
   },
   {
    "duration": 6,
    "start_time": "2024-08-07T10:01:42.445Z"
   },
   {
    "duration": 10,
    "start_time": "2024-08-07T10:01:42.452Z"
   },
   {
    "duration": 13,
    "start_time": "2024-08-07T10:01:42.464Z"
   },
   {
    "duration": 6,
    "start_time": "2024-08-07T10:01:42.479Z"
   },
   {
    "duration": 15,
    "start_time": "2024-08-07T10:01:42.519Z"
   },
   {
    "duration": 11,
    "start_time": "2024-08-07T10:01:42.536Z"
   },
   {
    "duration": 12,
    "start_time": "2024-08-07T10:01:42.549Z"
   },
   {
    "duration": 15,
    "start_time": "2024-08-07T10:01:42.563Z"
   },
   {
    "duration": 198,
    "start_time": "2024-08-07T10:01:42.580Z"
   },
   {
    "duration": 150,
    "start_time": "2024-08-07T10:01:42.780Z"
   },
   {
    "duration": 188,
    "start_time": "2024-08-07T10:01:42.932Z"
   },
   {
    "duration": 304,
    "start_time": "2024-08-07T10:01:43.122Z"
   },
   {
    "duration": 5,
    "start_time": "2024-08-07T10:01:43.427Z"
   },
   {
    "duration": 282,
    "start_time": "2024-08-07T10:01:43.433Z"
   },
   {
    "duration": 5,
    "start_time": "2024-08-07T10:01:43.717Z"
   },
   {
    "duration": 26,
    "start_time": "2024-08-07T10:01:43.723Z"
   },
   {
    "duration": 21,
    "start_time": "2024-08-07T10:01:43.751Z"
   },
   {
    "duration": 46,
    "start_time": "2024-08-07T10:01:43.773Z"
   },
   {
    "duration": 286,
    "start_time": "2024-08-07T10:01:43.821Z"
   },
   {
    "duration": 1262,
    "start_time": "2024-08-07T10:01:44.109Z"
   },
   {
    "duration": 15,
    "start_time": "2024-08-07T10:04:59.422Z"
   },
   {
    "duration": 1059,
    "start_time": "2024-08-07T10:05:05.978Z"
   },
   {
    "duration": 125,
    "start_time": "2024-08-07T10:05:07.039Z"
   },
   {
    "duration": 16,
    "start_time": "2024-08-07T10:05:07.166Z"
   },
   {
    "duration": 8,
    "start_time": "2024-08-07T10:05:07.184Z"
   },
   {
    "duration": 11,
    "start_time": "2024-08-07T10:05:07.195Z"
   },
   {
    "duration": 41,
    "start_time": "2024-08-07T10:05:07.208Z"
   },
   {
    "duration": 23,
    "start_time": "2024-08-07T10:05:07.251Z"
   },
   {
    "duration": 14,
    "start_time": "2024-08-07T10:05:07.275Z"
   },
   {
    "duration": 12,
    "start_time": "2024-08-07T10:05:07.290Z"
   },
   {
    "duration": 8,
    "start_time": "2024-08-07T10:05:07.304Z"
   },
   {
    "duration": 15,
    "start_time": "2024-08-07T10:05:07.314Z"
   },
   {
    "duration": 7,
    "start_time": "2024-08-07T10:05:07.330Z"
   },
   {
    "duration": 31,
    "start_time": "2024-08-07T10:05:07.339Z"
   },
   {
    "duration": 34,
    "start_time": "2024-08-07T10:05:07.373Z"
   },
   {
    "duration": 14,
    "start_time": "2024-08-07T10:05:07.409Z"
   },
   {
    "duration": 6,
    "start_time": "2024-08-07T10:05:07.424Z"
   },
   {
    "duration": 5,
    "start_time": "2024-08-07T10:05:07.431Z"
   },
   {
    "duration": 16,
    "start_time": "2024-08-07T10:05:07.437Z"
   },
   {
    "duration": 11,
    "start_time": "2024-08-07T10:05:07.454Z"
   },
   {
    "duration": 8,
    "start_time": "2024-08-07T10:05:07.466Z"
   },
   {
    "duration": 50,
    "start_time": "2024-08-07T10:05:07.475Z"
   },
   {
    "duration": 177,
    "start_time": "2024-08-07T10:05:07.527Z"
   },
   {
    "duration": 142,
    "start_time": "2024-08-07T10:05:07.706Z"
   },
   {
    "duration": 172,
    "start_time": "2024-08-07T10:05:07.849Z"
   },
   {
    "duration": 285,
    "start_time": "2024-08-07T10:05:08.023Z"
   },
   {
    "duration": 11,
    "start_time": "2024-08-07T10:05:08.309Z"
   },
   {
    "duration": 286,
    "start_time": "2024-08-07T10:05:08.322Z"
   },
   {
    "duration": 5,
    "start_time": "2024-08-07T10:05:08.609Z"
   },
   {
    "duration": 29,
    "start_time": "2024-08-07T10:05:08.618Z"
   },
   {
    "duration": 20,
    "start_time": "2024-08-07T10:05:08.649Z"
   },
   {
    "duration": 21,
    "start_time": "2024-08-07T10:05:08.671Z"
   },
   {
    "duration": 291,
    "start_time": "2024-08-07T10:05:08.694Z"
   },
   {
    "duration": 1256,
    "start_time": "2024-08-07T10:05:08.987Z"
   },
   {
    "duration": 1035,
    "start_time": "2024-08-07T10:05:21.014Z"
   },
   {
    "duration": 114,
    "start_time": "2024-08-07T10:05:22.052Z"
   },
   {
    "duration": 16,
    "start_time": "2024-08-07T10:05:22.168Z"
   },
   {
    "duration": 25,
    "start_time": "2024-08-07T10:05:22.185Z"
   },
   {
    "duration": 16,
    "start_time": "2024-08-07T10:05:22.213Z"
   },
   {
    "duration": 9,
    "start_time": "2024-08-07T10:05:22.230Z"
   },
   {
    "duration": 10,
    "start_time": "2024-08-07T10:05:22.241Z"
   },
   {
    "duration": 21,
    "start_time": "2024-08-07T10:05:22.252Z"
   },
   {
    "duration": 24,
    "start_time": "2024-08-07T10:05:22.275Z"
   },
   {
    "duration": 10,
    "start_time": "2024-08-07T10:05:22.301Z"
   },
   {
    "duration": 15,
    "start_time": "2024-08-07T10:05:22.313Z"
   },
   {
    "duration": 6,
    "start_time": "2024-08-07T10:05:22.330Z"
   },
   {
    "duration": 9,
    "start_time": "2024-08-07T10:05:22.338Z"
   },
   {
    "duration": 6,
    "start_time": "2024-08-07T10:05:22.350Z"
   },
   {
    "duration": 11,
    "start_time": "2024-08-07T10:05:22.358Z"
   },
   {
    "duration": 6,
    "start_time": "2024-08-07T10:05:22.371Z"
   },
   {
    "duration": 40,
    "start_time": "2024-08-07T10:05:22.379Z"
   },
   {
    "duration": 20,
    "start_time": "2024-08-07T10:05:22.421Z"
   },
   {
    "duration": 12,
    "start_time": "2024-08-07T10:05:22.443Z"
   },
   {
    "duration": 7,
    "start_time": "2024-08-07T10:05:22.457Z"
   },
   {
    "duration": 19,
    "start_time": "2024-08-07T10:05:22.465Z"
   },
   {
    "duration": 195,
    "start_time": "2024-08-07T10:05:22.486Z"
   },
   {
    "duration": 143,
    "start_time": "2024-08-07T10:05:22.682Z"
   },
   {
    "duration": 164,
    "start_time": "2024-08-07T10:05:22.827Z"
   },
   {
    "duration": 303,
    "start_time": "2024-08-07T10:05:22.993Z"
   },
   {
    "duration": 4,
    "start_time": "2024-08-07T10:05:23.298Z"
   },
   {
    "duration": 277,
    "start_time": "2024-08-07T10:05:23.303Z"
   },
   {
    "duration": 4,
    "start_time": "2024-08-07T10:05:23.581Z"
   },
   {
    "duration": 39,
    "start_time": "2024-08-07T10:05:23.587Z"
   },
   {
    "duration": 30,
    "start_time": "2024-08-07T10:05:23.627Z"
   },
   {
    "duration": 21,
    "start_time": "2024-08-07T10:05:23.659Z"
   },
   {
    "duration": 278,
    "start_time": "2024-08-07T10:05:23.682Z"
   },
   {
    "duration": 2498,
    "start_time": "2024-08-07T10:05:23.962Z"
   },
   {
    "duration": 325,
    "start_time": "2024-08-07T10:05:42.667Z"
   },
   {
    "duration": 4,
    "start_time": "2024-08-07T10:06:19.571Z"
   },
   {
    "duration": 222,
    "start_time": "2024-08-07T10:06:50.891Z"
   },
   {
    "duration": 244,
    "start_time": "2024-08-07T10:07:49.420Z"
   },
   {
    "duration": 52,
    "start_time": "2024-08-07T16:03:56.546Z"
   },
   {
    "duration": 1344,
    "start_time": "2024-08-07T16:04:20.653Z"
   },
   {
    "duration": 508,
    "start_time": "2024-08-07T16:04:22.000Z"
   },
   {
    "duration": 26,
    "start_time": "2024-08-07T16:04:22.513Z"
   },
   {
    "duration": 12,
    "start_time": "2024-08-07T16:04:22.542Z"
   },
   {
    "duration": 21,
    "start_time": "2024-08-07T16:04:22.556Z"
   },
   {
    "duration": 17,
    "start_time": "2024-08-07T16:04:22.580Z"
   },
   {
    "duration": 17,
    "start_time": "2024-08-07T16:04:22.599Z"
   },
   {
    "duration": 18,
    "start_time": "2024-08-07T16:04:22.618Z"
   },
   {
    "duration": 14,
    "start_time": "2024-08-07T16:04:22.638Z"
   },
   {
    "duration": 17,
    "start_time": "2024-08-07T16:04:22.655Z"
   },
   {
    "duration": 19,
    "start_time": "2024-08-07T16:04:22.674Z"
   },
   {
    "duration": 9,
    "start_time": "2024-08-07T16:04:22.695Z"
   },
   {
    "duration": 12,
    "start_time": "2024-08-07T16:04:22.708Z"
   },
   {
    "duration": 6,
    "start_time": "2024-08-07T16:04:22.722Z"
   },
   {
    "duration": 34,
    "start_time": "2024-08-07T16:04:22.730Z"
   },
   {
    "duration": 29,
    "start_time": "2024-08-07T16:04:22.765Z"
   },
   {
    "duration": 41,
    "start_time": "2024-08-07T16:04:22.796Z"
   },
   {
    "duration": 23,
    "start_time": "2024-08-07T16:04:22.839Z"
   },
   {
    "duration": 28,
    "start_time": "2024-08-07T16:04:22.863Z"
   },
   {
    "duration": 24,
    "start_time": "2024-08-07T16:04:22.893Z"
   },
   {
    "duration": 34,
    "start_time": "2024-08-07T16:04:22.918Z"
   },
   {
    "duration": 185,
    "start_time": "2024-08-07T16:04:22.953Z"
   },
   {
    "duration": 161,
    "start_time": "2024-08-07T16:04:23.140Z"
   },
   {
    "duration": 175,
    "start_time": "2024-08-07T16:04:23.302Z"
   },
   {
    "duration": 300,
    "start_time": "2024-08-07T16:04:23.479Z"
   },
   {
    "duration": 6,
    "start_time": "2024-08-07T16:04:23.781Z"
   },
   {
    "duration": 296,
    "start_time": "2024-08-07T16:04:23.789Z"
   },
   {
    "duration": 4,
    "start_time": "2024-08-07T16:04:24.087Z"
   },
   {
    "duration": 44,
    "start_time": "2024-08-07T16:04:24.093Z"
   },
   {
    "duration": 31,
    "start_time": "2024-08-07T16:04:24.139Z"
   },
   {
    "duration": 21,
    "start_time": "2024-08-07T16:04:24.171Z"
   },
   {
    "duration": 285,
    "start_time": "2024-08-07T16:04:24.193Z"
   },
   {
    "duration": 325,
    "start_time": "2024-08-07T16:04:24.480Z"
   },
   {
    "duration": 235,
    "start_time": "2024-08-07T16:04:24.807Z"
   },
   {
    "duration": 5,
    "start_time": "2024-08-07T16:04:25.044Z"
   },
   {
    "duration": 339,
    "start_time": "2024-08-07T16:04:25.055Z"
   },
   {
    "duration": 285,
    "start_time": "2024-08-07T16:04:25.395Z"
   },
   {
    "duration": 275,
    "start_time": "2024-08-07T16:07:37.228Z"
   },
   {
    "duration": 273,
    "start_time": "2024-08-07T16:08:03.118Z"
   },
   {
    "duration": 347,
    "start_time": "2024-08-07T16:08:24.537Z"
   },
   {
    "duration": 251,
    "start_time": "2024-08-07T16:08:26.630Z"
   },
   {
    "duration": 258,
    "start_time": "2024-08-07T16:09:08.036Z"
   },
   {
    "duration": 277,
    "start_time": "2024-08-07T16:09:24.047Z"
   },
   {
    "duration": 277,
    "start_time": "2024-08-07T16:10:07.799Z"
   },
   {
    "duration": 233,
    "start_time": "2024-08-07T16:32:56.547Z"
   },
   {
    "duration": 303,
    "start_time": "2024-08-07T16:33:04.307Z"
   },
   {
    "duration": 204,
    "start_time": "2024-08-07T16:33:09.992Z"
   },
   {
    "duration": 195,
    "start_time": "2024-08-07T16:33:25.185Z"
   },
   {
    "duration": 9,
    "start_time": "2024-08-07T16:33:57.506Z"
   },
   {
    "duration": 5,
    "start_time": "2024-08-07T16:34:07.608Z"
   },
   {
    "duration": 81,
    "start_time": "2024-08-07T16:44:40.657Z"
   },
   {
    "duration": 24,
    "start_time": "2024-08-07T16:44:47.815Z"
   },
   {
    "duration": 18,
    "start_time": "2024-08-07T16:45:08.954Z"
   },
   {
    "duration": 24,
    "start_time": "2024-08-07T16:45:18.423Z"
   },
   {
    "duration": 6,
    "start_time": "2024-08-07T16:45:41.946Z"
   },
   {
    "duration": 6,
    "start_time": "2024-08-07T16:45:45.067Z"
   },
   {
    "duration": 23,
    "start_time": "2024-08-07T16:45:49.642Z"
   },
   {
    "duration": 1077,
    "start_time": "2024-08-07T16:52:28.318Z"
   },
   {
    "duration": 110,
    "start_time": "2024-08-07T16:52:29.397Z"
   },
   {
    "duration": 16,
    "start_time": "2024-08-07T16:52:29.508Z"
   },
   {
    "duration": 51,
    "start_time": "2024-08-07T16:52:29.526Z"
   },
   {
    "duration": 12,
    "start_time": "2024-08-07T16:52:29.580Z"
   },
   {
    "duration": 12,
    "start_time": "2024-08-07T16:52:29.594Z"
   },
   {
    "duration": 11,
    "start_time": "2024-08-07T16:52:29.608Z"
   },
   {
    "duration": 13,
    "start_time": "2024-08-07T16:52:29.621Z"
   },
   {
    "duration": 24,
    "start_time": "2024-08-07T16:52:29.636Z"
   },
   {
    "duration": 9,
    "start_time": "2024-08-07T16:52:29.662Z"
   },
   {
    "duration": 12,
    "start_time": "2024-08-07T16:52:29.673Z"
   },
   {
    "duration": 14,
    "start_time": "2024-08-07T16:52:29.687Z"
   },
   {
    "duration": 21,
    "start_time": "2024-08-07T16:52:29.703Z"
   },
   {
    "duration": 7,
    "start_time": "2024-08-07T16:52:29.727Z"
   },
   {
    "duration": 12,
    "start_time": "2024-08-07T16:52:29.755Z"
   },
   {
    "duration": 17,
    "start_time": "2024-08-07T16:52:29.769Z"
   },
   {
    "duration": 7,
    "start_time": "2024-08-07T16:52:29.788Z"
   },
   {
    "duration": 18,
    "start_time": "2024-08-07T16:52:29.797Z"
   },
   {
    "duration": 12,
    "start_time": "2024-08-07T16:52:29.817Z"
   },
   {
    "duration": 9,
    "start_time": "2024-08-07T16:52:29.855Z"
   },
   {
    "duration": 179,
    "start_time": "2024-08-07T16:52:29.866Z"
   },
   {
    "duration": 151,
    "start_time": "2024-08-07T16:52:30.047Z"
   },
   {
    "duration": 174,
    "start_time": "2024-08-07T16:52:30.200Z"
   },
   {
    "duration": 303,
    "start_time": "2024-08-07T16:52:30.376Z"
   },
   {
    "duration": 5,
    "start_time": "2024-08-07T16:52:30.680Z"
   },
   {
    "duration": 313,
    "start_time": "2024-08-07T16:52:30.687Z"
   },
   {
    "duration": 5,
    "start_time": "2024-08-07T16:52:31.002Z"
   },
   {
    "duration": 79,
    "start_time": "2024-08-07T16:52:31.009Z"
   },
   {
    "duration": 50,
    "start_time": "2024-08-07T16:52:31.090Z"
   },
   {
    "duration": 62,
    "start_time": "2024-08-07T16:52:31.142Z"
   },
   {
    "duration": 318,
    "start_time": "2024-08-07T16:52:31.206Z"
   },
   {
    "duration": 392,
    "start_time": "2024-08-07T16:52:31.526Z"
   },
   {
    "duration": 273,
    "start_time": "2024-08-07T16:52:31.919Z"
   },
   {
    "duration": 5,
    "start_time": "2024-08-07T16:52:32.194Z"
   },
   {
    "duration": 304,
    "start_time": "2024-08-07T16:52:32.200Z"
   },
   {
    "duration": 281,
    "start_time": "2024-08-07T16:52:32.506Z"
   },
   {
    "duration": 115,
    "start_time": "2024-08-07T16:52:32.789Z"
   },
   {
    "duration": 4,
    "start_time": "2024-08-07T16:56:09.252Z"
   },
   {
    "duration": 39,
    "start_time": "2024-08-07T17:01:24.818Z"
   },
   {
    "duration": 78,
    "start_time": "2024-08-07T17:03:12.496Z"
   },
   {
    "duration": 69,
    "start_time": "2024-08-07T17:03:26.074Z"
   },
   {
    "duration": 95,
    "start_time": "2024-08-07T17:03:51.331Z"
   },
   {
    "duration": 66,
    "start_time": "2024-08-07T17:04:15.912Z"
   },
   {
    "duration": 65,
    "start_time": "2024-08-07T17:04:25.962Z"
   },
   {
    "duration": 68,
    "start_time": "2024-08-07T17:04:59.496Z"
   },
   {
    "duration": 67,
    "start_time": "2024-08-07T17:05:07.031Z"
   },
   {
    "duration": 66,
    "start_time": "2024-08-07T17:05:29.127Z"
   },
   {
    "duration": 62,
    "start_time": "2024-08-07T17:05:37.890Z"
   },
   {
    "duration": 62,
    "start_time": "2024-08-07T17:07:28.412Z"
   },
   {
    "duration": 84,
    "start_time": "2024-08-07T17:07:33.426Z"
   },
   {
    "duration": 71,
    "start_time": "2024-08-07T17:08:38.918Z"
   },
   {
    "duration": 26,
    "start_time": "2024-08-07T17:09:03.227Z"
   },
   {
    "duration": 42,
    "start_time": "2024-08-07T17:09:51.688Z"
   },
   {
    "duration": 21,
    "start_time": "2024-08-07T17:11:21.294Z"
   },
   {
    "duration": 43,
    "start_time": "2024-08-07T17:11:32.663Z"
   },
   {
    "duration": 46,
    "start_time": "2024-08-07T17:12:06.222Z"
   },
   {
    "duration": 65,
    "start_time": "2024-08-07T17:14:27.943Z"
   },
   {
    "duration": 41,
    "start_time": "2024-08-07T17:16:00.286Z"
   },
   {
    "duration": 22,
    "start_time": "2024-08-07T17:18:39.758Z"
   },
   {
    "duration": 15,
    "start_time": "2024-08-07T17:18:59.567Z"
   },
   {
    "duration": 929,
    "start_time": "2024-08-07T17:19:06.017Z"
   },
   {
    "duration": 99,
    "start_time": "2024-08-07T17:19:35.489Z"
   },
   {
    "duration": 83,
    "start_time": "2024-08-07T17:20:02.833Z"
   },
   {
    "duration": 117,
    "start_time": "2024-08-07T17:20:15.072Z"
   },
   {
    "duration": 105,
    "start_time": "2024-08-07T17:20:33.758Z"
   },
   {
    "duration": 9,
    "start_time": "2024-08-07T17:21:04.720Z"
   },
   {
    "duration": 9,
    "start_time": "2024-08-07T17:21:11.214Z"
   },
   {
    "duration": 32,
    "start_time": "2024-08-07T17:21:16.296Z"
   },
   {
    "duration": 28,
    "start_time": "2024-08-07T17:21:36.012Z"
   },
   {
    "duration": 27,
    "start_time": "2024-08-07T17:21:58.761Z"
   },
   {
    "duration": 68,
    "start_time": "2024-08-07T17:24:36.353Z"
   },
   {
    "duration": 28,
    "start_time": "2024-08-07T17:24:52.732Z"
   },
   {
    "duration": 45,
    "start_time": "2024-08-07T17:26:02.336Z"
   },
   {
    "duration": 32,
    "start_time": "2024-08-07T17:26:12.061Z"
   },
   {
    "duration": 32,
    "start_time": "2024-08-07T17:29:48.756Z"
   },
   {
    "duration": 69,
    "start_time": "2024-08-07T17:36:22.563Z"
   },
   {
    "duration": 68,
    "start_time": "2024-08-07T17:37:27.130Z"
   },
   {
    "duration": 89,
    "start_time": "2024-08-07T17:37:42.750Z"
   },
   {
    "duration": 1064,
    "start_time": "2024-08-07T17:37:50.809Z"
   },
   {
    "duration": 130,
    "start_time": "2024-08-07T17:37:51.875Z"
   },
   {
    "duration": 18,
    "start_time": "2024-08-07T17:37:52.007Z"
   },
   {
    "duration": 8,
    "start_time": "2024-08-07T17:37:52.027Z"
   },
   {
    "duration": 33,
    "start_time": "2024-08-07T17:37:52.037Z"
   },
   {
    "duration": 16,
    "start_time": "2024-08-07T17:37:52.072Z"
   },
   {
    "duration": 15,
    "start_time": "2024-08-07T17:37:52.089Z"
   },
   {
    "duration": 34,
    "start_time": "2024-08-07T17:37:52.105Z"
   },
   {
    "duration": 20,
    "start_time": "2024-08-07T17:37:52.141Z"
   },
   {
    "duration": 11,
    "start_time": "2024-08-07T17:37:52.163Z"
   },
   {
    "duration": 24,
    "start_time": "2024-08-07T17:37:52.176Z"
   },
   {
    "duration": 8,
    "start_time": "2024-08-07T17:37:52.201Z"
   },
   {
    "duration": 13,
    "start_time": "2024-08-07T17:37:52.211Z"
   },
   {
    "duration": 14,
    "start_time": "2024-08-07T17:37:52.228Z"
   },
   {
    "duration": 26,
    "start_time": "2024-08-07T17:37:52.243Z"
   },
   {
    "duration": 6,
    "start_time": "2024-08-07T17:37:52.271Z"
   },
   {
    "duration": 5,
    "start_time": "2024-08-07T17:37:52.279Z"
   },
   {
    "duration": 16,
    "start_time": "2024-08-07T17:37:52.286Z"
   },
   {
    "duration": 12,
    "start_time": "2024-08-07T17:37:52.303Z"
   },
   {
    "duration": 9,
    "start_time": "2024-08-07T17:37:52.316Z"
   },
   {
    "duration": 198,
    "start_time": "2024-08-07T17:37:52.326Z"
   },
   {
    "duration": 153,
    "start_time": "2024-08-07T17:37:52.525Z"
   },
   {
    "duration": 166,
    "start_time": "2024-08-07T17:37:52.680Z"
   },
   {
    "duration": 293,
    "start_time": "2024-08-07T17:37:52.848Z"
   },
   {
    "duration": 6,
    "start_time": "2024-08-07T17:37:53.143Z"
   },
   {
    "duration": 286,
    "start_time": "2024-08-07T17:37:53.156Z"
   },
   {
    "duration": 6,
    "start_time": "2024-08-07T17:37:53.455Z"
   },
   {
    "duration": 64,
    "start_time": "2024-08-07T17:37:53.462Z"
   },
   {
    "duration": 0,
    "start_time": "2024-08-07T17:37:53.528Z"
   },
   {
    "duration": 0,
    "start_time": "2024-08-07T17:37:53.530Z"
   },
   {
    "duration": 1,
    "start_time": "2024-08-07T17:37:53.531Z"
   },
   {
    "duration": 0,
    "start_time": "2024-08-07T17:37:53.533Z"
   },
   {
    "duration": 0,
    "start_time": "2024-08-07T17:37:53.535Z"
   },
   {
    "duration": 0,
    "start_time": "2024-08-07T17:37:53.537Z"
   },
   {
    "duration": 0,
    "start_time": "2024-08-07T17:37:53.538Z"
   },
   {
    "duration": 0,
    "start_time": "2024-08-07T17:37:53.540Z"
   },
   {
    "duration": 0,
    "start_time": "2024-08-07T17:37:53.542Z"
   },
   {
    "duration": 1,
    "start_time": "2024-08-07T17:37:53.543Z"
   },
   {
    "duration": 0,
    "start_time": "2024-08-07T17:37:53.545Z"
   },
   {
    "duration": 109,
    "start_time": "2024-08-07T17:40:45.556Z"
   },
   {
    "duration": 25,
    "start_time": "2024-08-07T17:40:56.460Z"
   },
   {
    "duration": 32,
    "start_time": "2024-08-07T17:43:41.952Z"
   },
   {
    "duration": 1114,
    "start_time": "2024-08-07T17:43:58.314Z"
   },
   {
    "duration": 127,
    "start_time": "2024-08-07T17:43:59.430Z"
   },
   {
    "duration": 18,
    "start_time": "2024-08-07T17:43:59.559Z"
   },
   {
    "duration": 9,
    "start_time": "2024-08-07T17:43:59.579Z"
   },
   {
    "duration": 23,
    "start_time": "2024-08-07T17:43:59.590Z"
   },
   {
    "duration": 10,
    "start_time": "2024-08-07T17:43:59.615Z"
   },
   {
    "duration": 9,
    "start_time": "2024-08-07T17:43:59.627Z"
   },
   {
    "duration": 15,
    "start_time": "2024-08-07T17:43:59.655Z"
   },
   {
    "duration": 149,
    "start_time": "2024-08-07T17:43:59.671Z"
   },
   {
    "duration": 13,
    "start_time": "2024-08-07T17:43:59.821Z"
   },
   {
    "duration": 23,
    "start_time": "2024-08-07T17:43:59.836Z"
   },
   {
    "duration": 19,
    "start_time": "2024-08-07T17:43:59.860Z"
   },
   {
    "duration": 19,
    "start_time": "2024-08-07T17:43:59.881Z"
   },
   {
    "duration": 14,
    "start_time": "2024-08-07T17:43:59.903Z"
   },
   {
    "duration": 24,
    "start_time": "2024-08-07T17:43:59.918Z"
   },
   {
    "duration": 15,
    "start_time": "2024-08-07T17:43:59.944Z"
   },
   {
    "duration": 7,
    "start_time": "2024-08-07T17:43:59.960Z"
   },
   {
    "duration": 17,
    "start_time": "2024-08-07T17:43:59.968Z"
   },
   {
    "duration": 12,
    "start_time": "2024-08-07T17:43:59.986Z"
   },
   {
    "duration": 9,
    "start_time": "2024-08-07T17:44:00.000Z"
   },
   {
    "duration": 215,
    "start_time": "2024-08-07T17:44:00.011Z"
   },
   {
    "duration": 171,
    "start_time": "2024-08-07T17:44:00.228Z"
   },
   {
    "duration": 175,
    "start_time": "2024-08-07T17:44:00.401Z"
   },
   {
    "duration": 296,
    "start_time": "2024-08-07T17:44:00.578Z"
   },
   {
    "duration": 5,
    "start_time": "2024-08-07T17:44:00.877Z"
   },
   {
    "duration": 321,
    "start_time": "2024-08-07T17:44:00.884Z"
   },
   {
    "duration": 5,
    "start_time": "2024-08-07T17:44:01.207Z"
   },
   {
    "duration": 95,
    "start_time": "2024-08-07T17:44:01.214Z"
   },
   {
    "duration": 44,
    "start_time": "2024-08-07T17:44:01.310Z"
   },
   {
    "duration": 52,
    "start_time": "2024-08-07T17:44:01.356Z"
   },
   {
    "duration": 361,
    "start_time": "2024-08-07T17:44:01.409Z"
   },
   {
    "duration": 369,
    "start_time": "2024-08-07T17:44:01.772Z"
   },
   {
    "duration": 263,
    "start_time": "2024-08-07T17:44:02.143Z"
   },
   {
    "duration": 4,
    "start_time": "2024-08-07T17:44:02.408Z"
   },
   {
    "duration": 268,
    "start_time": "2024-08-07T17:44:02.413Z"
   },
   {
    "duration": 298,
    "start_time": "2024-08-07T17:44:02.682Z"
   },
   {
    "duration": 4,
    "start_time": "2024-08-07T17:44:02.982Z"
   },
   {
    "duration": 56,
    "start_time": "2024-08-07T17:44:02.987Z"
   },
   {
    "duration": 75,
    "start_time": "2024-08-07T17:44:03.044Z"
   },
   {
    "duration": 51,
    "start_time": "2024-08-07T17:48:04.930Z"
   },
   {
    "duration": 38,
    "start_time": "2024-08-07T17:48:47.810Z"
   },
   {
    "duration": 47,
    "start_time": "2024-08-07T17:49:00.302Z"
   },
   {
    "duration": 48,
    "start_time": "2024-08-07T17:49:33.028Z"
   },
   {
    "duration": 65,
    "start_time": "2024-08-07T17:56:25.561Z"
   },
   {
    "duration": 112,
    "start_time": "2024-08-07T17:58:00.331Z"
   },
   {
    "duration": 933,
    "start_time": "2024-08-07T17:58:14.964Z"
   },
   {
    "duration": 67,
    "start_time": "2024-08-07T18:00:01.750Z"
   },
   {
    "duration": 1054,
    "start_time": "2024-08-07T18:00:20.483Z"
   },
   {
    "duration": 126,
    "start_time": "2024-08-07T18:00:21.540Z"
   },
   {
    "duration": 16,
    "start_time": "2024-08-07T18:00:21.668Z"
   },
   {
    "duration": 8,
    "start_time": "2024-08-07T18:00:21.685Z"
   },
   {
    "duration": 19,
    "start_time": "2024-08-07T18:00:21.695Z"
   },
   {
    "duration": 9,
    "start_time": "2024-08-07T18:00:21.715Z"
   },
   {
    "duration": 6,
    "start_time": "2024-08-07T18:00:21.726Z"
   },
   {
    "duration": 45,
    "start_time": "2024-08-07T18:00:21.734Z"
   },
   {
    "duration": 98,
    "start_time": "2024-08-07T18:00:21.781Z"
   },
   {
    "duration": 12,
    "start_time": "2024-08-07T18:00:21.881Z"
   },
   {
    "duration": 21,
    "start_time": "2024-08-07T18:00:21.895Z"
   },
   {
    "duration": 6,
    "start_time": "2024-08-07T18:00:21.918Z"
   },
   {
    "duration": 10,
    "start_time": "2024-08-07T18:00:21.926Z"
   },
   {
    "duration": 7,
    "start_time": "2024-08-07T18:00:21.939Z"
   },
   {
    "duration": 16,
    "start_time": "2024-08-07T18:00:21.947Z"
   },
   {
    "duration": 15,
    "start_time": "2024-08-07T18:00:21.965Z"
   },
   {
    "duration": 5,
    "start_time": "2024-08-07T18:00:21.981Z"
   },
   {
    "duration": 15,
    "start_time": "2024-08-07T18:00:21.988Z"
   },
   {
    "duration": 13,
    "start_time": "2024-08-07T18:00:22.005Z"
   },
   {
    "duration": 7,
    "start_time": "2024-08-07T18:00:22.020Z"
   },
   {
    "duration": 197,
    "start_time": "2024-08-07T18:00:22.029Z"
   },
   {
    "duration": 145,
    "start_time": "2024-08-07T18:00:22.228Z"
   },
   {
    "duration": 173,
    "start_time": "2024-08-07T18:00:22.375Z"
   },
   {
    "duration": 296,
    "start_time": "2024-08-07T18:00:22.550Z"
   },
   {
    "duration": 4,
    "start_time": "2024-08-07T18:00:22.855Z"
   },
   {
    "duration": 290,
    "start_time": "2024-08-07T18:00:22.861Z"
   },
   {
    "duration": 6,
    "start_time": "2024-08-07T18:00:23.155Z"
   },
   {
    "duration": 41,
    "start_time": "2024-08-07T18:00:23.162Z"
   },
   {
    "duration": 23,
    "start_time": "2024-08-07T18:00:23.204Z"
   },
   {
    "duration": 49,
    "start_time": "2024-08-07T18:00:23.228Z"
   },
   {
    "duration": 278,
    "start_time": "2024-08-07T18:00:23.279Z"
   },
   {
    "duration": 350,
    "start_time": "2024-08-07T18:00:23.559Z"
   },
   {
    "duration": 261,
    "start_time": "2024-08-07T18:00:23.910Z"
   },
   {
    "duration": 4,
    "start_time": "2024-08-07T18:00:24.173Z"
   },
   {
    "duration": 278,
    "start_time": "2024-08-07T18:00:24.178Z"
   },
   {
    "duration": 269,
    "start_time": "2024-08-07T18:00:24.458Z"
   },
   {
    "duration": 3,
    "start_time": "2024-08-07T18:00:24.729Z"
   },
   {
    "duration": 1081,
    "start_time": "2024-08-07T18:00:24.734Z"
   },
   {
    "duration": 0,
    "start_time": "2024-08-07T18:00:25.817Z"
   },
   {
    "duration": 983,
    "start_time": "2024-08-07T18:00:46.842Z"
   },
   {
    "duration": 959,
    "start_time": "2024-08-07T18:01:10.047Z"
   },
   {
    "duration": 960,
    "start_time": "2024-08-07T18:02:57.528Z"
   },
   {
    "duration": 929,
    "start_time": "2024-08-07T18:03:38.834Z"
   },
   {
    "duration": 934,
    "start_time": "2024-08-07T18:03:59.373Z"
   },
   {
    "duration": 66,
    "start_time": "2024-08-07T18:05:06.072Z"
   },
   {
    "duration": 25,
    "start_time": "2024-08-07T18:05:29.512Z"
   },
   {
    "duration": 28,
    "start_time": "2024-08-07T18:07:00.977Z"
   },
   {
    "duration": 68,
    "start_time": "2024-08-07T18:10:42.679Z"
   },
   {
    "duration": 20,
    "start_time": "2024-08-07T18:11:13.080Z"
   },
   {
    "duration": 96,
    "start_time": "2024-08-07T18:11:28.697Z"
   },
   {
    "duration": 66,
    "start_time": "2024-08-07T18:13:05.230Z"
   },
   {
    "duration": 66,
    "start_time": "2024-08-07T18:13:13.203Z"
   },
   {
    "duration": 101,
    "start_time": "2024-08-07T18:13:27.640Z"
   },
   {
    "duration": 75,
    "start_time": "2024-08-07T18:13:38.649Z"
   },
   {
    "duration": 76,
    "start_time": "2024-08-07T18:13:50.286Z"
   },
   {
    "duration": 142,
    "start_time": "2024-08-07T18:16:22.217Z"
   },
   {
    "duration": 112,
    "start_time": "2024-08-07T18:16:46.144Z"
   },
   {
    "duration": 970,
    "start_time": "2024-08-07T18:17:28.854Z"
   },
   {
    "duration": 982,
    "start_time": "2024-08-07T18:18:46.816Z"
   },
   {
    "duration": 936,
    "start_time": "2024-08-07T18:19:10.160Z"
   },
   {
    "duration": 1000,
    "start_time": "2024-08-07T18:19:22.522Z"
   },
   {
    "duration": 1000,
    "start_time": "2024-08-07T18:19:30.605Z"
   },
   {
    "duration": 78,
    "start_time": "2024-08-07T18:20:26.328Z"
   },
   {
    "duration": 66,
    "start_time": "2024-08-07T18:21:38.029Z"
   },
   {
    "duration": 1053,
    "start_time": "2024-08-07T18:22:00.334Z"
   },
   {
    "duration": 239,
    "start_time": "2024-08-07T18:22:22.045Z"
   },
   {
    "duration": 172,
    "start_time": "2024-08-07T18:22:44.004Z"
   },
   {
    "duration": 101,
    "start_time": "2024-08-07T18:22:51.805Z"
   },
   {
    "duration": 107,
    "start_time": "2024-08-07T18:23:13.449Z"
   },
   {
    "duration": 20,
    "start_time": "2024-08-07T18:26:46.489Z"
   },
   {
    "duration": 99,
    "start_time": "2024-08-07T18:28:07.237Z"
   },
   {
    "duration": 20,
    "start_time": "2024-08-07T18:28:12.037Z"
   },
   {
    "duration": 18,
    "start_time": "2024-08-07T18:28:32.208Z"
   },
   {
    "duration": 18,
    "start_time": "2024-08-07T18:28:37.582Z"
   },
   {
    "duration": 14,
    "start_time": "2024-08-07T18:30:11.253Z"
   },
   {
    "duration": 17,
    "start_time": "2024-08-07T18:37:18.173Z"
   },
   {
    "duration": 45,
    "start_time": "2024-08-08T09:04:36.652Z"
   },
   {
    "duration": 1177,
    "start_time": "2024-08-08T09:04:41.718Z"
   },
   {
    "duration": 301,
    "start_time": "2024-08-08T09:04:42.897Z"
   },
   {
    "duration": 15,
    "start_time": "2024-08-08T09:04:43.199Z"
   },
   {
    "duration": 7,
    "start_time": "2024-08-08T09:04:43.216Z"
   },
   {
    "duration": 24,
    "start_time": "2024-08-08T09:04:43.226Z"
   },
   {
    "duration": 53,
    "start_time": "2024-08-08T09:04:43.251Z"
   },
   {
    "duration": 14,
    "start_time": "2024-08-08T09:04:43.305Z"
   },
   {
    "duration": 19,
    "start_time": "2024-08-08T09:04:43.321Z"
   },
   {
    "duration": 11,
    "start_time": "2024-08-08T09:04:43.342Z"
   },
   {
    "duration": 8,
    "start_time": "2024-08-08T09:04:43.355Z"
   },
   {
    "duration": 15,
    "start_time": "2024-08-08T09:04:43.364Z"
   },
   {
    "duration": 10,
    "start_time": "2024-08-08T09:04:43.381Z"
   },
   {
    "duration": 8,
    "start_time": "2024-08-08T09:04:43.392Z"
   },
   {
    "duration": 7,
    "start_time": "2024-08-08T09:04:43.403Z"
   },
   {
    "duration": 10,
    "start_time": "2024-08-08T09:04:43.411Z"
   },
   {
    "duration": 5,
    "start_time": "2024-08-08T09:04:43.422Z"
   },
   {
    "duration": 39,
    "start_time": "2024-08-08T09:04:43.429Z"
   },
   {
    "duration": 20,
    "start_time": "2024-08-08T09:04:43.469Z"
   },
   {
    "duration": 14,
    "start_time": "2024-08-08T09:04:43.491Z"
   },
   {
    "duration": 7,
    "start_time": "2024-08-08T09:04:43.507Z"
   },
   {
    "duration": 171,
    "start_time": "2024-08-08T09:04:43.515Z"
   },
   {
    "duration": 124,
    "start_time": "2024-08-08T09:04:43.687Z"
   },
   {
    "duration": 185,
    "start_time": "2024-08-08T09:04:43.813Z"
   },
   {
    "duration": 264,
    "start_time": "2024-08-08T09:04:43.999Z"
   },
   {
    "duration": 4,
    "start_time": "2024-08-08T09:04:44.264Z"
   },
   {
    "duration": 254,
    "start_time": "2024-08-08T09:04:44.270Z"
   },
   {
    "duration": 4,
    "start_time": "2024-08-08T09:04:44.525Z"
   },
   {
    "duration": 39,
    "start_time": "2024-08-08T09:04:44.531Z"
   },
   {
    "duration": 19,
    "start_time": "2024-08-08T09:04:44.571Z"
   },
   {
    "duration": 18,
    "start_time": "2024-08-08T09:04:44.592Z"
   },
   {
    "duration": 261,
    "start_time": "2024-08-08T09:04:44.611Z"
   },
   {
    "duration": 334,
    "start_time": "2024-08-08T09:04:44.873Z"
   },
   {
    "duration": 241,
    "start_time": "2024-08-08T09:04:45.209Z"
   },
   {
    "duration": 10,
    "start_time": "2024-08-08T09:04:45.451Z"
   },
   {
    "duration": 277,
    "start_time": "2024-08-08T09:04:45.463Z"
   },
   {
    "duration": 250,
    "start_time": "2024-08-08T09:04:45.742Z"
   },
   {
    "duration": 3,
    "start_time": "2024-08-08T09:04:45.994Z"
   },
   {
    "duration": 103,
    "start_time": "2024-08-08T09:04:45.999Z"
   },
   {
    "duration": 16,
    "start_time": "2024-08-08T09:04:46.104Z"
   },
   {
    "duration": 5,
    "start_time": "2024-08-08T09:04:46.122Z"
   },
   {
    "duration": 16,
    "start_time": "2024-08-08T09:07:18.372Z"
   },
   {
    "duration": 22,
    "start_time": "2024-08-08T09:07:22.061Z"
   },
   {
    "duration": 1070,
    "start_time": "2024-08-08T09:07:27.139Z"
   },
   {
    "duration": 122,
    "start_time": "2024-08-08T09:07:28.211Z"
   },
   {
    "duration": 19,
    "start_time": "2024-08-08T09:07:28.334Z"
   },
   {
    "duration": 11,
    "start_time": "2024-08-08T09:07:28.356Z"
   },
   {
    "duration": 16,
    "start_time": "2024-08-08T09:07:28.369Z"
   },
   {
    "duration": 9,
    "start_time": "2024-08-08T09:07:28.387Z"
   },
   {
    "duration": 6,
    "start_time": "2024-08-08T09:07:28.398Z"
   },
   {
    "duration": 11,
    "start_time": "2024-08-08T09:07:28.406Z"
   },
   {
    "duration": 45,
    "start_time": "2024-08-08T09:07:28.419Z"
   },
   {
    "duration": 8,
    "start_time": "2024-08-08T09:07:28.466Z"
   },
   {
    "duration": 19,
    "start_time": "2024-08-08T09:07:28.476Z"
   },
   {
    "duration": 8,
    "start_time": "2024-08-08T09:07:28.496Z"
   },
   {
    "duration": 7,
    "start_time": "2024-08-08T09:07:28.505Z"
   },
   {
    "duration": 6,
    "start_time": "2024-08-08T09:07:28.514Z"
   },
   {
    "duration": 44,
    "start_time": "2024-08-08T09:07:28.522Z"
   },
   {
    "duration": 6,
    "start_time": "2024-08-08T09:07:28.568Z"
   },
   {
    "duration": 12,
    "start_time": "2024-08-08T09:07:28.575Z"
   },
   {
    "duration": 27,
    "start_time": "2024-08-08T09:07:28.589Z"
   },
   {
    "duration": 13,
    "start_time": "2024-08-08T09:07:28.618Z"
   },
   {
    "duration": 27,
    "start_time": "2024-08-08T09:07:28.634Z"
   },
   {
    "duration": 169,
    "start_time": "2024-08-08T09:07:28.663Z"
   },
   {
    "duration": 137,
    "start_time": "2024-08-08T09:07:28.833Z"
   },
   {
    "duration": 166,
    "start_time": "2024-08-08T09:07:28.971Z"
   },
   {
    "duration": 274,
    "start_time": "2024-08-08T09:07:29.138Z"
   },
   {
    "duration": 5,
    "start_time": "2024-08-08T09:07:29.413Z"
   },
   {
    "duration": 261,
    "start_time": "2024-08-08T09:07:29.419Z"
   },
   {
    "duration": 5,
    "start_time": "2024-08-08T09:07:29.682Z"
   },
   {
    "duration": 33,
    "start_time": "2024-08-08T09:07:29.691Z"
   },
   {
    "duration": 45,
    "start_time": "2024-08-08T09:07:29.726Z"
   },
   {
    "duration": 31,
    "start_time": "2024-08-08T09:07:29.773Z"
   },
   {
    "duration": 315,
    "start_time": "2024-08-08T09:07:29.806Z"
   },
   {
    "duration": 387,
    "start_time": "2024-08-08T09:07:30.122Z"
   },
   {
    "duration": 240,
    "start_time": "2024-08-08T09:07:30.511Z"
   },
   {
    "duration": 10,
    "start_time": "2024-08-08T09:07:30.752Z"
   },
   {
    "duration": 269,
    "start_time": "2024-08-08T09:07:30.764Z"
   },
   {
    "duration": 252,
    "start_time": "2024-08-08T09:07:31.035Z"
   },
   {
    "duration": 4,
    "start_time": "2024-08-08T09:07:31.289Z"
   },
   {
    "duration": 144,
    "start_time": "2024-08-08T09:07:31.295Z"
   },
   {
    "duration": 20,
    "start_time": "2024-08-08T09:07:31.441Z"
   },
   {
    "duration": 51,
    "start_time": "2024-08-08T09:07:31.463Z"
   },
   {
    "duration": 16,
    "start_time": "2024-08-08T09:07:40.521Z"
   },
   {
    "duration": 15,
    "start_time": "2024-08-08T09:08:15.290Z"
   },
   {
    "duration": 7,
    "start_time": "2024-08-08T09:08:21.121Z"
   },
   {
    "duration": 5,
    "start_time": "2024-08-08T09:09:42.155Z"
   },
   {
    "duration": 90,
    "start_time": "2024-08-08T09:09:43.139Z"
   },
   {
    "duration": 1042,
    "start_time": "2024-08-08T09:10:55.667Z"
   },
   {
    "duration": 114,
    "start_time": "2024-08-08T09:10:56.711Z"
   },
   {
    "duration": 16,
    "start_time": "2024-08-08T09:10:56.826Z"
   },
   {
    "duration": 7,
    "start_time": "2024-08-08T09:10:56.843Z"
   },
   {
    "duration": 16,
    "start_time": "2024-08-08T09:10:56.852Z"
   },
   {
    "duration": 29,
    "start_time": "2024-08-08T09:10:56.869Z"
   },
   {
    "duration": 22,
    "start_time": "2024-08-08T09:10:56.899Z"
   },
   {
    "duration": 14,
    "start_time": "2024-08-08T09:10:56.922Z"
   },
   {
    "duration": 12,
    "start_time": "2024-08-08T09:10:56.937Z"
   },
   {
    "duration": 17,
    "start_time": "2024-08-08T09:10:56.951Z"
   },
   {
    "duration": 14,
    "start_time": "2024-08-08T09:10:56.970Z"
   },
   {
    "duration": 7,
    "start_time": "2024-08-08T09:10:56.986Z"
   },
   {
    "duration": 10,
    "start_time": "2024-08-08T09:10:56.994Z"
   },
   {
    "duration": 7,
    "start_time": "2024-08-08T09:10:57.007Z"
   },
   {
    "duration": 12,
    "start_time": "2024-08-08T09:10:57.015Z"
   },
   {
    "duration": 33,
    "start_time": "2024-08-08T09:10:57.029Z"
   },
   {
    "duration": 34,
    "start_time": "2024-08-08T09:10:57.063Z"
   },
   {
    "duration": 29,
    "start_time": "2024-08-08T09:10:57.098Z"
   },
   {
    "duration": 66,
    "start_time": "2024-08-08T09:10:57.128Z"
   },
   {
    "duration": 13,
    "start_time": "2024-08-08T09:10:57.198Z"
   },
   {
    "duration": 173,
    "start_time": "2024-08-08T09:10:57.215Z"
   },
   {
    "duration": 135,
    "start_time": "2024-08-08T09:10:57.389Z"
   },
   {
    "duration": 146,
    "start_time": "2024-08-08T09:10:57.526Z"
   },
   {
    "duration": 257,
    "start_time": "2024-08-08T09:10:57.673Z"
   },
   {
    "duration": 4,
    "start_time": "2024-08-08T09:10:57.932Z"
   },
   {
    "duration": 263,
    "start_time": "2024-08-08T09:10:57.938Z"
   },
   {
    "duration": 4,
    "start_time": "2024-08-08T09:10:58.203Z"
   },
   {
    "duration": 61,
    "start_time": "2024-08-08T09:10:58.208Z"
   },
   {
    "duration": 19,
    "start_time": "2024-08-08T09:10:58.270Z"
   },
   {
    "duration": 18,
    "start_time": "2024-08-08T09:10:58.291Z"
   },
   {
    "duration": 267,
    "start_time": "2024-08-08T09:10:58.310Z"
   },
   {
    "duration": 339,
    "start_time": "2024-08-08T09:10:58.579Z"
   },
   {
    "duration": 266,
    "start_time": "2024-08-08T09:10:58.920Z"
   },
   {
    "duration": 5,
    "start_time": "2024-08-08T09:10:59.188Z"
   },
   {
    "duration": 251,
    "start_time": "2024-08-08T09:10:59.194Z"
   },
   {
    "duration": 251,
    "start_time": "2024-08-08T09:10:59.447Z"
   },
   {
    "duration": 4,
    "start_time": "2024-08-08T09:10:59.701Z"
   },
   {
    "duration": 144,
    "start_time": "2024-08-08T09:10:59.706Z"
   },
   {
    "duration": 19,
    "start_time": "2024-08-08T09:10:59.852Z"
   },
   {
    "duration": 19,
    "start_time": "2024-08-08T09:10:59.873Z"
   },
   {
    "duration": 14,
    "start_time": "2024-08-08T09:11:10.259Z"
   },
   {
    "duration": 970,
    "start_time": "2024-08-08T09:11:15.194Z"
   },
   {
    "duration": 118,
    "start_time": "2024-08-08T09:11:16.166Z"
   },
   {
    "duration": 17,
    "start_time": "2024-08-08T09:11:16.285Z"
   },
   {
    "duration": 9,
    "start_time": "2024-08-08T09:11:16.303Z"
   },
   {
    "duration": 17,
    "start_time": "2024-08-08T09:11:16.315Z"
   },
   {
    "duration": 6,
    "start_time": "2024-08-08T09:11:16.334Z"
   },
   {
    "duration": 23,
    "start_time": "2024-08-08T09:11:16.342Z"
   },
   {
    "duration": 12,
    "start_time": "2024-08-08T09:11:16.366Z"
   },
   {
    "duration": 11,
    "start_time": "2024-08-08T09:11:16.380Z"
   },
   {
    "duration": 8,
    "start_time": "2024-08-08T09:11:16.393Z"
   },
   {
    "duration": 15,
    "start_time": "2024-08-08T09:11:16.403Z"
   },
   {
    "duration": 33,
    "start_time": "2024-08-08T09:11:16.419Z"
   },
   {
    "duration": 11,
    "start_time": "2024-08-08T09:11:16.460Z"
   },
   {
    "duration": 6,
    "start_time": "2024-08-08T09:11:16.474Z"
   },
   {
    "duration": 13,
    "start_time": "2024-08-08T09:11:16.482Z"
   },
   {
    "duration": 9,
    "start_time": "2024-08-08T09:11:16.496Z"
   },
   {
    "duration": 7,
    "start_time": "2024-08-08T09:11:16.506Z"
   },
   {
    "duration": 15,
    "start_time": "2024-08-08T09:11:16.514Z"
   },
   {
    "duration": 31,
    "start_time": "2024-08-08T09:11:16.531Z"
   },
   {
    "duration": 9,
    "start_time": "2024-08-08T09:11:16.564Z"
   },
   {
    "duration": 174,
    "start_time": "2024-08-08T09:11:16.575Z"
   },
   {
    "duration": 130,
    "start_time": "2024-08-08T09:11:16.750Z"
   },
   {
    "duration": 146,
    "start_time": "2024-08-08T09:11:16.881Z"
   },
   {
    "duration": 243,
    "start_time": "2024-08-08T09:11:17.028Z"
   },
   {
    "duration": 4,
    "start_time": "2024-08-08T09:11:17.273Z"
   },
   {
    "duration": 277,
    "start_time": "2024-08-08T09:11:17.278Z"
   },
   {
    "duration": 4,
    "start_time": "2024-08-08T09:11:17.560Z"
   },
   {
    "duration": 37,
    "start_time": "2024-08-08T09:11:17.566Z"
   },
   {
    "duration": 20,
    "start_time": "2024-08-08T09:11:17.605Z"
   },
   {
    "duration": 38,
    "start_time": "2024-08-08T09:11:17.627Z"
   },
   {
    "duration": 247,
    "start_time": "2024-08-08T09:11:17.667Z"
   },
   {
    "duration": 349,
    "start_time": "2024-08-08T09:11:17.916Z"
   },
   {
    "duration": 236,
    "start_time": "2024-08-08T09:11:18.267Z"
   },
   {
    "duration": 4,
    "start_time": "2024-08-08T09:11:18.504Z"
   },
   {
    "duration": 235,
    "start_time": "2024-08-08T09:11:18.510Z"
   },
   {
    "duration": 242,
    "start_time": "2024-08-08T09:11:18.746Z"
   },
   {
    "duration": 4,
    "start_time": "2024-08-08T09:11:18.989Z"
   },
   {
    "duration": 97,
    "start_time": "2024-08-08T09:11:18.994Z"
   },
   {
    "duration": 12,
    "start_time": "2024-08-08T09:11:19.092Z"
   },
   {
    "duration": 14,
    "start_time": "2024-08-08T09:11:19.106Z"
   },
   {
    "duration": 1102,
    "start_time": "2024-08-08T09:13:25.846Z"
   },
   {
    "duration": 105,
    "start_time": "2024-08-08T09:13:26.950Z"
   },
   {
    "duration": 16,
    "start_time": "2024-08-08T09:13:27.056Z"
   },
   {
    "duration": 9,
    "start_time": "2024-08-08T09:13:27.073Z"
   },
   {
    "duration": 11,
    "start_time": "2024-08-08T09:13:27.083Z"
   },
   {
    "duration": 6,
    "start_time": "2024-08-08T09:13:27.095Z"
   },
   {
    "duration": 6,
    "start_time": "2024-08-08T09:13:27.102Z"
   },
   {
    "duration": 11,
    "start_time": "2024-08-08T09:13:27.110Z"
   },
   {
    "duration": 43,
    "start_time": "2024-08-08T09:13:27.122Z"
   },
   {
    "duration": 7,
    "start_time": "2024-08-08T09:13:27.167Z"
   },
   {
    "duration": 18,
    "start_time": "2024-08-08T09:13:27.175Z"
   },
   {
    "duration": 6,
    "start_time": "2024-08-08T09:13:27.194Z"
   },
   {
    "duration": 8,
    "start_time": "2024-08-08T09:13:27.202Z"
   },
   {
    "duration": 7,
    "start_time": "2024-08-08T09:13:27.213Z"
   },
   {
    "duration": 21,
    "start_time": "2024-08-08T09:13:27.221Z"
   },
   {
    "duration": 6,
    "start_time": "2024-08-08T09:13:27.261Z"
   },
   {
    "duration": 12,
    "start_time": "2024-08-08T09:13:27.268Z"
   },
   {
    "duration": 23,
    "start_time": "2024-08-08T09:13:27.281Z"
   },
   {
    "duration": 10,
    "start_time": "2024-08-08T09:13:27.305Z"
   },
   {
    "duration": 15,
    "start_time": "2024-08-08T09:13:27.317Z"
   },
   {
    "duration": 159,
    "start_time": "2024-08-08T09:13:27.333Z"
   },
   {
    "duration": 139,
    "start_time": "2024-08-08T09:13:27.493Z"
   },
   {
    "duration": 157,
    "start_time": "2024-08-08T09:13:27.633Z"
   },
   {
    "duration": 266,
    "start_time": "2024-08-08T09:13:27.792Z"
   },
   {
    "duration": 4,
    "start_time": "2024-08-08T09:13:28.060Z"
   },
   {
    "duration": 264,
    "start_time": "2024-08-08T09:13:28.066Z"
   },
   {
    "duration": 4,
    "start_time": "2024-08-08T09:13:28.332Z"
   },
   {
    "duration": 42,
    "start_time": "2024-08-08T09:13:28.337Z"
   },
   {
    "duration": 19,
    "start_time": "2024-08-08T09:13:28.380Z"
   },
   {
    "duration": 17,
    "start_time": "2024-08-08T09:13:28.401Z"
   },
   {
    "duration": 269,
    "start_time": "2024-08-08T09:13:28.420Z"
   },
   {
    "duration": 312,
    "start_time": "2024-08-08T09:13:28.691Z"
   },
   {
    "duration": 236,
    "start_time": "2024-08-08T09:13:29.005Z"
   },
   {
    "duration": 5,
    "start_time": "2024-08-08T09:13:29.242Z"
   },
   {
    "duration": 236,
    "start_time": "2024-08-08T09:13:29.260Z"
   },
   {
    "duration": 246,
    "start_time": "2024-08-08T09:13:29.497Z"
   },
   {
    "duration": 4,
    "start_time": "2024-08-08T09:13:29.745Z"
   },
   {
    "duration": 123,
    "start_time": "2024-08-08T09:13:29.760Z"
   },
   {
    "duration": 12,
    "start_time": "2024-08-08T09:13:29.885Z"
   },
   {
    "duration": 4,
    "start_time": "2024-08-08T09:13:29.899Z"
   },
   {
    "duration": 92,
    "start_time": "2024-08-08T09:17:30.202Z"
   },
   {
    "duration": 6,
    "start_time": "2024-08-08T09:28:10.883Z"
   },
   {
    "duration": 7,
    "start_time": "2024-08-08T09:44:30.072Z"
   },
   {
    "duration": 5,
    "start_time": "2024-08-08T09:45:31.075Z"
   },
   {
    "duration": 5,
    "start_time": "2024-08-08T09:49:51.239Z"
   },
   {
    "duration": 5,
    "start_time": "2024-08-08T09:54:50.245Z"
   },
   {
    "duration": 52,
    "start_time": "2024-08-08T15:28:16.818Z"
   },
   {
    "duration": 1317,
    "start_time": "2024-08-08T15:28:28.203Z"
   },
   {
    "duration": 497,
    "start_time": "2024-08-08T15:28:29.523Z"
   },
   {
    "duration": 18,
    "start_time": "2024-08-08T15:28:30.021Z"
   },
   {
    "duration": 81,
    "start_time": "2024-08-08T15:28:30.041Z"
   },
   {
    "duration": 114,
    "start_time": "2024-08-08T15:28:30.125Z"
   },
   {
    "duration": 47,
    "start_time": "2024-08-08T15:28:30.241Z"
   },
   {
    "duration": 58,
    "start_time": "2024-08-08T15:28:30.289Z"
   },
   {
    "duration": 65,
    "start_time": "2024-08-08T15:28:30.349Z"
   },
   {
    "duration": 92,
    "start_time": "2024-08-08T15:28:30.416Z"
   },
   {
    "duration": 140,
    "start_time": "2024-08-08T15:28:30.510Z"
   },
   {
    "duration": 166,
    "start_time": "2024-08-08T15:28:30.651Z"
   },
   {
    "duration": 58,
    "start_time": "2024-08-08T15:28:30.819Z"
   },
   {
    "duration": 62,
    "start_time": "2024-08-08T15:28:30.879Z"
   },
   {
    "duration": 54,
    "start_time": "2024-08-08T15:28:30.944Z"
   },
   {
    "duration": 37,
    "start_time": "2024-08-08T15:28:31.000Z"
   },
   {
    "duration": 56,
    "start_time": "2024-08-08T15:28:31.039Z"
   },
   {
    "duration": 35,
    "start_time": "2024-08-08T15:28:31.097Z"
   },
   {
    "duration": 51,
    "start_time": "2024-08-08T15:28:31.134Z"
   },
   {
    "duration": 44,
    "start_time": "2024-08-08T15:28:31.187Z"
   },
   {
    "duration": 33,
    "start_time": "2024-08-08T15:28:31.234Z"
   },
   {
    "duration": 244,
    "start_time": "2024-08-08T15:28:31.269Z"
   },
   {
    "duration": 152,
    "start_time": "2024-08-08T15:28:31.515Z"
   },
   {
    "duration": 174,
    "start_time": "2024-08-08T15:28:31.668Z"
   },
   {
    "duration": 295,
    "start_time": "2024-08-08T15:28:31.844Z"
   },
   {
    "duration": 16,
    "start_time": "2024-08-08T15:28:32.141Z"
   },
   {
    "duration": 400,
    "start_time": "2024-08-08T15:28:32.159Z"
   },
   {
    "duration": 5,
    "start_time": "2024-08-08T15:28:32.561Z"
   },
   {
    "duration": 183,
    "start_time": "2024-08-08T15:28:32.568Z"
   },
   {
    "duration": 37,
    "start_time": "2024-08-08T15:28:32.752Z"
   },
   {
    "duration": 21,
    "start_time": "2024-08-08T15:28:32.791Z"
   },
   {
    "duration": 308,
    "start_time": "2024-08-08T15:28:32.814Z"
   },
   {
    "duration": 383,
    "start_time": "2024-08-08T15:28:33.124Z"
   },
   {
    "duration": 257,
    "start_time": "2024-08-08T15:28:33.509Z"
   },
   {
    "duration": 5,
    "start_time": "2024-08-08T15:28:33.767Z"
   },
   {
    "duration": 284,
    "start_time": "2024-08-08T15:28:33.773Z"
   },
   {
    "duration": 300,
    "start_time": "2024-08-08T15:28:34.059Z"
   },
   {
    "duration": 5,
    "start_time": "2024-08-08T15:28:34.363Z"
   },
   {
    "duration": 122,
    "start_time": "2024-08-08T15:28:34.370Z"
   },
   {
    "duration": 12,
    "start_time": "2024-08-08T15:28:34.494Z"
   },
   {
    "duration": 5,
    "start_time": "2024-08-08T15:28:34.508Z"
   },
   {
    "duration": 6,
    "start_time": "2024-08-08T15:28:34.516Z"
   },
   {
    "duration": 6,
    "start_time": "2024-08-08T15:28:34.524Z"
   },
   {
    "duration": 28,
    "start_time": "2024-08-08T15:28:34.531Z"
   },
   {
    "duration": 110,
    "start_time": "2024-08-08T15:30:39.139Z"
   },
   {
    "duration": 8,
    "start_time": "2024-08-08T15:30:46.641Z"
   },
   {
    "duration": 1143,
    "start_time": "2024-08-08T15:31:29.312Z"
   },
   {
    "duration": 143,
    "start_time": "2024-08-08T15:31:30.463Z"
   },
   {
    "duration": 19,
    "start_time": "2024-08-08T15:31:30.608Z"
   },
   {
    "duration": 177,
    "start_time": "2024-08-08T15:31:30.629Z"
   },
   {
    "duration": 72,
    "start_time": "2024-08-08T15:31:30.809Z"
   },
   {
    "duration": 54,
    "start_time": "2024-08-08T15:31:30.883Z"
   },
   {
    "duration": 33,
    "start_time": "2024-08-08T15:31:30.938Z"
   },
   {
    "duration": 47,
    "start_time": "2024-08-08T15:31:30.972Z"
   },
   {
    "duration": 39,
    "start_time": "2024-08-08T15:31:31.021Z"
   },
   {
    "duration": 205,
    "start_time": "2024-08-08T15:31:31.061Z"
   },
   {
    "duration": 366,
    "start_time": "2024-08-08T15:31:31.267Z"
   },
   {
    "duration": 69,
    "start_time": "2024-08-08T15:31:31.635Z"
   },
   {
    "duration": 33,
    "start_time": "2024-08-08T15:31:31.706Z"
   },
   {
    "duration": 64,
    "start_time": "2024-08-08T15:31:31.742Z"
   },
   {
    "duration": 65,
    "start_time": "2024-08-08T15:31:31.808Z"
   },
   {
    "duration": 64,
    "start_time": "2024-08-08T15:31:31.874Z"
   },
   {
    "duration": 49,
    "start_time": "2024-08-08T15:31:31.940Z"
   },
   {
    "duration": 51,
    "start_time": "2024-08-08T15:31:31.992Z"
   },
   {
    "duration": 44,
    "start_time": "2024-08-08T15:31:32.044Z"
   },
   {
    "duration": 39,
    "start_time": "2024-08-08T15:31:32.090Z"
   },
   {
    "duration": 206,
    "start_time": "2024-08-08T15:31:32.131Z"
   },
   {
    "duration": 151,
    "start_time": "2024-08-08T15:31:32.339Z"
   },
   {
    "duration": 173,
    "start_time": "2024-08-08T15:31:32.492Z"
   },
   {
    "duration": 290,
    "start_time": "2024-08-08T15:31:32.667Z"
   },
   {
    "duration": 5,
    "start_time": "2024-08-08T15:31:32.959Z"
   },
   {
    "duration": 331,
    "start_time": "2024-08-08T15:31:32.966Z"
   },
   {
    "duration": 6,
    "start_time": "2024-08-08T15:31:33.298Z"
   },
   {
    "duration": 68,
    "start_time": "2024-08-08T15:31:33.306Z"
   },
   {
    "duration": 23,
    "start_time": "2024-08-08T15:31:33.375Z"
   },
   {
    "duration": 22,
    "start_time": "2024-08-08T15:31:33.400Z"
   },
   {
    "duration": 323,
    "start_time": "2024-08-08T15:31:33.423Z"
   },
   {
    "duration": 358,
    "start_time": "2024-08-08T15:31:33.755Z"
   },
   {
    "duration": 258,
    "start_time": "2024-08-08T15:31:34.115Z"
   },
   {
    "duration": 5,
    "start_time": "2024-08-08T15:31:34.375Z"
   },
   {
    "duration": 279,
    "start_time": "2024-08-08T15:31:34.382Z"
   },
   {
    "duration": 311,
    "start_time": "2024-08-08T15:31:34.663Z"
   },
   {
    "duration": 5,
    "start_time": "2024-08-08T15:31:34.976Z"
   },
   {
    "duration": 243,
    "start_time": "2024-08-08T15:31:34.983Z"
   },
   {
    "duration": 15,
    "start_time": "2024-08-08T15:31:35.228Z"
   },
   {
    "duration": 19,
    "start_time": "2024-08-08T15:31:35.245Z"
   },
   {
    "duration": 27,
    "start_time": "2024-08-08T15:31:35.269Z"
   },
   {
    "duration": 6,
    "start_time": "2024-08-08T15:31:35.298Z"
   },
   {
    "duration": 11,
    "start_time": "2024-08-08T15:31:35.306Z"
   },
   {
    "duration": 8,
    "start_time": "2024-08-08T15:34:02.315Z"
   },
   {
    "duration": 9,
    "start_time": "2024-08-08T15:36:12.696Z"
   },
   {
    "duration": 8,
    "start_time": "2024-08-08T15:36:25.000Z"
   },
   {
    "duration": 9,
    "start_time": "2024-08-08T15:39:32.977Z"
   },
   {
    "duration": 9,
    "start_time": "2024-08-08T15:41:53.483Z"
   },
   {
    "duration": 10,
    "start_time": "2024-08-08T15:42:06.315Z"
   },
   {
    "duration": 10,
    "start_time": "2024-08-08T15:42:26.957Z"
   },
   {
    "duration": 6,
    "start_time": "2024-08-08T15:44:40.183Z"
   },
   {
    "duration": 6,
    "start_time": "2024-08-08T15:44:52.476Z"
   },
   {
    "duration": 6,
    "start_time": "2024-08-08T15:45:14.443Z"
   },
   {
    "duration": 5,
    "start_time": "2024-08-08T15:45:27.135Z"
   },
   {
    "duration": 5,
    "start_time": "2024-08-08T15:45:36.502Z"
   },
   {
    "duration": 6,
    "start_time": "2024-08-08T15:45:42.845Z"
   },
   {
    "duration": 20,
    "start_time": "2024-08-08T15:46:10.742Z"
   },
   {
    "duration": 9,
    "start_time": "2024-08-08T15:47:31.416Z"
   },
   {
    "duration": 10,
    "start_time": "2024-08-08T15:47:47.214Z"
   },
   {
    "duration": 935,
    "start_time": "2024-08-08T15:49:14.226Z"
   },
   {
    "duration": 1128,
    "start_time": "2024-08-08T15:49:27.973Z"
   },
   {
    "duration": 141,
    "start_time": "2024-08-08T15:49:29.103Z"
   },
   {
    "duration": 20,
    "start_time": "2024-08-08T15:49:29.245Z"
   },
   {
    "duration": 9,
    "start_time": "2024-08-08T15:49:29.266Z"
   },
   {
    "duration": 31,
    "start_time": "2024-08-08T15:49:29.278Z"
   },
   {
    "duration": 12,
    "start_time": "2024-08-08T15:49:29.311Z"
   },
   {
    "duration": 11,
    "start_time": "2024-08-08T15:49:29.325Z"
   },
   {
    "duration": 26,
    "start_time": "2024-08-08T15:49:29.338Z"
   },
   {
    "duration": 13,
    "start_time": "2024-08-08T15:49:29.366Z"
   },
   {
    "duration": 28,
    "start_time": "2024-08-08T15:49:29.380Z"
   },
   {
    "duration": 20,
    "start_time": "2024-08-08T15:49:29.410Z"
   },
   {
    "duration": 6,
    "start_time": "2024-08-08T15:49:29.432Z"
   },
   {
    "duration": 21,
    "start_time": "2024-08-08T15:49:29.440Z"
   },
   {
    "duration": 7,
    "start_time": "2024-08-08T15:49:29.464Z"
   },
   {
    "duration": 24,
    "start_time": "2024-08-08T15:49:29.473Z"
   },
   {
    "duration": 6,
    "start_time": "2024-08-08T15:49:29.499Z"
   },
   {
    "duration": 20,
    "start_time": "2024-08-08T15:49:29.507Z"
   },
   {
    "duration": 28,
    "start_time": "2024-08-08T15:49:29.528Z"
   },
   {
    "duration": 12,
    "start_time": "2024-08-08T15:49:29.558Z"
   },
   {
    "duration": 8,
    "start_time": "2024-08-08T15:49:29.572Z"
   },
   {
    "duration": 198,
    "start_time": "2024-08-08T15:49:29.581Z"
   },
   {
    "duration": 151,
    "start_time": "2024-08-08T15:49:29.781Z"
   },
   {
    "duration": 171,
    "start_time": "2024-08-08T15:49:29.934Z"
   },
   {
    "duration": 296,
    "start_time": "2024-08-08T15:49:30.107Z"
   },
   {
    "duration": 5,
    "start_time": "2024-08-08T15:49:30.405Z"
   },
   {
    "duration": 385,
    "start_time": "2024-08-08T15:49:30.412Z"
   },
   {
    "duration": 4,
    "start_time": "2024-08-08T15:49:30.799Z"
   },
   {
    "duration": 164,
    "start_time": "2024-08-08T15:49:30.805Z"
   },
   {
    "duration": 83,
    "start_time": "2024-08-08T15:49:30.971Z"
   },
   {
    "duration": 38,
    "start_time": "2024-08-08T15:49:31.056Z"
   },
   {
    "duration": 346,
    "start_time": "2024-08-08T15:49:31.096Z"
   },
   {
    "duration": 387,
    "start_time": "2024-08-08T15:49:31.444Z"
   },
   {
    "duration": 273,
    "start_time": "2024-08-08T15:49:31.833Z"
   },
   {
    "duration": 5,
    "start_time": "2024-08-08T15:49:32.109Z"
   },
   {
    "duration": 383,
    "start_time": "2024-08-08T15:49:32.115Z"
   },
   {
    "duration": 280,
    "start_time": "2024-08-08T15:49:32.500Z"
   },
   {
    "duration": 4,
    "start_time": "2024-08-08T15:49:32.782Z"
   },
   {
    "duration": 993,
    "start_time": "2024-08-08T15:49:32.788Z"
   },
   {
    "duration": 16,
    "start_time": "2024-08-08T15:49:33.783Z"
   },
   {
    "duration": 9,
    "start_time": "2024-08-08T15:49:33.801Z"
   },
   {
    "duration": 14,
    "start_time": "2024-08-08T15:49:33.813Z"
   },
   {
    "duration": 6,
    "start_time": "2024-08-08T15:49:33.829Z"
   },
   {
    "duration": 137,
    "start_time": "2024-08-08T15:49:33.836Z"
   },
   {
    "duration": 10,
    "start_time": "2024-08-08T15:56:46.125Z"
   },
   {
    "duration": 8,
    "start_time": "2024-08-08T15:57:34.442Z"
   },
   {
    "duration": 8,
    "start_time": "2024-08-08T15:57:47.016Z"
   },
   {
    "duration": 27,
    "start_time": "2024-08-08T15:58:25.407Z"
   },
   {
    "duration": 9,
    "start_time": "2024-08-08T15:58:46.924Z"
   },
   {
    "duration": 10,
    "start_time": "2024-08-08T16:00:24.501Z"
   },
   {
    "duration": 10,
    "start_time": "2024-08-08T16:00:31.914Z"
   },
   {
    "duration": 9,
    "start_time": "2024-08-08T16:01:43.677Z"
   },
   {
    "duration": 8,
    "start_time": "2024-08-08T16:01:54.048Z"
   },
   {
    "duration": 8,
    "start_time": "2024-08-08T16:01:59.524Z"
   },
   {
    "duration": 9,
    "start_time": "2024-08-08T16:02:06.496Z"
   },
   {
    "duration": 9,
    "start_time": "2024-08-08T16:02:16.896Z"
   },
   {
    "duration": 9,
    "start_time": "2024-08-08T16:02:38.295Z"
   },
   {
    "duration": 14,
    "start_time": "2024-08-08T16:03:51.581Z"
   },
   {
    "duration": 9,
    "start_time": "2024-08-08T16:04:10.014Z"
   },
   {
    "duration": 10,
    "start_time": "2024-08-08T16:05:29.545Z"
   },
   {
    "duration": 10,
    "start_time": "2024-08-08T16:07:05.454Z"
   },
   {
    "duration": 10,
    "start_time": "2024-08-08T16:08:00.965Z"
   },
   {
    "duration": 13,
    "start_time": "2024-08-08T16:08:08.150Z"
   },
   {
    "duration": 13,
    "start_time": "2024-08-08T16:08:12.124Z"
   },
   {
    "duration": 10,
    "start_time": "2024-08-08T16:08:29.964Z"
   },
   {
    "duration": 9,
    "start_time": "2024-08-08T16:10:29.506Z"
   },
   {
    "duration": 9,
    "start_time": "2024-08-08T16:10:45.128Z"
   },
   {
    "duration": 7,
    "start_time": "2024-08-08T16:14:04.881Z"
   },
   {
    "duration": 8,
    "start_time": "2024-08-08T16:14:15.929Z"
   },
   {
    "duration": 9,
    "start_time": "2024-08-08T16:14:19.980Z"
   },
   {
    "duration": 11,
    "start_time": "2024-08-08T16:15:03.142Z"
   },
   {
    "duration": 1138,
    "start_time": "2024-08-08T16:15:12.140Z"
   },
   {
    "duration": 130,
    "start_time": "2024-08-08T16:15:13.280Z"
   },
   {
    "duration": 17,
    "start_time": "2024-08-08T16:15:13.412Z"
   },
   {
    "duration": 21,
    "start_time": "2024-08-08T16:15:13.431Z"
   },
   {
    "duration": 48,
    "start_time": "2024-08-08T16:15:13.453Z"
   },
   {
    "duration": 45,
    "start_time": "2024-08-08T16:15:13.503Z"
   },
   {
    "duration": 47,
    "start_time": "2024-08-08T16:15:13.550Z"
   },
   {
    "duration": 49,
    "start_time": "2024-08-08T16:15:13.599Z"
   },
   {
    "duration": 66,
    "start_time": "2024-08-08T16:15:13.650Z"
   },
   {
    "duration": 58,
    "start_time": "2024-08-08T16:15:13.719Z"
   },
   {
    "duration": 54,
    "start_time": "2024-08-08T16:15:13.779Z"
   },
   {
    "duration": 36,
    "start_time": "2024-08-08T16:15:13.835Z"
   },
   {
    "duration": 42,
    "start_time": "2024-08-08T16:15:13.872Z"
   },
   {
    "duration": 41,
    "start_time": "2024-08-08T16:15:13.916Z"
   },
   {
    "duration": 38,
    "start_time": "2024-08-08T16:15:13.959Z"
   },
   {
    "duration": 59,
    "start_time": "2024-08-08T16:15:13.999Z"
   },
   {
    "duration": 45,
    "start_time": "2024-08-08T16:15:14.059Z"
   },
   {
    "duration": 60,
    "start_time": "2024-08-08T16:15:14.106Z"
   },
   {
    "duration": 55,
    "start_time": "2024-08-08T16:15:14.168Z"
   },
   {
    "duration": 47,
    "start_time": "2024-08-08T16:15:14.224Z"
   },
   {
    "duration": 259,
    "start_time": "2024-08-08T16:15:14.273Z"
   },
   {
    "duration": 153,
    "start_time": "2024-08-08T16:15:14.534Z"
   },
   {
    "duration": 169,
    "start_time": "2024-08-08T16:15:14.689Z"
   },
   {
    "duration": 300,
    "start_time": "2024-08-08T16:15:14.860Z"
   },
   {
    "duration": 5,
    "start_time": "2024-08-08T16:15:15.162Z"
   },
   {
    "duration": 299,
    "start_time": "2024-08-08T16:15:15.169Z"
   },
   {
    "duration": 5,
    "start_time": "2024-08-08T16:15:15.470Z"
   },
   {
    "duration": 69,
    "start_time": "2024-08-08T16:15:15.479Z"
   },
   {
    "duration": 23,
    "start_time": "2024-08-08T16:15:15.550Z"
   },
   {
    "duration": 76,
    "start_time": "2024-08-08T16:15:15.575Z"
   },
   {
    "duration": 303,
    "start_time": "2024-08-08T16:15:15.652Z"
   },
   {
    "duration": 387,
    "start_time": "2024-08-08T16:15:15.957Z"
   },
   {
    "duration": 267,
    "start_time": "2024-08-08T16:15:16.345Z"
   },
   {
    "duration": 4,
    "start_time": "2024-08-08T16:15:16.614Z"
   },
   {
    "duration": 305,
    "start_time": "2024-08-08T16:15:16.620Z"
   },
   {
    "duration": 285,
    "start_time": "2024-08-08T16:15:16.927Z"
   },
   {
    "duration": 5,
    "start_time": "2024-08-08T16:15:17.214Z"
   },
   {
    "duration": 1045,
    "start_time": "2024-08-08T16:15:17.220Z"
   },
   {
    "duration": 15,
    "start_time": "2024-08-08T16:15:18.267Z"
   },
   {
    "duration": 31,
    "start_time": "2024-08-08T16:15:18.284Z"
   },
   {
    "duration": 26,
    "start_time": "2024-08-08T16:15:18.316Z"
   },
   {
    "duration": 65,
    "start_time": "2024-08-08T16:15:18.344Z"
   },
   {
    "duration": 51,
    "start_time": "2024-08-08T16:15:18.411Z"
   },
   {
    "duration": 11,
    "start_time": "2024-08-08T16:16:01.262Z"
   },
   {
    "duration": 9,
    "start_time": "2024-08-08T16:16:19.818Z"
   },
   {
    "duration": 10,
    "start_time": "2024-08-08T16:16:28.794Z"
   },
   {
    "duration": 13,
    "start_time": "2024-08-08T16:16:57.136Z"
   },
   {
    "duration": 6,
    "start_time": "2024-08-08T16:17:51.261Z"
   },
   {
    "duration": 5,
    "start_time": "2024-08-08T16:18:06.579Z"
   },
   {
    "duration": 6,
    "start_time": "2024-08-08T16:18:13.872Z"
   },
   {
    "duration": 5,
    "start_time": "2024-08-08T16:18:22.062Z"
   },
   {
    "duration": 10,
    "start_time": "2024-08-08T16:18:31.380Z"
   },
   {
    "duration": 10,
    "start_time": "2024-08-08T16:18:33.985Z"
   },
   {
    "duration": 6,
    "start_time": "2024-08-08T16:18:39.569Z"
   },
   {
    "duration": 9,
    "start_time": "2024-08-08T16:20:37.943Z"
   },
   {
    "duration": 10,
    "start_time": "2024-08-08T16:20:50.681Z"
   },
   {
    "duration": 8,
    "start_time": "2024-08-08T16:23:00.093Z"
   },
   {
    "duration": 141,
    "start_time": "2024-08-08T16:23:12.497Z"
   },
   {
    "duration": 7,
    "start_time": "2024-08-08T16:23:32.037Z"
   },
   {
    "duration": 1133,
    "start_time": "2024-08-08T16:23:43.738Z"
   },
   {
    "duration": 104,
    "start_time": "2024-08-08T16:23:44.873Z"
   },
   {
    "duration": 17,
    "start_time": "2024-08-08T16:23:44.978Z"
   },
   {
    "duration": 37,
    "start_time": "2024-08-08T16:23:44.997Z"
   },
   {
    "duration": 74,
    "start_time": "2024-08-08T16:23:45.035Z"
   },
   {
    "duration": 26,
    "start_time": "2024-08-08T16:23:45.110Z"
   },
   {
    "duration": 27,
    "start_time": "2024-08-08T16:23:45.138Z"
   },
   {
    "duration": 48,
    "start_time": "2024-08-08T16:23:45.166Z"
   },
   {
    "duration": 23,
    "start_time": "2024-08-08T16:23:45.215Z"
   },
   {
    "duration": 34,
    "start_time": "2024-08-08T16:23:45.240Z"
   },
   {
    "duration": 38,
    "start_time": "2024-08-08T16:23:45.275Z"
   },
   {
    "duration": 55,
    "start_time": "2024-08-08T16:23:45.314Z"
   },
   {
    "duration": 27,
    "start_time": "2024-08-08T16:23:45.370Z"
   },
   {
    "duration": 21,
    "start_time": "2024-08-08T16:23:45.399Z"
   },
   {
    "duration": 31,
    "start_time": "2024-08-08T16:23:45.422Z"
   },
   {
    "duration": 38,
    "start_time": "2024-08-08T16:23:45.455Z"
   },
   {
    "duration": 20,
    "start_time": "2024-08-08T16:23:45.494Z"
   },
   {
    "duration": 31,
    "start_time": "2024-08-08T16:23:45.516Z"
   },
   {
    "duration": 11,
    "start_time": "2024-08-08T16:23:45.549Z"
   },
   {
    "duration": 10,
    "start_time": "2024-08-08T16:23:45.562Z"
   },
   {
    "duration": 185,
    "start_time": "2024-08-08T16:23:45.574Z"
   },
   {
    "duration": 158,
    "start_time": "2024-08-08T16:23:45.761Z"
   },
   {
    "duration": 177,
    "start_time": "2024-08-08T16:23:45.921Z"
   },
   {
    "duration": 290,
    "start_time": "2024-08-08T16:23:46.100Z"
   },
   {
    "duration": 5,
    "start_time": "2024-08-08T16:23:46.393Z"
   },
   {
    "duration": 288,
    "start_time": "2024-08-08T16:23:46.400Z"
   },
   {
    "duration": 5,
    "start_time": "2024-08-08T16:23:46.690Z"
   },
   {
    "duration": 43,
    "start_time": "2024-08-08T16:23:46.698Z"
   },
   {
    "duration": 25,
    "start_time": "2024-08-08T16:23:46.742Z"
   },
   {
    "duration": 20,
    "start_time": "2024-08-08T16:23:46.769Z"
   },
   {
    "duration": 307,
    "start_time": "2024-08-08T16:23:46.791Z"
   },
   {
    "duration": 383,
    "start_time": "2024-08-08T16:23:47.100Z"
   },
   {
    "duration": 295,
    "start_time": "2024-08-08T16:23:47.486Z"
   },
   {
    "duration": 6,
    "start_time": "2024-08-08T16:23:47.782Z"
   },
   {
    "duration": 311,
    "start_time": "2024-08-08T16:23:47.789Z"
   },
   {
    "duration": 296,
    "start_time": "2024-08-08T16:23:48.102Z"
   },
   {
    "duration": 5,
    "start_time": "2024-08-08T16:23:48.400Z"
   },
   {
    "duration": 995,
    "start_time": "2024-08-08T16:23:48.407Z"
   },
   {
    "duration": 15,
    "start_time": "2024-08-08T16:23:49.404Z"
   },
   {
    "duration": 4,
    "start_time": "2024-08-08T16:23:49.421Z"
   },
   {
    "duration": 40,
    "start_time": "2024-08-08T16:23:49.427Z"
   },
   {
    "duration": 5,
    "start_time": "2024-08-08T16:23:49.469Z"
   },
   {
    "duration": 99,
    "start_time": "2024-08-08T16:23:49.476Z"
   },
   {
    "duration": 1107,
    "start_time": "2024-08-08T16:24:01.125Z"
   },
   {
    "duration": 134,
    "start_time": "2024-08-08T16:24:02.234Z"
   },
   {
    "duration": 23,
    "start_time": "2024-08-08T16:24:02.370Z"
   },
   {
    "duration": 34,
    "start_time": "2024-08-08T16:24:02.395Z"
   },
   {
    "duration": 73,
    "start_time": "2024-08-08T16:24:02.431Z"
   },
   {
    "duration": 70,
    "start_time": "2024-08-08T16:24:02.505Z"
   },
   {
    "duration": 38,
    "start_time": "2024-08-08T16:24:02.577Z"
   },
   {
    "duration": 31,
    "start_time": "2024-08-08T16:24:02.617Z"
   },
   {
    "duration": 46,
    "start_time": "2024-08-08T16:24:02.650Z"
   },
   {
    "duration": 55,
    "start_time": "2024-08-08T16:24:02.698Z"
   },
   {
    "duration": 46,
    "start_time": "2024-08-08T16:24:02.755Z"
   },
   {
    "duration": 25,
    "start_time": "2024-08-08T16:24:02.803Z"
   },
   {
    "duration": 123,
    "start_time": "2024-08-08T16:24:02.830Z"
   },
   {
    "duration": 20,
    "start_time": "2024-08-08T16:24:02.957Z"
   },
   {
    "duration": 38,
    "start_time": "2024-08-08T16:24:02.978Z"
   },
   {
    "duration": 21,
    "start_time": "2024-08-08T16:24:03.017Z"
   },
   {
    "duration": 11,
    "start_time": "2024-08-08T16:24:03.040Z"
   },
   {
    "duration": 16,
    "start_time": "2024-08-08T16:24:03.053Z"
   },
   {
    "duration": 27,
    "start_time": "2024-08-08T16:24:03.071Z"
   },
   {
    "duration": 37,
    "start_time": "2024-08-08T16:24:03.100Z"
   },
   {
    "duration": 207,
    "start_time": "2024-08-08T16:24:03.139Z"
   },
   {
    "duration": 147,
    "start_time": "2024-08-08T16:24:03.355Z"
   },
   {
    "duration": 166,
    "start_time": "2024-08-08T16:24:03.503Z"
   },
   {
    "duration": 300,
    "start_time": "2024-08-08T16:24:03.671Z"
   },
   {
    "duration": 4,
    "start_time": "2024-08-08T16:24:03.973Z"
   },
   {
    "duration": 285,
    "start_time": "2024-08-08T16:24:03.979Z"
   },
   {
    "duration": 4,
    "start_time": "2024-08-08T16:24:04.266Z"
   },
   {
    "duration": 40,
    "start_time": "2024-08-08T16:24:04.272Z"
   },
   {
    "duration": 20,
    "start_time": "2024-08-08T16:24:04.314Z"
   },
   {
    "duration": 53,
    "start_time": "2024-08-08T16:24:04.336Z"
   },
   {
    "duration": 273,
    "start_time": "2024-08-08T16:24:04.391Z"
   },
   {
    "duration": 376,
    "start_time": "2024-08-08T16:24:04.666Z"
   },
   {
    "duration": 292,
    "start_time": "2024-08-08T16:24:05.044Z"
   },
   {
    "duration": 5,
    "start_time": "2024-08-08T16:24:05.338Z"
   },
   {
    "duration": 259,
    "start_time": "2024-08-08T16:24:05.356Z"
   },
   {
    "duration": 276,
    "start_time": "2024-08-08T16:24:05.617Z"
   },
   {
    "duration": 4,
    "start_time": "2024-08-08T16:24:05.894Z"
   },
   {
    "duration": 948,
    "start_time": "2024-08-08T16:24:05.899Z"
   },
   {
    "duration": 18,
    "start_time": "2024-08-08T16:24:06.849Z"
   },
   {
    "duration": 91,
    "start_time": "2024-08-08T16:24:06.868Z"
   },
   {
    "duration": 8,
    "start_time": "2024-08-08T16:24:06.962Z"
   },
   {
    "duration": 21,
    "start_time": "2024-08-08T16:24:06.971Z"
   },
   {
    "duration": 11,
    "start_time": "2024-08-08T16:24:06.993Z"
   },
   {
    "duration": 10,
    "start_time": "2024-08-08T16:25:18.006Z"
   },
   {
    "duration": 11,
    "start_time": "2024-08-08T16:45:03.080Z"
   },
   {
    "duration": 10,
    "start_time": "2024-08-08T16:45:12.050Z"
   },
   {
    "duration": 10,
    "start_time": "2024-08-08T16:45:17.889Z"
   },
   {
    "duration": 11,
    "start_time": "2024-08-08T16:54:25.823Z"
   },
   {
    "duration": 113,
    "start_time": "2024-08-08T16:54:40.511Z"
   },
   {
    "duration": 9,
    "start_time": "2024-08-08T16:54:43.771Z"
   },
   {
    "duration": 14,
    "start_time": "2024-08-08T16:55:52.794Z"
   },
   {
    "duration": 10,
    "start_time": "2024-08-08T17:00:18.146Z"
   },
   {
    "duration": 10,
    "start_time": "2024-08-08T17:00:39.648Z"
   },
   {
    "duration": 6,
    "start_time": "2024-08-08T17:52:57.739Z"
   },
   {
    "duration": 1164,
    "start_time": "2024-08-08T17:53:03.979Z"
   },
   {
    "duration": 131,
    "start_time": "2024-08-08T17:53:05.146Z"
   },
   {
    "duration": 56,
    "start_time": "2024-08-08T17:53:05.279Z"
   },
   {
    "duration": 31,
    "start_time": "2024-08-08T17:53:05.337Z"
   },
   {
    "duration": 63,
    "start_time": "2024-08-08T17:53:05.371Z"
   },
   {
    "duration": 104,
    "start_time": "2024-08-08T17:53:05.436Z"
   },
   {
    "duration": 30,
    "start_time": "2024-08-08T17:53:05.542Z"
   },
   {
    "duration": 37,
    "start_time": "2024-08-08T17:53:05.574Z"
   },
   {
    "duration": 13,
    "start_time": "2024-08-08T17:53:05.613Z"
   },
   {
    "duration": 22,
    "start_time": "2024-08-08T17:53:05.627Z"
   },
   {
    "duration": 20,
    "start_time": "2024-08-08T17:53:05.650Z"
   },
   {
    "duration": 41,
    "start_time": "2024-08-08T17:53:05.672Z"
   },
   {
    "duration": 47,
    "start_time": "2024-08-08T17:53:05.715Z"
   },
   {
    "duration": 19,
    "start_time": "2024-08-08T17:53:05.765Z"
   },
   {
    "duration": 17,
    "start_time": "2024-08-08T17:53:05.786Z"
   },
   {
    "duration": 33,
    "start_time": "2024-08-08T17:53:05.805Z"
   },
   {
    "duration": 18,
    "start_time": "2024-08-08T17:53:05.840Z"
   },
   {
    "duration": 49,
    "start_time": "2024-08-08T17:53:05.860Z"
   },
   {
    "duration": 22,
    "start_time": "2024-08-08T17:53:05.911Z"
   },
   {
    "duration": 9,
    "start_time": "2024-08-08T17:53:05.935Z"
   },
   {
    "duration": 205,
    "start_time": "2024-08-08T17:53:05.946Z"
   },
   {
    "duration": 149,
    "start_time": "2024-08-08T17:53:06.153Z"
   },
   {
    "duration": 179,
    "start_time": "2024-08-08T17:53:06.303Z"
   },
   {
    "duration": 309,
    "start_time": "2024-08-08T17:53:06.484Z"
   },
   {
    "duration": 5,
    "start_time": "2024-08-08T17:53:06.794Z"
   },
   {
    "duration": 317,
    "start_time": "2024-08-08T17:53:06.801Z"
   },
   {
    "duration": 6,
    "start_time": "2024-08-08T17:53:07.120Z"
   },
   {
    "duration": 53,
    "start_time": "2024-08-08T17:53:07.127Z"
   },
   {
    "duration": 22,
    "start_time": "2024-08-08T17:53:07.182Z"
   },
   {
    "duration": 23,
    "start_time": "2024-08-08T17:53:07.206Z"
   },
   {
    "duration": 324,
    "start_time": "2024-08-08T17:53:07.231Z"
   },
   {
    "duration": 386,
    "start_time": "2024-08-08T17:53:07.557Z"
   },
   {
    "duration": 269,
    "start_time": "2024-08-08T17:53:07.944Z"
   },
   {
    "duration": 5,
    "start_time": "2024-08-08T17:53:08.215Z"
   },
   {
    "duration": 272,
    "start_time": "2024-08-08T17:53:08.222Z"
   },
   {
    "duration": 282,
    "start_time": "2024-08-08T17:53:08.496Z"
   },
   {
    "duration": 4,
    "start_time": "2024-08-08T17:53:08.780Z"
   },
   {
    "duration": 1031,
    "start_time": "2024-08-08T17:53:08.786Z"
   },
   {
    "duration": 18,
    "start_time": "2024-08-08T17:53:09.819Z"
   },
   {
    "duration": 6,
    "start_time": "2024-08-08T17:53:09.854Z"
   },
   {
    "duration": 6,
    "start_time": "2024-08-08T17:53:09.865Z"
   },
   {
    "duration": 25,
    "start_time": "2024-08-08T17:53:09.873Z"
   },
   {
    "duration": 18,
    "start_time": "2024-08-08T17:53:09.900Z"
   },
   {
    "duration": 83,
    "start_time": "2024-08-09T09:08:18.037Z"
   },
   {
    "duration": 1284,
    "start_time": "2024-08-09T16:34:25.651Z"
   },
   {
    "duration": 416,
    "start_time": "2024-08-09T16:34:26.938Z"
   },
   {
    "duration": 17,
    "start_time": "2024-08-09T16:34:27.355Z"
   },
   {
    "duration": 11,
    "start_time": "2024-08-09T16:34:27.374Z"
   },
   {
    "duration": 19,
    "start_time": "2024-08-09T16:34:27.387Z"
   },
   {
    "duration": 14,
    "start_time": "2024-08-09T16:34:27.408Z"
   },
   {
    "duration": 12,
    "start_time": "2024-08-09T16:34:27.423Z"
   },
   {
    "duration": 16,
    "start_time": "2024-08-09T16:34:27.436Z"
   },
   {
    "duration": 11,
    "start_time": "2024-08-09T16:34:27.454Z"
   },
   {
    "duration": 10,
    "start_time": "2024-08-09T16:34:27.466Z"
   },
   {
    "duration": 12,
    "start_time": "2024-08-09T16:34:27.477Z"
   },
   {
    "duration": 9,
    "start_time": "2024-08-09T16:34:27.506Z"
   },
   {
    "duration": 9,
    "start_time": "2024-08-09T16:34:27.516Z"
   },
   {
    "duration": 7,
    "start_time": "2024-08-09T16:34:27.528Z"
   },
   {
    "duration": 10,
    "start_time": "2024-08-09T16:34:27.536Z"
   },
   {
    "duration": 17,
    "start_time": "2024-08-09T16:34:27.547Z"
   },
   {
    "duration": 11,
    "start_time": "2024-08-09T16:34:27.566Z"
   },
   {
    "duration": 38,
    "start_time": "2024-08-09T16:34:27.578Z"
   },
   {
    "duration": 11,
    "start_time": "2024-08-09T16:34:27.617Z"
   },
   {
    "duration": 8,
    "start_time": "2024-08-09T16:34:27.630Z"
   },
   {
    "duration": 192,
    "start_time": "2024-08-09T16:34:27.639Z"
   },
   {
    "duration": 153,
    "start_time": "2024-08-09T16:34:27.833Z"
   },
   {
    "duration": 165,
    "start_time": "2024-08-09T16:34:27.988Z"
   },
   {
    "duration": 275,
    "start_time": "2024-08-09T16:34:28.155Z"
   },
   {
    "duration": 4,
    "start_time": "2024-08-09T16:34:28.432Z"
   },
   {
    "duration": 272,
    "start_time": "2024-08-09T16:34:28.437Z"
   },
   {
    "duration": 5,
    "start_time": "2024-08-09T16:34:28.710Z"
   },
   {
    "duration": 47,
    "start_time": "2024-08-09T16:34:28.716Z"
   },
   {
    "duration": 22,
    "start_time": "2024-08-09T16:34:28.765Z"
   },
   {
    "duration": 29,
    "start_time": "2024-08-09T16:34:28.789Z"
   },
   {
    "duration": 292,
    "start_time": "2024-08-09T16:34:28.821Z"
   },
   {
    "duration": 362,
    "start_time": "2024-08-09T16:34:29.115Z"
   },
   {
    "duration": 253,
    "start_time": "2024-08-09T16:34:29.479Z"
   },
   {
    "duration": 5,
    "start_time": "2024-08-09T16:34:29.734Z"
   },
   {
    "duration": 272,
    "start_time": "2024-08-09T16:34:29.741Z"
   },
   {
    "duration": 283,
    "start_time": "2024-08-09T16:34:30.015Z"
   },
   {
    "duration": 5,
    "start_time": "2024-08-09T16:34:30.308Z"
   },
   {
    "duration": 974,
    "start_time": "2024-08-09T16:34:30.314Z"
   },
   {
    "duration": 24,
    "start_time": "2024-08-09T16:34:31.289Z"
   },
   {
    "duration": 24,
    "start_time": "2024-08-09T16:34:31.314Z"
   },
   {
    "duration": 54,
    "start_time": "2024-08-09T16:34:31.342Z"
   },
   {
    "duration": 32,
    "start_time": "2024-08-09T16:34:31.397Z"
   },
   {
    "duration": 28,
    "start_time": "2024-08-09T16:34:31.431Z"
   },
   {
    "duration": 49,
    "start_time": "2024-08-10T06:52:12.932Z"
   },
   {
    "duration": 1240,
    "start_time": "2024-08-10T06:52:24.798Z"
   },
   {
    "duration": 366,
    "start_time": "2024-08-10T06:52:26.040Z"
   },
   {
    "duration": 16,
    "start_time": "2024-08-10T06:52:26.408Z"
   },
   {
    "duration": 7,
    "start_time": "2024-08-10T06:52:26.426Z"
   },
   {
    "duration": 55,
    "start_time": "2024-08-10T06:52:26.434Z"
   },
   {
    "duration": 7,
    "start_time": "2024-08-10T06:52:26.490Z"
   },
   {
    "duration": 9,
    "start_time": "2024-08-10T06:52:26.498Z"
   },
   {
    "duration": 13,
    "start_time": "2024-08-10T06:52:26.508Z"
   },
   {
    "duration": 11,
    "start_time": "2024-08-10T06:52:26.522Z"
   },
   {
    "duration": 10,
    "start_time": "2024-08-10T06:52:26.536Z"
   },
   {
    "duration": 11,
    "start_time": "2024-08-10T06:52:26.565Z"
   },
   {
    "duration": 15,
    "start_time": "2024-08-10T06:52:26.578Z"
   },
   {
    "duration": 14,
    "start_time": "2024-08-10T06:52:26.594Z"
   },
   {
    "duration": 7,
    "start_time": "2024-08-10T06:52:26.610Z"
   },
   {
    "duration": 14,
    "start_time": "2024-08-10T06:52:26.619Z"
   },
   {
    "duration": 24,
    "start_time": "2024-08-10T06:52:26.635Z"
   },
   {
    "duration": 10,
    "start_time": "2024-08-10T06:52:26.660Z"
   },
   {
    "duration": 55,
    "start_time": "2024-08-10T06:52:26.672Z"
   },
   {
    "duration": 11,
    "start_time": "2024-08-10T06:52:26.728Z"
   },
   {
    "duration": 7,
    "start_time": "2024-08-10T06:52:26.741Z"
   },
   {
    "duration": 195,
    "start_time": "2024-08-10T06:52:26.750Z"
   },
   {
    "duration": 126,
    "start_time": "2024-08-10T06:52:26.947Z"
   },
   {
    "duration": 157,
    "start_time": "2024-08-10T06:52:27.074Z"
   },
   {
    "duration": 265,
    "start_time": "2024-08-10T06:52:27.233Z"
   },
   {
    "duration": 4,
    "start_time": "2024-08-10T06:52:27.500Z"
   },
   {
    "duration": 261,
    "start_time": "2024-08-10T06:52:27.505Z"
   },
   {
    "duration": 5,
    "start_time": "2024-08-10T06:52:27.768Z"
   },
   {
    "duration": 33,
    "start_time": "2024-08-10T06:52:27.777Z"
   },
   {
    "duration": 19,
    "start_time": "2024-08-10T06:52:27.811Z"
   },
   {
    "duration": 48,
    "start_time": "2024-08-10T06:52:27.831Z"
   },
   {
    "duration": 19,
    "start_time": "2024-08-10T06:52:27.880Z"
   },
   {
    "duration": 287,
    "start_time": "2024-08-10T06:52:27.901Z"
   },
   {
    "duration": 364,
    "start_time": "2024-08-10T06:52:28.190Z"
   },
   {
    "duration": 269,
    "start_time": "2024-08-10T06:52:28.556Z"
   },
   {
    "duration": 4,
    "start_time": "2024-08-10T06:52:28.827Z"
   },
   {
    "duration": 269,
    "start_time": "2024-08-10T06:52:28.832Z"
   },
   {
    "duration": 274,
    "start_time": "2024-08-10T06:52:29.103Z"
   },
   {
    "duration": 4,
    "start_time": "2024-08-10T06:52:29.379Z"
   },
   {
    "duration": 1021,
    "start_time": "2024-08-10T06:52:29.384Z"
   },
   {
    "duration": 18,
    "start_time": "2024-08-10T06:52:30.407Z"
   },
   {
    "duration": 82,
    "start_time": "2024-08-10T06:52:30.431Z"
   },
   {
    "duration": 48,
    "start_time": "2024-08-10T06:52:30.515Z"
   },
   {
    "duration": 35,
    "start_time": "2024-08-10T06:52:30.565Z"
   },
   {
    "duration": 39,
    "start_time": "2024-08-10T06:52:30.602Z"
   },
   {
    "duration": 18,
    "start_time": "2024-08-10T06:53:09.069Z"
   },
   {
    "duration": 1118,
    "start_time": "2024-08-10T06:58:34.292Z"
   },
   {
    "duration": 104,
    "start_time": "2024-08-10T06:58:35.412Z"
   },
   {
    "duration": 15,
    "start_time": "2024-08-10T06:58:35.518Z"
   },
   {
    "duration": 8,
    "start_time": "2024-08-10T06:58:35.534Z"
   },
   {
    "duration": 13,
    "start_time": "2024-08-10T06:58:35.544Z"
   },
   {
    "duration": 18,
    "start_time": "2024-08-10T06:58:35.558Z"
   },
   {
    "duration": 14,
    "start_time": "2024-08-10T06:58:35.578Z"
   },
   {
    "duration": 19,
    "start_time": "2024-08-10T06:58:35.594Z"
   },
   {
    "duration": 11,
    "start_time": "2024-08-10T06:58:35.615Z"
   },
   {
    "duration": 8,
    "start_time": "2024-08-10T06:58:35.629Z"
   },
   {
    "duration": 9,
    "start_time": "2024-08-10T06:58:35.638Z"
   },
   {
    "duration": 16,
    "start_time": "2024-08-10T06:58:35.649Z"
   },
   {
    "duration": 18,
    "start_time": "2024-08-10T06:58:35.667Z"
   },
   {
    "duration": 6,
    "start_time": "2024-08-10T06:58:35.686Z"
   },
   {
    "duration": 14,
    "start_time": "2024-08-10T06:58:35.694Z"
   },
   {
    "duration": 23,
    "start_time": "2024-08-10T06:58:35.710Z"
   },
   {
    "duration": 5,
    "start_time": "2024-08-10T06:58:35.735Z"
   },
   {
    "duration": 14,
    "start_time": "2024-08-10T06:58:35.741Z"
   },
   {
    "duration": 15,
    "start_time": "2024-08-10T06:58:35.756Z"
   },
   {
    "duration": 183,
    "start_time": "2024-08-10T06:58:35.773Z"
   },
   {
    "duration": 151,
    "start_time": "2024-08-10T06:58:35.958Z"
   },
   {
    "duration": 174,
    "start_time": "2024-08-10T06:58:36.111Z"
   },
   {
    "duration": 288,
    "start_time": "2024-08-10T06:58:36.286Z"
   },
   {
    "duration": 6,
    "start_time": "2024-08-10T06:58:36.576Z"
   },
   {
    "duration": 306,
    "start_time": "2024-08-10T06:58:36.584Z"
   },
   {
    "duration": 5,
    "start_time": "2024-08-10T06:58:36.891Z"
   },
   {
    "duration": 93,
    "start_time": "2024-08-10T06:58:36.898Z"
   },
   {
    "duration": 13,
    "start_time": "2024-08-10T06:58:36.995Z"
   },
   {
    "duration": 26,
    "start_time": "2024-08-10T06:58:37.009Z"
   },
   {
    "duration": 44,
    "start_time": "2024-08-10T06:58:37.036Z"
   },
   {
    "duration": 301,
    "start_time": "2024-08-10T06:58:37.082Z"
   },
   {
    "duration": 366,
    "start_time": "2024-08-10T06:58:37.385Z"
   },
   {
    "duration": 274,
    "start_time": "2024-08-10T06:58:37.753Z"
   },
   {
    "duration": 5,
    "start_time": "2024-08-10T06:58:38.028Z"
   },
   {
    "duration": 276,
    "start_time": "2024-08-10T06:58:38.034Z"
   },
   {
    "duration": 281,
    "start_time": "2024-08-10T06:58:38.312Z"
   },
   {
    "duration": 4,
    "start_time": "2024-08-10T06:58:38.595Z"
   },
   {
    "duration": 940,
    "start_time": "2024-08-10T06:58:38.601Z"
   },
   {
    "duration": 14,
    "start_time": "2024-08-10T06:58:39.542Z"
   },
   {
    "duration": 6,
    "start_time": "2024-08-10T06:58:39.565Z"
   },
   {
    "duration": 8,
    "start_time": "2024-08-10T06:58:39.573Z"
   },
   {
    "duration": 4,
    "start_time": "2024-08-10T06:58:39.582Z"
   },
   {
    "duration": 23,
    "start_time": "2024-08-10T06:58:39.588Z"
   },
   {
    "duration": 6,
    "start_time": "2024-08-10T07:02:34.518Z"
   },
   {
    "duration": 161,
    "start_time": "2024-08-10T07:03:26.456Z"
   },
   {
    "duration": 123,
    "start_time": "2024-08-10T07:03:35.420Z"
   },
   {
    "duration": 148,
    "start_time": "2024-08-10T07:03:51.989Z"
   },
   {
    "duration": 98,
    "start_time": "2024-08-10T07:07:05.438Z"
   },
   {
    "duration": 14,
    "start_time": "2024-08-10T07:13:26.134Z"
   },
   {
    "duration": 20,
    "start_time": "2024-08-10T07:13:34.459Z"
   },
   {
    "duration": 19,
    "start_time": "2024-08-10T07:14:01.584Z"
   },
   {
    "duration": 8,
    "start_time": "2024-08-10T07:14:07.226Z"
   },
   {
    "duration": 166,
    "start_time": "2024-08-10T07:30:57.890Z"
   },
   {
    "duration": 270,
    "start_time": "2024-08-10T07:32:16.108Z"
   },
   {
    "duration": 1201,
    "start_time": "2024-08-10T07:43:20.151Z"
   },
   {
    "duration": 73,
    "start_time": "2024-08-10T07:43:21.354Z"
   },
   {
    "duration": 16,
    "start_time": "2024-08-10T07:43:21.428Z"
   },
   {
    "duration": 24,
    "start_time": "2024-08-10T07:43:21.446Z"
   },
   {
    "duration": 24,
    "start_time": "2024-08-10T07:43:21.472Z"
   },
   {
    "duration": 24,
    "start_time": "2024-08-10T07:43:21.498Z"
   },
   {
    "duration": 21,
    "start_time": "2024-08-10T07:43:21.524Z"
   },
   {
    "duration": 12,
    "start_time": "2024-08-10T07:43:21.546Z"
   },
   {
    "duration": 84,
    "start_time": "2024-08-10T07:43:21.560Z"
   },
   {
    "duration": 9,
    "start_time": "2024-08-10T07:43:21.647Z"
   },
   {
    "duration": 13,
    "start_time": "2024-08-10T07:43:21.657Z"
   },
   {
    "duration": 3,
    "start_time": "2024-08-10T07:43:21.671Z"
   },
   {
    "duration": 12,
    "start_time": "2024-08-10T07:43:21.675Z"
   },
   {
    "duration": 8,
    "start_time": "2024-08-10T07:43:21.689Z"
   },
   {
    "duration": 15,
    "start_time": "2024-08-10T07:43:21.699Z"
   },
   {
    "duration": 6,
    "start_time": "2024-08-10T07:43:21.715Z"
   },
   {
    "duration": 5,
    "start_time": "2024-08-10T07:43:21.722Z"
   },
   {
    "duration": 43,
    "start_time": "2024-08-10T07:43:21.729Z"
   },
   {
    "duration": 8,
    "start_time": "2024-08-10T07:43:21.774Z"
   },
   {
    "duration": 6,
    "start_time": "2024-08-10T07:43:21.783Z"
   },
   {
    "duration": 187,
    "start_time": "2024-08-10T07:43:21.791Z"
   },
   {
    "duration": 90,
    "start_time": "2024-08-10T07:43:21.980Z"
   },
   {
    "duration": 164,
    "start_time": "2024-08-10T07:43:22.072Z"
   },
   {
    "duration": 268,
    "start_time": "2024-08-10T07:43:22.237Z"
   },
   {
    "duration": 261,
    "start_time": "2024-08-10T07:43:22.507Z"
   },
   {
    "duration": 32,
    "start_time": "2024-08-10T07:43:22.770Z"
   },
   {
    "duration": 10,
    "start_time": "2024-08-10T07:43:22.804Z"
   },
   {
    "duration": 48,
    "start_time": "2024-08-10T07:43:22.818Z"
   },
   {
    "duration": 19,
    "start_time": "2024-08-10T07:43:22.868Z"
   },
   {
    "duration": 268,
    "start_time": "2024-08-10T07:43:22.889Z"
   },
   {
    "duration": 262,
    "start_time": "2024-08-10T07:43:23.159Z"
   },
   {
    "duration": 245,
    "start_time": "2024-08-10T07:43:23.423Z"
   },
   {
    "duration": 5,
    "start_time": "2024-08-10T07:43:23.669Z"
   },
   {
    "duration": 312,
    "start_time": "2024-08-10T07:43:23.675Z"
   },
   {
    "duration": 4,
    "start_time": "2024-08-10T07:43:23.989Z"
   },
   {
    "duration": 842,
    "start_time": "2024-08-10T07:43:23.995Z"
   },
   {
    "duration": 14,
    "start_time": "2024-08-10T07:43:24.838Z"
   },
   {
    "duration": 13,
    "start_time": "2024-08-10T07:43:24.853Z"
   },
   {
    "duration": 5,
    "start_time": "2024-08-10T07:43:24.867Z"
   },
   {
    "duration": 5,
    "start_time": "2024-08-10T07:43:24.873Z"
   },
   {
    "duration": 11,
    "start_time": "2024-08-10T07:43:24.879Z"
   },
   {
    "duration": 89,
    "start_time": "2024-08-10T07:45:04.564Z"
   },
   {
    "duration": 315,
    "start_time": "2024-08-10T07:47:20.712Z"
   },
   {
    "duration": 222,
    "start_time": "2024-08-10T07:48:17.204Z"
   },
   {
    "duration": 326,
    "start_time": "2024-08-10T07:48:54.917Z"
   },
   {
    "duration": 372,
    "start_time": "2024-08-10T07:55:12.159Z"
   },
   {
    "duration": 342,
    "start_time": "2024-08-10T07:55:44.887Z"
   },
   {
    "duration": 370,
    "start_time": "2024-08-10T07:56:27.360Z"
   },
   {
    "duration": 371,
    "start_time": "2024-08-10T08:01:46.996Z"
   },
   {
    "duration": 364,
    "start_time": "2024-08-10T08:02:10.878Z"
   },
   {
    "duration": 351,
    "start_time": "2024-08-10T08:02:29.401Z"
   },
   {
    "duration": 433,
    "start_time": "2024-08-10T08:02:46.133Z"
   },
   {
    "duration": 443,
    "start_time": "2024-08-10T08:03:20.385Z"
   },
   {
    "duration": 400,
    "start_time": "2024-08-10T08:03:28.743Z"
   },
   {
    "duration": 389,
    "start_time": "2024-08-10T08:03:41.549Z"
   },
   {
    "duration": 523,
    "start_time": "2024-08-10T08:04:28.003Z"
   },
   {
    "duration": 757,
    "start_time": "2024-08-10T08:04:47.388Z"
   },
   {
    "duration": 529,
    "start_time": "2024-08-10T08:05:06.038Z"
   },
   {
    "duration": 523,
    "start_time": "2024-08-10T08:05:15.518Z"
   },
   {
    "duration": 549,
    "start_time": "2024-08-10T08:05:21.112Z"
   },
   {
    "duration": 553,
    "start_time": "2024-08-10T08:06:08.419Z"
   },
   {
    "duration": 685,
    "start_time": "2024-08-10T08:06:27.821Z"
   },
   {
    "duration": 526,
    "start_time": "2024-08-10T08:09:01.581Z"
   },
   {
    "duration": 564,
    "start_time": "2024-08-10T08:09:25.330Z"
   },
   {
    "duration": 632,
    "start_time": "2024-08-10T08:09:50.275Z"
   },
   {
    "duration": 548,
    "start_time": "2024-08-10T08:10:54.315Z"
   },
   {
    "duration": 1162,
    "start_time": "2024-08-10T08:12:19.972Z"
   },
   {
    "duration": 75,
    "start_time": "2024-08-10T08:12:21.136Z"
   },
   {
    "duration": 17,
    "start_time": "2024-08-10T08:12:21.213Z"
   },
   {
    "duration": 24,
    "start_time": "2024-08-10T08:12:21.233Z"
   },
   {
    "duration": 29,
    "start_time": "2024-08-10T08:12:21.259Z"
   },
   {
    "duration": 16,
    "start_time": "2024-08-10T08:12:21.290Z"
   },
   {
    "duration": 14,
    "start_time": "2024-08-10T08:12:21.307Z"
   },
   {
    "duration": 40,
    "start_time": "2024-08-10T08:12:21.323Z"
   },
   {
    "duration": 12,
    "start_time": "2024-08-10T08:12:21.365Z"
   },
   {
    "duration": 11,
    "start_time": "2024-08-10T08:12:21.379Z"
   },
   {
    "duration": 12,
    "start_time": "2024-08-10T08:12:21.392Z"
   },
   {
    "duration": 18,
    "start_time": "2024-08-10T08:12:21.405Z"
   },
   {
    "duration": 29,
    "start_time": "2024-08-10T08:12:21.425Z"
   },
   {
    "duration": 16,
    "start_time": "2024-08-10T08:12:21.457Z"
   },
   {
    "duration": 37,
    "start_time": "2024-08-10T08:12:21.475Z"
   },
   {
    "duration": 68,
    "start_time": "2024-08-10T08:12:21.514Z"
   },
   {
    "duration": 47,
    "start_time": "2024-08-10T08:12:21.584Z"
   },
   {
    "duration": 56,
    "start_time": "2024-08-10T08:12:21.633Z"
   },
   {
    "duration": 68,
    "start_time": "2024-08-10T08:12:21.691Z"
   },
   {
    "duration": 48,
    "start_time": "2024-08-10T08:12:21.761Z"
   },
   {
    "duration": 173,
    "start_time": "2024-08-10T08:12:21.810Z"
   },
   {
    "duration": 88,
    "start_time": "2024-08-10T08:12:21.985Z"
   },
   {
    "duration": 163,
    "start_time": "2024-08-10T08:12:22.075Z"
   },
   {
    "duration": 291,
    "start_time": "2024-08-10T08:12:22.240Z"
   },
   {
    "duration": 273,
    "start_time": "2024-08-10T08:12:22.532Z"
   },
   {
    "duration": 58,
    "start_time": "2024-08-10T08:12:22.807Z"
   },
   {
    "duration": 13,
    "start_time": "2024-08-10T08:12:22.868Z"
   },
   {
    "duration": 33,
    "start_time": "2024-08-10T08:12:22.887Z"
   },
   {
    "duration": 45,
    "start_time": "2024-08-10T08:12:22.921Z"
   },
   {
    "duration": 130,
    "start_time": "2024-08-10T08:12:22.968Z"
   },
   {
    "duration": 0,
    "start_time": "2024-08-10T08:12:23.100Z"
   },
   {
    "duration": 0,
    "start_time": "2024-08-10T08:12:23.102Z"
   },
   {
    "duration": 0,
    "start_time": "2024-08-10T08:12:23.104Z"
   },
   {
    "duration": 0,
    "start_time": "2024-08-10T08:12:23.106Z"
   },
   {
    "duration": 0,
    "start_time": "2024-08-10T08:12:23.107Z"
   },
   {
    "duration": 0,
    "start_time": "2024-08-10T08:12:23.109Z"
   },
   {
    "duration": 0,
    "start_time": "2024-08-10T08:12:23.110Z"
   },
   {
    "duration": 1,
    "start_time": "2024-08-10T08:12:23.110Z"
   },
   {
    "duration": 0,
    "start_time": "2024-08-10T08:12:23.112Z"
   },
   {
    "duration": 627,
    "start_time": "2024-08-10T08:13:10.028Z"
   },
   {
    "duration": 1149,
    "start_time": "2024-08-10T08:13:21.780Z"
   },
   {
    "duration": 76,
    "start_time": "2024-08-10T08:13:22.931Z"
   },
   {
    "duration": 16,
    "start_time": "2024-08-10T08:13:23.009Z"
   },
   {
    "duration": 8,
    "start_time": "2024-08-10T08:13:23.027Z"
   },
   {
    "duration": 11,
    "start_time": "2024-08-10T08:13:23.036Z"
   },
   {
    "duration": 6,
    "start_time": "2024-08-10T08:13:23.049Z"
   },
   {
    "duration": 11,
    "start_time": "2024-08-10T08:13:23.057Z"
   },
   {
    "duration": 13,
    "start_time": "2024-08-10T08:13:23.070Z"
   },
   {
    "duration": 12,
    "start_time": "2024-08-10T08:13:23.085Z"
   },
   {
    "duration": 11,
    "start_time": "2024-08-10T08:13:23.099Z"
   },
   {
    "duration": 10,
    "start_time": "2024-08-10T08:13:23.112Z"
   },
   {
    "duration": 14,
    "start_time": "2024-08-10T08:13:23.123Z"
   },
   {
    "duration": 62,
    "start_time": "2024-08-10T08:13:23.138Z"
   },
   {
    "duration": 7,
    "start_time": "2024-08-10T08:13:23.201Z"
   },
   {
    "duration": 13,
    "start_time": "2024-08-10T08:13:23.210Z"
   },
   {
    "duration": 9,
    "start_time": "2024-08-10T08:13:23.224Z"
   },
   {
    "duration": 6,
    "start_time": "2024-08-10T08:13:23.234Z"
   },
   {
    "duration": 12,
    "start_time": "2024-08-10T08:13:23.241Z"
   },
   {
    "duration": 9,
    "start_time": "2024-08-10T08:13:23.265Z"
   },
   {
    "duration": 5,
    "start_time": "2024-08-10T08:13:23.276Z"
   },
   {
    "duration": 182,
    "start_time": "2024-08-10T08:13:23.283Z"
   },
   {
    "duration": 85,
    "start_time": "2024-08-10T08:13:23.467Z"
   },
   {
    "duration": 204,
    "start_time": "2024-08-10T08:13:23.554Z"
   },
   {
    "duration": 273,
    "start_time": "2024-08-10T08:13:23.765Z"
   },
   {
    "duration": 251,
    "start_time": "2024-08-10T08:13:24.040Z"
   },
   {
    "duration": 29,
    "start_time": "2024-08-10T08:13:24.292Z"
   },
   {
    "duration": 8,
    "start_time": "2024-08-10T08:13:24.323Z"
   },
   {
    "duration": 39,
    "start_time": "2024-08-10T08:13:24.334Z"
   },
   {
    "duration": 69,
    "start_time": "2024-08-10T08:13:24.375Z"
   },
   {
    "duration": 527,
    "start_time": "2024-08-10T08:13:24.445Z"
   },
   {
    "duration": 640,
    "start_time": "2024-08-10T08:13:24.974Z"
   },
   {
    "duration": 326,
    "start_time": "2024-08-10T08:13:25.616Z"
   },
   {
    "duration": 3,
    "start_time": "2024-08-10T08:13:25.944Z"
   },
   {
    "duration": 873,
    "start_time": "2024-08-10T08:13:25.949Z"
   },
   {
    "duration": 15,
    "start_time": "2024-08-10T08:13:26.824Z"
   },
   {
    "duration": 5,
    "start_time": "2024-08-10T08:13:26.840Z"
   },
   {
    "duration": 24,
    "start_time": "2024-08-10T08:13:26.846Z"
   },
   {
    "duration": 6,
    "start_time": "2024-08-10T08:13:26.871Z"
   },
   {
    "duration": 11,
    "start_time": "2024-08-10T08:13:26.878Z"
   },
   {
    "duration": 525,
    "start_time": "2024-08-10T08:15:06.669Z"
   },
   {
    "duration": 69,
    "start_time": "2024-08-10T08:19:13.441Z"
   },
   {
    "duration": 15,
    "start_time": "2024-08-10T08:22:21.093Z"
   },
   {
    "duration": 12,
    "start_time": "2024-08-10T08:23:15.247Z"
   },
   {
    "duration": 8,
    "start_time": "2024-08-10T08:25:18.429Z"
   },
   {
    "duration": 84,
    "start_time": "2024-08-10T16:31:28.016Z"
   },
   {
    "duration": 85,
    "start_time": "2024-08-10T16:31:41.081Z"
   },
   {
    "duration": 54,
    "start_time": "2024-08-10T16:32:04.626Z"
   },
   {
    "duration": 97,
    "start_time": "2024-08-10T16:33:30.173Z"
   },
   {
    "duration": 1348,
    "start_time": "2024-08-10T16:33:52.660Z"
   },
   {
    "duration": 296,
    "start_time": "2024-08-10T16:33:54.010Z"
   },
   {
    "duration": 23,
    "start_time": "2024-08-10T16:33:54.307Z"
   },
   {
    "duration": 9,
    "start_time": "2024-08-10T16:33:54.332Z"
   },
   {
    "duration": 21,
    "start_time": "2024-08-10T16:33:54.342Z"
   },
   {
    "duration": 8,
    "start_time": "2024-08-10T16:33:54.364Z"
   },
   {
    "duration": 7,
    "start_time": "2024-08-10T16:33:54.373Z"
   },
   {
    "duration": 44,
    "start_time": "2024-08-10T16:33:54.382Z"
   },
   {
    "duration": 14,
    "start_time": "2024-08-10T16:33:54.428Z"
   },
   {
    "duration": 9,
    "start_time": "2024-08-10T16:33:54.445Z"
   },
   {
    "duration": 12,
    "start_time": "2024-08-10T16:33:54.455Z"
   },
   {
    "duration": 3,
    "start_time": "2024-08-10T16:33:54.468Z"
   },
   {
    "duration": 46,
    "start_time": "2024-08-10T16:33:54.472Z"
   },
   {
    "duration": 7,
    "start_time": "2024-08-10T16:33:54.520Z"
   },
   {
    "duration": 15,
    "start_time": "2024-08-10T16:33:54.529Z"
   },
   {
    "duration": 7,
    "start_time": "2024-08-10T16:33:54.546Z"
   },
   {
    "duration": 7,
    "start_time": "2024-08-10T16:33:54.555Z"
   },
   {
    "duration": 14,
    "start_time": "2024-08-10T16:33:54.564Z"
   },
   {
    "duration": 8,
    "start_time": "2024-08-10T16:33:54.580Z"
   },
   {
    "duration": 7,
    "start_time": "2024-08-10T16:33:54.617Z"
   },
   {
    "duration": 207,
    "start_time": "2024-08-10T16:33:54.626Z"
   },
   {
    "duration": 94,
    "start_time": "2024-08-10T16:33:54.835Z"
   },
   {
    "duration": 159,
    "start_time": "2024-08-10T16:33:54.931Z"
   },
   {
    "duration": 274,
    "start_time": "2024-08-10T16:33:55.092Z"
   },
   {
    "duration": 278,
    "start_time": "2024-08-10T16:33:55.368Z"
   },
   {
    "duration": 36,
    "start_time": "2024-08-10T16:33:55.648Z"
   },
   {
    "duration": 9,
    "start_time": "2024-08-10T16:33:55.686Z"
   },
   {
    "duration": 43,
    "start_time": "2024-08-10T16:33:55.698Z"
   },
   {
    "duration": 20,
    "start_time": "2024-08-10T16:33:55.742Z"
   },
   {
    "duration": 619,
    "start_time": "2024-08-10T16:33:55.763Z"
   },
   {
    "duration": 644,
    "start_time": "2024-08-10T16:33:56.385Z"
   },
   {
    "duration": 5,
    "start_time": "2024-08-10T16:33:57.031Z"
   },
   {
    "duration": 90,
    "start_time": "2024-08-10T16:33:57.038Z"
   },
   {
    "duration": 0,
    "start_time": "2024-08-10T16:33:57.130Z"
   },
   {
    "duration": 0,
    "start_time": "2024-08-10T16:33:57.131Z"
   },
   {
    "duration": 0,
    "start_time": "2024-08-10T16:33:57.132Z"
   },
   {
    "duration": 0,
    "start_time": "2024-08-10T16:33:57.133Z"
   },
   {
    "duration": 0,
    "start_time": "2024-08-10T16:33:57.134Z"
   },
   {
    "duration": 968,
    "start_time": "2024-08-10T16:34:40.800Z"
   },
   {
    "duration": 67,
    "start_time": "2024-08-10T16:36:22.309Z"
   },
   {
    "duration": 54,
    "start_time": "2024-08-10T16:36:28.038Z"
   },
   {
    "duration": 2025,
    "start_time": "2024-08-10T16:37:11.918Z"
   },
   {
    "duration": 1018,
    "start_time": "2024-08-10T16:38:29.045Z"
   },
   {
    "duration": 927,
    "start_time": "2024-08-10T16:42:58.144Z"
   },
   {
    "duration": 942,
    "start_time": "2024-08-10T16:45:25.243Z"
   },
   {
    "duration": 1231,
    "start_time": "2024-08-12T16:20:54.590Z"
   },
   {
    "duration": 286,
    "start_time": "2024-08-12T16:20:55.823Z"
   },
   {
    "duration": 18,
    "start_time": "2024-08-12T16:20:56.111Z"
   },
   {
    "duration": 9,
    "start_time": "2024-08-12T16:20:56.131Z"
   },
   {
    "duration": 12,
    "start_time": "2024-08-12T16:20:56.143Z"
   },
   {
    "duration": 16,
    "start_time": "2024-08-12T16:20:56.157Z"
   },
   {
    "duration": 14,
    "start_time": "2024-08-12T16:20:56.175Z"
   },
   {
    "duration": 28,
    "start_time": "2024-08-12T16:20:56.190Z"
   },
   {
    "duration": 12,
    "start_time": "2024-08-12T16:20:56.220Z"
   },
   {
    "duration": 13,
    "start_time": "2024-08-12T16:20:56.233Z"
   },
   {
    "duration": 12,
    "start_time": "2024-08-12T16:20:56.248Z"
   },
   {
    "duration": 3,
    "start_time": "2024-08-12T16:20:56.261Z"
   },
   {
    "duration": 42,
    "start_time": "2024-08-12T16:20:56.265Z"
   },
   {
    "duration": 7,
    "start_time": "2024-08-12T16:20:56.311Z"
   },
   {
    "duration": 17,
    "start_time": "2024-08-12T16:20:56.321Z"
   },
   {
    "duration": 8,
    "start_time": "2024-08-12T16:20:56.341Z"
   },
   {
    "duration": 7,
    "start_time": "2024-08-12T16:20:56.351Z"
   },
   {
    "duration": 51,
    "start_time": "2024-08-12T16:20:56.360Z"
   },
   {
    "duration": 119,
    "start_time": "2024-08-12T16:20:56.414Z"
   },
   {
    "duration": 0,
    "start_time": "2024-08-12T16:20:56.535Z"
   },
   {
    "duration": 0,
    "start_time": "2024-08-12T16:20:56.537Z"
   },
   {
    "duration": 0,
    "start_time": "2024-08-12T16:20:56.538Z"
   },
   {
    "duration": 0,
    "start_time": "2024-08-12T16:20:56.540Z"
   },
   {
    "duration": 0,
    "start_time": "2024-08-12T16:20:56.541Z"
   },
   {
    "duration": 1,
    "start_time": "2024-08-12T16:20:56.542Z"
   },
   {
    "duration": 0,
    "start_time": "2024-08-12T16:20:56.544Z"
   },
   {
    "duration": 0,
    "start_time": "2024-08-12T16:20:56.546Z"
   },
   {
    "duration": 0,
    "start_time": "2024-08-12T16:20:56.547Z"
   },
   {
    "duration": 0,
    "start_time": "2024-08-12T16:20:56.549Z"
   },
   {
    "duration": 0,
    "start_time": "2024-08-12T16:20:56.551Z"
   },
   {
    "duration": 0,
    "start_time": "2024-08-12T16:20:56.552Z"
   },
   {
    "duration": 0,
    "start_time": "2024-08-12T16:20:56.554Z"
   },
   {
    "duration": 0,
    "start_time": "2024-08-12T16:20:56.555Z"
   },
   {
    "duration": 0,
    "start_time": "2024-08-12T16:20:56.557Z"
   },
   {
    "duration": 0,
    "start_time": "2024-08-12T16:20:56.559Z"
   },
   {
    "duration": 0,
    "start_time": "2024-08-12T16:20:56.560Z"
   },
   {
    "duration": 0,
    "start_time": "2024-08-12T16:20:56.561Z"
   },
   {
    "duration": 0,
    "start_time": "2024-08-12T16:20:56.606Z"
   },
   {
    "duration": 1202,
    "start_time": "2024-08-12T16:21:16.709Z"
   },
   {
    "duration": 76,
    "start_time": "2024-08-12T16:21:17.912Z"
   },
   {
    "duration": 15,
    "start_time": "2024-08-12T16:21:17.990Z"
   },
   {
    "duration": 36,
    "start_time": "2024-08-12T16:21:18.007Z"
   },
   {
    "duration": 28,
    "start_time": "2024-08-12T16:21:18.046Z"
   },
   {
    "duration": 46,
    "start_time": "2024-08-12T16:21:18.075Z"
   },
   {
    "duration": 37,
    "start_time": "2024-08-12T16:21:18.122Z"
   },
   {
    "duration": 68,
    "start_time": "2024-08-12T16:21:18.160Z"
   },
   {
    "duration": 21,
    "start_time": "2024-08-12T16:21:18.230Z"
   },
   {
    "duration": 35,
    "start_time": "2024-08-12T16:21:18.253Z"
   },
   {
    "duration": 68,
    "start_time": "2024-08-12T16:21:18.290Z"
   },
   {
    "duration": 38,
    "start_time": "2024-08-12T16:21:18.360Z"
   },
   {
    "duration": 50,
    "start_time": "2024-08-12T16:21:18.400Z"
   },
   {
    "duration": 22,
    "start_time": "2024-08-12T16:21:18.453Z"
   },
   {
    "duration": 33,
    "start_time": "2024-08-12T16:21:18.478Z"
   },
   {
    "duration": 23,
    "start_time": "2024-08-12T16:21:18.512Z"
   },
   {
    "duration": 46,
    "start_time": "2024-08-12T16:21:18.537Z"
   },
   {
    "duration": 37,
    "start_time": "2024-08-12T16:21:18.584Z"
   },
   {
    "duration": 22,
    "start_time": "2024-08-12T16:21:18.623Z"
   },
   {
    "duration": 29,
    "start_time": "2024-08-12T16:21:18.647Z"
   },
   {
    "duration": 242,
    "start_time": "2024-08-12T16:21:18.678Z"
   },
   {
    "duration": 96,
    "start_time": "2024-08-12T16:21:18.921Z"
   },
   {
    "duration": 168,
    "start_time": "2024-08-12T16:21:19.018Z"
   },
   {
    "duration": 289,
    "start_time": "2024-08-12T16:21:19.188Z"
   },
   {
    "duration": 271,
    "start_time": "2024-08-12T16:21:19.478Z"
   },
   {
    "duration": 33,
    "start_time": "2024-08-12T16:21:19.750Z"
   },
   {
    "duration": 21,
    "start_time": "2024-08-12T16:21:19.785Z"
   },
   {
    "duration": 21,
    "start_time": "2024-08-12T16:21:19.808Z"
   },
   {
    "duration": 49,
    "start_time": "2024-08-12T16:21:19.831Z"
   },
   {
    "duration": 612,
    "start_time": "2024-08-12T16:21:19.881Z"
   },
   {
    "duration": 634,
    "start_time": "2024-08-12T16:21:20.494Z"
   },
   {
    "duration": 4,
    "start_time": "2024-08-12T16:21:21.129Z"
   },
   {
    "duration": 997,
    "start_time": "2024-08-12T16:21:21.135Z"
   },
   {
    "duration": 21,
    "start_time": "2024-08-12T16:21:22.133Z"
   },
   {
    "duration": 5,
    "start_time": "2024-08-12T16:21:22.155Z"
   },
   {
    "duration": 7,
    "start_time": "2024-08-12T16:21:22.162Z"
   },
   {
    "duration": 24,
    "start_time": "2024-08-12T16:21:22.171Z"
   },
   {
    "duration": 12,
    "start_time": "2024-08-12T16:21:22.205Z"
   },
   {
    "duration": 53,
    "start_time": "2024-08-13T07:36:19.613Z"
   },
   {
    "duration": 1199,
    "start_time": "2024-08-13T07:36:25.870Z"
   },
   {
    "duration": 295,
    "start_time": "2024-08-13T07:36:27.071Z"
   },
   {
    "duration": 20,
    "start_time": "2024-08-13T07:36:27.368Z"
   },
   {
    "duration": 7,
    "start_time": "2024-08-13T07:36:27.389Z"
   },
   {
    "duration": 18,
    "start_time": "2024-08-13T07:36:27.398Z"
   },
   {
    "duration": 30,
    "start_time": "2024-08-13T07:36:27.417Z"
   },
   {
    "duration": 10,
    "start_time": "2024-08-13T07:36:27.449Z"
   },
   {
    "duration": 18,
    "start_time": "2024-08-13T07:36:27.460Z"
   },
   {
    "duration": 15,
    "start_time": "2024-08-13T07:36:27.480Z"
   },
   {
    "duration": 8,
    "start_time": "2024-08-13T07:36:27.497Z"
   },
   {
    "duration": 12,
    "start_time": "2024-08-13T07:36:27.507Z"
   },
   {
    "duration": 40,
    "start_time": "2024-08-13T07:36:27.521Z"
   },
   {
    "duration": 22,
    "start_time": "2024-08-13T07:36:27.563Z"
   },
   {
    "duration": 15,
    "start_time": "2024-08-13T07:36:27.588Z"
   },
   {
    "duration": 27,
    "start_time": "2024-08-13T07:36:27.604Z"
   },
   {
    "duration": 20,
    "start_time": "2024-08-13T07:36:27.633Z"
   },
   {
    "duration": 12,
    "start_time": "2024-08-13T07:36:27.655Z"
   },
   {
    "duration": 14,
    "start_time": "2024-08-13T07:36:27.669Z"
   },
   {
    "duration": 9,
    "start_time": "2024-08-13T07:36:27.685Z"
   },
   {
    "duration": 7,
    "start_time": "2024-08-13T07:36:27.696Z"
   },
   {
    "duration": 291,
    "start_time": "2024-08-13T07:36:27.705Z"
   },
   {
    "duration": 119,
    "start_time": "2024-08-13T07:36:27.998Z"
   },
   {
    "duration": 203,
    "start_time": "2024-08-13T07:36:28.119Z"
   },
   {
    "duration": 342,
    "start_time": "2024-08-13T07:36:28.323Z"
   },
   {
    "duration": 309,
    "start_time": "2024-08-13T07:36:28.667Z"
   },
   {
    "duration": 31,
    "start_time": "2024-08-13T07:36:28.978Z"
   },
   {
    "duration": 8,
    "start_time": "2024-08-13T07:36:29.011Z"
   },
   {
    "duration": 43,
    "start_time": "2024-08-13T07:36:29.020Z"
   },
   {
    "duration": 19,
    "start_time": "2024-08-13T07:36:29.065Z"
   },
   {
    "duration": 486,
    "start_time": "2024-08-13T07:36:29.085Z"
   },
   {
    "duration": 699,
    "start_time": "2024-08-13T07:36:29.572Z"
   },
   {
    "duration": 4,
    "start_time": "2024-08-13T07:36:30.273Z"
   },
   {
    "duration": 1350,
    "start_time": "2024-08-13T07:36:30.278Z"
   },
   {
    "duration": 31,
    "start_time": "2024-08-13T07:36:31.630Z"
   },
   {
    "duration": 9,
    "start_time": "2024-08-13T07:36:31.663Z"
   },
   {
    "duration": 22,
    "start_time": "2024-08-13T07:36:31.674Z"
   },
   {
    "duration": 6,
    "start_time": "2024-08-13T07:36:31.698Z"
   },
   {
    "duration": 31,
    "start_time": "2024-08-13T07:36:31.706Z"
   },
   {
    "duration": 47,
    "start_time": "2024-08-15T13:10:58.950Z"
   },
   {
    "duration": 1196,
    "start_time": "2024-08-15T13:11:04.595Z"
   },
   {
    "duration": 293,
    "start_time": "2024-08-15T13:11:05.793Z"
   },
   {
    "duration": 17,
    "start_time": "2024-08-15T13:11:06.087Z"
   },
   {
    "duration": 11,
    "start_time": "2024-08-15T13:11:06.106Z"
   },
   {
    "duration": 10,
    "start_time": "2024-08-15T13:11:06.121Z"
   },
   {
    "duration": 12,
    "start_time": "2024-08-15T13:11:06.132Z"
   },
   {
    "duration": 12,
    "start_time": "2024-08-15T13:11:06.145Z"
   },
   {
    "duration": 12,
    "start_time": "2024-08-15T13:11:06.159Z"
   },
   {
    "duration": 12,
    "start_time": "2024-08-15T13:11:06.173Z"
   },
   {
    "duration": 7,
    "start_time": "2024-08-15T13:11:06.187Z"
   },
   {
    "duration": 12,
    "start_time": "2024-08-15T13:11:06.196Z"
   },
   {
    "duration": 6,
    "start_time": "2024-08-15T13:11:06.210Z"
   },
   {
    "duration": 35,
    "start_time": "2024-08-15T13:11:06.217Z"
   },
   {
    "duration": 7,
    "start_time": "2024-08-15T13:11:06.256Z"
   },
   {
    "duration": 9,
    "start_time": "2024-08-15T13:11:06.265Z"
   },
   {
    "duration": 21,
    "start_time": "2024-08-15T13:11:06.275Z"
   },
   {
    "duration": 12,
    "start_time": "2024-08-15T13:11:06.298Z"
   },
   {
    "duration": 83,
    "start_time": "2024-08-15T13:11:06.312Z"
   },
   {
    "duration": 9,
    "start_time": "2024-08-15T13:11:06.396Z"
   },
   {
    "duration": 5,
    "start_time": "2024-08-15T13:11:06.407Z"
   },
   {
    "duration": 164,
    "start_time": "2024-08-15T13:11:06.414Z"
   },
   {
    "duration": 86,
    "start_time": "2024-08-15T13:11:06.580Z"
   },
   {
    "duration": 154,
    "start_time": "2024-08-15T13:11:06.668Z"
   },
   {
    "duration": 310,
    "start_time": "2024-08-15T13:11:06.823Z"
   },
   {
    "duration": 291,
    "start_time": "2024-08-15T13:11:07.135Z"
   },
   {
    "duration": 37,
    "start_time": "2024-08-15T13:11:07.428Z"
   },
   {
    "duration": 9,
    "start_time": "2024-08-15T13:11:07.466Z"
   },
   {
    "duration": 21,
    "start_time": "2024-08-15T13:11:07.476Z"
   },
   {
    "duration": 90,
    "start_time": "2024-08-15T13:11:07.499Z"
   },
   {
    "duration": 448,
    "start_time": "2024-08-15T13:11:07.591Z"
   },
   {
    "duration": 607,
    "start_time": "2024-08-15T13:11:08.041Z"
   },
   {
    "duration": 4,
    "start_time": "2024-08-15T13:11:08.650Z"
   },
   {
    "duration": 875,
    "start_time": "2024-08-15T13:11:08.655Z"
   },
   {
    "duration": 25,
    "start_time": "2024-08-15T13:11:09.532Z"
   },
   {
    "duration": 26,
    "start_time": "2024-08-15T13:11:09.558Z"
   },
   {
    "duration": 22,
    "start_time": "2024-08-15T13:11:09.586Z"
   },
   {
    "duration": 114,
    "start_time": "2024-08-15T13:11:09.609Z"
   },
   {
    "duration": 10,
    "start_time": "2024-08-15T13:11:09.724Z"
   },
   {
    "duration": 18,
    "start_time": "2024-08-15T13:11:09.736Z"
   }
  ],
  "kernelspec": {
   "display_name": "Python 3 (ipykernel)",
   "language": "python",
   "name": "python3"
  },
  "language_info": {
   "codemirror_mode": {
    "name": "ipython",
    "version": 3
   },
   "file_extension": ".py",
   "mimetype": "text/x-python",
   "name": "python",
   "nbconvert_exporter": "python",
   "pygments_lexer": "ipython3",
   "version": "3.9.5"
  },
  "toc": {
   "base_numbering": 1,
   "nav_menu": {},
   "number_sections": true,
   "sideBar": true,
   "skip_h1_title": true,
   "title_cell": "Table of Contents",
   "title_sidebar": "Contents",
   "toc_cell": false,
   "toc_position": {},
   "toc_section_display": true,
   "toc_window_display": false
  }
 },
 "nbformat": 4,
 "nbformat_minor": 5
}
