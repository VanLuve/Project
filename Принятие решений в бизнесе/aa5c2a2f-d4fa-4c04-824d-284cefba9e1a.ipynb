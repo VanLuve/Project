{
 "cells": [
  {
   "cell_type": "markdown",
   "metadata": {},
   "source": [
    "<div style=\"border:solid Purple 2px; padding: 40px\">\n",
    "\n",
    "<b>Привет, Владимир!👋\n",
    "\n",
    "Меня зовут Эльвира, я буду ревьюером твоего проекта. Предлагаю общаться на «ты», но если это не удобно - дай мне знать, и мы перейдем на «вы».\n",
    "\n",
    "\n",
    "Ты можешь найти мои комментарии, обозначенные <font color='green'>зеленым</font>, <font color='gold'>желтым</font> и <font color='red'>красным</font> цветами, например:\n",
    "\n",
    "\n",
    "<div class=\"alert alert-success\">\n",
    "<h2> Комментарий ревьюера 😊<a class=\"tocSkip\"> </h2>\n",
    "    \n",
    "Такими комментариями я буду помечать отлично проделаную работу😉\n",
    "</div>\n",
    "    \n",
    "<div class=\"alert alert-warning\">\n",
    "<h2> Комментарий ревьюера 🤓<a class=\"tocSkip\"> </h2>\n",
    "        \n",
    "В таких комментариях я постараюсь подсказать тебе более элегантное или легкое решение, некоторые хитрости и фишки. Части проекта, помеченные такими комментариями, можно не исправлять, но рекомендую обратить на них внимание.</div>\n",
    "\n",
    "<div class=\"alert alert-block alert-danger\">\n",
    "<h2> Комментарий ревьюера ⛔️<a class=\"tocSkip\"></h2>\n",
    "    \n",
    "В случае, когда решение на отдельном шаге требует существенной переработки и внесения правок. Если ты видишь такой комментарий, значит здесть есть недочет, который следует исправить.\n",
    "</div>\n",
    "\n",
    "Ты также можешь реагировать на мои комментарии своими, выделяя их цветами и наиболее понравившимся тебе способом оформления, но явно  отличающимся от моих комментариев. Это нужно, чтобы не создавалась путаница🙃\n",
    "    \n",
    "`<div class=\"alert alert-info\"> <b>Комментарий студента:</b> Например, вот так.</div>`\n",
    "\n",
    "Чтобы сделать подобный блок, кликни здесь дважды и скопируй всю предыдущую строку ;)\n",
    "    \n",
    "Пожалуйста, не удаляй и не перемещай мои комментарии, они будут особенно полезны для нашей работы в случае повторной проверки проекта.</div></b>"
   ]
  },
  {
   "cell_type": "markdown",
   "metadata": {},
   "source": [
    "# Описание проекта :\n",
    "\n",
    "Вы — аналитик крупного интернет-магазина. Вместе с отделом маркетинга вы подготовили список гипотез для увеличения выручки."
   ]
  },
  {
   "cell_type": "markdown",
   "metadata": {},
   "source": [
    "# Цели проекта :\n",
    "\n",
    "- Изучить данные\n",
    "- Выяснить какие гипотезы помогут магазины увеличить выручку\n",
    "- Запустить А/В тест и проанализировать результаты по 'сырым' и 'очищенным' данным\n",
    "- Принять решение о продолжении или остановке теста\n"
   ]
  },
  {
   "cell_type": "markdown",
   "metadata": {},
   "source": [
    "<div class=\"alert alert-warning\">\n",
    "<h2> Комментарий ревьюера 🤓<a class=\"tocSkip\"> </h2>\n",
    "    \n",
    "Введение можно улучшить, если в описании проекта мы выделим основные задачи и опишем их своими словами, особенно с позиции бизнес задачи, которая решается. Удалим инструкцию к проекту, поскольку она предназначена для студентов и не несет никакой информации для заказчиков. Так же можно добавить краткий план работы, основные этапы, которые мы должны выполнить и оставить описание данных."
   ]
  },
  {
   "cell_type": "markdown",
   "metadata": {},
   "source": [
    "## Загрузка данных"
   ]
  },
  {
   "cell_type": "code",
   "execution_count": 1,
   "metadata": {},
   "outputs": [],
   "source": [
    "from math import sqrt\n",
    "from scipy import stats as st\n",
    "import seaborn as sns\n",
    "import pandas as pd\n",
    "import numpy as np\n",
    "import matplotlib.pyplot as plt\n",
    "import datetime as dt\n",
    "import numpy as np\n",
    "import matplotlib.pyplot as plt\n",
    "from pandas.plotting import register_matplotlib_converters\n",
    "import warnings"
   ]
  },
  {
   "cell_type": "markdown",
   "metadata": {},
   "source": [
    "<div class=\"alert alert-success\">\n",
    "<h2> Комментарий ревьюера 😊<a class=\"tocSkip\"> </h2>\n",
    "\n",
    "Молодец, что загружаешь все библиотеки в начале проекта. Так сложней случайно удалить ячейку с загрузкой нужной библиотеки и сделать код не работающим. А получатель отчета сразу поймет, какие библиотеки ты используешь и какие ему нужно установить для запуска проекта.\n",
    "\n",
    "</div>"
   ]
  },
  {
   "cell_type": "code",
   "execution_count": 2,
   "metadata": {},
   "outputs": [],
   "source": [
    "hypothesis=pd.read_csv('/datasets/hypothesis.csv')\n",
    "orders=pd.read_csv('/datasets/orders.csv',parse_dates=['date'])\n",
    "visitors=pd.read_csv('/datasets/visitors.csv',parse_dates=['date'])"
   ]
  },
  {
   "cell_type": "markdown",
   "metadata": {},
   "source": [
    "## Общая информация "
   ]
  },
  {
   "cell_type": "code",
   "execution_count": 3,
   "metadata": {},
   "outputs": [],
   "source": [
    "def all_info(df):\n",
    "    print('----------Первые 10 строк----------')\n",
    "    display(df.head(10))\n",
    "    print('----------тип данных----------')\n",
    "    display(df.info())\n",
    "    print('----------дубликаты----------')\n",
    "    display(df.duplicated().sum())"
   ]
  },
  {
   "cell_type": "code",
   "execution_count": 4,
   "metadata": {},
   "outputs": [
    {
     "name": "stdout",
     "output_type": "stream",
     "text": [
      "----------Первые 10 строк----------\n"
     ]
    },
    {
     "data": {
      "text/html": [
       "<div>\n",
       "<style scoped>\n",
       "    .dataframe tbody tr th:only-of-type {\n",
       "        vertical-align: middle;\n",
       "    }\n",
       "\n",
       "    .dataframe tbody tr th {\n",
       "        vertical-align: top;\n",
       "    }\n",
       "\n",
       "    .dataframe thead th {\n",
       "        text-align: right;\n",
       "    }\n",
       "</style>\n",
       "<table border=\"1\" class=\"dataframe\">\n",
       "  <thead>\n",
       "    <tr style=\"text-align: right;\">\n",
       "      <th></th>\n",
       "      <th>Hypothesis</th>\n",
       "      <th>Reach</th>\n",
       "      <th>Impact</th>\n",
       "      <th>Confidence</th>\n",
       "      <th>Efforts</th>\n",
       "    </tr>\n",
       "  </thead>\n",
       "  <tbody>\n",
       "    <tr>\n",
       "      <th>0</th>\n",
       "      <td>Добавить два новых канала привлечения трафика, что позволит привлекать на 30% больше пользователей</td>\n",
       "      <td>3</td>\n",
       "      <td>10</td>\n",
       "      <td>8</td>\n",
       "      <td>6</td>\n",
       "    </tr>\n",
       "    <tr>\n",
       "      <th>1</th>\n",
       "      <td>Запустить собственную службу доставки, что сократит срок доставки заказов</td>\n",
       "      <td>2</td>\n",
       "      <td>5</td>\n",
       "      <td>4</td>\n",
       "      <td>10</td>\n",
       "    </tr>\n",
       "    <tr>\n",
       "      <th>2</th>\n",
       "      <td>Добавить блоки рекомендаций товаров на сайт интернет магазина, чтобы повысить конверсию и средний чек заказа</td>\n",
       "      <td>8</td>\n",
       "      <td>3</td>\n",
       "      <td>7</td>\n",
       "      <td>3</td>\n",
       "    </tr>\n",
       "    <tr>\n",
       "      <th>3</th>\n",
       "      <td>Изменить структура категорий, что увеличит конверсию, т.к. пользователи быстрее найдут нужный товар</td>\n",
       "      <td>8</td>\n",
       "      <td>3</td>\n",
       "      <td>3</td>\n",
       "      <td>8</td>\n",
       "    </tr>\n",
       "    <tr>\n",
       "      <th>4</th>\n",
       "      <td>Изменить цвет фона главной страницы, чтобы увеличить вовлеченность пользователей</td>\n",
       "      <td>3</td>\n",
       "      <td>1</td>\n",
       "      <td>1</td>\n",
       "      <td>1</td>\n",
       "    </tr>\n",
       "    <tr>\n",
       "      <th>5</th>\n",
       "      <td>Добавить страницу отзывов клиентов о магазине, что позволит увеличить количество заказов</td>\n",
       "      <td>3</td>\n",
       "      <td>2</td>\n",
       "      <td>2</td>\n",
       "      <td>3</td>\n",
       "    </tr>\n",
       "    <tr>\n",
       "      <th>6</th>\n",
       "      <td>Показать на главной странице баннеры с актуальными акциями и распродажами, чтобы увеличить конверсию</td>\n",
       "      <td>5</td>\n",
       "      <td>3</td>\n",
       "      <td>8</td>\n",
       "      <td>3</td>\n",
       "    </tr>\n",
       "    <tr>\n",
       "      <th>7</th>\n",
       "      <td>Добавить форму подписки на все основные страницы, чтобы собрать базу клиентов для email-рассылок</td>\n",
       "      <td>10</td>\n",
       "      <td>7</td>\n",
       "      <td>8</td>\n",
       "      <td>5</td>\n",
       "    </tr>\n",
       "    <tr>\n",
       "      <th>8</th>\n",
       "      <td>Запустить акцию, дающую скидку на товар в день рождения</td>\n",
       "      <td>1</td>\n",
       "      <td>9</td>\n",
       "      <td>9</td>\n",
       "      <td>5</td>\n",
       "    </tr>\n",
       "  </tbody>\n",
       "</table>\n",
       "</div>"
      ],
      "text/plain": [
       "                                                                                                     Hypothesis  \\\n",
       "0            Добавить два новых канала привлечения трафика, что позволит привлекать на 30% больше пользователей   \n",
       "1                                     Запустить собственную службу доставки, что сократит срок доставки заказов   \n",
       "2  Добавить блоки рекомендаций товаров на сайт интернет магазина, чтобы повысить конверсию и средний чек заказа   \n",
       "3           Изменить структура категорий, что увеличит конверсию, т.к. пользователи быстрее найдут нужный товар   \n",
       "4                              Изменить цвет фона главной страницы, чтобы увеличить вовлеченность пользователей   \n",
       "5                      Добавить страницу отзывов клиентов о магазине, что позволит увеличить количество заказов   \n",
       "6          Показать на главной странице баннеры с актуальными акциями и распродажами, чтобы увеличить конверсию   \n",
       "7              Добавить форму подписки на все основные страницы, чтобы собрать базу клиентов для email-рассылок   \n",
       "8                                                       Запустить акцию, дающую скидку на товар в день рождения   \n",
       "\n",
       "   Reach  Impact  Confidence  Efforts  \n",
       "0      3      10           8        6  \n",
       "1      2       5           4       10  \n",
       "2      8       3           7        3  \n",
       "3      8       3           3        8  \n",
       "4      3       1           1        1  \n",
       "5      3       2           2        3  \n",
       "6      5       3           8        3  \n",
       "7     10       7           8        5  \n",
       "8      1       9           9        5  "
      ]
     },
     "metadata": {},
     "output_type": "display_data"
    },
    {
     "name": "stdout",
     "output_type": "stream",
     "text": [
      "----------тип данных----------\n",
      "<class 'pandas.core.frame.DataFrame'>\n",
      "RangeIndex: 9 entries, 0 to 8\n",
      "Data columns (total 5 columns):\n",
      " #   Column      Non-Null Count  Dtype \n",
      "---  ------      --------------  ----- \n",
      " 0   Hypothesis  9 non-null      object\n",
      " 1   Reach       9 non-null      int64 \n",
      " 2   Impact      9 non-null      int64 \n",
      " 3   Confidence  9 non-null      int64 \n",
      " 4   Efforts     9 non-null      int64 \n",
      "dtypes: int64(4), object(1)\n",
      "memory usage: 488.0+ bytes\n"
     ]
    },
    {
     "data": {
      "text/plain": [
       "None"
      ]
     },
     "metadata": {},
     "output_type": "display_data"
    },
    {
     "name": "stdout",
     "output_type": "stream",
     "text": [
      "----------дубликаты----------\n"
     ]
    },
    {
     "data": {
      "text/plain": [
       "0"
      ]
     },
     "metadata": {},
     "output_type": "display_data"
    }
   ],
   "source": [
    "pd.options.display.max_colwidth = 130\n",
    "all_info(hypothesis)"
   ]
  },
  {
   "cell_type": "markdown",
   "metadata": {},
   "source": [
    "<div class=\"alert alert-warning\">\n",
    "<h2> Комментарий ревьюера 🤓<a class=\"tocSkip\"> </h2>\n",
    "        \n",
    "Расширить вывод содержимого ячеек мы можем с помощью следующей настройки, так мы сможем увидеть полный текст гипотез:\n",
    "    \n",
    "```python\n",
    "pd.options.display.max_colwidth = 130\n",
    "```\n",
    "</div>"
   ]
  },
  {
   "cell_type": "markdown",
   "metadata": {},
   "source": [
    "<div class=\"alert alert-info\"> <b>+</b>"
   ]
  },
  {
   "cell_type": "markdown",
   "metadata": {},
   "source": [
    "<div class=\"alert alert-success\">\n",
    "<h2> Комментарий ревьюера 😊 v_2 <a class=\"tocSkip\"> </h2>\n",
    "\n",
    "👍"
   ]
  },
  {
   "cell_type": "markdown",
   "metadata": {},
   "source": [
    "#### Dataframe hypotesis содердит информацию о гипотезах , которые могут помочь увеличить выручку интернет-магазина. Пропусков нет."
   ]
  },
  {
   "cell_type": "code",
   "execution_count": 5,
   "metadata": {},
   "outputs": [
    {
     "name": "stdout",
     "output_type": "stream",
     "text": [
      "----------Первые 10 строк----------\n"
     ]
    },
    {
     "data": {
      "text/html": [
       "<div>\n",
       "<style scoped>\n",
       "    .dataframe tbody tr th:only-of-type {\n",
       "        vertical-align: middle;\n",
       "    }\n",
       "\n",
       "    .dataframe tbody tr th {\n",
       "        vertical-align: top;\n",
       "    }\n",
       "\n",
       "    .dataframe thead th {\n",
       "        text-align: right;\n",
       "    }\n",
       "</style>\n",
       "<table border=\"1\" class=\"dataframe\">\n",
       "  <thead>\n",
       "    <tr style=\"text-align: right;\">\n",
       "      <th></th>\n",
       "      <th>transactionId</th>\n",
       "      <th>visitorId</th>\n",
       "      <th>date</th>\n",
       "      <th>revenue</th>\n",
       "      <th>group</th>\n",
       "    </tr>\n",
       "  </thead>\n",
       "  <tbody>\n",
       "    <tr>\n",
       "      <th>0</th>\n",
       "      <td>3667963787</td>\n",
       "      <td>3312258926</td>\n",
       "      <td>2019-08-15</td>\n",
       "      <td>1650</td>\n",
       "      <td>B</td>\n",
       "    </tr>\n",
       "    <tr>\n",
       "      <th>1</th>\n",
       "      <td>2804400009</td>\n",
       "      <td>3642806036</td>\n",
       "      <td>2019-08-15</td>\n",
       "      <td>730</td>\n",
       "      <td>B</td>\n",
       "    </tr>\n",
       "    <tr>\n",
       "      <th>2</th>\n",
       "      <td>2961555356</td>\n",
       "      <td>4069496402</td>\n",
       "      <td>2019-08-15</td>\n",
       "      <td>400</td>\n",
       "      <td>A</td>\n",
       "    </tr>\n",
       "    <tr>\n",
       "      <th>3</th>\n",
       "      <td>3797467345</td>\n",
       "      <td>1196621759</td>\n",
       "      <td>2019-08-15</td>\n",
       "      <td>9759</td>\n",
       "      <td>B</td>\n",
       "    </tr>\n",
       "    <tr>\n",
       "      <th>4</th>\n",
       "      <td>2282983706</td>\n",
       "      <td>2322279887</td>\n",
       "      <td>2019-08-15</td>\n",
       "      <td>2308</td>\n",
       "      <td>B</td>\n",
       "    </tr>\n",
       "    <tr>\n",
       "      <th>5</th>\n",
       "      <td>182168103</td>\n",
       "      <td>935554773</td>\n",
       "      <td>2019-08-15</td>\n",
       "      <td>2210</td>\n",
       "      <td>B</td>\n",
       "    </tr>\n",
       "    <tr>\n",
       "      <th>6</th>\n",
       "      <td>398296753</td>\n",
       "      <td>2900797465</td>\n",
       "      <td>2019-08-15</td>\n",
       "      <td>1860</td>\n",
       "      <td>B</td>\n",
       "    </tr>\n",
       "    <tr>\n",
       "      <th>7</th>\n",
       "      <td>2626614568</td>\n",
       "      <td>78758296</td>\n",
       "      <td>2019-08-15</td>\n",
       "      <td>1044</td>\n",
       "      <td>A</td>\n",
       "    </tr>\n",
       "    <tr>\n",
       "      <th>8</th>\n",
       "      <td>1576988021</td>\n",
       "      <td>295230930</td>\n",
       "      <td>2019-08-15</td>\n",
       "      <td>13710</td>\n",
       "      <td>A</td>\n",
       "    </tr>\n",
       "    <tr>\n",
       "      <th>9</th>\n",
       "      <td>1506739906</td>\n",
       "      <td>1882260405</td>\n",
       "      <td>2019-08-15</td>\n",
       "      <td>1855</td>\n",
       "      <td>B</td>\n",
       "    </tr>\n",
       "  </tbody>\n",
       "</table>\n",
       "</div>"
      ],
      "text/plain": [
       "   transactionId   visitorId       date  revenue group\n",
       "0     3667963787  3312258926 2019-08-15     1650     B\n",
       "1     2804400009  3642806036 2019-08-15      730     B\n",
       "2     2961555356  4069496402 2019-08-15      400     A\n",
       "3     3797467345  1196621759 2019-08-15     9759     B\n",
       "4     2282983706  2322279887 2019-08-15     2308     B\n",
       "5      182168103   935554773 2019-08-15     2210     B\n",
       "6      398296753  2900797465 2019-08-15     1860     B\n",
       "7     2626614568    78758296 2019-08-15     1044     A\n",
       "8     1576988021   295230930 2019-08-15    13710     A\n",
       "9     1506739906  1882260405 2019-08-15     1855     B"
      ]
     },
     "metadata": {},
     "output_type": "display_data"
    },
    {
     "name": "stdout",
     "output_type": "stream",
     "text": [
      "----------тип данных----------\n",
      "<class 'pandas.core.frame.DataFrame'>\n",
      "RangeIndex: 1197 entries, 0 to 1196\n",
      "Data columns (total 5 columns):\n",
      " #   Column         Non-Null Count  Dtype         \n",
      "---  ------         --------------  -----         \n",
      " 0   transactionId  1197 non-null   int64         \n",
      " 1   visitorId      1197 non-null   int64         \n",
      " 2   date           1197 non-null   datetime64[ns]\n",
      " 3   revenue        1197 non-null   int64         \n",
      " 4   group          1197 non-null   object        \n",
      "dtypes: datetime64[ns](1), int64(3), object(1)\n",
      "memory usage: 46.9+ KB\n"
     ]
    },
    {
     "data": {
      "text/plain": [
       "None"
      ]
     },
     "metadata": {},
     "output_type": "display_data"
    },
    {
     "name": "stdout",
     "output_type": "stream",
     "text": [
      "----------дубликаты----------\n"
     ]
    },
    {
     "data": {
      "text/plain": [
       "0"
      ]
     },
     "metadata": {},
     "output_type": "display_data"
    }
   ],
   "source": [
    "all_info(orders)"
   ]
  },
  {
   "cell_type": "markdown",
   "metadata": {},
   "source": [
    "#### Dataframe orders содержит информацию о заказах.  \n",
    "- transactionId — идентификатор заказа;\n",
    "- visitorId — идентификатор пользователя, совершившего заказ;\n",
    "- date — дата, когда был совершён заказ;\n",
    "- revenue — выручка заказа;\n",
    "- group — группа A/B-теста, в которую попал заказ.\n",
    "\n",
    " <th>Дубликатов и пропусков нет</th>"
   ]
  },
  {
   "cell_type": "code",
   "execution_count": 6,
   "metadata": {},
   "outputs": [
    {
     "name": "stdout",
     "output_type": "stream",
     "text": [
      "----------Первые 10 строк----------\n"
     ]
    },
    {
     "data": {
      "text/html": [
       "<div>\n",
       "<style scoped>\n",
       "    .dataframe tbody tr th:only-of-type {\n",
       "        vertical-align: middle;\n",
       "    }\n",
       "\n",
       "    .dataframe tbody tr th {\n",
       "        vertical-align: top;\n",
       "    }\n",
       "\n",
       "    .dataframe thead th {\n",
       "        text-align: right;\n",
       "    }\n",
       "</style>\n",
       "<table border=\"1\" class=\"dataframe\">\n",
       "  <thead>\n",
       "    <tr style=\"text-align: right;\">\n",
       "      <th></th>\n",
       "      <th>date</th>\n",
       "      <th>group</th>\n",
       "      <th>visitors</th>\n",
       "    </tr>\n",
       "  </thead>\n",
       "  <tbody>\n",
       "    <tr>\n",
       "      <th>0</th>\n",
       "      <td>2019-08-01</td>\n",
       "      <td>A</td>\n",
       "      <td>719</td>\n",
       "    </tr>\n",
       "    <tr>\n",
       "      <th>1</th>\n",
       "      <td>2019-08-02</td>\n",
       "      <td>A</td>\n",
       "      <td>619</td>\n",
       "    </tr>\n",
       "    <tr>\n",
       "      <th>2</th>\n",
       "      <td>2019-08-03</td>\n",
       "      <td>A</td>\n",
       "      <td>507</td>\n",
       "    </tr>\n",
       "    <tr>\n",
       "      <th>3</th>\n",
       "      <td>2019-08-04</td>\n",
       "      <td>A</td>\n",
       "      <td>717</td>\n",
       "    </tr>\n",
       "    <tr>\n",
       "      <th>4</th>\n",
       "      <td>2019-08-05</td>\n",
       "      <td>A</td>\n",
       "      <td>756</td>\n",
       "    </tr>\n",
       "    <tr>\n",
       "      <th>5</th>\n",
       "      <td>2019-08-06</td>\n",
       "      <td>A</td>\n",
       "      <td>667</td>\n",
       "    </tr>\n",
       "    <tr>\n",
       "      <th>6</th>\n",
       "      <td>2019-08-07</td>\n",
       "      <td>A</td>\n",
       "      <td>644</td>\n",
       "    </tr>\n",
       "    <tr>\n",
       "      <th>7</th>\n",
       "      <td>2019-08-08</td>\n",
       "      <td>A</td>\n",
       "      <td>610</td>\n",
       "    </tr>\n",
       "    <tr>\n",
       "      <th>8</th>\n",
       "      <td>2019-08-09</td>\n",
       "      <td>A</td>\n",
       "      <td>617</td>\n",
       "    </tr>\n",
       "    <tr>\n",
       "      <th>9</th>\n",
       "      <td>2019-08-10</td>\n",
       "      <td>A</td>\n",
       "      <td>406</td>\n",
       "    </tr>\n",
       "  </tbody>\n",
       "</table>\n",
       "</div>"
      ],
      "text/plain": [
       "        date group  visitors\n",
       "0 2019-08-01     A       719\n",
       "1 2019-08-02     A       619\n",
       "2 2019-08-03     A       507\n",
       "3 2019-08-04     A       717\n",
       "4 2019-08-05     A       756\n",
       "5 2019-08-06     A       667\n",
       "6 2019-08-07     A       644\n",
       "7 2019-08-08     A       610\n",
       "8 2019-08-09     A       617\n",
       "9 2019-08-10     A       406"
      ]
     },
     "metadata": {},
     "output_type": "display_data"
    },
    {
     "name": "stdout",
     "output_type": "stream",
     "text": [
      "----------тип данных----------\n",
      "<class 'pandas.core.frame.DataFrame'>\n",
      "RangeIndex: 62 entries, 0 to 61\n",
      "Data columns (total 3 columns):\n",
      " #   Column    Non-Null Count  Dtype         \n",
      "---  ------    --------------  -----         \n",
      " 0   date      62 non-null     datetime64[ns]\n",
      " 1   group     62 non-null     object        \n",
      " 2   visitors  62 non-null     int64         \n",
      "dtypes: datetime64[ns](1), int64(1), object(1)\n",
      "memory usage: 1.6+ KB\n"
     ]
    },
    {
     "data": {
      "text/plain": [
       "None"
      ]
     },
     "metadata": {},
     "output_type": "display_data"
    },
    {
     "name": "stdout",
     "output_type": "stream",
     "text": [
      "----------дубликаты----------\n"
     ]
    },
    {
     "data": {
      "text/plain": [
       "0"
      ]
     },
     "metadata": {},
     "output_type": "display_data"
    }
   ],
   "source": [
    "all_info(visitors)"
   ]
  },
  {
   "cell_type": "markdown",
   "metadata": {},
   "source": [
    "#### Dataframe visitors содержит информацию о :\n",
    "- date — дата;\n",
    "- group — группа A/B-теста;\n",
    "- visitors — количество пользователей в указанную дату в указанной группе A/B-теста.\n",
    "\n",
    " <th>Дубликатов и пропусков нет</th>"
   ]
  },
  {
   "cell_type": "markdown",
   "metadata": {},
   "source": [
    "### Вывод по загруженным данным;\n",
    "- пропусков нет.\n",
    "- дубликатов нет.\n",
    "- столбцы имеют нужный тип данных"
   ]
  },
  {
   "cell_type": "markdown",
   "metadata": {},
   "source": [
    "## Часть 1. Приоритизация гипотез."
   ]
  },
  {
   "cell_type": "markdown",
   "metadata": {},
   "source": [
    "### ICE"
   ]
  },
  {
   "cell_type": "code",
   "execution_count": 7,
   "metadata": {},
   "outputs": [
    {
     "data": {
      "text/html": [
       "<div>\n",
       "<style scoped>\n",
       "    .dataframe tbody tr th:only-of-type {\n",
       "        vertical-align: middle;\n",
       "    }\n",
       "\n",
       "    .dataframe tbody tr th {\n",
       "        vertical-align: top;\n",
       "    }\n",
       "\n",
       "    .dataframe thead th {\n",
       "        text-align: right;\n",
       "    }\n",
       "</style>\n",
       "<table border=\"1\" class=\"dataframe\">\n",
       "  <thead>\n",
       "    <tr style=\"text-align: right;\">\n",
       "      <th></th>\n",
       "      <th>Hypothesis</th>\n",
       "      <th>ICE</th>\n",
       "    </tr>\n",
       "  </thead>\n",
       "  <tbody>\n",
       "    <tr>\n",
       "      <th>8</th>\n",
       "      <td>Запустить акцию, дающую скидку на товар в день рождения</td>\n",
       "      <td>16.20</td>\n",
       "    </tr>\n",
       "    <tr>\n",
       "      <th>0</th>\n",
       "      <td>Добавить два новых канала привлечения трафика, что позволит привлекать на 30% больше пользователей</td>\n",
       "      <td>13.33</td>\n",
       "    </tr>\n",
       "    <tr>\n",
       "      <th>7</th>\n",
       "      <td>Добавить форму подписки на все основные страницы, чтобы собрать базу клиентов для email-рассылок</td>\n",
       "      <td>11.20</td>\n",
       "    </tr>\n",
       "    <tr>\n",
       "      <th>6</th>\n",
       "      <td>Показать на главной странице баннеры с актуальными акциями и распродажами, чтобы увеличить конверсию</td>\n",
       "      <td>8.00</td>\n",
       "    </tr>\n",
       "    <tr>\n",
       "      <th>2</th>\n",
       "      <td>Добавить блоки рекомендаций товаров на сайт интернет магазина, чтобы повысить конверсию и средний чек заказа</td>\n",
       "      <td>7.00</td>\n",
       "    </tr>\n",
       "    <tr>\n",
       "      <th>1</th>\n",
       "      <td>Запустить собственную службу доставки, что сократит срок доставки заказов</td>\n",
       "      <td>2.00</td>\n",
       "    </tr>\n",
       "    <tr>\n",
       "      <th>5</th>\n",
       "      <td>Добавить страницу отзывов клиентов о магазине, что позволит увеличить количество заказов</td>\n",
       "      <td>1.33</td>\n",
       "    </tr>\n",
       "    <tr>\n",
       "      <th>3</th>\n",
       "      <td>Изменить структура категорий, что увеличит конверсию, т.к. пользователи быстрее найдут нужный товар</td>\n",
       "      <td>1.12</td>\n",
       "    </tr>\n",
       "    <tr>\n",
       "      <th>4</th>\n",
       "      <td>Изменить цвет фона главной страницы, чтобы увеличить вовлеченность пользователей</td>\n",
       "      <td>1.00</td>\n",
       "    </tr>\n",
       "  </tbody>\n",
       "</table>\n",
       "</div>"
      ],
      "text/plain": [
       "                                                                                                     Hypothesis  \\\n",
       "8                                                       Запустить акцию, дающую скидку на товар в день рождения   \n",
       "0            Добавить два новых канала привлечения трафика, что позволит привлекать на 30% больше пользователей   \n",
       "7              Добавить форму подписки на все основные страницы, чтобы собрать базу клиентов для email-рассылок   \n",
       "6          Показать на главной странице баннеры с актуальными акциями и распродажами, чтобы увеличить конверсию   \n",
       "2  Добавить блоки рекомендаций товаров на сайт интернет магазина, чтобы повысить конверсию и средний чек заказа   \n",
       "1                                     Запустить собственную службу доставки, что сократит срок доставки заказов   \n",
       "5                      Добавить страницу отзывов клиентов о магазине, что позволит увеличить количество заказов   \n",
       "3           Изменить структура категорий, что увеличит конверсию, т.к. пользователи быстрее найдут нужный товар   \n",
       "4                              Изменить цвет фона главной страницы, чтобы увеличить вовлеченность пользователей   \n",
       "\n",
       "     ICE  \n",
       "8  16.20  \n",
       "0  13.33  \n",
       "7  11.20  \n",
       "6   8.00  \n",
       "2   7.00  \n",
       "1   2.00  \n",
       "5   1.33  \n",
       "3   1.12  \n",
       "4   1.00  "
      ]
     },
     "metadata": {},
     "output_type": "display_data"
    }
   ],
   "source": [
    "hypothesis['ICE']=((hypothesis['Impact']*hypothesis['Confidence'])/hypothesis['Efforts']).round(2)\n",
    "display(hypothesis[['Hypothesis','ICE']].sort_values(by='ICE', ascending=False))"
   ]
  },
  {
   "cell_type": "markdown",
   "metadata": {},
   "source": [
    "#### Наиболее перспективные гипотезы по ICE :\n",
    "- Запустить акцию, дающую скидку на товар в день рождения\n",
    "- Добавить два новых канала привлечения трафика, что позволит привлекать на 30% больше пользователей\n",
    "- Добавить форму подписки на все основные страницы, чтобы собрать базу клиентов для email-рассылок"
   ]
  },
  {
   "cell_type": "markdown",
   "metadata": {},
   "source": [
    "### RICE"
   ]
  },
  {
   "cell_type": "code",
   "execution_count": 8,
   "metadata": {},
   "outputs": [
    {
     "data": {
      "text/html": [
       "<div>\n",
       "<style scoped>\n",
       "    .dataframe tbody tr th:only-of-type {\n",
       "        vertical-align: middle;\n",
       "    }\n",
       "\n",
       "    .dataframe tbody tr th {\n",
       "        vertical-align: top;\n",
       "    }\n",
       "\n",
       "    .dataframe thead th {\n",
       "        text-align: right;\n",
       "    }\n",
       "</style>\n",
       "<table border=\"1\" class=\"dataframe\">\n",
       "  <thead>\n",
       "    <tr style=\"text-align: right;\">\n",
       "      <th></th>\n",
       "      <th>Hypothesis</th>\n",
       "      <th>RICE</th>\n",
       "    </tr>\n",
       "  </thead>\n",
       "  <tbody>\n",
       "    <tr>\n",
       "      <th>7</th>\n",
       "      <td>Добавить форму подписки на все основные страницы, чтобы собрать базу клиентов для email-рассылок</td>\n",
       "      <td>112.0</td>\n",
       "    </tr>\n",
       "    <tr>\n",
       "      <th>2</th>\n",
       "      <td>Добавить блоки рекомендаций товаров на сайт интернет магазина, чтобы повысить конверсию и средний чек заказа</td>\n",
       "      <td>56.0</td>\n",
       "    </tr>\n",
       "    <tr>\n",
       "      <th>0</th>\n",
       "      <td>Добавить два новых канала привлечения трафика, что позволит привлекать на 30% больше пользователей</td>\n",
       "      <td>40.0</td>\n",
       "    </tr>\n",
       "    <tr>\n",
       "      <th>6</th>\n",
       "      <td>Показать на главной странице баннеры с актуальными акциями и распродажами, чтобы увеличить конверсию</td>\n",
       "      <td>40.0</td>\n",
       "    </tr>\n",
       "    <tr>\n",
       "      <th>8</th>\n",
       "      <td>Запустить акцию, дающую скидку на товар в день рождения</td>\n",
       "      <td>16.2</td>\n",
       "    </tr>\n",
       "    <tr>\n",
       "      <th>3</th>\n",
       "      <td>Изменить структура категорий, что увеличит конверсию, т.к. пользователи быстрее найдут нужный товар</td>\n",
       "      <td>9.0</td>\n",
       "    </tr>\n",
       "    <tr>\n",
       "      <th>1</th>\n",
       "      <td>Запустить собственную службу доставки, что сократит срок доставки заказов</td>\n",
       "      <td>4.0</td>\n",
       "    </tr>\n",
       "    <tr>\n",
       "      <th>5</th>\n",
       "      <td>Добавить страницу отзывов клиентов о магазине, что позволит увеличить количество заказов</td>\n",
       "      <td>4.0</td>\n",
       "    </tr>\n",
       "    <tr>\n",
       "      <th>4</th>\n",
       "      <td>Изменить цвет фона главной страницы, чтобы увеличить вовлеченность пользователей</td>\n",
       "      <td>3.0</td>\n",
       "    </tr>\n",
       "  </tbody>\n",
       "</table>\n",
       "</div>"
      ],
      "text/plain": [
       "                                                                                                     Hypothesis  \\\n",
       "7              Добавить форму подписки на все основные страницы, чтобы собрать базу клиентов для email-рассылок   \n",
       "2  Добавить блоки рекомендаций товаров на сайт интернет магазина, чтобы повысить конверсию и средний чек заказа   \n",
       "0            Добавить два новых канала привлечения трафика, что позволит привлекать на 30% больше пользователей   \n",
       "6          Показать на главной странице баннеры с актуальными акциями и распродажами, чтобы увеличить конверсию   \n",
       "8                                                       Запустить акцию, дающую скидку на товар в день рождения   \n",
       "3           Изменить структура категорий, что увеличит конверсию, т.к. пользователи быстрее найдут нужный товар   \n",
       "1                                     Запустить собственную службу доставки, что сократит срок доставки заказов   \n",
       "5                      Добавить страницу отзывов клиентов о магазине, что позволит увеличить количество заказов   \n",
       "4                              Изменить цвет фона главной страницы, чтобы увеличить вовлеченность пользователей   \n",
       "\n",
       "    RICE  \n",
       "7  112.0  \n",
       "2   56.0  \n",
       "0   40.0  \n",
       "6   40.0  \n",
       "8   16.2  \n",
       "3    9.0  \n",
       "1    4.0  \n",
       "5    4.0  \n",
       "4    3.0  "
      ]
     },
     "metadata": {},
     "output_type": "display_data"
    }
   ],
   "source": [
    "hypothesis['RICE']=((hypothesis['Reach']*hypothesis['Impact']*hypothesis['Confidence'])/hypothesis['Efforts']).round(2)\n",
    "display(hypothesis[['Hypothesis','RICE']].sort_values(by='RICE',ascending=False))"
   ]
  },
  {
   "cell_type": "markdown",
   "metadata": {},
   "source": [
    "#### Наиболее перспективные гипотезы по RICE :\n",
    "- Добавить форму подписки на все основные страницы, чтобы собрать базу клиентов для email-рассылок\n",
    "- Добавить блоки рекомендаций товаров на сайт интернет магазина, чтобы повысить конверсию и средний чек заказа\n",
    "- Добавить два новых канала привлечения трафика, что позволит привлекать на 30% больше пользователей\n",
    "- Показать на главной странице баннеры с актуальными акциями и распродажами, чтобы увеличить конверсию"
   ]
  },
  {
   "cell_type": "markdown",
   "metadata": {},
   "source": [
    "###  Вывод:\n",
    "Самые перспективные гипотезу по ICE и RICE отличаются. Связано это с тем , что ICE не учитывает какое количество пользователей затронет изменение. RICE фреймворк использует более объективные данные и чёткие критерии для измерения переменных"
   ]
  },
  {
   "cell_type": "markdown",
   "metadata": {},
   "source": [
    "<div class=\"alert alert-success\">\n",
    "<h2> Комментарий ревьюера 😊<a class=\"tocSkip\"> </h2>\n",
    "    \n",
    "Приоритизация гипотез проведена успешна! Молодец, что выводишь таблицу дважды, каждый раз с сортировкой по одному из фреймоврков и округляешь значения, так различия в их работе будут максимально наглядными. Согласна с твоими выводами по поводу их различия.\n",
    "</div>   "
   ]
  },
  {
   "cell_type": "markdown",
   "metadata": {},
   "source": [
    "## Изучите данные из файлов с заказами и посетителями. "
   ]
  },
  {
   "cell_type": "code",
   "execution_count": 9,
   "metadata": {},
   "outputs": [],
   "source": [
    "datesGroups = orders[['date', 'group']].drop_duplicates()\n",
    "\n",
    "ordersAggregated = datesGroups.apply(\n",
    "    lambda x: orders[\n",
    "        np.logical_and(\n",
    "            orders['date'] <= x['date'], orders['group'] == x['group']\n",
    "        )\n",
    "    ].agg({\n",
    "            'date': 'max',\n",
    "            'group': 'max',\n",
    "            'transactionId': 'nunique',\n",
    "            'visitorId': 'nunique',\n",
    "            'revenue': 'sum',\n",
    "        }\n",
    "    ),\n",
    "    axis=1,\n",
    ").sort_values(by=['date', 'group'])\n",
    "\n",
    "visitorsAggregated = datesGroups.apply(\n",
    "    lambda x: visitors[\n",
    "        np.logical_and(\n",
    "            visitors['date'] <= x['date'], visitors['group'] == x['group']\n",
    "        )\n",
    "    ].agg({'date': 'max',\n",
    "           'group': 'max',\n",
    "           'visitors': 'sum'}),\n",
    "    axis=1,\n",
    ").sort_values(by=['date', 'group'])\n",
    "\n",
    "cumulativeData = ordersAggregated.merge(\n",
    "    visitorsAggregated, left_on=['date', 'group'], right_on=['date', 'group'])\n",
    "\n",
    "cumulativeData.columns = [\n",
    "    'date',\n",
    "    'group',\n",
    "    'orders',\n",
    "    'buyers',\n",
    "    'revenue',\n",
    "    'visitors',]\n"
   ]
  },
  {
   "cell_type": "code",
   "execution_count": 10,
   "metadata": {},
   "outputs": [
    {
     "data": {
      "text/html": [
       "<div>\n",
       "<style scoped>\n",
       "    .dataframe tbody tr th:only-of-type {\n",
       "        vertical-align: middle;\n",
       "    }\n",
       "\n",
       "    .dataframe tbody tr th {\n",
       "        vertical-align: top;\n",
       "    }\n",
       "\n",
       "    .dataframe thead th {\n",
       "        text-align: right;\n",
       "    }\n",
       "</style>\n",
       "<table border=\"1\" class=\"dataframe\">\n",
       "  <thead>\n",
       "    <tr style=\"text-align: right;\">\n",
       "      <th></th>\n",
       "      <th>date</th>\n",
       "      <th>group</th>\n",
       "      <th>orders</th>\n",
       "      <th>buyers</th>\n",
       "      <th>revenue</th>\n",
       "      <th>visitors</th>\n",
       "    </tr>\n",
       "  </thead>\n",
       "  <tbody>\n",
       "    <tr>\n",
       "      <th>0</th>\n",
       "      <td>2019-08-01</td>\n",
       "      <td>A</td>\n",
       "      <td>24</td>\n",
       "      <td>20</td>\n",
       "      <td>148579</td>\n",
       "      <td>719</td>\n",
       "    </tr>\n",
       "    <tr>\n",
       "      <th>1</th>\n",
       "      <td>2019-08-01</td>\n",
       "      <td>B</td>\n",
       "      <td>21</td>\n",
       "      <td>20</td>\n",
       "      <td>101217</td>\n",
       "      <td>713</td>\n",
       "    </tr>\n",
       "    <tr>\n",
       "      <th>2</th>\n",
       "      <td>2019-08-02</td>\n",
       "      <td>A</td>\n",
       "      <td>44</td>\n",
       "      <td>38</td>\n",
       "      <td>242401</td>\n",
       "      <td>1338</td>\n",
       "    </tr>\n",
       "    <tr>\n",
       "      <th>3</th>\n",
       "      <td>2019-08-02</td>\n",
       "      <td>B</td>\n",
       "      <td>45</td>\n",
       "      <td>43</td>\n",
       "      <td>266748</td>\n",
       "      <td>1294</td>\n",
       "    </tr>\n",
       "    <tr>\n",
       "      <th>4</th>\n",
       "      <td>2019-08-03</td>\n",
       "      <td>A</td>\n",
       "      <td>68</td>\n",
       "      <td>62</td>\n",
       "      <td>354874</td>\n",
       "      <td>1845</td>\n",
       "    </tr>\n",
       "    <tr>\n",
       "      <th>...</th>\n",
       "      <td>...</td>\n",
       "      <td>...</td>\n",
       "      <td>...</td>\n",
       "      <td>...</td>\n",
       "      <td>...</td>\n",
       "      <td>...</td>\n",
       "    </tr>\n",
       "    <tr>\n",
       "      <th>57</th>\n",
       "      <td>2019-08-29</td>\n",
       "      <td>B</td>\n",
       "      <td>596</td>\n",
       "      <td>544</td>\n",
       "      <td>5559398</td>\n",
       "      <td>17708</td>\n",
       "    </tr>\n",
       "    <tr>\n",
       "      <th>58</th>\n",
       "      <td>2019-08-30</td>\n",
       "      <td>A</td>\n",
       "      <td>545</td>\n",
       "      <td>493</td>\n",
       "      <td>4022970</td>\n",
       "      <td>18037</td>\n",
       "    </tr>\n",
       "    <tr>\n",
       "      <th>59</th>\n",
       "      <td>2019-08-30</td>\n",
       "      <td>B</td>\n",
       "      <td>620</td>\n",
       "      <td>567</td>\n",
       "      <td>5774631</td>\n",
       "      <td>18198</td>\n",
       "    </tr>\n",
       "    <tr>\n",
       "      <th>60</th>\n",
       "      <td>2019-08-31</td>\n",
       "      <td>A</td>\n",
       "      <td>557</td>\n",
       "      <td>503</td>\n",
       "      <td>4084803</td>\n",
       "      <td>18736</td>\n",
       "    </tr>\n",
       "    <tr>\n",
       "      <th>61</th>\n",
       "      <td>2019-08-31</td>\n",
       "      <td>B</td>\n",
       "      <td>640</td>\n",
       "      <td>586</td>\n",
       "      <td>5907760</td>\n",
       "      <td>18916</td>\n",
       "    </tr>\n",
       "  </tbody>\n",
       "</table>\n",
       "<p>62 rows × 6 columns</p>\n",
       "</div>"
      ],
      "text/plain": [
       "         date group  orders  buyers  revenue  visitors\n",
       "0  2019-08-01     A      24      20   148579       719\n",
       "1  2019-08-01     B      21      20   101217       713\n",
       "2  2019-08-02     A      44      38   242401      1338\n",
       "3  2019-08-02     B      45      43   266748      1294\n",
       "4  2019-08-03     A      68      62   354874      1845\n",
       "..        ...   ...     ...     ...      ...       ...\n",
       "57 2019-08-29     B     596     544  5559398     17708\n",
       "58 2019-08-30     A     545     493  4022970     18037\n",
       "59 2019-08-30     B     620     567  5774631     18198\n",
       "60 2019-08-31     A     557     503  4084803     18736\n",
       "61 2019-08-31     B     640     586  5907760     18916\n",
       "\n",
       "[62 rows x 6 columns]"
      ]
     },
     "execution_count": 10,
     "metadata": {},
     "output_type": "execute_result"
    }
   ],
   "source": [
    "cumulativeData"
   ]
  },
  {
   "cell_type": "markdown",
   "metadata": {},
   "source": [
    "display(cumulativeData['date'].describe())\n",
    "display(orders['date'].describe())"
   ]
  },
  {
   "cell_type": "code",
   "execution_count": 11,
   "metadata": {},
   "outputs": [
    {
     "data": {
      "text/plain": [
       "Timestamp('2019-08-01 00:00:00')"
      ]
     },
     "metadata": {},
     "output_type": "display_data"
    },
    {
     "data": {
      "text/plain": [
       "Timestamp('2019-08-31 00:00:00')"
      ]
     },
     "metadata": {},
     "output_type": "display_data"
    }
   ],
   "source": [
    "display(orders['date'].min())\n",
    "display(orders['date'].max())"
   ]
  },
  {
   "cell_type": "code",
   "execution_count": 12,
   "metadata": {},
   "outputs": [
    {
     "data": {
      "text/plain": [
       "Timestamp('2019-08-01 00:00:00')"
      ]
     },
     "metadata": {},
     "output_type": "display_data"
    },
    {
     "data": {
      "text/plain": [
       "Timestamp('2019-08-31 00:00:00')"
      ]
     },
     "metadata": {},
     "output_type": "display_data"
    }
   ],
   "source": [
    "display(cumulativeData['date'].min())\n",
    "display(cumulativeData['date'].max())"
   ]
  },
  {
   "cell_type": "markdown",
   "metadata": {},
   "source": [
    "<div class=\"alert alert-warning\">\n",
    "<h2> Комментарий ревьюера 🤓<a class=\"tocSkip\"> </h2>\n",
    "        \n",
    "Можно проверить, корректно ли был содан датафрейм cummulativeData. Например, совпадают ли минимальная и максимальная даты в этом датафрейме с минимальной и максимальной датой в исходных данных. </div>   "
   ]
  },
  {
   "cell_type": "markdown",
   "metadata": {},
   "source": [
    "<div class=\"alert alert-info\"> <b>Даты собпадают. В голову пришли только два варианта как сравнить даты</b>"
   ]
  },
  {
   "cell_type": "markdown",
   "metadata": {},
   "source": [
    "<div class=\"alert alert-success\">\n",
    "<h2> Комментарий ревьюера 😊 v_2 <a class=\"tocSkip\"> </h2>\n",
    "\n",
    "👍"
   ]
  },
  {
   "cell_type": "markdown",
   "metadata": {},
   "source": [
    "### Постройте график кумулятивной выручки по группам. Сделайте выводы и предположения."
   ]
  },
  {
   "cell_type": "code",
   "execution_count": 13,
   "metadata": {},
   "outputs": [
    {
     "data": {
      "image/png": "[encoded data removed]",
      "text/plain": [
       "<Figure size 720x360 with 1 Axes>"
      ]
     },
     "metadata": {
      "needs_background": "light"
     },
     "output_type": "display_data"
    }
   ],
   "source": [
    "#Объявим две переменные в которых сохраним данные о датах , выручке и числе заказов в группе А и В\n",
    "cumulativeRevenueA = cumulativeData[cumulativeData['group']=='A'][['date','revenue','orders']]\n",
    "cumulativeRevenueB = cumulativeData[cumulativeData['group']=='B'][['date','revenue', 'orders']]\n",
    "plt.figure(figsize=(10,5))\n",
    "plt.plot(cumulativeRevenueA['date'],cumulativeRevenueA['revenue'],label='A')\n",
    "plt.plot(cumulativeRevenueB['date'],cumulativeRevenueB['revenue'],label='B')\n",
    "plt.title('График куммулятивной выручки по группам')\n",
    "plt.ylabel('Выручка заказа(млн)')\n",
    "plt.xlabel('Дата')\n",
    "plt.grid()\n",
    "plt.legend()\n",
    "plt.show()"
   ]
  },
  {
   "cell_type": "markdown",
   "metadata": {},
   "source": [
    "<div class=\"alert alert-block alert-danger\">\n",
    "<h2> Комментарий ревьюера ⛔️<a class=\"tocSkip\"></h2>\n",
    "   <s>\n",
    "Поскольку это проект второго модуля, давай оформим все графики проекта, добавив подписи по осям ко всем графикам и названия. Можешь использовать `plt.xlabel()` и `plt.ylabel()`, `plt.title()`. "
   ]
  },
  {
   "cell_type": "markdown",
   "metadata": {},
   "source": [
    "<div class=\"alert alert-info\"> <b>+</b>"
   ]
  },
  {
   "cell_type": "code",
   "execution_count": 14,
   "metadata": {},
   "outputs": [],
   "source": [
    "#На протяжении всего теста группа В лидировала. В середине теста произошел резкий скачек в группе В . Похоже на аномально большие заказы в этот период "
   ]
  },
  {
   "cell_type": "markdown",
   "metadata": {},
   "source": [
    "#### В графике куммулятивной выручки по группам , показатели грппы В стабильно выше , показателей группы А. Стоит отметить резкий скачек кум.выручки группы В. Есть предположение  , что резкое изменение произошло из-за аномально-большого заказа(или нескольких заказов)."
   ]
  },
  {
   "cell_type": "markdown",
   "metadata": {},
   "source": [
    "<div class=\"alert alert-block alert-danger\">\n",
    "<h2> Комментарий ревьюера ⛔️<a class=\"tocSkip\"></h2>\n",
    "    <s>\n",
    "Сейчас при анализе графика мы не учитываем, что на графике виден рост выручки. Если упростить, то выручка = конверсия * средний чек. Если выручка выросла, то мог увеличится средний чек, а могло увеличится количество заказов (т.е. конверсия).\n",
    "\n",
    "Здесь нужно  дать полное описание возможных причин такого поведения графика. Если мы предлагаем только одну причину скачка, можно предположить, что мы не вполне понимаем всю картину.\n",
    "\n"
   ]
  },
  {
   "cell_type": "markdown",
   "metadata": {},
   "source": [
    "<div class=\"alert alert-success\">\n",
    "<h2> Комментарий ревьюера 😊 v_2 <a class=\"tocSkip\"> </h2>\n",
    "\n",
    "Хорошо)"
   ]
  },
  {
   "cell_type": "markdown",
   "metadata": {},
   "source": [
    "### Постройте график кумулятивного среднего чека по группам. Сделайте выводы и предположения. "
   ]
  },
  {
   "cell_type": "code",
   "execution_count": 15,
   "metadata": {},
   "outputs": [
    {
     "data": {
      "image/png": "[encoded data removed]",
      "text/plain": [
       "<Figure size 720x360 with 1 Axes>"
      ]
     },
     "metadata": {
      "needs_background": "light"
     },
     "output_type": "display_data"
    }
   ],
   "source": [
    "plt.figure(figsize=(10,5))\n",
    "plt.plot(cumulativeRevenueA['date'], cumulativeRevenueA['revenue']/cumulativeRevenueA['orders'],label='A')\n",
    "plt.plot(cumulativeRevenueB['date'], cumulativeRevenueB['revenue']/cumulativeRevenueB['orders'],label='B')\n",
    "plt.grid()\n",
    "plt.legend()\n",
    "plt.show()"
   ]
  },
  {
   "cell_type": "markdown",
   "metadata": {},
   "source": [
    "#### Кумулятивное значение среднего чека первой половине теста колеблются . Во вротой половине теста в группе В происходит скачек , скорее всего из-за амонмально больших покупок. Ближе к конце теста , показатели стабилизируются и уменьшаются. Требуется дополнительный анализ на наличие выбросов"
   ]
  },
  {
   "cell_type": "markdown",
   "metadata": {},
   "source": [
    "### Постройте график относительного изменения кумулятивного среднего чека группы B к группе A."
   ]
  },
  {
   "cell_type": "code",
   "execution_count": 16,
   "metadata": {},
   "outputs": [
    {
     "data": {
      "image/png": "[encoded data removed]",
      "text/plain": [
       "<Figure size 1080x504 with 1 Axes>"
      ]
     },
     "metadata": {
      "needs_background": "light"
     },
     "output_type": "display_data"
    }
   ],
   "source": [
    "mergedCumulativeRevenue =cumulativeRevenueA.merge(cumulativeRevenueB, left_on='date', right_on='date',how='left',suffixes=['A','B'])\n",
    "mergedCumulativeRevenue.columns=['date', 'revenueA','ordersA', 'revenueB','ordersB']\n",
    "plt.figure(figsize=(15,7))\n",
    "plt.plot(mergedCumulativeRevenue['date'], (mergedCumulativeRevenue['revenueB']/mergedCumulativeRevenue['ordersB'])/(mergedCumulativeRevenue['revenueA']/mergedCumulativeRevenue['ordersA'])-1)\n",
    "plt.axhline(y=0, color='black', linestyle='--')\n",
    "plt.axhline(y=0.255, color='gray', linestyle='--')\n",
    "plt.grid()\n",
    "plt.show()"
   ]
  },
  {
   "cell_type": "markdown",
   "metadata": {},
   "source": [
    "#### Результаты теста менялись несколько раз . Скорее всего , когда происходили эти всплески , были совершены аномальные покупки."
   ]
  },
  {
   "cell_type": "markdown",
   "metadata": {},
   "source": [
    "### Постройте график кумулятивного среднего количества заказов на посетителя по группам. Сделайте выводы и предположения."
   ]
  },
  {
   "cell_type": "code",
   "execution_count": 17,
   "metadata": {},
   "outputs": [
    {
     "data": {
      "image/png": "[encoded data removed]",
      "text/plain": [
       "<Figure size 1080x360 with 1 Axes>"
      ]
     },
     "metadata": {
      "needs_background": "light"
     },
     "output_type": "display_data"
    }
   ],
   "source": [
    "cumulativeData['conversion'] = cumulativeData['orders']/cumulativeData['visitors']\n",
    "\n",
    "cumulativeDataA = cumulativeData[cumulativeData['group']=='A']\n",
    "cumulativeDataB = cumulativeData[cumulativeData['group']=='B']\n",
    "\n",
    "plt.figure(figsize=(15,5))\n",
    "plt.grid()\n",
    "plt.plot(cumulativeDataA['date'], cumulativeDataA['conversion'], label='кумулятивная конверсия A')\n",
    "plt.plot(cumulativeDataB['date'], cumulativeDataB['conversion'], label='кумулятивная конверсия B')\n",
    "plt.title('Кумулятивная конверсия')\n",
    "plt.xticks(cumulativeDataA['date'], rotation='vertical')\n",
    "plt.axis([dt.datetime(2019, 8, 1), dt.datetime(2019, 9, 1), 0.029, 0.04])\n",
    "plt.legend();"
   ]
  },
  {
   "cell_type": "markdown",
   "metadata": {},
   "source": [
    "#### В начале теста группа А имела большее куммулятивное среднее количество заказов. Таже на 2й день теста в группе В виден резкий всплеск , после чего идет спад. Такой же всплек был в группе А на 3й день. На 6й день теста куммулятивное среднее количество заказов в группе В страновится больше относительно группы А , и на протяжении всего теста лидировала."
   ]
  },
  {
   "cell_type": "markdown",
   "metadata": {},
   "source": [
    "### Постройте график относительного изменения кумулятивного среднего количества заказов на посетителя группы B к группе A. Сделайте выводы и предположения."
   ]
  },
  {
   "cell_type": "code",
   "execution_count": 18,
   "metadata": {},
   "outputs": [
    {
     "data": {
      "image/png": "[encoded data removed]",
      "text/plain": [
       "<Figure size 1080x504 with 1 Axes>"
      ]
     },
     "metadata": {
      "needs_background": "light"
     },
     "output_type": "display_data"
    }
   ],
   "source": [
    "cumulativeData['conversion'] = (\n",
    "    cumulativeData['orders'] / cumulativeData['visitors']\n",
    ")\n",
    "\n",
    "cumulativeDataA = cumulativeData[cumulativeData['group'] == 'A']\n",
    "cumulativeDataB = cumulativeData[cumulativeData['group'] == 'B']\n",
    "mergedCumulativeConversions =(cumulativeDataA[['date', 'conversion']]\n",
    "                              .merge(cumulativeDataB[['date', 'conversion']] , left_on='date', right_on='date',how='left', suffixes=['A','B'])\n",
    "                             )\n",
    "plt.figure(figsize=(15,7))\n",
    "plt.plot(mergedCumulativeConversions['date'], mergedCumulativeConversions['conversionB']/mergedCumulativeConversions['conversionA']-1)\n",
    "plt.axhline(y=0,color='black',linestyle='--')\n",
    "plt.axhline(y=0.14,color='gray',linestyle='--')\n",
    "plt.show()"
   ]
  },
  {
   "cell_type": "markdown",
   "metadata": {},
   "source": [
    "#### С пятого дня теста группа В лидирует на протяжении всего периода  . Как уже говорилось выше, связано с аномально большими покупками. "
   ]
  },
  {
   "cell_type": "markdown",
   "metadata": {},
   "source": [
    "<div class=\"alert alert-success\">\n",
    "<h2> Комментарий ревьюера 😊<a class=\"tocSkip\"> </h2>\n",
    "\n",
    "Графики построены и интерпретированы верно, молодец)\n",
    "</div>"
   ]
  },
  {
   "cell_type": "markdown",
   "metadata": {},
   "source": [
    "### Постройте точечный график количества заказов по пользователям"
   ]
  },
  {
   "cell_type": "code",
   "execution_count": 19,
   "metadata": {},
   "outputs": [
    {
     "data": {
      "image/png": "[encoded data removed]",
      "text/plain": [
       "<Figure size 720x360 with 1 Axes>"
      ]
     },
     "metadata": {
      "needs_background": "light"
     },
     "output_type": "display_data"
    }
   ],
   "source": [
    "ordersByUsers = (\n",
    "    orders.groupby('visitorId', as_index=False)\n",
    "    .agg({'transactionId': 'nunique'})\n",
    ")\n",
    "ordersByUsers.columns = ['visitorId', 'orders']\n",
    "\n",
    "x_values = pd.Series(range(0, len(ordersByUsers)))\n",
    "plt.figure(figsize=(10,5))\n",
    "plt.scatter(x_values , ordersByUsers['orders'])\n",
    "plt.show()"
   ]
  },
  {
   "cell_type": "markdown",
   "metadata": {},
   "source": [
    "#### На графике видно , что большинство пользователей совершают лишь один заказ. Также Значитальная часть пользователей совершают от 2х до 4х заказов . Только 10 пользователей совершили 10 покупок."
   ]
  },
  {
   "cell_type": "markdown",
   "metadata": {},
   "source": [
    "### Посчитайте 95-й и 99-й выборочные перцентили количества заказов по пользователям"
   ]
  },
  {
   "cell_type": "code",
   "execution_count": 20,
   "metadata": {},
   "outputs": [
    {
     "data": {
      "text/html": [
       "<div>\n",
       "<style scoped>\n",
       "    .dataframe tbody tr th:only-of-type {\n",
       "        vertical-align: middle;\n",
       "    }\n",
       "\n",
       "    .dataframe tbody tr th {\n",
       "        vertical-align: top;\n",
       "    }\n",
       "\n",
       "    .dataframe thead th {\n",
       "        text-align: right;\n",
       "    }\n",
       "</style>\n",
       "<table border=\"1\" class=\"dataframe\">\n",
       "  <thead>\n",
       "    <tr style=\"text-align: right;\">\n",
       "      <th></th>\n",
       "      <th>visitorId</th>\n",
       "      <th>orders</th>\n",
       "    </tr>\n",
       "  </thead>\n",
       "  <tbody>\n",
       "    <tr>\n",
       "      <th>1023</th>\n",
       "      <td>4256040402</td>\n",
       "      <td>11</td>\n",
       "    </tr>\n",
       "    <tr>\n",
       "      <th>591</th>\n",
       "      <td>2458001652</td>\n",
       "      <td>11</td>\n",
       "    </tr>\n",
       "    <tr>\n",
       "      <th>569</th>\n",
       "      <td>2378935119</td>\n",
       "      <td>9</td>\n",
       "    </tr>\n",
       "    <tr>\n",
       "      <th>487</th>\n",
       "      <td>2038680547</td>\n",
       "      <td>8</td>\n",
       "    </tr>\n",
       "    <tr>\n",
       "      <th>44</th>\n",
       "      <td>199603092</td>\n",
       "      <td>5</td>\n",
       "    </tr>\n",
       "    <tr>\n",
       "      <th>744</th>\n",
       "      <td>3062433592</td>\n",
       "      <td>5</td>\n",
       "    </tr>\n",
       "    <tr>\n",
       "      <th>55</th>\n",
       "      <td>237748145</td>\n",
       "      <td>5</td>\n",
       "    </tr>\n",
       "    <tr>\n",
       "      <th>917</th>\n",
       "      <td>3803269165</td>\n",
       "      <td>5</td>\n",
       "    </tr>\n",
       "    <tr>\n",
       "      <th>299</th>\n",
       "      <td>1230306981</td>\n",
       "      <td>5</td>\n",
       "    </tr>\n",
       "    <tr>\n",
       "      <th>897</th>\n",
       "      <td>3717692402</td>\n",
       "      <td>5</td>\n",
       "    </tr>\n",
       "  </tbody>\n",
       "</table>\n",
       "</div>"
      ],
      "text/plain": [
       "       visitorId  orders\n",
       "1023  4256040402      11\n",
       "591   2458001652      11\n",
       "569   2378935119       9\n",
       "487   2038680547       8\n",
       "44     199603092       5\n",
       "744   3062433592       5\n",
       "55     237748145       5\n",
       "917   3803269165       5\n",
       "299   1230306981       5\n",
       "897   3717692402       5"
      ]
     },
     "metadata": {},
     "output_type": "display_data"
    },
    {
     "data": {
      "text/plain": [
       "array([2., 4.])"
      ]
     },
     "execution_count": 20,
     "metadata": {},
     "output_type": "execute_result"
    }
   ],
   "source": [
    "display(ordersByUsers.sort_values(by='orders', ascending=False).head(10))\n",
    "np.percentile(ordersByUsers['orders'],[95,99])"
   ]
  },
  {
   "cell_type": "markdown",
   "metadata": {},
   "source": [
    "#### Не более 1% пользователей оформили более 4 заказов. Выделяюся два пользователя которые совершили 11 заказов. Если учесть , что тест длился месяц ,  11 заказов вполне реально было сделать за дпнный  период."
   ]
  },
  {
   "cell_type": "markdown",
   "metadata": {},
   "source": [
    "### Постройте точечный график стоимостей заказов"
   ]
  },
  {
   "cell_type": "code",
   "execution_count": 21,
   "metadata": {},
   "outputs": [
    {
     "data": {
      "image/png": "[encoded data removed]",
      "text/plain": [
       "<Figure size 720x360 with 1 Axes>"
      ]
     },
     "metadata": {
      "needs_background": "light"
     },
     "output_type": "display_data"
    }
   ],
   "source": [
    "x_values = pd.Series(range(0, len(orders['revenue'])))\n",
    "plt.figure(figsize=(10,5))\n",
    "plt.ticklabel_format(style='plain')\n",
    "plt.scatter(x_values ,orders['revenue'])\n",
    "plt.show()"
   ]
  },
  {
   "cell_type": "code",
   "execution_count": 22,
   "metadata": {},
   "outputs": [
    {
     "data": {
      "image/png": "[encoded data removed]",
      "text/plain": [
       "<Figure size 720x360 with 1 Axes>"
      ]
     },
     "metadata": {
      "needs_background": "light"
     },
     "output_type": "display_data"
    }
   ],
   "source": [
    "size_plus = orders[orders['revenue']<200000]['revenue']\n",
    "xs_values = pd.Series(range(0, len(size_plus)))\n",
    "plt.figure(figsize=(10,5))\n",
    "plt.ticklabel_format(style='plain')\n",
    "plt.scatter(xs_values ,size_plus)\n",
    "plt.show()"
   ]
  },
  {
   "cell_type": "code",
   "execution_count": 23,
   "metadata": {},
   "outputs": [
    {
     "data": {
      "image/png": "[encoded data removed]",
      "text/plain": [
       "<Figure size 720x360 with 1 Axes>"
      ]
     },
     "metadata": {
      "needs_background": "light"
     },
     "output_type": "display_data"
    }
   ],
   "source": [
    "size_plus1 = orders[orders['revenue']<=40000]['revenue']\n",
    "xss_values = pd.Series(range(0, len(size_plus1)))\n",
    "plt.figure(figsize=(10,5))\n",
    "plt.ticklabel_format(style='plain')\n",
    "plt.scatter(xss_values ,size_plus1)\n",
    "plt.show()"
   ]
  },
  {
   "cell_type": "markdown",
   "metadata": {},
   "source": [
    "#### На первом графике выделяются два пользователя совершившие заказы на ~1300000 и ~200000.Если увеличить график то можно увидеть , что большинство пользователей сделали заказ до 5000 . Стоит обрать внимание , что значительная часть пользователей совершали заказы на более чем 5000."
   ]
  },
  {
   "cell_type": "markdown",
   "metadata": {},
   "source": [
    "### Посчитайте 95-й и 99-й перцентили стоимости заказов."
   ]
  },
  {
   "cell_type": "code",
   "execution_count": 24,
   "metadata": {},
   "outputs": [
    {
     "data": {
      "text/html": [
       "<div>\n",
       "<style scoped>\n",
       "    .dataframe tbody tr th:only-of-type {\n",
       "        vertical-align: middle;\n",
       "    }\n",
       "\n",
       "    .dataframe tbody tr th {\n",
       "        vertical-align: top;\n",
       "    }\n",
       "\n",
       "    .dataframe thead th {\n",
       "        text-align: right;\n",
       "    }\n",
       "</style>\n",
       "<table border=\"1\" class=\"dataframe\">\n",
       "  <thead>\n",
       "    <tr style=\"text-align: right;\">\n",
       "      <th></th>\n",
       "      <th>transactionId</th>\n",
       "      <th>visitorId</th>\n",
       "      <th>date</th>\n",
       "      <th>revenue</th>\n",
       "      <th>group</th>\n",
       "    </tr>\n",
       "  </thead>\n",
       "  <tbody>\n",
       "    <tr>\n",
       "      <th>425</th>\n",
       "      <td>590470918</td>\n",
       "      <td>1920142716</td>\n",
       "      <td>2019-08-19</td>\n",
       "      <td>1294500</td>\n",
       "      <td>B</td>\n",
       "    </tr>\n",
       "    <tr>\n",
       "      <th>1196</th>\n",
       "      <td>3936777065</td>\n",
       "      <td>2108080724</td>\n",
       "      <td>2019-08-15</td>\n",
       "      <td>202740</td>\n",
       "      <td>B</td>\n",
       "    </tr>\n",
       "    <tr>\n",
       "      <th>858</th>\n",
       "      <td>192721366</td>\n",
       "      <td>1316129916</td>\n",
       "      <td>2019-08-27</td>\n",
       "      <td>93940</td>\n",
       "      <td>A</td>\n",
       "    </tr>\n",
       "    <tr>\n",
       "      <th>1136</th>\n",
       "      <td>666610489</td>\n",
       "      <td>1307669133</td>\n",
       "      <td>2019-08-13</td>\n",
       "      <td>92550</td>\n",
       "      <td>A</td>\n",
       "    </tr>\n",
       "    <tr>\n",
       "      <th>744</th>\n",
       "      <td>3668308183</td>\n",
       "      <td>888512513</td>\n",
       "      <td>2019-08-27</td>\n",
       "      <td>86620</td>\n",
       "      <td>B</td>\n",
       "    </tr>\n",
       "    <tr>\n",
       "      <th>682</th>\n",
       "      <td>1216533772</td>\n",
       "      <td>4266935830</td>\n",
       "      <td>2019-08-29</td>\n",
       "      <td>78990</td>\n",
       "      <td>B</td>\n",
       "    </tr>\n",
       "    <tr>\n",
       "      <th>662</th>\n",
       "      <td>1811671147</td>\n",
       "      <td>4266935830</td>\n",
       "      <td>2019-08-29</td>\n",
       "      <td>78990</td>\n",
       "      <td>A</td>\n",
       "    </tr>\n",
       "    <tr>\n",
       "      <th>743</th>\n",
       "      <td>3603576309</td>\n",
       "      <td>4133034833</td>\n",
       "      <td>2019-08-09</td>\n",
       "      <td>67990</td>\n",
       "      <td>A</td>\n",
       "    </tr>\n",
       "    <tr>\n",
       "      <th>1103</th>\n",
       "      <td>1348774318</td>\n",
       "      <td>1164614297</td>\n",
       "      <td>2019-08-12</td>\n",
       "      <td>66350</td>\n",
       "      <td>A</td>\n",
       "    </tr>\n",
       "    <tr>\n",
       "      <th>1099</th>\n",
       "      <td>316924019</td>\n",
       "      <td>148427295</td>\n",
       "      <td>2019-08-12</td>\n",
       "      <td>65710</td>\n",
       "      <td>A</td>\n",
       "    </tr>\n",
       "  </tbody>\n",
       "</table>\n",
       "</div>"
      ],
      "text/plain": [
       "      transactionId   visitorId       date  revenue group\n",
       "425       590470918  1920142716 2019-08-19  1294500     B\n",
       "1196     3936777065  2108080724 2019-08-15   202740     B\n",
       "858       192721366  1316129916 2019-08-27    93940     A\n",
       "1136      666610489  1307669133 2019-08-13    92550     A\n",
       "744      3668308183   888512513 2019-08-27    86620     B\n",
       "682      1216533772  4266935830 2019-08-29    78990     B\n",
       "662      1811671147  4266935830 2019-08-29    78990     A\n",
       "743      3603576309  4133034833 2019-08-09    67990     A\n",
       "1103     1348774318  1164614297 2019-08-12    66350     A\n",
       "1099      316924019   148427295 2019-08-12    65710     A"
      ]
     },
     "metadata": {},
     "output_type": "display_data"
    },
    {
     "data": {
      "text/plain": [
       "array([28000. , 58233.2])"
      ]
     },
     "execution_count": 24,
     "metadata": {},
     "output_type": "execute_result"
    }
   ],
   "source": [
    "display(orders.sort_values(by='revenue', ascending=False).head(10))\n",
    "np.percentile(orders['revenue'],[95,99])"
   ]
  },
  {
   "cell_type": "markdown",
   "metadata": {},
   "source": [
    "#### Не более 5% заказов дороже 28000 и не более 1% дороже 58233.2 . Стоит обратить внимание что большие заказы делали пользователи из группы В . Два пользователя с 'transactionId'(590470918 и 3936777065) совершили аномально больше заказы 1294500 и 202740 соответственно. Как говорилось ранее, что не больше 1% пользователей совершили покупки дороже 58233.2 .  Все  что выше этого числа будем считать аномалиями .Как раз эти два пользователя создавали аномальные всплески на первых графиках."
   ]
  },
  {
   "cell_type": "markdown",
   "metadata": {},
   "source": [
    "<div class=\"alert alert-warning\">\n",
    "<h2> Комментарий ревьюера 🤓<a class=\"tocSkip\"> </h2>\n",
    "Расчеты верные, а вот по выводам так и не ясно, что же мы будем принимать за аномалии. Можешь детализировать этот момент и указать принятые границы аномалий.\n",
    "</div>"
   ]
  },
  {
   "cell_type": "markdown",
   "metadata": {},
   "source": [
    "<div class=\"alert alert-info\"> <b>+</b>"
   ]
  },
  {
   "cell_type": "markdown",
   "metadata": {},
   "source": [
    "<div class=\"alert alert-success\">\n",
    "<h2> Комментарий ревьюера 😊 v_2 <a class=\"tocSkip\"> </h2>\n",
    "\n",
    "👍"
   ]
  },
  {
   "cell_type": "markdown",
   "metadata": {},
   "source": [
    "### Посчитайте статистическую значимость различий в среднем количестве заказов на посетителя между группами по «сырым» данным. Сделайте выводы и предположения."
   ]
  },
  {
   "cell_type": "code",
   "execution_count": 25,
   "metadata": {},
   "outputs": [
    {
     "data": {
      "text/html": [
       "<div>\n",
       "<style scoped>\n",
       "    .dataframe tbody tr th:only-of-type {\n",
       "        vertical-align: middle;\n",
       "    }\n",
       "\n",
       "    .dataframe tbody tr th {\n",
       "        vertical-align: top;\n",
       "    }\n",
       "\n",
       "    .dataframe thead th {\n",
       "        text-align: right;\n",
       "    }\n",
       "</style>\n",
       "<table border=\"1\" class=\"dataframe\">\n",
       "  <thead>\n",
       "    <tr style=\"text-align: right;\">\n",
       "      <th></th>\n",
       "      <th>date</th>\n",
       "      <th>ordersPerDateA</th>\n",
       "      <th>revenuePerDateA</th>\n",
       "      <th>ordersPerDateB</th>\n",
       "      <th>revenuePerDateB</th>\n",
       "      <th>ordersCummulativeA</th>\n",
       "      <th>revenueCummulativeA</th>\n",
       "      <th>ordersCummulativeB</th>\n",
       "      <th>revenueCummulativeB</th>\n",
       "      <th>visitorsPerDateA</th>\n",
       "      <th>visitorsPerDateB</th>\n",
       "      <th>visitorsCummulativeA</th>\n",
       "      <th>visitorsCummulativeB</th>\n",
       "    </tr>\n",
       "  </thead>\n",
       "  <tbody>\n",
       "    <tr>\n",
       "      <th>0</th>\n",
       "      <td>2019-08-01</td>\n",
       "      <td>24</td>\n",
       "      <td>148579</td>\n",
       "      <td>21</td>\n",
       "      <td>101217</td>\n",
       "      <td>24</td>\n",
       "      <td>148579</td>\n",
       "      <td>21</td>\n",
       "      <td>101217</td>\n",
       "      <td>719</td>\n",
       "      <td>713</td>\n",
       "      <td>719</td>\n",
       "      <td>713</td>\n",
       "    </tr>\n",
       "    <tr>\n",
       "      <th>1</th>\n",
       "      <td>2019-08-02</td>\n",
       "      <td>20</td>\n",
       "      <td>93822</td>\n",
       "      <td>24</td>\n",
       "      <td>165531</td>\n",
       "      <td>44</td>\n",
       "      <td>242401</td>\n",
       "      <td>45</td>\n",
       "      <td>266748</td>\n",
       "      <td>619</td>\n",
       "      <td>581</td>\n",
       "      <td>1338</td>\n",
       "      <td>1294</td>\n",
       "    </tr>\n",
       "    <tr>\n",
       "      <th>2</th>\n",
       "      <td>2019-08-03</td>\n",
       "      <td>24</td>\n",
       "      <td>112473</td>\n",
       "      <td>16</td>\n",
       "      <td>114248</td>\n",
       "      <td>68</td>\n",
       "      <td>354874</td>\n",
       "      <td>61</td>\n",
       "      <td>380996</td>\n",
       "      <td>507</td>\n",
       "      <td>509</td>\n",
       "      <td>1845</td>\n",
       "      <td>1803</td>\n",
       "    </tr>\n",
       "    <tr>\n",
       "      <th>3</th>\n",
       "      <td>2019-08-04</td>\n",
       "      <td>16</td>\n",
       "      <td>70825</td>\n",
       "      <td>17</td>\n",
       "      <td>108571</td>\n",
       "      <td>84</td>\n",
       "      <td>425699</td>\n",
       "      <td>78</td>\n",
       "      <td>489567</td>\n",
       "      <td>717</td>\n",
       "      <td>770</td>\n",
       "      <td>2562</td>\n",
       "      <td>2573</td>\n",
       "    </tr>\n",
       "    <tr>\n",
       "      <th>4</th>\n",
       "      <td>2019-08-05</td>\n",
       "      <td>25</td>\n",
       "      <td>124218</td>\n",
       "      <td>23</td>\n",
       "      <td>92428</td>\n",
       "      <td>109</td>\n",
       "      <td>549917</td>\n",
       "      <td>101</td>\n",
       "      <td>581995</td>\n",
       "      <td>756</td>\n",
       "      <td>707</td>\n",
       "      <td>3318</td>\n",
       "      <td>3280</td>\n",
       "    </tr>\n",
       "  </tbody>\n",
       "</table>\n",
       "</div>"
      ],
      "text/plain": [
       "        date  ordersPerDateA  revenuePerDateA  ordersPerDateB  \\\n",
       "0 2019-08-01              24           148579              21   \n",
       "1 2019-08-02              20            93822              24   \n",
       "2 2019-08-03              24           112473              16   \n",
       "3 2019-08-04              16            70825              17   \n",
       "4 2019-08-05              25           124218              23   \n",
       "\n",
       "   revenuePerDateB  ordersCummulativeA  revenueCummulativeA  \\\n",
       "0           101217                  24               148579   \n",
       "1           165531                  44               242401   \n",
       "2           114248                  68               354874   \n",
       "3           108571                  84               425699   \n",
       "4            92428                 109               549917   \n",
       "\n",
       "   ordersCummulativeB  revenueCummulativeB  visitorsPerDateA  \\\n",
       "0                  21               101217               719   \n",
       "1                  45               266748               619   \n",
       "2                  61               380996               507   \n",
       "3                  78               489567               717   \n",
       "4                 101               581995               756   \n",
       "\n",
       "   visitorsPerDateB  visitorsCummulativeA  visitorsCummulativeB  \n",
       "0               713                   719                   713  \n",
       "1               581                  1338                  1294  \n",
       "2               509                  1845                  1803  \n",
       "3               770                  2562                  2573  \n",
       "4               707                  3318                  3280  "
      ]
     },
     "metadata": {},
     "output_type": "display_data"
    }
   ],
   "source": [
    "visitorsADaily = visitors[visitors['group'] == 'A'][['date', 'visitors']]\n",
    "visitorsADaily.columns = ['date', 'visitorsPerDateA']\n",
    "\n",
    "visitorsACummulative = visitorsADaily.apply(\n",
    "    lambda x: visitorsADaily[visitorsADaily['date'] <= x['date']].agg(\n",
    "        {'date': 'max', 'visitorsPerDateA': 'sum'}\n",
    "    ),\n",
    "    axis=1,\n",
    ")\n",
    "visitorsACummulative.columns = ['date', 'visitorsCummulativeA']\n",
    "\n",
    "visitorsBDaily = visitors[visitors['group'] == 'B'][['date', 'visitors']]\n",
    "visitorsBDaily.columns = ['date', 'visitorsPerDateB']\n",
    "\n",
    "visitorsBCummulative = visitorsBDaily.apply(\n",
    "    lambda x: visitorsBDaily[visitorsBDaily['date'] <= x['date']].agg(\n",
    "        {'date': 'max', 'visitorsPerDateB': 'sum'}\n",
    "    ),\n",
    "    axis=1,\n",
    ")\n",
    "visitorsBCummulative.columns = ['date', 'visitorsCummulativeB']\n",
    "\n",
    "ordersADaily = (\n",
    "    orders[orders['group'] == 'A'][['date', 'transactionId', 'visitorId', 'revenue']]\n",
    "    .groupby('date', as_index=False)\n",
    "    .agg({'transactionId': pd.Series.nunique, 'revenue': 'sum'})\n",
    ")\n",
    "ordersADaily.columns = ['date', 'ordersPerDateA', 'revenuePerDateA']\n",
    "\n",
    "ordersACummulative = ordersADaily.apply(\n",
    "    lambda x: ordersADaily[ordersADaily['date'] <= x['date']].agg(\n",
    "        {'date': 'max', 'ordersPerDateA': 'sum', 'revenuePerDateA': 'sum'}\n",
    "    ),\n",
    "    axis=1,\n",
    ").sort_values(by=['date'])\n",
    "ordersACummulative.columns = [\n",
    "    'date',\n",
    "    'ordersCummulativeA',\n",
    "    'revenueCummulativeA',\n",
    "]\n",
    "\n",
    "ordersBDaily = (\n",
    "    orders[orders['group'] == 'B'][['date', 'transactionId', 'visitorId', 'revenue']]\n",
    "    .groupby('date', as_index=False)\n",
    "    .agg({'transactionId': pd.Series.nunique, 'revenue': 'sum'})\n",
    ")\n",
    "ordersBDaily.columns = ['date', 'ordersPerDateB', 'revenuePerDateB']\n",
    "\n",
    "ordersBCummulative = ordersBDaily.apply(\n",
    "    lambda x: ordersBDaily[ordersBDaily['date'] <= x['date']].agg(\n",
    "        {'date': 'max', 'ordersPerDateB': 'sum', 'revenuePerDateB': 'sum'}\n",
    "    ),\n",
    "    axis=1,\n",
    ").sort_values(by=['date'])\n",
    "ordersBCummulative.columns = [\n",
    "    'date',\n",
    "    'ordersCummulativeB',\n",
    "    'revenueCummulativeB',\n",
    "]\n",
    "\n",
    "data = (\n",
    "    ordersADaily.merge(\n",
    "        ordersBDaily, left_on='date', right_on='date', how='left'\n",
    "    )\n",
    "    .merge(ordersACummulative, left_on='date', right_on='date', how='left')\n",
    "    .merge(ordersBCummulative, left_on='date', right_on='date', how='left')\n",
    "    .merge(visitorsADaily, left_on='date', right_on='date', how='left')\n",
    "    .merge(visitorsBDaily, left_on='date', right_on='date', how='left')\n",
    "    .merge(visitorsACummulative, left_on='date', right_on='date', how='left')\n",
    "    .merge(visitorsBCummulative, left_on='date', right_on='date', how='left')\n",
    ")\n",
    "\n",
    "display(data.head(5)) \n",
    "\n"
   ]
  },
  {
   "cell_type": "markdown",
   "metadata": {},
   "source": [
    "<div class=\"alert alert-warning\">\n",
    "<h2> Комментарий ревьюера 🤓<a class=\"tocSkip\"> </h2>\n",
    "\n",
    "Нужно ли нам собирать всю таблицу, если мы используем не все показатели в расчетах?)"
   ]
  },
  {
   "cell_type": "markdown",
   "metadata": {},
   "source": [
    "<div class=\"alert alert-info\"> <b>По большому счету нет, т.к мы используем всего несколько , а точнее 4 . Но мне кажется , что все столбцы стоит оставить для наглядности и не вытягивать по одному , и не забивать лишними стороками код</b>"
   ]
  },
  {
   "cell_type": "code",
   "execution_count": 26,
   "metadata": {},
   "outputs": [],
   "source": [
    "ordersByUsersA = (\n",
    "    orders[orders['group'] == 'A']\n",
    "    .groupby('visitorId', as_index=False)\n",
    "    .agg({'transactionId': pd.Series.nunique})\n",
    ")\n",
    "ordersByUsersA.columns = ['visitor', 'orders']\n",
    "\n",
    "ordersByUsersB = (\n",
    "    orders[orders['group'] == 'B']\n",
    "    .groupby('visitorId', as_index=False)\n",
    "    .agg({'transactionId': pd.Series.nunique})\n",
    ")\n",
    "ordersByUsersB.columns = ['visitor', 'orders'] \n"
   ]
  },
  {
   "cell_type": "code",
   "execution_count": 27,
   "metadata": {},
   "outputs": [],
   "source": [
    "sampleA = pd.concat(\n",
    "    [\n",
    "        ordersByUsersA['orders'],\n",
    "        pd.Series(\n",
    "            0, index=np.arange(\n",
    "                data['visitorsPerDateA'].sum() - len(ordersByUsersA['orders'])\n",
    "        ), name='orders')],axis=0)\n",
    "\n",
    "sampleB = pd.concat(\n",
    "    [\n",
    "        ordersByUsersB['orders'],\n",
    "        pd.Series(\n",
    "            0, index=np.arange(\n",
    "                data['visitorsPerDateB'].sum() - len(ordersByUsersB['orders'])\n",
    "            ), name='orders')],axis=0)"
   ]
  },
  {
   "cell_type": "markdown",
   "metadata": {},
   "source": [
    "H0 - статистической значимости различий в среднем количестве заказов на посетителя между группами по «сырым» данным НЕТ\n",
    "\n",
    "H1 - статистическая значимость различий в среднем количестве заказов на посетителя между группами по «сырым» данным ЕСТЬ"
   ]
  },
  {
   "cell_type": "code",
   "execution_count": 28,
   "metadata": {},
   "outputs": [
    {
     "data": {
      "text/plain": [
       "'pvalue = 0.017'"
      ]
     },
     "metadata": {},
     "output_type": "display_data"
    },
    {
     "data": {
      "text/plain": [
       "'Резница между группами В и А : 0.138'"
      ]
     },
     "metadata": {},
     "output_type": "display_data"
    }
   ],
   "source": [
    "display(\"pvalue = {0:.3f}\".format(st.mannwhitneyu(sampleA, sampleB)[1]))\n",
    "\n",
    "display(\"Резница между группами В и А : {0:.3f}\".format(sampleB.mean() / sampleA.mean() - 1))"
   ]
  },
  {
   "cell_type": "markdown",
   "metadata": {},
   "source": [
    "<div class=\"alert alert-warning\">\n",
    "<h2> Комментарий ревьюера 🤓<a class=\"tocSkip\"> </h2>\n",
    "\n",
    "Чтобы не возникало путаницы, следует подписать значения, какое из них - p-value, а какое - различие в средних."
   ]
  },
  {
   "cell_type": "markdown",
   "metadata": {},
   "source": [
    "<div class=\"alert alert-info\"> <b>+</b>"
   ]
  },
  {
   "cell_type": "markdown",
   "metadata": {},
   "source": [
    "#### p-value = 0.017 меньше 0.05. Значит, нулевая гипотеза о том, что статистически значимых различий в конверсии между группами нет не подтвордиласть . Разница между группой В и группой А - 13.8%"
   ]
  },
  {
   "cell_type": "markdown",
   "metadata": {},
   "source": [
    "<div class=\"alert alert-success\">\n",
    "<h2> Комментарий ревьюера 😊<a class=\"tocSkip\"> </h2>\n",
    "    \n",
    "Расчет проведен верно и значение p-value интерпретировано правильно. Хорошая работа.\n",
    "</div>"
   ]
  },
  {
   "cell_type": "markdown",
   "metadata": {},
   "source": [
    "<div class=\"alert alert-block alert-danger\">\n",
    "<h2> Комментарий ревьюера ⛔️<a class=\"tocSkip\"></h2>\n",
    "   <s>\n",
    "Отсутствуют статистические гипотезы по которым проводится проверка. Давай добавим нулевую и альтернативную гипотезы к каждому тесту)\n",
    "</div>"
   ]
  },
  {
   "cell_type": "markdown",
   "metadata": {},
   "source": [
    "<div class=\"alert alert-info\"> <b>+</b>"
   ]
  },
  {
   "cell_type": "markdown",
   "metadata": {},
   "source": [
    "<div class=\"alert alert-success\">\n",
    "<h2> Комментарий ревьюера 😊 v_2 <a class=\"tocSkip\"> </h2>\n",
    "\n",
    "Гипотезы составлены верно)"
   ]
  },
  {
   "cell_type": "markdown",
   "metadata": {},
   "source": [
    "### Посчитайте статистическую значимость различий в среднем чеке заказа между группами по «сырым» данным. Сделайте выводы и предположения.\n"
   ]
  },
  {
   "cell_type": "markdown",
   "metadata": {},
   "source": [
    "H0 - статистической значимости различий в среднем чеке заказа между группами по «сырым» данным НЕТ\n",
    "\n",
    "H1 - статистическая значимость различий в среднем чеке заказа между группами по «сырым» данным ЕСТЬ"
   ]
  },
  {
   "cell_type": "code",
   "execution_count": 29,
   "metadata": {},
   "outputs": [
    {
     "data": {
      "text/plain": [
       "'pvalue = 0.729'"
      ]
     },
     "metadata": {},
     "output_type": "display_data"
    },
    {
     "data": {
      "text/plain": [
       "'Резница между группами В и А : 0.259'"
      ]
     },
     "metadata": {},
     "output_type": "display_data"
    }
   ],
   "source": [
    "display('pvalue = {0:.3f}'.format(st.mannwhitneyu(orders[orders['group']=='A']['revenue'], orders[orders['group']=='B']['revenue'])[1]))\n",
    "display('Резница между группами В и А : {0:.3f}'.format(orders[orders['group']=='B']['revenue'].mean()/orders[orders['group']=='A']['revenue'].mean()-1)) "
   ]
  },
  {
   "cell_type": "markdown",
   "metadata": {},
   "source": [
    "#### P-value значительно больше 0.05. Значит, причин отвергать нулевую гипотезу и считать, что в среднем чеке есть различия, нет. Впрочем, средний чек группы B значительно выше среднего чека группы A."
   ]
  },
  {
   "cell_type": "markdown",
   "metadata": {},
   "source": [
    "### Посчитайте статистическую значимость различий в среднем количестве заказов на посетителя между группами по «очищенным» данным. Сделайте выводы и предположения."
   ]
  },
  {
   "cell_type": "code",
   "execution_count": 30,
   "metadata": {},
   "outputs": [
    {
     "data": {
      "text/plain": [
       "1099    148427295\n",
       "18      199603092\n",
       "23      237748145\n",
       "37      249864742\n",
       "68      457167155\n",
       "dtype: int64"
      ]
     },
     "metadata": {},
     "output_type": "display_data"
    },
    {
     "data": {
      "text/plain": [
       "31"
      ]
     },
     "metadata": {},
     "output_type": "display_data"
    }
   ],
   "source": [
    "usersWithManyOrders = pd.concat(\n",
    "    [\n",
    "        ordersByUsersA[ordersByUsersA['orders'] > 2]['visitor'],\n",
    "        ordersByUsersB[ordersByUsersB['orders'] > 2]['visitor'],\n",
    "    ],\n",
    "    axis=0,\n",
    ")\n",
    "usersWithExpensiveOrders = orders[orders['revenue'] > 58233.2]['visitorId']\n",
    "abnormalUsers = (\n",
    "    pd.concat([usersWithManyOrders, usersWithExpensiveOrders], axis=0)\n",
    "    .drop_duplicates()\n",
    "    .sort_values()\n",
    ")\n",
    "display(abnormalUsers.head(5))\n",
    "display(abnormalUsers.shape[0]) "
   ]
  },
  {
   "cell_type": "markdown",
   "metadata": {},
   "source": [
    "<div class=\"alert alert-warning\">\n",
    "<h2> Комментарий ревьюера 🤓<a class=\"tocSkip\"> </h2>\n",
    "\n",
    "Чтобы в дальнейшем мы могли использовать анализ повторно, будет лучше отказаться от  ручного ввода обозначаемых границ, и заменить на соответствующие коду обозначения (перцентили))\n"
   ]
  },
  {
   "cell_type": "markdown",
   "metadata": {},
   "source": [
    "<div class=\"alert alert-info\"> <b>немного не понял. usersWithExpensiveOrders = orders[orders['revenue'] >np.percentile(orders['revenue'],[99])['visitorId']. Видимо ты имеешь ввиду сделать чтото подобное , но этот код не работает=)</b>"
   ]
  },
  {
   "cell_type": "markdown",
   "metadata": {},
   "source": [
    "<div class=\"alert alert-success\">\n",
    "<h2> Комментарий ревьюера 😊 v_2 <a class=\"tocSkip\"> </h2>\n",
    "\n",
    "Только будет вот так: \n",
    "\n",
    "\n",
    "    usersWithExpensiveOrders = orders[orders['revenue'] > np.percentile(orders['revenue'], 99)['visitorId']"
   ]
  },
  {
   "cell_type": "markdown",
   "metadata": {},
   "source": [
    "#### Если задать значение revenue меньше 58233.2 , то видими в данных 31 аномальные пользователь"
   ]
  },
  {
   "cell_type": "markdown",
   "metadata": {},
   "source": [
    "H0 - статистической значимости различий в среднем количестве заказов на посетителя между группами по «очищенным» данным НЕТ\n",
    "\n",
    "H1 - статистическая значимость различий в среднем количестве заказов на посетителя между группами по «очищенным» данным ЕСТЬ"
   ]
  },
  {
   "cell_type": "code",
   "execution_count": 31,
   "metadata": {},
   "outputs": [
    {
     "data": {
      "text/plain": [
       "'pvalue = 0.010'"
      ]
     },
     "metadata": {},
     "output_type": "display_data"
    },
    {
     "data": {
      "text/plain": [
       "'Резница между группами В и А : 0.174'"
      ]
     },
     "metadata": {},
     "output_type": "display_data"
    }
   ],
   "source": [
    "sampleAFiltered = pd.concat(\n",
    "    [\n",
    "        ordersByUsersA[\n",
    "            np.logical_not(ordersByUsersA['visitor'].isin(abnormalUsers))\n",
    "        ]['orders'],\n",
    "        pd.Series(\n",
    "            0,\n",
    "            index=np.arange(\n",
    "                data['visitorsPerDateA'].sum() - len(ordersByUsersA['orders'])\n",
    "            ),\n",
    "            name='orders',\n",
    "        ),\n",
    "    ],\n",
    "    axis=0\n",
    ")\n",
    "\n",
    "sampleBFiltered = pd.concat(\n",
    "    [\n",
    "        ordersByUsersB[\n",
    "            np.logical_not(ordersByUsersB['visitor'].isin(abnormalUsers))\n",
    "        ]['orders'],\n",
    "        pd.Series(\n",
    "            0,\n",
    "            index=np.arange(\n",
    "                data['visitorsPerDateB'].sum() - len(ordersByUsersB['orders'])\n",
    "            ),\n",
    "            name='orders',\n",
    "        ),\n",
    "    ],\n",
    "    axis=0\n",
    ") \n",
    "display('pvalue = {0:.3f}'.format(st.mannwhitneyu(sampleAFiltered,sampleBFiltered)[1]))\n",
    "display('Резница между группами В и А : {0:.3f}'.format(sampleBFiltered.mean()/sampleAFiltered.mean()-1))"
   ]
  },
  {
   "cell_type": "markdown",
   "metadata": {},
   "source": [
    "#### Также как и в \"сырых\" данных, конверсия между \"очищенными\"группами есть. p-value = 0.010 меньше 0.05. Значит, нулевая гипотеза о том, что статистически значимых различий в конверсии между группами нет не подтвордиласть . Разница между группой В и группой А - 17.4%"
   ]
  },
  {
   "cell_type": "markdown",
   "metadata": {},
   "source": [
    "### Посчитайте статистическую значимость различий в среднем чеке заказа между группами по «очищенным» данным. Сделайте выводы и предположения."
   ]
  },
  {
   "cell_type": "markdown",
   "metadata": {},
   "source": [
    "H0 - статистической значимости различий в среднем чеке заказа между группами по «очищенным» данным НЕТ\n",
    "\n",
    "H1 - статистическая значимость различий в среднем чеке заказа между группами по «очищенным» данным ЕСТЬ"
   ]
  },
  {
   "cell_type": "code",
   "execution_count": 32,
   "metadata": {},
   "outputs": [
    {
     "data": {
      "text/plain": [
       "'pvalue = 0.798'"
      ]
     },
     "metadata": {},
     "output_type": "display_data"
    },
    {
     "data": {
      "text/plain": [
       "'Резница между группами В и А : -0.020'"
      ]
     },
     "metadata": {},
     "output_type": "display_data"
    }
   ],
   "source": [
    "display(\n",
    "    'pvalue = {0:.3f}'.format(\n",
    "        st.mannwhitneyu(\n",
    "            orders[\n",
    "                np.logical_and(\n",
    "                    orders['group'] == 'A',\n",
    "                    np.logical_not(orders['visitorId'].isin(abnormalUsers)),\n",
    "                )\n",
    "            ]['revenue'],\n",
    "            orders[\n",
    "                np.logical_and(\n",
    "                    orders['group'] == 'B',\n",
    "                    np.logical_not(orders['visitorId'].isin(abnormalUsers)),\n",
    "                )\n",
    "            ]['revenue'],\n",
    "        )[1]\n",
    "    )\n",
    ")\n",
    "\n",
    "display( \n",
    "    \"Резница между группами В и А : {0:.3f}\".format(\n",
    "        orders[\n",
    "            np.logical_and(\n",
    "                orders['group'] == 'B',\n",
    "                np.logical_not(orders['visitorId'].isin(abnormalUsers)),\n",
    "            )\n",
    "        ]['revenue'].mean()\n",
    "        / orders[\n",
    "            np.logical_and(\n",
    "                orders['group'] == 'A',\n",
    "                np.logical_not(orders['visitorId'].isin(abnormalUsers)),\n",
    "            )\n",
    "        ]['revenue'].mean()\n",
    "        - 1\n",
    "    )\n",
    ") "
   ]
  },
  {
   "cell_type": "markdown",
   "metadata": {},
   "source": [
    "#### Также как и в \"сырых\" P-value значительно больше 0.05. Значит, причин отвергать нулевую гипотезу и считать, что в среднем чеке есть различия, нет. Но разница между группами значитально изменилась . В \"очищенных\" средний чек группы B ниже среднего чека группы A."
   ]
  },
  {
   "cell_type": "markdown",
   "metadata": {},
   "source": [
    "### Примите решение по результатам теста \n",
    "На мой взгляд тест можно остановить, зафиксировать победу одной из групп. Т.к конверсия группы В значительнее группы А . Хотя средний чек обоих групп примерно равен. "
   ]
  },
  {
   "cell_type": "markdown",
   "metadata": {},
   "source": [
    "<div class=\"alert alert-success\">\n",
    "<h2> Комментарий ревьюера 😊<a class=\"tocSkip\"> </h2>\n",
    "\n",
    "Верно)"
   ]
  },
  {
   "cell_type": "markdown",
   "metadata": {},
   "source": [
    "## ВЫВОД"
   ]
  },
  {
   "cell_type": "raw",
   "metadata": {},
   "source": [
    "# В данной работе я провел ряд тесто в которых сравнивал две группы покупателей , и выяснил , что одна группа более эффективна , в плане дохода , чем другая. Конверсия группы В значительнее группы А . Хотя средний чек обоих групп примерно равен. \n",
    "\n",
    "Также выяснил какие гипотезы будут более эффективны в привлечении новых пользователей :\n",
    "- Добавить форму подписки на все основные страницы, чтобы собрать базу клиентов для email-рассылок\n",
    "- Добавить блоки рекомендаций товаров на сайт интернет магазина, чтобы повысить конверсию и средний чек заказа\n",
    "- Добавить два новых канала привлечения трафика, что позволит привлекать на 30% больше пользователей\n",
    "- Показать на главной странице баннеры с актуальными акциями и распродажами, чтобы увеличить конверсию"
   ]
  },
  {
   "cell_type": "markdown",
   "metadata": {},
   "source": [
    "**Целями проекта были :**\n",
    "\n",
    "- Изучить данные\n",
    "- Выяснить какие гипотезы помогут магазины увеличить выручку\n",
    "- Запустить А/В тест и проанализировать результаты по 'сырым' и 'очищенным' данным\n",
    "- Принять решение о продолжении или остановке теста\n",
    "\n",
    "**По порядку :**\n",
    "\n",
    "- Данные были изучены . Во всех трех таблица дубликатов и пропусов не обнаруженно , что упростило нам работу\n",
    "\n",
    "**Выяснил какие гипотезы будут более эффективны в привлечении новых пользователей :**\n",
    "- Добавить форму подписки на все основные страницы, чтобы собрать базу клиентов для email-рассылок\n",
    "- Добавить блоки рекомендаций товаров на сайт интернет магазина, чтобы повысить конверсию и средний чек заказа\n",
    "- Добавить два новых канала привлечения трафика, что позволит привлекать на 30% больше пользователей\n",
    "- Показать на главной странице баннеры с актуальными акциями и распродажами, чтобы увеличить конверсию\n",
    "\n",
    "**Запустить А/В тест и проанализировать результаты:**\n",
    "- Кумулятивная выручка группы В стабильно выше выручки группы А . Такде имеется сильный всплеск в середине теста\n",
    "- В ситуация с кумулятивным средним чеком между группами все не так однозначно: кривая группы В до середины теста нестабильна, но все-таки выше аналогичной группы А.\n",
    "- В начале теста у группы А , как и у группы В кум.конверсия сильно колеблется. Ситуация изменяется с середине теста , когда показатели стабилизируюся . Также есть тенденция на снижение кум.конверсии у обоих групп.\n",
    "- В обоих группах большинство пользователей сделали 1-2 заказа \n",
    "- Не больше 10000 ,именно на такую сумму было сделано больширнство заказов. Тем не менее на графике группы В можно заметить два аномально большых заказа на сумму 1294500 и 202740. Это и есть причина резкого скачка кумулятивного среднего чека группы В.\n",
    "- До очистки данных показатели среднего чека группы В были выше , но стоило убрать аномальные показатели , ср.чек группы А стал больше , хоть и всего на 2%\n",
    "- Нулевая гипотеза о том, что статистически значимых различий в конверсии между группами нет не подтвердиласть. Разница между группой В и группой А - 13.8% . В 'очищенных' данных также нулевая гипотеза не подтвердилась и разница между группами составила 17.4%\n",
    "\n",
    "**Принять решение о продолжении или остановке теста:**\n",
    "\n",
    "- Мной было принято решение об остановке теста , и признании победы группы В , т.к конверсия между группами сильно отличается , хоть и средний чек почти одинаковый.\n",
    "\n",
    "**Рекомендации:**\n",
    "\n",
    "- Инетернет-магазину стоит больце акцентировать внимание на перспективные гипотезы , особенно на 'Добавить форму подписки на все основные страницы, чтобы собрать базу клиентов для email-рассылок' , которая приносит свои плоды в два раза больше других гипотез\n",
    "- Также , мне кажется перспективной гипотеза 'Добавить два новых канала привлечения трафика, что позволит привлекать на 30% больше пользователей' , ведь чем больше рекламы на сторонних сайтах тем больше втрафика вы получите\n",
    "- Скидки. Все любят скидки, акции. Стоит поэксперементировать именно с ними , и включить эту гипотезу в список"
   ]
  },
  {
   "cell_type": "markdown",
   "metadata": {},
   "source": [
    "<div class=\"alert alert-block alert-danger\">\n",
    "<h2> Комментарий ревьюера ⛔️<a class=\"tocSkip\"></h2>\n",
    "    <s>\n",
    "Общий вывод это главный итог твоей работы, то что мы можем предоставить нашему заказчику. Давай дополним его результатами твоей работы и основными выводами) Можно  начать общий вывод с выявленных при ответе на вопросы зависимостей, а закончить аргументами принятого решения и рекомендациями заказчику по улучшению. </div>"
   ]
  },
  {
   "cell_type": "markdown",
   "metadata": {},
   "source": [
    "<div style=\"border:solid Purple 2px; padding: 40px\">\n",
    "\n",
    "<h2> Общий комментарий ревьюера 😊 v_2<a class=\"tocSkip\"> </h2>\n",
    "    <br/>\n",
    "Владимир , спасибо за проект! Успехов в дальнейшем обучении!)\n"
   ]
  },
  {
   "cell_type": "markdown",
   "metadata": {},
   "source": [
    "<div style=\"border:solid Purple 2px; padding: 40px\">\n",
    "\n",
    "<h2> Общий комментарий ревьюера 😊<a class=\"tocSkip\"> </h2>\n",
    "    <br/>\n",
    "Владимир,Хорошая работа по проекту, отлично справился с расчетами и графиками)\n",
    "    \n",
    "Необходимо доработать:\n",
    "    \n",
    "* Добавить комментарий к графику\n",
    "* Указать гипотезы к тестам\n",
    "* Остальные комментарии ты найдешь в работе\n",
    "    \n",
    " \n",
    "**Желаю удачи и жду твой проект на повторное ревью! Если вдруг у тебя возникнут вопросы, то я с радостью отвечу на них.    😊**\n",
    "\n",
    "<br>   \n",
    "             \n",
    "**Дополнительные материалы:**\n",
    " \n",
    "[Вебинары под эгидой Практикума](https://vk.com/yandex.praktikum?w=wall-176471180_2144), \n",
    "    \n",
    "[Лекции Анатолия Карпова 1](https://www.youtube.com/watch?v=jnFVmtaeSA0&list=WL&index=19&t=2s) [2](https://www.youtube.com/watch?v=gljfGAkgX_o&list=WL&index=4)\n",
    "    \n",
    "Материалы [gopractice](https://gopractice.ru/summary/)\n",
    "\n",
    "Лекцию Карта статистических методов [Смотреть видео](https://www.youtube.com/watch?v=-zps6hm0nX8&t=1269s)\n",
    "        \n",
    "</div>"
   ]
  },
  {
   "cell_type": "code",
   "execution_count": null,
   "metadata": {},
   "outputs": [],
   "source": []
  }
 ],
 "metadata": {
  "ExecuteTimeLog": [
   {
    "duration": 1448,
    "start_time": "2024-11-16T12:37:25.165Z"
   },
   {
    "duration": 91,
    "start_time": "2024-11-16T12:37:26.616Z"
   },
   {
    "duration": 14,
    "start_time": "2024-11-16T12:37:42.208Z"
   },
   {
    "duration": 116,
    "start_time": "2024-11-16T12:40:20.463Z"
   },
   {
    "duration": 17,
    "start_time": "2024-11-16T12:40:21.018Z"
   },
   {
    "duration": 14,
    "start_time": "2024-11-16T12:40:35.935Z"
   },
   {
    "duration": 82,
    "start_time": "2024-11-16T12:41:06.546Z"
   },
   {
    "duration": 7,
    "start_time": "2024-11-16T12:41:06.847Z"
   },
   {
    "duration": 14,
    "start_time": "2024-11-16T12:41:07.079Z"
   },
   {
    "duration": 8,
    "start_time": "2024-11-16T12:42:00.109Z"
   },
   {
    "duration": 44,
    "start_time": "2024-11-16T12:42:26.151Z"
   },
   {
    "duration": 45,
    "start_time": "2024-11-16T12:43:03.819Z"
   },
   {
    "duration": 142,
    "start_time": "2024-11-16T12:44:02.952Z"
   },
   {
    "duration": 4,
    "start_time": "2024-11-16T12:44:05.859Z"
   },
   {
    "duration": 54,
    "start_time": "2024-11-16T12:44:21.194Z"
   },
   {
    "duration": 89,
    "start_time": "2024-11-16T12:44:32.370Z"
   },
   {
    "duration": 32,
    "start_time": "2024-11-16T12:44:36.226Z"
   },
   {
    "duration": 6,
    "start_time": "2024-11-16T12:45:29.230Z"
   },
   {
    "duration": 46,
    "start_time": "2024-11-16T12:45:30.071Z"
   },
   {
    "duration": 29,
    "start_time": "2024-11-16T12:45:31.027Z"
   },
   {
    "duration": 58,
    "start_time": "2024-11-16T12:45:37.893Z"
   },
   {
    "duration": 4,
    "start_time": "2024-11-16T12:46:19.648Z"
   },
   {
    "duration": 37,
    "start_time": "2024-11-16T12:46:20.051Z"
   },
   {
    "duration": 53,
    "start_time": "2024-11-16T12:46:23.983Z"
   },
   {
    "duration": 54,
    "start_time": "2024-11-16T12:48:22.202Z"
   },
   {
    "duration": 6,
    "start_time": "2024-11-16T12:53:07.980Z"
   },
   {
    "duration": 6,
    "start_time": "2024-11-16T12:53:13.569Z"
   },
   {
    "duration": 6,
    "start_time": "2024-11-16T12:53:43.948Z"
   },
   {
    "duration": 9,
    "start_time": "2024-11-16T12:53:51.192Z"
   },
   {
    "duration": 6,
    "start_time": "2024-11-16T12:53:57.955Z"
   },
   {
    "duration": 7,
    "start_time": "2024-11-16T12:54:41.888Z"
   },
   {
    "duration": 9,
    "start_time": "2024-11-16T12:55:05.440Z"
   },
   {
    "duration": 5,
    "start_time": "2024-11-16T12:57:10.841Z"
   },
   {
    "duration": 8,
    "start_time": "2024-11-16T12:57:21.378Z"
   },
   {
    "duration": 445,
    "start_time": "2024-11-16T13:19:52.138Z"
   },
   {
    "duration": 328,
    "start_time": "2024-11-16T13:20:43.263Z"
   },
   {
    "duration": 310,
    "start_time": "2024-11-16T13:22:02.691Z"
   },
   {
    "duration": 12,
    "start_time": "2024-11-16T13:22:41.317Z"
   },
   {
    "duration": 297,
    "start_time": "2024-11-16T13:22:42.075Z"
   },
   {
    "duration": 295,
    "start_time": "2024-11-16T13:23:37.081Z"
   },
   {
    "duration": 90,
    "start_time": "2024-11-16T13:24:24.157Z"
   },
   {
    "duration": 1458,
    "start_time": "2024-11-16T13:24:34.342Z"
   },
   {
    "duration": 114,
    "start_time": "2024-11-16T13:24:35.808Z"
   },
   {
    "duration": 4,
    "start_time": "2024-11-16T13:24:35.929Z"
   },
   {
    "duration": 86,
    "start_time": "2024-11-16T13:24:35.941Z"
   },
   {
    "duration": 46,
    "start_time": "2024-11-16T13:24:36.030Z"
   },
   {
    "duration": 46,
    "start_time": "2024-11-16T13:24:36.112Z"
   },
   {
    "duration": 8,
    "start_time": "2024-11-16T13:24:36.160Z"
   },
   {
    "duration": 14,
    "start_time": "2024-11-16T13:24:36.170Z"
   },
   {
    "duration": 155,
    "start_time": "2024-11-16T13:26:36.496Z"
   },
   {
    "duration": 234,
    "start_time": "2024-11-16T13:27:01.124Z"
   },
   {
    "duration": 346,
    "start_time": "2024-11-16T13:27:59.387Z"
   },
   {
    "duration": 375,
    "start_time": "2024-11-16T13:28:33.368Z"
   },
   {
    "duration": 439,
    "start_time": "2024-11-16T13:29:02.781Z"
   },
   {
    "duration": 34,
    "start_time": "2024-11-16T13:29:11.485Z"
   },
   {
    "duration": 353,
    "start_time": "2024-11-16T13:29:27.408Z"
   },
   {
    "duration": 14,
    "start_time": "2024-11-16T13:30:02.539Z"
   },
   {
    "duration": 925,
    "start_time": "2024-11-16T13:32:02.918Z"
   },
   {
    "duration": 683,
    "start_time": "2024-11-16T13:33:20.910Z"
   },
   {
    "duration": 676,
    "start_time": "2024-11-16T13:33:36.914Z"
   },
   {
    "duration": 592,
    "start_time": "2024-11-16T13:38:05.220Z"
   },
   {
    "duration": 67,
    "start_time": "2024-11-16T13:39:00.117Z"
   },
   {
    "duration": 597,
    "start_time": "2024-11-16T13:39:11.220Z"
   },
   {
    "duration": 514,
    "start_time": "2024-11-16T13:39:19.439Z"
   },
   {
    "duration": 510,
    "start_time": "2024-11-16T13:39:33.246Z"
   },
   {
    "duration": 730,
    "start_time": "2024-11-16T13:39:44.483Z"
   },
   {
    "duration": 613,
    "start_time": "2024-11-16T13:40:25.010Z"
   },
   {
    "duration": 1356,
    "start_time": "2024-11-17T09:22:27.459Z"
   },
   {
    "duration": 217,
    "start_time": "2024-11-17T09:22:28.817Z"
   },
   {
    "duration": 4,
    "start_time": "2024-11-17T09:22:29.035Z"
   },
   {
    "duration": 40,
    "start_time": "2024-11-17T09:22:29.040Z"
   },
   {
    "duration": 31,
    "start_time": "2024-11-17T09:22:29.083Z"
   },
   {
    "duration": 61,
    "start_time": "2024-11-17T09:22:29.115Z"
   },
   {
    "duration": 6,
    "start_time": "2024-11-17T09:22:29.177Z"
   },
   {
    "duration": 5,
    "start_time": "2024-11-17T09:22:29.185Z"
   },
   {
    "duration": 681,
    "start_time": "2024-11-17T09:22:29.191Z"
   },
   {
    "duration": 11,
    "start_time": "2024-11-17T09:22:29.874Z"
   },
   {
    "duration": 1560,
    "start_time": "2024-11-17T10:13:08.665Z"
   },
   {
    "duration": 521,
    "start_time": "2024-11-17T10:35:04.429Z"
   },
   {
    "duration": 155,
    "start_time": "2024-11-17T10:37:44.293Z"
   },
   {
    "duration": 220,
    "start_time": "2024-11-17T10:38:08.067Z"
   },
   {
    "duration": 143,
    "start_time": "2024-11-17T10:38:14.781Z"
   },
   {
    "duration": 162,
    "start_time": "2024-11-17T10:38:19.844Z"
   },
   {
    "duration": 214,
    "start_time": "2024-11-17T10:38:29.490Z"
   },
   {
    "duration": 387,
    "start_time": "2024-11-17T10:39:40.881Z"
   },
   {
    "duration": 385,
    "start_time": "2024-11-17T10:39:48.400Z"
   },
   {
    "duration": 417,
    "start_time": "2024-11-17T10:40:10.994Z"
   },
   {
    "duration": 418,
    "start_time": "2024-11-17T10:43:34.264Z"
   },
   {
    "duration": 8,
    "start_time": "2024-11-17T10:45:51.407Z"
   },
   {
    "duration": 15,
    "start_time": "2024-11-17T10:46:30.260Z"
   },
   {
    "duration": 239,
    "start_time": "2024-11-17T10:46:35.735Z"
   },
   {
    "duration": 180,
    "start_time": "2024-11-17T10:46:40.581Z"
   },
   {
    "duration": 296,
    "start_time": "2024-11-17T10:57:17.850Z"
   },
   {
    "duration": 257,
    "start_time": "2024-11-17T10:57:37.309Z"
   },
   {
    "duration": 300,
    "start_time": "2024-11-17T10:57:57.341Z"
   },
   {
    "duration": 311,
    "start_time": "2024-11-17T10:58:04.636Z"
   },
   {
    "duration": 247,
    "start_time": "2024-11-17T11:08:02.493Z"
   },
   {
    "duration": 333,
    "start_time": "2024-11-17T11:08:47.259Z"
   },
   {
    "duration": 307,
    "start_time": "2024-11-17T11:11:23.662Z"
   },
   {
    "duration": 278,
    "start_time": "2024-11-17T11:12:22.987Z"
   },
   {
    "duration": 255,
    "start_time": "2024-11-17T11:14:25.179Z"
   },
   {
    "duration": 275,
    "start_time": "2024-11-17T11:14:33.175Z"
   },
   {
    "duration": 13,
    "start_time": "2024-11-17T11:23:17.141Z"
   },
   {
    "duration": 11,
    "start_time": "2024-11-17T11:23:55.015Z"
   },
   {
    "duration": 994,
    "start_time": "2024-11-17T11:25:07.198Z"
   },
   {
    "duration": 77,
    "start_time": "2024-11-17T11:25:08.194Z"
   },
   {
    "duration": 4,
    "start_time": "2024-11-17T11:25:08.273Z"
   },
   {
    "duration": 40,
    "start_time": "2024-11-17T11:25:08.279Z"
   },
   {
    "duration": 51,
    "start_time": "2024-11-17T11:25:08.320Z"
   },
   {
    "duration": 28,
    "start_time": "2024-11-17T11:25:08.373Z"
   },
   {
    "duration": 8,
    "start_time": "2024-11-17T11:25:08.403Z"
   },
   {
    "duration": 7,
    "start_time": "2024-11-17T11:25:08.414Z"
   },
   {
    "duration": 282,
    "start_time": "2024-11-17T11:25:08.422Z"
   },
   {
    "duration": 10,
    "start_time": "2024-11-17T11:25:08.706Z"
   },
   {
    "duration": 241,
    "start_time": "2024-11-17T11:25:08.718Z"
   },
   {
    "duration": 156,
    "start_time": "2024-11-17T11:25:08.961Z"
   },
   {
    "duration": 302,
    "start_time": "2024-11-17T11:25:09.118Z"
   },
   {
    "duration": 312,
    "start_time": "2024-11-17T11:25:09.423Z"
   },
   {
    "duration": 109,
    "start_time": "2024-11-17T11:25:09.737Z"
   },
   {
    "duration": 110,
    "start_time": "2024-11-17T11:25:42.984Z"
   },
   {
    "duration": 154,
    "start_time": "2024-11-17T11:26:40.231Z"
   },
   {
    "duration": 149,
    "start_time": "2024-11-17T11:26:54.434Z"
   },
   {
    "duration": 125,
    "start_time": "2024-11-17T11:27:00.470Z"
   },
   {
    "duration": 168,
    "start_time": "2024-11-17T11:28:09.548Z"
   },
   {
    "duration": 101,
    "start_time": "2024-11-17T11:30:47.023Z"
   },
   {
    "duration": 7,
    "start_time": "2024-11-17T11:30:50.409Z"
   },
   {
    "duration": 4,
    "start_time": "2024-11-17T11:31:08.200Z"
   },
   {
    "duration": 5,
    "start_time": "2024-11-17T11:31:33.035Z"
   },
   {
    "duration": 8,
    "start_time": "2024-11-17T11:31:49.178Z"
   },
   {
    "duration": 123,
    "start_time": "2024-11-17T11:35:16.553Z"
   },
   {
    "duration": 118,
    "start_time": "2024-11-17T11:35:49.254Z"
   },
   {
    "duration": 8,
    "start_time": "2024-11-17T11:36:37.587Z"
   },
   {
    "duration": 5,
    "start_time": "2024-11-17T11:36:44.628Z"
   },
   {
    "duration": 120,
    "start_time": "2024-11-17T11:37:02.909Z"
   },
   {
    "duration": 12,
    "start_time": "2024-11-17T11:37:20.676Z"
   },
   {
    "duration": 9,
    "start_time": "2024-11-17T11:39:34.175Z"
   },
   {
    "duration": 120,
    "start_time": "2024-11-17T11:39:36.431Z"
   },
   {
    "duration": 11,
    "start_time": "2024-11-17T11:39:39.287Z"
   },
   {
    "duration": 1276,
    "start_time": "2024-11-19T16:26:50.447Z"
   },
   {
    "duration": 260,
    "start_time": "2024-11-19T16:26:51.736Z"
   },
   {
    "duration": 4,
    "start_time": "2024-11-19T16:26:51.998Z"
   },
   {
    "duration": 55,
    "start_time": "2024-11-19T16:26:52.004Z"
   },
   {
    "duration": 30,
    "start_time": "2024-11-19T16:26:52.061Z"
   },
   {
    "duration": 59,
    "start_time": "2024-11-19T16:26:52.092Z"
   },
   {
    "duration": 7,
    "start_time": "2024-11-19T16:26:52.153Z"
   },
   {
    "duration": 41,
    "start_time": "2024-11-19T16:26:52.161Z"
   },
   {
    "duration": 290,
    "start_time": "2024-11-19T16:26:52.203Z"
   },
   {
    "duration": 12,
    "start_time": "2024-11-19T16:26:52.494Z"
   },
   {
    "duration": 275,
    "start_time": "2024-11-19T16:26:52.507Z"
   },
   {
    "duration": 196,
    "start_time": "2024-11-19T16:26:52.783Z"
   },
   {
    "duration": 364,
    "start_time": "2024-11-19T16:26:52.981Z"
   },
   {
    "duration": 294,
    "start_time": "2024-11-19T16:26:53.347Z"
   },
   {
    "duration": 120,
    "start_time": "2024-11-19T16:26:53.643Z"
   },
   {
    "duration": 9,
    "start_time": "2024-11-19T16:26:53.765Z"
   },
   {
    "duration": 140,
    "start_time": "2024-11-19T16:26:53.775Z"
   },
   {
    "duration": 19,
    "start_time": "2024-11-19T16:26:53.920Z"
   },
   {
    "duration": 200,
    "start_time": "2024-11-19T16:38:29.994Z"
   },
   {
    "duration": 201,
    "start_time": "2024-11-19T16:45:33.085Z"
   },
   {
    "duration": 136,
    "start_time": "2024-11-19T16:50:07.853Z"
   },
   {
    "duration": 9,
    "start_time": "2024-11-19T16:50:21.008Z"
   },
   {
    "duration": 8,
    "start_time": "2024-11-19T16:50:27.613Z"
   },
   {
    "duration": 6,
    "start_time": "2024-11-19T16:51:29.838Z"
   },
   {
    "duration": 8,
    "start_time": "2024-11-19T16:51:51.690Z"
   },
   {
    "duration": 6,
    "start_time": "2024-11-19T16:55:12.823Z"
   },
   {
    "duration": 7,
    "start_time": "2024-11-19T16:55:15.441Z"
   },
   {
    "duration": 9,
    "start_time": "2024-11-19T16:55:50.077Z"
   },
   {
    "duration": 26,
    "start_time": "2024-11-19T16:56:08.097Z"
   },
   {
    "duration": 11,
    "start_time": "2024-11-19T16:58:56.594Z"
   },
   {
    "duration": 5,
    "start_time": "2024-11-19T17:00:55.668Z"
   },
   {
    "duration": 79,
    "start_time": "2024-11-19T17:01:07.614Z"
   },
   {
    "duration": 8,
    "start_time": "2024-11-19T17:01:12.720Z"
   },
   {
    "duration": 11,
    "start_time": "2024-11-19T17:01:24.692Z"
   },
   {
    "duration": 6,
    "start_time": "2024-11-19T17:01:36.499Z"
   },
   {
    "duration": 6,
    "start_time": "2024-11-19T17:01:39.936Z"
   },
   {
    "duration": 7,
    "start_time": "2024-11-19T17:03:05.809Z"
   },
   {
    "duration": 141,
    "start_time": "2024-11-19T17:11:06.070Z"
   },
   {
    "duration": 5,
    "start_time": "2024-11-19T17:11:57.992Z"
   },
   {
    "duration": 19,
    "start_time": "2024-11-19T17:13:38.865Z"
   },
   {
    "duration": 15,
    "start_time": "2024-11-19T17:13:50.890Z"
   },
   {
    "duration": 15,
    "start_time": "2024-11-19T17:14:04.746Z"
   },
   {
    "duration": 12,
    "start_time": "2024-11-19T17:14:47.872Z"
   },
   {
    "duration": 924,
    "start_time": "2024-11-19T17:15:54.766Z"
   },
   {
    "duration": 890,
    "start_time": "2024-11-19T17:16:18.600Z"
   },
   {
    "duration": 9,
    "start_time": "2024-11-19T17:16:40.603Z"
   },
   {
    "duration": 8,
    "start_time": "2024-11-19T17:16:46.229Z"
   },
   {
    "duration": 127,
    "start_time": "2024-11-19T17:16:54.170Z"
   },
   {
    "duration": 10,
    "start_time": "2024-11-19T17:16:54.624Z"
   },
   {
    "duration": 9,
    "start_time": "2024-11-19T17:16:54.972Z"
   },
   {
    "duration": 864,
    "start_time": "2024-11-19T17:17:03.141Z"
   },
   {
    "duration": 10,
    "start_time": "2024-11-19T17:17:35.904Z"
   },
   {
    "duration": 11,
    "start_time": "2024-11-19T17:20:05.866Z"
   },
   {
    "duration": 940,
    "start_time": "2024-11-19T17:22:46.962Z"
   },
   {
    "duration": 11,
    "start_time": "2024-11-19T17:23:17.330Z"
   },
   {
    "duration": 15,
    "start_time": "2024-11-19T17:24:37.697Z"
   },
   {
    "duration": 836,
    "start_time": "2024-11-19T17:24:51.819Z"
   },
   {
    "duration": 14,
    "start_time": "2024-11-19T17:25:14.027Z"
   },
   {
    "duration": 14,
    "start_time": "2024-11-19T17:26:09.959Z"
   },
   {
    "duration": 11,
    "start_time": "2024-11-19T17:26:15.379Z"
   },
   {
    "duration": 11,
    "start_time": "2024-11-19T17:26:40.328Z"
   },
   {
    "duration": 15,
    "start_time": "2024-11-19T17:26:47.882Z"
   },
   {
    "duration": 5,
    "start_time": "2024-11-19T17:43:00.865Z"
   },
   {
    "duration": 9,
    "start_time": "2024-11-19T17:43:29.431Z"
   },
   {
    "duration": 43,
    "start_time": "2024-11-19T17:44:01.244Z"
   },
   {
    "duration": 43,
    "start_time": "2024-11-19T17:57:42.711Z"
   },
   {
    "duration": 1198,
    "start_time": "2024-11-19T18:07:56.809Z"
   },
   {
    "duration": 89,
    "start_time": "2024-11-19T18:07:58.009Z"
   },
   {
    "duration": 3,
    "start_time": "2024-11-19T18:07:58.100Z"
   },
   {
    "duration": 27,
    "start_time": "2024-11-19T18:07:58.104Z"
   },
   {
    "duration": 22,
    "start_time": "2024-11-19T18:07:58.134Z"
   },
   {
    "duration": 77,
    "start_time": "2024-11-19T18:07:58.157Z"
   },
   {
    "duration": 10,
    "start_time": "2024-11-19T18:07:58.236Z"
   },
   {
    "duration": 7,
    "start_time": "2024-11-19T18:07:58.248Z"
   },
   {
    "duration": 314,
    "start_time": "2024-11-19T18:07:58.257Z"
   },
   {
    "duration": 13,
    "start_time": "2024-11-19T18:07:58.573Z"
   },
   {
    "duration": 322,
    "start_time": "2024-11-19T18:07:58.588Z"
   },
   {
    "duration": 202,
    "start_time": "2024-11-19T18:07:58.912Z"
   },
   {
    "duration": 333,
    "start_time": "2024-11-19T18:07:59.116Z"
   },
   {
    "duration": 315,
    "start_time": "2024-11-19T18:07:59.452Z"
   },
   {
    "duration": 111,
    "start_time": "2024-11-19T18:07:59.769Z"
   },
   {
    "duration": 9,
    "start_time": "2024-11-19T18:07:59.881Z"
   },
   {
    "duration": 150,
    "start_time": "2024-11-19T18:07:59.891Z"
   },
   {
    "duration": 11,
    "start_time": "2024-11-19T18:08:00.043Z"
   },
   {
    "duration": 219,
    "start_time": "2024-11-19T18:08:00.056Z"
   },
   {
    "duration": 147,
    "start_time": "2024-11-19T18:08:00.277Z"
   },
   {
    "duration": 8,
    "start_time": "2024-11-19T18:08:00.426Z"
   },
   {
    "duration": 24,
    "start_time": "2024-11-19T18:08:00.435Z"
   },
   {
    "duration": 13,
    "start_time": "2024-11-19T18:08:00.461Z"
   },
   {
    "duration": 10,
    "start_time": "2024-11-19T18:08:00.475Z"
   },
   {
    "duration": 46,
    "start_time": "2024-11-19T18:08:00.486Z"
   },
   {
    "duration": 93,
    "start_time": "2024-11-19T18:08:00.534Z"
   },
   {
    "duration": 109,
    "start_time": "2024-11-19T18:08:00.629Z"
   },
   {
    "duration": 0,
    "start_time": "2024-11-19T18:08:00.740Z"
   },
   {
    "duration": 0,
    "start_time": "2024-11-19T18:08:00.741Z"
   },
   {
    "duration": 70,
    "start_time": "2024-11-19T18:15:27.315Z"
   },
   {
    "duration": 942,
    "start_time": "2024-11-19T18:15:32.371Z"
   },
   {
    "duration": 12,
    "start_time": "2024-11-19T18:16:01.106Z"
   },
   {
    "duration": 13,
    "start_time": "2024-11-19T18:16:42.913Z"
   },
   {
    "duration": 9,
    "start_time": "2024-11-19T18:16:49.601Z"
   },
   {
    "duration": 9,
    "start_time": "2024-11-19T18:16:56.334Z"
   },
   {
    "duration": 9,
    "start_time": "2024-11-19T18:17:08.989Z"
   },
   {
    "duration": 1043,
    "start_time": "2024-11-19T18:17:36.742Z"
   },
   {
    "duration": 89,
    "start_time": "2024-11-19T18:17:37.787Z"
   },
   {
    "duration": 3,
    "start_time": "2024-11-19T18:17:37.878Z"
   },
   {
    "duration": 94,
    "start_time": "2024-11-19T18:17:37.882Z"
   },
   {
    "duration": 0,
    "start_time": "2024-11-19T18:17:37.978Z"
   },
   {
    "duration": 0,
    "start_time": "2024-11-19T18:17:37.979Z"
   },
   {
    "duration": 0,
    "start_time": "2024-11-19T18:17:37.980Z"
   },
   {
    "duration": 0,
    "start_time": "2024-11-19T18:17:37.981Z"
   },
   {
    "duration": 0,
    "start_time": "2024-11-19T18:17:37.982Z"
   },
   {
    "duration": 0,
    "start_time": "2024-11-19T18:17:37.982Z"
   },
   {
    "duration": 0,
    "start_time": "2024-11-19T18:17:37.983Z"
   },
   {
    "duration": 0,
    "start_time": "2024-11-19T18:17:37.985Z"
   },
   {
    "duration": 0,
    "start_time": "2024-11-19T18:17:37.985Z"
   },
   {
    "duration": 0,
    "start_time": "2024-11-19T18:17:37.986Z"
   },
   {
    "duration": 0,
    "start_time": "2024-11-19T18:17:37.987Z"
   },
   {
    "duration": 0,
    "start_time": "2024-11-19T18:17:37.988Z"
   },
   {
    "duration": 1,
    "start_time": "2024-11-19T18:17:37.989Z"
   },
   {
    "duration": 0,
    "start_time": "2024-11-19T18:17:37.990Z"
   },
   {
    "duration": 0,
    "start_time": "2024-11-19T18:17:37.992Z"
   },
   {
    "duration": 0,
    "start_time": "2024-11-19T18:17:37.993Z"
   },
   {
    "duration": 0,
    "start_time": "2024-11-19T18:17:37.994Z"
   },
   {
    "duration": 0,
    "start_time": "2024-11-19T18:17:37.994Z"
   },
   {
    "duration": 0,
    "start_time": "2024-11-19T18:17:37.995Z"
   },
   {
    "duration": 0,
    "start_time": "2024-11-19T18:17:37.996Z"
   },
   {
    "duration": 0,
    "start_time": "2024-11-19T18:17:37.997Z"
   },
   {
    "duration": 0,
    "start_time": "2024-11-19T18:17:37.998Z"
   },
   {
    "duration": 0,
    "start_time": "2024-11-19T18:17:37.998Z"
   },
   {
    "duration": 0,
    "start_time": "2024-11-19T18:17:37.999Z"
   },
   {
    "duration": 0,
    "start_time": "2024-11-19T18:17:37.999Z"
   },
   {
    "duration": 8,
    "start_time": "2024-11-19T18:17:47.050Z"
   },
   {
    "duration": 9,
    "start_time": "2024-11-19T18:17:54.106Z"
   },
   {
    "duration": 14,
    "start_time": "2024-11-19T18:18:14.116Z"
   },
   {
    "duration": 6,
    "start_time": "2024-11-19T18:18:18.660Z"
   },
   {
    "duration": 11,
    "start_time": "2024-11-19T18:18:44.333Z"
   },
   {
    "duration": 10,
    "start_time": "2024-11-19T18:19:05.124Z"
   },
   {
    "duration": 9,
    "start_time": "2024-11-19T18:19:57.460Z"
   },
   {
    "duration": 10,
    "start_time": "2024-11-19T18:20:20.795Z"
   },
   {
    "duration": 5,
    "start_time": "2024-11-19T18:28:16.907Z"
   },
   {
    "duration": 22,
    "start_time": "2024-11-19T18:28:27.815Z"
   },
   {
    "duration": 4,
    "start_time": "2024-11-19T18:29:12.301Z"
   },
   {
    "duration": 1235,
    "start_time": "2024-11-20T15:19:19.165Z"
   },
   {
    "duration": 238,
    "start_time": "2024-11-20T15:19:20.402Z"
   },
   {
    "duration": 3,
    "start_time": "2024-11-20T15:19:20.641Z"
   },
   {
    "duration": 22,
    "start_time": "2024-11-20T15:19:20.645Z"
   },
   {
    "duration": 17,
    "start_time": "2024-11-20T15:19:20.668Z"
   },
   {
    "duration": 17,
    "start_time": "2024-11-20T15:19:20.686Z"
   },
   {
    "duration": 4,
    "start_time": "2024-11-20T15:19:20.704Z"
   },
   {
    "duration": 52,
    "start_time": "2024-11-20T15:19:20.709Z"
   },
   {
    "duration": 9,
    "start_time": "2024-11-20T15:19:20.763Z"
   },
   {
    "duration": 260,
    "start_time": "2024-11-20T15:19:20.774Z"
   },
   {
    "duration": 11,
    "start_time": "2024-11-20T15:19:21.035Z"
   },
   {
    "duration": 236,
    "start_time": "2024-11-20T15:19:21.057Z"
   },
   {
    "duration": 172,
    "start_time": "2024-11-20T15:19:21.295Z"
   },
   {
    "duration": 320,
    "start_time": "2024-11-20T15:19:21.469Z"
   },
   {
    "duration": 274,
    "start_time": "2024-11-20T15:19:21.790Z"
   },
   {
    "duration": 112,
    "start_time": "2024-11-20T15:19:22.066Z"
   },
   {
    "duration": 10,
    "start_time": "2024-11-20T15:19:22.179Z"
   },
   {
    "duration": 131,
    "start_time": "2024-11-20T15:19:22.190Z"
   },
   {
    "duration": 11,
    "start_time": "2024-11-20T15:19:22.323Z"
   },
   {
    "duration": 197,
    "start_time": "2024-11-20T15:19:22.336Z"
   },
   {
    "duration": 133,
    "start_time": "2024-11-20T15:19:22.535Z"
   },
   {
    "duration": 8,
    "start_time": "2024-11-20T15:19:22.670Z"
   },
   {
    "duration": 9,
    "start_time": "2024-11-20T15:19:22.680Z"
   },
   {
    "duration": 6,
    "start_time": "2024-11-20T15:19:22.691Z"
   },
   {
    "duration": 59,
    "start_time": "2024-11-20T15:19:22.698Z"
   },
   {
    "duration": 47,
    "start_time": "2024-11-20T15:19:22.759Z"
   },
   {
    "duration": 11,
    "start_time": "2024-11-20T15:19:22.808Z"
   },
   {
    "duration": 96,
    "start_time": "2024-11-20T15:19:22.823Z"
   },
   {
    "duration": 0,
    "start_time": "2024-11-20T15:19:22.920Z"
   },
   {
    "duration": 0,
    "start_time": "2024-11-20T15:19:22.921Z"
   },
   {
    "duration": 8,
    "start_time": "2024-11-20T15:20:13.452Z"
   },
   {
    "duration": 10,
    "start_time": "2024-11-20T15:20:16.013Z"
   },
   {
    "duration": 10,
    "start_time": "2024-11-20T15:20:19.341Z"
   },
   {
    "duration": 1070,
    "start_time": "2024-11-20T15:27:20.617Z"
   },
   {
    "duration": 74,
    "start_time": "2024-11-20T15:27:21.689Z"
   },
   {
    "duration": 4,
    "start_time": "2024-11-20T15:27:21.765Z"
   },
   {
    "duration": 51,
    "start_time": "2024-11-20T15:27:21.772Z"
   },
   {
    "duration": 17,
    "start_time": "2024-11-20T15:27:21.825Z"
   },
   {
    "duration": 16,
    "start_time": "2024-11-20T15:27:21.844Z"
   },
   {
    "duration": 4,
    "start_time": "2024-11-20T15:27:21.861Z"
   },
   {
    "duration": 12,
    "start_time": "2024-11-20T15:27:21.866Z"
   },
   {
    "duration": 9,
    "start_time": "2024-11-20T15:27:21.879Z"
   },
   {
    "duration": 284,
    "start_time": "2024-11-20T15:27:21.889Z"
   },
   {
    "duration": 11,
    "start_time": "2024-11-20T15:27:22.174Z"
   },
   {
    "duration": 244,
    "start_time": "2024-11-20T15:27:22.187Z"
   },
   {
    "duration": 157,
    "start_time": "2024-11-20T15:27:22.432Z"
   },
   {
    "duration": 273,
    "start_time": "2024-11-20T15:27:22.591Z"
   },
   {
    "duration": 277,
    "start_time": "2024-11-20T15:27:22.866Z"
   },
   {
    "duration": 131,
    "start_time": "2024-11-20T15:27:23.144Z"
   },
   {
    "duration": 8,
    "start_time": "2024-11-20T15:27:23.276Z"
   },
   {
    "duration": 131,
    "start_time": "2024-11-20T15:27:23.286Z"
   },
   {
    "duration": 10,
    "start_time": "2024-11-20T15:27:23.418Z"
   },
   {
    "duration": 194,
    "start_time": "2024-11-20T15:27:23.430Z"
   },
   {
    "duration": 132,
    "start_time": "2024-11-20T15:27:23.626Z"
   },
   {
    "duration": 7,
    "start_time": "2024-11-20T15:27:23.760Z"
   },
   {
    "duration": 11,
    "start_time": "2024-11-20T15:27:23.768Z"
   },
   {
    "duration": 6,
    "start_time": "2024-11-20T15:27:23.780Z"
   },
   {
    "duration": 10,
    "start_time": "2024-11-20T15:27:23.787Z"
   },
   {
    "duration": 22,
    "start_time": "2024-11-20T15:27:23.798Z"
   },
   {
    "duration": 9,
    "start_time": "2024-11-20T15:27:23.821Z"
   },
   {
    "duration": 9,
    "start_time": "2024-11-20T15:27:23.857Z"
   },
   {
    "duration": 6,
    "start_time": "2024-11-20T15:27:23.867Z"
   },
   {
    "duration": 14,
    "start_time": "2024-11-20T15:27:23.874Z"
   },
   {
    "duration": 202,
    "start_time": "2024-11-20T15:33:03.379Z"
   },
   {
    "duration": 212,
    "start_time": "2024-11-20T15:37:04.349Z"
   },
   {
    "duration": 157,
    "start_time": "2024-11-20T15:37:25.588Z"
   },
   {
    "duration": 308,
    "start_time": "2024-11-20T15:38:31.551Z"
   },
   {
    "duration": 203,
    "start_time": "2024-11-20T15:38:52.756Z"
   },
   {
    "duration": 192,
    "start_time": "2024-11-20T15:45:54.521Z"
   },
   {
    "duration": 1097,
    "start_time": "2024-11-20T15:46:19.859Z"
   },
   {
    "duration": 76,
    "start_time": "2024-11-20T15:46:20.958Z"
   },
   {
    "duration": 3,
    "start_time": "2024-11-20T15:46:21.035Z"
   },
   {
    "duration": 33,
    "start_time": "2024-11-20T15:46:21.040Z"
   },
   {
    "duration": 20,
    "start_time": "2024-11-20T15:46:21.075Z"
   },
   {
    "duration": 26,
    "start_time": "2024-11-20T15:46:21.096Z"
   },
   {
    "duration": 4,
    "start_time": "2024-11-20T15:46:21.124Z"
   },
   {
    "duration": 37,
    "start_time": "2024-11-20T15:46:21.130Z"
   },
   {
    "duration": 18,
    "start_time": "2024-11-20T15:46:21.168Z"
   },
   {
    "duration": 255,
    "start_time": "2024-11-20T15:46:21.187Z"
   },
   {
    "duration": 16,
    "start_time": "2024-11-20T15:46:21.443Z"
   },
   {
    "duration": 253,
    "start_time": "2024-11-20T15:46:21.460Z"
   },
   {
    "duration": 165,
    "start_time": "2024-11-20T15:46:21.714Z"
   },
   {
    "duration": 292,
    "start_time": "2024-11-20T15:46:21.882Z"
   },
   {
    "duration": 216,
    "start_time": "2024-11-20T15:46:22.176Z"
   },
   {
    "duration": 270,
    "start_time": "2024-11-20T15:46:22.393Z"
   },
   {
    "duration": 112,
    "start_time": "2024-11-20T15:46:22.664Z"
   },
   {
    "duration": 9,
    "start_time": "2024-11-20T15:46:22.778Z"
   },
   {
    "duration": 128,
    "start_time": "2024-11-20T15:46:22.789Z"
   },
   {
    "duration": 10,
    "start_time": "2024-11-20T15:46:22.919Z"
   },
   {
    "duration": 209,
    "start_time": "2024-11-20T15:46:22.930Z"
   },
   {
    "duration": 144,
    "start_time": "2024-11-20T15:46:23.140Z"
   },
   {
    "duration": 6,
    "start_time": "2024-11-20T15:46:23.286Z"
   },
   {
    "duration": 35,
    "start_time": "2024-11-20T15:46:23.293Z"
   },
   {
    "duration": 10,
    "start_time": "2024-11-20T15:46:23.329Z"
   },
   {
    "duration": 17,
    "start_time": "2024-11-20T15:46:23.340Z"
   },
   {
    "duration": 7,
    "start_time": "2024-11-20T15:46:23.358Z"
   },
   {
    "duration": 16,
    "start_time": "2024-11-20T15:46:23.366Z"
   },
   {
    "duration": 10,
    "start_time": "2024-11-20T15:48:18.410Z"
   },
   {
    "duration": 15,
    "start_time": "2024-11-20T15:51:27.448Z"
   },
   {
    "duration": 114,
    "start_time": "2024-11-20T15:57:20.588Z"
   },
   {
    "duration": 27,
    "start_time": "2024-11-20T15:57:28.136Z"
   },
   {
    "duration": 26,
    "start_time": "2024-11-20T15:57:36.826Z"
   },
   {
    "duration": 221,
    "start_time": "2024-11-20T16:00:53.280Z"
   },
   {
    "duration": 287,
    "start_time": "2024-11-20T16:38:27.572Z"
   },
   {
    "duration": 272,
    "start_time": "2024-11-20T16:38:32.585Z"
   },
   {
    "duration": 296,
    "start_time": "2024-11-20T16:38:41.056Z"
   },
   {
    "duration": 269,
    "start_time": "2024-11-20T16:38:47.510Z"
   },
   {
    "duration": 298,
    "start_time": "2024-11-20T16:46:01.448Z"
   },
   {
    "duration": 277,
    "start_time": "2024-11-20T16:47:28.034Z"
   },
   {
    "duration": 336,
    "start_time": "2024-11-20T16:48:17.659Z"
   },
   {
    "duration": 68,
    "start_time": "2024-11-20T16:49:39.291Z"
   },
   {
    "duration": 305,
    "start_time": "2024-11-20T16:49:46.092Z"
   },
   {
    "duration": 334,
    "start_time": "2024-11-20T17:00:08.566Z"
   },
   {
    "duration": 328,
    "start_time": "2024-11-20T17:00:13.032Z"
   },
   {
    "duration": 363,
    "start_time": "2024-11-20T17:00:18.150Z"
   },
   {
    "duration": 11,
    "start_time": "2024-11-20T17:30:23.050Z"
   },
   {
    "duration": 11,
    "start_time": "2024-11-20T17:30:31.580Z"
   },
   {
    "duration": 144,
    "start_time": "2024-11-20T17:35:46.393Z"
   },
   {
    "duration": 117,
    "start_time": "2024-11-20T17:35:58.761Z"
   },
   {
    "duration": 9,
    "start_time": "2024-11-20T17:36:06.853Z"
   },
   {
    "duration": 131,
    "start_time": "2024-11-20T17:37:29.499Z"
   },
   {
    "duration": 116,
    "start_time": "2024-11-20T17:37:47.255Z"
   },
   {
    "duration": 119,
    "start_time": "2024-11-20T17:37:59.991Z"
   },
   {
    "duration": 115,
    "start_time": "2024-11-20T17:38:17.855Z"
   },
   {
    "duration": 117,
    "start_time": "2024-11-20T17:38:43.502Z"
   },
   {
    "duration": 108,
    "start_time": "2024-11-20T17:43:27.844Z"
   },
   {
    "duration": 145,
    "start_time": "2024-11-20T17:43:32.891Z"
   },
   {
    "duration": 1171,
    "start_time": "2024-11-20T18:42:35.145Z"
   },
   {
    "duration": 76,
    "start_time": "2024-11-20T18:42:36.318Z"
   },
   {
    "duration": 4,
    "start_time": "2024-11-20T18:42:36.396Z"
   },
   {
    "duration": 29,
    "start_time": "2024-11-20T18:42:36.403Z"
   },
   {
    "duration": 18,
    "start_time": "2024-11-20T18:42:36.433Z"
   },
   {
    "duration": 19,
    "start_time": "2024-11-20T18:42:36.453Z"
   },
   {
    "duration": 11,
    "start_time": "2024-11-20T18:42:36.473Z"
   },
   {
    "duration": 11,
    "start_time": "2024-11-20T18:42:36.486Z"
   },
   {
    "duration": 286,
    "start_time": "2024-11-20T18:42:36.498Z"
   },
   {
    "duration": 14,
    "start_time": "2024-11-20T18:42:36.787Z"
   },
   {
    "duration": 275,
    "start_time": "2024-11-20T18:42:36.802Z"
   },
   {
    "duration": 181,
    "start_time": "2024-11-20T18:42:37.079Z"
   },
   {
    "duration": 316,
    "start_time": "2024-11-20T18:42:37.262Z"
   },
   {
    "duration": 305,
    "start_time": "2024-11-20T18:42:37.580Z"
   },
   {
    "duration": 290,
    "start_time": "2024-11-20T18:42:37.886Z"
   },
   {
    "duration": 126,
    "start_time": "2024-11-20T18:42:38.178Z"
   },
   {
    "duration": 10,
    "start_time": "2024-11-20T18:42:38.305Z"
   },
   {
    "duration": 160,
    "start_time": "2024-11-20T18:42:38.317Z"
   },
   {
    "duration": 129,
    "start_time": "2024-11-20T18:42:38.479Z"
   },
   {
    "duration": 197,
    "start_time": "2024-11-20T18:42:38.609Z"
   },
   {
    "duration": 12,
    "start_time": "2024-11-20T18:42:38.808Z"
   },
   {
    "duration": 227,
    "start_time": "2024-11-20T18:42:38.822Z"
   },
   {
    "duration": 139,
    "start_time": "2024-11-20T18:42:39.051Z"
   },
   {
    "duration": 5,
    "start_time": "2024-11-20T18:42:39.192Z"
   },
   {
    "duration": 23,
    "start_time": "2024-11-20T18:42:39.199Z"
   },
   {
    "duration": 11,
    "start_time": "2024-11-20T18:42:39.223Z"
   },
   {
    "duration": 13,
    "start_time": "2024-11-20T18:42:39.257Z"
   },
   {
    "duration": 29,
    "start_time": "2024-11-20T18:42:39.273Z"
   },
   {
    "duration": 15,
    "start_time": "2024-11-20T18:42:39.303Z"
   },
   {
    "duration": 1202,
    "start_time": "2024-11-20T19:01:14.039Z"
   },
   {
    "duration": 78,
    "start_time": "2024-11-20T19:01:15.242Z"
   },
   {
    "duration": 3,
    "start_time": "2024-11-20T19:01:15.321Z"
   },
   {
    "duration": 41,
    "start_time": "2024-11-20T19:01:15.326Z"
   },
   {
    "duration": 20,
    "start_time": "2024-11-20T19:01:15.369Z"
   },
   {
    "duration": 40,
    "start_time": "2024-11-20T19:01:15.390Z"
   },
   {
    "duration": 10,
    "start_time": "2024-11-20T19:01:15.431Z"
   },
   {
    "duration": 9,
    "start_time": "2024-11-20T19:01:15.443Z"
   },
   {
    "duration": 304,
    "start_time": "2024-11-20T19:01:15.454Z"
   },
   {
    "duration": 11,
    "start_time": "2024-11-20T19:01:15.761Z"
   },
   {
    "duration": 282,
    "start_time": "2024-11-20T19:01:15.774Z"
   },
   {
    "duration": 285,
    "start_time": "2024-11-20T19:01:16.057Z"
   },
   {
    "duration": 411,
    "start_time": "2024-11-20T19:01:16.343Z"
   },
   {
    "duration": 683,
    "start_time": "2024-11-20T19:01:16.756Z"
   },
   {
    "duration": 386,
    "start_time": "2024-11-20T19:01:17.440Z"
   },
   {
    "duration": 134,
    "start_time": "2024-11-20T19:01:17.828Z"
   },
   {
    "duration": 9,
    "start_time": "2024-11-20T19:01:17.963Z"
   },
   {
    "duration": 172,
    "start_time": "2024-11-20T19:01:17.974Z"
   },
   {
    "duration": 139,
    "start_time": "2024-11-20T19:01:18.148Z"
   },
   {
    "duration": 239,
    "start_time": "2024-11-20T19:01:18.289Z"
   },
   {
    "duration": 11,
    "start_time": "2024-11-20T19:01:18.530Z"
   },
   {
    "duration": 277,
    "start_time": "2024-11-20T19:01:18.543Z"
   },
   {
    "duration": 400,
    "start_time": "2024-11-20T19:01:18.824Z"
   },
   {
    "duration": 5,
    "start_time": "2024-11-20T19:01:19.226Z"
   },
   {
    "duration": 86,
    "start_time": "2024-11-20T19:01:19.233Z"
   },
   {
    "duration": 12,
    "start_time": "2024-11-20T19:01:19.321Z"
   },
   {
    "duration": 11,
    "start_time": "2024-11-20T19:01:19.334Z"
   },
   {
    "duration": 96,
    "start_time": "2024-11-20T19:01:19.349Z"
   },
   {
    "duration": 177,
    "start_time": "2024-11-20T19:01:19.447Z"
   },
   {
    "duration": 59,
    "start_time": "2024-11-21T15:26:29.575Z"
   },
   {
    "duration": 1494,
    "start_time": "2024-11-21T15:26:34.975Z"
   },
   {
    "duration": 210,
    "start_time": "2024-11-21T15:26:36.472Z"
   },
   {
    "duration": 4,
    "start_time": "2024-11-21T15:26:36.684Z"
   },
   {
    "duration": 28,
    "start_time": "2024-11-21T15:26:36.690Z"
   },
   {
    "duration": 23,
    "start_time": "2024-11-21T15:26:36.721Z"
   },
   {
    "duration": 46,
    "start_time": "2024-11-21T15:26:36.745Z"
   },
   {
    "duration": 58,
    "start_time": "2024-11-21T15:26:36.794Z"
   },
   {
    "duration": 77,
    "start_time": "2024-11-21T15:26:36.854Z"
   },
   {
    "duration": 295,
    "start_time": "2024-11-21T15:26:36.932Z"
   },
   {
    "duration": 12,
    "start_time": "2024-11-21T15:26:37.228Z"
   },
   {
    "duration": 326,
    "start_time": "2024-11-21T15:26:37.241Z"
   },
   {
    "duration": 210,
    "start_time": "2024-11-21T15:26:37.570Z"
   },
   {
    "duration": 379,
    "start_time": "2024-11-21T15:26:37.782Z"
   },
   {
    "duration": 374,
    "start_time": "2024-11-21T15:26:38.166Z"
   },
   {
    "duration": 353,
    "start_time": "2024-11-21T15:26:38.542Z"
   },
   {
    "duration": 127,
    "start_time": "2024-11-21T15:26:38.897Z"
   },
   {
    "duration": 9,
    "start_time": "2024-11-21T15:26:39.026Z"
   },
   {
    "duration": 154,
    "start_time": "2024-11-21T15:26:39.037Z"
   },
   {
    "duration": 184,
    "start_time": "2024-11-21T15:26:39.193Z"
   },
   {
    "duration": 529,
    "start_time": "2024-11-21T15:26:39.379Z"
   },
   {
    "duration": 64,
    "start_time": "2024-11-21T15:26:39.910Z"
   },
   {
    "duration": 531,
    "start_time": "2024-11-21T15:26:39.976Z"
   },
   {
    "duration": 388,
    "start_time": "2024-11-21T15:26:40.509Z"
   },
   {
    "duration": 6,
    "start_time": "2024-11-21T15:26:40.899Z"
   },
   {
    "duration": 97,
    "start_time": "2024-11-21T15:26:40.906Z"
   },
   {
    "duration": 76,
    "start_time": "2024-11-21T15:26:41.005Z"
   },
   {
    "duration": 14,
    "start_time": "2024-11-21T15:26:41.083Z"
   },
   {
    "duration": 107,
    "start_time": "2024-11-21T15:26:41.099Z"
   },
   {
    "duration": 76,
    "start_time": "2024-11-21T15:26:41.208Z"
   },
   {
    "duration": 222,
    "start_time": "2024-11-21T15:26:47.298Z"
   },
   {
    "duration": 227,
    "start_time": "2024-11-21T15:26:58.279Z"
   },
   {
    "duration": 21,
    "start_time": "2024-11-21T15:29:48.556Z"
   },
   {
    "duration": 47,
    "start_time": "2024-11-21T15:30:15.953Z"
   },
   {
    "duration": 29,
    "start_time": "2024-11-21T15:30:27.161Z"
   },
   {
    "duration": 23,
    "start_time": "2024-11-21T15:30:41.700Z"
   },
   {
    "duration": 1186,
    "start_time": "2024-11-21T15:31:19.012Z"
   },
   {
    "duration": 73,
    "start_time": "2024-11-21T15:31:20.199Z"
   },
   {
    "duration": 3,
    "start_time": "2024-11-21T15:31:20.275Z"
   },
   {
    "duration": 31,
    "start_time": "2024-11-21T15:31:20.279Z"
   },
   {
    "duration": 20,
    "start_time": "2024-11-21T15:31:20.311Z"
   },
   {
    "duration": 43,
    "start_time": "2024-11-21T15:31:20.332Z"
   },
   {
    "duration": 13,
    "start_time": "2024-11-21T15:31:20.377Z"
   },
   {
    "duration": 15,
    "start_time": "2024-11-21T15:31:20.392Z"
   },
   {
    "duration": 323,
    "start_time": "2024-11-21T15:31:20.410Z"
   },
   {
    "duration": 11,
    "start_time": "2024-11-21T15:31:20.735Z"
   },
   {
    "duration": 317,
    "start_time": "2024-11-21T15:31:20.748Z"
   },
   {
    "duration": 201,
    "start_time": "2024-11-21T15:31:21.069Z"
   },
   {
    "duration": 341,
    "start_time": "2024-11-21T15:31:21.271Z"
   },
   {
    "duration": 331,
    "start_time": "2024-11-21T15:31:21.614Z"
   },
   {
    "duration": 329,
    "start_time": "2024-11-21T15:31:21.947Z"
   },
   {
    "duration": 128,
    "start_time": "2024-11-21T15:31:22.277Z"
   },
   {
    "duration": 10,
    "start_time": "2024-11-21T15:31:22.406Z"
   },
   {
    "duration": 152,
    "start_time": "2024-11-21T15:31:22.418Z"
   },
   {
    "duration": 143,
    "start_time": "2024-11-21T15:31:22.572Z"
   },
   {
    "duration": 232,
    "start_time": "2024-11-21T15:31:22.717Z"
   },
   {
    "duration": 21,
    "start_time": "2024-11-21T15:31:22.950Z"
   },
   {
    "duration": 235,
    "start_time": "2024-11-21T15:31:22.972Z"
   },
   {
    "duration": 152,
    "start_time": "2024-11-21T15:31:23.210Z"
   },
   {
    "duration": 10,
    "start_time": "2024-11-21T15:31:23.363Z"
   },
   {
    "duration": 28,
    "start_time": "2024-11-21T15:31:23.374Z"
   },
   {
    "duration": 13,
    "start_time": "2024-11-21T15:31:23.404Z"
   },
   {
    "duration": 10,
    "start_time": "2024-11-21T15:31:23.419Z"
   },
   {
    "duration": 82,
    "start_time": "2024-11-21T15:31:23.431Z"
   },
   {
    "duration": 14,
    "start_time": "2024-11-21T15:31:23.515Z"
   },
   {
    "duration": 21,
    "start_time": "2024-11-21T15:31:33.385Z"
   },
   {
    "duration": 22,
    "start_time": "2024-11-21T15:32:25.743Z"
   },
   {
    "duration": 109,
    "start_time": "2024-11-21T15:34:23.181Z"
   },
   {
    "duration": 9,
    "start_time": "2024-11-21T15:34:44.674Z"
   },
   {
    "duration": 4,
    "start_time": "2024-11-21T15:34:54.203Z"
   },
   {
    "duration": 9,
    "start_time": "2024-11-21T15:35:59.155Z"
   },
   {
    "duration": 9,
    "start_time": "2024-11-21T15:37:15.358Z"
   },
   {
    "duration": 23,
    "start_time": "2024-11-21T15:37:35.117Z"
   },
   {
    "duration": 8,
    "start_time": "2024-11-21T15:37:42.550Z"
   },
   {
    "duration": 22,
    "start_time": "2024-11-21T15:38:04.977Z"
   },
   {
    "duration": 8,
    "start_time": "2024-11-21T15:38:26.360Z"
   },
   {
    "duration": 13,
    "start_time": "2024-11-21T15:38:55.561Z"
   },
   {
    "duration": 14,
    "start_time": "2024-11-21T15:39:40.255Z"
   },
   {
    "duration": 4,
    "start_time": "2024-11-21T15:41:21.794Z"
   },
   {
    "duration": 8,
    "start_time": "2024-11-21T15:41:29.602Z"
   },
   {
    "duration": 8,
    "start_time": "2024-11-21T15:41:51.153Z"
   },
   {
    "duration": 5,
    "start_time": "2024-11-21T15:41:56.672Z"
   },
   {
    "duration": 7,
    "start_time": "2024-11-21T15:42:09.892Z"
   },
   {
    "duration": 8,
    "start_time": "2024-11-21T15:42:19.896Z"
   },
   {
    "duration": 6,
    "start_time": "2024-11-21T15:42:23.901Z"
   },
   {
    "duration": 19,
    "start_time": "2024-11-21T15:45:56.198Z"
   },
   {
    "duration": 7,
    "start_time": "2024-11-21T15:49:18.512Z"
   },
   {
    "duration": 6,
    "start_time": "2024-11-21T15:49:57.494Z"
   },
   {
    "duration": 3,
    "start_time": "2024-11-21T15:57:32.570Z"
   },
   {
    "duration": 11,
    "start_time": "2024-11-21T16:12:32.366Z"
   },
   {
    "duration": 33,
    "start_time": "2024-11-21T16:12:50.005Z"
   },
   {
    "duration": 26,
    "start_time": "2024-11-21T16:16:47.098Z"
   },
   {
    "duration": 42,
    "start_time": "2024-11-21T16:17:23.540Z"
   },
   {
    "duration": 13,
    "start_time": "2024-11-21T16:17:35.100Z"
   },
   {
    "duration": 11,
    "start_time": "2024-11-21T16:17:54.561Z"
   },
   {
    "duration": 11,
    "start_time": "2024-11-21T16:17:59.974Z"
   },
   {
    "duration": 51,
    "start_time": "2024-11-21T16:28:50.636Z"
   },
   {
    "duration": 22,
    "start_time": "2024-11-21T16:29:08.034Z"
   },
   {
    "duration": 4,
    "start_time": "2024-11-21T16:38:51.924Z"
   },
   {
    "duration": 58,
    "start_time": "2024-11-21T16:38:57.891Z"
   },
   {
    "duration": 58,
    "start_time": "2024-11-21T16:39:18.323Z"
   },
   {
    "duration": 49,
    "start_time": "2024-11-21T16:39:36.006Z"
   },
   {
    "duration": 53,
    "start_time": "2024-11-21T16:39:55.361Z"
   },
   {
    "duration": 4,
    "start_time": "2024-11-21T16:40:15.868Z"
   },
   {
    "duration": 4,
    "start_time": "2024-11-21T16:40:38.816Z"
   },
   {
    "duration": 5,
    "start_time": "2024-11-21T16:40:50.749Z"
   },
   {
    "duration": 52,
    "start_time": "2024-11-21T16:40:56.696Z"
   },
   {
    "duration": 11,
    "start_time": "2024-11-21T16:48:51.351Z"
   },
   {
    "duration": 1307,
    "start_time": "2024-11-21T17:31:59.018Z"
   },
   {
    "duration": 77,
    "start_time": "2024-11-21T17:32:00.327Z"
   },
   {
    "duration": 4,
    "start_time": "2024-11-21T17:32:00.406Z"
   },
   {
    "duration": 31,
    "start_time": "2024-11-21T17:32:00.412Z"
   },
   {
    "duration": 20,
    "start_time": "2024-11-21T17:32:00.445Z"
   },
   {
    "duration": 26,
    "start_time": "2024-11-21T17:32:00.471Z"
   },
   {
    "duration": 17,
    "start_time": "2024-11-21T17:32:00.498Z"
   },
   {
    "duration": 14,
    "start_time": "2024-11-21T17:32:00.517Z"
   },
   {
    "duration": 359,
    "start_time": "2024-11-21T17:32:00.532Z"
   },
   {
    "duration": 18,
    "start_time": "2024-11-21T17:32:00.893Z"
   },
   {
    "duration": 7,
    "start_time": "2024-11-21T17:32:00.913Z"
   },
   {
    "duration": 15,
    "start_time": "2024-11-21T17:32:00.922Z"
   },
   {
    "duration": 341,
    "start_time": "2024-11-21T17:32:00.938Z"
   },
   {
    "duration": 3,
    "start_time": "2024-11-21T17:32:01.282Z"
   },
   {
    "duration": 261,
    "start_time": "2024-11-21T17:32:01.286Z"
   },
   {
    "duration": 324,
    "start_time": "2024-11-21T17:32:01.549Z"
   },
   {
    "duration": 371,
    "start_time": "2024-11-21T17:32:01.875Z"
   },
   {
    "duration": 355,
    "start_time": "2024-11-21T17:32:02.247Z"
   },
   {
    "duration": 135,
    "start_time": "2024-11-21T17:32:02.604Z"
   },
   {
    "duration": 10,
    "start_time": "2024-11-21T17:32:02.740Z"
   },
   {
    "duration": 170,
    "start_time": "2024-11-21T17:32:02.752Z"
   },
   {
    "duration": 152,
    "start_time": "2024-11-21T17:32:02.924Z"
   },
   {
    "duration": 257,
    "start_time": "2024-11-21T17:32:03.078Z"
   },
   {
    "duration": 11,
    "start_time": "2024-11-21T17:32:03.337Z"
   },
   {
    "duration": 258,
    "start_time": "2024-11-21T17:32:03.349Z"
   },
   {
    "duration": 200,
    "start_time": "2024-11-21T17:32:03.608Z"
   },
   {
    "duration": 8,
    "start_time": "2024-11-21T17:32:03.810Z"
   },
   {
    "duration": 43,
    "start_time": "2024-11-21T17:32:03.820Z"
   },
   {
    "duration": 16,
    "start_time": "2024-11-21T17:32:03.865Z"
   },
   {
    "duration": 14,
    "start_time": "2024-11-21T17:32:03.883Z"
   },
   {
    "duration": 43,
    "start_time": "2024-11-21T17:32:03.898Z"
   },
   {
    "duration": 35,
    "start_time": "2024-11-21T17:32:03.942Z"
   }
  ],
  "kernelspec": {
   "display_name": "Python 3 (ipykernel)",
   "language": "python",
   "name": "python3"
  },
  "language_info": {
   "codemirror_mode": {
    "name": "ipython",
    "version": 3
   },
   "file_extension": ".py",
   "mimetype": "text/x-python",
   "name": "python",
   "nbconvert_exporter": "python",
   "pygments_lexer": "ipython3",
   "version": "3.9.5"
  },
  "toc": {
   "base_numbering": 1,
   "nav_menu": {},
   "number_sections": true,
   "sideBar": true,
   "skip_h1_title": true,
   "title_cell": "Table of Contents",
   "title_sidebar": "Contents",
   "toc_cell": false,
   "toc_position": {
    "height": "calc(100% - 180px)",
    "left": "10px",
    "top": "150px",
    "width": "372.431px"
   },
   "toc_section_display": true,
   "toc_window_display": false
  }
 },
 "nbformat": 4,
 "nbformat_minor": 2
}
